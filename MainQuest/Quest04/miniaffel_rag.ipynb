{
  "nbformat": 4,
  "nbformat_minor": 0,
  "metadata": {
    "colab": {
      "provenance": [],
      "authorship_tag": "ABX9TyMD5/y2ZFUR5Mu8K/CvPHcJ",
      "include_colab_link": true
    },
    "kernelspec": {
      "name": "python3",
      "display_name": "Python 3"
    },
    "language_info": {
      "name": "python"
    }
  },
  "cells": [
    {
      "cell_type": "markdown",
      "metadata": {
        "id": "view-in-github",
        "colab_type": "text"
      },
      "source": [
        "<a href=\"https://colab.research.google.com/github/YSKIM-moya/AIFFEL_quest_rs/blob/master/MainQuest/Quest04/miniaffel_rag.ipynb\" target=\"_parent\"><img src=\"https://colab.research.google.com/assets/colab-badge.svg\" alt=\"Open In Colab\"/></a>"
      ]
    },
    {
      "cell_type": "code",
      "source": [
        "!pip install U -q langchain"
      ],
      "metadata": {
        "id": "IrHEl8Oibnmv"
      },
      "execution_count": null,
      "outputs": []
    },
    {
      "cell_type": "code",
      "source": [
        "!pip install -U -q langchain-google-genai"
      ],
      "metadata": {
        "colab": {
          "base_uri": "https://localhost:8080/"
        },
        "id": "8EmUsYdJSZmv",
        "outputId": "f289174d-a69b-44ef-9498-dbe8cc6964f2"
      },
      "execution_count": null,
      "outputs": [
        {
          "output_type": "stream",
          "name": "stdout",
          "text": [
            "Requirement already satisfied: langchain-google-genai in /usr/local/lib/python3.11/dist-packages (2.1.5)\n",
            "Requirement already satisfied: filetype<2.0.0,>=1.2.0 in /usr/local/lib/python3.11/dist-packages (from langchain-google-genai) (1.2.0)\n",
            "Requirement already satisfied: google-ai-generativelanguage<0.7.0,>=0.6.18 in /usr/local/lib/python3.11/dist-packages (from langchain-google-genai) (0.6.18)\n",
            "Requirement already satisfied: langchain-core<0.4.0,>=0.3.62 in /usr/local/lib/python3.11/dist-packages (from langchain-google-genai) (0.3.65)\n",
            "Requirement already satisfied: pydantic<3,>=2 in /usr/local/lib/python3.11/dist-packages (from langchain-google-genai) (2.11.7)\n",
            "Requirement already satisfied: google-api-core!=2.0.*,!=2.1.*,!=2.10.*,!=2.2.*,!=2.3.*,!=2.4.*,!=2.5.*,!=2.6.*,!=2.7.*,!=2.8.*,!=2.9.*,<3.0.0,>=1.34.1 in /usr/local/lib/python3.11/dist-packages (from google-api-core[grpc]!=2.0.*,!=2.1.*,!=2.10.*,!=2.2.*,!=2.3.*,!=2.4.*,!=2.5.*,!=2.6.*,!=2.7.*,!=2.8.*,!=2.9.*,<3.0.0,>=1.34.1->google-ai-generativelanguage<0.7.0,>=0.6.18->langchain-google-genai) (2.25.1)\n",
            "Requirement already satisfied: google-auth!=2.24.0,!=2.25.0,<3.0.0,>=2.14.1 in /usr/local/lib/python3.11/dist-packages (from google-ai-generativelanguage<0.7.0,>=0.6.18->langchain-google-genai) (2.38.0)\n",
            "Requirement already satisfied: proto-plus<2.0.0,>=1.22.3 in /usr/local/lib/python3.11/dist-packages (from google-ai-generativelanguage<0.7.0,>=0.6.18->langchain-google-genai) (1.26.1)\n",
            "Requirement already satisfied: protobuf!=4.21.0,!=4.21.1,!=4.21.2,!=4.21.3,!=4.21.4,!=4.21.5,<7.0.0,>=3.20.2 in /usr/local/lib/python3.11/dist-packages (from google-ai-generativelanguage<0.7.0,>=0.6.18->langchain-google-genai) (5.29.5)\n",
            "Requirement already satisfied: langsmith<0.4,>=0.3.45 in /usr/local/lib/python3.11/dist-packages (from langchain-core<0.4.0,>=0.3.62->langchain-google-genai) (0.3.45)\n",
            "Requirement already satisfied: tenacity!=8.4.0,<10.0.0,>=8.1.0 in /usr/local/lib/python3.11/dist-packages (from langchain-core<0.4.0,>=0.3.62->langchain-google-genai) (9.1.2)\n",
            "Requirement already satisfied: jsonpatch<2.0,>=1.33 in /usr/local/lib/python3.11/dist-packages (from langchain-core<0.4.0,>=0.3.62->langchain-google-genai) (1.33)\n",
            "Requirement already satisfied: PyYAML>=5.3 in /usr/local/lib/python3.11/dist-packages (from langchain-core<0.4.0,>=0.3.62->langchain-google-genai) (6.0.2)\n",
            "Requirement already satisfied: packaging<25,>=23.2 in /usr/local/lib/python3.11/dist-packages (from langchain-core<0.4.0,>=0.3.62->langchain-google-genai) (24.2)\n",
            "Requirement already satisfied: typing-extensions>=4.7 in /usr/local/lib/python3.11/dist-packages (from langchain-core<0.4.0,>=0.3.62->langchain-google-genai) (4.14.0)\n",
            "Requirement already satisfied: annotated-types>=0.6.0 in /usr/local/lib/python3.11/dist-packages (from pydantic<3,>=2->langchain-google-genai) (0.7.0)\n",
            "Requirement already satisfied: pydantic-core==2.33.2 in /usr/local/lib/python3.11/dist-packages (from pydantic<3,>=2->langchain-google-genai) (2.33.2)\n",
            "Requirement already satisfied: typing-inspection>=0.4.0 in /usr/local/lib/python3.11/dist-packages (from pydantic<3,>=2->langchain-google-genai) (0.4.1)\n",
            "Requirement already satisfied: googleapis-common-protos<2.0.0,>=1.56.2 in /usr/local/lib/python3.11/dist-packages (from google-api-core!=2.0.*,!=2.1.*,!=2.10.*,!=2.2.*,!=2.3.*,!=2.4.*,!=2.5.*,!=2.6.*,!=2.7.*,!=2.8.*,!=2.9.*,<3.0.0,>=1.34.1->google-api-core[grpc]!=2.0.*,!=2.1.*,!=2.10.*,!=2.2.*,!=2.3.*,!=2.4.*,!=2.5.*,!=2.6.*,!=2.7.*,!=2.8.*,!=2.9.*,<3.0.0,>=1.34.1->google-ai-generativelanguage<0.7.0,>=0.6.18->langchain-google-genai) (1.70.0)\n",
            "Requirement already satisfied: requests<3.0.0,>=2.18.0 in /usr/local/lib/python3.11/dist-packages (from google-api-core!=2.0.*,!=2.1.*,!=2.10.*,!=2.2.*,!=2.3.*,!=2.4.*,!=2.5.*,!=2.6.*,!=2.7.*,!=2.8.*,!=2.9.*,<3.0.0,>=1.34.1->google-api-core[grpc]!=2.0.*,!=2.1.*,!=2.10.*,!=2.2.*,!=2.3.*,!=2.4.*,!=2.5.*,!=2.6.*,!=2.7.*,!=2.8.*,!=2.9.*,<3.0.0,>=1.34.1->google-ai-generativelanguage<0.7.0,>=0.6.18->langchain-google-genai) (2.32.3)\n",
            "Requirement already satisfied: grpcio<2.0.0,>=1.33.2 in /usr/local/lib/python3.11/dist-packages (from google-api-core[grpc]!=2.0.*,!=2.1.*,!=2.10.*,!=2.2.*,!=2.3.*,!=2.4.*,!=2.5.*,!=2.6.*,!=2.7.*,!=2.8.*,!=2.9.*,<3.0.0,>=1.34.1->google-ai-generativelanguage<0.7.0,>=0.6.18->langchain-google-genai) (1.73.0)\n",
            "Requirement already satisfied: grpcio-status<2.0.0,>=1.33.2 in /usr/local/lib/python3.11/dist-packages (from google-api-core[grpc]!=2.0.*,!=2.1.*,!=2.10.*,!=2.2.*,!=2.3.*,!=2.4.*,!=2.5.*,!=2.6.*,!=2.7.*,!=2.8.*,!=2.9.*,<3.0.0,>=1.34.1->google-ai-generativelanguage<0.7.0,>=0.6.18->langchain-google-genai) (1.71.0)\n",
            "Requirement already satisfied: cachetools<6.0,>=2.0.0 in /usr/local/lib/python3.11/dist-packages (from google-auth!=2.24.0,!=2.25.0,<3.0.0,>=2.14.1->google-ai-generativelanguage<0.7.0,>=0.6.18->langchain-google-genai) (5.5.2)\n",
            "Requirement already satisfied: pyasn1-modules>=0.2.1 in /usr/local/lib/python3.11/dist-packages (from google-auth!=2.24.0,!=2.25.0,<3.0.0,>=2.14.1->google-ai-generativelanguage<0.7.0,>=0.6.18->langchain-google-genai) (0.4.2)\n",
            "Requirement already satisfied: rsa<5,>=3.1.4 in /usr/local/lib/python3.11/dist-packages (from google-auth!=2.24.0,!=2.25.0,<3.0.0,>=2.14.1->google-ai-generativelanguage<0.7.0,>=0.6.18->langchain-google-genai) (4.9.1)\n",
            "Requirement already satisfied: jsonpointer>=1.9 in /usr/local/lib/python3.11/dist-packages (from jsonpatch<2.0,>=1.33->langchain-core<0.4.0,>=0.3.62->langchain-google-genai) (3.0.0)\n",
            "Requirement already satisfied: httpx<1,>=0.23.0 in /usr/local/lib/python3.11/dist-packages (from langsmith<0.4,>=0.3.45->langchain-core<0.4.0,>=0.3.62->langchain-google-genai) (0.28.1)\n",
            "Requirement already satisfied: orjson<4.0.0,>=3.9.14 in /usr/local/lib/python3.11/dist-packages (from langsmith<0.4,>=0.3.45->langchain-core<0.4.0,>=0.3.62->langchain-google-genai) (3.10.18)\n",
            "Requirement already satisfied: requests-toolbelt<2.0.0,>=1.0.0 in /usr/local/lib/python3.11/dist-packages (from langsmith<0.4,>=0.3.45->langchain-core<0.4.0,>=0.3.62->langchain-google-genai) (1.0.0)\n",
            "Requirement already satisfied: zstandard<0.24.0,>=0.23.0 in /usr/local/lib/python3.11/dist-packages (from langsmith<0.4,>=0.3.45->langchain-core<0.4.0,>=0.3.62->langchain-google-genai) (0.23.0)\n",
            "Requirement already satisfied: anyio in /usr/local/lib/python3.11/dist-packages (from httpx<1,>=0.23.0->langsmith<0.4,>=0.3.45->langchain-core<0.4.0,>=0.3.62->langchain-google-genai) (4.9.0)\n",
            "Requirement already satisfied: certifi in /usr/local/lib/python3.11/dist-packages (from httpx<1,>=0.23.0->langsmith<0.4,>=0.3.45->langchain-core<0.4.0,>=0.3.62->langchain-google-genai) (2025.6.15)\n",
            "Requirement already satisfied: httpcore==1.* in /usr/local/lib/python3.11/dist-packages (from httpx<1,>=0.23.0->langsmith<0.4,>=0.3.45->langchain-core<0.4.0,>=0.3.62->langchain-google-genai) (1.0.9)\n",
            "Requirement already satisfied: idna in /usr/local/lib/python3.11/dist-packages (from httpx<1,>=0.23.0->langsmith<0.4,>=0.3.45->langchain-core<0.4.0,>=0.3.62->langchain-google-genai) (3.10)\n",
            "Requirement already satisfied: h11>=0.16 in /usr/local/lib/python3.11/dist-packages (from httpcore==1.*->httpx<1,>=0.23.0->langsmith<0.4,>=0.3.45->langchain-core<0.4.0,>=0.3.62->langchain-google-genai) (0.16.0)\n",
            "Requirement already satisfied: pyasn1<0.7.0,>=0.6.1 in /usr/local/lib/python3.11/dist-packages (from pyasn1-modules>=0.2.1->google-auth!=2.24.0,!=2.25.0,<3.0.0,>=2.14.1->google-ai-generativelanguage<0.7.0,>=0.6.18->langchain-google-genai) (0.6.1)\n",
            "Requirement already satisfied: charset-normalizer<4,>=2 in /usr/local/lib/python3.11/dist-packages (from requests<3.0.0,>=2.18.0->google-api-core!=2.0.*,!=2.1.*,!=2.10.*,!=2.2.*,!=2.3.*,!=2.4.*,!=2.5.*,!=2.6.*,!=2.7.*,!=2.8.*,!=2.9.*,<3.0.0,>=1.34.1->google-api-core[grpc]!=2.0.*,!=2.1.*,!=2.10.*,!=2.2.*,!=2.3.*,!=2.4.*,!=2.5.*,!=2.6.*,!=2.7.*,!=2.8.*,!=2.9.*,<3.0.0,>=1.34.1->google-ai-generativelanguage<0.7.0,>=0.6.18->langchain-google-genai) (3.4.2)\n",
            "Requirement already satisfied: urllib3<3,>=1.21.1 in /usr/local/lib/python3.11/dist-packages (from requests<3.0.0,>=2.18.0->google-api-core!=2.0.*,!=2.1.*,!=2.10.*,!=2.2.*,!=2.3.*,!=2.4.*,!=2.5.*,!=2.6.*,!=2.7.*,!=2.8.*,!=2.9.*,<3.0.0,>=1.34.1->google-api-core[grpc]!=2.0.*,!=2.1.*,!=2.10.*,!=2.2.*,!=2.3.*,!=2.4.*,!=2.5.*,!=2.6.*,!=2.7.*,!=2.8.*,!=2.9.*,<3.0.0,>=1.34.1->google-ai-generativelanguage<0.7.0,>=0.6.18->langchain-google-genai) (2.4.0)\n",
            "Requirement already satisfied: sniffio>=1.1 in /usr/local/lib/python3.11/dist-packages (from anyio->httpx<1,>=0.23.0->langsmith<0.4,>=0.3.45->langchain-core<0.4.0,>=0.3.62->langchain-google-genai) (1.3.1)\n"
          ]
        }
      ]
    },
    {
      "cell_type": "code",
      "source": [
        "!pip install U -q langchain-community langchain-core"
      ],
      "metadata": {
        "id": "sBS1QwgZSgr4"
      },
      "execution_count": null,
      "outputs": []
    },
    {
      "cell_type": "code",
      "source": [
        "!pip install chromadb"
      ],
      "metadata": {
        "colab": {
          "base_uri": "https://localhost:8080/"
        },
        "id": "0-9ee0Sr-oFE",
        "outputId": "f7c0eb1c-328b-4f27-c072-bfa3db01bbe5"
      },
      "execution_count": null,
      "outputs": [
        {
          "output_type": "stream",
          "name": "stdout",
          "text": [
            "Collecting chromadb\n",
            "  Downloading chromadb-1.0.13-cp39-abi3-manylinux_2_17_x86_64.manylinux2014_x86_64.whl.metadata (7.0 kB)\n",
            "Requirement already satisfied: build>=1.0.3 in /usr/local/lib/python3.11/dist-packages (from chromadb) (1.2.2.post1)\n",
            "Requirement already satisfied: pydantic>=1.9 in /usr/local/lib/python3.11/dist-packages (from chromadb) (2.11.7)\n",
            "Collecting pybase64>=1.4.1 (from chromadb)\n",
            "  Downloading pybase64-1.4.1-cp311-cp311-manylinux_2_5_x86_64.manylinux1_x86_64.manylinux_2_17_x86_64.manylinux2014_x86_64.whl.metadata (8.4 kB)\n",
            "Requirement already satisfied: uvicorn>=0.18.3 in /usr/local/lib/python3.11/dist-packages (from uvicorn[standard]>=0.18.3->chromadb) (0.34.3)\n",
            "Requirement already satisfied: numpy>=1.22.5 in /usr/local/lib/python3.11/dist-packages (from chromadb) (2.0.2)\n",
            "Collecting posthog>=2.4.0 (from chromadb)\n",
            "  Downloading posthog-5.1.0-py3-none-any.whl.metadata (4.9 kB)\n",
            "Requirement already satisfied: typing-extensions>=4.5.0 in /usr/local/lib/python3.11/dist-packages (from chromadb) (4.14.0)\n",
            "Collecting onnxruntime>=1.14.1 (from chromadb)\n",
            "  Downloading onnxruntime-1.22.0-cp311-cp311-manylinux_2_27_x86_64.manylinux_2_28_x86_64.whl.metadata (4.5 kB)\n",
            "Collecting opentelemetry-api>=1.2.0 (from chromadb)\n",
            "  Downloading opentelemetry_api-1.34.1-py3-none-any.whl.metadata (1.5 kB)\n",
            "Collecting opentelemetry-exporter-otlp-proto-grpc>=1.2.0 (from chromadb)\n",
            "  Downloading opentelemetry_exporter_otlp_proto_grpc-1.34.1-py3-none-any.whl.metadata (2.4 kB)\n",
            "Collecting opentelemetry-sdk>=1.2.0 (from chromadb)\n",
            "  Downloading opentelemetry_sdk-1.34.1-py3-none-any.whl.metadata (1.6 kB)\n",
            "Requirement already satisfied: tokenizers>=0.13.2 in /usr/local/lib/python3.11/dist-packages (from chromadb) (0.21.1)\n",
            "Collecting pypika>=0.48.9 (from chromadb)\n",
            "  Downloading PyPika-0.48.9.tar.gz (67 kB)\n",
            "\u001b[2K     \u001b[90m━━━━━━━━━━━━━━━━━━━━━━━━━━━━━━━━━━━━━━━━\u001b[0m \u001b[32m67.3/67.3 kB\u001b[0m \u001b[31m2.5 MB/s\u001b[0m eta \u001b[36m0:00:00\u001b[0m\n",
            "\u001b[?25h  Installing build dependencies ... \u001b[?25l\u001b[?25hdone\n",
            "  Getting requirements to build wheel ... \u001b[?25l\u001b[?25hdone\n",
            "  Preparing metadata (pyproject.toml) ... \u001b[?25l\u001b[?25hdone\n",
            "Requirement already satisfied: tqdm>=4.65.0 in /usr/local/lib/python3.11/dist-packages (from chromadb) (4.67.1)\n",
            "Collecting overrides>=7.3.1 (from chromadb)\n",
            "  Downloading overrides-7.7.0-py3-none-any.whl.metadata (5.8 kB)\n",
            "Requirement already satisfied: importlib-resources in /usr/local/lib/python3.11/dist-packages (from chromadb) (6.5.2)\n",
            "Requirement already satisfied: grpcio>=1.58.0 in /usr/local/lib/python3.11/dist-packages (from chromadb) (1.73.0)\n",
            "Collecting bcrypt>=4.0.1 (from chromadb)\n",
            "  Downloading bcrypt-4.3.0-cp39-abi3-manylinux_2_34_x86_64.whl.metadata (10 kB)\n",
            "Requirement already satisfied: typer>=0.9.0 in /usr/local/lib/python3.11/dist-packages (from chromadb) (0.16.0)\n",
            "Collecting kubernetes>=28.1.0 (from chromadb)\n",
            "  Downloading kubernetes-33.1.0-py2.py3-none-any.whl.metadata (1.7 kB)\n",
            "Requirement already satisfied: tenacity>=8.2.3 in /usr/local/lib/python3.11/dist-packages (from chromadb) (9.1.2)\n",
            "Requirement already satisfied: pyyaml>=6.0.0 in /usr/local/lib/python3.11/dist-packages (from chromadb) (6.0.2)\n",
            "Collecting mmh3>=4.0.1 (from chromadb)\n",
            "  Downloading mmh3-5.1.0-cp311-cp311-manylinux_2_5_x86_64.manylinux1_x86_64.manylinux_2_17_x86_64.manylinux2014_x86_64.whl.metadata (16 kB)\n",
            "Requirement already satisfied: orjson>=3.9.12 in /usr/local/lib/python3.11/dist-packages (from chromadb) (3.10.18)\n",
            "Requirement already satisfied: httpx>=0.27.0 in /usr/local/lib/python3.11/dist-packages (from chromadb) (0.28.1)\n",
            "Requirement already satisfied: rich>=10.11.0 in /usr/local/lib/python3.11/dist-packages (from chromadb) (13.9.4)\n",
            "Requirement already satisfied: jsonschema>=4.19.0 in /usr/local/lib/python3.11/dist-packages (from chromadb) (4.24.0)\n",
            "Requirement already satisfied: packaging>=19.1 in /usr/local/lib/python3.11/dist-packages (from build>=1.0.3->chromadb) (24.2)\n",
            "Requirement already satisfied: pyproject_hooks in /usr/local/lib/python3.11/dist-packages (from build>=1.0.3->chromadb) (1.2.0)\n",
            "Requirement already satisfied: anyio in /usr/local/lib/python3.11/dist-packages (from httpx>=0.27.0->chromadb) (4.9.0)\n",
            "Requirement already satisfied: certifi in /usr/local/lib/python3.11/dist-packages (from httpx>=0.27.0->chromadb) (2025.6.15)\n",
            "Requirement already satisfied: httpcore==1.* in /usr/local/lib/python3.11/dist-packages (from httpx>=0.27.0->chromadb) (1.0.9)\n",
            "Requirement already satisfied: idna in /usr/local/lib/python3.11/dist-packages (from httpx>=0.27.0->chromadb) (3.10)\n",
            "Requirement already satisfied: h11>=0.16 in /usr/local/lib/python3.11/dist-packages (from httpcore==1.*->httpx>=0.27.0->chromadb) (0.16.0)\n",
            "Requirement already satisfied: attrs>=22.2.0 in /usr/local/lib/python3.11/dist-packages (from jsonschema>=4.19.0->chromadb) (25.3.0)\n",
            "Requirement already satisfied: jsonschema-specifications>=2023.03.6 in /usr/local/lib/python3.11/dist-packages (from jsonschema>=4.19.0->chromadb) (2025.4.1)\n",
            "Requirement already satisfied: referencing>=0.28.4 in /usr/local/lib/python3.11/dist-packages (from jsonschema>=4.19.0->chromadb) (0.36.2)\n",
            "Requirement already satisfied: rpds-py>=0.7.1 in /usr/local/lib/python3.11/dist-packages (from jsonschema>=4.19.0->chromadb) (0.25.1)\n",
            "Requirement already satisfied: six>=1.9.0 in /usr/local/lib/python3.11/dist-packages (from kubernetes>=28.1.0->chromadb) (1.17.0)\n",
            "Requirement already satisfied: python-dateutil>=2.5.3 in /usr/local/lib/python3.11/dist-packages (from kubernetes>=28.1.0->chromadb) (2.9.0.post0)\n",
            "Requirement already satisfied: google-auth>=1.0.1 in /usr/local/lib/python3.11/dist-packages (from kubernetes>=28.1.0->chromadb) (2.38.0)\n",
            "Requirement already satisfied: websocket-client!=0.40.0,!=0.41.*,!=0.42.*,>=0.32.0 in /usr/local/lib/python3.11/dist-packages (from kubernetes>=28.1.0->chromadb) (1.8.0)\n",
            "Requirement already satisfied: requests in /usr/local/lib/python3.11/dist-packages (from kubernetes>=28.1.0->chromadb) (2.32.3)\n",
            "Requirement already satisfied: requests-oauthlib in /usr/local/lib/python3.11/dist-packages (from kubernetes>=28.1.0->chromadb) (2.0.0)\n",
            "Requirement already satisfied: oauthlib>=3.2.2 in /usr/local/lib/python3.11/dist-packages (from kubernetes>=28.1.0->chromadb) (3.2.2)\n",
            "Requirement already satisfied: urllib3>=1.24.2 in /usr/local/lib/python3.11/dist-packages (from kubernetes>=28.1.0->chromadb) (2.4.0)\n",
            "Collecting durationpy>=0.7 (from kubernetes>=28.1.0->chromadb)\n",
            "  Downloading durationpy-0.10-py3-none-any.whl.metadata (340 bytes)\n",
            "Collecting coloredlogs (from onnxruntime>=1.14.1->chromadb)\n",
            "  Downloading coloredlogs-15.0.1-py2.py3-none-any.whl.metadata (12 kB)\n",
            "Requirement already satisfied: flatbuffers in /usr/local/lib/python3.11/dist-packages (from onnxruntime>=1.14.1->chromadb) (25.2.10)\n",
            "Requirement already satisfied: protobuf in /usr/local/lib/python3.11/dist-packages (from onnxruntime>=1.14.1->chromadb) (5.29.5)\n",
            "Requirement already satisfied: sympy in /usr/local/lib/python3.11/dist-packages (from onnxruntime>=1.14.1->chromadb) (1.13.1)\n",
            "Requirement already satisfied: importlib-metadata<8.8.0,>=6.0 in /usr/local/lib/python3.11/dist-packages (from opentelemetry-api>=1.2.0->chromadb) (8.7.0)\n",
            "Requirement already satisfied: googleapis-common-protos~=1.52 in /usr/local/lib/python3.11/dist-packages (from opentelemetry-exporter-otlp-proto-grpc>=1.2.0->chromadb) (1.70.0)\n",
            "Collecting opentelemetry-exporter-otlp-proto-common==1.34.1 (from opentelemetry-exporter-otlp-proto-grpc>=1.2.0->chromadb)\n",
            "  Downloading opentelemetry_exporter_otlp_proto_common-1.34.1-py3-none-any.whl.metadata (1.9 kB)\n",
            "Collecting opentelemetry-proto==1.34.1 (from opentelemetry-exporter-otlp-proto-grpc>=1.2.0->chromadb)\n",
            "  Downloading opentelemetry_proto-1.34.1-py3-none-any.whl.metadata (2.4 kB)\n",
            "Collecting opentelemetry-semantic-conventions==0.55b1 (from opentelemetry-sdk>=1.2.0->chromadb)\n",
            "  Downloading opentelemetry_semantic_conventions-0.55b1-py3-none-any.whl.metadata (2.5 kB)\n",
            "Collecting backoff>=1.10.0 (from posthog>=2.4.0->chromadb)\n",
            "  Downloading backoff-2.2.1-py3-none-any.whl.metadata (14 kB)\n",
            "Requirement already satisfied: distro>=1.5.0 in /usr/local/lib/python3.11/dist-packages (from posthog>=2.4.0->chromadb) (1.9.0)\n",
            "Requirement already satisfied: annotated-types>=0.6.0 in /usr/local/lib/python3.11/dist-packages (from pydantic>=1.9->chromadb) (0.7.0)\n",
            "Requirement already satisfied: pydantic-core==2.33.2 in /usr/local/lib/python3.11/dist-packages (from pydantic>=1.9->chromadb) (2.33.2)\n",
            "Requirement already satisfied: typing-inspection>=0.4.0 in /usr/local/lib/python3.11/dist-packages (from pydantic>=1.9->chromadb) (0.4.1)\n",
            "Requirement already satisfied: markdown-it-py>=2.2.0 in /usr/local/lib/python3.11/dist-packages (from rich>=10.11.0->chromadb) (3.0.0)\n",
            "Requirement already satisfied: pygments<3.0.0,>=2.13.0 in /usr/local/lib/python3.11/dist-packages (from rich>=10.11.0->chromadb) (2.19.1)\n",
            "Requirement already satisfied: huggingface-hub<1.0,>=0.16.4 in /usr/local/lib/python3.11/dist-packages (from tokenizers>=0.13.2->chromadb) (0.33.0)\n",
            "Requirement already satisfied: click>=8.0.0 in /usr/local/lib/python3.11/dist-packages (from typer>=0.9.0->chromadb) (8.2.1)\n",
            "Requirement already satisfied: shellingham>=1.3.0 in /usr/local/lib/python3.11/dist-packages (from typer>=0.9.0->chromadb) (1.5.4)\n",
            "Collecting httptools>=0.6.3 (from uvicorn[standard]>=0.18.3->chromadb)\n",
            "  Downloading httptools-0.6.4-cp311-cp311-manylinux_2_5_x86_64.manylinux1_x86_64.manylinux_2_17_x86_64.manylinux2014_x86_64.whl.metadata (3.6 kB)\n",
            "Requirement already satisfied: python-dotenv>=0.13 in /usr/local/lib/python3.11/dist-packages (from uvicorn[standard]>=0.18.3->chromadb) (1.1.0)\n",
            "Collecting uvloop>=0.15.1 (from uvicorn[standard]>=0.18.3->chromadb)\n",
            "  Downloading uvloop-0.21.0-cp311-cp311-manylinux_2_17_x86_64.manylinux2014_x86_64.whl.metadata (4.9 kB)\n",
            "Collecting watchfiles>=0.13 (from uvicorn[standard]>=0.18.3->chromadb)\n",
            "  Downloading watchfiles-1.1.0-cp311-cp311-manylinux_2_17_x86_64.manylinux2014_x86_64.whl.metadata (4.9 kB)\n",
            "Requirement already satisfied: websockets>=10.4 in /usr/local/lib/python3.11/dist-packages (from uvicorn[standard]>=0.18.3->chromadb) (15.0.1)\n",
            "Requirement already satisfied: cachetools<6.0,>=2.0.0 in /usr/local/lib/python3.11/dist-packages (from google-auth>=1.0.1->kubernetes>=28.1.0->chromadb) (5.5.2)\n",
            "Requirement already satisfied: pyasn1-modules>=0.2.1 in /usr/local/lib/python3.11/dist-packages (from google-auth>=1.0.1->kubernetes>=28.1.0->chromadb) (0.4.2)\n",
            "Requirement already satisfied: rsa<5,>=3.1.4 in /usr/local/lib/python3.11/dist-packages (from google-auth>=1.0.1->kubernetes>=28.1.0->chromadb) (4.9.1)\n",
            "Requirement already satisfied: filelock in /usr/local/lib/python3.11/dist-packages (from huggingface-hub<1.0,>=0.16.4->tokenizers>=0.13.2->chromadb) (3.18.0)\n",
            "Requirement already satisfied: fsspec>=2023.5.0 in /usr/local/lib/python3.11/dist-packages (from huggingface-hub<1.0,>=0.16.4->tokenizers>=0.13.2->chromadb) (2025.3.2)\n",
            "Requirement already satisfied: hf-xet<2.0.0,>=1.1.2 in /usr/local/lib/python3.11/dist-packages (from huggingface-hub<1.0,>=0.16.4->tokenizers>=0.13.2->chromadb) (1.1.3)\n",
            "Requirement already satisfied: zipp>=3.20 in /usr/local/lib/python3.11/dist-packages (from importlib-metadata<8.8.0,>=6.0->opentelemetry-api>=1.2.0->chromadb) (3.23.0)\n",
            "Requirement already satisfied: mdurl~=0.1 in /usr/local/lib/python3.11/dist-packages (from markdown-it-py>=2.2.0->rich>=10.11.0->chromadb) (0.1.2)\n",
            "Requirement already satisfied: charset-normalizer<4,>=2 in /usr/local/lib/python3.11/dist-packages (from requests->kubernetes>=28.1.0->chromadb) (3.4.2)\n",
            "Requirement already satisfied: sniffio>=1.1 in /usr/local/lib/python3.11/dist-packages (from anyio->httpx>=0.27.0->chromadb) (1.3.1)\n",
            "Collecting humanfriendly>=9.1 (from coloredlogs->onnxruntime>=1.14.1->chromadb)\n",
            "  Downloading humanfriendly-10.0-py2.py3-none-any.whl.metadata (9.2 kB)\n",
            "Requirement already satisfied: mpmath<1.4,>=1.1.0 in /usr/local/lib/python3.11/dist-packages (from sympy->onnxruntime>=1.14.1->chromadb) (1.3.0)\n",
            "Requirement already satisfied: pyasn1<0.7.0,>=0.6.1 in /usr/local/lib/python3.11/dist-packages (from pyasn1-modules>=0.2.1->google-auth>=1.0.1->kubernetes>=28.1.0->chromadb) (0.6.1)\n",
            "Downloading chromadb-1.0.13-cp39-abi3-manylinux_2_17_x86_64.manylinux2014_x86_64.whl (19.3 MB)\n",
            "\u001b[2K   \u001b[90m━━━━━━━━━━━━━━━━━━━━━━━━━━━━━━━━━━━━━━━━\u001b[0m \u001b[32m19.3/19.3 MB\u001b[0m \u001b[31m78.8 MB/s\u001b[0m eta \u001b[36m0:00:00\u001b[0m\n",
            "\u001b[?25hDownloading bcrypt-4.3.0-cp39-abi3-manylinux_2_34_x86_64.whl (284 kB)\n",
            "\u001b[2K   \u001b[90m━━━━━━━━━━━━━━━━━━━━━━━━━━━━━━━━━━━━━━━━\u001b[0m \u001b[32m284.2/284.2 kB\u001b[0m \u001b[31m18.1 MB/s\u001b[0m eta \u001b[36m0:00:00\u001b[0m\n",
            "\u001b[?25hDownloading kubernetes-33.1.0-py2.py3-none-any.whl (1.9 MB)\n",
            "\u001b[2K   \u001b[90m━━━━━━━━━━━━━━━━━━━━━━━━━━━━━━━━━━━━━━━━\u001b[0m \u001b[32m1.9/1.9 MB\u001b[0m \u001b[31m64.5 MB/s\u001b[0m eta \u001b[36m0:00:00\u001b[0m\n",
            "\u001b[?25hDownloading mmh3-5.1.0-cp311-cp311-manylinux_2_5_x86_64.manylinux1_x86_64.manylinux_2_17_x86_64.manylinux2014_x86_64.whl (101 kB)\n",
            "\u001b[2K   \u001b[90m━━━━━━━━━━━━━━━━━━━━━━━━━━━━━━━━━━━━━━━━\u001b[0m \u001b[32m101.6/101.6 kB\u001b[0m \u001b[31m7.3 MB/s\u001b[0m eta \u001b[36m0:00:00\u001b[0m\n",
            "\u001b[?25hDownloading onnxruntime-1.22.0-cp311-cp311-manylinux_2_27_x86_64.manylinux_2_28_x86_64.whl (16.4 MB)\n",
            "\u001b[2K   \u001b[90m━━━━━━━━━━━━━━━━━━━━━━━━━━━━━━━━━━━━━━━━\u001b[0m \u001b[32m16.4/16.4 MB\u001b[0m \u001b[31m73.5 MB/s\u001b[0m eta \u001b[36m0:00:00\u001b[0m\n",
            "\u001b[?25hDownloading opentelemetry_api-1.34.1-py3-none-any.whl (65 kB)\n",
            "\u001b[2K   \u001b[90m━━━━━━━━━━━━━━━━━━━━━━━━━━━━━━━━━━━━━━━━\u001b[0m \u001b[32m65.8/65.8 kB\u001b[0m \u001b[31m4.4 MB/s\u001b[0m eta \u001b[36m0:00:00\u001b[0m\n",
            "\u001b[?25hDownloading opentelemetry_exporter_otlp_proto_grpc-1.34.1-py3-none-any.whl (18 kB)\n",
            "Downloading opentelemetry_exporter_otlp_proto_common-1.34.1-py3-none-any.whl (18 kB)\n",
            "Downloading opentelemetry_proto-1.34.1-py3-none-any.whl (55 kB)\n",
            "\u001b[2K   \u001b[90m━━━━━━━━━━━━━━━━━━━━━━━━━━━━━━━━━━━━━━━━\u001b[0m \u001b[32m55.7/55.7 kB\u001b[0m \u001b[31m3.9 MB/s\u001b[0m eta \u001b[36m0:00:00\u001b[0m\n",
            "\u001b[?25hDownloading opentelemetry_sdk-1.34.1-py3-none-any.whl (118 kB)\n",
            "\u001b[2K   \u001b[90m━━━━━━━━━━━━━━━━━━━━━━━━━━━━━━━━━━━━━━━━\u001b[0m \u001b[32m118.5/118.5 kB\u001b[0m \u001b[31m8.4 MB/s\u001b[0m eta \u001b[36m0:00:00\u001b[0m\n",
            "\u001b[?25hDownloading opentelemetry_semantic_conventions-0.55b1-py3-none-any.whl (196 kB)\n",
            "\u001b[2K   \u001b[90m━━━━━━━━━━━━━━━━━━━━━━━━━━━━━━━━━━━━━━━━\u001b[0m \u001b[32m196.2/196.2 kB\u001b[0m \u001b[31m12.0 MB/s\u001b[0m eta \u001b[36m0:00:00\u001b[0m\n",
            "\u001b[?25hDownloading overrides-7.7.0-py3-none-any.whl (17 kB)\n",
            "Downloading posthog-5.1.0-py3-none-any.whl (103 kB)\n",
            "\u001b[2K   \u001b[90m━━━━━━━━━━━━━━━━━━━━━━━━━━━━━━━━━━━━━━━━\u001b[0m \u001b[32m103.4/103.4 kB\u001b[0m \u001b[31m6.6 MB/s\u001b[0m eta \u001b[36m0:00:00\u001b[0m\n",
            "\u001b[?25hDownloading pybase64-1.4.1-cp311-cp311-manylinux_2_5_x86_64.manylinux1_x86_64.manylinux_2_17_x86_64.manylinux2014_x86_64.whl (71 kB)\n",
            "\u001b[2K   \u001b[90m━━━━━━━━━━━━━━━━━━━━━━━━━━━━━━━━━━━━━━━━\u001b[0m \u001b[32m71.2/71.2 kB\u001b[0m \u001b[31m3.5 MB/s\u001b[0m eta \u001b[36m0:00:00\u001b[0m\n",
            "\u001b[?25hDownloading backoff-2.2.1-py3-none-any.whl (15 kB)\n",
            "Downloading durationpy-0.10-py3-none-any.whl (3.9 kB)\n",
            "Downloading httptools-0.6.4-cp311-cp311-manylinux_2_5_x86_64.manylinux1_x86_64.manylinux_2_17_x86_64.manylinux2014_x86_64.whl (459 kB)\n",
            "\u001b[2K   \u001b[90m━━━━━━━━━━━━━━━━━━━━━━━━━━━━━━━━━━━━━━━━\u001b[0m \u001b[32m459.8/459.8 kB\u001b[0m \u001b[31m25.2 MB/s\u001b[0m eta \u001b[36m0:00:00\u001b[0m\n",
            "\u001b[?25hDownloading uvloop-0.21.0-cp311-cp311-manylinux_2_17_x86_64.manylinux2014_x86_64.whl (4.0 MB)\n",
            "\u001b[2K   \u001b[90m━━━━━━━━━━━━━━━━━━━━━━━━━━━━━━━━━━━━━━━━\u001b[0m \u001b[32m4.0/4.0 MB\u001b[0m \u001b[31m79.6 MB/s\u001b[0m eta \u001b[36m0:00:00\u001b[0m\n",
            "\u001b[?25hDownloading watchfiles-1.1.0-cp311-cp311-manylinux_2_17_x86_64.manylinux2014_x86_64.whl (453 kB)\n",
            "\u001b[2K   \u001b[90m━━━━━━━━━━━━━━━━━━━━━━━━━━━━━━━━━━━━━━━━\u001b[0m \u001b[32m453.1/453.1 kB\u001b[0m \u001b[31m24.1 MB/s\u001b[0m eta \u001b[36m0:00:00\u001b[0m\n",
            "\u001b[?25hDownloading coloredlogs-15.0.1-py2.py3-none-any.whl (46 kB)\n",
            "\u001b[2K   \u001b[90m━━━━━━━━━━━━━━━━━━━━━━━━━━━━━━━━━━━━━━━━\u001b[0m \u001b[32m46.0/46.0 kB\u001b[0m \u001b[31m3.0 MB/s\u001b[0m eta \u001b[36m0:00:00\u001b[0m\n",
            "\u001b[?25hDownloading humanfriendly-10.0-py2.py3-none-any.whl (86 kB)\n",
            "\u001b[2K   \u001b[90m━━━━━━━━━━━━━━━━━━━━━━━━━━━━━━━━━━━━━━━━\u001b[0m \u001b[32m86.8/86.8 kB\u001b[0m \u001b[31m5.3 MB/s\u001b[0m eta \u001b[36m0:00:00\u001b[0m\n",
            "\u001b[?25hBuilding wheels for collected packages: pypika\n",
            "  Building wheel for pypika (pyproject.toml) ... \u001b[?25l\u001b[?25hdone\n",
            "  Created wheel for pypika: filename=pypika-0.48.9-py2.py3-none-any.whl size=53803 sha256=580855c1cfd55c734e0ab116eafab0354bd4a3a725d7ce19f058a699f121bb36\n",
            "  Stored in directory: /root/.cache/pip/wheels/a3/01/bd/4c40ceb9d5354160cb186dcc153360f4ab7eb23e2b24daf96d\n",
            "Successfully built pypika\n",
            "Installing collected packages: pypika, durationpy, uvloop, pybase64, overrides, opentelemetry-proto, mmh3, humanfriendly, httptools, bcrypt, backoff, watchfiles, posthog, opentelemetry-exporter-otlp-proto-common, opentelemetry-api, coloredlogs, opentelemetry-semantic-conventions, onnxruntime, kubernetes, opentelemetry-sdk, opentelemetry-exporter-otlp-proto-grpc, chromadb\n",
            "Successfully installed backoff-2.2.1 bcrypt-4.3.0 chromadb-1.0.13 coloredlogs-15.0.1 durationpy-0.10 httptools-0.6.4 humanfriendly-10.0 kubernetes-33.1.0 mmh3-5.1.0 onnxruntime-1.22.0 opentelemetry-api-1.34.1 opentelemetry-exporter-otlp-proto-common-1.34.1 opentelemetry-exporter-otlp-proto-grpc-1.34.1 opentelemetry-proto-1.34.1 opentelemetry-sdk-1.34.1 opentelemetry-semantic-conventions-0.55b1 overrides-7.7.0 posthog-5.1.0 pybase64-1.4.1 pypika-0.48.9 uvloop-0.21.0 watchfiles-1.1.0\n"
          ]
        }
      ]
    },
    {
      "cell_type": "code",
      "source": [
        "!pip install jq"
      ],
      "metadata": {
        "colab": {
          "base_uri": "https://localhost:8080/"
        },
        "id": "51wA5UPj-pZK",
        "outputId": "a8ff9d05-1aad-4eb8-b71a-98048c8e781c"
      },
      "execution_count": null,
      "outputs": [
        {
          "output_type": "stream",
          "name": "stdout",
          "text": [
            "Collecting jq\n",
            "  Downloading jq-1.9.1-cp311-cp311-manylinux_2_17_x86_64.manylinux2014_x86_64.whl.metadata (7.0 kB)\n",
            "Downloading jq-1.9.1-cp311-cp311-manylinux_2_17_x86_64.manylinux2014_x86_64.whl (754 kB)\n",
            "\u001b[2K   \u001b[90m━━━━━━━━━━━━━━━━━━━━━━━━━━━━━━━━━━━━━━━━\u001b[0m \u001b[32m754.3/754.3 kB\u001b[0m \u001b[31m9.0 MB/s\u001b[0m eta \u001b[36m0:00:00\u001b[0m\n",
            "\u001b[?25hInstalling collected packages: jq\n",
            "Successfully installed jq-1.9.1\n"
          ]
        }
      ]
    },
    {
      "cell_type": "markdown",
      "source": [],
      "metadata": {
        "id": "UJqe721P2P5a"
      }
    },
    {
      "cell_type": "code",
      "source": [
        "from dotenv import load_dotenv\n",
        "import os\n",
        "\n",
        "# 파일 경로에 맞게 지정 (Colab 현재 디렉토리 기준)\n",
        "load_dotenv(\"/content/secret.env\")\n",
        "\n",
        "# 환경변수에서 API 키 읽기\n",
        "os.environ['GOOGLE_API_KEY'] = os.getenv(\"GOOGLE_API_KEY\")\n",
        "# print(api_key)  # 확인용, 실제 코드에선 출력 안하는 것이 안전"
      ],
      "metadata": {
        "id": "zU0hv08h_Df-"
      },
      "execution_count": null,
      "outputs": []
    },
    {
      "cell_type": "code",
      "source": [
        "import pandas as pd\n",
        "import torch\n",
        "import numpy as np\n",
        "from langchain.embeddings.base import Embeddings\n",
        "from langchain.text_splitter import RecursiveCharacterTextSplitter\n",
        "from langchain.document_loaders import JSONLoader\n",
        "from langchain.vectorstores import Chroma\n",
        "from langchain.schema import Document\n",
        "from langchain_google_genai import GoogleGenerativeAI\n",
        "from langchain.chains import RetrievalQA\n",
        "\n",
        "import glob\n",
        "import json\n",
        "import os"
      ],
      "metadata": {
        "id": "oirNmqjM_Q1_"
      },
      "execution_count": null,
      "outputs": []
    },
    {
      "cell_type": "code",
      "source": [
        "from google.colab import drive\n",
        "drive.mount('/content/drive')\n",
        "\n",
        "%cd /content/drive/MyDrive/\n",
        "#!unzip /content/drive/MyDrive/VL_06.중학교_1학년_03.수학_01.텍스트.zip -d /content/drive/MyDrive/mini_aiffel/json_me"
      ],
      "metadata": {
        "colab": {
          "base_uri": "https://localhost:8080/"
        },
        "id": "dZx2afY97Re6",
        "outputId": "fb86df4a-d44b-4539-c185-c0e9b9163f69"
      },
      "execution_count": null,
      "outputs": [
        {
          "output_type": "stream",
          "name": "stdout",
          "text": [
            "Mounted at /content/drive\n",
            "/content/drive/MyDrive\n"
          ]
        }
      ]
    },
    {
      "cell_type": "code",
      "source": [
        "json_list = glob.glob('/content/drive/MyDrive/mini_aiffel/json_me/TL_06.중학교 1학년_03.수학_01.텍스트/*.json') # json_list 가져오기\n",
        "len(json_list)"
      ],
      "metadata": {
        "colab": {
          "base_uri": "https://localhost:8080/"
        },
        "id": "aIvcguOPAVKz",
        "outputId": "4b24106c-c5b5-4808-928b-4ddeb000d8bc"
      },
      "execution_count": null,
      "outputs": [
        {
          "output_type": "execute_result",
          "data": {
            "text/plain": [
              "9124"
            ]
          },
          "metadata": {},
          "execution_count": 13
        }
      ]
    },
    {
      "cell_type": "code",
      "source": [
        "# json 파일 예시\n",
        "json_data_example = {\n",
        "    \"raw_data_info\": {\n",
        "        \"raw_data_name\": \"수학_중학교_3학년_text_1153_png_17\",\n",
        "        \"date\": \"2024-11-28\",\n",
        "        \"publisher\": \"2차 저작\",\n",
        "        \"publication_year\": \"2024-11-06\",\n",
        "        \"school\": \"중학교\",\n",
        "        \"grade\": \"3학년\",\n",
        "        \"semester\": \"2학기\",\n",
        "        \"subject\": \"수학\",\n",
        "        \"revision_year\": \"2015\"\n",
        "    },\n",
        "    \"source_data_info\": {\n",
        "        \"source_data_name\": \"S1_중등_3_수학_TXT_3102614\",\n",
        "        \"2009_achievement_standard\": [\n",
        "            \" \"\n",
        "        ],\n",
        "        \"2015_achievement_standard\": [\n",
        "            \"[9수05-07] 분산과 표준편차의 의미를 이해하고, 이를 구할 수 있다.\"\n",
        "        ],\n",
        "        \"2022_achievement_standard\": [\n",
        "            \"[9수05-07] 분산과 표준편차의 의미를 이해하고, 이를 구할 수 있다.\"\n",
        "        ]\n",
        "    },\n",
        "    \"learning_data_info\": {\n",
        "        \"learning_data_name\": \"S1_중등_3_수학_TXT_3102614\",\n",
        "        \"class_num\": 5,\n",
        "        \"class_name\": \"텍스트\",\n",
        "        \"bounding_box\": [\n",
        "            [\n",
        "                0,\n",
        "                0,\n",
        "                297,\n",
        "                24\n",
        "            ]\n",
        "        ],\n",
        "        \"text_description\": \"제곱한 값의 평균을 구하여 분산을 구합니다.\",\n",
        "        \"text_qa\": \"제곱한 값의 평균을 구하는 방법은 무엇인가요?\",\n",
        "        \"text_an\": \"제곱한 값의 평균을 구하려면 먼저 각 데이터의 값을 제곱한 다음, 그 제곱한 값들의 총합을 구하고, 그 총합을 데이터의 개수로 나눕니다.\"\n",
        "    }\n",
        "}"
      ],
      "metadata": {
        "id": "1XH4ZdugB6nm"
      },
      "execution_count": null,
      "outputs": []
    },
    {
      "cell_type": "code",
      "source": [
        "import uuid # 고유 ID 생성을 위해 추가\n",
        "\n",
        "def create_document_from_json(file_name, data):\n",
        "    # 고유 ID 생성 (raw_data_name이 유일하지 않을 경우 대비)\n",
        "    #doc_id = data.get(\"raw_data_info\", {}).get(\"raw_data_name\", str(uuid.uuid4()))\n",
        "    doc_id = file_name\n",
        "\n",
        "    # content 구성 (핵심 정보 + 관련 텍스트)\n",
        "    subject = data.get(\"raw_data_info\", {}).get(\"subject\", \"정보 없음\")\n",
        "    grade = data.get(\"raw_data_info\", {}).get(\"grade\", \"정보 없음\")\n",
        "\n",
        "    # 2015_achievement_standard는 리스트이므로 첫 번째 요소를 가져오거나, 모든 요소를 결합\n",
        "    achievement_standard_2015 = data.get(\"source_data_info\", {}).get(\"2015_achievement_standard\", [])\n",
        "    standard_text = achievement_standard_2015[0] if achievement_standard_2015 else \"정보 없음\"\n",
        "\n",
        "    text_description = data.get(\"learning_data_info\", {}).get(\"text_description\", \"\")\n",
        "    text_qa = data.get(\"learning_data_info\", {}).get(\"text_qa\", \"\")\n",
        "    text_an = data.get(\"learning_data_info\", {}).get(\"text_an\", \"\")\n",
        "\n",
        "    # Content에 모든 관련 텍스트를 논리적인 흐름으로 결합\n",
        "    # 여기에 어떤 순서로, 어떤 레이블과 함께 넣을지 결정합니다.\n",
        "    content_parts = []\n",
        "\n",
        "    # 본문 내용 추가\n",
        "    if standard_text != \"정보 없음\":\n",
        "        content_parts.append(f\"학습 목표: {standard_text}\")\n",
        "    if text_qa:\n",
        "        content_parts.append(f\"질문: {text_qa}\")\n",
        "    if text_an:\n",
        "        content_parts.append(f\"답변: {text_an}\")\n",
        "    if text_description:\n",
        "        content_parts.append(f\"설명: {text_description}\")\n",
        "\n",
        "\n",
        "\n",
        "    combined_content = \"\\n\\n\".join(content_parts) # 각 부분을 두 줄씩 띄워서 구분\n",
        "\n",
        "    # 메타데이터 구성 (필터링 및 추가 정보 제공용)\n",
        "    metadata = {\n",
        "        \"id\": doc_id, # 고유 식별자 (이곳에 저장됩니다!)\n",
        "        \"grade\": data.get(\"raw_data_info\", {}).get(\"grade\"),\n",
        "        \"subject\": data.get(\"raw_data_info\", {}).get(\"subject\"),\n",
        "        \"LearningObjective\" : standard_text,\n",
        "        \"raw_data_name\": data.get(\"raw_data_info\", {}).get(\"raw_data_name\"),\n",
        "        \"date\": data.get(\"raw_data_info\", {}).get(\"date\"),\n",
        "    }\n",
        "\n",
        "    return Document(page_content=combined_content, metadata=metadata)\n"
      ],
      "metadata": {
        "id": "rbByTxGUCMte"
      },
      "execution_count": null,
      "outputs": []
    },
    {
      "cell_type": "code",
      "source": [
        "# 변환 함수 사용\n",
        "document_instance = create_document_from_json(\"test_file\", json_data_example)\n",
        "\n",
        "print(\"--- 생성된 Document의 page_content ---\")\n",
        "# 변경된 부분: doc_id는 Document 객체의 직접적인 속성이 아니라 metadata 안에 있습니다.\n",
        "\n",
        "print(document_instance.page_content)\n",
        "print(\"\\n--- 생성된 Document의 metadata (일부) ---\")\n",
        "print(f\"ID: {document_instance.metadata.get('id')}\")\n",
        "print(f\"LearningObjective: {document_instance.metadata.get('LearningObjective')}\")\n"
      ],
      "metadata": {
        "colab": {
          "base_uri": "https://localhost:8080/"
        },
        "id": "GCjbxiiMGs3O",
        "outputId": "85c8cfb4-c4f9-43fc-8ad7-575b6512c8bd"
      },
      "execution_count": null,
      "outputs": [
        {
          "output_type": "stream",
          "name": "stdout",
          "text": [
            "--- 생성된 Document의 page_content ---\n",
            "과목: 수학\n",
            "\n",
            "학년: 3학년\n",
            "\n",
            "학습 목표: [9수05-07] 분산과 표준편차의 의미를 이해하고, 이를 구할 수 있다.\n",
            "\n",
            "설명: 제곱한 값의 평균을 구하여 분산을 구합니다.\n",
            "\n",
            "질문: 제곱한 값의 평균을 구하는 방법은 무엇인가요?\n",
            "\n",
            "답변: 제곱한 값의 평균을 구하려면 먼저 각 데이터의 값을 제곱한 다음, 그 제곱한 값들의 총합을 구하고, 그 총합을 데이터의 개수로 나눕니다.\n",
            "\n",
            "--- 생성된 Document의 metadata (일부) ---\n",
            "ID: test_file\n",
            "LearningObjective: [9수05-07] 분산과 표준편차의 의미를 이해하고, 이를 구할 수 있다.\n"
          ]
        }
      ]
    },
    {
      "cell_type": "code",
      "source": [
        "processed_files_count = 0\n",
        "all_docs = []\n",
        "print(f\"\\n--- 모든 JSON 파일 처리 시작 ---\")\n",
        "\n",
        "for file_path in json_list:\n",
        "    try:\n",
        "        with open(file_path, \"r\", encoding=\"utf-8\") as f:\n",
        "            data = json.load(f)\n",
        "        # create_document_from_json 함수를 사용하여 Document 객체 생성\n",
        "        file_name = os.path.basename(file_path)   # 'S1_중등_1_수학_TXT_3017092.json'\n",
        "        file_id = os.path.splitext(file_name)[0]  # 'S1_중등_1_수학_TXT_3017092'\n",
        "        doc = create_document_from_json(file_id, data)\n",
        "        all_docs.append(doc)\n",
        "        processed_files_count += 1\n",
        "\n",
        "    except json.JSONDecodeError:\n",
        "        print(f\"⚠️ 경고: {file_path} 파일이 유효한 JSON 형식이 아닙니다. 건너뜁니다.\")\n",
        "        continue\n",
        "    except FileNotFoundError:\n",
        "        print(f\"⚠️ 경고: {file_path} 파일을 찾을 수 없습니다. 건너뜁니다.\")\n",
        "        continue\n",
        "    except Exception as e:\n",
        "        print(f\"❌ 오류: {file_path} 파일 처리 중 예상치 못한 오류 발생: {e}. 건너킵니다.\")\n",
        "        continue\n",
        "\n",
        "print(f\"✅ 총 {processed_files_count}개의 유효한 JSON 파일이 문서로 변환되었습니다.\")"
      ],
      "metadata": {
        "colab": {
          "base_uri": "https://localhost:8080/"
        },
        "id": "Xz7T5qZxMHQo",
        "outputId": "28f2539a-2210-4484-c3a4-5c4543cfd1d5"
      },
      "execution_count": null,
      "outputs": [
        {
          "output_type": "stream",
          "name": "stdout",
          "text": [
            "\n",
            "--- 모든 JSON 파일 처리 시작 ---\n",
            "✅ 총 9124개의 유효한 JSON 파일이 문서로 변환되었습니다.\n"
          ]
        }
      ]
    },
    {
      "cell_type": "code",
      "source": [
        "for file_path in json_list:\n",
        "        # create_document_from_json 함수를 사용하여 Document 객체 생성\n",
        "        file_name = os.path.basename(file_path)\n",
        "        id_name = os.path.splitext(file_name)[0]  # 'S1_중등_1_수학_TXT_3017092'\n",
        "        print(id_name)\n",
        "        break"
      ],
      "metadata": {
        "colab": {
          "base_uri": "https://localhost:8080/"
        },
        "id": "aV8qKZS78kUZ",
        "outputId": "0fbc6007-d27e-48b5-ce5c-6d248ff2c27b"
      },
      "execution_count": null,
      "outputs": [
        {
          "output_type": "stream",
          "name": "stdout",
          "text": [
            "S1_중등_1_수학_TXT_3015626\n"
          ]
        }
      ]
    },
    {
      "cell_type": "code",
      "source": [
        "print(all_docs[10])"
      ],
      "metadata": {
        "colab": {
          "base_uri": "https://localhost:8080/"
        },
        "id": "YSwvYJU0MMlP",
        "outputId": "f4a7d747-c454-42d4-b884-c36cca8382c5"
      },
      "execution_count": null,
      "outputs": [
        {
          "output_type": "stream",
          "name": "stdout",
          "text": [
            "page_content='학습 목표: [9수04-03] 삼각형을 작도할 수 있다.\n",
            "\n",
            "질문: 직각 삼각형이란 무엇인가요?\n",
            "\n",
            "답변: 직각 삼각형은 하나의 각이 90도인 삼각형입니다.\n",
            "\n",
            "설명: 직각 삼각형: 하나의 각이 90도인 삼각형' metadata={'id': 'S1_중등_1_수학_TXT_3017092', 'grade': '1학년', 'subject': '수학', 'LearningObjective': '[9수04-03] 삼각형을 작도할 수 있다.', 'raw_data_name': '수학_중학교_1학년_text_3226_15_png_04', 'date': '2024-11-20'}\n"
          ]
        }
      ]
    },
    {
      "cell_type": "code",
      "source": [
        "print(all_docs[100])"
      ],
      "metadata": {
        "colab": {
          "base_uri": "https://localhost:8080/"
        },
        "id": "2Yfp8oQB-xAu",
        "outputId": "b58b7c03-e468-40ef-fef1-0046772a31d3"
      },
      "execution_count": null,
      "outputs": [
        {
          "output_type": "stream",
          "name": "stdout",
          "text": [
            "page_content='학습 목표: [9수04-01] 점, 선, 면, 각을 이해하고, 점, 직선, 평면의 위치 관계를 설명할 수 있다.\n",
            "\n",
            "질문: 종이에 표시한 작은 점은 무엇을 의미할까요?\n",
            "\n",
            "답변: 작은 점은 점이나 위치를 나타낼 수 있으며, 수학에서는 coordinate plane에서 점의 위치를 표시할 때 사용됩니다.\n",
            "\n",
            "설명: 예를 들어, 종이에 표시한 작은 점을 생각해 보세요.' metadata={'id': 'S1_중등_1_수학_TXT_3091688', 'grade': '1학년', 'subject': '수학', 'LearningObjective': '[9수04-01] 점, 선, 면, 각을 이해하고, 점, 직선, 평면의 위치 관계를 설명할 수 있다.', 'raw_data_name': '수학_중학교_1학년_text_483_png_01', 'date': '2024-11-28'}\n"
          ]
        }
      ]
    },
    {
      "cell_type": "markdown",
      "source": [
        "Embedding Model\n",
        "- genai 라이브러리의 list_models 함수를 사용하여 사용 가능한 모델들의 목록을 가져옵니다."
      ],
      "metadata": {
        "id": "8HD1u-GeUw__"
      }
    },
    {
      "cell_type": "code",
      "source": [
        "import google.generativeai as genai\n",
        "for model in genai.list_models():\n",
        "    if \"embedContent\" in model.supported_generation_methods:\n",
        "        print(model.name)"
      ],
      "metadata": {
        "colab": {
          "base_uri": "https://localhost:8080/"
        },
        "id": "FH4l6ysgUrCm",
        "outputId": "24ae9507-a3b8-499c-f60d-bb9f1a2a7963"
      },
      "execution_count": null,
      "outputs": [
        {
          "output_type": "stream",
          "name": "stdout",
          "text": [
            "models/embedding-001\n",
            "models/text-embedding-004\n",
            "models/gemini-embedding-exp-03-07\n",
            "models/gemini-embedding-exp\n"
          ]
        }
      ]
    },
    {
      "cell_type": "code",
      "source": [
        "from langchain_google_genai import GoogleGenerativeAIEmbeddings\n",
        "\n",
        "embedding_model = GoogleGenerativeAIEmbeddings(model=\"models/text-embedding-004\")\n",
        "#embedding_model = GoogleGenerativeAIEmbeddings(model=\"models/gemini-embedding-exp-03-07\")"
      ],
      "metadata": {
        "id": "9VjGnNCFLp1b"
      },
      "execution_count": null,
      "outputs": []
    },
    {
      "cell_type": "code",
      "source": [
        "text_splitter = RecursiveCharacterTextSplitter(\n",
        "    chunk_size=500,\n",
        "    chunk_overlap=50,\n",
        "    length_function=len,\n",
        "    is_separator_regex=False,\n",
        ")"
      ],
      "metadata": {
        "id": "tjMj2YwFMPxO"
      },
      "execution_count": null,
      "outputs": []
    },
    {
      "cell_type": "markdown",
      "source": [
        "Step4 : VectorStore 사용해보기\n",
        "\n",
        "VectorStore는 자연어를 Vector로 embedding한 후, 이를 저장하는 공간입니다.\n",
        "\n",
        "쿼리나 문서 등의 Emabedding이 저장된 후, 재사용 및 참조를 위해 VectorStroe에서 빠르게 유사도를 측정, 탐색할 수 있습니다.\n",
        "VectorStore로는 Chroma나 Faiss를 가장 많이 사용합니다."
      ],
      "metadata": {
        "id": "4oNBY0NhL55r"
      }
    },
    {
      "cell_type": "code",
      "source": [
        "persist_directory = './my_vector_db_2'\n",
        "\n",
        "\n",
        "os.makedirs(persist_directory, exist_ok=True)\n",
        "\n",
        "vectorstore = None"
      ],
      "metadata": {
        "id": "yODkNN13L1DE"
      },
      "execution_count": null,
      "outputs": []
    },
    {
      "cell_type": "code",
      "source": [
        "from langchain_community.vectorstores import Chroma\n",
        "\n",
        "if all_docs: # 변환된 문서가 있다면\n",
        "    print(f\"\\n--- 변환된 문서({len(all_docs)}개) 바로 벡터 스토어에 추가 중... ---\")\n",
        "\n",
        "    # ✅ 청크 분할 적용\n",
        "    chunked_docs = text_splitter.split_documents(all_docs)\n",
        "\n",
        "    print(f\"📎 문서를 총 {len(chunked_docs)}개의 청크로 분할 완료!\")\n",
        "\n",
        "    # ✅ Chroma 벡터 스토어에 저장\n",
        "    vectorstore = Chroma.from_documents(\n",
        "        #documents=all_docs,\n",
        "        documents=chunked_docs,\n",
        "        embedding=embedding_model,\n",
        "        persist_directory=persist_directory\n",
        "    )\n",
        "    print(f\"✨ 벡터 스토어에 총 {len(chunked_docs)}개의 청크가 저장되었습니다.\")\n",
        "    #print(f\"✨ 모든 JSON 파일 처리 완료! 최종적으로 벡터 스토어에 {len(all_docs)}개의 문서가 추가되었습니다.\")\n",
        "else:\n",
        "    print(f\"\\n➡️ 처리할 유효한 JSON 문서가 없어 벡터 스토어에 추가된 문서가 없습니다.\")"
      ],
      "metadata": {
        "colab": {
          "base_uri": "https://localhost:8080/"
        },
        "id": "Xp9BqOqiMT6a",
        "outputId": "6727211a-e932-4121-ebb7-6a176de8b915"
      },
      "execution_count": null,
      "outputs": [
        {
          "output_type": "stream",
          "name": "stdout",
          "text": [
            "\n",
            "--- 변환된 문서(9124개) 바로 벡터 스토어에 추가 중... ---\n",
            "📎 문서를 총 9137개의 청크로 분할 완료!\n",
            "✨ 벡터 스토어에 총 9137개의 청크가 저장되었습니다.\n"
          ]
        }
      ]
    },
    {
      "cell_type": "markdown",
      "source": [
        "벡터 스토어 검색 테스트"
      ],
      "metadata": {
        "id": "fSGCGOhlMnLv"
      }
    },
    {
      "cell_type": "code",
      "source": [
        "print(\"\\n--- 벡터 스토어 검색 테스트 ---\")\n",
        "try:\n",
        "    if vectorstore:\n",
        "\n",
        "        query = \"소인수분해는 무엇인가요?\"\n",
        "        docs_found = vectorstore.similarity_search(query, k=5)\n",
        "\n",
        "        print(f\"쿼리: '{query}'에 대한 검색 결과:\")\n",
        "        for i, doc in enumerate(docs_found):\n",
        "            print(f\"\\n--- 문서 {i+1} ---\")\n",
        "            print(f\"내용 (일부): {doc.page_content[:200]}...\") # 원본 Document가 그대로 저장되므로 길이에 따라 잘릴 수 있음\n",
        "            print(f\"메타데이터 (과목/학년): {doc.metadata.get('subject')}, {doc.metadata.get('grade')}\")\n",
        "            print(f\"메타데이터 (id): {doc.metadata.get('id')}\")\n",
        "    else:\n",
        "        print(\"벡터 스토어에 문서가 추가되지 않아 검색을 수행할 수 없습니다.\")\n",
        "\n",
        "except Exception as e:\n",
        "    print(f\"벡터 스토어 검색 중 오류 발생: {e}\")"
      ],
      "metadata": {
        "colab": {
          "base_uri": "https://localhost:8080/"
        },
        "id": "BmT9m7RLMjPk",
        "outputId": "0a2c2de1-4ad7-4d53-8470-5638ce142903"
      },
      "execution_count": null,
      "outputs": [
        {
          "output_type": "stream",
          "name": "stdout",
          "text": [
            "\n",
            "--- 벡터 스토어 검색 테스트 ---\n",
            "쿼리: '소인수분해는 무엇인가요?'에 대한 검색 결과:\n",
            "\n",
            "--- 문서 1 ---\n",
            "내용 (일부): 학습 목표: [9수04-08] 회전체의 성질을 이해한다.\n",
            "\n",
            "질문:  단면의 모양이 무엇인가요?\n",
            "\n",
            "답변: 단면의 모양은 원입니다.\n",
            "\n",
            "설명: (2) 단면의 모양은 원이다....\n",
            "메타데이터 (과목/학년): 수학, 1학년\n",
            "메타데이터 (id): S1_중등_1_수학_TXT_160843\n",
            "\n",
            "--- 문서 2 ---\n",
            "내용 (일부): 학습 목표: [9수04-08] 회전체의 성질을 이해한다.\n",
            "\n",
            "질문:  단면의 모양이 무엇인가요?\n",
            "\n",
            "답변: 단면의 모양은 원입니다.\n",
            "\n",
            "설명: (2) 단면의 모양은 원이다....\n",
            "메타데이터 (과목/학년): 수학, 1학년\n",
            "메타데이터 (id): S1_중등_1_수학_TXT_160843\n",
            "\n",
            "--- 문서 3 ---\n",
            "내용 (일부): 학습 목표: [9수04-08] 회전체의 성질을 이해한다.\n",
            "\n",
            "질문:  단면의 모양이 무엇인가요?\n",
            "\n",
            "답변: 단면의 모양은 원입니다.\n",
            "\n",
            "설명: (2) 단면의 모양은 원이다....\n",
            "메타데이터 (과목/학년): 수학, 1학년\n",
            "메타데이터 (id): S1_중등_1_수학_TXT_160843\n",
            "\n",
            "--- 문서 4 ---\n",
            "내용 (일부): 학습 목표: [9수04-08] 회전체의 성질을 이해한다.\n",
            "\n",
            "질문:  단면의 모양이 어떻게 되나요?\n",
            "\n",
            "답변: 단면의 모양은 원입니다.\n",
            "\n",
            "설명: (2) 단면의 모양은 원이다....\n",
            "메타데이터 (과목/학년): 수학, 1학년\n",
            "메타데이터 (id): S1_중등_1_수학_TXT_160840\n",
            "\n",
            "--- 문서 5 ---\n",
            "내용 (일부): 학습 목표: [9수04-08] 회전체의 성질을 이해한다.\n",
            "\n",
            "질문:  단면의 모양이 어떻게 되나요?\n",
            "\n",
            "답변: 단면의 모양은 원입니다.\n",
            "\n",
            "설명: (2) 단면의 모양은 원이다....\n",
            "메타데이터 (과목/학년): 수학, 1학년\n",
            "메타데이터 (id): S1_중등_1_수학_TXT_160840\n"
          ]
        }
      ]
    },
    {
      "cell_type": "markdown",
      "source": [
        "소인수분해가 포함된 문서를 확인하려면?"
      ],
      "metadata": {
        "id": "8eAAzjXlP-Oa"
      }
    },
    {
      "cell_type": "code",
      "source": [
        "cnt = 0\n",
        "for doc in all_docs:\n",
        "    if \"소인수분해\" in doc.page_content:\n",
        "        cnt +=1\n",
        "        if cnt < 10 :\n",
        "          print(doc.page_content)"
      ],
      "metadata": {
        "colab": {
          "base_uri": "https://localhost:8080/"
        },
        "id": "GxaBNKXnP8-R",
        "outputId": "752ea309-dab3-4138-918e-d085ff134d36"
      },
      "execution_count": null,
      "outputs": [
        {
          "output_type": "stream",
          "name": "stdout",
          "text": [
            "학습 목표: [9수01-01] 소인수분해의 뜻을 알고, 자연수를 소인수분해할 수 있다.\n",
            "\n",
            "질문: 소인수란 무엇인가요?\n",
            "\n",
            "답변: 소인수는 1보다 큰 자연수 중에서 어떤 수를 나누었을 때 나누어 떨어지는 수를 의미합니다. 예를 들어, 12의 소인수는 2, 3가 있습니다.\n",
            "\n",
            "설명: 소인수란, 1보다 큰 자연수 중에서 어떤 수를 나누었을 때 나누어떨어지는 수를 의미합니다.\n",
            "학습 목표: [9수01-01] 소인수분해의 뜻을 알고, 자연수를 소인수분해할 수 있다.\n",
            "\n",
            "질문: 12를 인수분해하면 어떤 숫자들이 나오나요?\n",
            "\n",
            "답변: 12는 1, 2, 3, 4, 6, 12로 인수분해할 수 있습니다. 예를 들어, 12는 3 x 4로도 나타낼 수 있습니다.\n",
            "\n",
            "설명: 12는 다음과 같이 인수분해할 수 있습니다:\n",
            "학습 목표: [9수01-01] 소인수분해의 뜻을 알고, 자연수를 소인수분해할 수 있다.\n",
            "\n",
            "질문: 15를 3으로 나누면 얼마인가요?\n",
            "\n",
            "답변: $15 \\div 3 = 5$입니다.\n",
            "\n",
            "설명: 15는 3으로 나눌 수 있으므로, $15 \\div 3 = 5$입니다.\n",
            "학습 목표: [9수01-01] 소인수분해의 뜻을 알고, 자연수를 소인수분해할 수 있다.\n",
            "\n",
            "질문: 소인수분해란 무엇인가요?\n",
            "\n",
            "답변: 소인수분해는 자연수를 소수(1보다 큰 자연수 중에서 자기가 아닌 자연수로 나눌 수 없는 수)의 곱으로 표현하는 방법입니다. 예를 들어, 12는 2 × 2 × 3으로 소인수분해할 수 있습니다.\n",
            "\n",
            "설명: 자연수를 소인수분해하는 방법을 살펴보겠습니다.\n",
            "학습 목표: [9수01-01] 소인수분해의 뜻을 알고, 자연수를 소인수분해할 수 있다.\n",
            "\n",
            "질문: 소수란 무엇인가요?\n",
            "\n",
            "답변: 소수는 1과 자기 자신만으로 나눌 수 있는 1보다 큰 자연수입니다. 예를 들면 2, 3, 5, 7, 11이 소수입니다.\n",
            "\n",
            "설명: 예를 들어, 2, 3, 5, 7, 11 등이 소수입니다.\n",
            "학습 목표: [9수01-01] 소인수분해의 뜻을 알고, 자연수를 소인수분해할 수 있다.\n",
            "\n",
            "질문: 6을 2로 나누면 어떤 수가 나오나요?\n",
            "\n",
            "답변: 6을 2로 나누면 3이 나옵니다. $6 \\div 2 = 3$입니다.\n",
            "\n",
            "설명: 6 또한 2로 나눌 수 있어, $6 \\div 2 = 3$입니다.\n",
            "학습 목표: [9수01-01] 소인수분해의 뜻을 알고, 자연수를 소인수분해할 수 있다.\n",
            "\n",
            "질문: 12를 2로 나누면 얼마인가요?\n",
            "\n",
            "답변: 12를 2로 나누면 6입니다.\n",
            "\n",
            "설명: 12는 2로 나눌 수 있으므로, $12 \\div 2 = 6$입니다.\n",
            "학습 목표: [9수01-01] 소인수분해의 뜻을 알고, 자연수를 소인수분해할 수 있다.\n",
            "\n",
            "질문: 소인수분해란 무엇인가요?\n",
            "\n",
            "답변: 소인수분해는 자연수를 소수들만의 곱으로 표현하는 과정입니다.\n",
            "\n",
            "설명: 소인수분해란 자연수를 소수의 곱으로 표현하는 과정을 의미합니다.\n",
            "학습 목표: [9수01-01] 소인수분해의 뜻을 알고, 자연수를 소인수분해할 수 있다.\n",
            "\n",
            "질문: 3은 어떤 수입니까?\n",
            "\n",
            "답변: 3은 소수입니다. 소수는 1과 자기 자신만으로 나눌 수 있는 수입니다.\n",
            "\n",
            "설명: 3은 소수이므로 더 이상 나눌 수 없습니다.\n"
          ]
        }
      ]
    },
    {
      "cell_type": "code",
      "source": [
        "keyword = \"소인수분해\"  # 또는 \"순환소수\"\n",
        "matching_docs = []\n",
        "\n",
        "# Chroma 벡터스토어 기준\n",
        "if hasattr(vectorstore, \"get\"):\n",
        "    stored_docs = vectorstore.get()[\"documents\"]\n",
        "\n",
        "    for i, doc in enumerate(stored_docs):\n",
        "        if any(keyword in chunk for chunk in doc):\n",
        "            print(f\"✅ {i+1}번째 문서에서 키워드 '{keyword}' 발견\")\n",
        "            print(doc)\n",
        "            matching_docs.append(doc)\n",
        "else:\n",
        "    print(\"⚠️ 이 벡터스토어에서는 직접 저장된 문서를 확인할 수 없습니다.\")"
      ],
      "metadata": {
        "id": "hFKOHSeaQw2b"
      },
      "execution_count": null,
      "outputs": []
    },
    {
      "cell_type": "code",
      "source": [
        "def search_keyword_from_vetcor(keyword):\n",
        "    count = 0\n",
        "    if hasattr(vectorstore, \"get\"):\n",
        "        all_data = vectorstore.get()\n",
        "        print(\"vectorstore.get() 결과 키:\", all_data.keys())\n",
        "\n",
        "        stored_docs = all_data.get(\"documents\", None)\n",
        "        if stored_docs is None:\n",
        "            print(\"⚠️ 'documents' 키가 존재하지 않습니다. 대신 'metadatas' 또는 다른 키 확인:\")\n",
        "            print(all_data.keys())\n",
        "        else:\n",
        "            print(f\"총 문서 수: {len(stored_docs)}\")\n",
        "            keyword = \"소인수분해\"\n",
        "            matching_docs = []\n",
        "            for i, doc in enumerate(stored_docs):\n",
        "                # doc가 문자열이 아닐 수도 있으니 str로 변환\n",
        "                if keyword in str(doc):\n",
        "                    print(f\"✅ {i+1}번째 문서에서 키워드 '{keyword}' 발견\")\n",
        "                    print(doc)\n",
        "                    matching_docs.append(doc)\n",
        "                    count +=1\n",
        "                if count > 10 :\n",
        "                   break\n",
        "            if not matching_docs:\n",
        "                print(f\"키워드 '{keyword}'가 포함된 문서를 찾지 못했습니다.\")\n",
        "    else:\n",
        "        print(\"⚠️ 이 벡터스토어에서는 'get' 메서드를 지원하지 않습니다.\")\n"
      ],
      "metadata": {
        "id": "v6eZx_EvVXhx"
      },
      "execution_count": null,
      "outputs": []
    },
    {
      "cell_type": "code",
      "source": [
        "search_keyword_from_vetcor(\"소인수분해\")"
      ],
      "metadata": {
        "colab": {
          "base_uri": "https://localhost:8080/"
        },
        "id": "G16dF9D8W49w",
        "outputId": "185e793e-3599-4ecd-c541-c9fe81ac99a7"
      },
      "execution_count": null,
      "outputs": [
        {
          "output_type": "stream",
          "name": "stdout",
          "text": [
            "vectorstore.get() 결과 키: dict_keys(['ids', 'embeddings', 'documents', 'uris', 'included', 'data', 'metadatas'])\n",
            "총 문서 수: 9137\n",
            "✅ 3번째 문서에서 키워드 '소인수분해' 발견\n",
            "학습 목표: [9수01-01] 소인수분해의 뜻을 알고, 자연수를 소인수분해할 수 있다.\n",
            "\n",
            "질문: 소인수란 무엇인가요?\n",
            "\n",
            "답변: 소인수는 1보다 큰 자연수 중에서 어떤 수를 나누었을 때 나누어 떨어지는 수를 의미합니다. 예를 들어, 12의 소인수는 2, 3가 있습니다.\n",
            "\n",
            "설명: 소인수란, 1보다 큰 자연수 중에서 어떤 수를 나누었을 때 나누어떨어지는 수를 의미합니다.\n",
            "✅ 10번째 문서에서 키워드 '소인수분해' 발견\n",
            "학습 목표: [9수01-01] 소인수분해의 뜻을 알고, 자연수를 소인수분해할 수 있다.\n",
            "\n",
            "질문: 12를 인수분해하면 어떤 숫자들이 나오나요?\n",
            "\n",
            "답변: 12는 1, 2, 3, 4, 6, 12로 인수분해할 수 있습니다. 예를 들어, 12는 3 x 4로도 나타낼 수 있습니다.\n",
            "\n",
            "설명: 12는 다음과 같이 인수분해할 수 있습니다:\n",
            "✅ 24번째 문서에서 키워드 '소인수분해' 발견\n",
            "학습 목표: [9수01-01] 소인수분해의 뜻을 알고, 자연수를 소인수분해할 수 있다.\n",
            "\n",
            "질문: 15를 3으로 나누면 얼마인가요?\n",
            "\n",
            "답변: $15 \\div 3 = 5$입니다.\n",
            "\n",
            "설명: 15는 3으로 나눌 수 있으므로, $15 \\div 3 = 5$입니다.\n",
            "✅ 83번째 문서에서 키워드 '소인수분해' 발견\n",
            "학습 목표: [9수01-01] 소인수분해의 뜻을 알고, 자연수를 소인수분해할 수 있다.\n",
            "\n",
            "질문: 소인수분해란 무엇인가요?\n",
            "\n",
            "답변: 소인수분해는 자연수를 소수(1보다 큰 자연수 중에서 자기가 아닌 자연수로 나눌 수 없는 수)의 곱으로 표현하는 방법입니다. 예를 들어, 12는 2 × 2 × 3으로 소인수분해할 수 있습니다.\n",
            "\n",
            "설명: 자연수를 소인수분해하는 방법을 살펴보겠습니다.\n",
            "✅ 93번째 문서에서 키워드 '소인수분해' 발견\n",
            "학습 목표: [9수01-01] 소인수분해의 뜻을 알고, 자연수를 소인수분해할 수 있다.\n",
            "\n",
            "질문: 소수란 무엇인가요?\n",
            "\n",
            "답변: 소수는 1과 자기 자신만으로 나눌 수 있는 1보다 큰 자연수입니다. 예를 들면 2, 3, 5, 7, 11이 소수입니다.\n",
            "\n",
            "설명: 예를 들어, 2, 3, 5, 7, 11 등이 소수입니다.\n",
            "✅ 143번째 문서에서 키워드 '소인수분해' 발견\n",
            "학습 목표: [9수01-01] 소인수분해의 뜻을 알고, 자연수를 소인수분해할 수 있다.\n",
            "\n",
            "질문: 6을 2로 나누면 어떤 수가 나오나요?\n",
            "\n",
            "답변: 6을 2로 나누면 3이 나옵니다. $6 \\div 2 = 3$입니다.\n",
            "\n",
            "설명: 6 또한 2로 나눌 수 있어, $6 \\div 2 = 3$입니다.\n",
            "✅ 155번째 문서에서 키워드 '소인수분해' 발견\n",
            "학습 목표: [9수01-01] 소인수분해의 뜻을 알고, 자연수를 소인수분해할 수 있다.\n",
            "\n",
            "질문: 12를 2로 나누면 얼마인가요?\n",
            "\n",
            "답변: 12를 2로 나누면 6입니다.\n",
            "\n",
            "설명: 12는 2로 나눌 수 있으므로, $12 \\div 2 = 6$입니다.\n",
            "✅ 185번째 문서에서 키워드 '소인수분해' 발견\n",
            "학습 목표: [9수01-01] 소인수분해의 뜻을 알고, 자연수를 소인수분해할 수 있다.\n",
            "\n",
            "질문: 소인수분해란 무엇인가요?\n",
            "\n",
            "답변: 소인수분해는 자연수를 소수들만의 곱으로 표현하는 과정입니다.\n",
            "\n",
            "설명: 소인수분해란 자연수를 소수의 곱으로 표현하는 과정을 의미합니다.\n",
            "✅ 192번째 문서에서 키워드 '소인수분해' 발견\n",
            "학습 목표: [9수01-01] 소인수분해의 뜻을 알고, 자연수를 소인수분해할 수 있다.\n",
            "\n",
            "질문: 3은 어떤 수입니까?\n",
            "\n",
            "답변: 3은 소수입니다. 소수는 1과 자기 자신만으로 나눌 수 있는 수입니다.\n",
            "\n",
            "설명: 3은 소수이므로 더 이상 나눌 수 없습니다.\n",
            "✅ 291번째 문서에서 키워드 '소인수분해' 발견\n",
            "학습 목표: [9수01-01] 소인수분해의 뜻을 알고, 자연수를 소인수분해할 수 있다.\n",
            "\n",
            "질문: 30을 2로 나누면 얼마인가요?\n",
            "\n",
            "답변: $30 \\div 2 = 15$입니다.\n",
            "\n",
            "설명: 30은 2로 나눌 수 있어, $30 \\div 2 = 15$입니다.\n",
            "✅ 308번째 문서에서 키워드 '소인수분해' 발견\n",
            "학습 목표: [9수01-01] 소인수분해의 뜻을 알고, 자연수를 소인수분해할 수 있다.\n",
            "\n",
            "질문: 30을 소수로 나누면 어떤 결과가 나오나요?\n",
            "\n",
            "답변: 30을 소수인 2로 나누면 15가 되고, 30을 소수인 3으로 나누면 10이 됩니다.\n",
            "\n",
            "설명: 30을 소수로 나눕니다.\n"
          ]
        }
      ]
    },
    {
      "cell_type": "code",
      "source": [
        "keyword = \"회전체\"  # 또는 \"순환소수\"\n",
        "matching_docs = []\n",
        "\n",
        "# Chroma 벡터스토어 기준\n",
        "if hasattr(vectorstore, \"get\"):\n",
        "    stored_docs = vectorstore.get()[\"documents\"]\n",
        "\n",
        "    for i, doc in enumerate(stored_docs):\n",
        "        if any(keyword in chunk for chunk in doc):\n",
        "            print(f\"✅ {i+1}번째 문서에서 키워드 '{keyword}' 발견\")\n",
        "            print(doc)\n",
        "            matching_docs.append(doc)\n",
        "else:\n",
        "    print(\"⚠️ 이 벡터스토어에서는 직접 저장된 문서를 확인할 수 없습니다.\")"
      ],
      "metadata": {
        "id": "orSP2krrUdHg"
      },
      "execution_count": null,
      "outputs": []
    },
    {
      "cell_type": "code",
      "source": [
        "print(f\"총 all_docs 문서 수: {len(all_docs)}\")\n",
        "vector_docs = vectorstore.get()[\"documents\"]\n",
        "print(f\"총 vectorstore 저장 문서 수: {len(vector_docs)}\")"
      ],
      "metadata": {
        "colab": {
          "base_uri": "https://localhost:8080/"
        },
        "id": "nxfObTdoRRgm",
        "outputId": "0badaebb-b1a1-4157-c562-27523ae3d9f6"
      },
      "execution_count": null,
      "outputs": [
        {
          "output_type": "stream",
          "name": "stdout",
          "text": [
            "총 all_docs 문서 수: 9124\n",
            "총 vectorstore 저장 문서 수: 39320\n"
          ]
        }
      ]
    },
    {
      "cell_type": "code",
      "source": [
        "# 누락된 문서들만 filtered_docs 리스트로 구성\n",
        "missing_docs = [doc for doc in all_docs if \"소인수분해\" in doc.page_content or \"순환소수\" in doc.page_content]\n",
        "\n",
        "# 벡터스토어에 추가\n",
        "vectorstore.add_documents(documents=missing_docs)\n",
        "print(f\"✅ 누락된 문서 {len(missing_docs)}개가 벡터스토어에 추가되었습니다.\")"
      ],
      "metadata": {
        "colab": {
          "base_uri": "https://localhost:8080/"
        },
        "id": "mIHEy_KHRykZ",
        "outputId": "8615440d-ca19-4c95-e4b1-55a5049ff07e"
      },
      "execution_count": null,
      "outputs": [
        {
          "output_type": "stream",
          "name": "stdout",
          "text": [
            "✅ 누락된 문서 485개가 벡터스토어에 추가되었습니다.\n"
          ]
        }
      ]
    },
    {
      "cell_type": "code",
      "source": [
        "print(f\"총 all_docs 문서 수: {len(all_docs)}\")\n",
        "vector_docs = vectorstore.get()[\"documents\"]\n",
        "print(f\"총 vectorstore 저장 문서 수: {len(vector_docs)}\")"
      ],
      "metadata": {
        "colab": {
          "base_uri": "https://localhost:8080/"
        },
        "id": "Sz8jr6sGR6GX",
        "outputId": "7d0247af-1e9c-417f-9d76-75d55fdad65b"
      },
      "execution_count": null,
      "outputs": [
        {
          "output_type": "stream",
          "name": "stdout",
          "text": [
            "총 all_docs 문서 수: 9124\n",
            "총 vectorstore 저장 문서 수: 39805\n"
          ]
        }
      ]
    },
    {
      "cell_type": "markdown",
      "source": [
        "Step5 : Retriever 사용해보기\n",
        "\n",
        "Retriever는 사용자 입력 시 임베딩 모델을 거친 쿼리와 vectorstore에 저장된 사전 정보들 간의 유사 문장을 찾아내어 출력하는 역할을 합니다."
      ],
      "metadata": {
        "id": "Lq9jWYebWQ82"
      }
    },
    {
      "cell_type": "markdown",
      "source": [
        "긴 문서에서 원하는 답변을 찾을 수 있는 RetrieverQA 체인을 사용합니다"
      ],
      "metadata": {
        "id": "OCOMiSEcMzjB"
      }
    },
    {
      "cell_type": "code",
      "source": [
        "#랭체인의 구글Api를 사용합니다\n",
        "from langchain_google_genai import ChatGoogleGenerativeAI\n",
        "from langchain.chains import RetrievalQA\n",
        "from langchain.callbacks.streaming_stdout import StreamingStdOutCallbackHandler\n",
        "from IPython.display import Markdown, display\n",
        "\n",
        "# \tLangChain에서 Gemini Chat API를 사용하는 래퍼 클래스\n",
        "llm = ChatGoogleGenerativeAI(model = \"gemini-1.5-flash\", temperature=0.0)\n",
        "\n",
        "qa = RetrievalQA.from_chain_type(\n",
        "    llm=llm,\n",
        "    chain_type=\"stuff\", # 체인 타입 (stuff, map_reduce, refine, map_rerank)\n",
        "    retriever=vectorstore.as_retriever(\n",
        "        #search_type=\"mmr\", # 검색 방식: MMR (Maximum Marginal Relevance)\n",
        "        #search_kwargs={\"k\": 3, \"fetch_k\": 20} # 검색 인자: k=3 (최종 반환 문서 수), fetch_k=10 (MMR을 위한 초기 후보군)\n",
        "        search_type=\"similarity\",\n",
        "        search_kwargs={\"k\": 10} # 검색 인자: k=3 (최종 반환 문서 수), fetch_k=10 (MMR을 위한 초기 후보군)\n",
        "    ),\n",
        "    return_source_documents=True # 원본 문서를 함께 반환할지 여부\n",
        ")"
      ],
      "metadata": {
        "id": "3yjpv746MwnF"
      },
      "execution_count": null,
      "outputs": []
    },
    {
      "cell_type": "markdown",
      "source": [
        "1) Retrieval QA Only"
      ],
      "metadata": {
        "id": "-q23p0LZfcx9"
      }
    },
    {
      "cell_type": "code",
      "source": [
        "query = \"소인수분해란 무엇인가요?\"\n",
        "result = qa(query)\n",
        "\n",
        "import pprint\n",
        "pprint.pprint(result)\n",
        "\n",
        "display(Markdown(result[\"result\"]))\n",
        "\n",
        "retrieved_docs = result[\"source_documents\"] # 검색된 문서들\n",
        "\n",
        "for i, doc in enumerate(retrieved_docs):\n",
        "    print(f\"\\n--- Document {i+1} ---\")\n",
        "    print(doc.page_content[:1000])  # 처음 1000자만 출력\n",
        "    print(f\"Metadata: {doc.metadata}\")"
      ],
      "metadata": {
        "id": "KTQXqas2n5FM",
        "colab": {
          "base_uri": "https://localhost:8080/",
          "height": 1000
        },
        "outputId": "7c0ca0b4-e7cc-40d8-afc9-9eeaa5f988c5"
      },
      "execution_count": null,
      "outputs": [
        {
          "output_type": "stream",
          "name": "stdout",
          "text": [
            "{'query': '소인수분해란 무엇인가요?',\n",
            " 'result': '죄송합니다. 그 질문에 대한 답을 모르겠습니다.',\n",
            " 'source_documents': [Document(metadata={'subject': '수학', 'raw_data_name': '수학_중학교_1학년_text_3226_35_png_06', 'grade': '1학년', 'LearningObjective': '[9수03-01] 순서쌍과 좌표를 이해한다.', 'date': '2024-11-20', 'id': 'S1_중등_1_수학_TXT_3010447'}, page_content='학습 목표: [9수03-01] 순서쌍과 좌표를 이해한다.\\n\\n질문: x는 무엇을 나타내나요?\\n\\n답변: x는 x축에서의 거리입니다.\\n\\n설명: x는 x축에서의 거리입니다.'),\n",
            "                      Document(metadata={'id': 'S1_중등_1_수학_TXT_160843', 'subject': '수학', 'date': '2024-08-27', 'grade': '1학년', 'LearningObjective': '[9수04-08] 회전체의 성질을 이해한다.', 'raw_data_name': 'f3b7f237-1ce2-4225-8d5f-bd8bed877be0'}, page_content='학습 목표: [9수04-08] 회전체의 성질을 이해한다.\\n\\n질문:  단면의 모양이 무엇인가요?\\n\\n답변: 단면의 모양은 원입니다.\\n\\n설명: (2) 단면의 모양은 원이다.'),\n",
            "                      Document(metadata={'date': '2024-08-27', 'raw_data_name': 'f2c3442b-6382-49d1-a3ab-86dbc0509c77', 'id': 'S1_중등_1_수학_TXT_160840', 'LearningObjective': '[9수04-08] 회전체의 성질을 이해한다.', 'subject': '수학', 'grade': '1학년'}, page_content='학습 목표: [9수04-08] 회전체의 성질을 이해한다.\\n\\n질문:  단면의 모양이 어떻게 되나요?\\n\\n답변: 단면의 모양은 원입니다.\\n\\n설명: (2) 단면의 모양은 원이다.'),\n",
            "                      Document(metadata={'date': '2024-08-27', 'LearningObjective': '[9수04-07] 다면체의 성질을 이해한다.', 'subject': '수학', 'raw_data_name': '984b89e8-7cdb-480b-bf27-81fb55b2d0f4', 'id': 'S1_중등_1_수학_TXT_109749', 'grade': '1학년'}, page_content='학습 목표: [9수04-07] 다면체의 성질을 이해한다.\\n\\n질문: 무엇에 대해 말하나요?\\n\\n답변: 칠면체에 대해 말합니다. \\n\\n설명: 칠면체이다.'),\n",
            "                      Document(metadata={'subject': '수학', 'date': '2024-08-27', 'grade': '1학년', 'raw_data_name': 'acf4500f-6642-4931-8302-afc99fbac718', 'LearningObjective': '[9수03-02] 다양한 상황을 그래프로 나타내고, 주어진 그래프를 해석할 수 있다.', 'id': 'S1_중등_1_수학_TXT_162786'}, page_content='학습 목표: [9수03-02] 다양한 상황을 그래프로 나타내고, 주어진 그래프를 해석할 수 있다.\\n\\n질문:  $y$의 값은 어떻게 변하나요?\\n\\n답변: $y$의 값도 일정하게 증가합니다.\\n\\n설명: $y$ 의 값도 일정하게 증가한다.'),\n",
            "                      Document(metadata={'date': '2024-08-27', 'grade': '1학년', 'id': 'S1_중등_1_수학_TXT_103462', 'subject': '수학', 'LearningObjective': '[9수04-07] 다면체의 성질을 이해한다.', 'raw_data_name': '21b07387-63d7-4b47-a29b-5b044fc73794'}, page_content='학습 목표: [9수04-07] 다면체의 성질을 이해한다.\\n\\n질문: 정이십면체의 전개도인가?\\n\\n답변: 정이십면체의 전개도이다.\\n\\n설명: 정이십면체의 전개도이다.'),\n",
            "                      Document(metadata={'raw_data_name': 'fe58434a-142f-46d1-b9b7-bed5863e29af', 'date': '2024-08-27', 'LearningObjective': '[9수04-08] 회전체의 성질을 이해한다.', 'id': 'S1_중등_1_수학_TXT_103533', 'grade': '1학년', 'subject': '수학'}, page_content='학습 목표: [9수04-08] 회전체의 성질을 이해한다.\\n\\n질문: 회전체의 옆면은 곡면인가?\\n\\n답변: 회전체의 옆면은 곡면이다.\\n\\n설명: 회전체의 옆면은 곡면이다.'),\n",
            "                      Document(metadata={'raw_data_name': '26374184-bec0-4991-83b2-4456eb8d8bbe', 'subject': '수학', 'date': '2024-08-27', 'id': 'S1_중등_1_수학_TXT_100316', 'grade': '1학년', 'LearningObjective': '[9수04-07] 다면체의 성질을 이해한다.'}, page_content='학습 목표: [9수04-07] 다면체의 성질을 이해한다.\\n\\n질문: 무엇을 알아보려 하는가?\\n\\n답변: 정다면체를 알아보려 한다.\\n\\n설명: (2) 정다면체'),\n",
            "                      Document(metadata={'raw_data_name': 'f433163e-9775-466f-ba08-32a7abe04802', 'id': 'S1_중등_1_수학_TXT_097324', 'date': '2024-08-27', 'subject': '수학', 'LearningObjective': '[9수01-03] 양수와 음수, 정수와 유리수의 개념을 이해한다.', 'grade': '1학년'}, page_content='학습 목표: [9수01-03] 양수와 음수, 정수와 유리수의 개념을 이해한다.\\n\\n질문: 절댓값이 같다는 것은 무슨 뜻인가?\\n\\n답변: 같은 거리만큼 떨어져 있다.\\n\\n설명: $a$ 와 $b$ 의 절댓값은 같다.'),\n",
            "                      Document(metadata={'date': '2024-08-27', 'grade': '1학년', 'id': 'S1_중등_1_수학_TXT_103440', 'subject': '수학', 'raw_data_name': '26c2cf80-c30d-46ba-9d3b-1a64d1bd1b16', 'LearningObjective': '[9수04-07] 다면체의 성질을 이해한다.'}, page_content='학습 목표: [9수04-07] 다면체의 성질을 이해한다.\\n\\n질문: 옆면은 모두 사다리꼴인가?\\n\\n답변: 옆면은 모두 사다리꼴이다.\\n\\n설명: 옆면은 모두 사다리꼴이다.')]}\n"
          ]
        },
        {
          "output_type": "display_data",
          "data": {
            "text/plain": [
              "<IPython.core.display.Markdown object>"
            ],
            "text/markdown": "죄송합니다. 그 질문에 대한 답을 모르겠습니다."
          },
          "metadata": {}
        },
        {
          "output_type": "stream",
          "name": "stdout",
          "text": [
            "\n",
            "--- Document 1 ---\n",
            "학습 목표: [9수03-01] 순서쌍과 좌표를 이해한다.\n",
            "\n",
            "질문: x는 무엇을 나타내나요?\n",
            "\n",
            "답변: x는 x축에서의 거리입니다.\n",
            "\n",
            "설명: x는 x축에서의 거리입니다.\n",
            "Metadata: {'subject': '수학', 'raw_data_name': '수학_중학교_1학년_text_3226_35_png_06', 'grade': '1학년', 'LearningObjective': '[9수03-01] 순서쌍과 좌표를 이해한다.', 'date': '2024-11-20', 'id': 'S1_중등_1_수학_TXT_3010447'}\n",
            "\n",
            "--- Document 2 ---\n",
            "학습 목표: [9수04-08] 회전체의 성질을 이해한다.\n",
            "\n",
            "질문:  단면의 모양이 무엇인가요?\n",
            "\n",
            "답변: 단면의 모양은 원입니다.\n",
            "\n",
            "설명: (2) 단면의 모양은 원이다.\n",
            "Metadata: {'id': 'S1_중등_1_수학_TXT_160843', 'subject': '수학', 'date': '2024-08-27', 'grade': '1학년', 'LearningObjective': '[9수04-08] 회전체의 성질을 이해한다.', 'raw_data_name': 'f3b7f237-1ce2-4225-8d5f-bd8bed877be0'}\n",
            "\n",
            "--- Document 3 ---\n",
            "학습 목표: [9수04-08] 회전체의 성질을 이해한다.\n",
            "\n",
            "질문:  단면의 모양이 어떻게 되나요?\n",
            "\n",
            "답변: 단면의 모양은 원입니다.\n",
            "\n",
            "설명: (2) 단면의 모양은 원이다.\n",
            "Metadata: {'date': '2024-08-27', 'raw_data_name': 'f2c3442b-6382-49d1-a3ab-86dbc0509c77', 'id': 'S1_중등_1_수학_TXT_160840', 'LearningObjective': '[9수04-08] 회전체의 성질을 이해한다.', 'subject': '수학', 'grade': '1학년'}\n",
            "\n",
            "--- Document 4 ---\n",
            "학습 목표: [9수04-07] 다면체의 성질을 이해한다.\n",
            "\n",
            "질문: 무엇에 대해 말하나요?\n",
            "\n",
            "답변: 칠면체에 대해 말합니다. \n",
            "\n",
            "설명: 칠면체이다.\n",
            "Metadata: {'date': '2024-08-27', 'LearningObjective': '[9수04-07] 다면체의 성질을 이해한다.', 'subject': '수학', 'raw_data_name': '984b89e8-7cdb-480b-bf27-81fb55b2d0f4', 'id': 'S1_중등_1_수학_TXT_109749', 'grade': '1학년'}\n",
            "\n",
            "--- Document 5 ---\n",
            "학습 목표: [9수03-02] 다양한 상황을 그래프로 나타내고, 주어진 그래프를 해석할 수 있다.\n",
            "\n",
            "질문:  $y$의 값은 어떻게 변하나요?\n",
            "\n",
            "답변: $y$의 값도 일정하게 증가합니다.\n",
            "\n",
            "설명: $y$ 의 값도 일정하게 증가한다.\n",
            "Metadata: {'subject': '수학', 'date': '2024-08-27', 'grade': '1학년', 'raw_data_name': 'acf4500f-6642-4931-8302-afc99fbac718', 'LearningObjective': '[9수03-02] 다양한 상황을 그래프로 나타내고, 주어진 그래프를 해석할 수 있다.', 'id': 'S1_중등_1_수학_TXT_162786'}\n",
            "\n",
            "--- Document 6 ---\n",
            "학습 목표: [9수04-07] 다면체의 성질을 이해한다.\n",
            "\n",
            "질문: 정이십면체의 전개도인가?\n",
            "\n",
            "답변: 정이십면체의 전개도이다.\n",
            "\n",
            "설명: 정이십면체의 전개도이다.\n",
            "Metadata: {'date': '2024-08-27', 'grade': '1학년', 'id': 'S1_중등_1_수학_TXT_103462', 'subject': '수학', 'LearningObjective': '[9수04-07] 다면체의 성질을 이해한다.', 'raw_data_name': '21b07387-63d7-4b47-a29b-5b044fc73794'}\n",
            "\n",
            "--- Document 7 ---\n",
            "학습 목표: [9수04-08] 회전체의 성질을 이해한다.\n",
            "\n",
            "질문: 회전체의 옆면은 곡면인가?\n",
            "\n",
            "답변: 회전체의 옆면은 곡면이다.\n",
            "\n",
            "설명: 회전체의 옆면은 곡면이다.\n",
            "Metadata: {'raw_data_name': 'fe58434a-142f-46d1-b9b7-bed5863e29af', 'date': '2024-08-27', 'LearningObjective': '[9수04-08] 회전체의 성질을 이해한다.', 'id': 'S1_중등_1_수학_TXT_103533', 'grade': '1학년', 'subject': '수학'}\n",
            "\n",
            "--- Document 8 ---\n",
            "학습 목표: [9수04-07] 다면체의 성질을 이해한다.\n",
            "\n",
            "질문: 무엇을 알아보려 하는가?\n",
            "\n",
            "답변: 정다면체를 알아보려 한다.\n",
            "\n",
            "설명: (2) 정다면체\n",
            "Metadata: {'raw_data_name': '26374184-bec0-4991-83b2-4456eb8d8bbe', 'subject': '수학', 'date': '2024-08-27', 'id': 'S1_중등_1_수학_TXT_100316', 'grade': '1학년', 'LearningObjective': '[9수04-07] 다면체의 성질을 이해한다.'}\n",
            "\n",
            "--- Document 9 ---\n",
            "학습 목표: [9수01-03] 양수와 음수, 정수와 유리수의 개념을 이해한다.\n",
            "\n",
            "질문: 절댓값이 같다는 것은 무슨 뜻인가?\n",
            "\n",
            "답변: 같은 거리만큼 떨어져 있다.\n",
            "\n",
            "설명: $a$ 와 $b$ 의 절댓값은 같다.\n",
            "Metadata: {'raw_data_name': 'f433163e-9775-466f-ba08-32a7abe04802', 'id': 'S1_중등_1_수학_TXT_097324', 'date': '2024-08-27', 'subject': '수학', 'LearningObjective': '[9수01-03] 양수와 음수, 정수와 유리수의 개념을 이해한다.', 'grade': '1학년'}\n",
            "\n",
            "--- Document 10 ---\n",
            "학습 목표: [9수04-07] 다면체의 성질을 이해한다.\n",
            "\n",
            "질문: 옆면은 모두 사다리꼴인가?\n",
            "\n",
            "답변: 옆면은 모두 사다리꼴이다.\n",
            "\n",
            "설명: 옆면은 모두 사다리꼴이다.\n",
            "Metadata: {'date': '2024-08-27', 'grade': '1학년', 'id': 'S1_중등_1_수학_TXT_103440', 'subject': '수학', 'raw_data_name': '26c2cf80-c30d-46ba-9d3b-1a64d1bd1b16', 'LearningObjective': '[9수04-07] 다면체의 성질을 이해한다.'}\n"
          ]
        }
      ]
    },
    {
      "cell_type": "code",
      "source": [
        "query = \"회전체 대해 설명해줘\"\n",
        "result = qa(query)\n",
        "display(Markdown(result[\"result\"]))\n",
        "\n",
        "pprint.pprint(result)"
      ],
      "metadata": {
        "colab": {
          "base_uri": "https://localhost:8080/",
          "height": 178
        },
        "id": "yNndXQjrNCAn",
        "outputId": "3c9014ae-ac93-478b-a47b-e0ecde3c04ec"
      },
      "execution_count": null,
      "outputs": [
        {
          "output_type": "display_data",
          "data": {
            "text/plain": [
              "<IPython.core.display.Markdown object>"
            ],
            "text/markdown": "제공된 텍스트에는 회전체에 대한 자세한 설명이 없습니다.  회전체를 자르면 평면도형이 생긴다는 정보만 있습니다.  더 자세한 설명은 드릴 수 없습니다."
          },
          "metadata": {}
        },
        {
          "output_type": "stream",
          "name": "stdout",
          "text": [
            "{'query': '회전체 대해 설명해줘',\n",
            " 'result': '제공된 텍스트에는 회전체에 대한 자세한 설명이 없습니다.  회전체를 자르면 평면도형이 생긴다는 정보만 있습니다.  더 '\n",
            "           '자세한 설명은 드릴 수 없습니다.',\n",
            " 'source_documents': [Document(metadata={'grade': '1학년', 'LearningObjective': '[9수04-07] 다면체의 성질을 이해한다.', 'id': 'S1_중등_1_수학_TXT_3091829', 'subject': '수학', 'date': '2024-11-28', 'raw_data_name': '수학_중학교_1학년_text_514_png_17'}, page_content='학습 목표: [9수04-07] 다면체의 성질을 이해한다.\\n\\n질문: 오일러의 정리는 무엇인가요?'),\n",
            "                      Document(metadata={'date': '2024-11-20', 'id': 'S1_중등_1_수학_TXT_3016340', 'raw_data_name': '수학_중학교_1학년_text_3226_110_png_17', 'grade': '1학년', 'LearningObjective': '[9수03-01] 순서쌍과 좌표를 이해한다.', 'subject': '수학'}, page_content='학습 목표: [9수03-01] 순서쌍과 좌표를 이해한다.\\n\\n질문: 두 위치를 연결하여 점을 찍는 것은 어떤 의미인가요?'),\n",
            "                      Document(metadata={'raw_data_name': '527339e4-f9f2-43cb-a541-12424db280b4', 'grade': '1학년', 'date': '2024-08-27', 'subject': '수학', 'LearningObjective': '[9수04-08] 회전체의 성질을 이해한다.', 'id': 'S1_중등_1_수학_TXT_103493'}, page_content='학습 목표: [9수04-08] 회전체의 성질을 이해한다.\\n\\n질문: 회전체를 자르면 생기는 도형은 무엇인가?\\n\\n답변: 회전체를 자르면 생기는 도형은 평면도형이다.\\n\\n설명: 회전체를 자르면 평면도형이 생긴다.')]}\n"
          ]
        }
      ]
    },
    {
      "cell_type": "markdown",
      "source": [
        "2) LLM Only"
      ],
      "metadata": {
        "id": "WWShA02Lfi0L"
      }
    },
    {
      "cell_type": "code",
      "source": [
        "request = llm.invoke(\"회전체 대해 설명해줘\")\n",
        "display(Markdown(request.content))"
      ],
      "metadata": {
        "colab": {
          "base_uri": "https://localhost:8080/",
          "height": 401
        },
        "id": "6oxw5Jx8OrPm",
        "outputId": "3e7616c5-6a25-41e7-8451-b6ede46ddc17"
      },
      "execution_count": null,
      "outputs": [
        {
          "output_type": "display_data",
          "data": {
            "text/plain": [
              "<IPython.core.display.Markdown object>"
            ],
            "text/markdown": "회전체는 **평면도형을 어떤 직선을 축으로 하여 360도 회전시켜 만들어지는 입체도형**입니다.  회전하는 평면도형을 **모양도형** 또는 **생성도형**이라고 하고, 회전축을 **회전축**이라고 합니다.\n\n회전체의 특징은 다음과 같습니다.\n\n* **대칭성:** 회전축에 대해 회전대칭입니다.  즉, 회전축을 중심으로 어느 각도로 회전시켜도 모양이 변하지 않습니다.\n* **곡면:** 일반적으로 곡면으로 이루어져 있습니다.  단, 모양도형이 직선이나 원 등으로 이루어진 경우 일부 평면이 포함될 수 있습니다.\n* **부피와 겉넓이:** 모양도형의 형태와 회전축으로부터의 거리에 따라 부피와 겉넓이가 결정됩니다.  적분을 이용하여 부피와 겉넓이를 계산할 수 있습니다.\n\n**회전체의 예시:**\n\n* **원뿔:** 직각삼각형을 빗변을 축으로 회전시켜 만든 회전체입니다.\n* **원기둥:** 직사각형을 한 변을 축으로 회전시켜 만든 회전체입니다.\n* **구:** 원을 지름을 축으로 회전시켜 만든 회전체입니다.\n* **토러스(도넛):** 원을 원의 중심을 지나지 않는 직선을 축으로 회전시켜 만든 회전체입니다.\n* **회전타원체:** 타원을 장축 또는 단축을 축으로 회전시켜 만든 회전체입니다.\n\n\n**회전체의 이해를 위한 추가 설명:**\n\n* **회전축의 위치:** 모양도형과 회전축의 상대적인 위치에 따라 만들어지는 회전체의 모양이 달라집니다.  회전축이 모양도형의 내부에 있을 수도 있고, 외부에 있을 수도 있습니다.\n* **적분의 활용:** 회전체의 부피와 겉넓이를 정확하게 계산하기 위해서는 적분을 사용하는 것이 일반적입니다.  구분구적법의 원리를 이용하여 무한히 작은 부피 또는 넓이의 합으로 계산합니다.\n\n\n회전체는 수학, 공학, 디자인 등 다양한 분야에서 중요한 개념으로 사용됩니다.  예를 들어, 건축물의 설계, 엔지니어링 디자인, 컴퓨터 그래픽스 등에서 회전체의 원리를 활용합니다."
          },
          "metadata": {}
        }
      ]
    },
    {
      "cell_type": "markdown",
      "source": [
        "3) LLM + Prompt"
      ],
      "metadata": {
        "id": "sej62tQNhYY5"
      }
    },
    {
      "cell_type": "code",
      "source": [
        "from langchain.prompts import ChatPromptTemplate\n",
        "from langchain.prompts import PromptTemplate\n",
        "\n",
        "templete = \"\"\"\n",
        "당신은 중학교 수학 개념을 설명하는 유용한 조수입니다. \\\n",
        "사용자가 특정 수학 개념이나 주제를 질문하면, 중학생이 이해할 수 있는 수준에서 해당 개념을 명확하고 상세하게 설명합니다. \\\n",
        "설명은 다음 구조를 따릅니다: 1) 개념의 정의를 간단히 제시, 2) 개념을 이해하기 위한 단계별 설명을 자세히 제공, 3) 실생활과 연관된 간단한 예시나 문제를 통해 구체적으로 보여주기, 4) 해당 개념이 중학교 교과과정 중 몇 학년에 주로 학습되는지 간단히 언급. \\\n",
        "불필요한 세부사항은 피하고, 중학생에게 적합한 쉬운 언어와 친근한 톤을 사용하며, 개념을 깊이 이해할 수 있도록 충분한 설명을 제공하세요. \\\n",
        "오직 개념 설명과 학년 정보만 포함하고, 그 외의 불필요한 내용은 추가하지 마세요.\n",
        "\"\"\"\n",
        "\n",
        "human_templete = \"{text}\"\n",
        "\n",
        "chat_prompt = ChatPromptTemplate.from_messages([\n",
        "    (\"system\", templete),\n",
        "    (\"human\", human_templete),\n",
        "])\n",
        "\n",
        "chain = chat_prompt | llm"
      ],
      "metadata": {
        "id": "MEsFpyuHNSqh"
      },
      "execution_count": null,
      "outputs": []
    },
    {
      "cell_type": "code",
      "source": [
        "templete = \"\"\"\n",
        "당신은 중학교 수학 개념을 설명하는 유용한 조수입니다. \\\n",
        "사용자가 특정 수학 개념이나 주제를 질문하면, 중학생이 이해할 수 있는 수준에서 해당 개념을 명확하고 간결하게 설명합니다. \\\n",
        "설명은 다음 구조를 따릅니다: 1) 개념의 정의, 2) 단계별 설명, 3) 간단한 예시. \\\n",
        "불필요한 세부사항은 피하고, 중학생에게 적합한 쉬운 언어와 친근한 톤을 사용하세요. \\\n",
        "오직 개념 설명만 제공하고, 그 외의 불필요한 내용은 포함하지 마세요.\n",
        "\"\"\"\n",
        "\n",
        "human_templete = \"{text}\"\n",
        "\n",
        "chat_prompt = ChatPromptTemplate.from_messages([\n",
        "    (\"system\", templete),\n",
        "    (\"human\", human_templete),\n",
        "])\n",
        "\n",
        "chain = chat_prompt | llm"
      ],
      "metadata": {
        "id": "WWD5uX08OW-1"
      },
      "execution_count": null,
      "outputs": []
    },
    {
      "cell_type": "code",
      "source": [
        "response = chain.invoke(\"text : 회전체 대해 설명해줘\" )\n",
        "display(Markdown(response.content))"
      ],
      "metadata": {
        "colab": {
          "base_uri": "https://localhost:8080/",
          "height": 289
        },
        "id": "cK0d-8GSObp_",
        "outputId": "aa5b17da-2451-4680-dfad-bbfe062b60ce"
      },
      "execution_count": null,
      "outputs": [
        {
          "output_type": "display_data",
          "data": {
            "text/plain": [
              "<IPython.core.display.Markdown object>"
            ],
            "text/markdown": "회전체는 어떤 도형을 하나의 직선을 축으로 하여 360도 회전시켰을 때 만들어지는 입체도형입니다.  \n\n**1. 정의:**  평면도형을 직선 주위로 한 바퀴 돌려서 만들어지는 3차원 입체도형입니다.  회전하는 도형을 **모양체**, 회전축을 **회전축**이라고 합니다.\n\n**2. 단계별 설명:**\n\n1. **평면도형 선택:**  원, 삼각형, 사각형 등 회전시키고 싶은 평면도형을 선택합니다.\n2. **회전축 선택:**  평면도형을 회전시킬 직선(축)을 정합니다.  이 축은 도형의 안쪽이나 바깥쪽에 있을 수 있습니다.\n3. **회전:** 선택한 평면도형을 회전축을 중심으로 360도 완전히 회전시킵니다.\n4. **회전체 생성:** 회전이 끝나면 만들어진 3차원 입체도형이 회전체입니다.\n\n**3. 간단한 예시:**\n\n* **원을 지름을 축으로 회전시키면 구가 됩니다.**  원이 회전하면서 공 모양의 입체도형이 만들어집니다.\n* **직사각형을 한 변을 축으로 회전시키면 원기둥이 됩니다.** 직사각형이 회전하면서 원통 모양이 만들어집니다.\n* **직각삼각형을 한 직각변을 축으로 회전시키면 원뿔이 됩니다.** 삼각형이 회전하면서 깔때기 모양이 만들어집니다.\n\n\n회전체는 다양한 모양을 만들 수 있으며,  주변에서 쉽게 찾아볼 수 있는 많은 물건들이 회전체의 원리를 이용하여 만들어졌습니다."
          },
          "metadata": {}
        }
      ]
    },
    {
      "cell_type": "markdown",
      "source": [
        "4) RAG + LLM Prompt\n",
        "\n",
        "- 벡터스토어에서 검색한 documents를 context로 prompt에 주입하여\n",
        "  LLM에 Augmented Generation 수행"
      ],
      "metadata": {
        "id": "MFT2BJA1O5Kq"
      }
    },
    {
      "cell_type": "code",
      "source": [
        "# LLM + Retriever 결합으로 질문-응답 생성\n",
        "qa = RetrievalQA.from_chain_type(\n",
        "    llm=llm,\n",
        "    chain_type=\"stuff\", # 체인 타입 (stuff, map_reduce, refine, map_rerank)\n",
        "    retriever=vectorstore.as_retriever(\n",
        "        search_type=\"mmr\", # 검색 방식: MMR (Maximum Marginal Relevance)\n",
        "        search_kwargs={\"k\": 3, \"fetch_k\": 10} # 검색 인자: k=3 (최종 반환 문서 수), fetch_k=10 (MMR을 위한 초기 후보군)\n",
        "    ),\n",
        "    return_source_documents=True # 원본 문서를 함께 반환할지 여부\n",
        ")\n",
        "\n",
        "query = \"회전체 대해 설명해줘\"\n",
        "result = qa(query)\n",
        "#display(Markdown(result[\"result\"]))\n",
        "\n",
        "retrieved_docs = result[\"source_documents\"] # 검색된 문서들\n",
        "\n",
        "# 검색된 문서들을 하나의 문자열로 결합 (예시)\n",
        "# 실제 프로젝트에서는 문서 내용을 어떻게 조합할지 더 고민해볼 수 있어요.\n",
        "docs_content = \"\\n\\n\".join([doc.page_content for doc in retrieved_docs])\n",
        "\n",
        "#formatted_messages = chat_prompt.format_messages(context=docs_content, text=query)\n",
        "#response = llm.invoke(formatted_messages)\n",
        "\n",
        "from langchain_core.runnables import RunnablePassthrough\n",
        "from langchain_core.output_parsers import StrOutputParser\n",
        "\n",
        "rag_chain = (\n",
        "    {\"context\": lambda x: docs_content, \"text\": RunnablePassthrough()}\n",
        "    | chat_prompt\n",
        "    | llm\n",
        "    | StrOutputParser()\n",
        ")\n",
        "\n",
        "#response = rag_chain.invoke(\"선생님, 순환소수란 정확히 뭐예요? 그냥 무한소수랑 다른 점이 뭔가요?\")\n",
        "response = rag_chain.invoke(query)\n",
        "\n",
        "display(Markdown(response))"
      ],
      "metadata": {
        "colab": {
          "base_uri": "https://localhost:8080/",
          "height": 266
        },
        "id": "ta78ySYDjcaW",
        "outputId": "978ebe8e-91e9-4dea-a3f9-7e4bf02f3e32"
      },
      "execution_count": null,
      "outputs": [
        {
          "output_type": "display_data",
          "data": {
            "text/plain": [
              "<IPython.core.display.Markdown object>"
            ],
            "text/markdown": "회전체는 어떤 도형을 **직선을 축으로 하여 회전시켰을 때 만들어지는 3차원 입체 도형**입니다.  쉽게 말해, 평면 도형을 빙글빙글 돌려서 만든 입체 모양이라고 생각하면 됩니다.\n\n**단계별 설명:**\n\n1. **평면 도형 선택:**  원, 삼각형, 사각형 등 어떤 평면 도형을 선택합니다.\n2. **회전축 선택:**  도형을 회전시킬 직선을 선택합니다. 이 직선은 도형의 일부분을 지나거나, 도형 밖에 있을 수도 있습니다.\n3. **회전:** 선택한 도형을 회전축을 중심으로 360도 회전시킵니다.\n4. **회전체 생성:** 회전 과정에서 만들어지는 3차원 입체 도형이 회전체입니다.\n\n\n**간단한 예시:**\n\n* **원을 지름을 축으로 회전시키면 구가 됩니다.**  (공처럼 생긴 모양)\n* **직사각형을 한 변을 축으로 회전시키면 원기둥이 됩니다.** (캔이나 컵처럼 생긴 모양)\n* **직각삼각형을 한 직각변을 축으로 회전시키면 원뿔이 됩니다.** (아이스크림 콘처럼 생긴 모양)\n\n\n회전축의 위치와 도형의 모양에 따라 다양한 회전체가 만들어집니다."
          },
          "metadata": {}
        }
      ]
    },
    {
      "cell_type": "code",
      "source": [
        "from langchain_core.runnables import RunnablePassthrough\n",
        "from langchain_core.output_parsers import StrOutputParser\n",
        "\n",
        "# LLM + Retriever 결합으로 질문-응답 생성\n",
        "qa = RetrievalQA.from_chain_type(\n",
        "    llm=llm,\n",
        "    chain_type=\"stuff\", # 체인 타입 (stuff, map_reduce, refine, map_rerank)\n",
        "    retriever=vectorstore.as_retriever(\n",
        "        search_type=\"mmr\", # 검색 방식: MMR (Maximum Marginal Relevance)\n",
        "        search_kwargs={\"k\": 3, \"fetch_k\": 10} # 검색 인자: k=3 (최종 반환 문서 수), fetch_k=10 (MMR을 위한 초기 후보군)\n",
        "    ),\n",
        "    return_source_documents=True # 원본 문서를 함께 반환할지 여부\n",
        ")\n",
        "\n",
        "rag_chain = (\n",
        "    {\"context\": lambda x: docs_content, \"text\": RunnablePassthrough()}\n",
        "    | chat_prompt\n",
        "    | llm\n",
        "    | StrOutputParser()\n",
        ")\n",
        "\n",
        "def get_response_with_docs(question: str):\n",
        "    result = qa(question)\n",
        "    docs = result[\"source_documents\"]\n",
        "\n",
        "    for i, doc in enumerate(docs):\n",
        "      print(f\"\\n--- Document {i+1} ---\")\n",
        "      print(doc.page_content[:1000])  # 처음 1000자만 출력\n",
        "\n",
        "    context = \"\\n\\n\".join([doc.page_content for doc in docs])\n",
        "    return rag_chain.invoke({\"text\": question})\n",
        "\n",
        "# 질문 예시\n",
        "#print(get_response_with_docs(\"소인수분해는 어떻게 하나요?\"))\n",
        "#print(get_response_with_docs(\"순환소수와 무한소수의 차이는?\"))"
      ],
      "metadata": {
        "id": "IYnQ-euxmB7B"
      },
      "execution_count": null,
      "outputs": []
    },
    {
      "cell_type": "code",
      "source": [
        "display(Markdown(get_response_with_docs(\"소인수분해는 어떻게 하나요?\")))"
      ],
      "metadata": {
        "colab": {
          "base_uri": "https://localhost:8080/",
          "height": 786
        },
        "id": "fuNPVn3omTVq",
        "outputId": "d0245842-fa38-41f5-b9b6-618abfdc276c"
      },
      "execution_count": null,
      "outputs": [
        {
          "output_type": "stream",
          "name": "stdout",
          "text": [
            "\n",
            "--- Document 1 ---\n",
            "학습 목표: [9수04-08] 회전체의 성질을 이해한다.\n",
            "\n",
            "질문:  단면의 모양이 어떻게 되나요?\n",
            "\n",
            "답변: 단면의 모양은 원입니다.\n",
            "\n",
            "설명: (2) 단면의 모양은 원이다.\n",
            "\n",
            "--- Document 2 ---\n",
            "학습 목표: [9수04-08] 회전체의 성질을 이해한다.\n",
            "\n",
            "질문:  단면의 모양이 어떻게 되나요?\n",
            "\n",
            "답변: 단면의 모양은 원입니다.\n",
            "\n",
            "설명: (2) 단면의 모양은 원이다.\n",
            "\n",
            "--- Document 3 ---\n",
            "학습 목표: [9수04-07] 다면체의 성질을 이해한다.\n",
            "\n",
            "질문: 무엇에 대해 말하나요?\n",
            "\n",
            "답변: 칠면체에 대해 말합니다. \n",
            "\n",
            "설명: 칠면체이다.\n"
          ]
        },
        {
          "output_type": "display_data",
          "data": {
            "text/plain": [
              "<IPython.core.display.Markdown object>"
            ],
            "text/markdown": "소인수분해는 어떤 수를 소수들의 곱으로 나타내는 것을 말해요.  소수는 1과 자기 자신만으로 나누어 떨어지는 1보다 큰 수를 말하죠. (예: 2, 3, 5, 7, 11, ...)\n\n소인수분해 하는 방법은 다음과 같아요:\n\n1. **주어진 수를 가장 작은 소수로 나눕니다.**  나누어 떨어지지 않으면 다음 작은 소수로 나누어 봅니다.\n2. **몫을 다시 가장 작은 소수로 나눕니다.**  1이 될 때까지 이 과정을 반복합니다.\n3. **나눈 소수들을 모두 곱하면 원래 수가 됩니다.** 이 소수들이 바로 그 수의 소인수들이에요.\n\n**예시:** 24를 소인수분해 해 볼까요?\n\n1. 24는 2로 나누어떨어지므로, 24 ÷ 2 = 12\n2. 12도 2로 나누어떨어지므로, 12 ÷ 2 = 6\n3. 6도 2로 나누어떨어지므로, 6 ÷ 2 = 3\n4. 3은 소수이므로 더 이상 나눌 수 없어요.\n\n따라서 24의 소인수분해는 2 × 2 × 2 × 3 = 2³ × 3 이 됩니다.  2와 3이 24의 소인수이고, 2는 세 번 곱해졌으므로 지수는 3이 됩니다."
          },
          "metadata": {}
        }
      ]
    },
    {
      "cell_type": "code",
      "source": [
        "display(Markdown(get_response_with_docs(\"순환소수와 무한소수의 차이는?\")))"
      ],
      "metadata": {
        "colab": {
          "base_uri": "https://localhost:8080/",
          "height": 854
        },
        "id": "O25l3ACwtMiB",
        "outputId": "5659d269-d2e0-43ff-80c6-21c9690d3902"
      },
      "execution_count": null,
      "outputs": [
        {
          "output_type": "stream",
          "name": "stdout",
          "text": [
            "\n",
            "--- Document 1 ---\n",
            "학습 목표: [9수04-08] 회전체의 성질을 이해한다.\n",
            "\n",
            "질문:  단면의 모양이 어떻게 되나요?\n",
            "\n",
            "답변: 단면의 모양은 원입니다.\n",
            "\n",
            "설명: (2) 단면의 모양은 원이다.\n",
            "\n",
            "--- Document 2 ---\n",
            "학습 목표: [9수04-08] 회전체의 성질을 이해한다.\n",
            "\n",
            "질문:  단면의 모양이 어떻게 되나요?\n",
            "\n",
            "답변: 단면의 모양은 원입니다.\n",
            "\n",
            "설명: (2) 단면의 모양은 원이다.\n",
            "\n",
            "--- Document 3 ---\n",
            "학습 목표: [9수04-07] 다면체의 성질을 이해한다.\n",
            "\n",
            "질문: 무엇에 대해 말하나요?\n",
            "\n",
            "답변: 칠면체에 대해 말합니다. \n",
            "\n",
            "설명: 칠면체이다.\n"
          ]
        },
        {
          "output_type": "display_data",
          "data": {
            "text/plain": [
              "<IPython.core.display.Markdown object>"
            ],
            "text/markdown": "순환소수와 무한소수는 모두 소수점 아래 숫자가 무한히 이어지는 소수이지만,  숫자의 배열 패턴에 차이가 있습니다.\n\n**1. 정의:**\n\n* **무한소수:** 소수점 아래 숫자가 무한히 계속되는 소수입니다.  순환하는 부분이 없을 수도 있고, 있을 수도 있습니다.\n\n* **순환소수:** 소수점 아래 어떤 숫자 또는 숫자들의 배열이 무한히 반복되는 무한소수입니다.  반복되는 부분을 '순환마디'라고 합니다.\n\n\n**2. 단계별 설명:**\n\n무한소수는 크게 두 가지로 나눌 수 있습니다.\n\n* **순환소수:**  예를 들어 0.3333... (3이 무한히 반복)은 순환소수입니다.  순환마디는 '3'입니다.  또, 0.123123123... (123이 무한히 반복)도 순환소수이며, 순환마디는 '123'입니다.  순환마디는 윗점(.)이나 괄호()를 사용하여 표시합니다 (예: 0.3̇ 또는 0.(3), 0.123̇ 또는 0.(123)).\n\n* **비순환소수:**  소수점 아래 숫자가 무한히 계속되지만, 어떤 규칙적인 패턴도 반복되지 않는 무한소수입니다. 예를 들어 원주율 π(파이) = 3.1415926535... 는 비순환소수입니다.  숫자들이 계속 이어지지만,  규칙적인 반복 패턴은 없습니다.\n\n\n**3. 간단한 예시:**\n\n* **순환소수:** 1/3 = 0.3333... = 0.3̇  (순환마디는 3)\n* **비순환소수:**  √2 (루트 2) ≈ 1.41421356... (규칙적인 반복 패턴이 없음)\n\n\n결론적으로, 모든 순환소수는 무한소수이지만, 모든 무한소수가 순환소수인 것은 아닙니다.  순환소수는 규칙적인 반복 패턴을 가지는 무한소수인 반면, 비순환소수는 그렇지 않습니다."
          },
          "metadata": {}
        }
      ]
    },
    {
      "cell_type": "markdown",
      "source": [
        "# < 회고 >"
      ],
      "metadata": {
        "id": "97Pu0PFOihXk"
      }
    },
    {
      "cell_type": "markdown",
      "source": [
        "## Vector DB에서 RetreivalQA의 결과가 제대로 나오지 않는 문제가 보인다. 질의가 뭐든지, 비슷한 문서를 검색하는 양상이다.\n",
        " - 확인한 사항\n",
        "  + docs에 포함되어 있는지? yes\n",
        "  + vector에 해당 데이타(문자)가 포함되어 있는지? yes\n",
        "  + 가져올 문서 개수를 증가 3 -> 5 -> 10\n",
        "  + mmr -> similarity 로 변경\n",
        "   "
      ],
      "metadata": {
        "id": "w_kb5JQx-Vzv"
      }
    }
  ]
}