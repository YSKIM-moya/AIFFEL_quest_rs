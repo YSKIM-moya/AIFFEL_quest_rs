{
 "cells": [
  {
   "cell_type": "code",
   "execution_count": 5,
   "id": "05ca5aa3",
   "metadata": {},
   "outputs": [
    {
     "name": "stdout",
     "output_type": "stream",
     "text": [
      "2.6.0\n",
      "[PhysicalDevice(name='/physical_device:GPU:0', device_type='GPU')]\n",
      "/device:GPU:0\n"
     ]
    }
   ],
   "source": [
    "from __future__ import absolute_import, division, print_function, unicode_literals\n",
    "\n",
    "import tensorflow as tf\n",
    "import tensorflow.keras.backend as K\n",
    "\n",
    "import os\n",
    "import re\n",
    "import math\n",
    "import numpy as np\n",
    "import pandas as pd\n",
    "import random\n",
    "import collections\n",
    "import json\n",
    "import shutil\n",
    "import zipfile\n",
    "import copy\n",
    "from datetime import datetime\n",
    "\n",
    "import matplotlib.pyplot as plt\n",
    "import sentencepiece as spm\n",
    "from tqdm.notebook import tqdm\n",
    "\n",
    "random_seed = 1234\n",
    "random.seed(random_seed)\n",
    "np.random.seed(random_seed)\n",
    "tf.random.set_seed(random_seed)\n",
    "\n",
    "# tf version 및 gpu 확인\n",
    "print(tf.__version__)\n",
    "print(tf.config.list_physical_devices('GPU'))\n",
    "print(tf.test.gpu_device_name())"
   ]
  },
  {
   "cell_type": "markdown",
   "id": "255cf7cf",
   "metadata": {},
   "source": [
    "## 1. Tokenizer 준비\n",
    "8000의 vocab_size를 갖는 sentencepiece 모델"
   ]
  },
  {
   "cell_type": "code",
   "execution_count": 6,
   "id": "98e4d683",
   "metadata": {},
   "outputs": [],
   "source": [
    "import sentencepiece as spm\n",
    "import os\n",
    "\n",
    "corpus_file = os.getenv('HOME')+'/aiffel/bert_pretrain/data/kowiki.txt'\n",
    "\n",
    "data_dir = './data'\n",
    "model_dir = './models'\n",
    "\n",
    "model_prefix = model_dir + '/ko_8000'\n",
    "\n",
    "pretrain_json_path = data_dir + '/bert_pre_train.json'\n",
    "\n",
    "vocab_size = 8000"
   ]
  },
  {
   "cell_type": "code",
   "execution_count": 48,
   "id": "bf5cb59c",
   "metadata": {},
   "outputs": [
    {
     "name": "stdout",
     "output_type": "stream",
     "text": [
      "./models/ko_8000\n",
      "./data/bert_pre_train.json\n"
     ]
    },
    {
     "data": {
      "text/plain": [
       "'./models/ko_8000'"
      ]
     },
     "execution_count": 48,
     "metadata": {},
     "output_type": "execute_result"
    }
   ],
   "source": [
    "print(model_prefix)\n",
    "print(pretrain_json_path)\n",
    "mm = f\"{model_dir}/ko_8000\"\n",
    "mm"
   ]
  },
  {
   "cell_type": "code",
   "execution_count": 2,
   "id": "65c1de4f",
   "metadata": {},
   "outputs": [
    {
     "name": "stderr",
     "output_type": "stream",
     "text": [
      "sentencepiece_trainer.cc(177) LOG(INFO) Running command: --input=/aiffel/aiffel/bert_pretrain/data/kowiki.txt                                --model_prefix=models/ko_8000                                --vocab_size=8007                                --model_type=bpe                                --max_sentence_length=999999                                --pad_id=0 --pad_piece=[PAD]                                --unk_id=1 --unk_piece=[UNK]                                --bos_id=2 --bos_piece=[BOS]                                --eos_id=3 --eos_piece=[EOS]                                --user_defined_symbols=[SEP],[CLS],[MASK]\n",
      "sentencepiece_trainer.cc(77) LOG(INFO) Starts training with : \n",
      "trainer_spec {\n",
      "  input: /aiffel/aiffel/bert_pretrain/data/kowiki.txt\n",
      "  input_format: \n",
      "  model_prefix: models/ko_8000\n",
      "  model_type: BPE\n",
      "  vocab_size: 8007\n",
      "  self_test_sample_size: 0\n",
      "  character_coverage: 0.9995\n",
      "  input_sentence_size: 0\n",
      "  shuffle_input_sentence: 1\n",
      "  seed_sentencepiece_size: 1000000\n",
      "  shrinking_factor: 0.75\n",
      "  max_sentence_length: 999999\n",
      "  num_threads: 16\n",
      "  num_sub_iterations: 2\n",
      "  max_sentencepiece_length: 16\n",
      "  split_by_unicode_script: 1\n",
      "  split_by_number: 1\n",
      "  split_by_whitespace: 1\n",
      "  split_digits: 0\n",
      "  treat_whitespace_as_suffix: 0\n",
      "  allow_whitespace_only_pieces: 0\n",
      "  user_defined_symbols: [SEP]\n",
      "  user_defined_symbols: [CLS]\n",
      "  user_defined_symbols: [MASK]\n",
      "  required_chars: \n",
      "  byte_fallback: 0\n",
      "  vocabulary_output_piece_score: 1\n",
      "  train_extremely_large_corpus: 0\n",
      "  hard_vocab_limit: 1\n",
      "  use_all_vocab: 0\n",
      "  unk_id: 1\n",
      "  bos_id: 2\n",
      "  eos_id: 3\n",
      "  pad_id: 0\n",
      "  unk_piece: [UNK]\n",
      "  bos_piece: [BOS]\n",
      "  eos_piece: [EOS]\n",
      "  pad_piece: [PAD]\n",
      "  unk_surface:  ⁇ \n",
      "}\n",
      "normalizer_spec {\n",
      "  name: nmt_nfkc\n",
      "  add_dummy_prefix: 1\n",
      "  remove_extra_whitespaces: 1\n",
      "  escape_whitespaces: 1\n",
      "  normalization_rule_tsv: \n",
      "}\n",
      "denormalizer_spec {}\n",
      "trainer_interface.cc(329) LOG(INFO) SentenceIterator is not specified. Using MultiFileSentenceIterator.\n",
      "trainer_interface.cc(178) LOG(INFO) Loading corpus: /aiffel/aiffel/bert_pretrain/data/kowiki.txt\n",
      "trainer_interface.cc(140) LOG(INFO) Loaded 1000000 lines\n",
      "trainer_interface.cc(140) LOG(INFO) Loaded 2000000 lines\n",
      "trainer_interface.cc(117) LOG(WARNING) Too many sentences are loaded! (2451287), which may slow down training.\n",
      "trainer_interface.cc(119) LOG(WARNING) Consider using --input_sentence_size=<size> and --shuffle_input_sentence=true.\n",
      "trainer_interface.cc(122) LOG(WARNING) They allow to randomly sample <size> sentences from the entire corpus.\n",
      "trainer_interface.cc(385) LOG(INFO) Loaded all 2451287 sentences\n",
      "trainer_interface.cc(400) LOG(INFO) Adding meta_piece: [PAD]\n",
      "trainer_interface.cc(400) LOG(INFO) Adding meta_piece: [UNK]\n",
      "trainer_interface.cc(400) LOG(INFO) Adding meta_piece: [BOS]\n",
      "trainer_interface.cc(400) LOG(INFO) Adding meta_piece: [EOS]\n",
      "trainer_interface.cc(400) LOG(INFO) Adding meta_piece: [SEP]\n",
      "trainer_interface.cc(400) LOG(INFO) Adding meta_piece: [CLS]\n",
      "trainer_interface.cc(400) LOG(INFO) Adding meta_piece: [MASK]\n",
      "trainer_interface.cc(405) LOG(INFO) Normalizing sentences...\n",
      "trainer_interface.cc(466) LOG(INFO) all chars count=287452241\n",
      "trainer_interface.cc(477) LOG(INFO) Done: 99.95% characters are covered.\n",
      "trainer_interface.cc(487) LOG(INFO) Alphabet size=4411\n",
      "trainer_interface.cc(488) LOG(INFO) Final character coverage=0.9995\n",
      "trainer_interface.cc(520) LOG(INFO) Done! preprocessed 2450254 sentences.\n",
      "trainer_interface.cc(526) LOG(INFO) Tokenizing input sentences with whitespace: 2450254\n",
      "trainer_interface.cc(537) LOG(INFO) Done! 7050692\n",
      "bpe_model_trainer.cc(167) LOG(INFO) Updating active symbols. max_freq=1781571 min_freq=424\n",
      "bpe_model_trainer.cc(258) LOG(INFO) Added: freq=576838 size=20 all=581927 active=38577 piece=▁아\n",
      "bpe_model_trainer.cc(258) LOG(INFO) Added: freq=390836 size=40 all=591445 active=48095 piece=▁유\n",
      "bpe_model_trainer.cc(258) LOG(INFO) Added: freq=297873 size=60 all=601378 active=58028 piece=에는\n",
      "bpe_model_trainer.cc(258) LOG(INFO) Added: freq=244712 size=80 all=609974 active=66624 piece=▁성\n",
      "bpe_model_trainer.cc(258) LOG(INFO) Added: freq=194372 size=100 all=616449 active=73099 piece=까지\n",
      "bpe_model_trainer.cc(167) LOG(INFO) Updating active symbols. max_freq=193674 min_freq=462\n",
      "bpe_model_trainer.cc(258) LOG(INFO) Added: freq=176838 size=120 all=625299 active=38770 piece=▁우\n",
      "bpe_model_trainer.cc(258) LOG(INFO) Added: freq=154294 size=140 all=632274 active=45745 piece=▁파\n",
      "bpe_model_trainer.cc(258) LOG(INFO) Added: freq=140625 size=160 all=639734 active=53205 piece=00\n",
      "bpe_model_trainer.cc(258) LOG(INFO) Added: freq=125983 size=180 all=645481 active=58952 piece=▁요\n",
      "bpe_model_trainer.cc(258) LOG(INFO) Added: freq=114855 size=200 all=649839 active=63310 piece=리아\n",
      "bpe_model_trainer.cc(167) LOG(INFO) Updating active symbols. max_freq=114086 min_freq=457\n",
      "bpe_model_trainer.cc(258) LOG(INFO) Added: freq=106760 size=220 all=657338 active=39316 piece=▁같은\n",
      "bpe_model_trainer.cc(258) LOG(INFO) Added: freq=100770 size=240 all=662564 active=44542 piece=▁왕\n",
      "bpe_model_trainer.cc(258) LOG(INFO) Added: freq=96037 size=260 all=670536 active=52514 piece=▁목\n",
      "bpe_model_trainer.cc(258) LOG(INFO) Added: freq=88392 size=280 all=675441 active=57419 piece=▁f\n",
      "bpe_model_trainer.cc(258) LOG(INFO) Added: freq=81678 size=300 all=681701 active=63679 piece=▁선수\n",
      "bpe_model_trainer.cc(167) LOG(INFO) Updating active symbols. max_freq=80870 min_freq=446\n",
      "bpe_model_trainer.cc(258) LOG(INFO) Added: freq=77144 size=320 all=686930 active=39163 piece=▁때문에\n",
      "bpe_model_trainer.cc(258) LOG(INFO) Added: freq=73218 size=340 all=691000 active=43233 piece=▁조선\n",
      "bpe_model_trainer.cc(258) LOG(INFO) Added: freq=68829 size=360 all=695717 active=47950 piece=▁천\n",
      "bpe_model_trainer.cc(258) LOG(INFO) Added: freq=64009 size=380 all=700839 active=53072 piece=▁196\n",
      "bpe_model_trainer.cc(258) LOG(INFO) Added: freq=60953 size=400 all=706675 active=58908 piece=▁돌\n",
      "bpe_model_trainer.cc(167) LOG(INFO) Updating active symbols. max_freq=60762 min_freq=435\n",
      "bpe_model_trainer.cc(258) LOG(INFO) Added: freq=58542 size=420 all=711350 active=39712 piece=▁다시\n",
      "bpe_model_trainer.cc(258) LOG(INFO) Added: freq=55779 size=440 all=715377 active=43739 piece=▁K\n",
      "bpe_model_trainer.cc(258) LOG(INFO) Added: freq=52528 size=460 all=721839 active=50201 piece=▁모두\n",
      "bpe_model_trainer.cc(258) LOG(INFO) Added: freq=49784 size=480 all=727356 active=55718 piece=▁히\n",
      "bpe_model_trainer.cc(258) LOG(INFO) Added: freq=47637 size=500 all=733038 active=61400 piece=▁전쟁\n",
      "bpe_model_trainer.cc(167) LOG(INFO) Updating active symbols. max_freq=47558 min_freq=423\n",
      "bpe_model_trainer.cc(258) LOG(INFO) Added: freq=45919 size=520 all=738287 active=41703 piece=▁있어\n",
      "bpe_model_trainer.cc(258) LOG(INFO) Added: freq=44025 size=540 all=743886 active=47302 piece=▁중심\n",
      "bpe_model_trainer.cc(258) LOG(INFO) Added: freq=42378 size=560 all=748357 active=51773 piece=▁N\n",
      "bpe_model_trainer.cc(258) LOG(INFO) Added: freq=40922 size=580 all=752114 active=55530 piece=▁H\n",
      "bpe_model_trainer.cc(258) LOG(INFO) Added: freq=39922 size=600 all=755142 active=58558 piece=le\n",
      "bpe_model_trainer.cc(167) LOG(INFO) Updating active symbols. max_freq=39768 min_freq=414\n",
      "bpe_model_trainer.cc(258) LOG(INFO) Added: freq=38924 size=620 all=761204 active=43650 piece=▁검\n",
      "bpe_model_trainer.cc(258) LOG(INFO) Added: freq=37771 size=640 all=767376 active=49822 piece=란드\n",
      "bpe_model_trainer.cc(258) LOG(INFO) Added: freq=36292 size=660 all=772837 active=55283 piece=정을\n",
      "bpe_model_trainer.cc(258) LOG(INFO) Added: freq=35134 size=680 all=778715 active=61161 piece=▁설립\n",
      "bpe_model_trainer.cc(258) LOG(INFO) Added: freq=34016 size=700 all=783719 active=66165 piece=▁역사\n",
      "bpe_model_trainer.cc(167) LOG(INFO) Updating active symbols. max_freq=34003 min_freq=400\n",
      "bpe_model_trainer.cc(258) LOG(INFO) Added: freq=33144 size=720 all=787243 active=42507 piece=▁만들어\n",
      "bpe_model_trainer.cc(258) LOG(INFO) Added: freq=32383 size=740 all=791538 active=46802 piece=▁시간\n",
      "bpe_model_trainer.cc(258) LOG(INFO) Added: freq=31645 size=760 all=795131 active=50395 piece=▁측\n",
      "bpe_model_trainer.cc(258) LOG(INFO) Added: freq=30941 size=780 all=798845 active=54109 piece=과의\n",
      "bpe_model_trainer.cc(258) LOG(INFO) Added: freq=30041 size=800 all=803050 active=58314 piece=도는\n",
      "bpe_model_trainer.cc(167) LOG(INFO) Updating active symbols. max_freq=30023 min_freq=392\n",
      "bpe_model_trainer.cc(258) LOG(INFO) Added: freq=29448 size=820 all=808546 active=45099 piece=▁난\n",
      "bpe_model_trainer.cc(258) LOG(INFO) Added: freq=28836 size=840 all=813895 active=50448 piece=▁21\n",
      "bpe_model_trainer.cc(258) LOG(INFO) Added: freq=28270 size=860 all=818654 active=55207"
     ]
    }
   ],
   "source": [
    "\n",
    "spm.SentencePieceTrainer.train(f\"--input={corpus_file} \\\n",
    "                               --model_prefix={model_prefix} \\\n",
    "                               --vocab_size={vocab_size + 7} \\\n",
    "                               --model_type=bpe \\\n",
    "                               --max_sentence_length=999999 \\\n",
    "                               --pad_id=0 --pad_piece=[PAD] \\\n",
    "                               --unk_id=1 --unk_piece=[UNK] \\\n",
    "                               --bos_id=2 --bos_piece=[BOS] \\\n",
    "                               --eos_id=3 --eos_piece=[EOS] \\\n",
    "                               --user_defined_symbols=[SEP],[CLS],[MASK]\")"
   ]
  },
  {
   "cell_type": "code",
   "execution_count": 9,
   "id": "de6093ee",
   "metadata": {},
   "outputs": [
    {
     "name": "stdout",
     "output_type": "stream",
     "text": [
      "정상 토큰 수: 8000\n",
      "예시: ['▁이', '으로', '에서', '▁있', '▁2', '▁그', '▁대', '▁사', '이다']\n"
     ]
    }
   ],
   "source": [
    "\n",
    "\n",
    "# vocab loading\n",
    "vocab = spm.SentencePieceProcessor()\n",
    "vocab.load(f\"{model_prefix}.model\")\n",
    "\n",
    "vocab_list = []\n",
    "for id in range(7, len(vocab)):\n",
    "        if not vocab.is_unknown(id):\n",
    "            vocab_list.append(vocab.id_to_piece(id))\n",
    "\n",
    "# 확인\n",
    "print(f\"정상 토큰 수: {len(vocab_list)}\")\n",
    "print(\"예시:\", vocab_list[1:10])"
   ]
  },
  {
   "cell_type": "markdown",
   "id": "1e9b40d4",
   "metadata": {},
   "source": [
    "## 2. 데이터 전처리 (1) MASK 생성\n",
    "BERT의 MLM에 필요한 빈칸(mask)을 학습 데이터 전체 토큰의 15% 정도로 만들어 주세요. \n",
    "그 중 80%는 [MASK] 토큰, 10%는 랜덤한 토큰, 나머지 10%는 원래의 토큰을 그대로 사용하세요"
   ]
  },
  {
   "cell_type": "code",
   "execution_count": 52,
   "id": "63033459",
   "metadata": {},
   "outputs": [],
   "source": [
    "def create_pretrain_mask(tokens, mask_cnt, vocab_list):\n",
    "    \"\"\"\n",
    "    마스크 생성\n",
    "    :param tokens: tokens\n",
    "    :param mask_cnt: mask 개수 (전체 tokens의 15%)\n",
    "    :param vocab_list: vocab list (random token 용)\n",
    "    :return tokens: mask된 tokens\n",
    "    :return mask_idx: mask된 token의 index\n",
    "    :return mask_label: mask된 token의 원래 값\n",
    "    \"\"\"\n",
    "    # 단어 단위로 mask 하기 위해서 index 분할 (띄어쓰기)\n",
    "    cand_idx = []  # word 단위의 index array\n",
    "    for (i, token) in enumerate(tokens):\n",
    "        if token == \"[CLS]\" or token == \"[SEP]\":\n",
    "            continue\n",
    "        if 0 < len(cand_idx) and not token.startswith(u\"\\u2581\"):  # u\"\\u2581\"는 단어의 시작을 의미하는 값\n",
    "            cand_idx[-1].append(i)\n",
    "        else:\n",
    "            cand_idx.append([i])\n",
    "\n",
    "    # random mask를 위해서 순서를 섞음 (shuffle)\n",
    "    random.shuffle(cand_idx)\n",
    "    \n",
    "    # mask 실행\n",
    "    mask_lms = []  # mask 된 값\n",
    "    for index_set in cand_idx:\n",
    "        if len(mask_lms) >= mask_cnt:  # 핸재 mask된 개수가 15%를 넘으면 중지\n",
    "              break\n",
    "        if len(mask_lms) + len(index_set) > mask_cnt:  # 이번에 mask할 개수를 포함해 15%를 넘으면 skip\n",
    "              continue\n",
    "        dice = random.random()  # 0과 1 사이의 확률 값\n",
    "\n",
    "        for index in index_set:\n",
    "            masked_token = None\n",
    "            if dice < 0.8:  # 80% replace with [MASK]\n",
    "                masked_token = \"[MASK]\"\n",
    "            elif dice < 0.9: # 10% keep original\n",
    "                masked_token = tokens[index]\n",
    "            else:  # 10% random word\n",
    "                masked_token = random.choice(vocab_list)\n",
    "            \n",
    "            mask_lms.append({\"index\": index, \"label\": tokens[index], \"masked\": masked_token})\n",
    "            tokens[index] = masked_token\n",
    "\n",
    "    # mask_lms 정렬 후 mask_idx, mask_label 추출 (sorted 사용)\n",
    "    mask_lms = sorted(mask_lms, key=lambda x: x[\"index\"])\n",
    "    mask_idx = [p[\"index\"] for p in mask_lms]\n",
    "    mask_label = [p[\"label\"] for p in mask_lms]\n",
    "\n",
    "    #return tokens, mask_lms, mask_idx, mask_label\n",
    "    return tokens, mask_idx, mask_label"
   ]
  },
  {
   "cell_type": "markdown",
   "id": "e5d262e2",
   "metadata": {},
   "source": [
    "## 3. 데이터 전처리 (2) NSP pair 생성"
   ]
  },
  {
   "cell_type": "code",
   "execution_count": 53,
   "id": "923fc4e0",
   "metadata": {},
   "outputs": [],
   "source": [
    "def trim_tokens(tokens_a, tokens_b, max_seq):\n",
    "    \"\"\"\n",
    "    tokens_a, tokens_b의 길이를 줄임 최대 길이: max_seq\n",
    "    :param tokens_a: tokens A\n",
    "    :param tokens_b: tokens B\n",
    "    :param max_seq: 두 tokens 길이의 최대 값\n",
    "    \"\"\"\n",
    "    while True:\n",
    "        total_length = len(tokens_a) + len(tokens_b)\n",
    "        if total_length <= max_seq:\n",
    "            break\n",
    "\n",
    "        if len(tokens_a) > len(tokens_b):  \n",
    "            del tokens_a[0]                      # A가 더 길면 앞에서 하나 제거\n",
    "        else:\n",
    "            tokens_b.pop()                       # B가 더 길거나 같으면 뒤에서 하나 제거"
   ]
  },
  {
   "cell_type": "code",
   "execution_count": 54,
   "id": "e447b399",
   "metadata": {},
   "outputs": [],
   "source": [
    "def create_pretrain_instances(vocab, doc, n_seq, mask_prob, vocab_list):\n",
    "    \"\"\"\n",
    "    doc별 pretrain 데이터 생성\n",
    "    \"\"\"\n",
    "    # for CLS], [SEP], [SEP]\n",
    "    max_seq = n_seq - 3\n",
    "\n",
    "    instances = []\n",
    "    current_chunk = []\n",
    "    current_length = 0\n",
    "    \n",
    "    for i in range(len(doc)):  # doc 전체를 loop\n",
    "        current_chunk.append(doc[i])  # line 단위로 추가\n",
    "        current_length += len(doc[i])  # current_chunk의 token 수\n",
    "        if 1 < len(current_chunk) and (i == len(doc) - 1 or current_length >= max_seq):  # 마지막 줄 이거나 길이가 max_seq 이상 인 경우\n",
    "            # token a\n",
    "            a_end = 1\n",
    "            if 1 < len(current_chunk):\n",
    "                a_end = random.randrange(1, len(current_chunk))\n",
    "            tokens_a = []\n",
    "            for j in range(a_end):\n",
    "                tokens_a.extend(current_chunk[j])\n",
    "                \n",
    "            # token b\n",
    "            tokens_b = []\n",
    "            for j in range(a_end, len(current_chunk)):\n",
    "                tokens_b.extend(current_chunk[j])\n",
    "\n",
    "            if random.random() < 0.5:  # 50% 확률로 swap\n",
    "                is_next = 0    # False\n",
    "                tokens_t = tokens_a\n",
    "                tokens_a = tokens_b\n",
    "                tokens_b = tokens_t\n",
    "            else:\n",
    "                is_next = 1   # True\n",
    "                \n",
    "            # max_seq 보다 큰 경우 길이 조절\n",
    "            trim_tokens(tokens_a, tokens_b, max_seq)\n",
    "            assert 0 < len(tokens_a)\n",
    "            assert 0 < len(tokens_b)\n",
    "\n",
    "\n",
    "            # tokens & segment 생성\n",
    "            tokens = [\"[CLS]\"] + tokens_a + [\"[SEP]\"] + tokens_b + [\"[SEP]\"]\n",
    "            segment = [0] * (len(tokens_a) + 2) + [1] * (len(tokens_b) + 1)\n",
    "        \n",
    "            # mask\n",
    "            tokens, mask_idx, mask_label = create_pretrain_mask(tokens, int((len(tokens) - 3) * mask_prob), vocab_list)\n",
    "\n",
    "            instance = {\n",
    "                \"tokens\": tokens,\n",
    "                \"segment\": segment,\n",
    "                \"is_next\": is_next,\n",
    "                \"mask_idx\": mask_idx,\n",
    "                \"mask_label\": mask_label \n",
    "            }\n",
    "            instances.append(instance)\n",
    "        \n",
    "            current_chunk = []\n",
    "            current_length = 0\n",
    "        \n",
    "       \n",
    "    return instances"
   ]
  },
  {
   "cell_type": "markdown",
   "id": "f2df2804",
   "metadata": {},
   "source": [
    "## 4. 데이터 전처리 (3) 데이터셋 완성\n",
    "BERT pretrain 데이터셋을 생성해, json 포맷으로 저장하세요. \n",
    "데이터셋의 사이즈가 크므로np.memmap을 사용해 메모리 사용량을 최소화해 보세요."
   ]
  },
  {
   "cell_type": "code",
   "execution_count": 5,
   "id": "2ac0c18c",
   "metadata": {},
   "outputs": [
    {
     "data": {
      "text/plain": [
       "3957761"
      ]
     },
     "execution_count": 5,
     "metadata": {},
     "output_type": "execute_result"
    }
   ],
   "source": [
    "# line count 확인\n",
    "total = 0\n",
    "with open(corpus_file, 'r') as in_f:\n",
    "    for line in in_f:\n",
    "        total += 1\n",
    "\n",
    "total"
   ]
  },
  {
   "cell_type": "code",
   "execution_count": 13,
   "id": "712200c4",
   "metadata": {},
   "outputs": [],
   "source": [
    "def make_pretrain_data(vocab, in_file, out_file, n_seq, mask_prob=0.15):\n",
    "    \"\"\" pretrain 데이터 생성 \"\"\"\n",
    "    def save_pretrain_instances(out_f, doc):\n",
    "        instances = create_pretrain_instances(vocab, doc, n_seq, mask_prob, vocab_list)\n",
    "        for instance in instances:\n",
    "            out_f.write(json.dumps(instance, ensure_ascii=False))\n",
    "            out_f.write(\"\\n\")\n",
    "\n",
    "    # 특수문자 7개를 제외한 vocab_list 생성\n",
    "    vocab_list = []\n",
    "    for id in range(7, len(vocab)):\n",
    "        if not vocab.is_unknown(id):        # 생성되는 단어 목록이 unknown인 경우는 제거합니다. \n",
    "            vocab_list.append(vocab.id_to_piece(id))\n",
    "\n",
    "    # line count 확인\n",
    "    line_cnt = 0\n",
    "    with open(in_file, \"r\") as in_f:\n",
    "        for line in in_f:\n",
    "            line_cnt += 1\n",
    "\n",
    "    with open(in_file, \"r\") as in_f:\n",
    "        with open(out_file, \"w\") as out_f:\n",
    "            doc = []\n",
    "            for line in tqdm(in_f, total=line_cnt):\n",
    "                line = line.strip()\n",
    "                if line == \"\":  # line이 빈줄 일 경우 (새로운 단락)\n",
    "                    # [[YOUR CODE]]\n",
    "                    if 0 < len(doc):\n",
    "                        # save\n",
    "                        save_pretrain_instances(out_f, doc)\n",
    "                        doc = []\n",
    "                        \n",
    "                else:  # line이 빈줄이 아닐 경우 tokenize 해서 doc에 저장\n",
    "                    # [[YOUR CODE]]\n",
    "                    pieces = vocab.encode_as_pieces(line) \n",
    "                    if 0 < len(pieces):\n",
    "                        doc.append(pieces)\n",
    "                    \n",
    "            if 0 < len(doc):  # 마지막에 처리되지 않은 doc가 있는 경우\n",
    "                # [[YOUR CODE]]\n",
    "                # save\n",
    "                save_pretrain_instances(out_f, doc)\n",
    "                doc = []"
   ]
  },
  {
   "cell_type": "code",
   "execution_count": 14,
   "id": "a5552c24",
   "metadata": {},
   "outputs": [
    {
     "data": {
      "application/vnd.jupyter.widget-view+json": {
       "model_id": "b0f3e88d01cc4426b1292fe71c971d77",
       "version_major": 2,
       "version_minor": 0
      },
      "text/plain": [
       "  0%|          | 0/3957761 [00:00<?, ?it/s]"
      ]
     },
     "metadata": {},
     "output_type": "display_data"
    },
    {
     "data": {
      "text/plain": [
       "918189"
      ]
     },
     "execution_count": 14,
     "metadata": {},
     "output_type": "execute_result"
    }
   ],
   "source": [
    "make_pretrain_data(vocab, corpus_file, pretrain_json_path, 128)\n",
    "\n",
    "# 라인수\n",
    "total = 0\n",
    "with open(pretrain_json_path, \"r\") as f:\n",
    "    for line in f:\n",
    "        total += 1\n",
    "total"
   ]
  },
  {
   "cell_type": "markdown",
   "id": "830c948c",
   "metadata": {},
   "source": [
    "~/aiffel/quest_rs/GoingDeeper/Gd06/data# head bert_pre_train.json\n",
    "\n",
    "{\"tokens\": [\"[CLS]\", \"[MASK]\", \"[MASK]\", \"▁카\", \"터\", \"[SEP]\", \"▁제임스\", \"▁얼\", \"[MASK]\", \"[MASK]\", \"[MASK]\", \"[MASK]\", \"▁카\", \"터\", \"▁주\", \"니어\", \"(,\", \"▁192\", \"4\", \"년\", \"▁10\", \"월\", \"▁1\", \"일\", \"[MASK]\", \"▁)\", \"는\", \"▁민주\", \"당\", \"▁출신\", \"▁미국\", \"▁3\", \"9\", \"번째\", \"▁대통령\", \"▁(19\", \"7\", \"7\", \"년\", \"[MASK]\", \"▁1981\", \"년\", \")\", \"이다\", \".\", \"[MASK]\", \"[MASK]\", \"▁카\", \"터\", \"는\", \"▁조지\", \"아\", \"주\", \"▁섬\", \"터\", \"▁카운\", \"티\", \"▁플\", \"레\", \"인\", \"스\", \"▁마을\", \"에서\", \"取\", \"가로\", \"▁조지\", \"아\", \"▁공\", \"과\", \"대학교\", \"를\", \"▁졸업\", \"하였다\", \".\", \"▁그\", \"[MASK]\", \"▁해\", \"군에\", \"▁들어가\", \"▁전\", \"함\", \"·\", \"원\", \"자\", \"력\", \"·\", \"잠\", \"수\", \"함\", \"의\", \"▁승\", \"무\", \"원으로\", \"[MASK]\", \"[MASK]\", \"[MASK]\", \"▁195\", \"3\", \"년\", \"▁미국\", \"▁해군\", \"▁대\", \"위로\", \"▁예\", \"편\", \"하였고\", \"[MASK]\", \"▁땅\", \"콩\", \"·\", \"면\", \"화\", \"[MASK]\", \"▁가\", \"꿔\", \"▁많은\", \"▁돈\", \"을\", \"▁벌\", \"었다\", \".\", \"▁그의\", \"▁별\", \"명이\", \"▁\\\"\", \"땅\", \"콩\", \"[SEP]\"], \"segment\": [0, 0, 0, 0, 0, 0, 1, 1, 1, 1, 1, 1, 1, 1, 1, 1, 1, 1, 1, 1, 1, 1, 1, 1, 1, 1, 1, 1, 1, 1, 1, 1, 1, 1, 1, 1, 1, 1, 1, 1, 1, 1, 1, 1, 1, 1, 1, 1, 1, 1, 1, 1, 1, 1, 1, 1, 1, 1, 1, 1, 1, 1, 1, 1, 1, 1, 1, 1, 1, 1, 1, 1, 1, 1, 1, 1, 1, 1, 1, 1, 1, 1, 1, 1, 1, 1, 1, 1, 1, 1, 1, 1, 1, 1, 1, 1, 1, 1, 1, 1, 1, 1, 1, 1, 1, 1, 1, 1, 1, 1, 1, 1, 1, 1, 1, 1, 1, 1, 1, 1, 1, 1, 1, 1, 1, 1, 1, 1], \"is_next\": 1, \"mask_idx\": [1, 2, 8, 9, 10, 11, 24, 39, 45, 46, 63, 64, 75, 93, 94, 95, 106, 112], \"mask_label\": [\"▁지\", \"미\", \"▁\\\"\", \"지\", \"미\", \"\\\"\", \"▁~\", \"▁~\", \"▁지\", \"미\", \"▁태어났다\", \".\", \"▁후\", \"▁일\", \"하였다\", \".\", \"▁이후\", \"▁등을\"]}\n",
    "\n",
    "{\"tokens\": [\"[CLS]\", \"아\", \"▁주\", \"▁상\", \"원\", \"▁의원\", \"▁선거\", \"에서\", \"▁낙\", \"선\", \"하나\", \"▁그\", \"斬\", \"冕\", \"[MASK]\", \"[MASK]\", \"▁\", \"였\", \"음을\", \"▁입\", \"증\", \"하게\", \"▁되어\", \"▁당선\", \"되고\", \",\", \"▁196\", \"6\", \"년\", \"▁조지\", \"아\", \"▁주\", \"▁지\", \"사\", \"▁선거\", \"에\", \"▁낙\", \"선\", \"하지만\", \"▁1970\", \"년\", \"[MASK]\", \"[MASK]\", \"▁주\", \"▁지\", \"사를\", \"▁역임\", \"했다\", \".\", \"▁대통령\", \"이\", \"▁되\", \"기\", \"▁전\", \"▁조지\", \"아\", \"주\", \"▁상\", \"원의\", \"원을\", \"▁두\", \"번\", \"▁연\", \"임\", \"했으며\", \",\", \"▁1971\", \"년부터\", \"▁1975\", \"년까지\", \"▁조지\", \"아\", \"[MASK]\", \"[MASK]\", \"▁근무\", \"했다\", \".\", \"▁조지\", \"아\", \"▁주\", \"지\", \"사로\", \"▁지\", \"내\", \"면서\", \",\", \"[MASK]\", \"[MASK]\", \"▁사는\", \"▁흑\", \"인\", \"▁등\", \"용\", \"법을\", \"▁내\", \"세\", \"웠다\", \".\", \"[SEP]\", \"▁1976\", \"년\", \"▁대통령\", \"[MASK]\", \"[MASK]\", \"▁민주\", \"당\", \"[MASK]\", \"[MASK]\", \"▁출\", \"마\", \"하여\", \"▁도\", \"덕\", \"주의\", \"▁정책\", \"으로\", \"▁내\", \"세\", \"워\", \",\", \"[MASK]\", \"[MASK]\", \"[MASK]\", \"[MASK]\", \"▁당선\", \"되었다\", \".\", \"[SEP]\"], \"segment\": [0, 0, 0, 0, 0, 0, 0, 0, 0, 0, 0, 0, 0, 0, 0, 0, 0, 0, 0, 0, 0, 0, 0, 0, 0, 0, 0, 0, 0, 0, 0, 0, 0, 0, 0, 0, 0, 0, 0, 0, 0, 0, 0, 0, 0, 0, 0, 0, 0, 0, 0, 0, 0, 0, 0, 0, 0, 0, 0, 0, 0, 0, 0, 0, 0, 0, 0, 0, 0, 0, 0, 0, 0, 0, 0, 0, 0, 0, 0, 0, 0, 0, 0, 0, 0, 0, 0, 0, 0, 0, 0, 0, 0, 0, 0, 0, 0, 0, 0, 1, 1, 1, 1, 1, 1, 1, 1, 1, 1, 1, 1, 1, 1, 1, 1, 1, 1, 1, 1, 1, 1, 1, 1, 1, 1, 1, 1, 1], \"is_next\": 1, \"mask_idx\": [12, 13, 14, 15, 41, 42, 72, 73, 86, 87, 102, 103, 106, 107, 120, 121, 122, 123], \"mask_label\": [\"▁선거\", \"가\", \"▁부정\", \"선거\", \"▁조지\", \"아\", \"▁지\", \"사로\", \"▁미국\", \"에\", \"▁선거\", \"에\", \"▁후보\", \"로\", \"▁포\", \"드를\", \"▁누\", \"르고\"]}"
   ]
  },
  {
   "cell_type": "markdown",
   "id": "6b55b1ad",
   "metadata": {},
   "source": [
    "### json file 로딩 "
   ]
  },
  {
   "cell_type": "code",
   "execution_count": 10,
   "id": "aaa4e444",
   "metadata": {},
   "outputs": [
    {
     "name": "stdout",
     "output_type": "stream",
     "text": [
      "정상 토큰 수: 8000\n",
      "예시: ['▁이', '으로', '에서', '▁있', '▁2', '▁그', '▁대', '▁사', '이다']\n"
     ]
    }
   ],
   "source": [
    "data_dir = './data'\n",
    "model_dir = './models'\n",
    "model_prefix = model_dir + '/ko_8000'\n",
    "\n",
    "# vocab loading\n",
    "vocab = spm.SentencePieceProcessor()\n",
    "vocab.load(f\"{model_prefix}.model\")\n",
    "\n",
    "vocab_list = []\n",
    "for id in range(7, len(vocab)):\n",
    "        if not vocab.is_unknown(id):\n",
    "            vocab_list.append(vocab.id_to_piece(id))\n",
    "\n",
    "# 확인\n",
    "print(f\"정상 토큰 수: {len(vocab_list)}\")\n",
    "print(\"예시:\", vocab_list[1:10])"
   ]
  },
  {
   "cell_type": "code",
   "execution_count": 11,
   "id": "cfdc33f0",
   "metadata": {},
   "outputs": [],
   "source": [
    "def load_pre_train_data(vocab, filename, n_seq, count=None):\n",
    "    \"\"\"\n",
    "    학습에 필요한 데이터를 로드\n",
    "    :param vocab: vocab\n",
    "    :param filename: 전처리된 json 파일\n",
    "    :param n_seq: 시퀀스 길이 (number of sequence)\n",
    "    :param count: 데이터 수 제한 (None이면 전체)\n",
    "    :return enc_tokens: encoder inputs\n",
    "    :return segments: segment inputs\n",
    "    :return labels_nsp: nsp labels\n",
    "    :return labels_mlm: mlm labels\n",
    "    \"\"\"\n",
    "    total = 0\n",
    "    with open(filename, \"r\") as f:\n",
    "        for line in f:\n",
    "            total += 1\n",
    "            # 데이터 수 제한\n",
    "            if count is not None and count <= total:\n",
    "                break\n",
    "    \n",
    "    # np.memmap을 사용하면 메모리를 적은 메모리에서도 대용량 데이터 처리가 가능 함\n",
    "    enc_tokens = np.memmap(filename='enc_tokens.memmap', mode='w+', dtype=np.int32, shape=(total, n_seq))\n",
    "    segments = np.memmap(filename='segments.memmap', mode='w+', dtype=np.int32, shape=(total, n_seq))\n",
    "    labels_nsp = np.memmap(filename='labels_nsp.memmap', mode='w+', dtype=np.int32, shape=(total,))\n",
    "    labels_mlm = np.memmap(filename='labels_mlm.memmap', mode='w+', dtype=np.int32, shape=(total, n_seq))\n",
    "\n",
    "    with open(filename, \"r\") as f:\n",
    "        for i, line in enumerate(tqdm(f, total=total)):\n",
    "            if total <= i:\n",
    "                print(\"data load early stop\", total, i)\n",
    "                break\n",
    "            data = json.loads(line)\n",
    "            # encoder token\n",
    "            enc_token = [vocab.piece_to_id(p) for p in data[\"tokens\"]]\n",
    "            enc_token += [0] * (n_seq - len(enc_token))\n",
    "            # segment\n",
    "            segment = data[\"segment\"]\n",
    "            segment += [0] * (n_seq - len(segment))\n",
    "            # nsp label\n",
    "            label_nsp = data[\"is_next\"]\n",
    "            # mlm label\n",
    "            mask_idx = np.array(data[\"mask_idx\"], dtype=np.int)\n",
    "            mask_label = np.array([vocab.piece_to_id(p) for p in data[\"mask_label\"]], dtype=np.int)\n",
    "            label_mlm = np.full(n_seq, dtype=np.int, fill_value=0)\n",
    "            label_mlm[mask_idx] = mask_label\n",
    "\n",
    "            assert len(enc_token) == len(segment) == len(label_mlm) == n_seq\n",
    "\n",
    "            enc_tokens[i] = enc_token\n",
    "            segments[i] = segment\n",
    "            labels_nsp[i] = label_nsp\n",
    "            labels_mlm[i] = label_mlm\n",
    "\n",
    "    return (enc_tokens, segments), (labels_nsp, labels_mlm)"
   ]
  },
  {
   "cell_type": "code",
   "execution_count": 12,
   "id": "74ff6750",
   "metadata": {},
   "outputs": [
    {
     "data": {
      "application/vnd.jupyter.widget-view+json": {
       "model_id": "dcc527fc28354dcea174b2ecc27ace54",
       "version_major": 2,
       "version_minor": 0
      },
      "text/plain": [
       "  0%|          | 0/918189 [00:00<?, ?it/s]"
      ]
     },
     "metadata": {},
     "output_type": "display_data"
    },
    {
     "name": "stderr",
     "output_type": "stream",
     "text": [
      "/tmp/ipykernel_64/2049745891.py:42: DeprecationWarning: `np.int` is a deprecated alias for the builtin `int`. To silence this warning, use `int` by itself. Doing this will not modify any behavior and is safe. When replacing `np.int`, you may wish to use e.g. `np.int64` or `np.int32` to specify the precision. If you wish to review your current use, check the release note link for additional information.\n",
      "Deprecated in NumPy 1.20; for more details and guidance: https://numpy.org/devdocs/release/1.20.0-notes.html#deprecations\n",
      "  mask_idx = np.array(data[\"mask_idx\"], dtype=np.int)\n",
      "/tmp/ipykernel_64/2049745891.py:43: DeprecationWarning: `np.int` is a deprecated alias for the builtin `int`. To silence this warning, use `int` by itself. Doing this will not modify any behavior and is safe. When replacing `np.int`, you may wish to use e.g. `np.int64` or `np.int32` to specify the precision. If you wish to review your current use, check the release note link for additional information.\n",
      "Deprecated in NumPy 1.20; for more details and guidance: https://numpy.org/devdocs/release/1.20.0-notes.html#deprecations\n",
      "  mask_label = np.array([vocab.piece_to_id(p) for p in data[\"mask_label\"]], dtype=np.int)\n",
      "/tmp/ipykernel_64/2049745891.py:44: DeprecationWarning: `np.int` is a deprecated alias for the builtin `int`. To silence this warning, use `int` by itself. Doing this will not modify any behavior and is safe. When replacing `np.int`, you may wish to use e.g. `np.int64` or `np.int32` to specify the precision. If you wish to review your current use, check the release note link for additional information.\n",
      "Deprecated in NumPy 1.20; for more details and guidance: https://numpy.org/devdocs/release/1.20.0-notes.html#deprecations\n",
      "  label_mlm = np.full(n_seq, dtype=np.int, fill_value=0)\n"
     ]
    }
   ],
   "source": [
    "# 128000건만 메모리에 로딩\n",
    "#pre_train_inputs, pre_train_labels = load_pre_train_data(vocab, pretrain_json_path, 128, count=128000)\n",
    "\n",
    "# 전체\n",
    "pre_train_inputs, pre_train_labels = load_pre_train_data(vocab, pretrain_json_path, 128)"
   ]
  },
  {
   "cell_type": "code",
   "execution_count": 20,
   "id": "9aeeac6a",
   "metadata": {},
   "outputs": [
    {
     "data": {
      "text/plain": [
       "(memmap([   5,    6,    6,  207, 3714,    4, 3324, 1042,    6,    6,    6,\n",
       "            6,  207, 3714,   37, 3418,  416,  810, 3666, 3625,  131, 3662,\n",
       "            7, 3629,    6,  241, 3602, 1114, 3724,  788,  243,   49, 3632,\n",
       "          796,  663, 1647, 3682, 3682, 3625,    6, 3008, 3625, 3616,   16,\n",
       "         3599,    6,    6,  207, 3714, 3602, 1755, 3630, 3646,  630, 3714,\n",
       "         3565, 3835,  429, 3740, 3628, 3626, 1369,   10, 5736, 2603, 1755,\n",
       "         3630,   41, 3644,  830, 3624, 1135,   52, 3599,   13,    6,   87,\n",
       "         1501, 2247,   25, 3779, 3873, 3667, 3631, 3813, 3873, 4196, 3636,\n",
       "         3779, 3601,  249, 3725, 1232,    6,    6,    6,  479, 3652, 3625,\n",
       "          243, 2780,   14, 1509,  168, 3877,  414,    6, 1697, 4290, 3873,\n",
       "         3703, 3683,    6,   21, 5007,  399, 1927, 3607,  813,   17, 3599,\n",
       "          307,  587,  931,  103, 4313, 4290,    4], dtype=int32),\n",
       " memmap([   5, 3676,  848, 3784, 1931,   58, 3676,  416, 2316, 3619, 3625,\n",
       "         3617, 3744, 4335,   12, 3625, 3616,  175, 3662,    7, 3629,  203,\n",
       "            6,    6,    6,    6,    6,    6,  143, 3625, 3616,  131, 3662,\n",
       "          342, 3629, 3616, 3602,  176,  334,  829, 1115, 3665,    6,    6,\n",
       "         3451, 1633,  375,  671, 1644, 3608,  547, 3423,  765,  815, 3604,\n",
       "            6,    6,    6, 2375, 3608, 3604,  532, 2589, 3599,    4,  307,\n",
       "          323,    6,  321, 3611,  622,  122, 3725, 3620, 3627, 3837, 3608,\n",
       "            6,  176,  268, 4082,   94,  567, 4014, 3617, 7474, 3616, 3830,\n",
       "           66, 3590,  307,  192, 1272,  158, 3788,  353, 3599,  202,  316,\n",
       "         3600,  176,   10,  323,  476, 3663, 1329,  605,  238, 3631, 2470,\n",
       "         3604, 1939,  106, 3627,   13,    6,    6, 1128,   48,    6,    6,\n",
       "          848, 3784, 3833,    8, 3637, 2263,    4], dtype=int32),\n",
       " memmap([0, 0, 0, 0, 0, 0, 1, 1, 1, 1, 1, 1, 1, 1, 1, 1, 1, 1, 1, 1, 1, 1,\n",
       "         1, 1, 1, 1, 1, 1, 1, 1, 1, 1, 1, 1, 1, 1, 1, 1, 1, 1, 1, 1, 1, 1,\n",
       "         1, 1, 1, 1, 1, 1, 1, 1, 1, 1, 1, 1, 1, 1, 1, 1, 1, 1, 1, 1, 1, 1,\n",
       "         1, 1, 1, 1, 1, 1, 1, 1, 1, 1, 1, 1, 1, 1, 1, 1, 1, 1, 1, 1, 1, 1,\n",
       "         1, 1, 1, 1, 1, 1, 1, 1, 1, 1, 1, 1, 1, 1, 1, 1, 1, 1, 1, 1, 1, 1,\n",
       "         1, 1, 1, 1, 1, 1, 1, 1, 1, 1, 1, 1, 1, 1, 1, 1, 1, 1], dtype=int32),\n",
       " memmap([0, 0, 0, 0, 0, 0, 0, 0, 0, 0, 0, 0, 0, 0, 0, 0, 0, 0, 0, 0, 0, 0,\n",
       "         0, 0, 0, 0, 0, 0, 0, 0, 0, 0, 0, 0, 0, 0, 0, 0, 0, 0, 0, 0, 0, 0,\n",
       "         0, 0, 0, 0, 0, 0, 0, 0, 0, 0, 0, 0, 0, 0, 0, 0, 0, 0, 0, 0, 0, 1,\n",
       "         1, 1, 1, 1, 1, 1, 1, 1, 1, 1, 1, 1, 1, 1, 1, 1, 1, 1, 1, 1, 1, 1,\n",
       "         1, 1, 1, 1, 1, 1, 1, 1, 1, 1, 1, 1, 1, 1, 1, 1, 1, 1, 1, 1, 1, 1,\n",
       "         1, 1, 1, 1, 1, 1, 1, 1, 1, 1, 1, 1, 1, 1, 1, 1, 1, 1], dtype=int32),\n",
       " 1,\n",
       " 1,\n",
       " memmap([   0,   18, 3686,    0,    0,    0,    0,    0,  103, 3610, 3686,\n",
       "         3718,    0,    0,    0,    0,    0,    0,    0,    0,    0,    0,\n",
       "            0,    0,  203,    0,    0,    0,    0,    0,    0,    0,    0,\n",
       "            0,    0,    0,    0,    0,    0,  203,    0,    0,    0,    0,\n",
       "            0,   18, 3686,    0,    0,    0,    0,    0,    0,    0,    0,\n",
       "            0,    0,    0,    0,    0,    0,    0,    0, 1605, 3599,    0,\n",
       "            0,    0,    0,    0,    0,    0,    0,    0,    0,   81,    0,\n",
       "            0,    0,    0,    0,    0,    0,    0,    0,    0,    0,    0,\n",
       "            0,    0,    0,    0,    0,   33,   52, 3599,    0,    0,    0,\n",
       "            0,    0,    0,    0,    0,    0,    0,  165,    0,    0,    0,\n",
       "            0,    0,  593,    0,    0,    0,    0,    0,    0,    0,    0,\n",
       "            0,    0,    0,    0,    0,    0,    0], dtype=int32),\n",
       " memmap([   0,    0,    0,    0,    0,    0,    0,    0,    0,    0,    0,\n",
       "            0,    0,    0,    0,    0,    0,    0,    0,    0,    0,    0,\n",
       "          578, 3652, 3625, 3617, 4148, 3665,    0,    0,    0,    0,    0,\n",
       "            0,    0,    0,    0,    0,    0,    0,    0,    0, 1381, 4148,\n",
       "         3451,    0,    0,    0,    0,    0,    0,    0,    0,    0,    0,\n",
       "          752, 3608, 3604,    0,    0,    0,    0,    0,    0,    0,    0,\n",
       "            0, 2143,    0,    0,    0,    0,    0,    0,    0,    0,    0,\n",
       "          347,    0,    0,    0,    0,    0,    0,    0,    0,    0,    0,\n",
       "            0,    0,    0,    0,    0,    0,    0,    0,    0,    0,    0,\n",
       "            0,    0,    0,    0,    0,    0,    0,    0,    0,    0,    0,\n",
       "            0,    0,    0,    0,    0,  162,  490,    0,    0,   28, 3599,\n",
       "            0,    0,    0,    0,    0,    0,    0], dtype=int32))"
      ]
     },
     "execution_count": 20,
     "metadata": {},
     "output_type": "execute_result"
    }
   ],
   "source": [
    "# 처음과 마지막 확인\n",
    "pre_train_inputs[0][0], pre_train_inputs[0][-1], pre_train_inputs[1][0], pre_train_inputs[1][-1], pre_train_labels[0][0], pre_train_labels[0][-1], pre_train_labels[1][0], pre_train_labels[1][-1]"
   ]
  },
  {
   "cell_type": "markdown",
   "id": "8bb0e51f",
   "metadata": {},
   "source": [
    "### train set과 validation set 나누기"
   ]
  },
  {
   "cell_type": "code",
   "execution_count": 13,
   "id": "768b1af6",
   "metadata": {
    "scrolled": true
   },
   "outputs": [
    {
     "name": "stdout",
     "output_type": "stream",
     "text": [
      "<class 'tuple'>\n",
      "(2, 918189, 128)\n"
     ]
    }
   ],
   "source": [
    "print(type(pre_train_inputs))\n",
    "print(np.shape(pre_train_inputs))"
   ]
  },
  {
   "cell_type": "code",
   "execution_count": 14,
   "id": "ed733915",
   "metadata": {},
   "outputs": [
    {
     "name": "stdout",
     "output_type": "stream",
     "text": [
      "훈련 데이타 셋 :  734551\n",
      "테스트 데이타 셋 :  183638\n"
     ]
    }
   ],
   "source": [
    "# pre_train_inputs : (enc_tokens, segments), \n",
    "# pre_train_labels : (labels_nsp, labels_mlm)\n",
    "\n",
    "\n",
    "from sklearn.model_selection import train_test_split\n",
    "\n",
    "enc_tokens, segments = pre_train_inputs\n",
    "labels_nsp, labels_mlm = pre_train_labels\n",
    "\n",
    "train_tokens, test_tokens, train_segments, test_segments, train_nsp, test_nsp, train_mlm, test_mlm = \\\n",
    "    train_test_split( enc_tokens, segments, labels_nsp, labels_mlm, \n",
    "                        test_size=0.2, random_state=42 )\n",
    "\n",
    "train_inputs = (train_tokens, train_segments)\n",
    "test_inputs = (test_tokens, test_segments)\n",
    "train_labels = (train_nsp, train_mlm)\n",
    "test_labels = (test_nsp, test_mlm)\n",
    "\n",
    "print('훈련 데이타 셋 : ', len(train_tokens))\n",
    "print('테스트 데이타 셋 : ', len(test_tokens))"
   ]
  },
  {
   "cell_type": "markdown",
   "id": "3abc4ba4",
   "metadata": {},
   "source": [
    "## 5. BERT 모델 구현"
   ]
  },
  {
   "cell_type": "code",
   "execution_count": 15,
   "id": "0788a193",
   "metadata": {},
   "outputs": [],
   "source": [
    "class Config(dict):\n",
    "    \"\"\"\n",
    "    json을 config 형태로 사용하기 위한 Class\n",
    "    :param dict: config dictionary\n",
    "    \"\"\"\n",
    "    __getattr__ = dict.__getitem__\n",
    "    __setattr__ = dict.__setitem__\n",
    "\n",
    "    @classmethod\n",
    "    def load(cls, file):\n",
    "        \"\"\"\n",
    "        file에서 Config를 생성 함\n",
    "        :param file: filename\n",
    "        \"\"\"\n",
    "        with open(file, 'r') as f:\n",
    "            config = json.loads(f.read())\n",
    "            return Config(config)"
   ]
  },
  {
   "cell_type": "code",
   "execution_count": 16,
   "id": "07f0fb00",
   "metadata": {},
   "outputs": [],
   "source": [
    "def kernel_initializer(stddev=0.02):\n",
    "    \"\"\"\n",
    "    parameter initializer 생성\n",
    "    :param stddev: 생성할 랜덤 변수의 표준편차\n",
    "    \"\"\"\n",
    "    return tf.keras.initializers.TruncatedNormal(stddev=stddev)\n",
    "\n",
    "\n",
    "def bias_initializer():\n",
    "    \"\"\"\n",
    "    bias initializer 생성\n",
    "    \"\"\"\n",
    "    return tf.zeros_initializer"
   ]
  },
  {
   "cell_type": "code",
   "execution_count": 17,
   "id": "762ad30e",
   "metadata": {},
   "outputs": [],
   "source": [
    "@tf.function(experimental_relax_shapes=True)\n",
    "def gelu(x):\n",
    "    \"\"\"\n",
    "    gelu activation 함수\n",
    "    :param x: 입력 값\n",
    "    :return: gelu activation result\n",
    "    \"\"\"\n",
    "    return 0.5*x*(1+tf.tanh(np.sqrt(2/np.pi)*(x+0.044715*tf.pow(x, 3))))"
   ]
  },
  {
   "cell_type": "code",
   "execution_count": 18,
   "id": "bc5372cd",
   "metadata": {},
   "outputs": [],
   "source": [
    "def get_pad_mask(tokens, i_pad=0):\n",
    "    \"\"\"\n",
    "    pad mask 계산하는 함수\n",
    "    :param tokens: tokens (bs, n_seq)\n",
    "    :param i_pad: id of pad\n",
    "    :return mask: pad mask (pad: 1, other: 0)\n",
    "    \"\"\"\n",
    "    mask = tf.cast(tf.math.equal(tokens, i_pad), tf.float32)\n",
    "    mask = tf.expand_dims(mask, axis=1)\n",
    "    return mask\n",
    "\n",
    "\n",
    "def get_ahead_mask(tokens, i_pad=0):\n",
    "    \"\"\"\n",
    "    ahead mask 계산하는 함수\n",
    "    :param tokens: tokens (bs, n_seq)\n",
    "    :param i_pad: id of pad\n",
    "    :return mask: ahead and pad mask (ahead or pad: 1, other: 0)\n",
    "    \"\"\"\n",
    "    n_seq = tf.shape(tokens)[1]\n",
    "    ahead_mask = 1 - tf.linalg.band_part(tf.ones((n_seq, n_seq)), -1, 0)\n",
    "    ahead_mask = tf.expand_dims(ahead_mask, axis=0)\n",
    "    pad_mask = get_pad_mask(tokens, i_pad)\n",
    "    mask = tf.maximum(ahead_mask, pad_mask)\n",
    "    return mask"
   ]
  },
  {
   "cell_type": "markdown",
   "id": "05b2490a",
   "metadata": {},
   "source": [
    "### Shared Embedding\n",
    "\n",
    "1. 파라미터 수 감소 (Parameter Efficiency)\n",
    "     BERT는 **입력 임베딩 (Embedding Layer)**과 **출력 소프트맥스 레이어 (Output Layer)**에서 동일한 vocabulary embedding weight를 사용합니다.\n",
    "\n",
    "    * 입력: 토큰 → 벡터\n",
    "    * 출력: 벡터 → 토큰 (softmax)\n",
    "\n",
    "    둘 다 vocabulary size × hidden size (vocab_size × d_model)의 weight matrix를 사용하므로, \n",
    "    별도로 두 개를 만들면 매우 많은 파라미터가 필요합니다.\n",
    "    → 하나로 공유하면 파라미터 수가 절반으로 줄어듭니다.\n",
    "    \n",
    "\n",
    "2. 학습 안정성과 일반화 성능 향상\n",
    "    * 모델이 입력 표현과 출력 표현을 동일한 공간에서 해석하게 되어 일관성이 생기고,\n",
    "\n",
    "    * 특히 language modeling처럼 출력이 입력의 연장선인 문제에서는 더 효과적입니다.\n",
    "\n",
    "    즉, 단어의 의미를 임베딩과 디코딩에서 공유함으로써, 일반화 성능이 좋아지고 과적합 가능성이 줄어듭니다."
   ]
  },
  {
   "cell_type": "code",
   "execution_count": 19,
   "id": "08e45111",
   "metadata": {},
   "outputs": [],
   "source": [
    "# 임베딩 레이어와 출력 softmax 레이어에서 공유되는 가중치 \n",
    "# - 입력 임베딩 시에는 input_ids → shared_weights lookup\n",
    "# - 출력 예측 시에는 decoder output → shared_weights^T → softmax\n",
    "class SharedEmbedding(tf.keras.layers.Layer):\n",
    "    \"\"\"\n",
    "    Weighed Shaed Embedding Class\n",
    "    \"\"\"\n",
    "    def __init__(self, config, name=\"weight_shared_embedding\"):\n",
    "        \"\"\"\n",
    "        생성자\n",
    "        :param config: Config 객체\n",
    "        :param name: layer name\n",
    "        \"\"\"\n",
    "        super().__init__(name=name)\n",
    "\n",
    "        self.n_vocab = config.n_vocab\n",
    "        self.d_model = config.d_model\n",
    "    \n",
    "    def build(self, input_shape):                      # tf.keras.layers.Layer 클래스가 처음 call()될 때 자동 호출\n",
    "        \"\"\"\n",
    "        shared weight 생성\n",
    "        :param input_shape: Tensor Shape (not used)\n",
    "        \"\"\"\n",
    "        with tf.name_scope(\"shared_embedding_weight\"):\n",
    "            self.shared_weights = self.add_weight(     # 이 레이어에 학습 가능한 가중치를 추가하는 Keras 메서드\n",
    "                \"weights\",                             # self.add_weight로 생성된 가중치는 model.trainable_variables에 자동으로 포함\n",
    "                shape=[self.n_vocab, self.d_model],\n",
    "                initializer=kernel_initializer()\n",
    "            )\n",
    "\n",
    "    def call(self, inputs, mode=\"embedding\"):\n",
    "        \"\"\"\n",
    "        layer 실행\n",
    "        :param inputs: 입력\n",
    "        :param mode: 실행 모드\n",
    "        :return: embedding or linear 실행 결과\n",
    "        \"\"\"\n",
    "        # mode가 embedding일 경우 embedding lookup 실행\n",
    "        if mode == \"embedding\":\n",
    "            return self._embedding(inputs)\n",
    "        # mode가 linear일 경우 linear 실행\n",
    "        elif mode == \"linear\":\n",
    "            return self._linear(inputs)\n",
    "        # mode가 기타일 경우 오류 발생\n",
    "        else:\n",
    "            raise ValueError(f\"mode {mode} is not valid.\")\n",
    "    \n",
    "    def _embedding(self, inputs):\n",
    "        \"\"\"\n",
    "        embedding lookup\n",
    "        :param inputs: 입력\n",
    "        \"\"\"\n",
    "        # inputs : [batch_size, seq_len]\n",
    "        # self.shared_weights : shape: [vocab_size, d_model]인 임베딩 가중치 행렬 \n",
    "        # tf.gather(..., indices) : indices에 해당하는 행(벡터)만 뽑아오는 함수\n",
    "        # 즉, 전체 vocab 임베딩에서, inputs에 토큰에 대해서만 뽑아옴(lookup)\n",
    "        embed = tf.gather(self.shared_weights, tf.cast(inputs, tf.int32))\n",
    "        return embed \n",
    "        # shape: [batch_size, seq_len, d_model]\n",
    "        # 각 토큰을 d_model 차원의 벡터로 임베딩\n",
    "\n",
    "    def _linear(self, inputs):  # (bs, n_seq, d_model)\n",
    "        \"\"\"\n",
    "        linear 실행\n",
    "        :param inputs: 입력\n",
    "        \"\"\"\n",
    "        n_batch = tf.shape(inputs)[0]\n",
    "        n_seq = tf.shape(inputs)[1]\n",
    "        \n",
    "        # self.shared_weights : [vocab_size, d_model]인 임베딩 가중치 행렬과 matmul하려고\n",
    "        inputs = tf.reshape(inputs, [-1, self.d_model])  # (bs * n_seq, d_model)\n",
    "        \n",
    "        # decoder output * shared_weights^T \n",
    "        outputs = tf.matmul(inputs, self.shared_weights, transpose_b=True)\n",
    "        \n",
    "        # softmax를 하려고 n_vocab로 변경\n",
    "        outputs = tf.reshape(outputs, [n_batch, n_seq, self.n_vocab])  # (bs, n_seq, n_vocab)\n",
    "        return outputs"
   ]
  },
  {
   "cell_type": "markdown",
   "id": "54af21b0",
   "metadata": {},
   "source": [
    "**학습 가능한 위치 임베딩 (learnable position embedding)**"
   ]
  },
  {
   "cell_type": "code",
   "execution_count": 20,
   "id": "99f137dc",
   "metadata": {},
   "outputs": [],
   "source": [
    "class PositionEmbedding(tf.keras.layers.Layer):\n",
    "    \"\"\"\n",
    "    Position Embedding Class\n",
    "    \"\"\"\n",
    "    def __init__(self, config, name=\"position_embedding\"):\n",
    "        \"\"\"\n",
    "        생성자\n",
    "        :param config: Config 객체\n",
    "        :param name: layer name\n",
    "        \"\"\"\n",
    "        super().__init__(name=name)\n",
    "        \n",
    "        self.embedding = tf.keras.layers.Embedding(config.n_seq, config.d_model, embeddings_initializer=kernel_initializer())\n",
    "\n",
    "    def call(self, inputs):\n",
    "        \"\"\"\n",
    "        layer 실행\n",
    "        :param inputs: 입력\n",
    "        :return embed: position embedding lookup 결과\n",
    "        \"\"\"\n",
    "        position = tf.cast(tf.math.cumsum(tf.ones_like(inputs), axis=1, exclusive=True), tf.int32)\n",
    "        # tf.ones_like(inputs) : inputs와 같은 shape의 텐서를 만들되, 모든 값을 1로 채운다. \n",
    "        # tf.math.cumsum(..., axis=1, exclusive=True) : 누적합을 구하되, 자기자신은 포함하지 않음 (즉, 앞의 값들만 합함)\n",
    "        # --> 각 토큰의 위치 인덱시 [0,1,2,3,4,...]\n",
    "        embed = self.embedding(position)\n",
    "        return embed\n",
    "        # [batch_size, seq_len, d_model]"
   ]
  },
  {
   "cell_type": "markdown",
   "id": "0deb7537",
   "metadata": {},
   "source": [
    "### Encoder Layer"
   ]
  },
  {
   "cell_type": "code",
   "execution_count": 21,
   "id": "c5d6decb",
   "metadata": {},
   "outputs": [],
   "source": [
    "class ScaleDotProductAttention(tf.keras.layers.Layer):\n",
    "    \"\"\"\n",
    "    Scale Dot Product Attention Class\n",
    "    \"\"\"\n",
    "    def __init__(self, name=\"scale_dot_product_attention\"):\n",
    "        \"\"\"\n",
    "        생성자\n",
    "        :param name: layer name\n",
    "        \"\"\"\n",
    "        super().__init__(name=name)\n",
    "\n",
    "    def call(self, Q, K, V, attn_mask):\n",
    "        \"\"\"\n",
    "        layer 실행\n",
    "        :param Q: Q value\n",
    "        :param K: K value\n",
    "        :param V: V value\n",
    "        :param attn_mask: 실행 모드\n",
    "        :return attn_out: attention 실행 결과\n",
    "        \"\"\"\n",
    "        attn_score = tf.matmul(Q, K, transpose_b=True)\n",
    "        scale = tf.math.sqrt(tf.cast(tf.shape(K)[-1], tf.float32))\n",
    "        attn_scale = tf.math.divide(attn_score, scale)\n",
    "        attn_scale -= 1.e9 * attn_mask\n",
    "        attn_prob = tf.nn.softmax(attn_scale, axis=-1)\n",
    "        attn_out = tf.matmul(attn_prob, V)\n",
    "        return attn_out"
   ]
  },
  {
   "cell_type": "code",
   "execution_count": 22,
   "id": "a7eefeae",
   "metadata": {},
   "outputs": [],
   "source": [
    "class MultiHeadAttention(tf.keras.layers.Layer):\n",
    "    \"\"\"\n",
    "    Multi Head Attention Class\n",
    "    \"\"\"\n",
    "    def __init__(self, config, name=\"multi_head_attention\"):\n",
    "        \"\"\"\n",
    "        생성자\n",
    "        :param config: Config 객체\n",
    "        :param name: layer name\n",
    "        \"\"\"\n",
    "        super().__init__(name=name)\n",
    "\n",
    "        self.d_model = config.d_model\n",
    "        self.n_head = config.n_head\n",
    "        self.d_head = config.d_head\n",
    "\n",
    "        # Q, K, V input dense layer\n",
    "        self.W_Q = tf.keras.layers.Dense(config.n_head * config.d_head, kernel_initializer=kernel_initializer(), bias_initializer=bias_initializer())\n",
    "        self.W_K = tf.keras.layers.Dense(config.n_head * config.d_head, kernel_initializer=kernel_initializer(), bias_initializer=bias_initializer())\n",
    "        self.W_V = tf.keras.layers.Dense(config.n_head * config.d_head, kernel_initializer=kernel_initializer(), bias_initializer=bias_initializer())\n",
    "        # Scale Dot Product Attention class\n",
    "        self.attention = ScaleDotProductAttention(name=\"self_attention\")\n",
    "        # output dense layer\n",
    "        self.W_O = tf.keras.layers.Dense(config.d_model, kernel_initializer=kernel_initializer(), bias_initializer=bias_initializer())\n",
    "\n",
    "    def call(self, Q, K, V, attn_mask):\n",
    "        \"\"\"\n",
    "        layer 실행\n",
    "        :param Q: Q value\n",
    "        :param K: K value\n",
    "        :param V: V value\n",
    "        :param attn_mask: 실행 모드\n",
    "        :return attn_out: attention 실행 결과\n",
    "        \"\"\"\n",
    "        # reshape Q, K, V, attn_mask\n",
    "        batch_size = tf.shape(Q)[0]\n",
    "        Q_m = tf.transpose(tf.reshape(self.W_Q(Q), [batch_size, -1, self.n_head, self.d_head]), [0, 2, 1, 3])  # (bs, n_head, Q_len, d_head)\n",
    "        K_m = tf.transpose(tf.reshape(self.W_K(K), [batch_size, -1, self.n_head, self.d_head]), [0, 2, 1, 3])  # (bs, n_head, K_len, d_head)\n",
    "        V_m = tf.transpose(tf.reshape(self.W_V(V), [batch_size, -1, self.n_head, self.d_head]), [0, 2, 1, 3])  # (bs, n_head, K_len, d_head)\n",
    "        attn_mask_m = tf.expand_dims(attn_mask, axis=1)\n",
    "        # Scale Dot Product Attention with multi head Q, K, V, attn_mask\n",
    "        attn_out = self.attention(Q_m, K_m, V_m, attn_mask_m)  # (bs, n_head, Q_len, d_head)\n",
    "        # transpose and liner\n",
    "        attn_out_m = tf.transpose(attn_out, perm=[0, 2, 1, 3])  # (bs, Q_len, n_head, d_head)\n",
    "        attn_out = tf.reshape(attn_out_m, [batch_size, -1, config.n_head * config.d_head])  # (bs, Q_len, d_model)\n",
    "        attn_out = self.W_O(attn_out) # (bs, Q_len, d_mode)\n",
    "\n",
    "        return attn_out"
   ]
  },
  {
   "cell_type": "markdown",
   "id": "8aacc591",
   "metadata": {},
   "source": [
    "**포지션-와이즈 피드포워드 네트워크(Position-wise Feed-Forward Network, FFN)**\n",
    "\n",
    "    각 시퀀스의 토큰 벡터에 독립적으로 적용\n",
    "\n",
    "    FFN(x)=W2( activation(W1(x) )\n",
    "    - W_1 : 입력을 넓힘 d_model-> d_ff\n",
    "    - W_2 : 다시 원래 차원으로 줄일"
   ]
  },
  {
   "cell_type": "code",
   "execution_count": 23,
   "id": "1e48b5a5",
   "metadata": {},
   "outputs": [],
   "source": [
    "class PositionWiseFeedForward(tf.keras.layers.Layer):\n",
    "    \"\"\"\n",
    "    Position Wise Feed Forward Class\n",
    "    \"\"\"\n",
    "    def __init__(self, config, name=\"feed_forward\"):\n",
    "        \"\"\"\n",
    "        생성자\n",
    "        :param config: Config 객체\n",
    "        :param name: layer name\n",
    "        \"\"\"\n",
    "        super().__init__(name=name)\n",
    "\n",
    "        self.W_1 = tf.keras.layers.Dense(config.d_ff, activation=gelu, kernel_initializer=kernel_initializer(), bias_initializer=bias_initializer())\n",
    "        self.W_2 = tf.keras.layers.Dense(config.d_model, kernel_initializer=kernel_initializer(), bias_initializer=bias_initializer())\n",
    "\n",
    "    def call(self, inputs):\n",
    "        \"\"\"\n",
    "        layer 실행\n",
    "        :param inputs: inputs\n",
    "        :return ff_val: feed forward 실행 결과\n",
    "        \"\"\"\n",
    "        ff_val = self.W_2(self.W_1(inputs))\n",
    "        return ff_val"
   ]
  },
  {
   "cell_type": "code",
   "execution_count": 24,
   "id": "a63e86b2",
   "metadata": {},
   "outputs": [],
   "source": [
    "class EncoderLayer(tf.keras.layers.Layer):\n",
    "    \"\"\"\n",
    "    Encoder Layer Class\n",
    "    \"\"\"\n",
    "    def __init__(self, config, name=\"encoder_layer\"):\n",
    "        \"\"\"\n",
    "        생성자\n",
    "        :param config: Config 객체\n",
    "        :param name: layer name\n",
    "        \"\"\"\n",
    "        super().__init__(name=name)\n",
    "\n",
    "        self.self_attention = MultiHeadAttention(config)\n",
    "        self.norm1 = tf.keras.layers.LayerNormalization(epsilon=config.layernorm_epsilon)\n",
    "\n",
    "        self.ffn = PositionWiseFeedForward(config)\n",
    "        self.norm2 = tf.keras.layers.LayerNormalization(epsilon=config.layernorm_epsilon)\n",
    "\n",
    "        self.dropout = tf.keras.layers.Dropout(config.dropout)\n",
    " \n",
    "    def call(self, enc_embed, self_mask):\n",
    "        \"\"\"\n",
    "        layer 실행\n",
    "        :param enc_embed: enc_embed 또는 이전 EncoderLayer의 출력\n",
    "        :param self_mask: enc_tokens의 pad mask\n",
    "        :return enc_out: EncoderLayer 실행 결과\n",
    "        \"\"\"\n",
    "        self_attn_val = self.self_attention(enc_embed, enc_embed, enc_embed, self_mask)\n",
    "        norm1_val = self.norm1(enc_embed + self.dropout(self_attn_val))\n",
    "\n",
    "        ffn_val = self.ffn(norm1_val)\n",
    "        enc_out = self.norm2(norm1_val + self.dropout(ffn_val))\n",
    "\n",
    "        return enc_out"
   ]
  },
  {
   "cell_type": "markdown",
   "id": "a06f2819",
   "metadata": {},
   "source": [
    "### BERT\n",
    "\n",
    "    * Embedding=TokenEmbedding+PositionEmbedding+SegmentEmbedding"
   ]
  },
  {
   "cell_type": "code",
   "execution_count": 25,
   "id": "ecc699c6",
   "metadata": {},
   "outputs": [],
   "source": [
    "class BERT(tf.keras.layers.Layer):\n",
    "    \"\"\"\n",
    "    BERT Class\n",
    "    \"\"\"\n",
    "    def __init__(self, config, name=\"bert\"):\n",
    "        \"\"\"\n",
    "        생성자\n",
    "        :param config: Config 객체\n",
    "        :param name: layer name\n",
    "        \"\"\"\n",
    "        super().__init__(name=name)\n",
    "\n",
    "        self.i_pad = config.i_pad\n",
    "        self.embedding = SharedEmbedding(config)\n",
    "        self.position = PositionEmbedding(config)\n",
    "        self.segment = tf.keras.layers.Embedding(2, config.d_model, embeddings_initializer=kernel_initializer())\n",
    "        self.norm = tf.keras.layers.LayerNormalization(epsilon=config.layernorm_epsilon)\n",
    "        \n",
    "        self.encoder_layers = [EncoderLayer(config, name=f\"encoder_layer_{i}\") for i in range(config.n_layer)]\n",
    "\n",
    "        self.dropout = tf.keras.layers.Dropout(config.dropout)\n",
    "\n",
    "    def call(self, inputs):\n",
    "        \"\"\"\n",
    "        layer 실행\n",
    "        :param inputs: (enc_tokens, segments)\n",
    "        :return logits: dec_tokens에 대한 다음 토큰 예측 결과 logits\n",
    "        \"\"\"\n",
    "        enc_tokens, segments = inputs\n",
    "\n",
    "        enc_self_mask = tf.keras.layers.Lambda(get_pad_mask, output_shape=(1, None), name='enc_self_mask')(enc_tokens, self.i_pad)\n",
    "\n",
    "        enc_embed = self.get_embedding(enc_tokens, segments)\n",
    "\n",
    "        enc_out = self.dropout(enc_embed)\n",
    "        for encoder_layer in self.encoder_layers:\n",
    "            enc_out = encoder_layer(enc_out, enc_self_mask)\n",
    "\n",
    "        logits_cls = enc_out[:,0]   # 각 문장의 첫 번째 위치 토큰(보통 [CLS])에 해당하는 벡터만 선택\n",
    "                                    # NSP (Next Sentence Prediction) 작업을 위한 입력으로 사용\n",
    "        logits_lm = self.embedding(enc_out, mode=\"linear\")  # MLM을 위한 로짓 \n",
    "        return logits_cls, logits_lm\n",
    "        # logits_cls: [CLS] 토큰의 최종 벡터 (shape: [batch_size, hidden_dim]) (hidden_dim = d_model)\n",
    "        # logits_lm: MLM을 위한 로짓 (shape: [batch_size, seq_len, vocab_size])\n",
    "\n",
    "    \n",
    "    def get_embedding(self, tokens, segments):\n",
    "        \"\"\"\n",
    "        token embedding, position embedding lookup\n",
    "        :param tokens: 입력 tokens\n",
    "        :param segments: 입력 segments\n",
    "        :return embed: embedding 결과\n",
    "        \"\"\"\n",
    "        embed = self.embedding(tokens) + self.position(tokens) + self.segment(segments)\n",
    "        # 서로 다른 분포를 가진 임베딩 벡터들을 더하면, 각 차원별 값의 스케일이 불균형해질 수 있고\n",
    "        # 학습이 불안정해질 가능성이 생기므로, \n",
    "        # LayerNormalization으로 스케일 차이를 조정 (출력의 평균을 0, 분산을 1에 가깝게 맞춤)\n",
    "        embed = self.norm(embed)\n",
    "        return embed"
   ]
  },
  {
   "cell_type": "code",
   "execution_count": 26,
   "id": "b4bd35c9",
   "metadata": {},
   "outputs": [],
   "source": [
    "# [CLS] 토큰에서 나온 문장 전체의 표현을 사용해\n",
    "# NSP (Next Sentence Prediction) 또는 다른 이진/다중 분류 작업을 처리하기 위한 작은 분류기(classifier)\n",
    "class PooledOutput(tf.keras.layers.Layer):\n",
    "    def __init__(self, config, n_output, name=\"pooled_output\"):\n",
    "        super().__init__(name=name)\n",
    "\n",
    "        self.dense1 = tf.keras.layers.Dense(config.d_model, activation=tf.nn.tanh, kernel_initializer=kernel_initializer(), bias_initializer=bias_initializer())\n",
    "        self.dense2 = tf.keras.layers.Dense(n_output, use_bias=False, activation=tf.nn.softmax, name=\"nsp\", kernel_initializer=kernel_initializer(), bias_initializer=bias_initializer())\n",
    " \n",
    "    def call(self, inputs):\n",
    "        outputs = self.dense1(inputs)\n",
    "        outputs = self.dense2(outputs)\n",
    "        return outputs"
   ]
  },
  {
   "cell_type": "code",
   "execution_count": 27,
   "id": "e3828970",
   "metadata": {},
   "outputs": [],
   "source": [
    "def build_model_pre_train(config):\n",
    "    enc_tokens = tf.keras.layers.Input((None,), name=\"enc_tokens\")\n",
    "    segments = tf.keras.layers.Input((None,), name=\"segments\")\n",
    "\n",
    "    bert = BERT(config)\n",
    "    logits_cls, logits_lm = bert((enc_tokens, segments))\n",
    "\n",
    "    logits_cls = PooledOutput(config, 2, name=\"pooled_nsp\")(logits_cls)\n",
    "    outputs_nsp = tf.keras.layers.Softmax(name=\"nsp\")(logits_cls)\n",
    "\n",
    "    outputs_mlm = tf.keras.layers.Softmax(name=\"mlm\")(logits_lm)\n",
    "\n",
    "    model = tf.keras.Model(inputs=(enc_tokens, segments), outputs=(outputs_nsp, outputs_mlm))\n",
    "    return model"
   ]
  },
  {
   "cell_type": "markdown",
   "id": "c68b351f",
   "metadata": {},
   "source": [
    "## 6. pretrain 진행\n",
    "loss, accuracy 함수를 정의하고 Learning Rate 스케쥴링을 구현한 후, 10 Epoch까지 모델 학습을 시켜보세요.\n",
    "학습을 진행할 때는 배치 사이즈에 유의하세요."
   ]
  },
  {
   "cell_type": "code",
   "execution_count": 28,
   "id": "81313809",
   "metadata": {},
   "outputs": [],
   "source": [
    "def lm_loss(y_true, y_pred):\n",
    "    \"\"\"\n",
    "    loss 계산 함수\n",
    "    :param y_true: 정답 (bs, n_seq)\n",
    "    :param y_pred: 예측 값 (bs, n_seq, n_vocab)\n",
    "    \"\"\"\n",
    "    # loss 계산\n",
    "    loss = tf.keras.losses.SparseCategoricalCrossentropy(reduction=tf.keras.losses.Reduction.NONE)(y_true, y_pred)\n",
    "    # pad(0) 인 부분 mask\n",
    "    mask = tf.cast(tf.math.not_equal(y_true, 0), dtype=loss.dtype)\n",
    "    loss *= mask\n",
    "    return loss * 20  # mlm을 더 잘 학습하도록 20배 증가 시킴"
   ]
  },
  {
   "cell_type": "code",
   "execution_count": 29,
   "id": "abd50384",
   "metadata": {},
   "outputs": [],
   "source": [
    "def lm_acc(y_true, y_pred):\n",
    "    \"\"\"\n",
    "    acc 계산 함수\n",
    "    :param y_true: 정답 (bs, n_seq)\n",
    "    :param y_pred: 예측 값 (bs, n_seq, n_vocab)\n",
    "    \"\"\"\n",
    "    # 정답 여부 확인\n",
    "    y_pred_class = tf.cast(K.argmax(y_pred, axis=-1), tf.float32)\n",
    "    matches = tf.cast(K.equal(y_true, y_pred_class), tf.float32)\n",
    "    # pad(0) 인 부분 mask\n",
    "    mask = tf.cast(tf.math.not_equal(y_true, 0), dtype=matches.dtype)\n",
    "    matches *= mask\n",
    "    # 정확도 계산\n",
    "    accuracy = K.sum(matches) / K.maximum(K.sum(mask), 1)\n",
    "    return accuracy"
   ]
  },
  {
   "cell_type": "code",
   "execution_count": 30,
   "id": "8998c6fc",
   "metadata": {},
   "outputs": [],
   "source": [
    "class CosineSchedule(tf.keras.optimizers.schedules.LearningRateSchedule):\n",
    "    \"\"\"\n",
    "    CosineSchedule Class\n",
    "    \"\"\"\n",
    "    def __init__(self, train_steps=4000, warmup_steps=2000, max_lr=2.5e-4):\n",
    "        \"\"\"\n",
    "        생성자\n",
    "        :param train_steps: 학습 step 총 합\n",
    "        :param warmup_steps: warmup steps\n",
    "        :param max_lr: 최대 learning rate\n",
    "        \"\"\"\n",
    "        super().__init__()\n",
    "\n",
    "        assert 0 < warmup_steps < train_steps\n",
    "        self.warmup_steps = warmup_steps\n",
    "        self.train_steps = train_steps\n",
    "        self.max_lr = max_lr\n",
    "\n",
    "    def __call__(self, step_num):\n",
    "        \"\"\"\n",
    "        learning rate 계산\n",
    "        :param step_num: 현재 step number\n",
    "        :retrun: 계산된 learning rate\n",
    "        \"\"\"\n",
    "        state = tf.cast(step_num <= self.warmup_steps, tf.float32)\n",
    "        lr1 = tf.cast(step_num, tf.float32) / self.warmup_steps\n",
    "        progress = tf.cast(step_num - self.warmup_steps, tf.float32) / max(1, self.train_steps - self.warmup_steps)\n",
    "        lr2 = 0.5 * (1.0 + tf.math.cos(math.pi * progress))\n",
    "        return (state * lr1 + (1 - state) * lr2) * self.max_lr"
   ]
  },
  {
   "cell_type": "code",
   "execution_count": 31,
   "id": "1c24e1db",
   "metadata": {},
   "outputs": [
    {
     "data": {
      "image/png": "[encoded data removed]",
      "text/plain": [
       "<Figure size 432x288 with 1 Axes>"
      ]
     },
     "metadata": {
      "needs_background": "light"
     },
     "output_type": "display_data"
    }
   ],
   "source": [
    "# compute lr \n",
    "test_schedule = CosineSchedule(train_steps=4000, warmup_steps=500)\n",
    "lrs = []\n",
    "for step_num in range(4000):\n",
    "    lrs.append(test_schedule(float(step_num)).numpy())\n",
    "\n",
    "# draw\n",
    "plt.plot(lrs, 'r-', label='learning_rate')\n",
    "plt.xlabel('Step')\n",
    "plt.show()"
   ]
  },
  {
   "cell_type": "markdown",
   "id": "7aa2790d",
   "metadata": {},
   "source": [
    "## 모델 학습"
   ]
  },
  {
   "cell_type": "code",
   "execution_count": 35,
   "id": "c6d89a1c",
   "metadata": {},
   "outputs": [
    {
     "name": "stdout",
     "output_type": "stream",
     "text": [
      "Config :  {'d_model': 256, 'n_head': 4, 'd_head': 64, 'dropout': 0.1, 'd_ff': 1024, 'layernorm_epsilon': 0.001, 'n_layer': 3, 'n_seq': 256, 'n_vocab': 8007, 'i_pad': 0}\n",
      "Model: \"model_1\"\n",
      "__________________________________________________________________________________________________\n",
      "Layer (type)                    Output Shape         Param #     Connected to                     \n",
      "==================================================================================================\n",
      "enc_tokens (InputLayer)         [(None, None)]       0                                            \n",
      "__________________________________________________________________________________________________\n",
      "segments (InputLayer)           [(None, None)]       0                                            \n",
      "__________________________________________________________________________________________________\n",
      "bert (BERT)                     ((None, 256), (None, 4387328     enc_tokens[0][0]                 \n",
      "                                                                 segments[0][0]                   \n",
      "__________________________________________________________________________________________________\n",
      "pooled_nsp (PooledOutput)       (None, 2)            66304       bert[0][0]                       \n",
      "__________________________________________________________________________________________________\n",
      "nsp (Softmax)                   (None, 2)            0           pooled_nsp[0][0]                 \n",
      "__________________________________________________________________________________________________\n",
      "mlm (Softmax)                   (None, None, 8007)   0           bert[0][1]                       \n",
      "==================================================================================================\n",
      "Total params: 4,453,632\n",
      "Trainable params: 4,453,632\n",
      "Non-trainable params: 0\n",
      "__________________________________________________________________________________________________\n"
     ]
    }
   ],
   "source": [
    "config_4m = Config({\"d_model\": 256, \n",
    "                 \"n_head\": 4, \n",
    "                 \"d_head\": 64, \n",
    "                 \"dropout\": 0.1, \n",
    "                 \"d_ff\": 1024, \n",
    "                 \"layernorm_epsilon\": 0.001, \n",
    "                 \"n_layer\": 3, \n",
    "                 \"n_seq\": 256, \n",
    "                 \"n_vocab\": 0, \n",
    "                 \"i_pad\": 0})\n",
    "config_4m.n_vocab = len(vocab)\n",
    "config_4m.i_pad = vocab.pad_id()\n",
    "print('Config : ', config_4m)\n",
    "# 모델 생성\n",
    "model_4 = build_model_pre_train(config=config_4m)\n",
    "model_4.summary()"
   ]
  },
  {
   "cell_type": "code",
   "execution_count": 49,
   "id": "b90bb585",
   "metadata": {},
   "outputs": [
    {
     "name": "stdout",
     "output_type": "stream",
     "text": [
      "Config :  {'d_model': 128, 'n_head': 2, 'd_head': 64, 'dropout': 0.1, 'd_ff': 512, 'layernorm_epsilon': 0.001, 'n_layer': 2, 'n_seq': 128, 'n_vocab': 8007, 'i_pad': 0}\n",
      "Model: \"model_3\"\n",
      "__________________________________________________________________________________________________\n",
      "Layer (type)                    Output Shape         Param #     Connected to                     \n",
      "==================================================================================================\n",
      "enc_tokens (InputLayer)         [(None, None)]       0                                            \n",
      "__________________________________________________________________________________________________\n",
      "segments (InputLayer)           [(None, None)]       0                                            \n",
      "__________________________________________________________________________________________________\n",
      "bert (BERT)                     ((None, 128), (None, 1438336     enc_tokens[0][0]                 \n",
      "                                                                 segments[0][0]                   \n",
      "__________________________________________________________________________________________________\n",
      "pooled_nsp (PooledOutput)       (None, 2)            16768       bert[0][0]                       \n",
      "__________________________________________________________________________________________________\n",
      "nsp (Softmax)                   (None, 2)            0           pooled_nsp[0][0]                 \n",
      "__________________________________________________________________________________________________\n",
      "mlm (Softmax)                   (None, None, 8007)   0           bert[0][1]                       \n",
      "==================================================================================================\n",
      "Total params: 1,455,104\n",
      "Trainable params: 1,455,104\n",
      "Non-trainable params: 0\n",
      "__________________________________________________________________________________________________\n"
     ]
    }
   ],
   "source": [
    "config = Config({\"d_model\": 128, \n",
    "                 \"n_head\": 2, \n",
    "                 \"d_head\": 64, \n",
    "                 \"dropout\": 0.1, \n",
    "                 \"d_ff\": 512, \n",
    "                 \"layernorm_epsilon\": 0.001, \n",
    "                 \"n_layer\": 2, \n",
    "                 \"n_seq\": 128, \n",
    "                 \"n_vocab\": 0, \n",
    "                 \"i_pad\": 0})\n",
    "config.n_vocab = len(vocab)\n",
    "config.i_pad = vocab.pad_id()\n",
    "print('Config : ', config)\n",
    "\n",
    "# 모델 생성\n",
    "model_1 = build_model_pre_train(config)\n",
    "model_1.summary()\n"
   ]
  },
  {
   "cell_type": "code",
   "execution_count": 36,
   "id": "b600d1fc",
   "metadata": {
    "scrolled": true
   },
   "outputs": [
    {
     "name": "stdout",
     "output_type": "stream",
     "text": [
      "Config :  {'d_model': 128, 'n_head': 2, 'd_head': 64, 'dropout': 0.1, 'd_ff': 512, 'layernorm_epsilon': 0.001, 'n_layer': 2, 'n_seq': 128, 'n_vocab': 8007, 'i_pad': 0}\n",
      "Model: \"model_2\"\n",
      "__________________________________________________________________________________________________\n",
      "Layer (type)                    Output Shape         Param #     Connected to                     \n",
      "==================================================================================================\n",
      "enc_tokens (InputLayer)         [(None, None)]       0                                            \n",
      "__________________________________________________________________________________________________\n",
      "segments (InputLayer)           [(None, None)]       0                                            \n",
      "__________________________________________________________________________________________________\n",
      "bert (BERT)                     ((None, 128), (None, 1438336     enc_tokens[0][0]                 \n",
      "                                                                 segments[0][0]                   \n",
      "__________________________________________________________________________________________________\n",
      "pooled_nsp (PooledOutput)       (None, 2)            16768       bert[0][0]                       \n",
      "__________________________________________________________________________________________________\n",
      "nsp (Softmax)                   (None, 2)            0           pooled_nsp[0][0]                 \n",
      "__________________________________________________________________________________________________\n",
      "mlm (Softmax)                   (None, None, 8007)   0           bert[0][1]                       \n",
      "==================================================================================================\n",
      "Total params: 1,455,104\n",
      "Trainable params: 1,455,104\n",
      "Non-trainable params: 0\n",
      "__________________________________________________________________________________________________\n",
      "train_steps: 114780\n",
      "Epoch 1/10\n",
      "11478/11478 [==============================] - 910s 76ms/step - loss: 16.4647 - nsp_loss: 0.5572 - mlm_loss: 15.9074 - nsp_accuracy: 0.7148 - mlm_lm_acc: 0.0918 - val_loss: 14.8373 - val_nsp_loss: 0.5225 - val_mlm_loss: 14.3148 - val_nsp_accuracy: 0.7533 - val_mlm_lm_acc: 0.1361\n",
      "\n",
      "Epoch 00001: mlm_lm_acc improved from -inf to 0.09179, saving model to ./models/bert_pre_train_1.hdf5\n",
      "Epoch 2/10\n",
      "11478/11478 [==============================] - 876s 76ms/step - loss: 13.2710 - nsp_loss: 0.5226 - mlm_loss: 12.7484 - nsp_accuracy: 0.7476 - mlm_lm_acc: 0.1717 - val_loss: 11.8367 - val_nsp_loss: 0.5147 - val_mlm_loss: 11.3220 - val_nsp_accuracy: 0.7534 - val_mlm_lm_acc: 0.2114\n",
      "\n",
      "Epoch 00002: mlm_lm_acc improved from 0.09179 to 0.17167, saving model to ./models/bert_pre_train_1.hdf5\n",
      "Epoch 3/10\n",
      "11478/11478 [==============================] - 877s 76ms/step - loss: 11.8437 - nsp_loss: 0.5134 - mlm_loss: 11.3303 - nsp_accuracy: 0.7559 - mlm_lm_acc: 0.2119 - val_loss: 11.3384 - val_nsp_loss: 0.5073 - val_mlm_loss: 10.8310 - val_nsp_accuracy: 0.7608 - val_mlm_lm_acc: 0.2285\n",
      "\n",
      "Epoch 00003: mlm_lm_acc improved from 0.17167 to 0.21194, saving model to ./models/bert_pre_train_1.hdf5\n",
      "Epoch 4/10\n",
      "11478/11478 [==============================] - 876s 76ms/step - loss: 11.4970 - nsp_loss: 0.5100 - mlm_loss: 10.9870 - nsp_accuracy: 0.7591 - mlm_lm_acc: 0.2235 - val_loss: 11.0864 - val_nsp_loss: 0.5059 - val_mlm_loss: 10.5805 - val_nsp_accuracy: 0.7640 - val_mlm_lm_acc: 0.2375\n",
      "\n",
      "Epoch 00004: mlm_lm_acc improved from 0.21194 to 0.22348, saving model to ./models/bert_pre_train_1.hdf5\n",
      "Epoch 5/10\n",
      "11478/11478 [==============================] - 876s 76ms/step - loss: 11.2927 - nsp_loss: 0.5081 - mlm_loss: 10.7846 - nsp_accuracy: 0.7627 - mlm_lm_acc: 0.2308 - val_loss: 10.9252 - val_nsp_loss: 0.5054 - val_mlm_loss: 10.4198 - val_nsp_accuracy: 0.7647 - val_mlm_lm_acc: 0.2436\n",
      "\n",
      "Epoch 00005: mlm_lm_acc improved from 0.22348 to 0.23081, saving model to ./models/bert_pre_train_1.hdf5\n",
      "Epoch 6/10\n",
      "11478/11478 [==============================] - 876s 76ms/step - loss: 11.1527 - nsp_loss: 0.5067 - mlm_loss: 10.6461 - nsp_accuracy: 0.7648 - mlm_lm_acc: 0.2356 - val_loss: 10.7969 - val_nsp_loss: 0.5041 - val_mlm_loss: 10.2928 - val_nsp_accuracy: 0.7657 - val_mlm_lm_acc: 0.2485\n",
      "\n",
      "Epoch 00006: mlm_lm_acc improved from 0.23081 to 0.23561, saving model to ./models/bert_pre_train_1.hdf5\n",
      "Epoch 7/10\n",
      "11478/11478 [==============================] - 876s 76ms/step - loss: 11.0540 - nsp_loss: 0.5054 - mlm_loss: 10.5486 - nsp_accuracy: 0.7665 - mlm_lm_acc: 0.2391 - val_loss: 10.7232 - val_nsp_loss: 0.5025 - val_mlm_loss: 10.2207 - val_nsp_accuracy: 0.7687 - val_mlm_lm_acc: 0.2513\n",
      "\n",
      "Epoch 00007: mlm_lm_acc improved from 0.23561 to 0.23912, saving model to ./models/bert_pre_train_1.hdf5\n",
      "Epoch 8/10\n",
      "11478/11478 [==============================] - 876s 76ms/step - loss: 10.9830 - nsp_loss: 0.5043 - mlm_loss: 10.4787 - nsp_accuracy: 0.7682 - mlm_lm_acc: 0.2415 - val_loss: 10.6750 - val_nsp_loss: 0.5019 - val_mlm_loss: 10.1731 - val_nsp_accuracy: 0.7694 - val_mlm_lm_acc: 0.2534\n",
      "\n",
      "Epoch 00008: mlm_lm_acc improved from 0.23912 to 0.24152, saving model to ./models/bert_pre_train_1.hdf5\n",
      "Epoch 9/10\n",
      "11478/11478 [==============================] - 876s 76ms/step - loss: 10.9382 - nsp_loss: 0.5035 - mlm_loss: 10.4348 - nsp_accuracy: 0.7699 - mlm_lm_acc: 0.2430 - val_loss: 10.6525 - val_nsp_loss: 0.5016 - val_mlm_loss: 10.1509 - val_nsp_accuracy: 0.7695 - val_mlm_lm_acc: 0.2542\n",
      "\n",
      "Epoch 00009: mlm_lm_acc improved from 0.24152 to 0.24303, saving model to ./models/bert_pre_train_1.hdf5\n",
      "Epoch 10/10\n",
      "11478/11478 [==============================] - 875s 76ms/step - loss: 10.9143 - nsp_loss: 0.5033 - mlm_loss: 10.4110 - nsp_accuracy: 0.7707 - mlm_lm_acc: 0.2437 - val_loss: 10.6484 - val_nsp_loss: 0.5015 - val_mlm_loss: 10.1469 - val_nsp_accuracy: 0.7695 - val_mlm_lm_acc: 0.2543\n",
      "\n",
      "Epoch 00010: mlm_lm_acc improved from 0.24303 to 0.24374, saving model to ./models/bert_pre_train_1.hdf5\n"
     ]
    }
   ],
   "source": [
    "config = Config({\"d_model\": 128, \n",
    "                 \"n_head\": 2, \n",
    "                 \"d_head\": 64, \n",
    "                 \"dropout\": 0.1, \n",
    "                 \"d_ff\": 512, \n",
    "                 \"layernorm_epsilon\": 0.001, \n",
    "                 \"n_layer\": 2, \n",
    "                 \"n_seq\": 128, \n",
    "                 \"n_vocab\": 0, \n",
    "                 \"i_pad\": 0})\n",
    "config.n_vocab = len(vocab)\n",
    "config.i_pad = vocab.pad_id()\n",
    "print('Config : ', config)\n",
    "\n",
    "# 모델 생성\n",
    "model_1 = build_model_pre_train(config)\n",
    "model_1.summary()\n",
    "\n",
    "#\n",
    "epochs = 10\n",
    "batch_size = 64\n",
    "\n",
    "# optimizer\n",
    "train_steps = math.ceil(len(train_inputs[0]) / batch_size) * epochs\n",
    "print(\"train_steps:\", train_steps)\n",
    "learning_rate = CosineSchedule(train_steps=train_steps, warmup_steps=max(100, train_steps // 10))\n",
    "optimizer = tf.keras.optimizers.Adam(learning_rate, beta_1=0.9, beta_2=0.98, epsilon=1e-9)\n",
    "\n",
    "\n",
    "# compile\n",
    "# nsp loss : sparse_categorical_crossentropy\n",
    "# mlm loss : lm_loss (예: MLM을 위한 사용자 정의 함수)\n",
    "#pre_train_model.compile(loss=(tf.keras.losses.sparse_categorical_crossentropy, lm_loss), \\\n",
    "#                       optimizer=optimizer, metrics={\"nsp\": \"acc\", \"mlm\": lm_acc})\n",
    "model_1.compile(\n",
    "                loss={\"nsp\": tf.keras.losses.sparse_categorical_crossentropy, \n",
    "                      \"mlm\": lm_loss},\n",
    "                optimizer=optimizer,\n",
    "                metrics={\"nsp\": \"accuracy\", \n",
    "                         \"mlm\": lm_acc}\n",
    "                )\n",
    "\n",
    "# save weights callback\n",
    "save_weights = tf.keras.callbacks.ModelCheckpoint(f\"{model_dir}/bert_pre_train_1.hdf5\",\\\n",
    "                monitor=\"mlm_lm_acc\", verbose=1, save_best_only=True, mode=\"max\", \\\n",
    "                ave_freq=\"epoch\", save_weights_only=True)\n",
    "# train\n",
    "history_1 = model_1.fit(train_inputs, train_labels,\n",
    "                              epochs=epochs, \n",
    "                              batch_size=batch_size, \n",
    "                              callbacks=save_weights,\n",
    "                              validation_data=(test_inputs, test_labels)\n",
    "                       )\n"
   ]
  },
  {
   "cell_type": "code",
   "execution_count": 55,
   "id": "b2495a71",
   "metadata": {},
   "outputs": [
    {
     "name": "stdout",
     "output_type": "stream",
     "text": [
      "dict_keys(['loss', 'nsp_loss', 'mlm_loss', 'nsp_accuracy', 'mlm_lm_acc', 'val_loss', 'val_nsp_loss', 'val_mlm_loss', 'val_nsp_accuracy', 'val_mlm_lm_acc'])\n"
     ]
    }
   ],
   "source": [
    "print(history_1.history.keys())"
   ]
  },
  {
   "cell_type": "code",
   "execution_count": 38,
   "id": "700356bb",
   "metadata": {
    "scrolled": true
   },
   "outputs": [
    {
     "data": {
      "image/png": "[encoded data removed]",
      "text/plain": [
       "<Figure size 864x288 with 2 Axes>"
      ]
     },
     "metadata": {
      "needs_background": "light"
     },
     "output_type": "display_data"
    }
   ],
   "source": [
    "# training result\n",
    "plt.figure(figsize=(12, 4))\n",
    "\n",
    "history = history_1\n",
    "\n",
    "plt.subplot(1, 2, 1)\n",
    "plt.plot(history.history['nsp_loss'], 'b-', label='nsp_loss')\n",
    "plt.plot(history.history['mlm_loss'], 'r--', label='mlm_loss')\n",
    "plt.plot(history.history['val_nsp_loss'], 'g-', label='val_nsp_loss')\n",
    "plt.plot(history.history['val_mlm_loss'], 'k--', label='val_mlm_loss')\n",
    "plt.xlabel('Epoch')\n",
    "plt.legend()\n",
    "\n",
    "plt.subplot(1, 2, 2)\n",
    "plt.plot(history.history['nsp_accuracy'], 'b-', label='nsp_acc')\n",
    "plt.plot(history.history['mlm_lm_acc'], 'r--', label='mlm_acc')\n",
    "plt.plot(history.history['val_nsp_accuracy'], 'g-', label='val_nsp_acc')\n",
    "plt.plot(history.history['val_mlm_lm_acc'], 'k--', label='val_mlm_acc')\n",
    "plt.xlabel('Epoch')\n",
    "plt.legend()\n",
    "\n",
    "plt.show()"
   ]
  },
  {
   "cell_type": "markdown",
   "id": "d1ffc767",
   "metadata": {},
   "source": [
    "## 결과물 저장"
   ]
  },
  {
   "cell_type": "code",
   "execution_count": 41,
   "id": "b9d3c569",
   "metadata": {},
   "outputs": [
    {
     "name": "stderr",
     "output_type": "stream",
     "text": [
      "WARNING:absl:Found untraced functions such as weight_shared_embedding_layer_call_and_return_conditional_losses, weight_shared_embedding_layer_call_fn, position_embedding_layer_call_and_return_conditional_losses, position_embedding_layer_call_fn, embedding_7_layer_call_and_return_conditional_losses while saving (showing 5 of 170). These functions will not be directly callable after loading.\n"
     ]
    },
    {
     "name": "stdout",
     "output_type": "stream",
     "text": [
      "INFO:tensorflow:Assets written to: ./models/mini_bert_model/assets\n"
     ]
    },
    {
     "name": "stderr",
     "output_type": "stream",
     "text": [
      "INFO:tensorflow:Assets written to: ./models/mini_bert_model/assets\n"
     ]
    }
   ],
   "source": [
    "# 저장\n",
    "save_model_path = model_dir + \"/mini_bert_model\"\n",
    "save_weights_path = model_dir + \"/mini_bert_weights.h5\"\n",
    "\n",
    "model_1.save(save_model_path, include_optimizer=False)\n",
    "model_1.save_weights(save_weights_path)"
   ]
  },
  {
   "cell_type": "code",
   "execution_count": 46,
   "id": "6ad92d5a",
   "metadata": {},
   "outputs": [
    {
     "name": "stdout",
     "output_type": "stream",
     "text": [
      "tokenizer_config.json:\n",
      "{\n",
      "    \"model_file\": \"ko_8000.model\",\n",
      "    \"vocab_file\": \"ko_8000.vocab\",\n",
      "    \"vocab_size\": 8007,\n",
      "    \"pad_id\": 0,\n",
      "    \"pad_piece\": \"[PAD]\",\n",
      "    \"unk_id\": 1,\n",
      "    \"unk_piece\": \"[UNK]\",\n",
      "    \"bos_id\": 2,\n",
      "    \"bos_piece\": \"[BOS]\",\n",
      "    \"eos_id\": 3,\n",
      "    \"eos_piece\": \"[EOS]\",\n",
      "    \"user_defined_symbols\": [\n",
      "        \"[SEP]\",\n",
      "        \"[CLS]\",\n",
      "        \"[MASK]\"\n",
      "    ],\n",
      "    \"model_type\": \"bpe\",\n",
      "    \"add_bos\": true,\n",
      "    \"add_eos\": true,\n",
      "    \"normalization_rule_name\": \"nmt_nfkc\",\n",
      "    \"split_by_whitespace\": true\n",
      "}\n"
     ]
    }
   ],
   "source": [
    "# tokenizer_config.json\t토크나이저 구성 저장용\n",
    "import json\n",
    "\n",
    "tokenizer_config = {\n",
    "    \"model_file\": \"ko_8000.model\",     # SentencePiece 모델 파일 경로\n",
    "    \"vocab_file\": \"ko_8000.vocab\",\n",
    "    \"vocab_size\": 8000 + 7,                 # 학습 시 설정한 vocab 크기, 7개 특수 토큰 포함\n",
    "    \"pad_id\": 0,\n",
    "    \"pad_piece\": \"[PAD]\",\n",
    "    \"unk_id\": 1,\n",
    "    \"unk_piece\": \"[UNK]\",\n",
    "    \"bos_id\": 2,\n",
    "    \"bos_piece\": \"[BOS]\",\n",
    "    \"eos_id\": 3,\n",
    "    \"eos_piece\": \"[EOS]\",\n",
    "    \"user_defined_symbols\": [\"[SEP]\", \"[CLS]\", \"[MASK]\"],\n",
    "    \"model_type\": \"bpe\",\n",
    "    \"add_bos\": True,                         # encode 시 BOS 붙이는 경우\n",
    "    \"add_eos\": True,                         # encode 시 EOS 추가 여부\n",
    "    \"normalization_rule_name\": \"nmt_nfkc\",   # 기본 SentencePiece normalization (필요 시 조정)\n",
    "    \"split_by_whitespace\": True              # 공백 기준 분할 여부 (기본 True)\n",
    "}\n",
    "tokenizer_config_path = model_dir + \"/tokenizer_config.json\"\n",
    "\n",
    "# 저장\n",
    "with open(tokenizer_config_path, \"w\", encoding=\"utf-8\") as f:\n",
    "    json.dump(tokenizer_config, f, indent=4, ensure_ascii=False)\n",
    "\n",
    "    \n",
    "print(\"tokenizer_config.json:\" )\n",
    "# 파일 읽기\n",
    "with open(tokenizer_config_path, \"r\") as f:\n",
    "    tok_config = json.load(f)\n",
    "\n",
    "# 출력\n",
    "print(json.dumps(tok_config, indent=4, ensure_ascii=False))  # 한글 깨짐 방지"
   ]
  },
  {
   "cell_type": "code",
   "execution_count": 50,
   "id": "c940ca83",
   "metadata": {},
   "outputs": [
    {
     "name": "stdout",
     "output_type": "stream",
     "text": [
      "pretrain_config.json:\n",
      "{\n",
      "    \"d_model\": 128,\n",
      "    \"n_head\": 2,\n",
      "    \"d_head\": 64,\n",
      "    \"dropout\": 0.1,\n",
      "    \"d_ff\": 512,\n",
      "    \"layernorm_epsilon\": 0.001,\n",
      "    \"n_layer\": 2,\n",
      "    \"n_seq\": 128,\n",
      "    \"n_vocab\": 8007,\n",
      "    \"i_pad\": 0\n",
      "}\n"
     ]
    }
   ],
   "source": [
    "# pretrain_config.json\n",
    "# - 모델 구성 (hidden size, layers 등) 저장용\n",
    "import json\n",
    "\n",
    "# 파일 경로 지정\n",
    "config_path = model_dir + \"/pretrain_config.json\"\n",
    "\n",
    "# 저장\n",
    "with open(config_path, \"w\") as f:\n",
    "    json.dump(config, f, indent=4)\n",
    "\n",
    "print(\"pretrain_config.json:\" )\n",
    "# 파일 읽기\n",
    "with open(config_path, \"r\") as f:\n",
    "    model_config = json.load(f)\n",
    "\n",
    "# 출력\n",
    "print(json.dumps(model_config, indent=4, ensure_ascii=False))  # 한글 깨짐 방지"
   ]
  },
  {
   "cell_type": "code",
   "execution_count": 72,
   "id": "7ad9ca60",
   "metadata": {},
   "outputs": [
    {
     "name": "stderr",
     "output_type": "stream",
     "text": [
      "/opt/conda/lib/python3.9/site-packages/matplotlib/backends/backend_agg.py:240: RuntimeWarning: Glyph 9601 missing from current font.\n",
      "  font.set_text(s, 0.0, flags=flags)\n",
      "/opt/conda/lib/python3.9/site-packages/matplotlib/backends/backend_agg.py:203: RuntimeWarning: Glyph 9601 missing from current font.\n",
      "  font.set_text(s, 0, flags=flags)\n"
     ]
    },
    {
     "data": {
      "image/png": "[encoded data removed]",
      "text/plain": [
       "<Figure size 1008x720 with 1 Axes>"
      ]
     },
     "metadata": {
      "needs_background": "light"
     },
     "output_type": "display_data"
    }
   ],
   "source": [
    "#임베딩 벡터 시각화 (PCA)\n",
    "import matplotlib.pyplot as plt\n",
    "from sklearn.decomposition import PCA\n",
    "import numpy as np\n",
    "import sentencepiece as spm\n",
    "import matplotlib.font_manager as fm\n",
    "\n",
    "# 3. 임베딩 벡터 로딩 (예: shared embedding layer의 가중치)\n",
    "embedding_matrix = model_1.get_layer(\"bert\").embedding.shared_weights.numpy()\n",
    "\n",
    "# 4. PCA 적용\n",
    "pca = PCA(n_components=2)\n",
    "reduced = pca.fit_transform(embedding_matrix)\n",
    "\n",
    "\n",
    "# 5. 시각화 (상위 N개 단어만)\n",
    "n = 1000\n",
    "plt.figure(figsize=(14, 10))\n",
    "plt.scatter(reduced[:n, 0], reduced[:n, 1], marker='o')\n",
    "\n",
    "for i in range(n):\n",
    "    plt.text(reduced[i, 0], reduced[i, 1], vocab_list[i], fontsize=9)\n",
    "\n",
    "# 한글 폰트 설정\n",
    "plt.rc('font', family='NanumGothic')\n",
    "plt.rcParams['axes.unicode_minus'] = False  # 마이너스 기호 깨짐 방지\n",
    "\n",
    "plt.title(\"Token Embedding Space (PCA)\")\n",
    "plt.xlabel(\"PCA-1\")\n",
    "plt.ylabel(\"PCA-2\")\n",
    "plt.grid(True)"
   ]
  },
  {
   "cell_type": "markdown",
   "id": "355e214e",
   "metadata": {},
   "source": [
    "## 7. Inference"
   ]
  },
  {
   "cell_type": "code",
   "execution_count": 43,
   "id": "4e1b5ca8",
   "metadata": {
    "scrolled": true
   },
   "outputs": [
    {
     "name": "stdout",
     "output_type": "stream",
     "text": [
      "mask_token_id: 6\n",
      "정상 토큰 수: 8000\n",
      "예시: ['▁이', '으로', '에서', '▁있', '▁2', '▁그', '▁대', '▁사', '이다']\n",
      "WARNING:tensorflow:Unable to restore custom metric. Please ensure that the layer implements `get_config` and `from_config` when saving. In addition, please use the `custom_objects` arg when calling `load_model()`.\n"
     ]
    },
    {
     "name": "stderr",
     "output_type": "stream",
     "text": [
      "WARNING:tensorflow:Unable to restore custom metric. Please ensure that the layer implements `get_config` and `from_config` when saving. In addition, please use the `custom_objects` arg when calling `load_model()`.\n"
     ]
    },
    {
     "name": "stdout",
     "output_type": "stream",
     "text": [
      "Model: \"model_2\"\n",
      "__________________________________________________________________________________________________\n",
      "Layer (type)                    Output Shape         Param #     Connected to                     \n",
      "==================================================================================================\n",
      "enc_tokens (InputLayer)         [(None, None)]       0                                            \n",
      "__________________________________________________________________________________________________\n",
      "segments (InputLayer)           [(None, None)]       0                                            \n",
      "__________________________________________________________________________________________________\n",
      "bert (BERT)                     ((None, 128), (None, 1438336     enc_tokens[0][0]                 \n",
      "                                                                 segments[0][0]                   \n",
      "__________________________________________________________________________________________________\n",
      "pooled_nsp (PooledOutput)       (None, 2)            16768       bert[0][0]                       \n",
      "__________________________________________________________________________________________________\n",
      "nsp (Softmax)                   (None, 2)            0           pooled_nsp[0][0]                 \n",
      "__________________________________________________________________________________________________\n",
      "mlm (Softmax)                   (None, None, 8007)   0           bert[0][1]                       \n",
      "==================================================================================================\n",
      "Total params: 1,455,104\n",
      "Trainable params: 1,455,104\n",
      "Non-trainable params: 0\n",
      "__________________________________________________________________________________________________\n"
     ]
    }
   ],
   "source": [
    "import tensorflow as tf\n",
    "import sentencepiece as spm\n",
    "import numpy as np\n",
    "\n",
    "# 경로 설정\n",
    "model_dir = './models'\n",
    "model_path = f\"{model_dir}/mini_bert_model\"\n",
    "model_weights_path = f\"{model_dir}/mini_bert_weights.h5\"\n",
    "model_config = f\"{model_dir}/pretrain_config.json\"\n",
    "sp_model_path = f\"{model_dir}/ko_8000.model\"  # SentencePiece 모델 경로\n",
    "\n",
    "# SentencePiece 로드\n",
    "sp = spm.SentencePieceProcessor()\n",
    "sp.load(sp_model_path)\n",
    "\n",
    "vocab_list = []\n",
    "for id in range(7, len(sp)):\n",
    "        if not sp.is_unknown(id):\n",
    "            vocab_list.append(sp.id_to_piece(id))\n",
    "\n",
    "# 확인\n",
    "mask_token_id = sp.piece_to_id(\"[MASK]\")\n",
    "print(\"mask_token_id:\", mask_token_id)\n",
    "print(f\"정상 토큰 수: {len(vocab_list)}\")\n",
    "print(\"예시:\", vocab_list[1:10])\n",
    "\n",
    "\n",
    "\n",
    "\n",
    "# 모델 로드 (구조 + 가중치 포함)\n",
    "model = tf.keras.models.load_model(save_model_path, compile=False)\n",
    "model.summary()\n",
    "\n"
   ]
  },
  {
   "cell_type": "markdown",
   "id": "69f627e0",
   "metadata": {},
   "source": [
    "** 문장 복원 **"
   ]
  },
  {
   "cell_type": "code",
   "execution_count": 88,
   "id": "896aa089",
   "metadata": {
    "scrolled": true
   },
   "outputs": [
    {
     "name": "stdout",
     "output_type": "stream",
     "text": [
      "나는 학교에 갔다.\n",
      "친구와 놀았다.\n",
      "오늘은 날씨가 좋다.\n",
      "점심으로 김밥을 먹었다.\n",
      "doc : [['▁나', '는', '▁학교', '에', '▁', '갔다', '.'], ['▁친구', '와', '▁놀', '았다', '.'], ['▁오늘', '은', '▁날', '씨', '가', '▁좋', '다', '.'], ['▁점', '심', '으로', '▁김', '밥', '을', '▁먹', '었다', '.']]\n",
      "생성된 인스턴스 수: 1\n",
      "토큰 출력: ['[CLS]', '▁오늘', '은', '▁날', '씨', '가', '▁좋', '다', '.', '▁점', '심', '으로', '▁김', '밥', '을', '▁먹', '었다', '.', '[SEP]', '▁나', '는', '▁학교', '에', '[MASK]', '[MASK]', '[MASK]', '▁친구', '와', '▁놀', '았다', '.', '[SEP]']\n",
      "Segment 출력: [0, 0, 0, 0, 0, 0, 0, 0, 0, 0, 0, 0, 0, 0, 0, 0, 0, 0, 0, 1, 1, 1, 1, 1, 1, 1, 1, 1, 1, 1, 1, 1]\n",
      "MASK 위치 [23 24 25]\n",
      "Masked token at position 23 predicted as: ▁\n",
      "Masked token at position 24 predicted as: 녀\n",
      "Masked token at position 25 predicted as: 의\n",
      "원문 토큰들: ['[CLS]', '▁오늘', '은', '▁날', '씨', '가', '▁좋', '다', '.', '▁점', '심', '으로', '▁김', '밥', '을', '▁먹', '었다', '.', '[SEP]', '▁나', '는', '▁학교', '에', '[MASK]', '[MASK]', '[MASK]', '▁친구', '와', '▁놀', '았다', '.', '[SEP]']\n",
      "예측 토큰들: ['[CLS]', '▁오늘', '은', '▁날', '씨', '가', '▁좋', '다', '.', '▁점', '심', '으로', '▁김', '밥', '을', '▁먹', '었다', '.', '[SEP]', '▁나', '는', '▁학교', '에', '▁', '녀', '의', '▁친구', '와', '▁놀', '았다', '.', '[SEP]']\n",
      "원래   문장: 나는 학교에 갔다. 친구와 놀았다. 오늘은 날씨가 좋다. 점심으로 김밥을 먹었다.\n",
      "복원된 문장: 오늘은 날씨가 좋다. 점심으로 김밥을 먹었다. 나는 학교에 녀의 친구와 놀았다.\n"
     ]
    }
   ],
   "source": [
    "# 문장을 토크나이징 및 인덱스 변환 함수\n",
    "def tokenize_sentence(sentences, spm, vocab_list, n_seq=128, mask_prob=0.15 ):\n",
    "\n",
    "    doc = []\n",
    "    for line in sentences:\n",
    "        line = line.strip()\n",
    "        print(line)\n",
    "        pieces = spm.encode_as_pieces(line) \n",
    "        if 0 < len(pieces):\n",
    "            doc.append(pieces)\n",
    "        \n",
    "    print(\"doc :\", doc)\n",
    "    instances = create_pretrain_instances(spm, doc, n_seq, mask_prob, vocab_list)\n",
    "    \n",
    "    print(f\"생성된 인스턴스 수: {len(instances)}\")\n",
    "    \n",
    "    #label_mlm = np.full(n_seq, dtype=np.int, fill_value=0)\n",
    "    #label_mlm[ instances[0][\"mask_idx\"] ] = instances[0][\"mask_label\"]\n",
    "    \n",
    "    \"\"\"\n",
    "       instance = {\n",
    "                \"tokens\": tokens,\n",
    "                \"segment\": segment,\n",
    "                \"is_next\": is_next,\n",
    "                \"mask_idx\": mask_idx,\n",
    "                \"mask_label\": mask_label\n",
    "        }\n",
    "            \n",
    "    return (enc_tokens, segments), (labels_nsp, labels_mlm)\n",
    "    \"\"\"\n",
    "    if not instances:\n",
    "        raise ValueError(\"입력 문장에서 pretrain instance를 생성할 수 없습니다. 문장 수를 늘리거나 문장 길이를 확인하세요.\")\n",
    "    \n",
    "    #return (instances[0][\"tokens\"],instances[0][\"segment\"]), (instances[0][\"is_next\"], mask_label)\n",
    "    return (instances[0][\"tokens\"],instances[0][\"segment\"])\n",
    "             \n",
    "    \n",
    "\n",
    "# 입력 문장\n",
    "texts = [\n",
    "    \"나는 학교에 갔다.\",\n",
    "    \"친구와 놀았다.\",\n",
    "    \"오늘은 날씨가 좋다.\",\n",
    "    \"점심으로 김밥을 먹었다.\"\n",
    "]\n",
    "\n",
    "# 토크나이징 및 입력 데이터 구성\n",
    "masked_tokens, segments = tokenize_sentence(texts, sp, vocab_list)\n",
    "\n",
    "# 트큰화 결과 출력\n",
    "print(\"토큰 출력:\", masked_tokens)\n",
    "print(\"Segment 출력:\", segments)\n",
    "\n",
    "\n",
    "token_ids = [sp.piece_to_id(token) for token in masked_tokens]\n",
    "enc_tokens = np.array([token_ids], dtype=np.int32)  # batch 처리\n",
    "segments = np.array([segments], dtype=np.int32)\n",
    "\n",
    "\n",
    "# 추론\n",
    "outputs_nsp, outputs_mlm = model([enc_tokens, segments], training=False)\n",
    "\n",
    "# MASK 토큰 복원\n",
    "mask_positions = np.where(enc_tokens[0] == mask_token_id)[0]  # 배열(마스크 위치들)\n",
    "print(\"MASK 위치\", mask_positions)\n",
    "\n",
    "predicted_tokens = masked_tokens.copy()\n",
    "\n",
    "for pos in mask_positions:\n",
    "    predicted_token_id = int(tf.argmax(outputs_mlm[0, pos]).numpy())\n",
    "    pred_token = sp.id_to_piece(predicted_token_id)\n",
    "    predicted_tokens[pos] = pred_token\n",
    "    print(f\"Masked token at position {pos} predicted as: {pred_token}\")\n",
    "\n",
    "    \n",
    "# 문장으로 붙이기 \n",
    "# [CLS], [SEP] 토큰 제거\n",
    "filtered_tokens = [t for t in predicted_tokens if t not in (\"[CLS]\", \"[SEP]\")]\n",
    "sentence = \"\".join(filtered_tokens).replace(\"▁\", \" \").strip()\n",
    "\n",
    "print(\"원문 토큰들:\", masked_tokens)\n",
    "print(\"예측 토큰들:\", predicted_tokens)\n",
    "print(\"원래   문장:\", \" \".join(texts))\n",
    "print(\"복원된 문장:\", sentence)"
   ]
  },
  {
   "cell_type": "markdown",
   "id": "c87b6e9b",
   "metadata": {},
   "source": [
    "--> 추론은 문장을 섞어서 사용하지 않으므로, 잘못된 추론이다 \n",
    "\n"
   ]
  },
  {
   "cell_type": "code",
   "execution_count": 101,
   "id": "41bc3bab",
   "metadata": {},
   "outputs": [
    {
     "name": "stdout",
     "output_type": "stream",
     "text": [
      "<class 'tensorflow.python.framework.ops.EagerTensor'>\n",
      "tf.Tensor([[0.58647454 0.41352546]], shape=(1, 2), dtype=float32)\n",
      "NSP 예측 : 0\n"
     ]
    }
   ],
   "source": [
    "print(type(outputs_nsp))\n",
    "print(outputs_nsp)\n",
    "\n",
    "is_next = tf.argmax(outputs_nsp, axis=-1).numpy()[0]\n",
    "\n",
    "print(\"NSP 예측 :\",  is_next)"
   ]
  },
  {
   "cell_type": "code",
   "execution_count": 68,
   "id": "f0c5dffd",
   "metadata": {},
   "outputs": [
    {
     "name": "stdout",
     "output_type": "stream",
     "text": [
      "<class 'list'>\n",
      "<class 'numpy.ndarray'>\n"
     ]
    }
   ],
   "source": [
    "print( type(masked_tokens))\n",
    "print( type(enc_tokens))"
   ]
  },
  {
   "cell_type": "markdown",
   "id": "b9f4e928",
   "metadata": {},
   "source": [
    "#### MLM 예측"
   ]
  },
  {
   "cell_type": "code",
   "execution_count": 111,
   "id": "da675c6d",
   "metadata": {},
   "outputs": [],
   "source": [
    "def mlm_inference( masked_text, model, sp, n_seq = 128) : \n",
    "    # 1. 토큰화\n",
    "    tokens = ['[CLS]'] + sp.encode(masked_text, out_type=str) + ['[SEP]']\n",
    "\n",
    "    # 2. segment 설정 (문장 1만 있으므로 전부 0)\n",
    "    segments = [0] * len(tokens)\n",
    "\n",
    "    # 3. 토큰 → ID\n",
    "    input_ids = [sp.piece_to_id(tok) for tok in tokens]\n",
    "    mask_token_id = sp.piece_to_id(\"[MASK]\")\n",
    "\n",
    "    # 4. 길이 맞추기 (padding)\n",
    "    max_len = n_seq\n",
    "    input_ids += [0] * (max_len - len(input_ids))\n",
    "    segments += [0] * (max_len - len(segments))\n",
    "\n",
    "    # 5. 텐서 변환\n",
    "    input_ids = tf.constant([input_ids], dtype=tf.int32)\n",
    "    segments = tf.constant([segments], dtype=tf.int32)\n",
    "\n",
    "    # 6. 추론\n",
    "    _, outputs_mlm = model([input_ids, segments], training=False)\n",
    "\n",
    "\n",
    "    # MASK 토큰 복원\n",
    "    mask_positions = np.where(input_ids[0] == mask_token_id)[0]  # 배열(마스크 위치들)\n",
    "    print(\"MASK 위치\", mask_positions)\n",
    "\n",
    "    predicted_tokens = tokens.copy()\n",
    "\n",
    "    for pos in mask_positions:\n",
    "        predicted_token_id = int(tf.argmax(outputs_mlm[0, pos]).numpy())\n",
    "        pred_token = sp.id_to_piece(predicted_token_id)\n",
    "        predicted_tokens[pos] = pred_token\n",
    "        print(f\"Masked token at position {pos} predicted as: {pred_token}\")\n",
    "\n",
    "    \n",
    "    # 문장으로 붙이기 \n",
    "    # [CLS], [SEP] 토큰 제거\n",
    "    filtered_tokens = [t for t in predicted_tokens if t not in (\"[CLS]\", \"[SEP]\")]\n",
    "    restored_sentence = \"\".join(filtered_tokens).replace(\"▁\", \" \").strip()\n",
    "\n",
    "\n",
    "    print(\" 마스킹된 문장:\", masked_text)\n",
    "    print(\" 예측된 토큰:\", predicted_tokens)\n",
    "    print(\" 복원된 문장:\", restored_sentence)"
   ]
  },
  {
   "cell_type": "code",
   "execution_count": 112,
   "id": "f7314367",
   "metadata": {
    "scrolled": true
   },
   "outputs": [
    {
     "name": "stdout",
     "output_type": "stream",
     "text": [
      "MASK 위치 [7 9]\n",
      "Masked token at position 7 predicted as: ▁사람이\n",
      "Masked token at position 9 predicted as: ▁등을\n",
      " 마스킹된 문장: 점심으로 학교에서 [MASK] [MASK] 먹었다.\n",
      " 예측된 토큰: ['[CLS]', '▁점', '심', '으로', '▁학교', '에서', '▁', '▁사람이', '▁', '▁등을', '▁먹', '었다', '.', '[SEP]']\n",
      " 복원된 문장: 점심으로 학교에서  사람이  등을 먹었다.\n"
     ]
    }
   ],
   "source": [
    "# 입력 문장\n",
    "masked_text = \"점심으로 학교에서 [MASK] [MASK] 먹었다.\"\n",
    "\n",
    "mlm_inference( masked_text, model, sp)"
   ]
  },
  {
   "cell_type": "code",
   "execution_count": 113,
   "id": "46bbe8b6",
   "metadata": {},
   "outputs": [
    {
     "name": "stdout",
     "output_type": "stream",
     "text": [
      "MASK 위치 [ 5 10]\n",
      "Masked token at position 5 predicted as: ▁만든\n",
      "Masked token at position 10 predicted as: ▁등을\n",
      " 마스킹된 문장: 점심으로 [MASK] 맛있는 [MASK] 먹었다.\n",
      " 예측된 토큰: ['[CLS]', '▁점', '심', '으로', '▁', '▁만든', '▁', '맛', '있는', '▁', '▁등을', '▁먹', '었다', '.', '[SEP]']\n",
      " 복원된 문장: 점심으로  만든 맛있는  등을 먹었다.\n"
     ]
    }
   ],
   "source": [
    "# 입력 문장\n",
    "masked_text = \"점심으로 [MASK] 맛있는 [MASK] 먹었다.\"\n",
    "\n",
    "mlm_inference( masked_text, model, sp)"
   ]
  },
  {
   "cell_type": "code",
   "execution_count": 114,
   "id": "d5bbb3ee",
   "metadata": {},
   "outputs": [
    {
     "name": "stdout",
     "output_type": "stream",
     "text": [
      "MASK 위치 [5 7]\n",
      "Masked token at position 5 predicted as: ▁만든\n",
      "Masked token at position 7 predicted as: ▁등은\n",
      " 마스킹된 문장: 점심으로 [MASK] [MASK] 김밥을 먹었다.\n",
      " 예측된 토큰: ['[CLS]', '▁점', '심', '으로', '▁', '▁만든', '▁', '▁등은', '▁김', '밥', '을', '▁먹', '었다', '.', '[SEP]']\n",
      " 복원된 문장: 점심으로  만든  등은 김밥을 먹었다.\n"
     ]
    }
   ],
   "source": [
    "# 입력 문장\n",
    "masked_text = \"점심으로 [MASK] [MASK] 김밥을 먹었다.\"\n",
    "\n",
    "mlm_inference( masked_text, model, sp)"
   ]
  },
  {
   "cell_type": "code",
   "execution_count": 115,
   "id": "d836c6cc",
   "metadata": {},
   "outputs": [
    {
     "name": "stdout",
     "output_type": "stream",
     "text": [
      "MASK 위치 [ 5 12]\n",
      "Masked token at position 5 predicted as: ▁또는\n",
      "Masked token at position 12 predicted as: ▁또는\n",
      " 마스킹된 문장: 점심으로 [MASK] 떡복이와 [MASK] 김밥을 먹었다.\n",
      " 예측된 토큰: ['[CLS]', '▁점', '심', '으로', '▁', '▁또는', '▁', '떡', '복', '이', '와', '▁', '▁또는', '▁김', '밥', '을', '▁먹', '었다', '.', '[SEP]']\n",
      " 복원된 문장: 점심으로  또는 떡복이와  또는 김밥을 먹었다.\n"
     ]
    }
   ],
   "source": [
    "# 입력 문장\n",
    "masked_text = \"점심으로 [MASK] 떡복이와 [MASK] 김밥을 먹었다.\"\n",
    "\n",
    "mlm_inference( masked_text, model, sp)"
   ]
  },
  {
   "cell_type": "code",
   "execution_count": 117,
   "id": "6667a735",
   "metadata": {
    "scrolled": false
   },
   "outputs": [
    {
     "name": "stdout",
     "output_type": "stream",
     "text": [
      "MASK 위치 [ 7 10]\n",
      "Masked token at position 7 predicted as: ▁같은\n",
      "Masked token at position 10 predicted as: ▁또는\n",
      " 마스킹된 문장: 점심으로 매운 [MASK] 과 [MASK] 김밥을 먹었다.\n",
      " 예측된 토큰: ['[CLS]', '▁점', '심', '으로', '▁매', '운', '▁', '▁같은', '▁과', '▁', '▁또는', '▁김', '밥', '을', '▁먹', '었다', '.', '[SEP]']\n",
      " 복원된 문장: 점심으로 매운  같은 과  또는 김밥을 먹었다.\n"
     ]
    }
   ],
   "source": [
    "# 입력 문장\n",
    "masked_text = \"점심으로 매운 [MASK] 과 [MASK] 김밥을 먹었다.\"\n",
    "\n",
    "mlm_inference( masked_text, model, sp)"
   ]
  },
  {
   "cell_type": "code",
   "execution_count": 122,
   "id": "83d1b624",
   "metadata": {},
   "outputs": [
    {
     "name": "stdout",
     "output_type": "stream",
     "text": [
      "MASK 위치 [18 20]\n",
      "Masked token at position 18 predicted as: ▁\n",
      "Masked token at position 20 predicted as: ▁등으로\n",
      " 마스킹된 문장: 점심으로 매운 떡볶이를 먹고 배가 아파서 [MASK] [MASK] 갔다\n",
      " 예측된 토큰: ['[CLS]', '▁점', '심', '으로', '▁매', '운', '▁', '떡', '볶', '이를', '▁먹', '고', '▁배', '가', '▁아', '파', '서', '▁', '▁', '▁', '▁등으로', '▁', '갔다', '[SEP]']\n",
      " 복원된 문장: 점심으로 매운 떡볶이를 먹고 배가 아파서    등으로 갔다\n"
     ]
    }
   ],
   "source": [
    "# 입력 문장\n",
    "masked_text = \"점심으로 매운 떡볶이를 먹고 배가 아파서 [MASK] [MASK] 갔다\"\n",
    "\n",
    "mlm_inference( masked_text, model, sp)"
   ]
  },
  {
   "cell_type": "markdown",
   "id": "e12f76bc",
   "metadata": {},
   "source": [
    "#### NSP 예측"
   ]
  },
  {
   "cell_type": "code",
   "execution_count": 124,
   "id": "4eecf936",
   "metadata": {},
   "outputs": [],
   "source": [
    "def nsp_inference( sentence_a, sentence_b, model, sp, n_seq = 128) : \n",
    "    sentence_a_tokens = sp.encode_as_pieces(sentence_a) \n",
    "    sentence_b_tokens = sp.encode_as_pieces(sentence_b)\n",
    "\n",
    "    # 2. special tokens 추가: [CLS], [SEP], [SEP]\n",
    "    token_org = [\"[CLS]\"] + sentence_a_tokens + [\"[SEP]\"] + sentence_b_tokens + [\"[SEP]\"]\n",
    "    segments = [0] * (len(sentence_a_tokens)+2) + [1] * (len(sentence_b_tokens)+1)\n",
    "    print(\"TOKEN :\", token_org)\n",
    "    print(\"SEGM :\", segments)\n",
    "\n",
    "    # 3. 토큰을 ID로 변환\n",
    "    input_ids = [sp.piece_to_id(p) for p in tokens]\n",
    "\n",
    "    # 4. 길이 맞추기 (padding)\n",
    "    max_len = n_seq\n",
    "    input_ids += [0] * (max_len - len(input_ids))\n",
    "    segments += [0] * (max_len - len(segments))\n",
    "\n",
    "    # 5. numpy → tensor\n",
    "    input_ids = tf.constant([input_ids], dtype=tf.int32)\n",
    "    segments = tf.constant([segments], dtype=tf.int32)\n",
    "\n",
    "    # 6. 모델 추론\n",
    "    outputs_nsp, _ = model([input_ids, segments], training=False)\n",
    "\n",
    "    # 7. 결과 해석\n",
    "    probs = tf.nn.softmax(outputs_nsp, axis=-1).numpy()[0]\n",
    "    label = np.argmax(probs)\n",
    "\n",
    "    print(f\"NSP 예측 결과: {'✔️ 이어지는 문장' if label == 0 else '❌ 무작위 문장'}\")\n",
    "    print(f\" - 연속 확률: {probs[0]:.4f}\")\n",
    "    print(f\" - 무작위 확률: {probs[1]:.4f}\")"
   ]
  },
  {
   "cell_type": "code",
   "execution_count": 126,
   "id": "1a7415ba",
   "metadata": {},
   "outputs": [
    {
     "name": "stdout",
     "output_type": "stream",
     "text": [
      "TOKEN : ['[CLS]', '▁나', '는', '▁학교', '에', '▁', '갔다', '.', '▁친구', '와', '▁놀', '았다', '.', '[SEP]', '▁오늘', '은', '▁날', '씨', '가', '▁좋', '다', '.', '▁점', '심', '으로', '▁김', '밥', '을', '▁먹', '었다', '.', '[SEP]']\n",
      "SEGM : [0, 0, 0, 0, 0, 0, 0, 0, 0, 0, 0, 0, 0, 0, 1, 1, 1, 1, 1, 1, 1, 1, 1, 1, 1, 1, 1, 1, 1, 1, 1, 1]\n",
      "NSP 예측 결과: ✔️ 이어지는 문장\n",
      " - 연속 확률: 0.5519\n",
      " - 무작위 확률: 0.4481\n"
     ]
    }
   ],
   "source": [
    "# 입력 문장\n",
    "sentence_a = \"나는 학교에 갔다. 친구와 놀았다.\"\n",
    "sentence_b = \"오늘은 날씨가 좋다. 점심으로 김밥을 먹었다.\"\n",
    "\n",
    "nsp_inference( sentence_a, sentence_b, model, sp)"
   ]
  },
  {
   "cell_type": "code",
   "execution_count": 128,
   "id": "c10fc3d5",
   "metadata": {
    "scrolled": true
   },
   "outputs": [
    {
     "name": "stdout",
     "output_type": "stream",
     "text": [
      "TOKEN : ['[CLS]', '▁오늘', '은', '▁날', '씨', '가', '▁좋', '다', '.', '▁점', '심', '으로', '▁김', '밥', '을', '▁먹', '었다', '.', '[SEP]', '▁나', '는', '▁학교', '에', '▁', '갔다', '.', '▁친구', '와', '▁놀', '았다', '.', '[SEP]']\n",
      "SEGM : [0, 0, 0, 0, 0, 0, 0, 0, 0, 0, 0, 0, 0, 0, 0, 0, 0, 0, 0, 1, 1, 1, 1, 1, 1, 1, 1, 1, 1, 1, 1, 1]\n",
      "NSP 예측 결과: ✔️ 이어지는 문장\n",
      " - 연속 확률: 0.5519\n",
      " - 무작위 확률: 0.4481\n"
     ]
    }
   ],
   "source": [
    "# 입력 문장\n",
    "sentence_a = \"오늘은 날씨가 좋다. 점심으로 김밥을 먹었다.\"\n",
    "sentence_b = \"나는 학교에 갔다. 친구와 놀았다.\"\n",
    "\n",
    "nsp_inference( sentence_a, sentence_b, model, sp)"
   ]
  },
  {
   "cell_type": "code",
   "execution_count": 138,
   "id": "3bdf803d",
   "metadata": {},
   "outputs": [
    {
     "name": "stdout",
     "output_type": "stream",
     "text": [
      "TOKEN : ['[CLS]', '▁초', '록', '색', '▁철', '한', '▁대', '문', '▁하나', '가', '▁분', '위', '기에', '▁큰', '▁영향을', '▁준', '다', '[SEP]', '▁오늘', '▁점', '심', '▁메', '뉴', '는', '▁불', '고', '기', '▁이', '다', '.', '[SEP]']\n",
      "SEGM : [0, 0, 0, 0, 0, 0, 0, 0, 0, 0, 0, 0, 0, 0, 0, 0, 0, 0, 1, 1, 1, 1, 1, 1, 1, 1, 1, 1, 1, 1, 1]\n",
      "NSP 예측 결과: ✔️ 이어지는 문장\n",
      " - 연속 확률: 0.5519\n",
      " - 무작위 확률: 0.4481\n"
     ]
    }
   ],
   "source": [
    "sentence_a = \"초록색 철한 대문 하나가 분위기에 큰 영향을 준다\"\n",
    "sentence_b = \"오늘 점심 메뉴는 불고기 이다.\"\n",
    "nsp_inference( sentence_a, sentence_b, model, sp)"
   ]
  },
  {
   "cell_type": "code",
   "execution_count": 137,
   "id": "3ba08c16",
   "metadata": {},
   "outputs": [
    {
     "name": "stdout",
     "output_type": "stream",
     "text": [
      "TOKEN : ['[CLS]', '▁더', '▁노력', '하고', '▁더', '▁세', '심', '해야', '겠', '다', '[SEP]', '▁초', '록', '색', '▁철', '한', '▁대', '문', '▁하나', '가', '▁분', '위', '기에', '▁큰', '▁영향을', '▁준', '다', '[SEP]']\n",
      "SEGM : [0, 0, 0, 0, 0, 0, 0, 0, 0, 0, 0, 1, 1, 1, 1, 1, 1, 1, 1, 1, 1, 1, 1, 1, 1, 1, 1, 1]\n",
      "NSP 예측 결과: ❌ 무작위 문장\n",
      " - 연속 확률: 0.3988\n",
      " - 무작위 확률: 0.6012\n"
     ]
    }
   ],
   "source": [
    "# 입력 문장\n",
    "#sentence_a = \"멋진 분수대 꼭 놔야겠다.\"\n",
    "#sentence_a = \"나는 따라갈려먼 아직 멀었다.\"\n",
    "sentence_a = \"더 노력하고 더 세심해야겠다\"\n",
    "sentence_b = \"초록색 철한 대문 하나가 분위기에 큰 영향을 준다\"\n",
    "\n",
    "nsp_inference( sentence_a, sentence_b, model, sp)"
   ]
  },
  {
   "cell_type": "code",
   "execution_count": 139,
   "id": "1f6ca1c4",
   "metadata": {},
   "outputs": [
    {
     "name": "stdout",
     "output_type": "stream",
     "text": [
      "TOKEN : ['[CLS]', '▁오늘', '은', '▁날', '씨', '가', '▁좋', '다', '.', '[SEP]', '▁나', '는', '▁컴퓨터', '를', '▁좋아', '한다', '.', '[SEP]']\n",
      "SEGM : [0, 0, 0, 0, 0, 0, 0, 0, 0, 0, 1, 1, 1, 1, 1, 1, 1, 1]\n",
      "NSP 예측 결과: ❌ 무작위 문장\n",
      " - 연속 확률: 0.3949\n",
      " - 무작위 확률: 0.6051\n"
     ]
    }
   ],
   "source": [
    "sentence_a = \"오늘은 날씨가 좋다.\"\n",
    "sentence_b = \"나는 컴퓨터를 좋아한다.\"\n",
    "nsp_inference( sentence_a, sentence_b, model, sp)"
   ]
  },
  {
   "cell_type": "code",
   "execution_count": 145,
   "id": "f4966a31",
   "metadata": {},
   "outputs": [
    {
     "name": "stdout",
     "output_type": "stream",
     "text": [
      "TOKEN : ['[CLS]', '▁오늘', '은', '▁날', '씨', '가', '▁좋', '다', '.', '[SEP]', '▁운동', '장에', '▁축구', '하', '러', '▁갈', '거', '다', '.', '[SEP]']\n",
      "SEGM : [0, 0, 0, 0, 0, 0, 0, 0, 0, 0, 1, 1, 1, 1, 1, 1, 1, 1, 1, 1]\n",
      "NSP 예측 결과: ❌ 무작위 문장\n",
      " - 연속 확률: 0.3949\n",
      " - 무작위 확률: 0.6051\n"
     ]
    }
   ],
   "source": [
    "sentence_a = \"오늘은 날씨가 좋다.\"\n",
    "sentence_b = \"운동장에 축구하러 갈거다.\"\n",
    "nsp_inference( sentence_a, sentence_b, model, sp)"
   ]
  },
  {
   "cell_type": "markdown",
   "id": "3a61c732",
   "metadata": {},
   "source": [
    "# <회고>"
   ]
  },
  {
   "cell_type": "markdown",
   "id": "4e1639be",
   "metadata": {},
   "source": [
    "### 루브릭\n",
    "\n",
    "1. 한글 코퍼스를 가공하여 BERT pretrain용 데이터셋을 잘 생성하였다.\t\n",
    "- MLM, NSP task의 특징이 잘 반영된 pretrain용 데이터셋 생성과정이 체계적으로 진행되었다.\n",
    "2. 구현한 BERT 모델의 학습이 안정적으로 진행됨을 확인하였다.\t\n",
    "- 학습진행 과정 중에 MLM, NSP loss의 안정적인 감소가 확인되었다.\n",
    "3. 1M짜리 mini BERT 모델의 제작과 학습이 정상적으로 진행되었다.\t\n",
    "- 학습된 모델 및 학습과정의 시각화 내역이 제출되었다."
   ]
  },
  {
   "cell_type": "markdown",
   "id": "0981537a",
   "metadata": {},
   "source": [
    "📄 Mini BERT Pretraining 결과 리포트 \n",
    "\n",
    "1. 모델 구성 (Model Config)\n",
    "| 항목              | 값      |\n",
    "|-------------------|---------|\n",
    "| d_model           | 128     |\n",
    "| n_head            | 2       |\n",
    "| d_head            | 64      |\n",
    "| dropout           | 0.1     |\n",
    "| d_ff              | 512     |\n",
    "| layernorm_epsilon | 0.001   |\n",
    "| n_layer           | 2       |\n",
    "| n_seq             | 128     |\n",
    "| n_vocab           | 8007    |\n",
    "| i_pad             | 0       |\n",
    "| Total Parameters      | 1.4M      |\n",
    "\n",
    "2. Pretraining 설정\n",
    "| 항목                  | 값                                |\n",
    "|-----------------------|-----------------------------------|\n",
    "| Dataset               | 나무 위치 말뭉치  |\n",
    "| Tokenizer             | SentencePiece                     |\n",
    "| Pretrain Task         | MLM + NSP                         |\n",
    "| Epochs                | 10                                |\n",
    "| Batch Size            | 64                                |\n",
    "| Learning Rate Scheduler | Warmup (4000 step)              |\n",
    "| Max Sequence Length   | 128                               |\n",
    "\n",
    "3. 학습 결과 요약\n",
    "\n",
    "| 메트릭         | Final Train | Final Val |\n",
    "|----------------|-------------|-----------|\n",
    "| MLM Loss       | 10.4110      | 10.1469     |\n",
    "| MLM Accuracy   | 0.2437      | 0.2543     |\n",
    "| NSP Loss       | 0.5036      | 0.5015    |\n",
    "| NSP Accuracy   | 0.7707     | 0.7695    |\n",
    "\n"
   ]
  },
  {
   "cell_type": "markdown",
   "id": "ba9d7252",
   "metadata": {},
   "source": [
    "### Inference 결과 및 회고"
   ]
  },
  {
   "cell_type": "markdown",
   "id": "f566fbc6",
   "metadata": {},
   "source": [
    "1. 문장 순서 변환 : 50% 비율로 랜덤하게 섞어서, 문장 순서가 바뀌었다 추론에서 잘못 사용한 예이다. \n",
    "\n",
    "    texts = [\n",
    "        \"나는 학교에 갔다.\",\n",
    "        \"친구와 놀았다.\",\n",
    "        \"오늘은 날씨가 좋다.\",\n",
    "        \"점심으로 김밥을 먹었다.\"\n",
    "    ]     --> 점심으로 김밥을 먹었다. 나는 학교에 갔다. 친구와 놀았다. 이은 날씨가 좋다.\n",
    "    \n",
    "\n",
    "2. MLM 예측 \n",
    "   -  [MASK] 위치를 변화시키면서 확인해 봤을 때, 동일한 토큰들이 계속해서 예측되는 현상이 있다. \n",
    "   - mini 모델이라 MLM loss/accuracy 성능이 안 좋으므로, MASK에 대한 예측이 좋지 않다. \n",
    "   \n",
    "3. NSP 예측 \n",
    "    - 연속문장 확률과 무작위 문장 확률의 차이가 크지 않다.\n",
    "    - 기본적으로 50%인데, 77% 정확도록 예측을 하고 있는데, 실제 추론 실험에서는 잘 안 맞는 듯 하다. \n",
    "\n",
    "4. Pretrained model은 직접쓸 모델이 아니라, 감성분류, QA같은 downstream task에 맞게 fine-tuning해서 사용하는 것"
   ]
  }
 ],
 "metadata": {
  "kernelspec": {
   "display_name": "Python 3 (ipykernel)",
   "language": "python",
   "name": "python3"
  },
  "language_info": {
   "codemirror_mode": {
    "name": "ipython",
    "version": 3
   },
   "file_extension": ".py",
   "mimetype": "text/x-python",
   "name": "python",
   "nbconvert_exporter": "python",
   "pygments_lexer": "ipython3",
   "version": "3.9.7"
  }
 },
 "nbformat": 4,
 "nbformat_minor": 5
}
