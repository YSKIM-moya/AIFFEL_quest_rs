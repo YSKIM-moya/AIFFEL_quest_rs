{
 "cells": [
  {
   "cell_type": "code",
   "execution_count": 1,
   "id": "2f57301d",
   "metadata": {},
   "outputs": [],
   "source": [
    "import json \n",
    "import matplotlib.pyplot as plt\n",
    "import matplotlib.font_manager as fm\n",
    "import matplotlib as mpl\n",
    "\n",
    "# 1. 한글 폰트 설정\n",
    "plt.rcParams['font.family'] = 'NanumGothic'\n",
    "\n",
    "# 2. 마이너스 기호 깨짐 방지\n",
    "mpl.rcParams['axes.unicode_minus'] = False"
   ]
  },
  {
   "cell_type": "markdown",
   "id": "521ace3f",
   "metadata": {},
   "source": [
    "# 1. Data"
   ]
  },
  {
   "cell_type": "code",
   "execution_count": 2,
   "id": "9f664819",
   "metadata": {},
   "outputs": [],
   "source": [
    "# 데이터 정제\n",
    "import re\n",
    "\n",
    "def preprocess_sentence(sentence):\n",
    "    \n",
    "    # 1. 소문자로 변환\n",
    "    sentence = sentence.lower()\n",
    "    \n",
    "    # 2. 이스케이프된 줄바꿈 문자열 제거 (예: '\\\\n', '\\\\n\\\\n')\n",
    "    sentence = re.sub(r'\\\\n+', '', sentence)  # 문자열 안에 백슬래시 2개로 표현된 \\n들\n",
    "    \n",
    "    #    줄바꿈(\\n) 제거\n",
    "    sentence = sentence.replace('\\n', '')\n",
    "\n",
    "    # 3. 알파벳, 문장부호([?.!,]), 숫자, 한글만 남기고 모두 제거\n",
    "    sentence = re.sub(r\"[^a-zA-Z0-9가-힣?.!,]\",  \" \", sentence)\n",
    "\n",
    "    # 4. 문장부호 양옆에 공백 추가\n",
    "    sentence = re.sub(r\"([?.!,])\", r\" \\1 \", sentence)\n",
    "    \n",
    "    # 5. 단어로 'n' 제거 (띄어쓰기 기반, 예: \" n \" 또는 \"n.\")\n",
    "    sentence = re.sub(r'\\bn\\b', '', sentence)\n",
    "\n",
    "    # 6. 여러 공백을 하나로 축소\n",
    "    sentence = re.sub(r\"\\s+\", \" \", sentence)\n",
    "\n",
    "    # 7. 문장 앞뒤 공백 제거\n",
    "    sentence = sentence.strip()\n",
    "    \n",
    "    return sentence"
   ]
  },
  {
   "cell_type": "code",
   "execution_count": 3,
   "id": "44b6e5fe",
   "metadata": {},
   "outputs": [],
   "source": [
    "def get_short_length_ratio(data, field, max_len=2):\n",
    "    \"\"\"\n",
    "    특정 필드에서 길이가 max_len 이하인 항목 비율 계산.\n",
    "\n",
    "    Parameters:\n",
    "        data (list): 딕셔너리들의 리스트\n",
    "        field (str): 검사할 필드명 (예: 'prompt', 'completion_0')\n",
    "        max_len (int): 최대 길이 기준 (기본값: 2)\n",
    "\n",
    "    Returns:\n",
    "        tuple: (전체 항목 수, 기준 이하 항목 수, 비율)\n",
    "    \"\"\"\n",
    "    total = len(data)\n",
    "    count_under = sum(\n",
    "        len(item[field]) <= max_len\n",
    "        for item in data\n",
    "        if field in item and isinstance(item[field], str)\n",
    "    )\n",
    "    ratio = count_under / total if total > 0 else 0\n",
    "    \n",
    "    print(f\"전체 항목 수: {total }\")\n",
    "    print(f\"{max_len}자 이하 항목 수: {count_under}\")\n",
    "    print(f\"비율: {ratio:.2%}\")\n",
    "    \n",
    "    return total, count_under, ratio"
   ]
  },
  {
   "cell_type": "code",
   "execution_count": 4,
   "id": "fb50edac",
   "metadata": {},
   "outputs": [],
   "source": [
    "def save_jsonl(data, save_path):\n",
    "    with open(save_path, 'w', encoding='utf-8-sig') as f:\n",
    "        json.dump(data, f, ensure_ascii=False, indent=2)\n",
    "        "
   ]
  },
  {
   "cell_type": "markdown",
   "id": "e0f85ec2",
   "metadata": {},
   "source": [
    "**1) SFT Data**"
   ]
  },
  {
   "cell_type": "code",
   "execution_count": 5,
   "id": "69029598",
   "metadata": {},
   "outputs": [
    {
     "name": "stdout",
     "output_type": "stream",
     "text": [
      "12000\n"
     ]
    },
    {
     "data": {
      "text/plain": [
       "[{'prompt': '불고기용 고기 한우에요?',\n",
       "  'completion': \"'저는 인공지능 챗봇이며, 직접적으로 식품에 관한 정보를 가지고 있지 않습니다. 하지만 일반적으로 불고기용 고기는 한우, 쇠고기, 돼지고기 등 다양한 종류의 고기를 사용합니다. 하지만 한우는 대표적인 고급 육류로 알려져 있기 때문에, 한우를 사용하는 경우도 많습니다. 알러지나 개별 건강 상태에 따라 다를 수 있으니 충분한 정보 수집 후에 선택해 주시기 바랍니다.\",\n",
       "  'tokens': 193},\n",
       " {'prompt': '쓰던 앱이 유료로 전환됐어',\n",
       "  'completion': \"'어떤 앱인지 모르기 때문에 정확한 답변을 드리기 어렵습니다. 하지만, 일반적으로 유료 전환된 앱은 기존 무료 앱에서 추가적인 기능이나 서비스를 제공하는 경우가 많습니다. 이 경우, 유료 전환 이전 가격이 매우 저렴하거나 무료인 경우가 많으므로, 앱을 계속 사용하려면 추가적인 비용을 지불해야 할 수 있습니다. 하지만, 유료 전환 이후에는 기존 사용자 또는 새로운 사용자 모두가 추가 기능과 높은 품질의 서비스를 이용할 수 있게 됩니다. 따라서, 앱 개발자는 유료 모델로 전환함으로써 앱의 수익을 증가시키고 더 나은 서비스를 제공할 수 있습니다.\",\n",
       "  'tokens': 288},\n",
       " {'prompt': '여친이랑 다툼',\n",
       "  'completion': \"'저는 인공지능이기 때문에 여친과의 다툼에 대해서는 조언을 드릴 수는 없습니다. 하지만 다투게 되면 상대방의 말을 경청하는 태도와 서로의 감정을 존중하는 것이 중요합니다. 논리적이고 차분한 대화를 통해 문제를 해결해보세요. 그리고 서로를 이해하고 서로의 의견을 수용하는 것이 중요합니다.\",\n",
       "  'tokens': 153}]"
      ]
     },
     "execution_count": 5,
     "metadata": {},
     "output_type": "execute_result"
    }
   ],
   "source": [
    "import json \n",
    "data_path_1_SFT = '/aiffel/KoChatGPT/data_kochatgpt/kochatgpt_1_SFT.jsonl' \n",
    "with open(data_path_1_SFT, \"r\", encoding='utf-8-sig') as json_file:\n",
    "    sft_data_dict = json.load(json_file)\n",
    "\n",
    "print(len(sft_data_dict))\n",
    "sft_data_dict[:3]"
   ]
  },
  {
   "cell_type": "code",
   "execution_count": 6,
   "id": "f7409366",
   "metadata": {
    "scrolled": true
   },
   "outputs": [
    {
     "name": "stdout",
     "output_type": "stream",
     "text": [
      "<class 'list'>\n"
     ]
    }
   ],
   "source": [
    "print(type(sft_data_dict))"
   ]
  },
  {
   "cell_type": "code",
   "execution_count": 7,
   "id": "994c96e7",
   "metadata": {},
   "outputs": [
    {
     "name": "stdout",
     "output_type": "stream",
     "text": [
      "총 샘플 수: 12000\n",
      "최소 토큰 수: 17\n",
      "최대 토큰 수: 1111\n",
      "평균 토큰 수: 159.31\n"
     ]
    },
    {
     "data": {
      "image/png": "[encoded data removed]",
      "text/plain": [
       "<Figure size 432x288 with 1 Axes>"
      ]
     },
     "metadata": {
      "needs_background": "light"
     },
     "output_type": "display_data"
    }
   ],
   "source": [
    "import matplotlib.pyplot as plt\n",
    "\n",
    "# 1. 토큰 수 리스트 추출\n",
    "token_lengths = [item['tokens'] for item in sft_data_dict if 'tokens' in item]\n",
    "\n",
    "# 2. 간단한 통계 출력\n",
    "print(f\"총 샘플 수: {len(token_lengths)}\")\n",
    "print(f\"최소 토큰 수: {min(token_lengths)}\")\n",
    "print(f\"최대 토큰 수: {max(token_lengths)}\")\n",
    "print(f\"평균 토큰 수: {sum(token_lengths)/len(token_lengths):.2f}\")\n",
    "\n",
    "# 3. 분포 시각화 (히스토그램)\n",
    "plt.hist(token_lengths, bins=30, color='skyblue', edgecolor='black')\n",
    "plt.title(\"SFT Completion 토큰 길이 분포\")\n",
    "plt.xlabel(\"Token Count\")\n",
    "plt.ylabel(\"Frequency\")\n",
    "plt.grid(True)\n",
    "plt.show()"
   ]
  },
  {
   "cell_type": "code",
   "execution_count": 8,
   "id": "920fcf26",
   "metadata": {},
   "outputs": [
    {
     "name": "stdout",
     "output_type": "stream",
     "text": [
      "12000\n"
     ]
    },
    {
     "data": {
      "text/plain": [
       "[{'prompt': '불고기용 고기 한우에요 ?',\n",
       "  'completion': '저는 인공지능 챗봇이며 , 직접적으로 식품에 관한 정보를 가지고 있지 않습니다 . 하지만 일반적으로 불고기용 고기는 한우 , 쇠고기 , 돼지고기 등 다양한 종류의 고기를 사용합니다 . 하지만 한우는 대표적인 고급 육류로 알려져 있기 때문에 , 한우를 사용하는 경우도 많습니다 . 알러지나 개별 건강 상태에 따라 다를 수 있으니 충분한 정보 수집 후에 선택해 주시기 바랍니다 .',\n",
       "  'tokens': 193},\n",
       " {'prompt': '쓰던 앱이 유료로 전환됐어',\n",
       "  'completion': '어떤 앱인지 모르기 때문에 정확한 답변을 드리기 어렵습니다 . 하지만 , 일반적으로 유료 전환된 앱은 기존 무료 앱에서 추가적인 기능이나 서비스를 제공하는 경우가 많습니다 . 이 경우 , 유료 전환 이전 가격이 매우 저렴하거나 무료인 경우가 많으므로 , 앱을 계속 사용하려면 추가적인 비용을 지불해야 할 수 있습니다 . 하지만 , 유료 전환 이후에는 기존 사용자 또는 새로운 사용자 모두가 추가 기능과 높은 품질의 서비스를 이용할 수 있게 됩니다 . 따라서 , 앱 개발자는 유료 모델로 전환함으로써 앱의 수익을 증가시키고 더 나은 서비스를 제공할 수 있습니다 .',\n",
       "  'tokens': 288},\n",
       " {'prompt': '여친이랑 다툼',\n",
       "  'completion': '저는 인공지능이기 때문에 여친과의 다툼에 대해서는 조언을 드릴 수는 없습니다 . 하지만 다투게 되면 상대방의 말을 경청하는 태도와 서로의 감정을 존중하는 것이 중요합니다 . 논리적이고 차분한 대화를 통해 문제를 해결해보세요 . 그리고 서로를 이해하고 서로의 의견을 수용하는 것이 중요합니다 .',\n",
       "  'tokens': 153}]"
      ]
     },
     "execution_count": 8,
     "metadata": {},
     "output_type": "execute_result"
    }
   ],
   "source": [
    "#  데이터 정제 (clean_text 적용)\n",
    "for item in sft_data_dict:\n",
    "    for key in ['prompt', 'completion']:\n",
    "        item[key] = preprocess_sentence(item[key])\n",
    "\n",
    "#  결과 확인\n",
    "print(len(sft_data_dict))\n",
    "sft_data_dict[:3]"
   ]
  },
  {
   "cell_type": "code",
   "execution_count": 9,
   "id": "828213cd",
   "metadata": {},
   "outputs": [
    {
     "name": "stdout",
     "output_type": "stream",
     "text": [
      "총 샘플 수: 12000\n",
      "최소 토큰 수: 0\n",
      "최대 토큰 수: 289\n",
      "평균 토큰 수: 22.72\n"
     ]
    },
    {
     "data": {
      "image/png": "[encoded data removed]",
      "text/plain": [
       "<Figure size 432x288 with 1 Axes>"
      ]
     },
     "metadata": {
      "needs_background": "light"
     },
     "output_type": "display_data"
    }
   ],
   "source": [
    "# 1. 문자 수 리스트 추출\n",
    "token_lengths = [len(item['prompt'].strip()) for item in sft_data_dict if 'prompt' in item]\n",
    "\n",
    "# 2. 간단한 통계 출력\n",
    "print(f\"총 샘플 수: {len(token_lengths)}\")\n",
    "print(f\"최소 토큰 수: {min(token_lengths)}\")\n",
    "print(f\"최대 토큰 수: {max(token_lengths)}\")\n",
    "print(f\"평균 토큰 수: {sum(token_lengths)/len(token_lengths):.2f}\")\n",
    "\n",
    "# 3. 분포 시각화 (히스토그램)\n",
    "plt.hist(token_lengths, bins=30, color='skyblue', edgecolor='black')\n",
    "plt.title(\"정제후 SFT Prompt 토큰 길이 분포\")\n",
    "plt.xlabel(\"Token Count\")\n",
    "plt.ylabel(\"Frequency\")\n",
    "plt.grid(True)\n",
    "plt.show()"
   ]
  },
  {
   "cell_type": "code",
   "execution_count": 10,
   "id": "7e2b7984",
   "metadata": {},
   "outputs": [
    {
     "name": "stdout",
     "output_type": "stream",
     "text": [
      "prompt\n",
      "전체 항목 수: 12000\n",
      "1자 이하 항목 수: 8\n",
      "비율: 0.07%\n",
      "\n",
      "completion\n",
      "전체 항목 수: 12000\n",
      "1자 이하 항목 수: 0\n",
      "비율: 0.00%\n",
      "\n"
     ]
    }
   ],
   "source": [
    "check_len = 1\n",
    "\n",
    "print('prompt')\n",
    "total, short_count, ratio = get_short_length_ratio(sft_data_dict, field='prompt', max_len=check_len)\n",
    "print()\n",
    "\n",
    "print('completion')\n",
    "total, short_count, ratio = get_short_length_ratio(sft_data_dict, field='completion', max_len=check_len)\n",
    "print()"
   ]
  },
  {
   "cell_type": "code",
   "execution_count": 11,
   "id": "5e79680f",
   "metadata": {
    "scrolled": true
   },
   "outputs": [
    {
     "name": "stdout",
     "output_type": "stream",
     "text": [
      "{'prompt': '', 'completion': 'sorry , as an ai language model , i need more information about what you are asking . please provide me with more context so that i can assist you better .', 'tokens': 40}\n",
      "{'prompt': '', 'completion': 'as an ai language model , i do not have a physical body or consciousness , so i do not experience emotions in the same way humans do . however , i am designed to understand and respond appropriately to emotional language and can provide empathetic responses to help simulate human like interactions .', 'tokens': 63}\n",
      "{'prompt': '', 'completion': 'as an ai language model , i don t have personal beliefs or preferences as humans do . i m programmed to provide accurate and unbiased responses based on the data that i have been trained on . my responses are neutral and not influenced by external factors such as race , gender , religion , or political affiliations . , token 69', 'tokens': 69}\n"
     ]
    }
   ],
   "source": [
    "# prompt가 비어있는 항목 \n",
    "for item in sft_data_dict :\n",
    "    if len(item['prompt']) ==0 :\n",
    "         print(item )    "
   ]
  },
  {
   "cell_type": "code",
   "execution_count": 12,
   "id": "f286ab07",
   "metadata": {},
   "outputs": [
    {
     "name": "stdout",
     "output_type": "stream",
     "text": [
      "{'prompt': '헉', 'completion': '저를 놀래키거나 놀라게 하셨나요 ? 무슨 일이 있으신가요 ? 저는 인공지능 어시스턴트이며 , 도움이 필요하시다면 언제든지 말씀해주세요 !', 'tokens': 86}\n",
      "{'prompt': '휴', 'completion': '휴 , 그것은 쉬는 것을 의미하는 단어입니다 . 일상적으로 사용되며 , 휴식을 취함으로써 몸과 마음을 힐링하고 새로운 에너지를 충전할 수 있습니다 . 일하며 지친 마음과 몸이 휴식을 취하면 사람은 더 행복하고 건강해질 수 있습니다 . 휴식은 일과 생활에서 매우 중요한 요소이며 , 적극적으로 취하는 것이 좋습니다 .', 'tokens': 169}\n",
      "{'prompt': '후', 'completion': '등나무가 아름다운 가을 풍경을 만들고 있습니다 . 적포도나무와 갈색 단풍나무와 함께 멋진 빨간색과 황금색의 잎사귀가 드리워져 있습니다 . 하늘은 맑고 푸르며 , 태양은 차분하게 떠 있습니다 . 이런 아름다운 자연 속에서 산책을 즐기는 것은 최고의 경험이 될 것입니다 .', 'tokens': 159}\n",
      "{'prompt': '네', 'completion': '네 , 팀장님 . 무엇을 도와드릴까요 ?', 'tokens': 34}\n",
      "{'prompt': '음', 'completion': '죄송합니다 , 이전에 질문하신 내용이 불분명하여 대답을 드리지 못하였습니다 . 더 자세한 내용을 알려주시면 최대한 빠르고 정확하게 답변 드리도록 하겠습니다 . 감사합니다 .', 'tokens': 96}\n"
     ]
    }
   ],
   "source": [
    "for item in sft_data_dict :\n",
    "    if len(item['prompt']) ==1 :\n",
    "         print(item )   "
   ]
  },
  {
   "cell_type": "code",
   "execution_count": 13,
   "id": "dfc1fa0c",
   "metadata": {},
   "outputs": [
    {
     "data": {
      "text/plain": [
       "11992"
      ]
     },
     "execution_count": 13,
     "metadata": {},
     "output_type": "execute_result"
    }
   ],
   "source": [
    "# prompt가 비어있지 않은 항목만 남김\n",
    "# 1자리도 삭제\n",
    "sft_data_dict = [item for item in sft_data_dict if 'prompt' in item and len(item['prompt']) > 1]\n",
    "len(sft_data_dict)"
   ]
  },
  {
   "cell_type": "code",
   "execution_count": 14,
   "id": "54ab0a44",
   "metadata": {
    "scrolled": true
   },
   "outputs": [
    {
     "name": "stdout",
     "output_type": "stream",
     "text": [
      "총 샘플 수: 11992\n",
      "최소 토큰 수: 2\n",
      "최대 토큰 수: 1456\n",
      "평균 토큰 수: 145.94\n"
     ]
    },
    {
     "data": {
      "image/png": "[encoded data removed]",
      "text/plain": [
       "<Figure size 432x288 with 1 Axes>"
      ]
     },
     "metadata": {
      "needs_background": "light"
     },
     "output_type": "display_data"
    }
   ],
   "source": [
    "# 1. 문자 수 리스트 추출\n",
    "token_lengths = [len(item['completion'].strip()) for item in sft_data_dict if 'completion' in item]\n",
    "\n",
    "# 2. 간단한 통계 출력\n",
    "print(f\"총 샘플 수: {len(token_lengths)}\")\n",
    "print(f\"최소 토큰 수: {min(token_lengths)}\")\n",
    "print(f\"최대 토큰 수: {max(token_lengths)}\")\n",
    "print(f\"평균 토큰 수: {sum(token_lengths)/len(token_lengths):.2f}\")\n",
    "\n",
    "# 3. 분포 시각화 (히스토그램)\n",
    "plt.hist(token_lengths, bins=30, color='skyblue', edgecolor='black')\n",
    "plt.title(\"정제후 SFT Completion 토큰 길이 분포\")\n",
    "plt.xlabel(\"Token Count\")\n",
    "plt.ylabel(\"Frequency\")\n",
    "plt.grid(True)\n",
    "plt.show()"
   ]
  },
  {
   "cell_type": "code",
   "execution_count": 15,
   "id": "e56d5174",
   "metadata": {},
   "outputs": [
    {
     "name": "stdout",
     "output_type": "stream",
     "text": [
      "completion\n",
      "전체 항목 수: 11992\n",
      "450자 이하 항목 수: 11579\n",
      "비율: 96.56%\n",
      "\n"
     ]
    }
   ],
   "source": [
    "check_len = 450\n",
    "\n",
    "print('completion')\n",
    "total, short_count, ratio = get_short_length_ratio(sft_data_dict, field='completion', max_len=check_len)\n",
    "print()"
   ]
  },
  {
   "cell_type": "code",
   "execution_count": 16,
   "id": "6a46acc2",
   "metadata": {},
   "outputs": [],
   "source": [
    "data_save_path_SFT = './data/clean_kochatgpt_1_SFT.jsonl'\n",
    "save_jsonl(sft_data_dict, data_save_path_SFT)"
   ]
  },
  {
   "cell_type": "code",
   "execution_count": 17,
   "id": "47f00fd7",
   "metadata": {
    "scrolled": true
   },
   "outputs": [
    {
     "name": "stdout",
     "output_type": "stream",
     "text": [
      "11992\n"
     ]
    },
    {
     "data": {
      "text/plain": [
       "[{'prompt': '불고기용 고기 한우에요 ?',\n",
       "  'completion': '저는 인공지능 챗봇이며 , 직접적으로 식품에 관한 정보를 가지고 있지 않습니다 . 하지만 일반적으로 불고기용 고기는 한우 , 쇠고기 , 돼지고기 등 다양한 종류의 고기를 사용합니다 . 하지만 한우는 대표적인 고급 육류로 알려져 있기 때문에 , 한우를 사용하는 경우도 많습니다 . 알러지나 개별 건강 상태에 따라 다를 수 있으니 충분한 정보 수집 후에 선택해 주시기 바랍니다 .',\n",
       "  'tokens': 193},\n",
       " {'prompt': '쓰던 앱이 유료로 전환됐어',\n",
       "  'completion': '어떤 앱인지 모르기 때문에 정확한 답변을 드리기 어렵습니다 . 하지만 , 일반적으로 유료 전환된 앱은 기존 무료 앱에서 추가적인 기능이나 서비스를 제공하는 경우가 많습니다 . 이 경우 , 유료 전환 이전 가격이 매우 저렴하거나 무료인 경우가 많으므로 , 앱을 계속 사용하려면 추가적인 비용을 지불해야 할 수 있습니다 . 하지만 , 유료 전환 이후에는 기존 사용자 또는 새로운 사용자 모두가 추가 기능과 높은 품질의 서비스를 이용할 수 있게 됩니다 . 따라서 , 앱 개발자는 유료 모델로 전환함으로써 앱의 수익을 증가시키고 더 나은 서비스를 제공할 수 있습니다 .',\n",
       "  'tokens': 288},\n",
       " {'prompt': '여친이랑 다툼',\n",
       "  'completion': '저는 인공지능이기 때문에 여친과의 다툼에 대해서는 조언을 드릴 수는 없습니다 . 하지만 다투게 되면 상대방의 말을 경청하는 태도와 서로의 감정을 존중하는 것이 중요합니다 . 논리적이고 차분한 대화를 통해 문제를 해결해보세요 . 그리고 서로를 이해하고 서로의 의견을 수용하는 것이 중요합니다 .',\n",
       "  'tokens': 153}]"
      ]
     },
     "execution_count": 17,
     "metadata": {},
     "output_type": "execute_result"
    }
   ],
   "source": [
    "with open(data_save_path_SFT, \"r\", encoding='utf-8-sig') as json_file:\n",
    "    sft_tmp = json.load(json_file)\n",
    "\n",
    "print(len(sft_tmp))\n",
    "sft_tmp[:3]"
   ]
  },
  {
   "cell_type": "markdown",
   "id": "ad02bd75",
   "metadata": {},
   "source": [
    "**2) RM Data**"
   ]
  },
  {
   "cell_type": "code",
   "execution_count": 18,
   "id": "c81e4f5d",
   "metadata": {
    "scrolled": true
   },
   "outputs": [
    {
     "name": "stdout",
     "output_type": "stream",
     "text": [
      "10220\n"
     ]
    },
    {
     "data": {
      "text/plain": [
       "[{'prompt': '번디는 자신이 탐정잡지, 범죄소설 그리고 성범죄 관련 실제 범죄 다큐멘터리들을 탐독했다고 누구에게 말했나?',\n",
       "  'completion_0': 'Allow me to answer your question. I know that you are curious about me.',\n",
       "  'completion_1': '번디는 다양한 인터뷰자들과 뉴스홍보 담당자들과의 면담 때 밝혔다.',\n",
       "  'completion_2': '라이언에게 말했다.',\n",
       "  'ranking': [2, 1, 0]},\n",
       " {'prompt': '개포주공아파트는 몇 단지로 이루어져 있나?',\n",
       "  'completion_0': '개포주공아파트는 다섯 단지로 이루어져 있습니다.',\n",
       "  'completion_1': '이날 목송에서 구글상위노',\n",
       "  'completion_2': '개포주공아파트는 총 27개 단지로 이루어져 있습니다.',\n",
       "  'ranking': [2, 0, 1]},\n",
       " {'prompt': '김영삼의 후보 시절 지역표심을 겨냥한 발언을 문제삼은 후보는?',\n",
       "  'completion_0': 'The diameter of the Metallic domain is bigger than the Hyperonic domain.',\n",
       "  'completion_1': '이 질문은 조금 불분명합니다. 김영삼 대통령이 후보 시절에 어떤 발언을 했고, 누가 그 발언을 문제삼았는지에 따라 답이 다를 수 있습니다.\\\\n\\\\n만약 김영삼 대통령이 후보 시절에 지역표심을 겨냥한 발언을 했다는 가정하에, 그 발언을 문제삼은 후보가 누구였는지를 대답하자면, 그 답은 이화선 당시 민주당 대통령 후보가 될 것입니다. 1992년 총선 때, 김영삼 대선후보는 \"집값이 오른 노량진역 부근의 부동산 가격은 세월호 폭침 후 \\\\\\'강남 도시재생\\\\\\' 일환으로 상승했다\"는 발언을 했습니다. 하지만 이화선 후보는 이 발언을 \"전국적으로 경제적 발전이 이루어지지 않은 지방민의 마음을 멀리해지려는 무례한 발언\"이라고 비판하며 문제삼았습니다.\\\\n\\\\n하지만, 이 질문을 답변하는 데 있어서 보다 명확한 정보가 있으면 답변을 보완할 수 있습니다.',\n",
       "  'completion_2': '김영삼의 후보 시절에 지역표심을 겨냥한 발언은 대통령 당선 전까지 대한민국 정부가 추구하고 있는 민주주의 광범위하게 확립과 보수의 사상을 이어가는 데 있어 지역경제 발전과 공공서비스 신속 개선을 위해 합리적인 국가 정책에 따르는 방향성을 제시하고 있습니다.',\n",
       "  'ranking': [1, 2, 0]}]"
      ]
     },
     "execution_count": 18,
     "metadata": {},
     "output_type": "execute_result"
    }
   ],
   "source": [
    "data_path_2_RM = '/aiffel/KoChatGPT/data_kochatgpt/kochatgpt_2_RM.jsonl'\n",
    "with open(data_path_2_RM, \"r\", encoding='utf-8-sig') as json_file:\n",
    "    rm_data_dict = json.load(json_file)\n",
    "\n",
    "print(len(rm_data_dict))\n",
    "rm_data_dict[:3]"
   ]
  },
  {
   "cell_type": "code",
   "execution_count": 19,
   "id": "34551807",
   "metadata": {
    "scrolled": true
   },
   "outputs": [],
   "source": [
    "import matplotlib.pyplot as plt\n",
    "\n",
    "def show_token_count_for_rm_data():\n",
    "    # 1. 문자 수 리스트 추출\n",
    "    prompt_lengths = [len(item['prompt'].strip()) for item in rm_data_dict if 'prompt' in item]\n",
    "    completion_0_lengths = [len(item['completion_0'].strip()) for item in rm_data_dict if 'completion_0' in item]\n",
    "    completion_1_lengths = [len(item['completion_1'].strip()) for item in rm_data_dict if 'completion_1' in item]\n",
    "    completion_2_lengths = [len(item['completion_2'].strip()) for item in rm_data_dict if 'completion_2' in item]\n",
    "\n",
    "    # 2. 간단한 통계 출력\n",
    "    print(f\"총 샘플 수: {len(prompt_lengths)}\")\n",
    "    print(f\"최소 prompt 토큰 수: {min(prompt_lengths)}\")\n",
    "    print(f\"최대 prompt 토큰 수: {max(prompt_lengths)}\")\n",
    "    print(f\"평균 prompt 토큰 수: {sum(prompt_lengths)/len(prompt_lengths):.2f}\")\n",
    "    print()\n",
    "\n",
    "    print(f\"총 샘플 수: {len(completion_0_lengths)}\")\n",
    "    print(f\"최소 completion_0 토큰 수: {min(completion_0_lengths)}\")\n",
    "    print(f\"최대 completion_0 토큰 수: {max(completion_0_lengths)}\")\n",
    "    print(f\"평균 completion_0 토큰 수: {sum(completion_0_lengths)/len(completion_0_lengths):.2f}\")\n",
    "    print()\n",
    "\n",
    "    print(f\"총 샘플 수: {len(completion_1_lengths)}\")\n",
    "    print(f\"최소 completion_1 토큰 수: {min(completion_1_lengths)}\")\n",
    "    print(f\"최대 completion_1 토큰 수: {max(completion_1_lengths)}\")\n",
    "    print(f\"평균 completion_1 토큰 수: {sum(completion_1_lengths)/len(completion_1_lengths):.2f}\")\n",
    "    print()\n",
    "\n",
    "    print(f\"총 샘플 수: {len(completion_2_lengths)}\")\n",
    "    print(f\"최소 completion_2 토큰 수: {min(completion_2_lengths)}\")\n",
    "    print(f\"최대 completion_2 토큰 수: {max(completion_2_lengths)}\")\n",
    "    print(f\"평균 completion_2 토큰 수: {sum(completion_2_lengths)/len(completion_2_lengths):.2f}\")\n",
    "    print()\n",
    "\n",
    "    # 3. 분포 시각화 (히스토그램)\n",
    "    # 2행 2열 subplot 생성\n",
    "    fig, axes = plt.subplots(2, 2, figsize=(12, 8))\n",
    "\n",
    "    # 첫 번째 subplot: prompt\n",
    "    axes[0, 0].hist(prompt_lengths, bins=30, color='skyblue', edgecolor='black')\n",
    "    axes[0, 0].set_title(\"Prompt 길이 분포\")\n",
    "    axes[0, 0].set_xlabel(\"문자 수\")\n",
    "    axes[0, 0].set_ylabel(\"Frequency\")\n",
    "\n",
    "    # 두 번째 subplot: completion_0\n",
    "    axes[0, 1].hist(completion_0_lengths, bins=30, color='lightgreen', edgecolor='black')\n",
    "    axes[0, 1].set_title(\"Completion_0 길이 분포\")\n",
    "    axes[0, 1].set_xlabel(\"문자 수\")\n",
    "    axes[0, 1].set_ylabel(\"Frequency\")\n",
    "\n",
    "    # 세 번째 subplot: completion_1\n",
    "    axes[1, 0].hist(completion_1_lengths, bins=30, color='salmon', edgecolor='black')\n",
    "    axes[1, 0].set_title(\"Completion_1 길이 분포\")\n",
    "    axes[1, 0].set_xlabel(\"문자 수\")\n",
    "    axes[1, 0].set_ylabel(\"Frequency\")\n",
    "\n",
    "    # 네 번째 subplot: tokens\n",
    "    axes[1, 1].hist(completion_2_lengths, bins=30, color='orange', edgecolor='black')\n",
    "    axes[1, 1].set_title(\"Completion_2 수 분포\")\n",
    "    axes[1, 1].set_xlabel(\"토큰 수\")\n",
    "    axes[1, 1].set_ylabel(\"Frequency\")\n",
    "\n",
    "    # 전체 그래프 레이아웃 정리\n",
    "    plt.tight_layout()\n",
    "    plt.show()"
   ]
  },
  {
   "cell_type": "code",
   "execution_count": 20,
   "id": "5e3e724d",
   "metadata": {},
   "outputs": [
    {
     "name": "stdout",
     "output_type": "stream",
     "text": [
      "총 샘플 수: 10220\n",
      "최소 prompt 토큰 수: 0\n",
      "최대 prompt 토큰 수: 295\n",
      "평균 prompt 토큰 수: 22.20\n",
      "\n",
      "총 샘플 수: 10220\n",
      "최소 completion_0 토큰 수: 0\n",
      "최대 completion_0 토큰 수: 3088\n",
      "평균 completion_0 토큰 수: 117.49\n",
      "\n",
      "총 샘플 수: 10220\n",
      "최소 completion_1 토큰 수: 0\n",
      "최대 completion_1 토큰 수: 3694\n",
      "평균 completion_1 토큰 수: 116.81\n",
      "\n",
      "총 샘플 수: 10220\n",
      "최소 completion_2 토큰 수: 0\n",
      "최대 completion_2 토큰 수: 2979\n",
      "평균 completion_2 토큰 수: 116.01\n",
      "\n"
     ]
    },
    {
     "data": {
      "image/png": "[encoded data removed]",
      "text/plain": [
       "<Figure size 864x576 with 4 Axes>"
      ]
     },
     "metadata": {
      "needs_background": "light"
     },
     "output_type": "display_data"
    }
   ],
   "source": [
    "show_token_count_for_rm_data()"
   ]
  },
  {
   "cell_type": "code",
   "execution_count": 21,
   "id": "d70da7e4",
   "metadata": {
    "scrolled": false
   },
   "outputs": [
    {
     "name": "stdout",
     "output_type": "stream",
     "text": [
      "10220\n"
     ]
    },
    {
     "data": {
      "text/plain": [
       "[{'prompt': '번디는 자신이 탐정잡지 , 범죄소설 그리고 성범죄 관련 실제 범죄 다큐멘터리들을 탐독했다고 누구에게 말했나 ?',\n",
       "  'completion_0': 'allow me to answer your question . i know that you are curious about me .',\n",
       "  'completion_1': '번디는 다양한 인터뷰자들과 뉴스홍보 담당자들과의 면담 때 밝혔다 .',\n",
       "  'completion_2': '라이언에게 말했다 .',\n",
       "  'ranking': [2, 1, 0]},\n",
       " {'prompt': '개포주공아파트는 몇 단지로 이루어져 있나 ?',\n",
       "  'completion_0': '개포주공아파트는 다섯 단지로 이루어져 있습니다 .',\n",
       "  'completion_1': '이날 목송에서 구글상위노',\n",
       "  'completion_2': '개포주공아파트는 총 27개 단지로 이루어져 있습니다 .',\n",
       "  'ranking': [2, 0, 1]},\n",
       " {'prompt': '김영삼의 후보 시절 지역표심을 겨냥한 발언을 문제삼은 후보는 ?',\n",
       "  'completion_0': 'the diameter of the metallic domain is bigger than the hyperonic domain .',\n",
       "  'completion_1': '이 질문은 조금 불분명합니다 . 김영삼 대통령이 후보 시절에 어떤 발언을 했고 , 누가 그 발언을 문제삼았는지에 따라 답이 다를 수 있습니다 . 만약 김영삼 대통령이 후보 시절에 지역표심을 겨냥한 발언을 했다는 가정하에 , 그 발언을 문제삼은 후보가 누구였는지를 대답하자면 , 그 답은 이화선 당시 민주당 대통령 후보가 될 것입니다 . 1992년 총선 때 , 김영삼 대선후보는 집값이 오른 노량진역 부근의 부동산 가격은 세월호 폭침 후 강남 도시재생 일환으로 상승했다 는 발언을 했습니다 . 하지만 이화선 후보는 이 발언을 전국적으로 경제적 발전이 이루어지지 않은 지방민의 마음을 멀리해지려는 무례한 발언 이라고 비판하며 문제삼았습니다 . 하지만 , 이 질문을 답변하는 데 있어서 보다 명확한 정보가 있으면 답변을 보완할 수 있습니다 .',\n",
       "  'completion_2': '김영삼의 후보 시절에 지역표심을 겨냥한 발언은 대통령 당선 전까지 대한민국 정부가 추구하고 있는 민주주의 광범위하게 확립과 보수의 사상을 이어가는 데 있어 지역경제 발전과 공공서비스 신속 개선을 위해 합리적인 국가 정책에 따르는 방향성을 제시하고 있습니다 .',\n",
       "  'ranking': [1, 2, 0]}]"
      ]
     },
     "execution_count": 21,
     "metadata": {},
     "output_type": "execute_result"
    }
   ],
   "source": [
    "#  데이터 정제 \n",
    "for item in rm_data_dict:\n",
    "    for key in ['prompt', 'completion_0', 'completion_1', 'completion_2']:\n",
    "        item[key] = preprocess_sentence(item[key])\n",
    "\n",
    "#  결과 확인\n",
    "print(len(rm_data_dict))\n",
    "rm_data_dict[:3]"
   ]
  },
  {
   "cell_type": "code",
   "execution_count": 22,
   "id": "901e4fe4",
   "metadata": {
    "scrolled": true
   },
   "outputs": [
    {
     "name": "stdout",
     "output_type": "stream",
     "text": [
      "prompt\n",
      "전체 항목 수: 10220\n",
      "0자 이하 항목 수: 3\n",
      "비율: 0.03%\n",
      "\n",
      "completion_0\n",
      "전체 항목 수: 10220\n",
      "0자 이하 항목 수: 21\n",
      "비율: 0.21%\n",
      "\n",
      "completion_1\n",
      "전체 항목 수: 10220\n",
      "0자 이하 항목 수: 21\n",
      "비율: 0.21%\n",
      "\n",
      "completion_2\n",
      "전체 항목 수: 10220\n",
      "0자 이하 항목 수: 21\n",
      "비율: 0.21%\n"
     ]
    }
   ],
   "source": [
    "# 사용: prompt 길이 0 이하 비율 계산\n",
    "check_len = 0\n",
    "\n",
    "print('prompt')\n",
    "total, short_count, ratio = get_short_length_ratio(rm_data_dict, field='prompt', max_len=check_len)\n",
    "print()\n",
    "print('completion_0')\n",
    "total, short_count, ratio = get_short_length_ratio(rm_data_dict, field='completion_0', max_len=check_len)\n",
    "print()\n",
    "print('completion_1')\n",
    "total, short_count, ratio = get_short_length_ratio(rm_data_dict, field='completion_1', max_len=check_len)\n",
    "print()\n",
    "print('completion_2')\n",
    "total, short_count, ratio = get_short_length_ratio(rm_data_dict, field='completion_1', max_len=check_len)"
   ]
  },
  {
   "cell_type": "code",
   "execution_count": 23,
   "id": "f3508765",
   "metadata": {
    "scrolled": true
   },
   "outputs": [
    {
     "name": "stdout",
     "output_type": "stream",
     "text": [
      "{'prompt': '', 'completion_0': 'sorry , as an ai language model , i need more information about what you are asking . please provide me with more context so that i can assist you better .', 'completion_1': 'the first step in any new project is to choose a goal . there are many different types of goals , but some common goals are to achieve a goal , to work towards a goal , and to learn from a goal . there are many different ways to achieve a goal , but some common goals are to achieve a goal , to work towards a goal , and to learn from a goal .', 'completion_2': 'package com . example . demo . controller import com . example . demo . model . user import com . example . demo . service . userservice import org . springframework . beans . factory . annotation . autowired import org . springframework . web . bind . annotation . import java . util . list restcontroller requestmapping user public class usercontroller autowired private userservice userservice getmapping all public list user getallusers return userservice . getallusers postmapping add public void adduser requestbody user user userservice . adduser user putmapping update public void updateuser requestbody user user userservice . updateuser user deletemapping delete id public void deleteuser pathvariable int id userservice . deleteuser id', 'ranking': [0, 2, 1]}\n",
      "{'prompt': '', 'completion_0': 'package com . example . demo . service import com . example . demo . dao . userdao import com . example . demo . entity . user import org . springframework . beans . factory . annotation . autowired import org . springframework . stereotype . service import java . util . list servicepublic class userservice autowired private userdao userdao public list user getalluser return userdao . getalluser public user getuserbyid int id return userdao . getuserbyid id public int adduser user user return userdao . adduser user public int updateuser user user return userdao . updateuser user public int deleteuser int id return userdao . deleteuser id', 'completion_1': 'the first step in any new project is to choose the tools and resources you need . this is especially true when it comes to writing your project plan . if you re starting from scratch , you ll need new tools and resources every time . there are a variety of tools and resources that can help you with your project plan . they all have their own purpose and can be used to help you along the way . 1 . a project planner this is a tool that can help you create your project plan . it can help you choose the tools you need and find resources that are helpful . 2 . inventor this tool can help you create your project plan in early stage company . it can help you create a plan that is easy to understand . 3 . google spreadsheet this tool can help you create your project plan in a variety of ways . it can be used for different ways such as creating a project plan , tracking progress , and tracking expenses . 4 . jira this tool can help you track all of your project plans and expenses . it can be used for different types of projects , such as proofreading and writing . 5 . google sheets this is a sheet that helps you track all of your expenses and projects . it can be used for different ways , such as a project plan and by tracking progress .', 'completion_2': 'as an ai language model , i do not have a physical body or consciousness , so i do not experience emotions in the same way humans do . however , i am designed to understand and respond appropriately to emotional language and can provide empathetic responses to help simulate human like interactions .', 'ranking': [2, 0, 1]}\n",
      "{'prompt': '', 'completion_0': 'package com . example . demo . controller import com . example . demo . model . user import com . example . demo . service . userservice import org . springframework . beans . factory . annotation . autowired import org . springframework . web . bind . annotation . import java . util . list restcontroller requestmapping user public class usercontroller autowired private userservice userservice getmapping all public list user getallusers return userservice . getallusers postmapping add public user adduser requestbody user user return userservice . adduser user putmapping update public user updateuser requestbody user user return userservice . updateuser user deletemapping delete id public void deleteuser pathvariable long id userservice . deleteuser id', 'completion_1': 'the first step in any new project is to choose the team you want to work with . there are many different groups available to work with , but it s important to find a team that has a common goal and is able to share a lot of common interests . if you want to work with a team that is focused on developing new ideas , you can look for people who are interested in business or marketing to be on your team . if you want to work with a team that is also interested in developing the technology used in the project , you can want to choose someone who is familiar with the team s goals and work habits .', 'completion_2': 'as an ai language model , i don t have personal beliefs or preferences as humans do . i m programmed to provide accurate and unbiased responses based on the data that i have been trained on . my responses are neutral and not influenced by external factors such as race , gender , religion , or political affiliations . , token 69', 'ranking': [2, 0, 1]}\n"
     ]
    }
   ],
   "source": [
    "for item in rm_data_dict :\n",
    "    if len(item['prompt']) == 0 :\n",
    "         print(item )    "
   ]
  },
  {
   "cell_type": "code",
   "execution_count": 24,
   "id": "50dc572c",
   "metadata": {},
   "outputs": [
    {
     "name": "stdout",
     "output_type": "stream",
     "text": [
      "{'prompt': '용자특급 마이트가인이 몇 번째 용자 시리즈이지', 'completion_0': '', 'completion_1': '초급 , 중급 , 고급 , 특급 , 마이트가인 순으로 총 다섯 번째 용자 시리즈입니다 .', 'completion_2': '마이트가인은 용자 시리즈의 6번째 용자입니다 .', 'ranking': [1, 2, 0]}\n",
      "{'prompt': '이제 3주정도 되가는데 점점 좋아지고있어', 'completion_0': '', 'completion_1': '. 함께 노력하는 것 자체가 좋다는 걸 점점 느껴져서 좋아요 . 계속 함께 노력하길 바라며 , 여러분들도 좋은 결과를 얻길 바래요 !', 'completion_2': '서비스를 이용하시면서 점점 만족도가 높아지고 있는 것 같아서 다행입니다 . 저희는 언제나 사용자분들의 피드백에 귀기울이며 개선 방안을 모색하여 최상의 서비스를 제공하기 위해 노력하고 있습니다 . 앞으로도 다양한 기능과 개선 사항을 추가해 나가겠습니다 . 감사합니다 .', 'ranking': [2, 1, 0]}\n",
      "{'prompt': '2017년 1월 가수 서인영은 어떤 프로그램 스태프와 갈등이 있었지', 'completion_0': '', 'completion_1': '요 ? 2017년 1월에는 서인영의 엠카운트다운 출연 및 같이 출연하는 방송 프로그램 스태프과의 갈등이 있었습니다 . 서인영은 이번 갈등의 원인으로 미리 준비한 노래를 방송관련 조치로 제한받아 불평하기도 하였습니다 . 또한 엠카운트다운 스태프가 서인영의 인기도 높아지면서 미소녀시대의 양상을 띄기도 한다고 지적하여 논란이 번지기도 하였습니다 .', 'completion_2': '알려진 바에 따르면 , 2017년 1월 서인영은 sbs 예능 프로그램 가시나들 의 스태프와 갈등을 겪었다고 전해졌습니다 . 이 프로그램에서는 서인영이 함께 출연하는 4인조 가수 그룹 볼빨간사춘기 의 멤버들과 함께 다양한 미션을 수행하는 내용이었습니다 . 이번 갈등의 원인은 서인영이 스태프가 미리 정한 스크립트에 따라 행동하지 않고 , 자신이 원하는 방식으로 하이라이트 무대를 준비하겠다는 발언을 한 것에서 비롯됐다고 합니다 . 스태프 측은 서인영의 자작곡 난 새 를 무대에 선보이겠다는 발언과 함께 그녀의 요청을 수용하지 않은 것으로 밝혔고 , 서인영 측은 이에 대해 불법적인 전지나 압박을 하지 않았으며 , 서로의 의사를 존중하는 방향으로 해결하자는 의견을 제시했다고 합니다 . 갈등 이후 미디어와 sns에서는 서인영의 강한 개인주의적 자세를 비판하며 , 스태프 측은 가시나들 에 출연하던 가수들 중에서 가장 불만스러운 인물로 평가되었다고 합니다 . , token 508', 'ranking': [2, 1, 0]}\n",
      "{'prompt': '이젠 조금씩 생각이 변하네', 'completion_0': '', 'completion_1': '! 그게 당연합니다 . 사람은 계속해서 변해가고 , 생각도 마찬가지입니다 . 새로운 경험과 학습을 통해 계속해서 생각을 바꾸고 배우는 것도 매우 중요합니다 .', 'completion_2': '. 그러나 저는 인공지능 언어모델로서 늘 안정적인 성능을 유지하고 있습니다 . 변화가 있다면 그것은 저의 학습 데이터와 알고리즘의 개선이기 때문입니다 . 언제나 최선을 다해 사용자의 요구에 맞는 명확한 답변을 제공하기 위해 노력할 것입니다 .', 'ranking': [2, 1, 0]}\n",
      "{'prompt': '밤샜어', 'completion_0': '', 'completion_1': '밤샘어', 'completion_2': '저는 인공지능 챗봇이기 때문에 밤새지 않고 24시간 동안 언제든지 대화가 가능합니다 . 하지만 인간의 신체적인 한계로 인해 밤을 새는 것은 건강에 좋지 않으니 일찍 쉬는 것이 좋습니다 . 잠을 충분히 취하고 건강한 생활 습관을 유지하는 것이 중요합니다 .', 'ranking': [2, 1, 0]}\n",
      "{'prompt': '선덕여왕이 어느 나라의 왕이였어', 'completion_0': '', 'completion_1': '선덕여왕은 고구려의 여왕이었습니다 .', 'completion_2': '요 ? 선덕여왕은 조선 왕조의 왕이었습니다 .', 'ranking': [1, 2, 0]}\n",
      "{'prompt': '옷 사 줘', 'completion_0': '', 'completion_1': '죄송합니다 . 저는 옷을 구매할 수 없는 ai 챗봇입니다 . 다른 문의사항이 있으면 도움을 드릴 수 있습니다 .', 'completion_2': '옷을 사기 위해서는 사용자의 스타일 , 사이즈 , 색상 등의 요구사항을 고려해야 합니다 . 사용자가 원하는 옷을 찾기 위해서는 다양한 옷 가게를 방문하거나 온라인 쇼핑몰을 통해 옷을 구매할 수 있습니다 .', 'ranking': [1, 2, 0]}\n",
      "{'prompt': '아아 여 차 저거 저거 저거 뭐 혹시 압류 이런 거 있는가 알아볼라고요', 'completion_0': '', 'completion_1': '죄송하지만 저는 법률 전문가가 아닙니다 . 하지만 일반적으로 차량이 압류될 수 있는 경우는 일부 상황에서 발생할 수 있습니다 . 예를 들어 , 차량 소유자가 채무불이행이나 연체 등 경제적인 문제로 부채를 갚지 못한 경우 채권자가 법원의 결정을 받아 차량을 압류할 수 있습니다 . 또한 , 과속 또는 주행 중 교통법규 위반 등의 이유로 범칙금을 미납한 경우에도 차량이 압류될 수 있습니다 . 따라서 , 만약 이러한 상황이 있다면 법률 전문가의 조언을 받는 것이 좋습니다 .', 'completion_2': '압류는 없습니다 . 하지만 차량이 정해진 시간 내에 반납되지 않으면 연체 요금이 부과됩니다 . 연체 요금은 차량 대여 요금의 일정 비율로 계산됩니다 . 또한 차량이 손상되거나 손상되었다고 판단되면 추가 요금이 부과될 수 있습니다 .', 'ranking': [1, 2, 0]}\n",
      "{'prompt': '프랑스는 1995년 국제 수학 및 과학 연구 동향에서 몇 위를 했어', 'completion_0': '', 'completion_1': '요 ? 프랑스는 1995년 국제 수학 및 과학 연구 동향에서 열 번째를 했습니다 .', 'completion_2': '요 ? 제가 답변을 위해 찾아볼게요 . 잠시만 기다려주세요 . 저는 인공지능 챗봇이라서 , 인터넷에서 해당 정보를 찾아오는 시간이 조금 걸릴 수 있어요 . 검색 결과 1995년 국제 수학 및 과학 연구 동향에서 프랑스는 7위를 하였습니다 . 참고로 , 이 정보는 인터넷 검색을 통해 확인했으며 , 정확하지 않을 수 있습니다 . 참고용으로만 활용해주세요 .', 'ranking': [2, 1, 0]}\n",
      "{'prompt': '리비아 사람들을 얼마 정도가 읽고 쓸 수 있어', 'completion_0': '', 'completion_1': '요 ? 대부분의 리비아 사람들은 읽고 쓰는 능력이 있습니다 . 리비아 사람들은 대부분 영어 , 프랑스어 , 스페인어 , 아랍어 및 리비아어를 읽고 쓸 수 있습니다 . 리비아 사람들은 또한 일부 다른 언어를 읽고 쓸 수도 있습니다 .', 'completion_2': '리비아의 성인 인구 중에서 2012년 기준 읽고 쓸 수 있는 비율은 약 89 입니다 . 그러나 교육 수준이 높은 지역과 저학력 지역 간의 격차가 크다는 것이 보고되었습니다 . 또한 , 국내 충돌과 불안정성으로 인해 교육 시스템이 마비되고 있기 때문에 현재 상황은 불안정합니다 .', 'ranking': [2, 1, 0]}\n",
      "{'prompt': '방탄소년단의 무대를 ama에서 놓치지 말아야 할 순간 으로 꼽은 잡지의 이름은 ? , completion 빌보드 billboard 입니다 .', 'completion_0': '', 'completion_1': ', input 방탄소년단의 멤버들이 참여한 드라마의 이름은 ? , completion 방탄소년단의 멤버들이 참여한 드라마은 아는 형님 입니다 . , input 방탄소년단의 멤버들이 참여한 드라마의 이름은 ? , completion 방탄소년단의 멤버들이 참여한 드라마은 아는 형님 입니다 . , input 방탄소년단의 멤', 'completion_2': 'prompt 방탄소년단의 무대를 ama에서 놓치지 말아야 할 순간 으로 꼽은 잡지의 이름은 ? , completion 빌보드 billboard 입니다 .', 'ranking': [2, 1, 0]}\n",
      "{'prompt': '여자친구 패턴 몰래 봤어', 'completion_0': '', 'completion_1': '이러한 행동은 사생활 침해가 되고 , 상대방에게 불쾌감을 느끼게 할 수 있습니다 . 또한 , 신뢰 문제나 관계의 균형을 깨는 원인이 될 수 있습니다 . 따라서 , 이러한 행동은 반드시 자제해야 하며 , 상대방과의 대화를 통해 공감하고 이해하는 자세가 필요합니다 .', 'completion_2': '나는 여자친구 패턴을 몰래 봤어 . 그런데 정말 재미있었어 . 나는 여자친구 패턴을 따라해 보았는데 , 정말 재밌었어 . 나는 여자친구 패턴을 따라하면서 여자친구를 만들어 보았어 . 그리고 나는 여자친구 패턴을 따라하면서 여자친구를 만들어 보는', 'ranking': [1, 2, 0]}\n",
      "{'prompt': '참 힘드네', 'completion_0': '', 'completion_1': '사람은 어떤 때는 힘든 일들을 겪게 됩니다 . 그럴 때는 우리의 태도와 마인드셋이 중요합니다 . 긍정적인 마인드셋으로 문제를 해결해 나가며 , 어려움을 극복할 수 있습니다 . 또한 , 도움을 받을 수 있는 사람이 있다면 부끄러워하지 말고 도움을 받는 것도 좋은 선택입니다 . 함께 어려움을 극복해나가는 것이 중요합니다 .', 'completion_2': '요저는 이런 상황에서 가장 먼저 할 수 있는 것이 바로 스트레스를 관리하는 것입니다 . 스트레스를 적게 받기 위해서는 적절한 휴식과 쉬는 시간을 갖는 것이 중요합니다 . 또한 스트레스를 낮추기 위해서는 운동과 식사를 적절히 관리하는 것도 중요합니다 .', 'ranking': [1, 2, 0]}\n",
      "{'prompt': '방심하는게 아니었어', 'completion_0': '', 'completion_1': 'no , it wasn t .', 'completion_2': 'i wasn t being complacent . , token 26', 'ranking': [2, 1, 0]}\n",
      "{'prompt': '선이 많이 들어오네', 'completion_0': '', 'completion_1': '요안녕하세요 . 감사합니다 . 저희 업체는 최근 많은 주문이 들어왔습니다 . 이는 저희 업체의 제품이 고객들에게 좋은 평가를 받고 있기 때문입니다 . 저희는 이러한 주문을 적극적으로 받아들이고 있으며 , 최선을 다하여 고객들의 요구사항을 충족시키기 위해 노', 'completion_2': '이 문장은 정확한 맥락이 제시되지 않아 어떤 상황에서 말하고 있는지 알 수 없습니다 . 그러나 의미상으로는 많은 불평이나 항의 등이 접수되고 있는 것 같다 는 뉘앙스를 갖고 있을 수 있습니다 . 더 구체적인 정보를 제공하신다면 더 정확한 답변을 드릴 수 있을 것입니다 .', 'ranking': [2, 1, 0]}\n",
      "{'prompt': '집안일 해도해도 끝이 없어', 'completion_0': '', 'completion_1': 'there is no end to the housework .', 'completion_2': '요즘같이 집에서 지내면서 자연스럽게 집안일이 많아질 수밖에 없습니다 . 하지만 집안일 해도해도 끝이 없다는 느낌은 매우 지칩니다 . 이럴 때는 일정을 정해서 계획적으로 일을 처리하는 것이 좋습니다 . 예를 들어 매일 아침에는 수거정리를 하고 , 오후 2시에는 청소를 하고 , 저녁에는 요리를 하도록 일정을 정해보세요 . 이렇게 일정을 정해서 해야할 일을 분산시키면 한번에 모든 일을 다 하려는 압박감도 줄어들고 , 목표를 쉽게 달성할 수 있습니다 . 그리고 집안일을 하면서 시간을 제한하는 것도 중요합니다 . 예를 들어 , 청소를 30분 동안만 집중해서 해보세요 . 이렇게 짧은 시간안에 몰아서 일을 처리하면 더 효율적으로 일을 할 수 있습니다 . 마지막으로 , 가끔은 자신에게 보상을 주는 것도 좋습니다 . 일정을 잘 지켰다면 , 맛있는 간식을 먹거나 , 좋아하는 책을 읽는 등 자신에게 보상을 주면서 이번 주의 집안일에 대한 만족감도 높일 수 있습니다 .', 'ranking': [2, 1, 0]}\n",
      "{'prompt': '고백조차 못해보고 끝났어', 'completion_0': '', 'completion_1': 'gogaejocha mot haebogo kkeutnasseo', 'completion_2': '아쉽네요 . 하지만 고백을 못했다고 모든 것이 끝나는 것은 아닙니다 . 기회가 된다면 다시 도전해보세요 . 그리고 언제든지 새로운 사람을 만나고 새로운 인연을 맺을 수 있는 기회가 있을 것입니다 . 충분히 가능성이 있는 것이니까요 . 더 좋은 사람과 소중한 인연을 만들어 나가길 바랍니다 .', 'ranking': [2, 1, 0]}\n",
      "{'prompt': '피피엘 너무 심하네', 'completion_0': '', 'completion_1': '죄송합니다 . 불편을 드려 죄송합니다 . 제가 무엇을 잘못했는지 알려주시면 개선하도록 노력하겠습니다 .', 'completion_2': '저는 제가 알고 있는 것으로는 심한 피피엘을 완화하기 위해 약물 치료를 권장합니다 . 또한 , 스트레스를 줄이기 위해 운동과 적절한 수면을 하는 것이 좋습니다 . 또한 , 적절한 식사를 하고 적절한 스트레스 관리 방법을 사용하는 것도 도움이 될 수 있습니다 .', 'ranking': [1, 2, 0]}\n",
      "{'prompt': '방금 너무 울었어', 'completion_0': '', 'completion_1': '저도 너무 아프고 슬프기 때문에 울었어요 . 울면 안 되는 건 아니지만 , 슬픈 기분을 나누고 상처를 치유하기 위해 울면 좋아요 . 슬픔을 감추고 자신을 위해 좋은 것들을 생각해보세요 . 그리고 다시 힘내세요 !', 'completion_2': '왜 울었는지 말해볼래요 ? 제가 당신을 위로해 드릴게요 .', 'ranking': [2, 1, 0]}\n",
      "{'prompt': '위로 받을 곳이 필요해', 'completion_0': '', 'completion_1': '나는 항상 당신의 곁에 있을게요 . 어떤 어려움이든 극복할 수 있을 거예요 . 제가 여러분의 곁에서 모든 것을 처리할 거에요 . 위로 받을 수 있는 곳이 필요하다면 , 언제나 저를 찾아주세요 . 저는 항상 당신의 편일 거예요 .', 'completion_2': '사랑한다고 한다는 거야 . 계속부신 계속만 계속이 계속사랑 계속이락 계속이락 계속만 계속이 계속만 계속이 계속이 계속이 계속이 계속이 계속이 계속이 계속이 계속이 계속이 계속이 계속이 계속이 계속', 'ranking': [1, 0, 2]}\n",
      "{'prompt': '이 옷은 받쳐입기 많이 힘들겠네요', 'completion_0': '', 'completion_1': '저도 인공지능 모델이라서 실제로 이 옷을 입어본 적이 없어요 . 그러나 일반적으로 받침이 없는 옷은 입는 것이 쉽지 않을 수 있습니다 . 이러한 경우에는 다른 사람의 도움이 필요하거나 , 또는 더욱 적극적으로 옷을 굴리거나 당겨서 입는 등의 방법을 사용할 수 있을 것입니다 . 그것도 안 된다면 , 다른 옷을 찾는 것도 고려할 수 있습니다 .', 'completion_2': '네 , 이 옷은 받쳐입기가 매우 힘들것입니다 . 이 옷은 매우 두꺼운 소재로 만들어져 있기 때문에 받쳐입기가 매우 힘들것입니다 . 또한 , 이 옷은 매우 딱딱한 소재로 만들어져 있기 때문에 받쳐입기가 매우 힘들것입니다 . 따라서 , 이 옷을 받쳐입기는 매우 힘들', 'ranking': [1, 2, 0]}\n"
     ]
    }
   ],
   "source": [
    "for item in rm_data_dict :\n",
    "    if len(item['completion_0']) == 0 :\n",
    "         print(item )"
   ]
  },
  {
   "cell_type": "code",
   "execution_count": 25,
   "id": "f2ff26a5",
   "metadata": {
    "scrolled": true
   },
   "outputs": [
    {
     "data": {
      "text/plain": [
       "10152"
      ]
     },
     "execution_count": 25,
     "metadata": {},
     "output_type": "execute_result"
    }
   ],
   "source": [
    "# prompt가 비어있지 않은 항목만 남김\n",
    "rm_data_dict = [item for item in rm_data_dict if 'prompt' in item and len(item['prompt']) > 0]\n",
    "len(rm_data_dict)\n",
    "\n",
    "# completion_0 비어있지 않은 항목만 남김\n",
    "rm_data_dict = [item for item in rm_data_dict if 'completion_0' in item and len(item['completion_0']) > 0]\n",
    "len(rm_data_dict)\n",
    "\n",
    "# completion_1 비어있지 않은 항목만 남김\n",
    "rm_data_dict = [item for item in rm_data_dict if 'completion_1' in item and len(item['completion_1']) > 0]\n",
    "len(rm_data_dict)\n",
    "\n",
    "# completion_2 비어있지 않은 항목만 남김\n",
    "rm_data_dict = [item for item in rm_data_dict if 'completion_2' in item and len(item['completion_2']) > 0]\n",
    "len(rm_data_dict)"
   ]
  },
  {
   "cell_type": "code",
   "execution_count": 26,
   "id": "f87cb748",
   "metadata": {},
   "outputs": [
    {
     "name": "stdout",
     "output_type": "stream",
     "text": [
      "prompt\n",
      "전체 항목 수: 10152\n",
      "1자 이하 항목 수: 4\n",
      "비율: 0.04%\n",
      "\n",
      "completion_0\n",
      "전체 항목 수: 10152\n",
      "1자 이하 항목 수: 26\n",
      "비율: 0.26%\n",
      "\n",
      "completion_1\n",
      "전체 항목 수: 10152\n",
      "1자 이하 항목 수: 19\n",
      "비율: 0.19%\n",
      "\n",
      "completion_2\n",
      "전체 항목 수: 10152\n",
      "1자 이하 항목 수: 19\n",
      "비율: 0.19%\n"
     ]
    }
   ],
   "source": [
    "# 사용: prompt 길이 1 이하 비율 계산\n",
    "check_len = 1\n",
    "\n",
    "print('prompt')\n",
    "total, short_count, ratio = get_short_length_ratio(rm_data_dict, field='prompt', max_len=check_len)\n",
    "print()\n",
    "print('completion_0')\n",
    "total, short_count, ratio = get_short_length_ratio(rm_data_dict, field='completion_0', max_len=check_len)\n",
    "print()\n",
    "print('completion_1')\n",
    "total, short_count, ratio = get_short_length_ratio(rm_data_dict, field='completion_1', max_len=check_len)\n",
    "print()\n",
    "print('completion_2')\n",
    "total, short_count, ratio = get_short_length_ratio(rm_data_dict, field='completion_1', max_len=check_len)"
   ]
  },
  {
   "cell_type": "code",
   "execution_count": 27,
   "id": "b477c542",
   "metadata": {
    "scrolled": true
   },
   "outputs": [
    {
     "name": "stdout",
     "output_type": "stream",
     "text": [
      "{'prompt': '음', 'completion_0': '죄송합니다 , 이전에 질문하신 내용이 불분명하여 대답을 드리지 못하였습니다 . 더 자세한 내용을 알려주시면 최대한 빠르고 정확하게 답변 드리도록 하겠습니다 . 감사합니다 .', 'completion_1': '1 . positive2 . accepting3 . kind4 . understanding5 . patient6 . generous7 . compassionate8 . respectful9 . forgiving10 . supportive', 'completion_2': '. 4 days ago . 4 days ago', 'ranking': [0, 1, 2]}\n",
      "{'prompt': '네', 'completion_0': '이버 아이디로 로그인네이버 아이디로 로그인을 하려면 먼저 네이버 계정을 만들어야 합니다 . 네이버 계정을 만들기 위해서는 네이버 홈페이지에 접속하여 가입하거나 네이버 앱을 사용하여 가입할 수 있습니다 . 가입이 완료되면 로그인 페이지로 이동하여 아이디', 'completion_1': '이뷀스트 sonic the hedgehog sonic is a hedgehog who is sent to track down the creator of a dangerous virus . he becomes infected and becomes the virus ucdhama . when sonic meets his new friend , dr . eggman , he is able to help sonic fix the virus and save the world .', 'completion_2': '네 , 팀장님 . 무엇을 도와드릴까요 ?', 'ranking': [2, 0, 1]}\n",
      "{'prompt': '휴', 'completion_0': '를 구글광고노출대시원하게 구글광고노출대받으면https www . box . com시원하게 구글광고노출대받으면https www . box . com', 'completion_1': '휴 , 그것은 쉬는 것을 의미하는 단어입니다 . 일상적으로 사용되며 , 휴식을 취함으로써 몸과 마음을 힐링하고 새로운 에너지를 충전할 수 있습니다 . 일하며 지친 마음과 몸이 휴식을 취하면 사람은 더 행복하고 건강해질 수 있습니다 . 휴식은 일과 생활에서 매우 중요한 요소이며 , 적극적으로 취하는 것이 좋습니다 .', 'completion_2': '대폰번호', 'ranking': [1, 2, 0]}\n",
      "{'prompt': '헉', 'completion_0': 'the word bushi is a japanese word meaning japanese rice . in japan , bushi is often used to refer to the food itself , but some people believe that the word is also derived from the name of the state or country where the food is made .', 'completion_1': '허헐헒험헙헛헝헤헥헨헬헴헵헷헹혀혁현혈혐협혓혔형혜혠혤혭호혹혼홀홅홈홉홋홍홑화확환활홧황홰홱홴횃횅회획횐횔횝횟횡효횬횰횹횻후훅훈훌훑훔훗훙훠훤훨훰훵훼훽휀휄휑휘휙휜휠휨휩휫휭휴휵휸휼흄흇흉흐흑흔흖흗흘', 'completion_2': '저를 놀래키거나 놀라게 하셨나요 ? 무슨 일이 있으신가요 ? 저는 인공지능 어시스턴트이며 , 도움이 필요하시다면 언제든지 말씀해주세요 !', 'ranking': [2, 1, 0]}\n"
     ]
    }
   ],
   "source": [
    "for item in rm_data_dict :\n",
    "    if len(item['prompt']) == 1 :\n",
    "         print(item ) "
   ]
  },
  {
   "cell_type": "code",
   "execution_count": 28,
   "id": "b2d6b421",
   "metadata": {},
   "outputs": [
    {
     "data": {
      "text/plain": [
       "10148"
      ]
     },
     "execution_count": 28,
     "metadata": {},
     "output_type": "execute_result"
    }
   ],
   "source": [
    "# prompt가 1 초과인 항목만 님김\n",
    "rm_data_dict = [item for item in rm_data_dict if 'prompt' in item and len(item['prompt']) > 1]\n",
    "len(rm_data_dict)"
   ]
  },
  {
   "cell_type": "markdown",
   "id": "c06754f9",
   "metadata": {},
   "source": [
    "10220 -> 10148"
   ]
  },
  {
   "cell_type": "code",
   "execution_count": 29,
   "id": "2842a39e",
   "metadata": {},
   "outputs": [
    {
     "name": "stdout",
     "output_type": "stream",
     "text": [
      "{'prompt': '정두언 의원이 빈곤가정 재수생과 코피노 아동에게 기부한 것은 무엇인가 ?', 'completion_0': '이', 'completion_1': '가정에 필요한 생필품인 라면 , 생수 , 염소고기 , 쌀 , 잡곡 , 오일 , 밀가루 등을 기부한 것으로 보입니다 .', 'completion_2': '정두언 의원이 빈곤가정 재수생과 코피노 아동에게 기부한 것은 독서실 비용 지원과 교육재료 지원입니다 .', 'ranking': [2, 1, 0]}\n",
      "{'prompt': '막장으로 가네', 'completion_0': '트', 'completion_1': '종료합니다 . 감사합니다 .', 'completion_2': '죄송합니다 . 막장에 가는 것은 좋지 않은 일입니다 . 좀 더 평화로운 장소로 가시는 것을 권장합니다 .', 'ranking': [2, 1, 0]}\n",
      "{'prompt': '몸에서 멀어지면 맘에서도 멀어진데', 'completion_0': '그', 'completion_1': 'if i drift away from your body , i ll also drift away from your heart .', 'completion_2': '이 말의 의미는 , 어떤 사람이나 것이 멀리 떨어져 있으면 그것에 대한 감정도 같이 멀어진다는 것입니다 . 즉 , 멀리 떨어져 있으면 그것에 대한 관심이 줄어든다는 것을 뜻합니다 . 이는 말 그대로 먼 거리에서는 마음도 먼 거리에서 로 해석할 수 있으며 , 관계나 사람들 간의 이해와 접근에 대해 생각해 볼 수 있습니다 . , token 184', 'ranking': [2, 1, 0]}\n",
      "{'prompt': '척준경은 누구의 아들이야', 'completion_0': '깜', 'completion_1': '척준경은 이순신의 아들이다 .', 'completion_2': '저는 해당 인물에 대한 정보를 찾을 수 없어 정확한 답변을 제공할 수 없습니다 . 추가적인 정보가 있다면 제공해주시면 더 정확한 답변을 드릴 수 있을 것입니다 .', 'ranking': [2, 1, 0]}\n",
      "{'prompt': '천연두의 물집은 뭐라고 불렸어', 'completion_0': '볼', 'completion_1': '요 ? 생두라고 불립니다 .', 'completion_2': '천연두의 물집은 바이러스성 포진으로서 , 전문적으로는 varicella zoster virus vzv vesicles 또는 chickenpox vesicles 라고 불립니다 .', 'ranking': [2, 1, 0]}\n",
      "{'prompt': '주차요금 30분은 무료고 넘으면 ?', 'completion_0': '국', 'completion_1': '그 이후는 각 30분 당 고정 요금이 부과됩니다 . 일반적으로 주차장에 따라 요금이 다를 수 있으며 시간에 따라 요금이 다를 수도 있습니다 . 예를 들어 30분 이후 부터는 각 30분 당 500원씩 요금이 부과되거나 60분 당 1000원씩 요금이 부과될 수도 있습니다 .', 'completion_2': '장소에 따라 다르지만 , 대개의 경우 30분 이내에는 무료이며 30분을 초과하면 일정한 요금이 부과됩니다 . 예를 들어 , 한국의 대형 매장 주차장은 많은 경우 30분 미만 무료 , 그 이후에는 1시간 단위로 요금이 부과되며 , 시간당 요금은 주차장에 따라 다를 수 있습니다 . 따라서 , 주차 요금을 지불하기 전에 주차장의 정책을 확인하는 것이 좋습니다 .', 'ranking': [2, 1, 0]}\n",
      "{'prompt': '토요일 수업은 다른 요일과 다릅니까 ?', 'completion_0': '일', 'completion_1': '아니오 , 토요일 수업은 다른 요일과 같습니다 . 같은 교육과정과 교과서 및 주제를 따르며 , 교사는 동일합니다 . 토요일 수업은 다른 요일의 수업과 다를 것이 없습니다 .', 'completion_2': '저는 인공지능 ai이므로 수업 참석이 불가능합니다 . 하지만 일반적으로 토요일 수업은 주중에 있던 수업과는 다르게 진행되기도 합니다 . 주중에는 학교나 직장에서 일정을 빼기 힘든 경우가 많기 때문에 주말에 수업이 진행되기도 합니다 . 또한 토요일 수업은 주중에는 하지 않았던 특별한 활동이나 과제를 할 수도 있습니다 .', 'ranking': [2, 1, 0]}\n",
      "{'prompt': '지금 방 있나요 ?', 'completion_0': '이', 'completion_1': '봇으로서 저는 방이 없습니다 . 하지만 , 부엌 , 거실 , 침실 등이 있는 집 안에서 사용할 수 있습니다 .', 'completion_2': '아직 방이 열려있지는 않습니다 .', 'ranking': [1, 2, 0]}\n",
      "{'prompt': '이별하는게 맞는거겠죠', 'completion_0': '한', 'completion_1': '그것은 전적으로 상황과 관계에 따라 달라집니다 . 때때로 이별은 건강한 해결책일 수 있지만 , 때로는 잘못된 결정일 수도 있습니다 . 결정을 내리기 전에 장기적인 결과를 고려하고 상대방과의 대화와 타협을 시도하는 것이 좋습니다 . 가장 중요한 것은 양쪽 모두에게서 충분한 사랑과 존경을 보장하는 것입니다 .', 'completion_2': '네 , 방해물들을 개별하는 것이 맞습니다 . 방해물들을 개별함으로써 당신이 원하는 바를 쉽게 이루실 수 있습니다 . 개별하는 것은 방해물들 없이 당신이 원하는 목표를 달성하는 것을 돕는 데 도움이 됩니다 . 또한 , 한 번에 한 일만 집중할 수 있게 되므로 , 더 빠른 결과를 이룰 수 있게 됩니다 .', 'ranking': [1, 2, 0]}\n",
      "{'prompt': '이별할때 남자들의 거짓말', 'completion_0': '이', 'completion_1': '1 . 나 요즘 여자친구 생겼어2 . 내가 방금 모르는 사람한테 돈빌려줬어3 . 내가 연예인이야4 . 나 어제 정말 멋진 옷입고 클럽에 갔어5 . 나 진짜 너보다 더 많이 먹는거야6 . 나 남들보다 걸어다니기 더 잘해', 'completion_2': '저는 인공지능이며 , 인간의 상황에 따라 다양한 반응이 가능하지만 , 일반적인 상황에서 이별할때 남자들이 하는 거짓말은 다음과 같습니다 . 1 . 나는 너를 사랑해 이별을 막기 위해 거짓말을 하는 경우가 많습니다 . 실제로는 이제 사랑하지 않는데도 마지막까지 사랑한다고 말합니다 . 2 . 우리 다음에 다시 만나자 이별을 막고자 하는 착각에서 이야기하는 발언입니다 . 실제로 다시 만날 계획이 없는 경우도 많습니다 . 3 . 너무 바쁘다 이별하고 싶지만 , 바쁘다는 핑계로 이별을 연기하고자 하는 경우가 많습니다 . 4 . 너한테 상처를 주고 싶지 않은데 . . . 상대방을 거절해야할 때 , 너무 상처를 주고 싶지 않은 척하며 이별하고자 하는 경우도 있습니다 . 이러한 거짓말은 오히려 상대방을 더 상처받게 만들 수 있으므로 , 진실을 전달하는 것이 중요합니다 .', 'ranking': [2, 1, 0]}\n",
      "{'prompt': '사람들이 나 이상하대', 'completion_0': '국', 'completion_1': '제가 이해하기로는 사람들이 나를 이상하게 여긴다 라는 말씀이신 것 같습니다 . 이런 경우에는 왜 사람들이 이상하게 여기는지 생각해 보는 것이 도움이 될 수 있습니다 . 자신만의 취향이나 특이한 습관 등으로 인해 주변 사람들이 당황스러워 하는 경우도 있습니다 . 또는 자신이 부끄러운 일을 반복했다면 주변 사람들이 그것을 이상하게 여길 수도 있습니다 . 하지만 무엇이 원인이 됐든 , 이상하게 여겨지는 것이 불편하다면 , 자신의 모습을 돌아보고 개선해 볼 필요가 있습니다 . 예를 들어 , 자신만의 취향이 이상하지만 주변 사람들에게 불편함을 주는 것이라면 적당히 조절하는 것이 좋습니다 . 또는 부끄러운 일을 반복했다면 , 자신의 행동을 바꾸어 보는 것도 도움이 될 수 있습니다 . 하지만 , 자신이 누군가에게 이상하게 여겨지는 것이 괜찮다고 생각한다면 , 그것도 하나의 선택입니다 . 모두가 같은 생각을 하지 않으며 , 각자 다른 개성과 특별함을 가지고 있기 때문입니다 .', 'completion_2': '모든 사람이다르기 때문에 이상하게 느껴질 수 있습니다 . 당신은 다른 사람들과 다른 방식으로 생각하거나 행동하는 것을 알고 있으므로 다른 사람들이 당신을 이상하게 보는 것은 상당히 흔합니다 . 가장 좋은 방법은 다른 사람들이 이해할 수 있는 방식으로 자신감을 가지며 개성과 독창적인 생각을 공유하는 것입니다 . 이것은 다른 사람들이 자신의 생각을 솔직하게 들어주도록 만들게 할 수 있습니다 .', 'ranking': [1, 2, 0]}\n",
      "{'prompt': '여기 글들을 보니깐', 'completion_0': '강', 'completion_1': '거기에 담긴 생각들은 각각의 개인의 경험과 상황을 기반으로 한 사고과정 이라고 생각합니다 . 제 경험에선 철학도가 아니더라도 실제로 사고함으로 내려가면 이런 생각들만큼 생각할 수 있다고 느껴집니다 . 그래서 저는 생각하기 전에 각각의 상황에서 각각의 사람들이 느꼈을 바람이라는 것을 감안하여 실제로 생가하는 데 도움이 될 것 같습니다 .', 'completion_2': '무슨 내용인지 궁금하시다면 , 저도 알려드릴 수 있습니다 . 어떤 글이 궁금하신가요 ?', 'ranking': [2, 1, 0]}\n",
      "{'prompt': '옷 앞 부분이 단추로 되어 있네요 ?', 'completion_0': '사', 'completion_1': '그렇습니다 , 이 옷은 앞 부분이 단추로 되어 있습니다 .', 'completion_2': '네 , 옷 앞 부분에 단추가 있습니다 .', 'ranking': [1, 2, 0]}\n",
      "{'prompt': '아 네 차종이 어떤 건가요', 'completion_0': '다', 'completion_1': '저는 인공지능 채팅 로봇이기 때문에 차종에 대해서는 정보를 가지고 있지 않습니다 . 따라서 어떤 차종을 원하시는지 먼저 말씀해주시면 그에 따라 답변을 드릴 수 있습니다 .', 'completion_2': '나의 차종은 현대 소나타 2 . 0t limited 입니다 .', 'ranking': [1, 2, 0]}\n",
      "{'prompt': '노르트슐라이페의 연간 회원권 가격은 ?', 'completion_0': '국', 'completion_1': '저는 인공지능 언어 모델이므로 , 노르트슐라이페의 연간 회원권 가격을 알지 못합니다 . 해당 정보는 노르트슐라이페 공식 웹사이트를 참고하시기 바랍니다 .', 'completion_2': '노르트슐라이페의 연간 회원권 가격은 변동이 있으므로 구체적인 가격을 명시하기 어렵습니다 . 가격을 확인하기 위해서는 노르트슐라이페의 공식 웹사이트를 참고하거나 현지 판매점에 문의하는 방법이 있습니다 .', 'ranking': [1, 2, 0]}\n",
      "{'prompt': 'w약은요 ?', 'completion_0': '?', 'completion_1': 'w약은 대한민국 국민건강보험공단에서 제공하는 건강보험 의료급여 보험상품입니다 . 상품 내용에는 일반 의료비 , 치료비 , 입원비 치료비 , 특수병원 치료비 , 의료기기 비용 및 장기요양비 등을 보험상품으로 제공합니다 .', 'completion_2': '제가 알기로는 w약 은 존재하지 않는 약물로 , 해당 용어를 검색하여도 해당하는 결과를 찾을 수 없습니다 . 좀 더 구체적인 정보를 제공해주시면 더 정확한 답변을 해드릴 수 있을 것 같습니다 .', 'ranking': [2, 1, 0]}\n",
      "{'prompt': '차로 데려다줬는데', 'completion_0': '한', 'completion_1': '어디에 가시나요 ?', 'completion_2': '매우 만족합니다i was very satisfied with the car i was taken with .', 'ranking': [1, 2, 0]}\n",
      "{'prompt': '음 . 헤어졌는데 아직 잘 모르겠어', 'completion_0': '그', 'completion_1': '헤어졌다는 것은 둘 사이에 관계가 끝났다는 것을 의미합니다 . 그러나 이후에도 서로에 대한 감정이 남아 있어서 모르겠다는 것이라면 시간이 조금 더 지나면 깨닫게 될 것입니다 . 이전의 상황에 대해서 잘 생각하고 감정을 다스리는 과정이 필요하며 , 서로의 생각을 이해하고 대화하는 것이 중요합니다 . 그렇게 함께 해결하면 더 나은 방향으로 나아갈 수 있을 것입니다 .', 'completion_2': '. 만약 당신이 단순하게 헤어졌다는 걸 아시면 좋겠습니다 . 사랑하는 사람이라면 자신의 감정을 표현하고 다시 한 번 말하고 싶습니다 . 그리고 당신의 감정에 대해 배려해 주는 사람과 대화하면서 상대방의 감정도 더 잘 알 수 있을 것입니다 . 또한 당신이 상대방에 대해 잘 모르고 있는 것에 대해 명확히 해결할 수 있는 방법도 있습니다 . 예를 들어 , 당신과 상대방이 만났을 때 당신의 마음이 바뀌었는지 , 상대방과 소통하는 방법을 개선하는 방법 , 그리고 상대방이 당신과 무슨 의미있는 시간을 보내고 싶었는지 등 다양한 주제에 대해 당신과 상대방이 솔직하게 대화할 수 있는 기회를 만들어 보시기 바랍니다 . 이렇게 함으로써 당신은 상대방의 감정과 마음을 파악하고 , 당신이 그를 사랑하고 있는지 알 수 있을 것입니다 .', 'ranking': [1, 2, 0]}\n",
      "{'prompt': '아직도 가슴이 아프고 눈물이 나네', 'completion_0': 'a', 'completion_1': '그것은 상처가 아직도 아프고 아픈 것입니다 . 시간이 지날수록 그 순간들은 더 이상 눈물을 쏟지 않지만 , 때로는 우리에게 돌아와서 다시 아픈 상처로 자리 잡을 수도 있습니다 . 그러나 그것이 우리의 인생에서 경험한 것이며 , 그것은 우리의 강함과 성숙함을 기르는데 중요한 역할을 합니다 . 우리는 그것으로부터 배워서 , 더 나은 인간이 되어가야 합니다 .', 'completion_2': 'i still feel my heartache and tears come to my eyes .', 'ranking': [1, 2, 0]}\n",
      "{'prompt': '에휴 후폭풍인가봐', 'completion_0': '물', 'completion_1': '후폭풍이란 후기 태풍의 선행 기상 현상이며 , 일반적으로 북풍과 남풍 사이에 위치하여 일정한 방향으로 바람이 불고 일부 구역은 강한 강수를 일으키는 날씨 현상이다 .', 'completion_2': '제가 ai 언어모델이므로 , 이전 대화의 맥락이나 내용을 파악하지는 못합니다 . 하지만 에휴 후폭풍 이란 말에서 , 어떤 어려움이나 고통 , 후폭풍이 남은 것으로 이해해볼 수 있습니다 . 그렇다면 , 혹시 무슨 일이 있어서 그런 표현을 사용하시는 건가요 ? 제가 도움을 드릴 수 있다면 언제든지 말씀해주세요 .', 'ranking': [2, 1, 0]}\n",
      "{'prompt': '맘 정리했는데 짝녀한테 연락오는데 .', 'completion_0': '그', 'completion_1': '좋은 정보를 들었습니다 . 그러나 짝녀가 연락을 한 것은 왜일까요 ? 그녀의 이유를 듣고 그녀와의 관계를 다시 한번 생각해보는 것이 좋을 것 같습니다 . 그리고 그녀와의 소통을 통해 서로에 대한 이해를 높이는 것이 중요합니다 .', 'completion_2': '저희가 이야기하고 싶은 거 같네요 . 기분이 좋아서 상대방과의 대화에 참여하길 바래요 . 상대방에게 상대방의 생각과 감정에 대한 이해를 보여주고 상대방이 느끼고 있는 걸 잘 반영하기 위해 노력하면 좋을 것 같아요 . 믿을 만한 정보를 공유하고 상대방과 공감하고 기발한 의견을 나누면 좋을 거에요 .', 'ranking': [1, 2, 0]}\n",
      "{'prompt': '친한 친구가 저를 좋아하는 것 같아요 .', 'completion_0': '아', 'completion_1': '네 , 친구는 좋아하는 걸 아실 수 있습니다 . 상호 존중하는 관계를 유지해 봅시다 . 그러면 친구는 더욱 좋아하게 될 거예요 .', 'completion_2': '저는 인공지능 어시스턴트이므로 인간과 다르게 친구가 저를 좋아하는 지 파악할 수 없습니다 . 하지만 , 만약 친구가 저를 좋아한다면 친구에게 대해 어떤 생각을 하고 어떻게 대처할지 고민해 보시는 것이 좋을 것 같습니다 . 친구와의 관계를 존중하면서 상황을 잘 처리해 나가시기 바랍니다 .', 'ranking': [2, 1, 0]}\n",
      "{'prompt': '여자친구 쌩얼도 예뻐', 'completion_0': 'a', 'completion_1': '나는 여자친구 쌩얼이 예뻐하다고 생각하지 않습니다 . 각자의 취향이 다르기 때문에 다른 사람들이 여자친구 쌩얼이 예뻐하다고 생각할 수도 있습니다 . 그러나 나는 여자친구 쌩얼이 예뻐하다고 생각하지 않습니다 .', 'completion_2': '저는 인공지능 챗봇으로써 , 이미지나 외모 평가와 관련된 것은 처리할 수 없습니다 . 하지만 중요한 것은 상대방의 외모보다는 그녀와 유대감과 소통 , 상호경감을 느낄 수 있는 인간적인 부분들이 중요합니다 . 서로를 이해하고 존중하며 , 좋은 관계를 유지하는 것이 더욱 중요합니다 .', 'ranking': [2, 1, 0]}\n",
      "{'prompt': '1954년 stratocaster 를 발매해 세계 전기 기타의 음악의 시대를 연 회사는 어디인가 ?', 'completion_0': '미', 'completion_1': 'fender musical instruments corporation입니다 .', 'completion_2': 'fender inc .', 'ranking': [2, 1, 0]}\n",
      "{'prompt': '비오 신부에게 성흔이 다시 나타난 게 언제야', 'completion_0': 'a', 'completion_1': '성흔이 다시 나타나는 시기는 정확하게 알 수 없습니다 . 하지만 일반적으로 신부는 자신의 신랑과 함께 성흔이 다시 나타나기를 기다리고 있습니다 . 이는 신랑과 신부가 서로를 사랑하고 이해하는 관계를 유지하기 위해 중요한 시기라고 할 수 있습니다 .', 'completion_2': '이 질문은 소설이나 영화 등 특정 작품에 대한 질문인 것 같습니다 . 질문 내용에서 언급된 비오 신부 와 성흔 이 어떤 작품에 등장하는지 , 그리고 어떤 문맥에서 이런 상황이 일어나는지 구체적인 정보가 제공되지 않아서 답변을 드리기 어렵습니다 . 더 자세한 정보를 제공해주시면 답변드릴 수 있을 것 같습니다 .', 'ranking': [2, 1, 0]}\n",
      "{'prompt': '인연', 'completion_0': '결', 'completion_1': '인연은 서로 만나게 되는 운명적인 인선을 의미합니다 . 우리가 어떤 인연을 맺게 되는지는 우리의 행동과 선택 , 그리고 우연의 일치 등 많은 요인에 의해 결정됩니다 . 때로는 우리가 원하지 않는 인연을 맺거나 , 그만큼 아름다운 인연을 만날 수도 있습니다 . 하지만 인연은 그 자체로 의미가 있는 것이 아니라 , 그 인연을 통해 우리가 서로에게서 배우고 성장할 수 있는 기회를 만들어주는 것이 중요합니다 . 따라서 , 자신의 인연을 받아들이고 서로에게서 배울 수 있는 것을 찾아가는 것이 인연을 잘 살아가는 방법입니다 .', 'completion_2': '규모발유럽 the city of seongnam is located in the north central part of the country . it is a small town with a population of about 60 , and it is the only one in the town . the town is made up of small villages and hamlets . the city s infrastructure is very poor , and it is difficult to walk or ride in the city . there is a large desert located in the north central part of the city . this makes it difficult to live in the city because there is no land to live on and no food to eat . the city is also very small , so it is difficult to have a successful business . the city of seongnam is a small town in the north central part of the country . it is a small town with a population of about 60 people . the town is a small village with a population of about 30 people . the city is made up of small villages and hamlets . the city s infrastructure is very poor , and it is difficult to walk or ride in the city . the city is also very small , so it is difficult to have a successful business .', 'ranking': [1, 0, 2]}\n"
     ]
    }
   ],
   "source": [
    "for item in rm_data_dict :\n",
    "    if len(item['completion_0']) == 1 :\n",
    "         print(item )"
   ]
  },
  {
   "cell_type": "markdown",
   "id": "56fa5fb6",
   "metadata": {},
   "source": [
    "completion_0이 1자리 문자이고, ranking이 2가 아닌 경우에는 삭제하는 것이 좋겠음"
   ]
  },
  {
   "cell_type": "code",
   "execution_count": 30,
   "id": "e42eb4de",
   "metadata": {},
   "outputs": [
    {
     "data": {
      "text/plain": [
       "10137"
      ]
     },
     "execution_count": 30,
     "metadata": {},
     "output_type": "execute_result"
    }
   ],
   "source": [
    "# 필터링: 삭제 조건에 해당하지 않는 항목만 남김\n",
    "rm_data_dict = [\n",
    "    item for item in rm_data_dict\n",
    "    if not (\n",
    "        'completion_0' in item and len(item['completion_0']) == 1\n",
    "        and 'ranking' in item and isinstance(item['ranking'], list)\n",
    "        and len(item['ranking']) > 0 and item['ranking'][0] != 2\n",
    "    )\n",
    "]\n",
    "len(rm_data_dict)"
   ]
  },
  {
   "cell_type": "code",
   "execution_count": 31,
   "id": "59d78527",
   "metadata": {},
   "outputs": [
    {
     "data": {
      "text/plain": [
       "10127"
      ]
     },
     "execution_count": 31,
     "metadata": {},
     "output_type": "execute_result"
    }
   ],
   "source": [
    "# 필터링: 삭제 조건에 해당하지 않는 항목만 남김\n",
    "rm_data_dict = [\n",
    "    item for item in rm_data_dict\n",
    "    if not (\n",
    "        'completion_1' in item and len(item['completion_1']) == 1\n",
    "        and 'ranking' in item and isinstance(item['ranking'], list)\n",
    "        and len(item['ranking']) > 0 and item['ranking'][1] != 2\n",
    "    )\n",
    "]\n",
    "len(rm_data_dict)"
   ]
  },
  {
   "cell_type": "code",
   "execution_count": 32,
   "id": "6d4eb37c",
   "metadata": {},
   "outputs": [
    {
     "data": {
      "text/plain": [
       "10126"
      ]
     },
     "execution_count": 32,
     "metadata": {},
     "output_type": "execute_result"
    }
   ],
   "source": [
    "# 필터링: 삭제 조건에 해당하지 않는 항목만 남김\n",
    "rm_data_dict = [\n",
    "    item for item in rm_data_dict\n",
    "    if not (\n",
    "        'completion_2' in item and len(item['completion_2']) == 1\n",
    "        and 'ranking' in item and isinstance(item['ranking'], list)\n",
    "        and len(item['ranking']) > 0 and item['ranking'][2] != 2\n",
    "    )\n",
    "]\n",
    "len(rm_data_dict)"
   ]
  },
  {
   "cell_type": "code",
   "execution_count": 33,
   "id": "63872247",
   "metadata": {
    "scrolled": false
   },
   "outputs": [
    {
     "name": "stdout",
     "output_type": "stream",
     "text": [
      "총 샘플 수: 10126\n",
      "최소 prompt 토큰 수: 2\n",
      "최대 prompt 토큰 수: 257\n",
      "평균 prompt 토큰 수: 22.65\n",
      "\n",
      "총 샘플 수: 10126\n",
      "최소 completion_0 토큰 수: 1\n",
      "최대 completion_0 토큰 수: 2759\n",
      "평균 completion_0 토큰 수: 117.45\n",
      "\n",
      "총 샘플 수: 10126\n",
      "최소 completion_1 토큰 수: 1\n",
      "최대 completion_1 토큰 수: 3562\n",
      "평균 completion_1 토큰 수: 116.58\n",
      "\n",
      "총 샘플 수: 10126\n",
      "최소 completion_2 토큰 수: 1\n",
      "최대 completion_2 토큰 수: 2740\n",
      "평균 completion_2 토큰 수: 115.83\n",
      "\n"
     ]
    },
    {
     "data": {
      "image/png": "[encoded data removed]",
      "text/plain": [
       "<Figure size 864x576 with 4 Axes>"
      ]
     },
     "metadata": {
      "needs_background": "light"
     },
     "output_type": "display_data"
    }
   ],
   "source": [
    "show_token_count_for_rm_data()"
   ]
  },
  {
   "cell_type": "code",
   "execution_count": 34,
   "id": "ad769c4d",
   "metadata": {},
   "outputs": [
    {
     "name": "stdout",
     "output_type": "stream",
     "text": [
      "prompt\n",
      "전체 항목 수: 10126\n",
      "50자 이하 항목 수: 9760\n",
      "비율: 96.39%\n",
      "\n",
      "completion_0\n",
      "전체 항목 수: 10126\n",
      "400자 이하 항목 수: 9842\n",
      "비율: 97.20%\n",
      "\n",
      "completion_1\n",
      "전체 항목 수: 10126\n",
      "400자 이하 항목 수: 9860\n",
      "비율: 97.37%\n",
      "\n",
      "completion_2\n",
      "전체 항목 수: 10126\n",
      "400자 이하 항목 수: 9860\n",
      "비율: 97.37%\n"
     ]
    }
   ],
   "source": [
    "\n",
    "print('prompt')\n",
    "total, short_count, ratio = get_short_length_ratio(rm_data_dict, field='prompt', max_len=50)\n",
    "print()\n",
    "\n",
    "check_len = 400\n",
    "\n",
    "print('completion_0')\n",
    "total, short_count, ratio = get_short_length_ratio(rm_data_dict, field='completion_0', max_len=check_len)\n",
    "print()\n",
    "print('completion_1')\n",
    "total, short_count, ratio = get_short_length_ratio(rm_data_dict, field='completion_1', max_len=check_len)\n",
    "print()\n",
    "print('completion_2')\n",
    "total, short_count, ratio = get_short_length_ratio(rm_data_dict, field='completion_1', max_len=check_len)"
   ]
  },
  {
   "cell_type": "code",
   "execution_count": 35,
   "id": "e06b7195",
   "metadata": {},
   "outputs": [],
   "source": [
    "data_save_path_RM = './data/clean_kochatgpt_1_RM.jsonl'\n",
    "save_jsonl(rm_data_dict, data_save_path_RM)"
   ]
  },
  {
   "cell_type": "code",
   "execution_count": 36,
   "id": "5dd806f7",
   "metadata": {},
   "outputs": [
    {
     "name": "stdout",
     "output_type": "stream",
     "text": [
      "10126\n"
     ]
    },
    {
     "data": {
      "text/plain": [
       "[{'prompt': '번디는 자신이 탐정잡지 , 범죄소설 그리고 성범죄 관련 실제 범죄 다큐멘터리들을 탐독했다고 누구에게 말했나 ?',\n",
       "  'completion_0': 'allow me to answer your question . i know that you are curious about me .',\n",
       "  'completion_1': '번디는 다양한 인터뷰자들과 뉴스홍보 담당자들과의 면담 때 밝혔다 .',\n",
       "  'completion_2': '라이언에게 말했다 .',\n",
       "  'ranking': [2, 1, 0]},\n",
       " {'prompt': '개포주공아파트는 몇 단지로 이루어져 있나 ?',\n",
       "  'completion_0': '개포주공아파트는 다섯 단지로 이루어져 있습니다 .',\n",
       "  'completion_1': '이날 목송에서 구글상위노',\n",
       "  'completion_2': '개포주공아파트는 총 27개 단지로 이루어져 있습니다 .',\n",
       "  'ranking': [2, 0, 1]},\n",
       " {'prompt': '김영삼의 후보 시절 지역표심을 겨냥한 발언을 문제삼은 후보는 ?',\n",
       "  'completion_0': 'the diameter of the metallic domain is bigger than the hyperonic domain .',\n",
       "  'completion_1': '이 질문은 조금 불분명합니다 . 김영삼 대통령이 후보 시절에 어떤 발언을 했고 , 누가 그 발언을 문제삼았는지에 따라 답이 다를 수 있습니다 . 만약 김영삼 대통령이 후보 시절에 지역표심을 겨냥한 발언을 했다는 가정하에 , 그 발언을 문제삼은 후보가 누구였는지를 대답하자면 , 그 답은 이화선 당시 민주당 대통령 후보가 될 것입니다 . 1992년 총선 때 , 김영삼 대선후보는 집값이 오른 노량진역 부근의 부동산 가격은 세월호 폭침 후 강남 도시재생 일환으로 상승했다 는 발언을 했습니다 . 하지만 이화선 후보는 이 발언을 전국적으로 경제적 발전이 이루어지지 않은 지방민의 마음을 멀리해지려는 무례한 발언 이라고 비판하며 문제삼았습니다 . 하지만 , 이 질문을 답변하는 데 있어서 보다 명확한 정보가 있으면 답변을 보완할 수 있습니다 .',\n",
       "  'completion_2': '김영삼의 후보 시절에 지역표심을 겨냥한 발언은 대통령 당선 전까지 대한민국 정부가 추구하고 있는 민주주의 광범위하게 확립과 보수의 사상을 이어가는 데 있어 지역경제 발전과 공공서비스 신속 개선을 위해 합리적인 국가 정책에 따르는 방향성을 제시하고 있습니다 .',\n",
       "  'ranking': [1, 2, 0]}]"
      ]
     },
     "execution_count": 36,
     "metadata": {},
     "output_type": "execute_result"
    }
   ],
   "source": [
    "with open(data_save_path_RM, \"r\", encoding='utf-8-sig') as json_file:\n",
    "    rm_tmp = json.load(json_file)\n",
    "\n",
    "print(len(rm_tmp))\n",
    "rm_tmp[:3]"
   ]
  },
  {
   "cell_type": "markdown",
   "id": "18250c0f",
   "metadata": {},
   "source": [
    "**RM 데이타 파일의 문제점 -- ranking 정보가 맞지 않는 데이타 셋이 있음**"
   ]
  },
  {
   "cell_type": "markdown",
   "id": "2c3a44c5",
   "metadata": {},
   "source": [
    "**3) PPO Data**"
   ]
  },
  {
   "cell_type": "code",
   "execution_count": 37,
   "id": "64f3f7b3",
   "metadata": {
    "scrolled": true
   },
   "outputs": [
    {
     "name": "stdout",
     "output_type": "stream",
     "text": [
      "12000\n"
     ]
    },
    {
     "data": {
      "text/plain": [
       "[{'prompt': '번디는 자신이 탐정잡지, 범죄소설 그리고 성범죄 관련 실제 범죄 다큐멘터리들을 탐독했다고 누구에게 말했나?'},\n",
       " {'prompt': '개포주공아파트는 몇 단지로 이루어져 있나?'},\n",
       " {'prompt': '김영삼의 후보 시절 지역표심을 겨냥한 발언을 문제삼은 후보는?'}]"
      ]
     },
     "execution_count": 37,
     "metadata": {},
     "output_type": "execute_result"
    }
   ],
   "source": [
    "data_path_3_PPO = '/aiffel/KoChatGPT/data_kochatgpt/kochatgpt_3_PPO.jsonl'\n",
    "with open(data_path_3_PPO, \"r\", encoding='utf-8-sig') as json_file:\n",
    "    ppo_data_dict = json.load(json_file)\n",
    "\n",
    "print(len(ppo_data_dict))\n",
    "ppo_data_dict[:3]"
   ]
  },
  {
   "cell_type": "code",
   "execution_count": 38,
   "id": "e4427eb6",
   "metadata": {
    "scrolled": true
   },
   "outputs": [
    {
     "name": "stdout",
     "output_type": "stream",
     "text": [
      "총 샘플 수: 12000\n",
      "최소 토큰 수: 0\n",
      "최대 토큰 수: 295\n",
      "평균 토큰 수: 22.18\n"
     ]
    },
    {
     "data": {
      "image/png": "[encoded data removed]",
      "text/plain": [
       "<Figure size 432x288 with 1 Axes>"
      ]
     },
     "metadata": {
      "needs_background": "light"
     },
     "output_type": "display_data"
    }
   ],
   "source": [
    "import matplotlib.pyplot as plt\n",
    "\n",
    "# 1. 문자 수 리스트 추출\n",
    "token_lengths = [len(item['prompt'].strip()) for item in ppo_data_dict if 'prompt' in item]\n",
    "\n",
    "# 2. 간단한 통계 출력\n",
    "print(f\"총 샘플 수: {len(token_lengths)}\")\n",
    "print(f\"최소 토큰 수: {min(token_lengths)}\")\n",
    "print(f\"최대 토큰 수: {max(token_lengths)}\")\n",
    "print(f\"평균 토큰 수: {sum(token_lengths)/len(token_lengths):.2f}\")\n",
    "\n",
    "# 3. 분포 시각화 (히스토그램)\n",
    "plt.hist(token_lengths, bins=30, color='skyblue', edgecolor='black')\n",
    "plt.title(\"PPO Prompt 토큰 길이 분포\")\n",
    "plt.xlabel(\"Token Count\")\n",
    "plt.ylabel(\"Frequency\")\n",
    "plt.grid(True)\n",
    "plt.show()"
   ]
  },
  {
   "cell_type": "code",
   "execution_count": 39,
   "id": "7ae6e32f",
   "metadata": {},
   "outputs": [
    {
     "name": "stdout",
     "output_type": "stream",
     "text": [
      "prompt\n",
      "전체 항목 수: 12000\n",
      "1자 이하 항목 수: 8\n",
      "비율: 0.07%\n",
      "\n"
     ]
    }
   ],
   "source": [
    "check_len = 1\n",
    "\n",
    "print('prompt')\n",
    "total, short_count, ratio = get_short_length_ratio(ppo_data_dict, field='prompt', max_len=check_len)\n",
    "print()"
   ]
  },
  {
   "cell_type": "code",
   "execution_count": 40,
   "id": "b6bf925e",
   "metadata": {},
   "outputs": [
    {
     "name": "stdout",
     "output_type": "stream",
     "text": [
      "{'prompt': '음'}\n",
      "{'prompt': '네'}\n",
      "{'prompt': '후'}\n",
      "{'prompt': '휴'}\n",
      "{'prompt': '헉'}\n"
     ]
    }
   ],
   "source": [
    "for item in ppo_data_dict :\n",
    "    if len(item['prompt']) ==1 :\n",
    "         print(item )"
   ]
  },
  {
   "cell_type": "code",
   "execution_count": 41,
   "id": "2711c899",
   "metadata": {},
   "outputs": [
    {
     "data": {
      "text/plain": [
       "11992"
      ]
     },
     "execution_count": 41,
     "metadata": {},
     "output_type": "execute_result"
    }
   ],
   "source": [
    "# prompt가 비어있지 않은 항목만 남김\n",
    "ppo_data_dict = [item for item in ppo_data_dict if 'prompt' in item and len(item['prompt']) > 1]\n",
    "len(ppo_data_dict)"
   ]
  },
  {
   "cell_type": "code",
   "execution_count": 42,
   "id": "3872f5aa",
   "metadata": {},
   "outputs": [],
   "source": [
    "data_save_path_PPO = './data/clean_kochatgpt_1_PPO.jsonl'\n",
    "save_jsonl(ppo_data_dict, data_save_path_PPO)"
   ]
  },
  {
   "cell_type": "code",
   "execution_count": 43,
   "id": "1c8c1612",
   "metadata": {
    "scrolled": true
   },
   "outputs": [
    {
     "name": "stdout",
     "output_type": "stream",
     "text": [
      "11992\n"
     ]
    },
    {
     "data": {
      "text/plain": [
       "[{'prompt': '번디는 자신이 탐정잡지, 범죄소설 그리고 성범죄 관련 실제 범죄 다큐멘터리들을 탐독했다고 누구에게 말했나?'},\n",
       " {'prompt': '개포주공아파트는 몇 단지로 이루어져 있나?'},\n",
       " {'prompt': '김영삼의 후보 시절 지역표심을 겨냥한 발언을 문제삼은 후보는?'}]"
      ]
     },
     "execution_count": 43,
     "metadata": {},
     "output_type": "execute_result"
    }
   ],
   "source": [
    "with open(data_save_path_PPO, \"r\", encoding='utf-8-sig') as json_file:\n",
    "    ppo_tmp = json.load(json_file)\n",
    "\n",
    "print(len(ppo_tmp))\n",
    "ppo_tmp[:3]"
   ]
  },
  {
   "cell_type": "markdown",
   "id": "6012921c",
   "metadata": {},
   "source": [
    "# < 회고 >"
   ]
  },
  {
   "cell_type": "markdown",
   "id": "41c59ff4",
   "metadata": {},
   "source": [
    "###  데이터 정제 \n",
    "1. 소문자로 변환\n",
    "2. 이스케이프된 줄바꿈 문자열 제거 (예: '\\\\n', '\\\\n\\\\n')\n",
    "3. 알파벳, 문장부호([?.!,]), 숫자, 한글만 남기고 모두 제거\n",
    "4. 문장부호 양옆에 공백 추가\n",
    "5. 단어로 'n' 제거 (띄어쓰기 기반, 예: \" n \" 또는 \"n.\")\n",
    "6. 여러 공백을 하나로 축소\n",
    "7. 문장 앞뒤 공백 제거"
   ]
  },
  {
   "cell_type": "markdown",
   "id": "8cc7e64c",
   "metadata": {},
   "source": [
    "### SFT 데이타 \n",
    "총 샘플 수: 12000\n",
    "최소 토큰 수: 17\n",
    "최대 토큰 수: 1111\n",
    "평균 토큰 수: 159.31\n",
    "\n",
    "1. prompt에 비어있거나, 의미없는 데이타(length=1) 삭제 "
   ]
  },
  {
   "cell_type": "markdown",
   "id": "37c3ca9b",
   "metadata": {},
   "source": [
    "### RM 데이타\n",
    "총 샘플 수: 10220\n",
    "최소 prompt 토큰 수: 0\n",
    "최대 prompt 토큰 수: 295\n",
    "평균 prompt 토큰 수: 22.20\n",
    "\n",
    "최소 completion_0 토큰 수: 0\n",
    "최대 completion_0 토큰 수: 3088\n",
    "평균 completion_0 토큰 수: 117.49\n",
    "\n",
    "최소 completion_1 토큰 수: 0\n",
    "최대 completion_1 토큰 수: 3694\n",
    "평균 completion_1 토큰 수: 116.81\n",
    "\n",
    "최소 completion_2 토큰 수: 0\n",
    "최대 completion_2 토큰 수: 2979\n",
    "평균 completion_2 토큰 수: 116.0\n",
    "\n",
    "1. 비어있는 prompt, completion_x는 삭제 \n",
    "2. prompt 의 length가 1인 데이타 확인후, 학습에 방해될 데이타로 판단하여 삭제함. \n",
    "3. completion_x의 length가 1인 데이타 중에서 해당 completion_x의 ranking이 2가 아니면 삭제함\n",
    "4. 실제 ranking이 맞지 않는 경우가 보였으나, 따로 정제하지는 않음"
   ]
  },
  {
   "cell_type": "markdown",
   "id": "76af8f7e",
   "metadata": {},
   "source": [
    "### PPO 데이타 \n",
    "총 샘플 수: 12000\n",
    "최소 토큰 수: 0\n",
    "최대 토큰 수: 295\n",
    "평균 토큰 수: 22.18\n",
    "\n",
    "1. prompt에 비어있거나, 의미없는 데이타(length=1) 삭제"
   ]
  }
 ],
 "metadata": {
  "kernelspec": {
   "display_name": "Python 3 (ipykernel)",
   "language": "python",
   "name": "python3"
  },
  "language_info": {
   "codemirror_mode": {
    "name": "ipython",
    "version": 3
   },
   "file_extension": ".py",
   "mimetype": "text/x-python",
   "name": "python",
   "nbconvert_exporter": "python",
   "pygments_lexer": "ipython3",
   "version": "3.9.7"
  }
 },
 "nbformat": 4,
 "nbformat_minor": 5
}
