{
 "cells": [
  {
   "cell_type": "code",
   "execution_count": 1,
   "id": "1e884878",
   "metadata": {},
   "outputs": [
    {
     "name": "stdout",
     "output_type": "stream",
     "text": [
      "Torch version:1.12.1\n",
      "Cuda version: 11.3\n",
      "transformers version: 4.28.0\n",
      "GPU 사용 가능여부: True\n"
     ]
    }
   ],
   "source": [
    "import os\n",
    "os.environ[\"CUDA_VISIBLE_DEVICES\"] = \"0\"\n",
    "import torch\n",
    "import torch.nn as nn\n",
    "from torch.utils.data import Dataset\n",
    "from torch.optim import Adam\n",
    "from datasets import load_dataset\n",
    "import transformers\n",
    "from transformers import AutoTokenizer, AutoModelForCausalLM, pipeline\n",
    "from transformers import Trainer, TrainingArguments\n",
    "from copy import deepcopy\n",
    "import copy\n",
    "import logging\n",
    "import json\n",
    "from dataclasses import dataclass\n",
    "import numpy\n",
    "import pandas as pd\n",
    "from typing import Optional, Dict, Sequence\n",
    "\n",
    "device = \"cuda\" if torch.cuda.is_available() else \"cpu\"\n",
    "\n",
    "print(\"Torch version:{}\".format(torch.__version__)) # Torch version:1.12.1\n",
    "print(\"Cuda version: {}\".format(torch.version.cuda)) # Cuda version: 11.3\n",
    "print(\"transformers version: {}\".format(transformers.__version__)) # transformers 4.28.0\n",
    "print(\"GPU 사용 가능여부: {}\".format(torch.cuda.is_available()))"
   ]
  },
  {
   "cell_type": "code",
   "execution_count": 2,
   "id": "ef1b77df",
   "metadata": {},
   "outputs": [],
   "source": [
    "#torch.cuda.empty_cache()"
   ]
  },
  {
   "cell_type": "code",
   "execution_count": 3,
   "id": "e23bffff",
   "metadata": {
    "scrolled": true
   },
   "outputs": [
    {
     "name": "stdout",
     "output_type": "stream",
     "text": [
      "|===========================================================================|\n",
      "|                  PyTorch CUDA memory summary, device ID 0                 |\n",
      "|---------------------------------------------------------------------------|\n",
      "|            CUDA OOMs: 0            |        cudaMalloc retries: 0         |\n",
      "|===========================================================================|\n",
      "|        Metric         | Cur Usage  | Peak Usage | Tot Alloc  | Tot Freed  |\n",
      "|---------------------------------------------------------------------------|\n",
      "| Allocated memory      |       0 B  |       0 B  |       0 B  |       0 B  |\n",
      "|       from large pool |       0 B  |       0 B  |       0 B  |       0 B  |\n",
      "|       from small pool |       0 B  |       0 B  |       0 B  |       0 B  |\n",
      "|---------------------------------------------------------------------------|\n",
      "| Active memory         |       0 B  |       0 B  |       0 B  |       0 B  |\n",
      "|       from large pool |       0 B  |       0 B  |       0 B  |       0 B  |\n",
      "|       from small pool |       0 B  |       0 B  |       0 B  |       0 B  |\n",
      "|---------------------------------------------------------------------------|\n",
      "| GPU reserved memory   |       0 B  |       0 B  |       0 B  |       0 B  |\n",
      "|       from large pool |       0 B  |       0 B  |       0 B  |       0 B  |\n",
      "|       from small pool |       0 B  |       0 B  |       0 B  |       0 B  |\n",
      "|---------------------------------------------------------------------------|\n",
      "| Non-releasable memory |       0 B  |       0 B  |       0 B  |       0 B  |\n",
      "|       from large pool |       0 B  |       0 B  |       0 B  |       0 B  |\n",
      "|       from small pool |       0 B  |       0 B  |       0 B  |       0 B  |\n",
      "|---------------------------------------------------------------------------|\n",
      "| Allocations           |       0    |       0    |       0    |       0    |\n",
      "|       from large pool |       0    |       0    |       0    |       0    |\n",
      "|       from small pool |       0    |       0    |       0    |       0    |\n",
      "|---------------------------------------------------------------------------|\n",
      "| Active allocs         |       0    |       0    |       0    |       0    |\n",
      "|       from large pool |       0    |       0    |       0    |       0    |\n",
      "|       from small pool |       0    |       0    |       0    |       0    |\n",
      "|---------------------------------------------------------------------------|\n",
      "| GPU reserved segments |       0    |       0    |       0    |       0    |\n",
      "|       from large pool |       0    |       0    |       0    |       0    |\n",
      "|       from small pool |       0    |       0    |       0    |       0    |\n",
      "|---------------------------------------------------------------------------|\n",
      "| Non-releasable allocs |       0    |       0    |       0    |       0    |\n",
      "|       from large pool |       0    |       0    |       0    |       0    |\n",
      "|       from small pool |       0    |       0    |       0    |       0    |\n",
      "|---------------------------------------------------------------------------|\n",
      "| Oversize allocations  |       0    |       0    |       0    |       0    |\n",
      "|---------------------------------------------------------------------------|\n",
      "| Oversize GPU segments |       0    |       0    |       0    |       0    |\n",
      "|===========================================================================|\n",
      "\n"
     ]
    }
   ],
   "source": [
    "print(torch.cuda.memory_summary())"
   ]
  },
  {
   "cell_type": "markdown",
   "id": "38ba4da1",
   "metadata": {},
   "source": [
    "# 0. 전처리된 데이타 파일 로딩"
   ]
  },
  {
   "cell_type": "code",
   "execution_count": 4,
   "id": "1331ae7f",
   "metadata": {},
   "outputs": [],
   "source": [
    "data_save_path_SFT = './data/clean_kochatgpt_1_SFT.jsonl'"
   ]
  },
  {
   "cell_type": "code",
   "execution_count": 5,
   "id": "4ec0b83c",
   "metadata": {
    "scrolled": true
   },
   "outputs": [],
   "source": [
    "\n",
    "\n",
    "#with open(data_save_path_SFT, \"r\", encoding='utf-8-sig') as json_file:\n",
    "#    sft_data_dict = json.load(json_file)\n",
    "\n",
    "#print(len(sft_data_dict))\n",
    "#sft_data_dict[:3]"
   ]
  },
  {
   "cell_type": "markdown",
   "id": "55bb763f",
   "metadata": {},
   "source": [
    "# 1. KOGPT2 모델"
   ]
  },
  {
   "cell_type": "code",
   "execution_count": 16,
   "id": "f50c00a6",
   "metadata": {
    "scrolled": true
   },
   "outputs": [
    {
     "name": "stdout",
     "output_type": "stream",
     "text": [
      "GPT2TokenizerFast(name_or_path='skt/kogpt2-base-v2', vocab_size=51200, model_max_length=512, is_fast=True, padding_side='right', truncation_side='right', special_tokens={'bos_token': '</s>', 'eos_token': '</s>', 'unk_token': '</s>', 'pad_token': '</s>'}, clean_up_tokenization_spaces=True)\n"
     ]
    }
   ],
   "source": [
    "model_name = \"skt/kogpt2-base-v2\"\n",
    "model = AutoModelForCausalLM.from_pretrained(model_name).to(device)  # GPU 또는 CPU\n",
    "\n",
    "tokenizer = AutoTokenizer.from_pretrained(\n",
    "    model_name, bos_token='</s>', eos_token='</s>', unk_token='</s>', pad_token='</s>',\n",
    "    padding_side=\"right\",\n",
    "    model_max_length=512,\n",
    "    #model_max_length=384,           # CUDA OOM 문제로 줄여보자!!\n",
    ")\n",
    "print(tokenizer)"
   ]
  },
  {
   "cell_type": "code",
   "execution_count": 7,
   "id": "8eb34e6d",
   "metadata": {},
   "outputs": [],
   "source": [
    "@dataclass\n",
    "class DataCollatorForSupervisedDataset(object): \n",
    "\n",
    "    tokenizer: transformers.PreTrainedTokenizer\n",
    "\n",
    "    def __call__(self, instances: Sequence[Dict]) -> Dict[str, torch.Tensor]:\n",
    "        input_ids, labels = tuple([instance[key] for instance in instances] for key in (\"input_ids\", \"labels\"))\n",
    "        input_ids = torch.nn.utils.rnn.pad_sequence(\n",
    "            input_ids, batch_first=True, padding_value=self.tokenizer.pad_token_id\n",
    "        )\n",
    "        # batch 내 label 시퀀스를 길이에 맞춰 패딩(padding)\n",
    "        # padding_value= -100 : 짧은 시퀀스를 맞추기 위해 채울 값\n",
    "        # PyTorch의 nn.CrossEntropyLoss()에서는 ignore_index=-100이 기본값\n",
    "        labels = torch.nn.utils.rnn.pad_sequence(labels, batch_first=True, padding_value= -100)\n",
    "        return dict(\n",
    "            input_ids=input_ids,\n",
    "            labels=labels,\n",
    "            attention_mask=input_ids.ne(self.tokenizer.pad_token_id),\n",
    "        )"
   ]
  },
  {
   "cell_type": "code",
   "execution_count": 8,
   "id": "d44b2341",
   "metadata": {},
   "outputs": [],
   "source": [
    "class KoGPT_dataset(Dataset):\n",
    "\n",
    "    def __init__(self, data_path_1_SFT: str, tokenizer: transformers.PreTrainedTokenizer, verbose=False):\n",
    "        super(KoGPT_dataset, self).__init__()\n",
    "        logging.warning(\"Loading data...\")\n",
    "\n",
    "        with open(data_path_1_SFT, \"r\", encoding='utf-8-sig') as json_file:\n",
    "            list_data_dict = json.load(json_file)\n",
    "\n",
    "        sources = []\n",
    "        targets = []\n",
    "        for example in list_data_dict:\n",
    "            sources.append(example['prompt'])\n",
    "            targets.append(example['completion'] + tokenizer.eos_token)\n",
    "          \n",
    "        examples = [s + t for s, t in zip(sources, targets)]\n",
    "\n",
    "        # sources_tokenized는 **입력 마스킹(masking)**에 쓰이고,\n",
    "        # examples_tokenized는 전체 학습 텍스트 + 레이블용 토큰이다\n",
    "        sources_tokenized = self._tokenize_fn(sources, tokenizer)  # source\n",
    "        examples_tokenized = self._tokenize_fn(examples, tokenizer)  # source + target\n",
    "\n",
    "        input_ids = examples_tokenized[\"input_ids\"]\n",
    "        # loss 계산시 label을 정의하는 부분으로, input_ids를 그대로 copy하되\n",
    "        # prompt 부분은 필요없으므로 lable에서 prompt 부분은 -100으로 masking한다. \n",
    "        labels = copy.deepcopy(input_ids)\n",
    "        for label, source_len in zip(labels, sources_tokenized[\"input_ids_lens\"]):\n",
    "            label[:source_len] = -100\n",
    "       \n",
    "\n",
    "        data_dict = dict(input_ids=input_ids, labels=labels)\n",
    "\n",
    "        self.input_ids = data_dict[\"input_ids\"]\n",
    "        self.labels = data_dict[\"labels\"]\n",
    "        logging.warning(\"Loading data done!!: %d\"%(len(self.labels)))\n",
    "\n",
    "\n",
    "    def _tokenize_fn(self, strings: Sequence[str], tokenizer: transformers.PreTrainedTokenizer) -> Dict:\n",
    "        tokenized_list = [\n",
    "            tokenizer(\n",
    "                text,\n",
    "                return_tensors=\"pt\",\n",
    "                padding=\"longest\",\n",
    "                max_length=tokenizer.model_max_length,\n",
    "                truncation=True,\n",
    "            )\n",
    "            for text in strings\n",
    "        ]\n",
    "        input_ids = labels = [tokenized.input_ids[0] for tokenized in tokenized_list]\n",
    "        input_ids_lens = labels_lens = [\n",
    "            tokenized.input_ids.ne(tokenizer.pad_token_id).sum().item() for tokenized in tokenized_list\n",
    "        ]\n",
    "        return dict(\n",
    "            input_ids=input_ids,\n",
    "            labels=labels,\n",
    "            input_ids_lens=input_ids_lens,\n",
    "            labels_lens=labels_lens,\n",
    "        )\n",
    "\n",
    "\n",
    "    def __len__(self):\n",
    "        return len(self.input_ids)\n",
    "\n",
    "\n",
    "    def __getitem__(self, i) -> Dict[str, torch.Tensor]:\n",
    "        return dict(input_ids=self.input_ids[i], labels=self.labels[i])\n"
   ]
  },
  {
   "cell_type": "code",
   "execution_count": 9,
   "id": "1668d1ff",
   "metadata": {
    "scrolled": true
   },
   "outputs": [
    {
     "name": "stderr",
     "output_type": "stream",
     "text": [
      "WARNING:root:Loading data...\n",
      "WARNING:root:Loading data done!!: 11992\n"
     ]
    },
    {
     "name": "stdout",
     "output_type": "stream",
     "text": [
      "<class '__main__.KoGPT_dataset'>\n",
      "11992\n",
      "input : tensor([ 9128, 20479,  8091, 22311,  9036, 30902,  8084,   739,   406, 37767,\n",
      "        13753,  8263,  7166,   739,  8352,  7659,  9639, 11481, 25585, 13600,\n",
      "         8022,  9378, 11532,  9887, 11218,  9111, 16913,  7182, 36510, 10351,\n",
      "        10561,  9128, 20479,  8091,  9065,  9446, 33869, 11481, 46311, 11481,\n",
      "        26367,  6958,  9030,  9882, 12317, 25882,  9209,  8708,  7172,  7182,\n",
      "        36510, 10351,  9036, 12168, 10529, 15989,  9719, 15434, 10552, 11188,\n",
      "         9355, 11481,  9036, 15805, 11300, 11846,  9146, 16913,  7182, 36510,\n",
      "         9181,  7397, 15806, 13480, 11342, 17596,  9161, 19996,  9025, 25006,\n",
      "        18595,  9966, 12592, 10751, 11814,  8711,  9046, 12450,  9117,  7377,\n",
      "         7172,  7182, 36510,     1])\n",
      "output: tensor([ -100,  -100,  -100,  -100,  -100,  -100,  -100,  -100,  -100, 37767,\n",
      "        13753,  8263,  7166,   739,  8352,  7659,  9639, 11481, 25585, 13600,\n",
      "         8022,  9378, 11532,  9887, 11218,  9111, 16913,  7182, 36510, 10351,\n",
      "        10561,  9128, 20479,  8091,  9065,  9446, 33869, 11481, 46311, 11481,\n",
      "        26367,  6958,  9030,  9882, 12317, 25882,  9209,  8708,  7172,  7182,\n",
      "        36510, 10351,  9036, 12168, 10529, 15989,  9719, 15434, 10552, 11188,\n",
      "         9355, 11481,  9036, 15805, 11300, 11846,  9146, 16913,  7182, 36510,\n",
      "         9181,  7397, 15806, 13480, 11342, 17596,  9161, 19996,  9025, 25006,\n",
      "        18595,  9966, 12592, 10751, 11814,  8711,  9046, 12450,  9117,  7377,\n",
      "         7172,  7182, 36510,     1])\n"
     ]
    }
   ],
   "source": [
    "kg_train_dataset = KoGPT_dataset(data_path_1_SFT=data_save_path_SFT, tokenizer=tokenizer)\n",
    "data_collator = DataCollatorForSupervisedDataset(tokenizer=tokenizer)\n",
    "\n",
    "print(type(kg_train_dataset))\n",
    "print(len(kg_train_dataset))\n",
    "print('input : %s'%kg_train_dataset.input_ids[0])\n",
    "print('output: %s'%kg_train_dataset.labels[0])"
   ]
  },
  {
   "cell_type": "code",
   "execution_count": 10,
   "id": "81148257",
   "metadata": {},
   "outputs": [
    {
     "name": "stdout",
     "output_type": "stream",
     "text": [
      "|===========================================================================|\n",
      "|                  PyTorch CUDA memory summary, device ID 0                 |\n",
      "|---------------------------------------------------------------------------|\n",
      "|            CUDA OOMs: 0            |        cudaMalloc retries: 0         |\n",
      "|===========================================================================|\n",
      "|        Metric         | Cur Usage  | Peak Usage | Tot Alloc  | Tot Freed  |\n",
      "|---------------------------------------------------------------------------|\n",
      "| Allocated memory      |  501216 KB |  501216 KB |  501216 KB |       0 B  |\n",
      "|       from large pool |  488448 KB |  488448 KB |  488448 KB |       0 B  |\n",
      "|       from small pool |   12768 KB |   12768 KB |   12768 KB |       0 B  |\n",
      "|---------------------------------------------------------------------------|\n",
      "| Active memory         |  501216 KB |  501216 KB |  501216 KB |       0 B  |\n",
      "|       from large pool |  488448 KB |  488448 KB |  488448 KB |       0 B  |\n",
      "|       from small pool |   12768 KB |   12768 KB |   12768 KB |       0 B  |\n",
      "|---------------------------------------------------------------------------|\n",
      "| GPU reserved memory   |  557056 KB |  557056 KB |  557056 KB |       0 B  |\n",
      "|       from large pool |  542720 KB |  542720 KB |  542720 KB |       0 B  |\n",
      "|       from small pool |   14336 KB |   14336 KB |   14336 KB |       0 B  |\n",
      "|---------------------------------------------------------------------------|\n",
      "| Non-releasable memory |   55840 KB |   55849 KB |  269821 KB |  213981 KB |\n",
      "|       from large pool |   54272 KB |   54272 KB |  261632 KB |  207360 KB |\n",
      "|       from small pool |    1568 KB |    2045 KB |    8189 KB |    6621 KB |\n",
      "|---------------------------------------------------------------------------|\n",
      "| Allocations           |     172    |     172    |     172    |       0    |\n",
      "|       from large pool |      50    |      50    |      50    |       0    |\n",
      "|       from small pool |     122    |     122    |     122    |       0    |\n",
      "|---------------------------------------------------------------------------|\n",
      "| Active allocs         |     172    |     172    |     172    |       0    |\n",
      "|       from large pool |      50    |      50    |      50    |       0    |\n",
      "|       from small pool |     122    |     122    |     122    |       0    |\n",
      "|---------------------------------------------------------------------------|\n",
      "| GPU reserved segments |      27    |      27    |      27    |       0    |\n",
      "|       from large pool |      20    |      20    |      20    |       0    |\n",
      "|       from small pool |       7    |       7    |       7    |       0    |\n",
      "|---------------------------------------------------------------------------|\n",
      "| Non-releasable allocs |      21    |      21    |      26    |       5    |\n",
      "|       from large pool |      19    |      19    |      19    |       0    |\n",
      "|       from small pool |       2    |       2    |       7    |       5    |\n",
      "|---------------------------------------------------------------------------|\n",
      "| Oversize allocations  |       0    |       0    |       0    |       0    |\n",
      "|---------------------------------------------------------------------------|\n",
      "| Oversize GPU segments |       0    |       0    |       0    |       0    |\n",
      "|===========================================================================|\n",
      "\n"
     ]
    }
   ],
   "source": [
    "print(torch.cuda.memory_summary())"
   ]
  },
  {
   "cell_type": "code",
   "execution_count": 11,
   "id": "b9748e37",
   "metadata": {
    "scrolled": true
   },
   "outputs": [
    {
     "name": "stdout",
     "output_type": "stream",
     "text": [
      "[INPUT]:\n",
      "불고기용 고기 한우에요?저는 인공지능 챗봇이며, 직접적으로 식품에 관한 정보를 가지고 있지 않습니다. 하지만 일반적으로 불고기용 고기는 한우, 쇠고기, 돼지고기 등 다양한 종류의 고기를 사용합니다. 하지만 한우는 대표적인 고급 육류로 알려져 있기 때문에, 한우를 사용하는 경우도 많습니다. 알러지나 개별 건강 상태에 따라 다를 수 있으니 충분한 정보 수집 후에 선택해 주시기 바랍니다.\n",
      "\n",
      "[LABEL]:\n",
      "저는 인공지능 챗봇이며, 직접적으로 식품에 관한 정보를 가지고 있지 않습니다. 하지만 일반적으로 불고기용 고기는 한우, 쇠고기, 돼지고기 등 다양한 종류의 고기를 사용합니다. 하지만 한우는 대표적인 고급 육류로 알려져 있기 때문에, 한우를 사용하는 경우도 많습니다. 알러지나 개별 건강 상태에 따라 다를 수 있으니 충분한 정보 수집 후에 선택해 주시기 바랍니다.\n",
      "\n"
     ]
    }
   ],
   "source": [
    "# train_dataset.input_ids[0]를 디코딩해보세요.\n",
    "input_text = tokenizer.decode(kg_train_dataset.input_ids[0] , skip_special_tokens=True)\n",
    "label_text = tokenizer.decode([token for token in  kg_train_dataset.labels[0]  if token != -100], skip_special_tokens=True)\n",
    "\n",
    "print(f\"[INPUT]:\\n{input_text}\\n\")\n",
    "print(f\"[LABEL]:\\n{label_text}\\n\")"
   ]
  },
  {
   "cell_type": "code",
   "execution_count": 25,
   "id": "8991e2f3",
   "metadata": {},
   "outputs": [
    {
     "name": "stdout",
     "output_type": "stream",
     "text": [
      "Train: 9593\n",
      "Validation: 1199\n",
      "Test: 1200\n"
     ]
    }
   ],
   "source": [
    "from torch.utils.data import random_split\n",
    "\n",
    "total_len = len(kg_train_dataset)\n",
    "\n",
    "# train 80%, val 10%, test 10%로 나누기\n",
    "train_size = int(0.8 * total_len)\n",
    "val_size = int(0.1 * total_len)\n",
    "test_size = total_len - train_size - val_size  # 남는 거 처리\n",
    "\n",
    "# 랜덤 시드 고정\n",
    "generator = torch.Generator().manual_seed(42)\n",
    "kg_train, kg_val, kg_test = random_split(kg_train_dataset, [train_size, val_size, test_size], generator=generator)\n",
    "\n",
    "\n",
    "print(f\"Train: {len(kg_train)}\")\n",
    "print(f\"Validation: {len(kg_val)}\")\n",
    "print(f\"Test: {len(kg_test)}\")"
   ]
  },
  {
   "cell_type": "markdown",
   "id": "37a5c0c1",
   "metadata": {},
   "source": [
    "**Metrics**"
   ]
  },
  {
   "cell_type": "code",
   "execution_count": 13,
   "id": "34be41df",
   "metadata": {},
   "outputs": [],
   "source": [
    "import math\n",
    "from datasets import load_metric\n",
    "\n",
    "def compute_metrics(eval_preds):\n",
    "    logits, labels = eval_preds\n",
    "    # shift so that tokens <n> predict <n+1>\n",
    "    shift_logits = logits[..., :-1, :].contiguous()\n",
    "    shift_labels = labels[..., 1:].contiguous()\n",
    "\n",
    "    # Flatten for loss calculation\n",
    "    loss_fct = torch.nn.CrossEntropyLoss(ignore_index=-100)\n",
    "    loss = loss_fct(shift_logits.view(-1, shift_logits.size(-1)), shift_labels.view(-1))\n",
    "    \n",
    "    # Perplexity\n",
    "    perplexity = math.exp(loss.item())\n",
    "\n",
    "    return {\n",
    "        \"loss\": loss.item(),\n",
    "        \"perplexity\": perplexity\n",
    "    }"
   ]
  },
  {
   "cell_type": "code",
   "execution_count": 26,
   "id": "e0612553",
   "metadata": {},
   "outputs": [],
   "source": [
    "output_dir = os.getenv('HOME')+'/aiffel/KoChatGPT/test'\n",
    "\n",
    "training_args = TrainingArguments(\n",
    "    output_dir,\n",
    "    overwrite_output_dir=True,\n",
    "    evaluation_strategy=\"epoch\",        #evaluation하는 빈도\n",
    "    logging_strategy=\"epoch\",           # epoch마다 로그 기록\n",
    "    learning_rate = 2e-5,               #learning_rate\n",
    "    num_train_epochs=1,\n",
    "    per_device_train_batch_size=2,\n",
    "    per_device_eval_batch_size=2,\n",
    "    warmup_steps=5,\n",
    "    #prediction_loss_only=True,\n",
    "    logging_dir=\"./kogpt_logs\",\n",
    "    fp16 = True\n",
    "    )\n",
    "\n",
    "trainer = Trainer(\n",
    "    model=model,\n",
    "    \n",
    "    args=training_args,\n",
    "    data_collator=data_collator,\n",
    "    train_dataset=kg_train,\n",
    "    eval_dataset=kg_val, \n",
    "    tokenizer=tokenizer,\n",
    "    compute_metrics=compute_metrics \n",
    ")"
   ]
  },
  {
   "cell_type": "code",
   "execution_count": null,
   "id": "595b092f",
   "metadata": {
    "scrolled": true
   },
   "outputs": [
    {
     "name": "stderr",
     "output_type": "stream",
     "text": [
      "/opt/conda/lib/python3.9/site-packages/transformers/optimization.py:391: FutureWarning: This implementation of AdamW is deprecated and will be removed in a future version. Use the PyTorch implementation torch.optim.AdamW instead, or set `no_deprecation_warning=True` to disable this warning\n",
      "  warnings.warn(\n"
     ]
    },
    {
     "data": {
      "text/html": [
       "\n",
       "    <div>\n",
       "      \n",
       "      <progress value='934' max='4797' style='width:300px; height:20px; vertical-align: middle;'></progress>\n",
       "      [ 934/4797 02:43 < 11:18, 5.69 it/s, Epoch 0.19/1]\n",
       "    </div>\n",
       "    <table border=\"1\" class=\"dataframe\">\n",
       "  <thead>\n",
       " <tr style=\"text-align: left;\">\n",
       "      <th>Epoch</th>\n",
       "      <th>Training Loss</th>\n",
       "      <th>Validation Loss</th>\n",
       "    </tr>\n",
       "  </thead>\n",
       "  <tbody>\n",
       "  </tbody>\n",
       "</table><p>"
      ],
      "text/plain": [
       "<IPython.core.display.HTML object>"
      ]
     },
     "metadata": {},
     "output_type": "display_data"
    }
   ],
   "source": [
    "trainer.train()"
   ]
  },
  {
   "cell_type": "code",
   "execution_count": 24,
   "id": "0744b7fc",
   "metadata": {},
   "outputs": [
    {
     "data": {
      "text/html": [
       "\n",
       "    <div>\n",
       "      \n",
       "      <progress value='996' max='996' style='width:300px; height:20px; vertical-align: middle;'></progress>\n",
       "      [996/996 00:20]\n",
       "    </div>\n",
       "    "
      ],
      "text/plain": [
       "<IPython.core.display.HTML object>"
      ]
     },
     "metadata": {},
     "output_type": "display_data"
    },
    {
     "data": {
      "text/plain": [
       "{'eval_loss': 2.3260583877563477,\n",
       " 'eval_runtime': 20.2746,\n",
       " 'eval_samples_per_second': 98.251,\n",
       " 'eval_steps_per_second': 49.125,\n",
       " 'epoch': 1.0}"
      ]
     },
     "execution_count": 24,
     "metadata": {},
     "output_type": "execute_result"
    }
   ],
   "source": [
    "trainer.evaluate(kg_test)"
   ]
  },
  {
   "cell_type": "code",
   "execution_count": 23,
   "id": "8d3b105e",
   "metadata": {},
   "outputs": [
    {
     "name": "stdout",
     "output_type": "stream",
     "text": [
      "Step: 5000, Epoch: 1.0, Loss: 2.5694\n",
      "Step: 5000, Epoch: 1.0, Eval Loss: 2.3260583877563477\n"
     ]
    }
   ],
   "source": [
    "for log in trainer.state.log_history:\n",
    "    if 'eval_loss' in log:\n",
    "        print(f\"Step: {log.get('step')}, Epoch: {log.get('epoch')}, Eval Loss: {log.get('eval_loss')}\")\n",
    "    if 'loss' in log:\n",
    "        print(f\"Step: {log.get('step')}, Epoch: {log.get('epoch')}, Loss: {log.get('loss')}\")\n",
    "    if 'perplexity' in log:\n",
    "        print(f\"Step: {log.get('step')}, Epoch: {log.get('epoch')}, Perplexity: {log.get('perplexity')}\")"
   ]
  },
  {
   "cell_type": "code",
   "execution_count": 20,
   "id": "90b4c9ff",
   "metadata": {},
   "outputs": [],
   "source": [
    "import matplotlib.pyplot as plt\n",
    "\n",
    "def display_train_graph(logs) : \n",
    "    train_loss = [log[\"loss\"] for log in logs if \"loss\" in log]\n",
    "    steps = list(range(1, len(train_loss) + 1))\n",
    "    \n",
    "    eval_loss = [log[\"eval_loss\"] for log in logs if \"eval_loss\" in log]\n",
    "    #eval_acc = [log[\"eval_accuracy\"] for log in logs if \"eval_accuracy\" in log]\n",
    "    #eval_f1 = [log[\"eval_f1\"] for log in logs if \"eval_f1\" in log]\n",
    "    # eval_steps = list(range(1, len(eval_loss)) )\n",
    "    \n",
    "    # train_loss 길이에 맞춰 eval_loss, eval_acc, eval_f1 자르기\n",
    "    eval_loss = eval_loss[:len(train_loss)]\n",
    "    #eval_acc = eval_acc[:len(train_loss)]\n",
    "    #eval_f1 = eval_f1[:len(train_loss)]\n",
    "    eval_steps = steps\n",
    "\n",
    "    # 그래프 그리기\n",
    "    plt.figure(figsize=(12, 5))\n",
    "\n",
    "    # Loss 그래프\n",
    "    \n",
    "    plt.plot(steps, train_loss, label=\"Train Loss\") \n",
    "    plt.plot(steps, eval_loss, label=\"Val Loss\", color=\"red\")\n",
    "    plt.xlabel(\"Epoch\")\n",
    "    plt.ylabel(\"Loss\")\n",
    "    plt.title(\"Train Loss per Epoch\")\n",
    "    plt.legend()\n",
    "\n",
    "    plt.tight_layout()\n",
    "    plt.show()"
   ]
  },
  {
   "cell_type": "code",
   "execution_count": 21,
   "id": "869848f0",
   "metadata": {},
   "outputs": [
    {
     "data": {
      "image/png": "[encoded data removed]",
      "text/plain": [
       "<Figure size 864x360 with 1 Axes>"
      ]
     },
     "metadata": {
      "needs_background": "light"
     },
     "output_type": "display_data"
    }
   ],
   "source": [
    "# 학습 후 로그 가져오기\n",
    "kogpt_logs = trainer.state.log_history\n",
    "\n",
    "display_train_graph(logs = kogpt_logs)"
   ]
  }
 ],
 "metadata": {
  "kernelspec": {
   "display_name": "Python 3 (ipykernel)",
   "language": "python",
   "name": "python3"
  },
  "language_info": {
   "codemirror_mode": {
    "name": "ipython",
    "version": 3
   },
   "file_extension": ".py",
   "mimetype": "text/x-python",
   "name": "python",
   "nbconvert_exporter": "python",
   "pygments_lexer": "ipython3",
   "version": "3.9.7"
  }
 },
 "nbformat": 4,
 "nbformat_minor": 5
}
