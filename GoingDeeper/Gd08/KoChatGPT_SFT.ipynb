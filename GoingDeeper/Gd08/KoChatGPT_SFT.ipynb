{
 "cells": [
  {
   "cell_type": "code",
   "execution_count": 1,
   "id": "fac1adf6",
   "metadata": {},
   "outputs": [
    {
     "name": "stdout",
     "output_type": "stream",
     "text": [
      "Torch version:1.12.1\n",
      "Cuda version: 11.3\n",
      "transformers version: 4.28.0\n",
      "GPU 사용 가능여부: True\n"
     ]
    }
   ],
   "source": [
    "import os\n",
    "os.environ[\"CUDA_VISIBLE_DEVICES\"] = \"0\"\n",
    "import torch\n",
    "import torch.nn as nn\n",
    "from torch.utils.data import Dataset\n",
    "from torch.optim import Adam\n",
    "from datasets import load_dataset\n",
    "import transformers\n",
    "from transformers import AutoTokenizer, AutoModelForCausalLM, pipeline\n",
    "from transformers import Trainer, TrainingArguments\n",
    "from copy import deepcopy\n",
    "import copy\n",
    "import logging\n",
    "import json\n",
    "from dataclasses import dataclass\n",
    "import numpy\n",
    "import pandas as pd\n",
    "from typing import Optional, Dict, Sequence\n",
    "\n",
    "device = \"cuda\" if torch.cuda.is_available() else \"cpu\"\n",
    "\n",
    "print(\"Torch version:{}\".format(torch.__version__)) # Torch version:1.12.1\n",
    "print(\"Cuda version: {}\".format(torch.version.cuda)) # Cuda version: 11.3\n",
    "print(\"transformers version: {}\".format(transformers.__version__)) # transformers 4.28.0\n",
    "print(\"GPU 사용 가능여부: {}\".format(torch.cuda.is_available()))"
   ]
  },
  {
   "cell_type": "code",
   "execution_count": 2,
   "id": "fb81c646",
   "metadata": {},
   "outputs": [],
   "source": [
    "os.environ[\"PYTORCH_CUDA_ALLOC_CONF\"] = \"max_split_size_mb:128\""
   ]
  },
  {
   "cell_type": "code",
   "execution_count": 3,
   "id": "68009bcd",
   "metadata": {},
   "outputs": [],
   "source": [
    "#torch.cuda.empty_cache()"
   ]
  },
  {
   "cell_type": "code",
   "execution_count": 4,
   "id": "cf8a90dd",
   "metadata": {
    "scrolled": true
   },
   "outputs": [
    {
     "name": "stdout",
     "output_type": "stream",
     "text": [
      "|===========================================================================|\n",
      "|                  PyTorch CUDA memory summary, device ID 0                 |\n",
      "|---------------------------------------------------------------------------|\n",
      "|            CUDA OOMs: 0            |        cudaMalloc retries: 0         |\n",
      "|===========================================================================|\n",
      "|        Metric         | Cur Usage  | Peak Usage | Tot Alloc  | Tot Freed  |\n",
      "|---------------------------------------------------------------------------|\n",
      "| Allocated memory      |       0 B  |       0 B  |       0 B  |       0 B  |\n",
      "|       from large pool |       0 B  |       0 B  |       0 B  |       0 B  |\n",
      "|       from small pool |       0 B  |       0 B  |       0 B  |       0 B  |\n",
      "|---------------------------------------------------------------------------|\n",
      "| Active memory         |       0 B  |       0 B  |       0 B  |       0 B  |\n",
      "|       from large pool |       0 B  |       0 B  |       0 B  |       0 B  |\n",
      "|       from small pool |       0 B  |       0 B  |       0 B  |       0 B  |\n",
      "|---------------------------------------------------------------------------|\n",
      "| GPU reserved memory   |       0 B  |       0 B  |       0 B  |       0 B  |\n",
      "|       from large pool |       0 B  |       0 B  |       0 B  |       0 B  |\n",
      "|       from small pool |       0 B  |       0 B  |       0 B  |       0 B  |\n",
      "|---------------------------------------------------------------------------|\n",
      "| Non-releasable memory |       0 B  |       0 B  |       0 B  |       0 B  |\n",
      "|       from large pool |       0 B  |       0 B  |       0 B  |       0 B  |\n",
      "|       from small pool |       0 B  |       0 B  |       0 B  |       0 B  |\n",
      "|---------------------------------------------------------------------------|\n",
      "| Allocations           |       0    |       0    |       0    |       0    |\n",
      "|       from large pool |       0    |       0    |       0    |       0    |\n",
      "|       from small pool |       0    |       0    |       0    |       0    |\n",
      "|---------------------------------------------------------------------------|\n",
      "| Active allocs         |       0    |       0    |       0    |       0    |\n",
      "|       from large pool |       0    |       0    |       0    |       0    |\n",
      "|       from small pool |       0    |       0    |       0    |       0    |\n",
      "|---------------------------------------------------------------------------|\n",
      "| GPU reserved segments |       0    |       0    |       0    |       0    |\n",
      "|       from large pool |       0    |       0    |       0    |       0    |\n",
      "|       from small pool |       0    |       0    |       0    |       0    |\n",
      "|---------------------------------------------------------------------------|\n",
      "| Non-releasable allocs |       0    |       0    |       0    |       0    |\n",
      "|       from large pool |       0    |       0    |       0    |       0    |\n",
      "|       from small pool |       0    |       0    |       0    |       0    |\n",
      "|---------------------------------------------------------------------------|\n",
      "| Oversize allocations  |       0    |       0    |       0    |       0    |\n",
      "|---------------------------------------------------------------------------|\n",
      "| Oversize GPU segments |       0    |       0    |       0    |       0    |\n",
      "|===========================================================================|\n",
      "\n"
     ]
    }
   ],
   "source": [
    "print(torch.cuda.memory_summary())"
   ]
  },
  {
   "cell_type": "markdown",
   "id": "300cd1af",
   "metadata": {},
   "source": [
    "# 0. 전처리된 데이타 파일 로딩"
   ]
  },
  {
   "cell_type": "code",
   "execution_count": 5,
   "id": "f81cec94",
   "metadata": {},
   "outputs": [],
   "source": [
    "data_save_path_SFT = './data/clean_kochatgpt_1_SFT.jsonl'"
   ]
  },
  {
   "cell_type": "code",
   "execution_count": 6,
   "id": "bddebca4",
   "metadata": {
    "scrolled": true
   },
   "outputs": [],
   "source": [
    "\n",
    "\n",
    "#with open(data_save_path_SFT, \"r\", encoding='utf-8-sig') as json_file:\n",
    "#    sft_data_dict = json.load(json_file)\n",
    "\n",
    "#print(len(sft_data_dict))\n",
    "#sft_data_dict[:3]"
   ]
  },
  {
   "cell_type": "markdown",
   "id": "8e1c66c5",
   "metadata": {},
   "source": [
    "## 공통 함수"
   ]
  },
  {
   "cell_type": "code",
   "execution_count": 10,
   "id": "e509dab3",
   "metadata": {},
   "outputs": [],
   "source": [
    "import math\n",
    "from datasets import load_metric\n",
    "\n",
    "def compute_metrics(eval_preds):\n",
    "    logits, labels = eval_preds\n",
    "    # shift so that tokens <n> predict <n+1>\n",
    "    shift_logits = logits[..., :-1, :].contiguous()\n",
    "    shift_labels = labels[..., 1:].contiguous()\n",
    "\n",
    "    # Flatten for loss calculation\n",
    "    loss_fct = torch.nn.CrossEntropyLoss(ignore_index=-100)\n",
    "    loss = loss_fct(shift_logits.view(-1, shift_logits.size(-1)), shift_labels.view(-1))\n",
    "    \n",
    "    # Perplexity\n",
    "    perplexity = math.exp(loss.item())\n",
    "\n",
    "    return {\n",
    "        \"loss\": loss.item(),\n",
    "        \"perplexity\": perplexity\n",
    "    }"
   ]
  },
  {
   "cell_type": "code",
   "execution_count": 12,
   "id": "1c5a14fd",
   "metadata": {},
   "outputs": [],
   "source": [
    "import matplotlib.pyplot as plt\n",
    "\n",
    "def display_train_graph(logs) : \n",
    "    \n",
    "    for log in logs:\n",
    "        if 'eval_loss' in log:\n",
    "            print(f\"Step: {log.get('step')}, Epoch: {log.get('epoch')}, Eval Loss: {log.get('eval_loss')}\")\n",
    "        if 'loss' in log:\n",
    "            print(f\"Step: {log.get('step')}, Epoch: {log.get('epoch')}, Loss: {log.get('loss')}\")\n",
    "        if 'perplexity' in log:\n",
    "            print(f\"Step: {log.get('step')}, Epoch: {log.get('epoch')}, Perplexity: {log.get('perplexity')}\")\n",
    "    \n",
    "    \n",
    "    train_loss = [log[\"loss\"] for log in logs if \"loss\" in log]\n",
    "    steps = list(range(1, len(train_loss) + 1))\n",
    "    \n",
    "    eval_loss = [log[\"eval_loss\"] for log in logs if \"eval_loss\" in log]\n",
    "    #eval_acc = [log[\"eval_accuracy\"] for log in logs if \"eval_accuracy\" in log]\n",
    "    #eval_f1 = [log[\"eval_f1\"] for log in logs if \"eval_f1\" in log]\n",
    "    # eval_steps = list(range(1, len(eval_loss)) )\n",
    "    \n",
    "    # train_loss 길이에 맞춰 eval_loss, eval_acc, eval_f1 자르기\n",
    "    eval_loss = eval_loss[:len(train_loss)]\n",
    "    #eval_acc = eval_acc[:len(train_loss)]\n",
    "    #eval_f1 = eval_f1[:len(train_loss)]\n",
    "    eval_steps = steps\n",
    "\n",
    "    # 그래프 그리기\n",
    "    plt.figure(figsize=(12, 5))\n",
    "\n",
    "    # Loss 그래프\n",
    "    \n",
    "    plt.plot(steps, train_loss, label=\"Train Loss\") \n",
    "    plt.plot(steps, eval_loss, label=\"Val Loss\", color=\"red\")\n",
    "    plt.xlabel(\"Epoch\")\n",
    "    plt.ylabel(\"Loss\")\n",
    "    plt.title(\"Train Loss per Epoch\")\n",
    "    plt.legend()\n",
    "\n",
    "    plt.tight_layout()\n",
    "    plt.show()"
   ]
  },
  {
   "cell_type": "code",
   "execution_count": 13,
   "id": "01cc53f8",
   "metadata": {},
   "outputs": [],
   "source": [
    "from rouge import Rouge\n",
    "import seaborn as sns\n",
    "import numpy as np\n",
    "import pandas as pd\n",
    "import matplotlib.pyplot as plt\n",
    "\n",
    "def compute_rouge(refs, preds): \n",
    "    rouge = Rouge()\n",
    "    all_scores = []\n",
    "    results = []\n",
    "    \n",
    "    for ref, pred in zip(refs, preds):\n",
    "        if ref.strip() == \"\" or pred.strip() == \"\":\n",
    "            continue\n",
    "        \n",
    "        score = rouge.get_scores(pred, ref)[0]\n",
    "        all_scores.append(score)\n",
    "        \n",
    "        results.append({\n",
    "            'ROUGE-1': score['rouge-1']['f'],\n",
    "            'ROUGE-2': score['rouge-2']['f'],\n",
    "            'ROUGE-L': score['rouge-l']['f']\n",
    "        })\n",
    "    \n",
    "    # 평균값\n",
    "    rouge_1 = np.mean([s['rouge-1']['f'] for s in all_scores])\n",
    "    rouge_2 = np.mean([s['rouge-2']['f'] for s in all_scores])\n",
    "    rouge_l = np.mean([s['rouge-l']['f'] for s in all_scores])\n",
    "    \n",
    "    print(\"📊 평균 ROUGE 점수\")\n",
    "    print(f\"ROUGE-1 F1: {rouge_1:.4f}\")\n",
    "    print(f\"ROUGE-2 F1: {rouge_2:.4f}\")\n",
    "    print(f\"ROUGE-L F1: {rouge_l:.4f}\") \n",
    "    \n",
    "    # 그래프\n",
    "    df = pd.DataFrame(results)\n",
    " \n",
    "    plt.figure(figsize=(12, 6))\n",
    "    sns.boxplot(data=df[['ROUGE-1', 'ROUGE-2', 'ROUGE-L']])\n",
    "    plt.title(\"ROUGE Score Distribution\")\n",
    "    plt.show()\n"
   ]
  },
  {
   "cell_type": "markdown",
   "id": "6c22c6ce",
   "metadata": {},
   "source": [
    "# 1. KOGPT2 모델"
   ]
  },
  {
   "cell_type": "code",
   "execution_count": 10,
   "id": "4849270e",
   "metadata": {
    "scrolled": true
   },
   "outputs": [
    {
     "name": "stdout",
     "output_type": "stream",
     "text": [
      "GPT2TokenizerFast(name_or_path='skt/kogpt2-base-v2', vocab_size=51200, model_max_length=384, is_fast=True, padding_side='right', truncation_side='right', special_tokens={'bos_token': '</s>', 'eos_token': '</s>', 'unk_token': '</s>', 'pad_token': '</s>'}, clean_up_tokenization_spaces=True)\n"
     ]
    }
   ],
   "source": [
    "model_name = \"skt/kogpt2-base-v2\"\n",
    "model = AutoModelForCausalLM.from_pretrained(model_name).to(device)  # GPU 또는 CPU\n",
    "\n",
    "tokenizer = AutoTokenizer.from_pretrained(\n",
    "    model_name, bos_token='</s>', eos_token='</s>', unk_token='</s>', pad_token='</s>',\n",
    "    padding_side=\"right\",\n",
    "    #model_max_length=512,\n",
    "    model_max_length=384,           # CUDA OOM 문제로 줄여보자!!\n",
    ")\n",
    "print(tokenizer)"
   ]
  },
  {
   "cell_type": "code",
   "execution_count": 11,
   "id": "ed577e0c",
   "metadata": {},
   "outputs": [],
   "source": [
    "@dataclass\n",
    "class DataCollatorForSupervisedDataset(object): \n",
    "\n",
    "    tokenizer: transformers.PreTrainedTokenizer\n",
    "\n",
    "    def __call__(self, instances: Sequence[Dict]) -> Dict[str, torch.Tensor]:\n",
    "        input_ids, labels = tuple([instance[key] for instance in instances] for key in (\"input_ids\", \"labels\"))\n",
    "        input_ids = torch.nn.utils.rnn.pad_sequence(\n",
    "            input_ids, batch_first=True, padding_value=self.tokenizer.pad_token_id\n",
    "        )\n",
    "        # batch 내 label 시퀀스를 길이에 맞춰 패딩(padding)\n",
    "        # padding_value= -100 : 짧은 시퀀스를 맞추기 위해 채울 값\n",
    "        # PyTorch의 nn.CrossEntropyLoss()에서는 ignore_index=-100이 기본값\n",
    "        labels = torch.nn.utils.rnn.pad_sequence(labels, batch_first=True, padding_value= -100)\n",
    "        return dict(\n",
    "            input_ids=input_ids,\n",
    "            labels=labels,\n",
    "            attention_mask=input_ids.ne(self.tokenizer.pad_token_id),\n",
    "        )"
   ]
  },
  {
   "cell_type": "code",
   "execution_count": 38,
   "id": "7755881c",
   "metadata": {},
   "outputs": [],
   "source": [
    "class KoGPT_dataset(Dataset):\n",
    "\n",
    "    def __init__(self, data_path_1_SFT: str, tokenizer: transformers.PreTrainedTokenizer, verbose=False):\n",
    "        super(KoGPT_dataset, self).__init__()\n",
    "        logging.warning(\"Loading data...\")\n",
    "\n",
    "        with open(data_path_1_SFT, \"r\", encoding='utf-8-sig') as json_file:\n",
    "            list_data_dict = json.load(json_file)\n",
    "\n",
    "        sources = []\n",
    "        targets = []\n",
    "        for example in list_data_dict:\n",
    "            sources.append(example['prompt'])\n",
    "            targets.append(example['completion'] + tokenizer.eos_token)\n",
    "          \n",
    "        examples = [s + t for s, t in zip(sources, targets)]\n",
    "\n",
    "        # sources_tokenized는 **입력 마스킹(masking)**에 쓰이고,\n",
    "        # examples_tokenized는 전체 학습 텍스트 + 레이블용 토큰이다\n",
    "        sources_tokenized = self._tokenize_fn(sources, tokenizer)  # source\n",
    "        examples_tokenized = self._tokenize_fn(examples, tokenizer)  # source + target\n",
    "\n",
    "        source_ids = sources_tokenized[\"input_ids\"]\n",
    "        input_ids = examples_tokenized[\"input_ids\"]\n",
    "        # loss 계산시 label을 정의하는 부분으로, input_ids를 그대로 copy하되\n",
    "        # prompt 부분은 필요없으므로 lable에서 prompt 부분은 -100으로 masking한다. \n",
    "        labels = copy.deepcopy(input_ids)\n",
    "        for label, source_len in zip(labels, sources_tokenized[\"input_ids_lens\"]):\n",
    "            label[:source_len] = -100\n",
    "       \n",
    "\n",
    "        data_dict = dict(input_ids=input_ids, labels=labels, source_ids=source_ids)\n",
    "\n",
    "        self.input_ids = data_dict[\"input_ids\"]\n",
    "        self.labels = data_dict[\"labels\"]\n",
    "        self.source_ids = data_dict[\"source_ids\"]\n",
    "        logging.warning(\"Loading data done!!: %d\"%(len(self.labels)))\n",
    "\n",
    "\n",
    "    def _tokenize_fn(self, strings: Sequence[str], tokenizer: transformers.PreTrainedTokenizer) -> Dict:\n",
    "        tokenized_list = [\n",
    "            tokenizer(\n",
    "                text,\n",
    "                return_tensors=\"pt\",\n",
    "                padding=\"longest\",\n",
    "                max_length=tokenizer.model_max_length,\n",
    "                truncation=True,\n",
    "            )\n",
    "            for text in strings\n",
    "        ]\n",
    "        input_ids = labels = [tokenized.input_ids[0] for tokenized in tokenized_list]\n",
    "        input_ids_lens = labels_lens = [\n",
    "            tokenized.input_ids.ne(tokenizer.pad_token_id).sum().item() for tokenized in tokenized_list\n",
    "        ]\n",
    "        return dict(\n",
    "            input_ids=input_ids,\n",
    "            labels=labels,\n",
    "            input_ids_lens=input_ids_lens,\n",
    "            labels_lens=labels_lens,\n",
    "        )\n",
    "\n",
    "\n",
    "    def __len__(self):\n",
    "        return len(self.input_ids)\n",
    "\n",
    "\n",
    "    def __getitem__(self, i) -> Dict[str, torch.Tensor]:\n",
    "        return dict(input_ids=self.input_ids[i], labels=self.labels[i], source_ids=self.source_ids[i])\n"
   ]
  },
  {
   "cell_type": "code",
   "execution_count": 40,
   "id": "db1cc0f3",
   "metadata": {
    "scrolled": true
   },
   "outputs": [
    {
     "name": "stderr",
     "output_type": "stream",
     "text": [
      "WARNING:root:Loading data...\n",
      "WARNING:root:Loading data done!!: 11992\n"
     ]
    },
    {
     "name": "stdout",
     "output_type": "stream",
     "text": [
      "<class '__main__.KoGPT_dataset'>\n",
      "11992\n",
      "input : tensor([ 9128, 20479,  8091, 22311,  9036, 30902,  8084,   739,   406, 37767,\n",
      "        13753,  8263,  7166,   739,  8352,  7659,  9639, 11481, 25585, 13600,\n",
      "         8022,  9378, 11532,  9887, 11218,  9111, 16913,  7182, 36510, 10351,\n",
      "        10561,  9128, 20479,  8091,  9065,  9446, 33869, 11481, 46311, 11481,\n",
      "        26367,  6958,  9030,  9882, 12317, 25882,  9209,  8708,  7172,  7182,\n",
      "        36510, 10351,  9036, 12168, 10529, 15989,  9719, 15434, 10552, 11188,\n",
      "         9355, 11481,  9036, 15805, 11300, 11846,  9146, 16913,  7182, 36510,\n",
      "         9181,  7397, 15806, 13480, 11342, 17596,  9161, 19996,  9025, 25006,\n",
      "        18595,  9966, 12592, 10751, 11814,  8711,  9046, 12450,  9117,  7377,\n",
      "         7172,  7182, 36510,     1])\n",
      "output: tensor([ -100,  -100,  -100,  -100,  -100,  -100,  -100,  -100,  -100, 37767,\n",
      "        13753,  8263,  7166,   739,  8352,  7659,  9639, 11481, 25585, 13600,\n",
      "         8022,  9378, 11532,  9887, 11218,  9111, 16913,  7182, 36510, 10351,\n",
      "        10561,  9128, 20479,  8091,  9065,  9446, 33869, 11481, 46311, 11481,\n",
      "        26367,  6958,  9030,  9882, 12317, 25882,  9209,  8708,  7172,  7182,\n",
      "        36510, 10351,  9036, 12168, 10529, 15989,  9719, 15434, 10552, 11188,\n",
      "         9355, 11481,  9036, 15805, 11300, 11846,  9146, 16913,  7182, 36510,\n",
      "         9181,  7397, 15806, 13480, 11342, 17596,  9161, 19996,  9025, 25006,\n",
      "        18595,  9966, 12592, 10751, 11814,  8711,  9046, 12450,  9117,  7377,\n",
      "         7172,  7182, 36510,     1])\n",
      "source: tensor([ 9128, 20479,  8091, 22311,  9036, 30902,  8084,   739,   406])\n"
     ]
    }
   ],
   "source": [
    "kg_train_dataset = KoGPT_dataset(data_path_1_SFT=data_save_path_SFT, tokenizer=tokenizer)\n",
    "data_collator = DataCollatorForSupervisedDataset(tokenizer=tokenizer)\n",
    "\n",
    "print(type(kg_train_dataset))\n",
    "print(len(kg_train_dataset))\n",
    "print('input : %s'%kg_train_dataset.input_ids[0])\n",
    "print('output: %s'%kg_train_dataset.labels[0])\n",
    "print('source: %s'%kg_train_dataset.source_ids[0])"
   ]
  },
  {
   "cell_type": "code",
   "execution_count": 14,
   "id": "32dee3e4",
   "metadata": {},
   "outputs": [
    {
     "name": "stdout",
     "output_type": "stream",
     "text": [
      "|===========================================================================|\n",
      "|                  PyTorch CUDA memory summary, device ID 0                 |\n",
      "|---------------------------------------------------------------------------|\n",
      "|            CUDA OOMs: 0            |        cudaMalloc retries: 0         |\n",
      "|===========================================================================|\n",
      "|        Metric         | Cur Usage  | Peak Usage | Tot Alloc  | Tot Freed  |\n",
      "|---------------------------------------------------------------------------|\n",
      "| Allocated memory      |  501216 KB |  501216 KB |  501216 KB |       0 B  |\n",
      "|       from large pool |  488448 KB |  488448 KB |  488448 KB |       0 B  |\n",
      "|       from small pool |   12768 KB |   12768 KB |   12768 KB |       0 B  |\n",
      "|---------------------------------------------------------------------------|\n",
      "| Active memory         |  501216 KB |  501216 KB |  501216 KB |       0 B  |\n",
      "|       from large pool |  488448 KB |  488448 KB |  488448 KB |       0 B  |\n",
      "|       from small pool |   12768 KB |   12768 KB |   12768 KB |       0 B  |\n",
      "|---------------------------------------------------------------------------|\n",
      "| GPU reserved memory   |  557056 KB |  557056 KB |  557056 KB |       0 B  |\n",
      "|       from large pool |  542720 KB |  542720 KB |  542720 KB |       0 B  |\n",
      "|       from small pool |   14336 KB |   14336 KB |   14336 KB |       0 B  |\n",
      "|---------------------------------------------------------------------------|\n",
      "| Non-releasable memory |   55840 KB |   55849 KB |  269821 KB |  213981 KB |\n",
      "|       from large pool |   54272 KB |   54272 KB |  261632 KB |  207360 KB |\n",
      "|       from small pool |    1568 KB |    2045 KB |    8189 KB |    6621 KB |\n",
      "|---------------------------------------------------------------------------|\n",
      "| Allocations           |     172    |     172    |     172    |       0    |\n",
      "|       from large pool |      50    |      50    |      50    |       0    |\n",
      "|       from small pool |     122    |     122    |     122    |       0    |\n",
      "|---------------------------------------------------------------------------|\n",
      "| Active allocs         |     172    |     172    |     172    |       0    |\n",
      "|       from large pool |      50    |      50    |      50    |       0    |\n",
      "|       from small pool |     122    |     122    |     122    |       0    |\n",
      "|---------------------------------------------------------------------------|\n",
      "| GPU reserved segments |      27    |      27    |      27    |       0    |\n",
      "|       from large pool |      20    |      20    |      20    |       0    |\n",
      "|       from small pool |       7    |       7    |       7    |       0    |\n",
      "|---------------------------------------------------------------------------|\n",
      "| Non-releasable allocs |      21    |      21    |      26    |       5    |\n",
      "|       from large pool |      19    |      19    |      19    |       0    |\n",
      "|       from small pool |       2    |       2    |       7    |       5    |\n",
      "|---------------------------------------------------------------------------|\n",
      "| Oversize allocations  |       1    |       1    |       1    |       0    |\n",
      "|---------------------------------------------------------------------------|\n",
      "| Oversize GPU segments |       1    |       1    |       1    |       0    |\n",
      "|===========================================================================|\n",
      "\n"
     ]
    }
   ],
   "source": [
    "print(torch.cuda.memory_summary())"
   ]
  },
  {
   "cell_type": "code",
   "execution_count": 31,
   "id": "10c64a1c",
   "metadata": {
    "scrolled": true
   },
   "outputs": [
    {
     "name": "stdout",
     "output_type": "stream",
     "text": [
      "[INPUT]:\n",
      "불고기용 고기 한우에요?저는 인공지능 챗봇이며, 직접적으로 식품에 관한 정보를 가지고 있지 않습니다. 하지만 일반적으로 불고기용 고기는 한우, 쇠고기, 돼지고기 등 다양한 종류의 고기를 사용합니다. 하지만 한우는 대표적인 고급 육류로 알려져 있기 때문에, 한우를 사용하는 경우도 많습니다. 알러지나 개별 건강 상태에 따라 다를 수 있으니 충분한 정보 수집 후에 선택해 주시기 바랍니다.\n",
      "\n",
      "[LABEL]:\n",
      "저는 인공지능 챗봇이며, 직접적으로 식품에 관한 정보를 가지고 있지 않습니다. 하지만 일반적으로 불고기용 고기는 한우, 쇠고기, 돼지고기 등 다양한 종류의 고기를 사용합니다. 하지만 한우는 대표적인 고급 육류로 알려져 있기 때문에, 한우를 사용하는 경우도 많습니다. 알러지나 개별 건강 상태에 따라 다를 수 있으니 충분한 정보 수집 후에 선택해 주시기 바랍니다.\n",
      "\n",
      "[PROMPT]:\n",
      "불고기용 고기 한우에요?\n",
      "\n"
     ]
    }
   ],
   "source": [
    "# train_dataset.input_ids[0]를 디코딩해보세요.\n",
    "input_text = tokenizer.decode(kg_train_dataset.input_ids[0] , skip_special_tokens=True)\n",
    "label_text = tokenizer.decode([token for token in  kg_train_dataset.labels[0]  if token != -100], skip_special_tokens=True)\n",
    "prompt_text = tokenizer.decode(kg_train_dataset.source_ids[0] , skip_special_tokens=True)\n",
    "\n",
    "print(f\"[INPUT]:\\n{input_text}\\n\")\n",
    "print(f\"[LABEL]:\\n{label_text}\\n\")\n",
    "print(f\"[PROMPT]:\\n{prompt_text}\\n\")"
   ]
  },
  {
   "cell_type": "code",
   "execution_count": 41,
   "id": "8e958588",
   "metadata": {},
   "outputs": [
    {
     "name": "stdout",
     "output_type": "stream",
     "text": [
      "Train: 9593\n",
      "Validation: 1199\n",
      "Test: 1200\n"
     ]
    }
   ],
   "source": [
    "from torch.utils.data import random_split\n",
    "\n",
    "total_len = len(kg_train_dataset)\n",
    "\n",
    "# train 80%, val 10%, test 10%로 나누기\n",
    "train_size = int(0.8 * total_len)\n",
    "val_size = int(0.1 * total_len)\n",
    "test_size = total_len - train_size - val_size  # 남는 거 처리\n",
    "\n",
    "# 랜덤 시드 고정\n",
    "generator = torch.Generator().manual_seed(42)\n",
    "train_dataset, val_dataset, test_dataset = random_split(kg_train_dataset, [train_size, val_size, test_size], generator=generator)\n",
    "\n",
    "\n",
    "print(f\"Train: {len(train_dataset)}\")\n",
    "print(f\"Validation: {len(val_dataset)}\")\n",
    "print(f\"Test: {len(test_dataset)}\")"
   ]
  },
  {
   "cell_type": "markdown",
   "id": "dbf8a414",
   "metadata": {},
   "source": [
    "**Trainer**"
   ]
  },
  {
   "cell_type": "code",
   "execution_count": 42,
   "id": "080b970a",
   "metadata": {},
   "outputs": [
    {
     "data": {
      "text/plain": [
       "{'input_ids': tensor([ 9202,  7536, 12622, 17885,  7661,   392, 36510, 14553, 10667,  9867,\n",
       "         49165,  9067, 10233,  9117,  7748,  9173,  9290, 12519, 14553, 10667,\n",
       "          9867,  9316,  9202,  9883,  9337,  9025,  9019, 16913,  7182, 36510,\n",
       "          9045, 36510,  9032, 13041,  9183,  9677, 11117, 26512, 18026,  9183,\n",
       "          9677, 11117, 49165,  9067, 10002, 11312,  8137,  9350, 19377,  9202,\n",
       "          9883,  9337,  9025,  9019, 16913,  7182, 36510,  9085, 36510, 24878,\n",
       "         12222, 11814,  8718, 10247, 11018,  7055, 15454,  9337,  9068, 45568,\n",
       "         17437,  7055, 14795, 18422, 11814,  9328, 27728, 11312,  9956, 11615,\n",
       "         23523,  9202,  9883,  9337,  9025,  9019, 16913,  7182, 36510,  9130,\n",
       "         36510, 11342,  9694, 12519, 11342, 32563, 10407, 49165,  9067, 10002,\n",
       "         11312,  9956, 11615, 23523,  9202,  9883,  9337,  9025,  9019, 16913,\n",
       "          7182, 36510,  9143, 36510,  9306, 12519, 10407, 13814,  8420, 11335,\n",
       "         49165, 22364, 10407, 49165,  9067, 10002, 11312,  9956, 11615, 23523,\n",
       "          9202,  9883,  9337,  9025,  9019, 16913,  7182, 36510,     1]),\n",
       " 'labels': tensor([ -100,  -100,  -100,  -100,  -100,   392, 36510, 14553, 10667,  9867,\n",
       "         49165,  9067, 10233,  9117,  7748,  9173,  9290, 12519, 14553, 10667,\n",
       "          9867,  9316,  9202,  9883,  9337,  9025,  9019, 16913,  7182, 36510,\n",
       "          9045, 36510,  9032, 13041,  9183,  9677, 11117, 26512, 18026,  9183,\n",
       "          9677, 11117, 49165,  9067, 10002, 11312,  8137,  9350, 19377,  9202,\n",
       "          9883,  9337,  9025,  9019, 16913,  7182, 36510,  9085, 36510, 24878,\n",
       "         12222, 11814,  8718, 10247, 11018,  7055, 15454,  9337,  9068, 45568,\n",
       "         17437,  7055, 14795, 18422, 11814,  9328, 27728, 11312,  9956, 11615,\n",
       "         23523,  9202,  9883,  9337,  9025,  9019, 16913,  7182, 36510,  9130,\n",
       "         36510, 11342,  9694, 12519, 11342, 32563, 10407, 49165,  9067, 10002,\n",
       "         11312,  9956, 11615, 23523,  9202,  9883,  9337,  9025,  9019, 16913,\n",
       "          7182, 36510,  9143, 36510,  9306, 12519, 10407, 13814,  8420, 11335,\n",
       "         49165, 22364, 10407, 49165,  9067, 10002, 11312,  9956, 11615, 23523,\n",
       "          9202,  9883,  9337,  9025,  9019, 16913,  7182, 36510,     1]),\n",
       " 'source_ids': tensor([ 9202,  7536, 12622, 17885,  7661])}"
      ]
     },
     "execution_count": 42,
     "metadata": {},
     "output_type": "execute_result"
    }
   ],
   "source": [
    "test_dataset[0]"
   ]
  },
  {
   "cell_type": "code",
   "execution_count": 14,
   "id": "3e15cc49",
   "metadata": {},
   "outputs": [],
   "source": [
    "output_dir = os.getenv('HOME')+'/aiffel/KoChatGPT/test'\n",
    "\n",
    "training_args = TrainingArguments(\n",
    "    output_dir,\n",
    "    overwrite_output_dir=True,\n",
    "    evaluation_strategy=\"epoch\",        #evaluation하는 빈도\n",
    "    logging_strategy=\"epoch\",           # epoch마다 로그 기록\n",
    "    learning_rate = 2e-5,               #learning_rate\n",
    "    num_train_epochs=3,\n",
    "    per_device_train_batch_size=1,\n",
    "    per_device_eval_batch_size=1,\n",
    "    warmup_steps=5,\n",
    "    prediction_loss_only=True,  # CUDA OOM하고 연관 있나?\n",
    "    logging_dir=\"./kogpt_logs\",\n",
    "    fp16 = True\n",
    "    )\n",
    "\n",
    "trainer = Trainer(\n",
    "    model=model,\n",
    "    \n",
    "    args=training_args,\n",
    "    data_collator=data_collator,\n",
    "    train_dataset=train_dataset,\n",
    "    eval_dataset=val_dataset, \n",
    "    tokenizer=tokenizer,\n",
    "    compute_metrics=compute_metrics \n",
    ")"
   ]
  },
  {
   "cell_type": "code",
   "execution_count": null,
   "id": "fe924192",
   "metadata": {},
   "outputs": [],
   "source": [
    "output_dir = os.getenv('HOME')+'/aiffel/KoChatGPT/test'\n",
    "\n",
    "#training_args = TrainingArguments(\n",
    "    output_dir,\n",
    "    overwrite_output_dir=True,\n",
    "    num_train_epochs=3,\n",
    "    per_device_train_batch_size=1,\n",
    "    per_device_eval_batch_size=1,\n",
    "    warmup_steps=5,\n",
    "    prediction_loss_only=True,\n",
    "    fp16 = True\n",
    "    )\n",
    "\n",
    "trainer = Trainer(\n",
    "    model=model,\n",
    "    args=training_args,\n",
    "    data_collator=data_collator,\n",
    "    train_dataset=train_dataset\n",
    ")"
   ]
  },
  {
   "cell_type": "code",
   "execution_count": 18,
   "id": "059d6f88",
   "metadata": {
    "scrolled": true
   },
   "outputs": [
    {
     "name": "stderr",
     "output_type": "stream",
     "text": [
      "/opt/conda/lib/python3.9/site-packages/transformers/optimization.py:391: FutureWarning: This implementation of AdamW is deprecated and will be removed in a future version. Use the PyTorch implementation torch.optim.AdamW instead, or set `no_deprecation_warning=True` to disable this warning\n",
      "  warnings.warn(\n"
     ]
    },
    {
     "data": {
      "text/html": [
       "\n",
       "    <div>\n",
       "      \n",
       "      <progress value='9593' max='9593' style='width:300px; height:20px; vertical-align: middle;'></progress>\n",
       "      [9593/9593 33:26, Epoch 1/1]\n",
       "    </div>\n",
       "    <table border=\"1\" class=\"dataframe\">\n",
       "  <thead>\n",
       " <tr style=\"text-align: left;\">\n",
       "      <th>Epoch</th>\n",
       "      <th>Training Loss</th>\n",
       "      <th>Validation Loss</th>\n",
       "    </tr>\n",
       "  </thead>\n",
       "  <tbody>\n",
       "    <tr>\n",
       "      <td>1</td>\n",
       "      <td>2.556800</td>\n",
       "      <td>2.297744</td>\n",
       "    </tr>\n",
       "  </tbody>\n",
       "</table><p>"
      ],
      "text/plain": [
       "<IPython.core.display.HTML object>"
      ]
     },
     "metadata": {},
     "output_type": "display_data"
    }
   ],
   "source": [
    "trainer.train()\n",
    "model.save_pretrained('./modles/output_1_KoGPT')"
   ]
  },
  {
   "cell_type": "code",
   "execution_count": null,
   "id": "b5421f70",
   "metadata": {},
   "outputs": [],
   "source": [
    "trainer.evaluate(test_dataset)"
   ]
  },
  {
   "cell_type": "code",
   "execution_count": 19,
   "id": "c181055d",
   "metadata": {},
   "outputs": [
    {
     "name": "stdout",
     "output_type": "stream",
     "text": [
      "Step: 9593, Epoch: 1.0, Loss: 2.5568\n",
      "Step: 9593, Epoch: 1.0, Eval Loss: 2.297744035720825\n"
     ]
    }
   ],
   "source": [
    "for log in trainer.state.log_history:\n",
    "    if 'eval_loss' in log:\n",
    "        print(f\"Step: {log.get('step')}, Epoch: {log.get('epoch')}, Eval Loss: {log.get('eval_loss')}\")\n",
    "    if 'loss' in log:\n",
    "        print(f\"Step: {log.get('step')}, Epoch: {log.get('epoch')}, Loss: {log.get('loss')}\")\n",
    "    if 'perplexity' in log:\n",
    "        print(f\"Step: {log.get('step')}, Epoch: {log.get('epoch')}, Perplexity: {log.get('perplexity')}\")"
   ]
  },
  {
   "cell_type": "code",
   "execution_count": 20,
   "id": "7dc5ec29",
   "metadata": {
    "scrolled": true
   },
   "outputs": [
    {
     "data": {
      "image/png": "[encoded data removed]",
      "text/plain": [
       "<Figure size 864x360 with 1 Axes>"
      ]
     },
     "metadata": {
      "needs_background": "light"
     },
     "output_type": "display_data"
    }
   ],
   "source": [
    "# 학습 후 로그 가져오기\n",
    "kogpt_logs = trainer.state.log_history\n",
    "\n",
    "display_train_graph(logs = kogpt_logs)"
   ]
  },
  {
   "cell_type": "markdown",
   "id": "24bd3696",
   "metadata": {},
   "source": [
    "**generate**"
   ]
  },
  {
   "cell_type": "code",
   "execution_count": 13,
   "id": "468be916",
   "metadata": {},
   "outputs": [
    {
     "name": "stdout",
     "output_type": "stream",
     "text": [
      "11992\n"
     ]
    }
   ],
   "source": [
    "\n",
    "inputs = []\n",
    "for idx, data in enumerate(kg_train_dataset) : \n",
    "    input_ids = data['input_ids']\n",
    "    input_text = tokenizer.decode(input_ids , skip_special_tokens=True)\n",
    "    \n",
    "    inputs.append(input_text)\n",
    "    \n",
    "print(len(inputs))\n",
    "print(inputs[0])"
   ]
  },
  {
   "cell_type": "code",
   "execution_count": 15,
   "id": "fa2d9293",
   "metadata": {},
   "outputs": [
    {
     "name": "stdout",
     "output_type": "stream",
     "text": [
      "11992\n"
     ]
    }
   ],
   "source": [
    "\n",
    "labels = []\n",
    "for idx, data in enumerate(kg_train_dataset) : \n",
    "    label_ids = data['labels']\n",
    "    label_text = tokenizer.decode([token for token in  label_ids  if token != -100], skip_special_tokens=True)\n",
    "    \n",
    "    labels.append(label_text)\n",
    "    \n",
    "print(len(labels))\n",
    "print(labels[0])"
   ]
  },
  {
   "cell_type": "code",
   "execution_count": 43,
   "id": "15bef86c",
   "metadata": {},
   "outputs": [
    {
     "name": "stdout",
     "output_type": "stream",
     "text": [
      "100\n",
      "100\n"
     ]
    },
    {
     "name": "stderr",
     "output_type": "stream",
     "text": [
      "Generating: 100%|██████████| 100/100 [04:55<00:00,  2.96s/it]\n"
     ]
    }
   ],
   "source": [
    "generator = pipeline('text-generation', model='./modles/output_1_KoGPT', tokenizer=tokenizer)\n",
    "#generator = pipeline('text-generation', model=model, tokenizer=tokenizer)\n",
    "\n",
    "generation_args = dict(   \n",
    "    num_beams=4,\n",
    "    repetition_penalty=2.0,\n",
    "    no_repeat_ngram_size=4,\n",
    "    eos_token_id= tokenizer.eos_token_id, #375, # \\n   \n",
    "    temperature=1.0,\n",
    "    max_new_tokens=64,\n",
    "    do_sample=True,\n",
    "    top_k=50,\n",
    "    early_stopping=True\n",
    ")\n",
    "\n",
    "\n",
    "test_count = 100 # 개수를 줄여보자\n",
    "\n",
    "# inputs\n",
    "inputs = []\n",
    "for idx, data in enumerate(test_dataset) : \n",
    "    if idx >= test_count :\n",
    "        break\n",
    "    input_ids = data['source_ids']\n",
    "    input_text = tokenizer.decode(input_ids , skip_special_tokens=True)\n",
    "    \n",
    "    inputs.append(input_text)\n",
    "    \n",
    "print(len(inputs))\n",
    "\n",
    "\n",
    "# references \n",
    "ref_labels = []\n",
    "for idx, data in enumerate(test_dataset) : \n",
    "    if idx >= test_count :\n",
    "        break\n",
    "    label_ids = data['labels']\n",
    "    label_text = tokenizer.decode([token for token in  label_ids  if token != -100], skip_special_tokens=True)\n",
    "    \n",
    "    ref_labels.append(label_text)\n",
    "    \n",
    "print(len(ref_labels))\n",
    "\n",
    "\n",
    "# predictions \n",
    "#pred_results = generator(inputs, **generation_args)\n",
    "\n",
    "\n",
    "from tqdm import tqdm\n",
    "\n",
    "pred_results = []\n",
    "for input_text in tqdm(inputs, desc=\"Generating\"):\n",
    "    result = generator(input_text, **generation_args)\n",
    "    pred_results.append(result)\n",
    "\n"
   ]
  },
  {
   "cell_type": "code",
   "execution_count": 44,
   "id": "b6dfccd0",
   "metadata": {},
   "outputs": [
    {
     "name": "stdout",
     "output_type": "stream",
     "text": [
      "<class 'list'>\n"
     ]
    },
    {
     "data": {
      "text/plain": [
       "[{'generated_text': '변명거리 생각해봐제가 ai 챗봇이기 때문에, 어떤 문제가 있는지 자세히 설명해주시면 답변을 드릴 수 있을 것 같습니다.'}]"
      ]
     },
     "execution_count": 44,
     "metadata": {},
     "output_type": "execute_result"
    }
   ],
   "source": [
    "print(type(pred_results))\n",
    "pred_results[0]"
   ]
  },
  {
   "cell_type": "code",
   "execution_count": 45,
   "id": "553b2ed0",
   "metadata": {},
   "outputs": [
    {
     "name": "stdout",
     "output_type": "stream",
     "text": [
      "\n",
      "[Prompt] 변명거리 생각해봐\n",
      "[Ref   ] 1. 시간이 부족해서 일이나 공부가 바쁘다는 것을 이유로 시간이 부족해서라는 변명을 할 수 있습니다. 2. 기분이 안 좋아서 정신적인 상태가 안 좋아서 일이나 공부에 집중을 못하겠다는 변명을 할 수 있습니다. 3. 장소를 잘못 선택했어서 공부나 작업을 할 때 조용한 장소나 적절한 공간을 선택하지 않아서 집중력이 떨어졌다는 변명을 할 수 있습니다. 4. 건강상의 이유로 건강문제로 인해 일이나 공부에 집중력이 떨어졌다는 변명을 할 수 있습니다. 5. 다른 이유로 인해 예상치 못한 일이나 사건으로 인해 일이나 공부에 집중력이 떨어졌다는 변명을 할 수 있습니다.\n",
      "[Gen   ] 변명거리 생각해봐제가 ai 챗봇이기 때문에, 어떤 문제가 있는지 자세히 설명해주시면 답변을 드릴 수 있을 것 같습니다.\n",
      "\n",
      "[Prompt] 방탄소년단은 한국 가수 최초로 몇 개의 앨범이 연속으로 빌보드 200차트에 올랐나?\n",
      "[Ref   ] 방탄소년단은 5개의 앨범이 연속으로 빌보드 200차트에 올랐습니다. the most beautiful moment in life, part 2, the most beautiful moment in life young forever, wings, love yourself her, love yourself tear\n",
      "[Gen   ] 방탄소년단은 한국 가수 최초로 몇 개의 앨범이 연속으로 빌보드 200차트에 올랐나?방탄소년단은 2016년 발매한 방탄소년단의 앨범의 수록곡 중 하나인 방탄소년단 입니다., token 97\n",
      "\n",
      "[Prompt] boney m. 의 잠보 하쿠나 마타타를 부를 사람은?\n",
      "[Ref   ] boney m. 의 잠보 하쿠나 마타타를 부른 사람은 bobby farrell입니다.\n",
      "[Gen   ] boney m. 의 잠보 하쿠나 마타타를 부를 사람은?저는 ai 어시스턴트이기 때문에, 이 질문에 대한 답변을 제공할 수 없습니다.\n"
     ]
    }
   ],
   "source": [
    "cnt = 0\n",
    "for prompt, ref, result in zip(inputs, ref_labels, pred_results):\n",
    "    print()\n",
    "    print(\"[Prompt]\", prompt)\n",
    "    print(\"[Ref   ]\", ref)\n",
    "    print(\"[Gen   ]\", (result[0]['generated_text']))\n",
    "    cnt +=1\n",
    "    if cnt >= 3 :\n",
    "        break"
   ]
  },
  {
   "cell_type": "code",
   "execution_count": 46,
   "id": "de736c30",
   "metadata": {},
   "outputs": [
    {
     "name": "stdout",
     "output_type": "stream",
     "text": [
      "📊 평균 ROUGE 점수\n",
      "ROUGE-1 F1: 0.1404\n",
      "ROUGE-2 F1: 0.0647\n",
      "ROUGE-L F1: 0.1394\n"
     ]
    },
    {
     "data": {
      "image/png": "[encoded data removed]",
      "text/plain": [
       "<Figure size 864x432 with 1 Axes>"
      ]
     },
     "metadata": {
      "needs_background": "light"
     },
     "output_type": "display_data"
    }
   ],
   "source": [
    "pred_texts = [result[0][\"generated_text\"] for result in pred_results]\n",
    "\n",
    "compute_rouge(ref_labels, pred_texts )"
   ]
  },
  {
   "cell_type": "markdown",
   "id": "317772be",
   "metadata": {},
   "source": [
    "# 2. SFT 모델"
   ]
  },
  {
   "cell_type": "code",
   "execution_count": 1,
   "id": "3458cbda",
   "metadata": {},
   "outputs": [],
   "source": [
    "import os\n",
    "os.environ[\"CUDA_VISIBLE_DEVICES\"] = \"0\"\n",
    "import torch\n",
    "import torch.nn as nn\n",
    "from torch.utils.data import Dataset\n",
    "from torch.optim import Adam\n",
    "from datasets import load_dataset\n",
    "import transformers\n",
    "from transformers import AutoTokenizer, AutoModelForCausalLM, pipeline\n",
    "from transformers import Trainer, TrainingArguments\n",
    "from copy import deepcopy\n",
    "import copy\n",
    "import logging\n",
    "import json\n",
    "from dataclasses import dataclass"
   ]
  },
  {
   "cell_type": "code",
   "execution_count": 2,
   "id": "3e26967f",
   "metadata": {},
   "outputs": [
    {
     "name": "stdout",
     "output_type": "stream",
     "text": [
      "|===========================================================================|\n",
      "|                  PyTorch CUDA memory summary, device ID 0                 |\n",
      "|---------------------------------------------------------------------------|\n",
      "|            CUDA OOMs: 0            |        cudaMalloc retries: 0         |\n",
      "|===========================================================================|\n",
      "|        Metric         | Cur Usage  | Peak Usage | Tot Alloc  | Tot Freed  |\n",
      "|---------------------------------------------------------------------------|\n",
      "| Allocated memory      |       0 B  |       0 B  |       0 B  |       0 B  |\n",
      "|       from large pool |       0 B  |       0 B  |       0 B  |       0 B  |\n",
      "|       from small pool |       0 B  |       0 B  |       0 B  |       0 B  |\n",
      "|---------------------------------------------------------------------------|\n",
      "| Active memory         |       0 B  |       0 B  |       0 B  |       0 B  |\n",
      "|       from large pool |       0 B  |       0 B  |       0 B  |       0 B  |\n",
      "|       from small pool |       0 B  |       0 B  |       0 B  |       0 B  |\n",
      "|---------------------------------------------------------------------------|\n",
      "| GPU reserved memory   |       0 B  |       0 B  |       0 B  |       0 B  |\n",
      "|       from large pool |       0 B  |       0 B  |       0 B  |       0 B  |\n",
      "|       from small pool |       0 B  |       0 B  |       0 B  |       0 B  |\n",
      "|---------------------------------------------------------------------------|\n",
      "| Non-releasable memory |       0 B  |       0 B  |       0 B  |       0 B  |\n",
      "|       from large pool |       0 B  |       0 B  |       0 B  |       0 B  |\n",
      "|       from small pool |       0 B  |       0 B  |       0 B  |       0 B  |\n",
      "|---------------------------------------------------------------------------|\n",
      "| Allocations           |       0    |       0    |       0    |       0    |\n",
      "|       from large pool |       0    |       0    |       0    |       0    |\n",
      "|       from small pool |       0    |       0    |       0    |       0    |\n",
      "|---------------------------------------------------------------------------|\n",
      "| Active allocs         |       0    |       0    |       0    |       0    |\n",
      "|       from large pool |       0    |       0    |       0    |       0    |\n",
      "|       from small pool |       0    |       0    |       0    |       0    |\n",
      "|---------------------------------------------------------------------------|\n",
      "| GPU reserved segments |       0    |       0    |       0    |       0    |\n",
      "|       from large pool |       0    |       0    |       0    |       0    |\n",
      "|       from small pool |       0    |       0    |       0    |       0    |\n",
      "|---------------------------------------------------------------------------|\n",
      "| Non-releasable allocs |       0    |       0    |       0    |       0    |\n",
      "|       from large pool |       0    |       0    |       0    |       0    |\n",
      "|       from small pool |       0    |       0    |       0    |       0    |\n",
      "|---------------------------------------------------------------------------|\n",
      "| Oversize allocations  |       0    |       0    |       0    |       0    |\n",
      "|---------------------------------------------------------------------------|\n",
      "| Oversize GPU segments |       0    |       0    |       0    |       0    |\n",
      "|===========================================================================|\n",
      "\n"
     ]
    }
   ],
   "source": [
    "print(torch.cuda.memory_summary())"
   ]
  },
  {
   "cell_type": "code",
   "execution_count": 4,
   "id": "de3e25ee",
   "metadata": {},
   "outputs": [
    {
     "name": "stdout",
     "output_type": "stream",
     "text": [
      "GPT2TokenizerFast(name_or_path='skt/kogpt2-base-v2', vocab_size=51200, model_max_length=512, is_fast=True, padding_side='right', truncation_side='right', special_tokens={'bos_token': '</s>', 'eos_token': '</s>', 'unk_token': '</s>', 'pad_token': '</s>'}, clean_up_tokenization_spaces=True)\n"
     ]
    }
   ],
   "source": [
    "model = AutoModelForCausalLM.from_pretrained('skt/kogpt2-base-v2')\n",
    "tokenizer = AutoTokenizer.from_pretrained(\n",
    "    'skt/kogpt2-base-v2', bos_token='</s>', eos_token='</s>', unk_token='</s>', pad_token='</s>',\n",
    "    padding_side=\"right\",\n",
    "    model_max_length=512,\n",
    ")\n",
    "\n",
    "print(tokenizer)"
   ]
  },
  {
   "cell_type": "code",
   "execution_count": 5,
   "id": "1725e11c",
   "metadata": {},
   "outputs": [],
   "source": [
    "from typing import Optional, Dict, Sequence\n",
    "\n",
    "class SFT_dataset(Dataset):\n",
    "\n",
    "    def __init__(self, data_path_1_SFT: str, tokenizer: transformers.PreTrainedTokenizer, verbose=False):\n",
    "        super(SFT_dataset, self).__init__()\n",
    "        logging.warning(\"Loading data...\")\n",
    "\n",
    "        pattern_instruction = 'prompt'  # instruction\n",
    "        pattern_output = 'completion'  # response\n",
    "\n",
    "        with open(data_path_1_SFT, \"r\", encoding='utf-8-sig') as json_file:\n",
    "            list_data_dict = json.load(json_file)\n",
    "\n",
    "        PROMPT_DICT = {\n",
    "            \"prompt_input\": (\n",
    "                \"### Instruction(명령어):\\n{prompt}\\n\\n### Response(응답):\"\n",
    "            )\n",
    "        }\n",
    "\n",
    "        prompt_input = PROMPT_DICT[\"prompt_input\"]\n",
    "\n",
    "        sources = []\n",
    "        for example in list_data_dict:\n",
    "            tmp = prompt_input.format_map(example)\n",
    "            sources.append(tmp)\n",
    "\n",
    "        targets = []\n",
    "        for example in list_data_dict:\n",
    "            targets.append(f\"{example[pattern_output]}{tokenizer.eos_token}\")\n",
    "        examples = [s + t for s, t in zip(sources, targets)]\n",
    "\n",
    "        # sources_tokenized는 **입력 마스킹(masking)**에 쓰이고,\n",
    "        # examples_tokenized는 전체 학습 텍스트 + 레이블용 토큰이다\n",
    "        sources_tokenized = self._tokenize_fn(sources, tokenizer)  # source\n",
    "        examples_tokenized = self._tokenize_fn(examples, tokenizer)  # source + target\n",
    "\n",
    "        source_ids = sources_tokenized[\"input_ids\"]\n",
    "        input_ids = examples_tokenized[\"input_ids\"]\n",
    "        # loss 계산시 label을 정의하는 부분으로, input_ids를 그대로 copy하되\n",
    "        # prompt 부분은 필요없으므로 lable에서 prompt 부분은 -100으로 masking한다. \n",
    "        labels = copy.deepcopy(input_ids)\n",
    "        for label, source_len in zip(labels, sources_tokenized[\"input_ids_lens\"]):\n",
    "            label[:source_len] = -100\n",
    "       \n",
    "\n",
    "        data_dict = dict(input_ids=input_ids, labels=labels, source_ids=source_ids)\n",
    "\n",
    "        self.input_ids = data_dict[\"input_ids\"]\n",
    "        self.labels = data_dict[\"labels\"]\n",
    "        self.source_ids = data_dict[\"source_ids\"]\n",
    "        logging.warning(\"Loading data done!!: %d\"%(len(self.labels)))\n",
    "\n",
    "\n",
    "    def _tokenize_fn(self, strings: Sequence[str], tokenizer: transformers.PreTrainedTokenizer) -> Dict:\n",
    "        tokenized_list = [\n",
    "            tokenizer(\n",
    "                text,\n",
    "                return_tensors=\"pt\",\n",
    "                padding=\"longest\",\n",
    "                max_length=tokenizer.model_max_length,\n",
    "                truncation=True,\n",
    "            )\n",
    "            for text in strings\n",
    "        ]\n",
    "        input_ids = labels = [tokenized.input_ids[0] for tokenized in tokenized_list]\n",
    "        input_ids_lens = labels_lens = [\n",
    "            tokenized.input_ids.ne(tokenizer.pad_token_id).sum().item() for tokenized in tokenized_list\n",
    "        ]\n",
    "        return dict(\n",
    "            input_ids=input_ids,\n",
    "            labels=labels,\n",
    "            input_ids_lens=input_ids_lens,\n",
    "            labels_lens=labels_lens,\n",
    "        )\n",
    "\n",
    "\n",
    "    def __len__(self):\n",
    "        return len(self.input_ids)\n",
    "\n",
    "\n",
    "    def __getitem__(self, i) -> Dict[str, torch.Tensor]:\n",
    "        return dict(input_ids=self.input_ids[i], labels=self.labels[i], source_ids=self.source_ids[i])"
   ]
  },
  {
   "cell_type": "code",
   "execution_count": 6,
   "id": "10c3a55d",
   "metadata": {},
   "outputs": [],
   "source": [
    "@dataclass\n",
    "class DataCollatorForSupervisedDataset(object): \n",
    "\n",
    "    tokenizer: transformers.PreTrainedTokenizer\n",
    "\n",
    "    def __call__(self, instances: Sequence[Dict]) -> Dict[str, torch.Tensor]:\n",
    "        input_ids, labels = tuple([instance[key] for instance in instances] for key in (\"input_ids\", \"labels\"))\n",
    "        input_ids = torch.nn.utils.rnn.pad_sequence(\n",
    "            input_ids, batch_first=True, padding_value=self.tokenizer.pad_token_id\n",
    "        )\n",
    "        # batch 내 label 시퀀스를 길이에 맞춰 패딩(padding)\n",
    "        # padding_value= -100 : 짧은 시퀀스를 맞추기 위해 채울 값\n",
    "        # PyTorch의 nn.CrossEntropyLoss()에서는 ignore_index=-100이 기본값\n",
    "        labels = torch.nn.utils.rnn.pad_sequence(labels, batch_first=True, padding_value= -100)\n",
    "        return dict(\n",
    "            input_ids=input_ids,\n",
    "            labels=labels,\n",
    "            attention_mask=input_ids.ne(self.tokenizer.pad_token_id),\n",
    "        )"
   ]
  },
  {
   "cell_type": "code",
   "execution_count": 7,
   "id": "64c244ba",
   "metadata": {},
   "outputs": [
    {
     "name": "stderr",
     "output_type": "stream",
     "text": [
      "WARNING:root:Loading data...\n",
      "WARNING:root:Loading data done!!: 11992\n"
     ]
    },
    {
     "name": "stdout",
     "output_type": "stream",
     "text": [
      "<class '__main__.SFT_dataset'>\n",
      "11992\n",
      "input : tensor([  739,   378,   378,   378, 14659, 13394, 37091, 10651,   383, 25841,\n",
      "         8006, 14914,   375,  7673, 20479,  8091, 22311,  9036, 30902,  8084,\n",
      "          739, 10604,   375,   378,   378,   378, 41951,   454,  9549, 20549,\n",
      "          383,  8142,  7192, 14914, 37767, 13753,  8263,  7166,   739,  8352,\n",
      "         7659,  9639, 11481, 25585, 13600,  8022,  9378, 11532,  9887, 11218,\n",
      "         9111, 16913,  7182, 36510, 10351, 10561,  9128, 20479,  8091,  9065,\n",
      "         9446, 33869, 11481, 46311, 11481, 26367,  6958,  9030,  9882, 12317,\n",
      "        25882,  9209,  8708,  7172,  7182, 36510, 10351,  9036, 12168, 10529,\n",
      "        15989,  9719, 15434, 10552, 11188,  9355, 11481,  9036, 15805, 11300,\n",
      "        11846,  9146, 16913,  7182, 36510,  9181,  7397, 15806, 13480, 11342,\n",
      "        17596,  9161, 19996,  9025, 25006, 18595,  9966, 12592, 10751, 11814,\n",
      "         8711,  9046, 12450,  9117,  7377,  7172,  7182, 36510,     1])\n",
      "output: tensor([ -100,  -100,  -100,  -100,  -100,  -100,  -100,  -100,  -100,  -100,\n",
      "         -100,  -100,  -100,  -100,  -100,  -100,  -100,  -100,  -100,  -100,\n",
      "         -100,  -100,  -100,  -100,  -100,  -100,  -100,  -100,  -100,  -100,\n",
      "         -100,  -100,  -100,  -100, 37767, 13753,  8263,  7166,   739,  8352,\n",
      "         7659,  9639, 11481, 25585, 13600,  8022,  9378, 11532,  9887, 11218,\n",
      "         9111, 16913,  7182, 36510, 10351, 10561,  9128, 20479,  8091,  9065,\n",
      "         9446, 33869, 11481, 46311, 11481, 26367,  6958,  9030,  9882, 12317,\n",
      "        25882,  9209,  8708,  7172,  7182, 36510, 10351,  9036, 12168, 10529,\n",
      "        15989,  9719, 15434, 10552, 11188,  9355, 11481,  9036, 15805, 11300,\n",
      "        11846,  9146, 16913,  7182, 36510,  9181,  7397, 15806, 13480, 11342,\n",
      "        17596,  9161, 19996,  9025, 25006, 18595,  9966, 12592, 10751, 11814,\n",
      "         8711,  9046, 12450,  9117,  7377,  7172,  7182, 36510,     1])\n"
     ]
    }
   ],
   "source": [
    "data_save_path_SFT = './data/clean_kochatgpt_1_SFT.jsonl'\n",
    "\n",
    "all_train_dataset = SFT_dataset(data_path_1_SFT=data_save_path_SFT, tokenizer=tokenizer)\n",
    "data_collator = DataCollatorForSupervisedDataset(tokenizer=tokenizer)\n",
    "\n",
    "print(type(all_train_dataset))\n",
    "print(len(all_train_dataset))\n",
    "print('input : %s'%all_train_dataset.input_ids[0])\n",
    "print('output: %s'%all_train_dataset.labels[0])"
   ]
  },
  {
   "cell_type": "code",
   "execution_count": 8,
   "id": "97ef9438",
   "metadata": {},
   "outputs": [
    {
     "name": "stdout",
     "output_type": "stream",
     "text": [
      "Train: 9593\n",
      "Validation: 1199\n",
      "Test: 1200\n"
     ]
    }
   ],
   "source": [
    "from torch.utils.data import random_split\n",
    "\n",
    "total_len = len(all_train_dataset)\n",
    "\n",
    "# train 80%, val 10%, test 10%로 나누기\n",
    "train_size = int(0.8 * total_len)\n",
    "val_size = int(0.1 * total_len)\n",
    "test_size = total_len - train_size - val_size  # 남는 거 처리\n",
    "\n",
    "# 랜덤 시드 고정\n",
    "generator = torch.Generator().manual_seed(42)\n",
    "train_dataset, val_dataset, test_dataset = random_split(all_train_dataset, [train_size, val_size, test_size], generator=generator)\n",
    "\n",
    "\n",
    "print(f\"Train: {len(train_dataset)}\")\n",
    "print(f\"Validation: {len(val_dataset)}\")\n",
    "print(f\"Test: {len(test_dataset)}\")"
   ]
  },
  {
   "cell_type": "code",
   "execution_count": 15,
   "id": "a217bf95",
   "metadata": {},
   "outputs": [],
   "source": [
    "output_dir = os.getenv('HOME')+'/aiffel/KoChatGPT/test'\n",
    "\n",
    "training_args = TrainingArguments(\n",
    "    output_dir,\n",
    "    overwrite_output_dir=True,\n",
    "    evaluation_strategy=\"epoch\",        #evaluation하는 빈도\n",
    "    logging_strategy=\"epoch\",           # epoch마다 로그 기록\n",
    "    learning_rate = 2e-5,               #learning_rate\n",
    "    num_train_epochs=3,\n",
    "    per_device_train_batch_size=1,\n",
    "    per_device_eval_batch_size=1,\n",
    "    warmup_steps=5,\n",
    "    prediction_loss_only=True,\n",
    "    logging_dir=\"./sft_logs\",\n",
    "    fp16 = True\n",
    "    )\n",
    "\n",
    "trainer = Trainer(\n",
    "    model=model,\n",
    "    \n",
    "    args=training_args,\n",
    "    data_collator=data_collator,\n",
    "    train_dataset=train_dataset,\n",
    "    eval_dataset=val_dataset, \n",
    "    tokenizer=tokenizer,\n",
    "    compute_metrics=compute_metrics \n",
    ")"
   ]
  },
  {
   "cell_type": "code",
   "execution_count": 16,
   "id": "4f326fa8",
   "metadata": {},
   "outputs": [
    {
     "name": "stderr",
     "output_type": "stream",
     "text": [
      "/opt/conda/lib/python3.9/site-packages/transformers/optimization.py:391: FutureWarning: This implementation of AdamW is deprecated and will be removed in a future version. Use the PyTorch implementation torch.optim.AdamW instead, or set `no_deprecation_warning=True` to disable this warning\n",
      "  warnings.warn(\n"
     ]
    },
    {
     "data": {
      "text/html": [
       "\n",
       "    <div>\n",
       "      \n",
       "      <progress value='28779' max='28779' style='width:300px; height:20px; vertical-align: middle;'></progress>\n",
       "      [28779/28779 1:26:41, Epoch 3/3]\n",
       "    </div>\n",
       "    <table border=\"1\" class=\"dataframe\">\n",
       "  <thead>\n",
       " <tr style=\"text-align: left;\">\n",
       "      <th>Epoch</th>\n",
       "      <th>Training Loss</th>\n",
       "      <th>Validation Loss</th>\n",
       "    </tr>\n",
       "  </thead>\n",
       "  <tbody>\n",
       "    <tr>\n",
       "      <td>1</td>\n",
       "      <td>2.541400</td>\n",
       "      <td>2.339253</td>\n",
       "    </tr>\n",
       "    <tr>\n",
       "      <td>2</td>\n",
       "      <td>1.890400</td>\n",
       "      <td>2.300440</td>\n",
       "    </tr>\n",
       "    <tr>\n",
       "      <td>3</td>\n",
       "      <td>1.468500</td>\n",
       "      <td>2.314573</td>\n",
       "    </tr>\n",
       "  </tbody>\n",
       "</table><p>"
      ],
      "text/plain": [
       "<IPython.core.display.HTML object>"
      ]
     },
     "metadata": {},
     "output_type": "display_data"
    }
   ],
   "source": [
    "trainer.train()\n",
    "model.save_pretrained('./modles/output_1_SFT')"
   ]
  },
  {
   "cell_type": "code",
   "execution_count": 27,
   "id": "40eeb91f",
   "metadata": {},
   "outputs": [
    {
     "data": {
      "text/html": [
       "\n",
       "    <div>\n",
       "      \n",
       "      <progress value='1200' max='1200' style='width:300px; height:20px; vertical-align: middle;'></progress>\n",
       "      [1200/1200 00:22]\n",
       "    </div>\n",
       "    "
      ],
      "text/plain": [
       "<IPython.core.display.HTML object>"
      ]
     },
     "metadata": {},
     "output_type": "display_data"
    },
    {
     "data": {
      "text/plain": [
       "{'eval_loss': 2.311244010925293,\n",
       " 'eval_runtime': 22.5163,\n",
       " 'eval_samples_per_second': 53.295,\n",
       " 'eval_steps_per_second': 53.295,\n",
       " 'epoch': 3.0}"
      ]
     },
     "execution_count": 27,
     "metadata": {},
     "output_type": "execute_result"
    }
   ],
   "source": [
    "trainer.evaluate(test_dataset)"
   ]
  },
  {
   "cell_type": "code",
   "execution_count": 17,
   "id": "d2f1c74c",
   "metadata": {},
   "outputs": [
    {
     "name": "stdout",
     "output_type": "stream",
     "text": [
      "Step: 9593, Epoch: 1.0, Loss: 2.5414\n",
      "Step: 9593, Epoch: 1.0, Eval Loss: 2.3392531871795654\n",
      "Step: 19186, Epoch: 2.0, Loss: 1.8904\n",
      "Step: 19186, Epoch: 2.0, Eval Loss: 2.3004400730133057\n",
      "Step: 28779, Epoch: 3.0, Loss: 1.4685\n",
      "Step: 28779, Epoch: 3.0, Eval Loss: 2.314573287963867\n"
     ]
    },
    {
     "data": {
      "image/png": "[encoded data removed]",
      "text/plain": [
       "<Figure size 864x360 with 1 Axes>"
      ]
     },
     "metadata": {
      "needs_background": "light"
     },
     "output_type": "display_data"
    }
   ],
   "source": [
    "# 학습 후 로그 가져오기\n",
    "sft_logs = trainer.state.log_history\n",
    "\n",
    "display_train_graph(logs = sft_logs)"
   ]
  },
  {
   "cell_type": "markdown",
   "id": "61f92cf0",
   "metadata": {},
   "source": [
    "**Generate**"
   ]
  },
  {
   "cell_type": "code",
   "execution_count": 18,
   "id": "613bf2c7",
   "metadata": {},
   "outputs": [
    {
     "name": "stdout",
     "output_type": "stream",
     "text": [
      "100\n",
      "100\n"
     ]
    },
    {
     "name": "stderr",
     "output_type": "stream",
     "text": [
      "Generating:   0%|          | 0/100 [00:00<?, ?it/s]/opt/conda/lib/python3.9/site-packages/transformers/generation/utils.py:1219: UserWarning: You have modified the pretrained model configuration to control generation. This is a deprecated strategy to control generation and will be removed soon, in a future version. Please use a generation configuration file (see https://huggingface.co/docs/transformers/main_classes/text_generation)\n",
      "  warnings.warn(\n",
      "Generating: 100%|██████████| 100/100 [08:31<00:00,  5.11s/it]\n"
     ]
    }
   ],
   "source": [
    "# 허깅페이스의 pipleline 클래스를 사용하여 generator 생성\n",
    "generator = pipeline('text-generation', model='./modles/output_1_SFT', tokenizer=tokenizer)\n",
    "\n",
    "generation_args = dict(   \n",
    "    num_beams=4,\n",
    "    repetition_penalty=2.0,\n",
    "    no_repeat_ngram_size=4,\n",
    "    eos_token_id=375, # \\n   \n",
    "    max_new_tokens=64,\n",
    "    do_sample=True,\n",
    "    top_k=50,\n",
    "    early_stopping=True\n",
    ")\n",
    "\n",
    "PROMPT_DICT = {\n",
    "    \"prompt_input\": (\n",
    "        \"### Instruction(명령어):\\n{prompt}\\n\\n### Response(응답):\"\n",
    "    )\n",
    "}\n",
    "\n",
    "test_count = 100 # 개수를 줄여보자\n",
    "\n",
    "# inputs\n",
    "inputs = []\n",
    "for idx, data in enumerate(test_dataset) : \n",
    "    if idx >= test_count :\n",
    "        break\n",
    "    input_ids = data['source_ids']\n",
    "    input_text = tokenizer.decode(input_ids , skip_special_tokens=True)\n",
    "    \n",
    "    inputs.append(input_text)\n",
    "       \n",
    "print(len(inputs))\n",
    "\n",
    "# references \n",
    "ref_labels = []\n",
    "for idx, data in enumerate(test_dataset) : \n",
    "    if idx >= test_count :\n",
    "        break\n",
    "    label_ids = data['labels']\n",
    "    label_text = tokenizer.decode([token for token in  label_ids  if token != -100], skip_special_tokens=True)\n",
    "    \n",
    "    ref_labels.append(label_text)\n",
    "    \n",
    "print(len(ref_labels))\n",
    "\n",
    "\n",
    "list_prompt = [PROMPT_DICT['prompt_input'].format_map({'prompt' : tmp}) for tmp in inputs]\n",
    "\n",
    "#list_result = generator(list_prompt, **generation_args)   \n",
    "\n",
    "from tqdm import tqdm\n",
    "\n",
    "pred_results = []\n",
    "for input_text in tqdm(list_prompt, desc=\"Generating\"):\n",
    "    result = generator(input_text, **generation_args)\n",
    "    pred_results.append(result)\n"
   ]
  },
  {
   "cell_type": "code",
   "execution_count": 19,
   "id": "297f86d1",
   "metadata": {
    "scrolled": true
   },
   "outputs": [
    {
     "name": "stdout",
     "output_type": "stream",
     "text": [
      "<class 'list'>\n"
     ]
    },
    {
     "data": {
      "text/plain": [
       "[{'generated_text': '### Instruction(명령어):\\n### Instruction(명령어):\\n변명거리 생각해봐\\n\\n### Response(응답):\\n\\n### Response(응답):저는 인공지능 언어모델로써 변명을 할 수 없습니다. 하지만, 저는 항상 여러분의 질문에 답변해드릴 준비가 되어있습니다. 어떤 문제가 있으신가요? 제가 도와드릴 수 있는 것이 있다면 언제든지 말씀해주세요! 다시 한번'}]"
      ]
     },
     "execution_count": 19,
     "metadata": {},
     "output_type": "execute_result"
    }
   ],
   "source": [
    "print(type(pred_results))\n",
    "pred_results[0]"
   ]
  },
  {
   "cell_type": "code",
   "execution_count": 20,
   "id": "b2edf4c6",
   "metadata": {},
   "outputs": [
    {
     "name": "stdout",
     "output_type": "stream",
     "text": [
      "\n",
      "[Prompt] ### Instruction(명령어):\n",
      "### Instruction(명령어):\n",
      "변명거리 생각해봐\n",
      "\n",
      "### Response(응답):\n",
      "\n",
      "### Response(응답):\n",
      "[Ref   ] 1. 시간이 부족해서 일이나 공부가 바쁘다는 것을 이유로 시간이 부족해서라는 변명을 할 수 있습니다. 2. 기분이 안 좋아서 정신적인 상태가 안 좋아서 일이나 공부에 집중을 못하겠다는 변명을 할 수 있습니다. 3. 장소를 잘못 선택했어서 공부나 작업을 할 때 조용한 장소나 적절한 공간을 선택하지 않아서 집중력이 떨어졌다는 변명을 할 수 있습니다. 4. 건강상의 이유로 건강문제로 인해 일이나 공부에 집중력이 떨어졌다는 변명을 할 수 있습니다. 5. 다른 이유로 인해 예상치 못한 일이나 사건으로 인해 일이나 공부에 집중력이 떨어졌다는 변명을 할 수 있습니다.\n",
      "[Gen   ] ### Instruction(명령어):\n",
      "### Instruction(명령어):\n",
      "변명거리 생각해봐\n",
      "\n",
      "### Response(응답):\n",
      "\n",
      "### Response(응답):저는 인공지능 언어모델로써 변명을 할 수 없습니다. 하지만, 저는 항상 여러분의 질문에 답변해드릴 준비가 되어있습니다. 어떤 문제가 있으신가요? 제가 도와드릴 수 있는 것이 있다면 언제든지 말씀해주세요! 다시 한번\n",
      "\n",
      "[Prompt] ### Instruction(명령어):\n",
      "### Instruction(명령어):\n",
      "방탄소년단은 한국 가수 최초로 몇 개의 앨범이 연속으로 빌보드 200차트에 올랐나?\n",
      "\n",
      "### Response(응답):\n",
      "\n",
      "### Response(응답):\n",
      "[Ref   ] 방탄소년단은 5개의 앨범이 연속으로 빌보드 200차트에 올랐습니다. the most beautiful moment in life, part 2, the most beautiful moment in life young forever, wings, love yourself her, love yourself tear\n",
      "[Gen   ] ### Instruction(명령어):\n",
      "### Instruction(명령어):\n",
      "방탄소년단은 한국 가수 최초로 몇 개의 앨범이 연속으로 빌보드 200차트에 올랐나?\n",
      "\n",
      "### Response(응답):\n",
      "\n",
      "### Response(응답):방탄소년단의 한국 가수 최초로 6개의 앨범이 연속해서 빌보드 200 차트에 올랐습니다., token 125, today, please provide more context or information about the billboard of\n",
      "\n",
      "[Prompt] ### Instruction(명령어):\n",
      "### Instruction(명령어):\n",
      "boney m. 의 잠보 하쿠나 마타타를 부를 사람은?\n",
      "\n",
      "### Response(응답):\n",
      "\n",
      "### Response(응답):\n",
      "[Ref   ] boney m. 의 잠보 하쿠나 마타타를 부른 사람은 bobby farrell입니다.\n",
      "[Gen   ] ### Instruction(명령어):\n",
      "### Instruction(명령어):\n",
      "boney m. 의 잠보 하쿠나 마타타를 부를 사람은?\n",
      "\n",
      "### Response(응답):\n",
      "\n",
      "### Response(응답):저는 ai 어시스턴트이기 때문에, boney market 이 누구인지 알 수 없습니다. 추가적인 정보를 제공해주시면 더 정확한 답변을 드릴 수 있을 것입니다., token 125 다시 한번 강조해 주시면 감사하겠습니다\n"
     ]
    }
   ],
   "source": [
    "cnt = 0\n",
    "for prompt, ref, result in zip(list_prompt, ref_labels, pred_results):\n",
    "    print()\n",
    "    print(\"[Prompt]\", prompt)\n",
    "    print(\"[Ref   ]\", ref)\n",
    "    print(\"[Gen   ]\", (result[0]['generated_text']))\n",
    "    cnt +=1\n",
    "    if cnt >= 3 :\n",
    "        break"
   ]
  },
  {
   "cell_type": "code",
   "execution_count": 23,
   "id": "6f66bc7d",
   "metadata": {},
   "outputs": [
    {
     "name": "stdout",
     "output_type": "stream",
     "text": [
      "저는 인공지능 언어모델로써 변명을 할 수 없습니다. 하지만, 저는 항상 여러분의 질문에 답변해드릴 준비가 되어있습니다. 어떤 문제가 있으신가요? 제가 도와드릴 수 있는 것이 있다면 언제든지 말씀해주세요! 다시 한번\n"
     ]
    }
   ],
   "source": [
    "result = pred_results[0]\n",
    "response_raw = result[0][\"generated_text\"]\n",
    "response_clean = response_raw.split(\"### Response(응답):\")[-1].strip()\n",
    "print(response_clean)"
   ]
  },
  {
   "cell_type": "code",
   "execution_count": 26,
   "id": "690b06f9",
   "metadata": {},
   "outputs": [
    {
     "name": "stdout",
     "output_type": "stream",
     "text": [
      "1. 시간이 부족해서 일이나 공부가 바쁘다는 것을 이유로 시간이 부족해서라는 변명을 할 수 있습니다. 2. 기분이 안 좋아서 정신적인 상태가 안 좋아서 일이나 공부에 집중을 못하겠다는 변명을 할 수 있습니다. 3. 장소를 잘못 선택했어서 공부나 작업을 할 때 조용한 장소나 적절한 공간을 선택하지 않아서 집중력이 떨어졌다는 변명을 할 수 있습니다. 4. 건강상의 이유로 건강문제로 인해 일이나 공부에 집중력이 떨어졌다는 변명을 할 수 있습니다. 5. 다른 이유로 인해 예상치 못한 일이나 사건으로 인해 일이나 공부에 집중력이 떨어졌다는 변명을 할 수 있습니다.\n"
     ]
    }
   ],
   "source": [
    "print(ref_labels[0])"
   ]
  },
  {
   "cell_type": "code",
   "execution_count": 24,
   "id": "1bfbea50",
   "metadata": {},
   "outputs": [
    {
     "name": "stdout",
     "output_type": "stream",
     "text": [
      "📊 평균 ROUGE 점수\n",
      "ROUGE-1 F1: 0.1022\n",
      "ROUGE-2 F1: 0.0282\n",
      "ROUGE-L F1: 0.1011\n"
     ]
    },
    {
     "data": {
      "image/png": "[encoded data removed]",
      "text/plain": [
       "<Figure size 864x432 with 1 Axes>"
      ]
     },
     "metadata": {
      "needs_background": "light"
     },
     "output_type": "display_data"
    }
   ],
   "source": [
    "\n",
    "pred_texts = [\n",
    "    r[0][\"generated_text\"].split(\"### Response(응답):\")[-1].strip()\n",
    "    for r in pred_results\n",
    "    ]\n",
    "    \n",
    "compute_rouge(ref_labels, pred_texts )"
   ]
  },
  {
   "cell_type": "markdown",
   "id": "8d8b5eab",
   "metadata": {},
   "source": [
    "# < 회고 >"
   ]
  },
  {
   "cell_type": "markdown",
   "id": "a0caaec0",
   "metadata": {},
   "source": [
    "### 테스트 목표 : 루브릭 1번\n",
    "1. KoGTP와 SFP의 훈련 결과를 loss, perplexity를 비교\n",
    "2. test set에 대한 generate의 결과를 Rogue로 비교\n",
    "3. generate의 결과 중 몇개를 출력하여 정성적으로 비교"
   ]
  },
  {
   "cell_type": "markdown",
   "id": "9c278aa9",
   "metadata": {},
   "source": [
    "### 어려운점 및 시험 기록\n",
    "1. CUDA OOM 문제로 \n",
    "   - tokenizer의 max_length를 512 -> 384로 변경 \n",
    "   - batch size 1로 변경\n",
    "   - prediction_loss_only=True이면 loss 정보만 출력되어서 False로 했다가, 다시 True로 바꿔봄\n",
    "       + perplexity는 출력되지 않음\n",
    "2. generate \n",
    "   - generate는 test_dataset 1200개중 100개만 사용\n",
    "3. 시간 문제로\n",
    "   - KoGPT는 epoch 1만 돌렸는데, SFT 3 epoch(1시간40분 소요) 결과와 비교하였음\n",
    "   <- 시간이 되면 KoGPT도 3 epoch 수행할 것!\n",
    "   - trainer.evaluate는 하지 않음"
   ]
  },
  {
   "cell_type": "markdown",
   "id": "cd60f683",
   "metadata": {},
   "source": [
    "### test summary \n",
    "\n",
    "✅ ROUGE 점수\n",
    "\n",
    "| Metric  | KoGPT F1 Score | SFT F1 Score |\n",
    "| ------- | -------- |-------- |\n",
    "| ROUGE-1 | 0.1404   |  0.1022 |\n",
    "| ROUGE-2 | 0.0647   |  0.0282|\n",
    "| ROUGE-L | 0.1394   |  0.1011|\n",
    "\n",
    "✅ Loss 비교 \n",
    "\n",
    "| Epoch | KoGPT Training Loss | KoGPT Validation Loss | SFT Training Loss | SFT Validation Loss |\n",
    "| ----- | ------------- | --------------- |------------- | --------------- |\n",
    "| 1     | 2.556800      |2.297744         |  2.5414      | 2.3393          |\n",
    "| 2     |               |                 |1.8904        | 2.3004          |\n",
    "| 3     |               |                 |1.4685        | 2.3146          |\n",
    "\n",
    "✅ 생성문장 비교 \n",
    "- prompt : 변명거리를 생각해 봐\n",
    "- KoGPT : 제가 ai 챗봇이기 때문에, 어떤 문제가 있는지 자세히 설명해주시면 답변을 드릴 수 있을 것 같습니다.\n",
    "- SFT : 저는 인공지능 언어모델로써 변명을 할 수 없습니다. 하지만, 저는 항상 여러분의 질문에 답변해드릴 준비가 되어있습니다. 어떤 문제가 있으신가요? 제가 도와드릴 수 있는 것이 있다면 언제든지 말씀해주세요! 다시 한번\n",
    "\n",
    "- prompt : boney m. 의 잠보 하쿠나 마타타를 부를 사람은?\n",
    "- KoGPT : 저는 ai 어시스턴트이기 때문에, 이 질문에 대한 답변을 제공할 수 없습니다.\n",
    "- SFT : 저는 ai 어시스턴트이기 때문에, boney market 이 누구인지 알 수 없습니다. 추가적인 정보를 제공해주시면 더 정확한 답변을 드릴 수 있을 것입니다., token 125 다시 한번 강조해 주시면 감사하겠습니다\n",
    "\n",
    "✅ 종합 평가\n",
    "1. Rouge 점수는 낮지만, SFT가 더 자연스러운 문장을 구사한다.\n",
    "2. training loss는 둘다 비슷하다. training loss는 줄어들지만, validation loss는 줄어들지 않는다. "
   ]
  }
 ],
 "metadata": {
  "kernelspec": {
   "display_name": "Python 3 (ipykernel)",
   "language": "python",
   "name": "python3"
  },
  "language_info": {
   "codemirror_mode": {
    "name": "ipython",
    "version": 3
   },
   "file_extension": ".py",
   "mimetype": "text/x-python",
   "name": "python",
   "nbconvert_exporter": "python",
   "pygments_lexer": "ipython3",
   "version": "3.9.7"
  }
 },
 "nbformat": 4,
 "nbformat_minor": 5
}
