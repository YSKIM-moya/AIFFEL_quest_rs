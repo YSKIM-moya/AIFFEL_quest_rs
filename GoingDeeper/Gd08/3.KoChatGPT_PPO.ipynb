{
 "cells": [
  {
   "cell_type": "code",
   "execution_count": 1,
   "id": "fe1b4063",
   "metadata": {},
   "outputs": [],
   "source": [
    "import os\n",
    "import sys\n",
    "sys.path.append('/aiffel')\n",
    "\n",
    "from copy import deepcopy\n",
    "\n",
    "import torch\n",
    "from torch.optim import Adam\n",
    "from chatgpt.models.base import RewardModel\n",
    "from chatgpt.models.gpt import GPTActor, GPTCritic\n",
    "from chatgpt.trainer import PPOTrainer\n",
    "from chatgpt.trainer.strategies import NaiveStrategy\n",
    "from transformers import AutoTokenizer, AutoModelForCausalLM, pipeline\n",
    "import json"
   ]
  },
  {
   "cell_type": "markdown",
   "id": "54b2c421",
   "metadata": {},
   "source": [
    "class RewardModel(LoRAModule):\n",
    "    \"\"\"\n",
    "    Reward model base class.\n",
    "\n",
    "    Args:\n",
    "        model (nn.Module): Reward model.\n",
    "        value_head (nn.Module): Value head to get reward score.\n",
    "        lora_rank (int): LoRA rank.\n",
    "        lora_train_bias (str): LoRA bias training mode.\n",
    "    \"\"\"\n",
    "\n",
    "    def __init__(self,\n",
    "                 model: nn.Module,\n",
    "                 value_head: Optional[nn.Module] = None,\n",
    "                 lora_rank: int = 0,\n",
    "                 lora_train_bias: str = 'none') -> None:\n",
    "        super().__init__(lora_rank=lora_rank, lora_train_bias=lora_train_bias)\n",
    "        self.model = model\n",
    "        self.convert_to_lora()\n",
    "\n",
    "        if value_head is not None:\n",
    "            if value_head.out_features != 1:\n",
    "                raise ValueError(\"The value head of reward model's output dim should be 1!\")\n",
    "            self.value_head = value_head\n",
    "        else:\n",
    "            self.value_head = nn.Linear(model.config.n_embd, 1)\n",
    "\n",
    "    def forward(self, sequences: torch.LongTensor, attention_mask: Optional[torch.Tensor] = None) -> torch.Tensor:\n",
    "        outputs = self.model(sequences, attention_mask=attention_mask)\n",
    "        last_hidden_states = outputs['last_hidden_state']\n",
    "        values = self.value_head(last_hidden_states)[:, :-1]\n",
    "        value = values.mean(dim=1).squeeze(1)    # ensure shape is (B)\n",
    "        return value"
   ]
  },
  {
   "cell_type": "code",
   "execution_count": 2,
   "id": "cb288099",
   "metadata": {},
   "outputs": [],
   "source": [
    "model = AutoModelForCausalLM.from_pretrained('skt/kogpt2-base-v2')\n",
    "tokenizer = AutoTokenizer.from_pretrained(\n",
    "    'skt/kogpt2-base-v2', bos_token='</s>', eos_token='</s>', unk_token='</s>', pad_token='</s>',\n",
    "    padding_side=\"right\",\n",
    "    model_max_length=512,\n",
    ")\n",
    "\n",
    "with NaiveStrategy().model_init_context():\n",
    "    actor = GPTActor(pretrained='./modles/output_1_SFT', lora_rank=0).to(torch.cuda.current_device())\n",
    "    critic = GPTCritic(pretrained='./models/output_2_RM', lora_rank=0).to(torch.cuda.current_device())\n",
    "\n",
    "    tokenizer = AutoTokenizer.from_pretrained(\n",
    "        'skt/kogpt2-base-v2', bos_token='</s>', eos_token='</s>', unk_token='</s>', pad_token='</s>',\n",
    "        padding_side=\"right\", \n",
    "        model_max_length=512\n",
    "    )\n",
    "\n",
    "    initial_model = deepcopy(actor)\n",
    "    reward_model = RewardModel(deepcopy(critic.model), deepcopy(critic.value_head)).to(torch.cuda.current_device())\n",
    "    \n",
    "    # critic.value_head : 마지막에 붙은 보상 예측기 \n",
    "    # critic : PPO 학습 중 value function을 학습 \n",
    "    # reward_model : 보상 예측을 위해 따로 고정해 놓는다. \n",
    "    \n",
    "    # initial model은 SFT 모델을 그대로 freezing하여 사용한다. \n",
    "\n",
    "    \n",
    "actor_optim = Adam(actor.parameters(), lr=5e-6)\n",
    "critic_optim = Adam(critic.parameters(), lr=5e-6)\n"
   ]
  },
  {
   "cell_type": "code",
   "execution_count": 3,
   "id": "ba5aa914",
   "metadata": {},
   "outputs": [],
   "source": [
    "(actor, actor_optim), (critic, critic_optim), reward_model, initial_model = NaiveStrategy().prepare(\n",
    "    (actor, actor_optim), (critic, critic_optim), reward_model, initial_model)"
   ]
  },
  {
   "cell_type": "code",
   "execution_count": 4,
   "id": "82b9da5d",
   "metadata": {},
   "outputs": [
    {
     "name": "stdout",
     "output_type": "stream",
     "text": [
      "11992\n"
     ]
    }
   ],
   "source": [
    "with open('./data/clean_kochatgpt_1_PPO.jsonl', \"r\", encoding='utf-8-sig') as json_file:\n",
    "    list_data_dict = json.load(json_file)\n",
    "    list_prompt = [tmp['prompt'] for tmp in list_data_dict]\n",
    "\n",
    "print(len(list_prompt))\n",
    "\n",
    "def tokenize_fn(texts):\n",
    "    batch = tokenizer(texts, return_tensors='pt', max_length=96, padding=True, truncation=True)\n",
    "    return {k: v.cuda() for k, v in batch.items()}"
   ]
  },
  {
   "cell_type": "code",
   "execution_count": 5,
   "id": "7f7f03ff",
   "metadata": {},
   "outputs": [
    {
     "name": "stdout",
     "output_type": "stream",
     "text": [
      "번디는 자신이 탐정잡지, 범죄소설 그리고 성범죄 관련 실제 범죄 다큐멘터리들을 탐독했다고 누구에게 말했나?\n"
     ]
    }
   ],
   "source": [
    "print(list_prompt[0])"
   ]
  },
  {
   "cell_type": "markdown",
   "id": "1005e725",
   "metadata": {},
   "source": [
    "import torch.nn as nn \n",
    "# Actor : 정책을 업데이트 \n",
    "class PolicyLoss(nn.Module):\n",
    "    \"\"\"\n",
    "    Policy Loss for PPO\n",
    "    \"\"\"\n",
    "\n",
    "    def __init__(self, clip_eps: float = 0.2) -> None:\n",
    "        super().__init__()\n",
    "        self.clip_eps = clip_eps\n",
    "\n",
    "    def forward(self,\n",
    "                log_probs: torch.Tensor,\n",
    "                old_log_probs: torch.Tensor,\n",
    "                advantages: torch.Tensor,\n",
    "                action_mask: Optional[torch.Tensor] = None) -> torch.Tensor:\n",
    "        ratio = (log_probs - old_log_probs).exp()\n",
    "        surr1 = ratio * advantages\n",
    "        surr2 = ratio.clamp(1 - self.clip_eps, 1 + self.clip_eps) * advantages  \n",
    "        # clamp(input, min, max) : 텐서의 각 요소를 min~max 사이값으로 유지 \n",
    "        # clip_eps가 0.2이면, 0.8 ~ 1.2로 강제 제한\n",
    "                   \n",
    "        loss = -torch.min(surr1, surr2)   # 손실함수에 -를 붙여서, loss를 최소화하고 보상을 최대화한다. \n",
    "        if action_mask is not None:\n",
    "            loss = masked_mean(loss, action_mask)\n",
    "        loss = loss.mean()\n",
    "        return loss\n",
    "\n",
    "# Critic: 보상을 예측\n",
    "class ValueLoss(nn.Module):\n",
    "    \"\"\"\n",
    "    Value Loss for PPO\n",
    "    \"\"\"\n",
    "\n",
    "    def __init__(self, clip_eps: float = 0.4) -> None:\n",
    "        super().__init__()\n",
    "        self.clip_eps = clip_eps\n",
    "\n",
    "    def forward(self,\n",
    "                values: torch.Tensor,\n",
    "                old_values: torch.Tensor,\n",
    "                reward: torch.Tensor,\n",
    "                action_mask: Optional[torch.Tensor] = None) -> torch.Tensor:\n",
    "       \n",
    "        # values : 현재 critic이 예측한 value\n",
    "        # old_values : 지난 step에서 critic이 예측\n",
    "        # loss : critic이 예측한 value가 reward에 얼마나 가까운지 MSE 방식으로 학습 \n",
    "        \n",
    "        values_clipped = old_values + (values - old_values).clamp(-self.clip_eps, self.clip_eps)\n",
    "        surr1 = (values_clipped - reward)**2\n",
    "        surr2 = (values - reward)**2\n",
    "        loss = torch.max(surr1, surr2)\n",
    "        loss = loss.mean()\n",
    "        return loss"
   ]
  },
  {
   "cell_type": "code",
   "execution_count": 6,
   "id": "a0c7846b",
   "metadata": {},
   "outputs": [],
   "source": [
    "trainer = PPOTrainer(NaiveStrategy(),\n",
    "                     actor,\n",
    "                     critic,\n",
    "                     reward_model,\n",
    "                     initial_model,\n",
    "                     actor_optim,\n",
    "                     critic_optim,\n",
    "                     max_epochs=3,  \n",
    "                     train_batch_size=8, \n",
    "                     tokenizer=tokenize_fn,\n",
    "                     max_length=250,\n",
    "                     do_sample=True,\n",
    "                     temperature=1.0,\n",
    "                     top_k=50,\n",
    "                     pad_token_id=tokenizer.pad_token_id,\n",
    "                     eos_token_id=tokenizer.eos_token_id)\n",
    "\n",
    "# 아래는 **generate_kwargs에 해당하며, actor.generate()를 호출할 때 전달되는 텍스트 생성 파라미터들이다.\n",
    "# max_length=128,\n",
    "# do_sample=True,\n",
    "# temperature=1.0,\n",
    "# top_k=50,\n",
    "# pad_token_id=tokenizer.pad_token_id,\n",
    "# eos_token_id=tokenizer.eos_token_id"
   ]
  },
  {
   "cell_type": "markdown",
   "id": "511d2e46",
   "metadata": {},
   "source": [
    "**PPOTrainer에서 actor,critic,reward_model,initial_model 동작**\n",
    "\n",
    "1) trainer.fit에서  experience = self._make_experience(inputs)\n",
    "\n",
    "2) PPOTrainer의 experience_maker = NaiveExperienceMaker(actor, critic, reward_model, initial_model, kl_coef)\n",
    "\n",
    "- actor.generate : input_ids(prompt)로 부터 sequences 생성 (response)\n",
    "- initail_model : sequence로 base_log_probs (freeze)\n",
    "- actor : sequence로 log_probs (단어분포인 logits에서 확률) \n",
    "- critic :  sequence로 value 계산 (학습)\n",
    "- reward_model :  sequence로 보상 계산 (freeze)\n",
    "- reward = compute_reward(r, self.kl_coef, action_log_probs, base_action_log_probs, action_mask=action_mask)\n",
    "- advantage = reward - value"
   ]
  },
  {
   "cell_type": "markdown",
   "id": "8811bb3f",
   "metadata": {},
   "source": [
    "class NaiveExperienceMaker(ExperienceMaker):\n",
    "    \"\"\"\n",
    "    Naive experience maker.\n",
    "    \"\"\"\n",
    "\n",
    "    @torch.no_grad()\n",
    "    def make_experience(self, input_ids: torch.Tensor, **generate_kwargs) -> Experience:\n",
    "        self.actor.eval()\n",
    "        self.critic.eval()\n",
    "        self.initial_model.eval()\n",
    "        self.reward_model.eval()\n",
    "\n",
    "        sequences, attention_mask, action_mask = self.actor.generate(input_ids,\n",
    "                                                                     return_action_mask=True,\n",
    "                                                                     **generate_kwargs)\n",
    "        num_actions = action_mask.size(1)\n",
    "\n",
    "        action_log_probs = self.actor(sequences, num_actions, attention_mask)\n",
    "        base_action_log_probs = self.initial_model(sequences, num_actions, attention_mask)\n",
    "        value = self.critic(sequences, action_mask, attention_mask)\n",
    "        r = self.reward_model(sequences, attention_mask)\n",
    "\n",
    "        reward = compute_reward(r, self.kl_coef, action_log_probs, base_action_log_probs, action_mask=action_mask)\n",
    "\n",
    "        advantage = reward - value\n",
    "        # TODO(ver217): maybe normalize adv\n",
    "        if advantage.ndim == 1:\n",
    "            advantage = advantage.unsqueeze(-1)\n",
    "\n",
    "        return Experience(sequences, action_log_probs, value, reward, advantage, attention_mask, action_mask)"
   ]
  },
  {
   "cell_type": "code",
   "execution_count": 7,
   "id": "7825b68e",
   "metadata": {},
   "outputs": [
    {
     "name": "stderr",
     "output_type": "stream",
     "text": [
      "Episode [1/10]:  67%|██████▋   | 2/3 [00:12<00:06,  6.20s/it]\n",
      "Train epoch [1/3]:   0%|          | 0/3 [00:00<?, ?it/s]\u001b[A\n",
      "Train epoch [1/3]:   0%|          | 0/3 [00:00<?, ?it/s, actor_loss=0, critic_loss=0.00014]\u001b[A\n",
      "Train epoch [1/3]:  33%|███▎      | 1/3 [00:00<00:01,  1.82it/s, actor_loss=0, critic_loss=0.00014]\u001b[A\n",
      "Train epoch [1/3]:  33%|███▎      | 1/3 [00:01<00:01,  1.82it/s, actor_loss=0, critic_loss=0.00158]\u001b[A\n",
      "Train epoch [1/3]:  67%|██████▋   | 2/3 [00:01<00:00,  1.83it/s, actor_loss=0, critic_loss=0.00158]\u001b[A\n",
      "Train epoch [1/3]:  67%|██████▋   | 2/3 [00:01<00:00,  1.83it/s, actor_loss=0, critic_loss=0.000282]\u001b[A\n",
      "Train epoch [1/3]: 100%|██████████| 3/3 [00:01<00:00,  1.82it/s, actor_loss=0, critic_loss=0.000282]\u001b[A\n",
      "\n",
      "Train epoch [2/3]:   0%|          | 0/3 [00:00<?, ?it/s]\u001b[A\n",
      "Train epoch [2/3]:   0%|          | 0/3 [00:00<?, ?it/s, actor_loss=0, critic_loss=0.000787]\u001b[A\n",
      "Train epoch [2/3]:  33%|███▎      | 1/3 [00:00<00:01,  1.83it/s, actor_loss=0, critic_loss=0.000787]\u001b[A\n",
      "Train epoch [2/3]:  33%|███▎      | 1/3 [00:01<00:01,  1.83it/s, actor_loss=0, critic_loss=0.000722]\u001b[A\n",
      "Train epoch [2/3]:  67%|██████▋   | 2/3 [00:01<00:00,  1.82it/s, actor_loss=0, critic_loss=0.000722]\u001b[A\n",
      "Train epoch [2/3]:  67%|██████▋   | 2/3 [00:01<00:00,  1.82it/s, actor_loss=0, critic_loss=0.000654]\u001b[A\n",
      "Train epoch [2/3]: 100%|██████████| 3/3 [00:01<00:00,  1.82it/s, actor_loss=0, critic_loss=0.000654]\u001b[A\n",
      "\n",
      "Train epoch [3/3]:   0%|          | 0/3 [00:00<?, ?it/s]\u001b[A\n",
      "Train epoch [3/3]:   0%|          | 0/3 [00:00<?, ?it/s, actor_loss=0, critic_loss=0.000255]\u001b[A\n",
      "Train epoch [3/3]:  33%|███▎      | 1/3 [00:00<00:01,  1.83it/s, actor_loss=0, critic_loss=0.000255]\u001b[A\n",
      "Train epoch [3/3]:  33%|███▎      | 1/3 [00:01<00:01,  1.83it/s, actor_loss=0, critic_loss=0.0011]  \u001b[A\n",
      "Train epoch [3/3]:  67%|██████▋   | 2/3 [00:01<00:00,  1.82it/s, actor_loss=0, critic_loss=0.0011]\u001b[A\n",
      "Train epoch [3/3]:  67%|██████▋   | 2/3 [00:01<00:00,  1.82it/s, actor_loss=0, critic_loss=0.000602]\u001b[A\n",
      "Train epoch [3/3]: 100%|██████████| 3/3 [00:01<00:00,  1.82it/s, actor_loss=0, critic_loss=0.000602]\u001b[A\n",
      "Episode [1/10]: 100%|██████████| 3/3 [00:23<00:00,  7.91s/it]\n",
      "Episode [2/10]:  67%|██████▋   | 2/3 [00:12<00:06,  6.44s/it]\n",
      "Train epoch [1/3]:   0%|          | 0/3 [00:00<?, ?it/s]\u001b[A\n",
      "Train epoch [1/3]:   0%|          | 0/3 [00:00<?, ?it/s, actor_loss=-.0134, critic_loss=0.000295]\u001b[A\n",
      "Train epoch [1/3]:  33%|███▎      | 1/3 [00:00<00:01,  1.76it/s, actor_loss=-.0134, critic_loss=0.000295]\u001b[A\n",
      "Train epoch [1/3]:  33%|███▎      | 1/3 [00:01<00:01,  1.76it/s, actor_loss=-.0102, critic_loss=0.000172]\u001b[A\n",
      "Train epoch [1/3]:  67%|██████▋   | 2/3 [00:01<00:00,  1.77it/s, actor_loss=-.0102, critic_loss=0.000172]\u001b[A\n",
      "Train epoch [1/3]:  67%|██████▋   | 2/3 [00:01<00:00,  1.77it/s, actor_loss=-.0131, critic_loss=0.000353]\u001b[A\n",
      "Train epoch [1/3]: 100%|██████████| 3/3 [00:01<00:00,  1.76it/s, actor_loss=-.0131, critic_loss=0.000353]\u001b[A\n",
      "\n",
      "Train epoch [2/3]:   0%|          | 0/3 [00:00<?, ?it/s]\u001b[A\n",
      "Train epoch [2/3]:   0%|          | 0/3 [00:00<?, ?it/s, actor_loss=-.0131, critic_loss=6.36e-5]\u001b[A\n",
      "Train epoch [2/3]:  33%|███▎      | 1/3 [00:00<00:01,  1.77it/s, actor_loss=-.0131, critic_loss=6.36e-5]\u001b[A\n",
      "Train epoch [2/3]:  33%|███▎      | 1/3 [00:01<00:01,  1.77it/s, actor_loss=-.0117, critic_loss=0.000539]\u001b[A\n",
      "Train epoch [2/3]:  67%|██████▋   | 2/3 [00:01<00:00,  1.78it/s, actor_loss=-.0117, critic_loss=0.000539]\u001b[A\n",
      "Train epoch [2/3]:  67%|██████▋   | 2/3 [00:01<00:00,  1.78it/s, actor_loss=-.0142, critic_loss=0.0003]  \u001b[A\n",
      "Train epoch [2/3]: 100%|██████████| 3/3 [00:01<00:00,  1.77it/s, actor_loss=-.0142, critic_loss=0.0003]\u001b[A\n",
      "\n",
      "Train epoch [3/3]:   0%|          | 0/3 [00:00<?, ?it/s]\u001b[A\n",
      "Train epoch [3/3]:   0%|          | 0/3 [00:00<?, ?it/s, actor_loss=-.0134, critic_loss=6.77e-5]\u001b[A\n",
      "Train epoch [3/3]:  33%|███▎      | 1/3 [00:00<00:01,  1.78it/s, actor_loss=-.0134, critic_loss=6.77e-5]\u001b[A\n",
      "Train epoch [3/3]:  33%|███▎      | 1/3 [00:01<00:01,  1.78it/s, actor_loss=-.0128, critic_loss=0.000208]\u001b[A\n",
      "Train epoch [3/3]:  67%|██████▋   | 2/3 [00:01<00:00,  1.78it/s, actor_loss=-.0128, critic_loss=0.000208]\u001b[A\n",
      "Train epoch [3/3]:  67%|██████▋   | 2/3 [00:01<00:00,  1.78it/s, actor_loss=-.0139, critic_loss=0.000408]\u001b[A\n",
      "Train epoch [3/3]: 100%|██████████| 3/3 [00:01<00:00,  1.78it/s, actor_loss=-.0139, critic_loss=0.000408]\u001b[A\n",
      "Episode [2/10]: 100%|██████████| 3/3 [00:24<00:00,  8.18s/it]\n",
      "Episode [3/10]:  67%|██████▋   | 2/3 [00:12<00:06,  6.26s/it]\n",
      "Train epoch [1/3]:   0%|          | 0/3 [00:00<?, ?it/s]\u001b[A\n",
      "Train epoch [1/3]:   0%|          | 0/3 [00:00<?, ?it/s, actor_loss=-.01, critic_loss=0.000896]\u001b[A\n",
      "Train epoch [1/3]:  33%|███▎      | 1/3 [00:00<00:01,  1.81it/s, actor_loss=-.01, critic_loss=0.000896]\u001b[A\n",
      "Train epoch [1/3]:  33%|███▎      | 1/3 [00:01<00:01,  1.81it/s, actor_loss=-.00892, critic_loss=0.000329]\u001b[A\n",
      "Train epoch [1/3]:  67%|██████▋   | 2/3 [00:01<00:00,  1.82it/s, actor_loss=-.00892, critic_loss=0.000329]\u001b[A\n",
      "Train epoch [1/3]:  67%|██████▋   | 2/3 [00:01<00:00,  1.82it/s, actor_loss=-.00865, critic_loss=0.000157]\u001b[A\n",
      "Train epoch [1/3]: 100%|██████████| 3/3 [00:01<00:00,  1.82it/s, actor_loss=-.00865, critic_loss=0.000157]\u001b[A\n",
      "\n",
      "Train epoch [2/3]:   0%|          | 0/3 [00:00<?, ?it/s]\u001b[A\n",
      "Train epoch [2/3]:   0%|          | 0/3 [00:00<?, ?it/s, actor_loss=-.00871, critic_loss=0.000216]\u001b[A\n",
      "Train epoch [2/3]:  33%|███▎      | 1/3 [00:00<00:01,  1.83it/s, actor_loss=-.00871, critic_loss=0.000216]\u001b[A\n",
      "Train epoch [2/3]:  33%|███▎      | 1/3 [00:01<00:01,  1.83it/s, actor_loss=-.0119, critic_loss=0.000452] \u001b[A\n",
      "Train epoch [2/3]:  67%|██████▋   | 2/3 [00:01<00:00,  1.83it/s, actor_loss=-.0119, critic_loss=0.000452]\u001b[A\n",
      "Train epoch [2/3]:  67%|██████▋   | 2/3 [00:01<00:00,  1.83it/s, actor_loss=-.0102, critic_loss=7.85e-5] \u001b[A\n",
      "Train epoch [2/3]: 100%|██████████| 3/3 [00:01<00:00,  1.83it/s, actor_loss=-.0102, critic_loss=7.85e-5]\u001b[A\n",
      "\n",
      "Train epoch [3/3]:   0%|          | 0/3 [00:00<?, ?it/s]\u001b[A\n",
      "Train epoch [3/3]:   0%|          | 0/3 [00:00<?, ?it/s, actor_loss=-.0123, critic_loss=0.000229]\u001b[A\n",
      "Train epoch [3/3]:  33%|███▎      | 1/3 [00:00<00:01,  1.85it/s, actor_loss=-.0123, critic_loss=0.000229]\u001b[A\n",
      "Train epoch [3/3]:  33%|███▎      | 1/3 [00:01<00:01,  1.85it/s, actor_loss=-.0107, critic_loss=0.000406]\u001b[A\n",
      "Train epoch [3/3]:  67%|██████▋   | 2/3 [00:01<00:00,  1.84it/s, actor_loss=-.0107, critic_loss=0.000406]\u001b[A\n",
      "Train epoch [3/3]:  67%|██████▋   | 2/3 [00:01<00:00,  1.84it/s, actor_loss=-.00982, critic_loss=0.000358]\u001b[A\n",
      "Train epoch [3/3]: 100%|██████████| 3/3 [00:01<00:00,  1.83it/s, actor_loss=-.00982, critic_loss=0.000358]\u001b[A\n",
      "Episode [3/10]: 100%|██████████| 3/3 [00:23<00:00,  7.87s/it]\n",
      "Episode [4/10]:  67%|██████▋   | 2/3 [00:11<00:06,  6.02s/it]\n",
      "Train epoch [1/3]:   0%|          | 0/3 [00:00<?, ?it/s]\u001b[A\n",
      "Train epoch [1/3]:   0%|          | 0/3 [00:00<?, ?it/s, actor_loss=0.109, critic_loss=0.0455]\u001b[A\n",
      "Train epoch [1/3]:  33%|███▎      | 1/3 [00:00<00:01,  1.82it/s, actor_loss=0.109, critic_loss=0.0455]\u001b[A\n",
      "Train epoch [1/3]:  33%|███▎      | 1/3 [00:01<00:01,  1.82it/s, actor_loss=0.0882, critic_loss=0.0236]\u001b[A\n",
      "Train epoch [1/3]:  67%|██████▋   | 2/3 [00:01<00:00,  1.82it/s, actor_loss=0.0882, critic_loss=0.0236]\u001b[A\n",
      "Train epoch [1/3]:  67%|██████▋   | 2/3 [00:01<00:00,  1.82it/s, actor_loss=0.151, critic_loss=0.00933]\u001b[A\n",
      "Train epoch [1/3]: 100%|██████████| 3/3 [00:01<00:00,  1.82it/s, actor_loss=0.151, critic_loss=0.00933]\u001b[A\n",
      "\n",
      "Train epoch [2/3]:   0%|          | 0/3 [00:00<?, ?it/s]\u001b[A\n",
      "Train epoch [2/3]:   0%|          | 0/3 [00:00<?, ?it/s, actor_loss=0.153, critic_loss=0.0322]\u001b[A\n",
      "Train epoch [2/3]:  33%|███▎      | 1/3 [00:00<00:01,  1.83it/s, actor_loss=0.153, critic_loss=0.0322]\u001b[A\n",
      "Train epoch [2/3]:  33%|███▎      | 1/3 [00:01<00:01,  1.83it/s, actor_loss=0.0372, critic_loss=0.0123]\u001b[A\n",
      "Train epoch [2/3]:  67%|██████▋   | 2/3 [00:01<00:00,  1.83it/s, actor_loss=0.0372, critic_loss=0.0123]\u001b[A\n",
      "Train epoch [2/3]:  67%|██████▋   | 2/3 [00:01<00:00,  1.83it/s, actor_loss=0.107, critic_loss=0.0197] \u001b[A\n",
      "Train epoch [2/3]: 100%|██████████| 3/3 [00:01<00:00,  1.83it/s, actor_loss=0.107, critic_loss=0.0197]\u001b[A\n",
      "\n",
      "Train epoch [3/3]:   0%|          | 0/3 [00:00<?, ?it/s]\u001b[A\n"
     ]
    },
    {
     "name": "stderr",
     "output_type": "stream",
     "text": [
      "Train epoch [3/3]:   0%|          | 0/3 [00:00<?, ?it/s, actor_loss=0.079, critic_loss=0.0176]\u001b[A\n",
      "Train epoch [3/3]:  33%|███▎      | 1/3 [00:00<00:01,  1.84it/s, actor_loss=0.079, critic_loss=0.0176]\u001b[A\n",
      "Train epoch [3/3]:  33%|███▎      | 1/3 [00:01<00:01,  1.84it/s, actor_loss=0.0436, critic_loss=0.0124]\u001b[A\n",
      "Train epoch [3/3]:  67%|██████▋   | 2/3 [00:01<00:00,  1.83it/s, actor_loss=0.0436, critic_loss=0.0124]\u001b[A\n",
      "Train epoch [3/3]:  67%|██████▋   | 2/3 [00:01<00:00,  1.83it/s, actor_loss=0.123, critic_loss=0.0287] \u001b[A\n",
      "Train epoch [3/3]: 100%|██████████| 3/3 [00:01<00:00,  1.83it/s, actor_loss=0.123, critic_loss=0.0287]\u001b[A\n",
      "Episode [4/10]: 100%|██████████| 3/3 [00:23<00:00,  7.69s/it]\n",
      "Episode [5/10]:  67%|██████▋   | 2/3 [00:12<00:06,  6.19s/it]\n",
      "Train epoch [1/3]:   0%|          | 0/3 [00:00<?, ?it/s]\u001b[A\n",
      "Train epoch [1/3]:   0%|          | 0/3 [00:00<?, ?it/s, actor_loss=-.0889, critic_loss=0.00984]\u001b[A\n",
      "Train epoch [1/3]:  33%|███▎      | 1/3 [00:00<00:01,  1.80it/s, actor_loss=-.0889, critic_loss=0.00984]\u001b[A\n",
      "Train epoch [1/3]:  33%|███▎      | 1/3 [00:01<00:01,  1.80it/s, actor_loss=-.097, critic_loss=0.00865] \u001b[A\n",
      "Train epoch [1/3]:  67%|██████▋   | 2/3 [00:01<00:00,  1.80it/s, actor_loss=-.097, critic_loss=0.00865]\u001b[A\n",
      "Train epoch [1/3]:  67%|██████▋   | 2/3 [00:01<00:00,  1.80it/s, actor_loss=-.069, critic_loss=0.0182] \u001b[A\n",
      "Train epoch [1/3]: 100%|██████████| 3/3 [00:01<00:00,  1.80it/s, actor_loss=-.069, critic_loss=0.0182]\u001b[A\n",
      "\n",
      "Train epoch [2/3]:   0%|          | 0/3 [00:00<?, ?it/s]\u001b[A\n",
      "Train epoch [2/3]:   0%|          | 0/3 [00:00<?, ?it/s, actor_loss=-.087, critic_loss=0.00113]\u001b[A\n",
      "Train epoch [2/3]:  33%|███▎      | 1/3 [00:00<00:01,  1.81it/s, actor_loss=-.087, critic_loss=0.00113]\u001b[A\n",
      "Train epoch [2/3]:  33%|███▎      | 1/3 [00:01<00:01,  1.81it/s, actor_loss=-.0941, critic_loss=0.00221]\u001b[A\n",
      "Train epoch [2/3]:  67%|██████▋   | 2/3 [00:01<00:00,  1.81it/s, actor_loss=-.0941, critic_loss=0.00221]\u001b[A\n",
      "Train epoch [2/3]:  67%|██████▋   | 2/3 [00:01<00:00,  1.81it/s, actor_loss=-.0764, critic_loss=0.0204] \u001b[A\n",
      "Train epoch [2/3]: 100%|██████████| 3/3 [00:01<00:00,  1.80it/s, actor_loss=-.0764, critic_loss=0.0204]\u001b[A\n",
      "\n",
      "Train epoch [3/3]:   0%|          | 0/3 [00:00<?, ?it/s]\u001b[A\n",
      "Train epoch [3/3]:   0%|          | 0/3 [00:00<?, ?it/s, actor_loss=-.0582, critic_loss=0.0238]\u001b[A\n",
      "Train epoch [3/3]:  33%|███▎      | 1/3 [00:00<00:01,  1.82it/s, actor_loss=-.0582, critic_loss=0.0238]\u001b[A\n",
      "Train epoch [3/3]:  33%|███▎      | 1/3 [00:01<00:01,  1.82it/s, actor_loss=-.0981, critic_loss=0.00219]\u001b[A\n",
      "Train epoch [3/3]:  67%|██████▋   | 2/3 [00:01<00:00,  1.80it/s, actor_loss=-.0981, critic_loss=0.00219]\u001b[A\n",
      "Train epoch [3/3]:  67%|██████▋   | 2/3 [00:01<00:00,  1.80it/s, actor_loss=-.102, critic_loss=0.00064] \u001b[A\n",
      "Train epoch [3/3]: 100%|██████████| 3/3 [00:01<00:00,  1.81it/s, actor_loss=-.102, critic_loss=0.00064]\u001b[A\n",
      "Episode [5/10]: 100%|██████████| 3/3 [00:23<00:00,  7.89s/it]\n",
      "Episode [6/10]:  67%|██████▋   | 2/3 [00:12<00:06,  6.34s/it]\n",
      "Train epoch [1/3]:   0%|          | 0/3 [00:00<?, ?it/s]\u001b[A\n",
      "Train epoch [1/3]:   0%|          | 0/3 [00:00<?, ?it/s, actor_loss=1.08, critic_loss=12.4]\u001b[A\n",
      "Train epoch [1/3]:  33%|███▎      | 1/3 [00:00<00:01,  1.80it/s, actor_loss=1.08, critic_loss=12.4]\u001b[A\n",
      "Train epoch [1/3]:  33%|███▎      | 1/3 [00:01<00:01,  1.80it/s, actor_loss=0.0388, critic_loss=0.000939]\u001b[A\n",
      "Train epoch [1/3]:  67%|██████▋   | 2/3 [00:01<00:00,  1.81it/s, actor_loss=0.0388, critic_loss=0.000939]\u001b[A\n",
      "Train epoch [1/3]:  67%|██████▋   | 2/3 [00:01<00:00,  1.81it/s, actor_loss=0.0297, critic_loss=0.00185] \u001b[A\n",
      "Train epoch [1/3]: 100%|██████████| 3/3 [00:01<00:00,  1.81it/s, actor_loss=0.0297, critic_loss=0.00185]\u001b[A\n",
      "\n",
      "Train epoch [2/3]:   0%|          | 0/3 [00:00<?, ?it/s]\u001b[A\n",
      "Train epoch [2/3]:   0%|          | 0/3 [00:00<?, ?it/s, actor_loss=0.0427, critic_loss=0.00333]\u001b[A\n",
      "Train epoch [2/3]:  33%|███▎      | 1/3 [00:00<00:01,  1.82it/s, actor_loss=0.0427, critic_loss=0.00333]\u001b[A\n",
      "Train epoch [2/3]:  33%|███▎      | 1/3 [00:01<00:01,  1.82it/s, actor_loss=1.01, critic_loss=12]       \u001b[A\n",
      "Train epoch [2/3]:  67%|██████▋   | 2/3 [00:01<00:00,  1.82it/s, actor_loss=1.01, critic_loss=12]\u001b[A\n",
      "Train epoch [2/3]:  67%|██████▋   | 2/3 [00:01<00:00,  1.82it/s, actor_loss=0.0963, critic_loss=0.042]\u001b[A\n",
      "Train epoch [2/3]: 100%|██████████| 3/3 [00:01<00:00,  1.81it/s, actor_loss=0.0963, critic_loss=0.042]\u001b[A\n",
      "\n",
      "Train epoch [3/3]:   0%|          | 0/3 [00:00<?, ?it/s]\u001b[A\n",
      "Train epoch [3/3]:   0%|          | 0/3 [00:00<?, ?it/s, actor_loss=0.0379, critic_loss=0.0265]\u001b[A\n",
      "Train epoch [3/3]:  33%|███▎      | 1/3 [00:00<00:01,  1.83it/s, actor_loss=0.0379, critic_loss=0.0265]\u001b[A\n",
      "Train epoch [3/3]:  33%|███▎      | 1/3 [00:01<00:01,  1.83it/s, actor_loss=4.83, critic_loss=11.8]    \u001b[A\n",
      "Train epoch [3/3]:  67%|██████▋   | 2/3 [00:01<00:00,  1.83it/s, actor_loss=4.83, critic_loss=11.8]\u001b[A\n",
      "Train epoch [3/3]:  67%|██████▋   | 2/3 [00:01<00:00,  1.83it/s, actor_loss=0.102, critic_loss=0.0634]\u001b[A\n",
      "Train epoch [3/3]: 100%|██████████| 3/3 [00:01<00:00,  1.82it/s, actor_loss=0.102, critic_loss=0.0634]\u001b[A\n",
      "Episode [6/10]: 100%|██████████| 3/3 [00:23<00:00,  7.90s/it]\n",
      "Episode [7/10]:  67%|██████▋   | 2/3 [00:12<00:06,  6.19s/it]\n",
      "Train epoch [1/3]:   0%|          | 0/3 [00:00<?, ?it/s]\u001b[A\n",
      "Train epoch [1/3]:   0%|          | 0/3 [00:00<?, ?it/s, actor_loss=-.215, critic_loss=0.0601]\u001b[A\n",
      "Train epoch [1/3]:  33%|███▎      | 1/3 [00:00<00:01,  1.81it/s, actor_loss=-.215, critic_loss=0.0601]\u001b[A\n",
      "Train epoch [1/3]:  33%|███▎      | 1/3 [00:01<00:01,  1.81it/s, actor_loss=-.227, critic_loss=0.0849]\u001b[A\n",
      "Train epoch [1/3]:  67%|██████▋   | 2/3 [00:01<00:00,  1.80it/s, actor_loss=-.227, critic_loss=0.0849]\u001b[A\n",
      "Train epoch [1/3]:  67%|██████▋   | 2/3 [00:01<00:00,  1.80it/s, actor_loss=-.193, critic_loss=0.0681]\u001b[A\n",
      "Train epoch [1/3]: 100%|██████████| 3/3 [00:01<00:00,  1.80it/s, actor_loss=-.193, critic_loss=0.0681]\u001b[A\n",
      "\n",
      "Train epoch [2/3]:   0%|          | 0/3 [00:00<?, ?it/s]\u001b[A\n",
      "Train epoch [2/3]:   0%|          | 0/3 [00:00<?, ?it/s, actor_loss=-.232, critic_loss=0.0955]\u001b[A\n",
      "Train epoch [2/3]:  33%|███▎      | 1/3 [00:00<00:01,  1.82it/s, actor_loss=-.232, critic_loss=0.0955]\u001b[A\n",
      "Train epoch [2/3]:  33%|███▎      | 1/3 [00:01<00:01,  1.82it/s, actor_loss=-.182, critic_loss=0.0751]\u001b[A\n",
      "Train epoch [2/3]:  67%|██████▋   | 2/3 [00:01<00:00,  1.81it/s, actor_loss=-.182, critic_loss=0.0751]\u001b[A\n",
      "Train epoch [2/3]:  67%|██████▋   | 2/3 [00:01<00:00,  1.81it/s, actor_loss=-.225, critic_loss=0.0973]\u001b[A\n",
      "Train epoch [2/3]: 100%|██████████| 3/3 [00:01<00:00,  1.81it/s, actor_loss=-.225, critic_loss=0.0973]\u001b[A\n",
      "\n",
      "Train epoch [3/3]:   0%|          | 0/3 [00:00<?, ?it/s]\u001b[A\n",
      "Train epoch [3/3]:   0%|          | 0/3 [00:00<?, ?it/s, actor_loss=-.196, critic_loss=0.0676]\u001b[A\n",
      "Train epoch [3/3]:  33%|███▎      | 1/3 [00:00<00:01,  1.83it/s, actor_loss=-.196, critic_loss=0.0676]\u001b[A\n",
      "Train epoch [3/3]:  33%|███▎      | 1/3 [00:01<00:01,  1.83it/s, actor_loss=-.209, critic_loss=0.0867]\u001b[A\n",
      "Train epoch [3/3]:  67%|██████▋   | 2/3 [00:01<00:00,  1.82it/s, actor_loss=-.209, critic_loss=0.0867]\u001b[A\n",
      "Train epoch [3/3]:  67%|██████▋   | 2/3 [00:01<00:00,  1.82it/s, actor_loss=-.229, critic_loss=0.0797]\u001b[A\n",
      "Train epoch [3/3]: 100%|██████████| 3/3 [00:01<00:00,  1.82it/s, actor_loss=-.229, critic_loss=0.0797]\u001b[A\n",
      "Episode [7/10]: 100%|██████████| 3/3 [00:23<00:00,  7.85s/it]\n",
      "Episode [8/10]:  67%|██████▋   | 2/3 [00:12<00:06,  6.23s/it]\n",
      "Train epoch [1/3]:   0%|          | 0/3 [00:00<?, ?it/s]\u001b[A\n",
      "Train epoch [1/3]:   0%|          | 0/3 [00:00<?, ?it/s, actor_loss=-.213, critic_loss=0.0635]\u001b[A\n",
      "Train epoch [1/3]:  33%|███▎      | 1/3 [00:00<00:01,  1.80it/s, actor_loss=-.213, critic_loss=0.0635]\u001b[A\n",
      "Train epoch [1/3]:  33%|███▎      | 1/3 [00:01<00:01,  1.80it/s, actor_loss=-.12, critic_loss=0.0371] \u001b[A\n",
      "Train epoch [1/3]:  67%|██████▋   | 2/3 [00:01<00:00,  1.80it/s, actor_loss=-.12, critic_loss=0.0371]\u001b[A\n",
      "Train epoch [1/3]:  67%|██████▋   | 2/3 [00:01<00:00,  1.80it/s, actor_loss=2.25, critic_loss=8.28]  \u001b[A\n",
      "Train epoch [1/3]: 100%|██████████| 3/3 [00:01<00:00,  1.80it/s, actor_loss=2.25, critic_loss=8.28]\u001b[A\n",
      "\n",
      "Train epoch [2/3]:   0%|          | 0/3 [00:00<?, ?it/s]\u001b[A\n"
     ]
    },
    {
     "name": "stderr",
     "output_type": "stream",
     "text": [
      "Train epoch [2/3]:   0%|          | 0/3 [00:00<?, ?it/s, actor_loss=-.0265, critic_loss=0.152]\u001b[A\n",
      "Train epoch [2/3]:  33%|███▎      | 1/3 [00:00<00:01,  1.82it/s, actor_loss=-.0265, critic_loss=0.152]\u001b[A\n",
      "Train epoch [2/3]:  33%|███▎      | 1/3 [00:01<00:01,  1.82it/s, actor_loss=-.157, critic_loss=0.0492]\u001b[A\n",
      "Train epoch [2/3]:  67%|██████▋   | 2/3 [00:01<00:00,  1.81it/s, actor_loss=-.157, critic_loss=0.0492]\u001b[A\n",
      "Train epoch [2/3]:  67%|██████▋   | 2/3 [00:01<00:00,  1.81it/s, actor_loss=0.925, critic_loss=8.11]  \u001b[A\n",
      "Train epoch [2/3]: 100%|██████████| 3/3 [00:01<00:00,  1.81it/s, actor_loss=0.925, critic_loss=8.11]\u001b[A\n",
      "\n",
      "Train epoch [3/3]:   0%|          | 0/3 [00:00<?, ?it/s]\u001b[A\n",
      "Train epoch [3/3]:   0%|          | 0/3 [00:00<?, ?it/s, actor_loss=-.152, critic_loss=0.0363]\u001b[A\n",
      "Train epoch [3/3]:  33%|███▎      | 1/3 [00:00<00:01,  1.81it/s, actor_loss=-.152, critic_loss=0.0363]\u001b[A\n",
      "Train epoch [3/3]:  33%|███▎      | 1/3 [00:01<00:01,  1.81it/s, actor_loss=-.138, critic_loss=0.0565]\u001b[A\n",
      "Train epoch [3/3]:  67%|██████▋   | 2/3 [00:01<00:00,  1.82it/s, actor_loss=-.138, critic_loss=0.0565]\u001b[A\n",
      "Train epoch [3/3]:  67%|██████▋   | 2/3 [00:01<00:00,  1.82it/s, actor_loss=0.972, critic_loss=8.17]  \u001b[A\n",
      "Train epoch [3/3]: 100%|██████████| 3/3 [00:01<00:00,  1.81it/s, actor_loss=0.972, critic_loss=8.17]\u001b[A\n",
      "Episode [8/10]: 100%|██████████| 3/3 [00:23<00:00,  7.86s/it]\n",
      "Episode [9/10]:  67%|██████▋   | 2/3 [00:11<00:05,  5.71s/it]\n",
      "Train epoch [1/3]:   0%|          | 0/3 [00:00<?, ?it/s]\u001b[A\n",
      "Train epoch [1/3]:   0%|          | 0/3 [00:00<?, ?it/s, actor_loss=0.027, critic_loss=0.435]\u001b[A\n",
      "Train epoch [1/3]:  33%|███▎      | 1/3 [00:00<00:01,  1.79it/s, actor_loss=0.027, critic_loss=0.435]\u001b[A\n",
      "Train epoch [1/3]:  33%|███▎      | 1/3 [00:01<00:01,  1.79it/s, actor_loss=-.178, critic_loss=0.057]\u001b[A\n",
      "Train epoch [1/3]:  67%|██████▋   | 2/3 [00:01<00:00,  1.80it/s, actor_loss=-.178, critic_loss=0.057]\u001b[A\n",
      "Train epoch [1/3]:  67%|██████▋   | 2/3 [00:01<00:00,  1.80it/s, actor_loss=-.235, critic_loss=0.082]\u001b[A\n",
      "Train epoch [1/3]: 100%|██████████| 3/3 [00:01<00:00,  1.80it/s, actor_loss=-.235, critic_loss=0.082]\u001b[A\n",
      "\n",
      "Train epoch [2/3]:   0%|          | 0/3 [00:00<?, ?it/s]\u001b[A\n",
      "Train epoch [2/3]:   0%|          | 0/3 [00:00<?, ?it/s, actor_loss=0.0418, critic_loss=0.428]\u001b[A\n",
      "Train epoch [2/3]:  33%|███▎      | 1/3 [00:00<00:01,  1.82it/s, actor_loss=0.0418, critic_loss=0.428]\u001b[A\n",
      "Train epoch [2/3]:  33%|███▎      | 1/3 [00:01<00:01,  1.82it/s, actor_loss=-.256, critic_loss=0.0987]\u001b[A\n",
      "Train epoch [2/3]:  67%|██████▋   | 2/3 [00:01<00:00,  1.80it/s, actor_loss=-.256, critic_loss=0.0987]\u001b[A\n",
      "Train epoch [2/3]:  67%|██████▋   | 2/3 [00:01<00:00,  1.80it/s, actor_loss=-.178, critic_loss=0.0655]\u001b[A\n",
      "Train epoch [2/3]: 100%|██████████| 3/3 [00:01<00:00,  1.80it/s, actor_loss=-.178, critic_loss=0.0655]\u001b[A\n",
      "\n",
      "Train epoch [3/3]:   0%|          | 0/3 [00:00<?, ?it/s]\u001b[A\n",
      "Train epoch [3/3]:   0%|          | 0/3 [00:00<?, ?it/s, actor_loss=-.189, critic_loss=0.074]\u001b[A\n",
      "Train epoch [3/3]:  33%|███▎      | 1/3 [00:00<00:01,  1.80it/s, actor_loss=-.189, critic_loss=0.074]\u001b[A\n",
      "Train epoch [3/3]:  33%|███▎      | 1/3 [00:01<00:01,  1.80it/s, actor_loss=0.0117, critic_loss=0.43]\u001b[A\n",
      "Train epoch [3/3]:  67%|██████▋   | 2/3 [00:01<00:00,  1.81it/s, actor_loss=0.0117, critic_loss=0.43]\u001b[A\n",
      "Train epoch [3/3]:  67%|██████▋   | 2/3 [00:01<00:00,  1.81it/s, actor_loss=-.219, critic_loss=0.0698]\u001b[A\n",
      "Train epoch [3/3]: 100%|██████████| 3/3 [00:01<00:00,  1.80it/s, actor_loss=-.219, critic_loss=0.0698]\u001b[A\n",
      "Episode [9/10]: 100%|██████████| 3/3 [00:22<00:00,  7.59s/it]\n",
      "Episode [10/10]:  67%|██████▋   | 2/3 [00:11<00:05,  5.87s/it]\n",
      "Train epoch [1/3]:   0%|          | 0/3 [00:00<?, ?it/s]\u001b[A\n",
      "Train epoch [1/3]:   0%|          | 0/3 [00:00<?, ?it/s, actor_loss=-.145, critic_loss=0.0545]\u001b[A\n",
      "Train epoch [1/3]:  33%|███▎      | 1/3 [00:00<00:01,  1.79it/s, actor_loss=-.145, critic_loss=0.0545]\u001b[A\n",
      "Train epoch [1/3]:  33%|███▎      | 1/3 [00:01<00:01,  1.79it/s, actor_loss=-.205, critic_loss=0.0579]\u001b[A\n",
      "Train epoch [1/3]:  67%|██████▋   | 2/3 [00:01<00:00,  1.79it/s, actor_loss=-.205, critic_loss=0.0579]\u001b[A\n",
      "Train epoch [1/3]:  67%|██████▋   | 2/3 [00:01<00:00,  1.79it/s, actor_loss=-.076, critic_loss=0.0801]\u001b[A\n",
      "Train epoch [1/3]: 100%|██████████| 3/3 [00:01<00:00,  1.79it/s, actor_loss=-.076, critic_loss=0.0801]\u001b[A\n",
      "\n",
      "Train epoch [2/3]:   0%|          | 0/3 [00:00<?, ?it/s]\u001b[A\n",
      "Train epoch [2/3]:   0%|          | 0/3 [00:00<?, ?it/s, actor_loss=-.192, critic_loss=0.0393]\u001b[A\n",
      "Train epoch [2/3]:  33%|███▎      | 1/3 [00:00<00:01,  1.81it/s, actor_loss=-.192, critic_loss=0.0393]\u001b[A\n",
      "Train epoch [2/3]:  33%|███▎      | 1/3 [00:01<00:01,  1.81it/s, actor_loss=-.119, critic_loss=0.0845]\u001b[A\n",
      "Train epoch [2/3]:  67%|██████▋   | 2/3 [00:01<00:00,  1.80it/s, actor_loss=-.119, critic_loss=0.0845]\u001b[A\n",
      "Train epoch [2/3]:  67%|██████▋   | 2/3 [00:01<00:00,  1.80it/s, actor_loss=-.118, critic_loss=0.0419]\u001b[A\n",
      "Train epoch [2/3]: 100%|██████████| 3/3 [00:01<00:00,  1.80it/s, actor_loss=-.118, critic_loss=0.0419]\u001b[A\n",
      "\n",
      "Train epoch [3/3]:   0%|          | 0/3 [00:00<?, ?it/s]\u001b[A\n",
      "Train epoch [3/3]:   0%|          | 0/3 [00:00<?, ?it/s, actor_loss=-.204, critic_loss=0.0266]\u001b[A\n",
      "Train epoch [3/3]:  33%|███▎      | 1/3 [00:00<00:01,  1.80it/s, actor_loss=-.204, critic_loss=0.0266]\u001b[A\n",
      "Train epoch [3/3]:  33%|███▎      | 1/3 [00:01<00:01,  1.80it/s, actor_loss=-.13, critic_loss=0.0351] \u001b[A\n",
      "Train epoch [3/3]:  67%|██████▋   | 2/3 [00:01<00:00,  1.80it/s, actor_loss=-.13, critic_loss=0.0351]\u001b[A\n",
      "Train epoch [3/3]:  67%|██████▋   | 2/3 [00:01<00:00,  1.80it/s, actor_loss=-.0966, critic_loss=0.0719]\u001b[A\n",
      "Train epoch [3/3]: 100%|██████████| 3/3 [00:01<00:00,  1.80it/s, actor_loss=-.0966, critic_loss=0.0719]\u001b[A\n",
      "Episode [10/10]: 100%|██████████| 3/3 [00:23<00:00,  7.75s/it]\n"
     ]
    }
   ],
   "source": [
    "trainer.fit(list_prompt, \n",
    "            num_episodes=10,  \n",
    "            max_timesteps=3,\n",
    "            update_timesteps=3)\n",
    "\n",
    "model.save_pretrained('./models/output_3_PPO')"
   ]
  },
  {
   "cell_type": "markdown",
   "id": "12a94f65",
   "metadata": {},
   "source": [
    "### Generator 시험 "
   ]
  },
  {
   "cell_type": "markdown",
   "id": "81c45d1c",
   "metadata": {},
   "source": [
    "**Rouge 점수**"
   ]
  },
  {
   "cell_type": "code",
   "execution_count": 8,
   "id": "ed07c295",
   "metadata": {},
   "outputs": [],
   "source": [
    "from rouge import Rouge\n",
    "import seaborn as sns\n",
    "import numpy as np\n",
    "import pandas as pd\n",
    "import matplotlib.pyplot as plt\n",
    "\n",
    "def compute_rouge(refs, preds): \n",
    "    rouge = Rouge()\n",
    "    all_scores = []\n",
    "    results = []\n",
    "    \n",
    "    for ref, pred in zip(refs, preds):\n",
    "        if ref.strip() == \"\" or pred.strip() == \"\":\n",
    "            continue\n",
    "        \n",
    "        score = rouge.get_scores(pred, ref)[0]\n",
    "        all_scores.append(score)\n",
    "        \n",
    "        results.append({\n",
    "            'ROUGE-1': score['rouge-1']['f'],\n",
    "            'ROUGE-2': score['rouge-2']['f'],\n",
    "            'ROUGE-L': score['rouge-l']['f']\n",
    "        })\n",
    "    \n",
    "    # 평균값\n",
    "    rouge_1 = np.mean([s['rouge-1']['f'] for s in all_scores])\n",
    "    rouge_2 = np.mean([s['rouge-2']['f'] for s in all_scores])\n",
    "    rouge_l = np.mean([s['rouge-l']['f'] for s in all_scores])\n",
    "    \n",
    "    print(\"📊 평균 ROUGE 점수\")\n",
    "    print(f\"ROUGE-1 F1: {rouge_1:.4f}\")\n",
    "    print(f\"ROUGE-2 F1: {rouge_2:.4f}\")\n",
    "    print(f\"ROUGE-L F1: {rouge_l:.4f}\") \n",
    "    \n",
    "    # 그래프\n",
    "    df = pd.DataFrame(results)\n",
    " \n",
    "    plt.figure(figsize=(12, 6))\n",
    "    sns.boxplot(data=df[['ROUGE-1', 'ROUGE-2', 'ROUGE-L']])\n",
    "    plt.title(\"ROUGE Score Distribution\")\n",
    "    plt.show()\n"
   ]
  },
  {
   "cell_type": "markdown",
   "id": "4ccf4030",
   "metadata": {},
   "source": [
    "**SFT용 file에서 prompt와 label을 읽어온다.**"
   ]
  },
  {
   "cell_type": "code",
   "execution_count": 9,
   "id": "e13d4867",
   "metadata": {},
   "outputs": [
    {
     "name": "stdout",
     "output_type": "stream",
     "text": [
      "11992\n"
     ]
    }
   ],
   "source": [
    "data_path_SFT = './data/clean_kochatgpt_1_SFT.jsonl'\n",
    "with open(data_path_SFT, \"r\", encoding='utf-8-sig') as json_file:\n",
    "    sft_data_list = json.load(json_file)\n",
    "\n",
    "print(len(sft_data_list))"
   ]
  },
  {
   "cell_type": "code",
   "execution_count": 10,
   "id": "b0c7a236",
   "metadata": {
    "scrolled": false
   },
   "outputs": [
    {
     "data": {
      "text/plain": [
       "{'prompt': '불고기용 고기 한우에요 ?',\n",
       " 'completion': '저는 인공지능 챗봇이며 , 직접적으로 식품에 관한 정보를 가지고 있지 않습니다 . 하지만 일반적으로 불고기용 고기는 한우 , 쇠고기 , 돼지고기 등 다양한 종류의 고기를 사용합니다 . 하지만 한우는 대표적인 고급 육류로 알려져 있기 때문에 , 한우를 사용하는 경우도 많습니다 . 알러지나 개별 건강 상태에 따라 다를 수 있으니 충분한 정보 수집 후에 선택해 주시기 바랍니다 .',\n",
       " 'tokens': 193}"
      ]
     },
     "execution_count": 10,
     "metadata": {},
     "output_type": "execute_result"
    }
   ],
   "source": [
    "sft_data_list[0]"
   ]
  },
  {
   "cell_type": "code",
   "execution_count": 11,
   "id": "bed85b67",
   "metadata": {
    "scrolled": false
   },
   "outputs": [
    {
     "data": {
      "text/plain": [
       "'저는 인공지능 챗봇이며 , 직접적으로 식품에 관한 정보를 가지고 있지 않습니다 . 하지만 일반적으로 불고기용 고기는 한우 , 쇠고기 , 돼지고기 등 다양한 종류의 고기를 사용합니다 . 하지만 한우는 대표적인 고급 육류로 알려져 있기 때문에 , 한우를 사용하는 경우도 많습니다 . 알러지나 개별 건강 상태에 따라 다를 수 있으니 충분한 정보 수집 후에 선택해 주시기 바랍니다 .'"
      ]
     },
     "execution_count": 11,
     "metadata": {},
     "output_type": "execute_result"
    }
   ],
   "source": [
    "label = sft_data_list[0]['completion']\n",
    "label"
   ]
  },
  {
   "cell_type": "code",
   "execution_count": 12,
   "id": "1f08605d",
   "metadata": {},
   "outputs": [
    {
     "name": "stdout",
     "output_type": "stream",
     "text": [
      "1000\n",
      "1000\n"
     ]
    }
   ],
   "source": [
    "PROMPT_DICT = {\n",
    "    \"prompt_input\": (\n",
    "        \"### Instruction(명령어):\\n{prompt}\\n\\n### Response(응답):\"\n",
    "    )\n",
    "}\n",
    "\n",
    "test_count = 1000 # 개수를 줄여보자\n",
    "selected_data = sft_data_list[-test_count:]\n",
    "\n",
    "# inputs = [PROMPT_DICT['prompt_input'].format_map({'prompt': tmp}) for tmp in list_prompt]\n",
    "inputs = []\n",
    "ref_labels = []\n",
    "\n",
    "for tmp in selected_data: \n",
    "    prompt = tmp['prompt']\n",
    "    completion = tmp['completion']\n",
    "    \n",
    "    input_text = PROMPT_DICT['prompt_input'].format_map({'prompt': prompt})\n",
    "    \n",
    "    inputs.append(input_text)\n",
    "    ref_labels.append(completion)\n",
    "\n",
    "\n",
    "print(len(inputs))    \n",
    "print(len(ref_labels))\n"
   ]
  },
  {
   "cell_type": "code",
   "execution_count": 14,
   "id": "fd204673",
   "metadata": {},
   "outputs": [
    {
     "name": "stderr",
     "output_type": "stream",
     "text": [
      "Generating: 100%|██████████| 1000/1000 [13:24<00:00,  1.24it/s]"
     ]
    },
    {
     "name": "stdout",
     "output_type": "stream",
     "text": [
      "1000\n",
      "저는 인공지능 언어모델입니다 . 서브 스피드 라는 용어가 정확히 어떤 것인지 알 수 없어서 답변해드리기 어렵습니다 . 더 자세한 정보를 제공해주시면 답변 드릴 수 있습니다 . 감사합니다 .\n",
      "\n",
      "저는 인공지능 챗봇이므로, 최고 속도 라는 개념은 없습니다.\n"
     ]
    },
    {
     "name": "stderr",
     "output_type": "stream",
     "text": [
      "\n"
     ]
    }
   ],
   "source": [
    "def ppo_generation(input_text):\n",
    "    input_ids = tokenizer.encode(input_text, return_tensors='pt').to(\n",
    "        torch.cuda.current_device())\n",
    "    \n",
    "    # Transformer 모델에서 텍스트 생성시 사용하는 일반적인 방식\n",
    "    # 해당 모델의 .generate() 메서드를 직접 호출하는 것.\n",
    "    \n",
    "    # input_ids ~ max_length까지 response를 생성한다. \n",
    "    # beams는 지원하지 않는다. \n",
    "    outputs = actor.generate(input_ids,          \n",
    "                             max_length=250,\n",
    "                             #num_beams=4,\n",
    "                             #eos_token_id= tokenizer.eos_token_id, #375, # \\n  \n",
    "                             eos_token_id= tokenizer.eos_token_id,\n",
    "                             pad_token_id= tokenizer.pad_token_id,\n",
    "                             early_stopping=True,\n",
    "                             temperature=1.0,\n",
    "                             do_sample=True,\n",
    "                             top_k=50,\n",
    "                             top_p=0.95,\n",
    "                             num_return_sequences=1)\n",
    "    output = tokenizer.batch_decode(outputs[0], skip_special_tokens=True)[0]\n",
    "    #print()\n",
    "    #print(output)\n",
    "    return output\n",
    "\n",
    "                                                        \n",
    "from tqdm import tqdm\n",
    "    \n",
    "ppo_results = []\n",
    "for input_text in tqdm(inputs, desc=\"Generating\"):\n",
    "    result = ppo_generation(input_text)\n",
    "    ppo_results.append(result)\n",
    "\n",
    "    \n",
    "ppo_pred_texts = [\n",
    "    r.split(\"### Response(응답):\")[-1].strip()\n",
    "    for r in ppo_results\n",
    "    ]\n",
    "    \n",
    "print(len(ppo_pred_texts))\n",
    "\n",
    "print(ref_labels[0])\n",
    "print()\n",
    "print(ppo_pred_texts[0])"
   ]
  },
  {
   "cell_type": "code",
   "execution_count": 15,
   "id": "28744119",
   "metadata": {
    "scrolled": false
   },
   "outputs": [
    {
     "name": "stdout",
     "output_type": "stream",
     "text": [
      "<class 'list'>\n"
     ]
    },
    {
     "data": {
      "text/plain": [
       "'### Instruction(명령어):\\n최고 서브 스피드 속도가 얼마나 되지\\n\\n### Response(응답):저는 인공지능 챗봇이므로, 최고 속도 라는 개념은 없습니다.'"
      ]
     },
     "execution_count": 15,
     "metadata": {},
     "output_type": "execute_result"
    }
   ],
   "source": [
    "print(type(ppo_results))\n",
    "ppo_results[0]"
   ]
  },
  {
   "cell_type": "code",
   "execution_count": 16,
   "id": "c4393b93",
   "metadata": {},
   "outputs": [
    {
     "name": "stdout",
     "output_type": "stream",
     "text": [
      "\n",
      "[Prompt] ### Instruction(명령어):\n",
      "최고 서브 스피드 속도가 얼마나 되지\n",
      "\n",
      "### Response(응답):\n",
      "[Ref   ] 저는 인공지능 언어모델입니다 . 서브 스피드 라는 용어가 정확히 어떤 것인지 알 수 없어서 답변해드리기 어렵습니다 . 더 자세한 정보를 제공해주시면 답변 드릴 수 있습니다 . 감사합니다 .\n",
      "[Gen   ] 저는 인공지능 챗봇이므로, 최고 속도 라는 개념은 없습니다.\n",
      "\n",
      "[Prompt] ### Instruction(명령어):\n",
      "라울이 레알마드리드에서 몇 골 넣었어\n",
      "\n",
      "### Response(응답):\n",
      "[Ref   ] 요즘은 레알 마드리드에서 뛰지 않는 라울 곤잘레스의 경우 , 2010 11 시즌 동안 레알 마드리드에서 13골을 넣었다 .\n",
      "[Gen   ] 제가 찾은 정보에 따르면, 라울의 골은 레알 마드리드와 레알 마드리드 모두 1 1골이었습니다.\n",
      "\n",
      "[Prompt] ### Instruction(명령어):\n",
      "여기 얼마에요 ?\n",
      "\n",
      "### Response(응답):\n",
      "[Ref   ] 저는 가격을 알 수 없습니다 . 제가 할 수 있는 것은 대화나 자연어 이해에 대한 질문에 답변하는 것입니다 . 상황에 따라 가격이 달라질 수 있으므로 , 판매자나 가게 직원에게 직접 가격을 문의해보시는 것이 좋습니다 .\n",
      "[Gen   ] 죄송합니다, 저는 가상 ai 어시스턴트로서 어떤 지역에 대한 정보를 알 수 없습니다. 해당 지역의 부동산 가격과 관련된 정보를 찾으시려면 해당 지역의 부동산 중개업체나 중개업체에게 문의하시는 것이 가장 확실합니다.\n",
      "\n",
      "[Prompt] ### Instruction(명령어):\n",
      "마리 앙투아네트는 프랑스와의 동맹을 위해 누구와 정략결혼을 했는가 ?\n",
      "\n",
      "### Response(응답):\n",
      "[Ref   ] 마리 앙투아네트는 오스트리아의 황자인 프란츠 요셉과 정략결혼을 했습니다 .\n",
      "[Gen   ] 마리 앙투아네트는 자신의 두 아들을 프랑스 여자와 결혼시켰습니다. 또한, 마리 앙투아네트는 마리 앙투아네트와 친분을 쌓으면서 마리 앙투아네트와 그의 형제들 중에서도 동생인 루시조프를 척결하고, 마리 앙투아네트와 친구 관계를 맺고 있었습니다. 그러나 마리 앙투아네트는 마리 앙투아네트와 친분을 쌓으면서, 그녀가 마리 앙투아네트와 친분을 쌓으면서 마리 앙투아네트와 그녀의 형제들과도 관계를 형성할 수 있었습니다. 또한, 마리 앙투아네트와 함께 정략결혼을 한 마리 앙투아네트는 마리 앙투아네트와 함께 프랑스와의 동맹을 위해 정략결혼을 했습니다. 마리 앙투아네트와 마리 앙투아네트는 서로에 대한 애정을 공유하며 마리 앙투아네트와 마리 앙투아네트의 형제들도 함께 결혼하게 되었습니다. 마리 앙투아네트와 마리 앙투아네트는 마리 앙투아네트와 마리 앙투아네트를 두고 자주 만났을 것입니다.\n",
      "\n",
      "[Prompt] ### Instruction(명령어):\n",
      "술이 보약도 아니고\n",
      "\n",
      "### Response(응답):\n",
      "[Ref   ] 건강에 해롭기 때문에 권장하지 않습니다 . 오히려 술을 마시면 건강이 악화될 수 있으니 적당한 양을 지키며 , 건강한 생활습관을 유지하는 것이 중요합니다 .\n",
      "[Gen   ] 무엇이 문제인지 자세한 설명을 해주시면 답변을 드릴 수 있습니다.\n"
     ]
    }
   ],
   "source": [
    "cnt = 0\n",
    "for prompt, ref, pred in zip(inputs, ref_labels, ppo_pred_texts):\n",
    "    print()\n",
    "    print(\"[Prompt]\", prompt)\n",
    "    print(\"[Ref   ]\", ref)\n",
    "    print(\"[Gen   ]\", pred)\n",
    "    cnt +=1\n",
    "    if cnt >= 5 :\n",
    "        break"
   ]
  },
  {
   "cell_type": "code",
   "execution_count": 17,
   "id": "48647726",
   "metadata": {},
   "outputs": [
    {
     "name": "stdout",
     "output_type": "stream",
     "text": [
      "📊 평균 ROUGE 점수\n",
      "ROUGE-1 F1: 0.1626\n",
      "ROUGE-2 F1: 0.0644\n",
      "ROUGE-L F1: 0.1606\n"
     ]
    },
    {
     "data": {
      "image/png": "[encoded data removed]",
      "text/plain": [
       "<Figure size 864x432 with 1 Axes>"
      ]
     },
     "metadata": {
      "needs_background": "light"
     },
     "output_type": "display_data"
    }
   ],
   "source": [
    "compute_rouge(ref_labels, ppo_pred_texts )"
   ]
  },
  {
   "cell_type": "markdown",
   "id": "2c52d29b",
   "metadata": {},
   "source": [
    "## SFT only 모델의 generation "
   ]
  },
  {
   "cell_type": "code",
   "execution_count": 28,
   "id": "719b3a22",
   "metadata": {},
   "outputs": [
    {
     "name": "stderr",
     "output_type": "stream",
     "text": [
      "Generating: 100%|██████████| 1000/1000 [50:07<00:00,  3.01s/it] "
     ]
    },
    {
     "name": "stdout",
     "output_type": "stream",
     "text": [
      "1000\n",
      "저는 인공지능 어시스턴트이기 때문에 서브 스피드의 속도와 관련된 정보를 알 수 없습니다. 죄송합니다.\n",
      "\n",
      "저는 인공지능 어시스턴트이기 때문에 서브 스피드의 속도와 관련된 정보를 알 수 없습니다. 죄송합니다.\n"
     ]
    },
    {
     "name": "stderr",
     "output_type": "stream",
     "text": [
      "\n"
     ]
    }
   ],
   "source": [
    "# 허깅페이스의 pipleline 클래스를 사용하여 generator 생성\n",
    "sft_generator = pipeline('text-generation', model='./modles/output_1_SFT', tokenizer=tokenizer)\n",
    "\n",
    "generation_args = dict(   \n",
    "    num_beams=4,\n",
    "    repetition_penalty=2.0,\n",
    "    no_repeat_ngram_size=4,\n",
    "    eos_token_id=tokenizer.eos_token_id, #375, # \\n   \n",
    "    max_new_tokens=64,\n",
    "    do_sample=True,\n",
    "    top_k=50,\n",
    "    early_stopping=True\n",
    ")\n",
    "\n",
    "\n",
    "\n",
    "\n",
    "from tqdm import tqdm\n",
    "\n",
    "sft_results = []\n",
    "for input_text in tqdm(inputs, desc=\"Generating\"):\n",
    "    result = sft_generator(input_text, **generation_args)\n",
    "    sft_results.append(result)\n",
    "\n",
    "\n",
    "sft_pred_texts = [\n",
    "    r[0][\"generated_text\"].split(\"### Response(응답):\")[-1].strip()\n",
    "    for r in sft_results\n",
    "    ]\n",
    "\n",
    "    \n",
    "print(len(sft_pred_texts))\n",
    "\n",
    "print(sft_pred_texts[0])\n",
    "print()\n",
    "print(sft_pred_texts[0])"
   ]
  },
  {
   "cell_type": "code",
   "execution_count": 29,
   "id": "adbf52a5",
   "metadata": {
    "scrolled": true
   },
   "outputs": [
    {
     "name": "stdout",
     "output_type": "stream",
     "text": [
      "<class 'list'>\n"
     ]
    },
    {
     "data": {
      "text/plain": [
       "[{'generated_text': '### Instruction(명령어):\\n최고 서브 스피드 속도가 얼마나 되지\\n\\n### Response(응답):저는 인공지능 어시스턴트이기 때문에 서브 스피드의 속도와 관련된 정보를 알 수 없습니다. 죄송합니다.'}]"
      ]
     },
     "execution_count": 29,
     "metadata": {},
     "output_type": "execute_result"
    }
   ],
   "source": [
    "print(type(sft_results))\n",
    "sft_results[0]"
   ]
  },
  {
   "cell_type": "code",
   "execution_count": 30,
   "id": "ee2c9887",
   "metadata": {},
   "outputs": [
    {
     "name": "stdout",
     "output_type": "stream",
     "text": [
      "\n",
      "[Prompt] ### Instruction(명령어):\n",
      "최고 서브 스피드 속도가 얼마나 되지\n",
      "\n",
      "### Response(응답):\n",
      "[Ref   ] 저는 인공지능 언어모델입니다 . 서브 스피드 라는 용어가 정확히 어떤 것인지 알 수 없어서 답변해드리기 어렵습니다 . 더 자세한 정보를 제공해주시면 답변 드릴 수 있습니다 . 감사합니다 .\n",
      "[Gen   ] 저는 인공지능 어시스턴트이기 때문에 서브 스피드의 속도와 관련된 정보를 알 수 없습니다. 죄송합니다.\n",
      "\n",
      "[Prompt] ### Instruction(명령어):\n",
      "라울이 레알마드리드에서 몇 골 넣었어\n",
      "\n",
      "### Response(응답):\n",
      "[Ref   ] 요즘은 레알 마드리드에서 뛰지 않는 라울 곤잘레스의 경우 , 2010 11 시즌 동안 레알 마드리드에서 13골을 넣었다 .\n",
      "[Gen   ] 저는 라울의 골 수를 알 수 없습니다. 라울은 현재 리버풀 fc에서 뛰고 있으며, 공격수나 수비수 등 다양한 분야에서 활약하고 있습니다.\n",
      "\n",
      "[Prompt] ### Instruction(명령어):\n",
      "여기 얼마에요 ?\n",
      "\n",
      "### Response(응답):\n",
      "[Ref   ] 저는 가격을 알 수 없습니다 . 제가 할 수 있는 것은 대화나 자연어 이해에 대한 질문에 답변하는 것입니다 . 상황에 따라 가격이 달라질 수 있으므로 , 판매자나 가게 직원에게 직접 가격을 문의해보시는 것이 좋습니다 .\n",
      "[Gen   ] 죄송합니다, 저는 가격을 알 수 없습니다. 어떤 상품에 대해 문의하시는 건가요?\n",
      "\n",
      "[Prompt] ### Instruction(명령어):\n",
      "마리 앙투아네트는 프랑스와의 동맹을 위해 누구와 정략결혼을 했는가 ?\n",
      "\n",
      "### Response(응답):\n",
      "[Ref   ] 마리 앙투아네트는 오스트리아의 황자인 프란츠 요셉과 정략결혼을 했습니다 .\n",
      "[Gen   ] 마리 앙투아네트 는 프랑스와의 동맹을 강화하기 위해 앙리 4세, 마리 앙투아네트와 함께 결혼했습니다.\n",
      "\n",
      "[Prompt] ### Instruction(명령어):\n",
      "술이 보약도 아니고\n",
      "\n",
      "### Response(응답):\n",
      "[Ref   ] 건강에 해롭기 때문에 권장하지 않습니다 . 오히려 술을 마시면 건강이 악화될 수 있으니 적당한 양을 지키며 , 건강한 생활습관을 유지하는 것이 중요합니다 .\n",
      "[Gen   ] 저는 ai 어시스턴트이기 때문에 술을 마시지 않습니다. 하지만, 술에 취하지 않도록 주의해 주세요.\n"
     ]
    }
   ],
   "source": [
    "cnt = 0\n",
    "for prompt, ref, pred in zip(inputs, ref_labels, sft_pred_texts):\n",
    "    print()\n",
    "    print(\"[Prompt]\", prompt)\n",
    "    print(\"[Ref   ]\", ref)\n",
    "    print(\"[Gen   ]\", pred)\n",
    "    cnt +=1\n",
    "    if cnt >= 5 :\n",
    "        break"
   ]
  },
  {
   "cell_type": "code",
   "execution_count": 31,
   "id": "17bf2402",
   "metadata": {},
   "outputs": [
    {
     "name": "stdout",
     "output_type": "stream",
     "text": [
      "📊 평균 ROUGE 점수\n",
      "ROUGE-1 F1: 0.2017\n",
      "ROUGE-2 F1: 0.0869\n",
      "ROUGE-L F1: 0.1994\n"
     ]
    },
    {
     "data": {
      "image/png": "[encoded data removed]",
      "text/plain": [
       "<Figure size 864x432 with 1 Axes>"
      ]
     },
     "metadata": {
      "needs_background": "light"
     },
     "output_type": "display_data"
    }
   ],
   "source": [
    "compute_rouge(ref_labels, sft_pred_texts )"
   ]
  },
  {
   "cell_type": "markdown",
   "id": "a154ab1a",
   "metadata": {},
   "source": [
    "# <회고>"
   ]
  },
  {
   "cell_type": "markdown",
   "id": "cfd1a83f",
   "metadata": {},
   "source": [
    "## 실험 기록 \n",
    "1. SFT와 generation 비교를 하려면, SFT 훈련을 하지 않은 test_dataset (마지막 1000건)으로 비교하자!\n",
    "2. 저장된 PPO pretrained model을 불러와서 generator를 쓰려고 해봤는데..... \n",
    "3. 1000건 generate에 약 1시간 소요\n",
    "\n",
    "4. RM 훈련을 ranking 0-1, 0-2 set로 훈련했는데, ranking 0-1, 0-2, 1-2 set로 다시 훈련해보자\n",
    "   -> 별 영향 없음 \n",
    "5. Eearly_stopping 옵션을 주지 않으면 max_length까지 출력해서 쓸데없는 내용들이 많이 붙어 있다 \n",
    "   -> early_stopping 추가 후, PPO의 rouge값이 조금 개선됨. \n"
   ]
  },
  {
   "cell_type": "markdown",
   "id": "01b57d76",
   "metadata": {},
   "source": [
    "### 루브릭 1.  KoGPT와 SFT 모델  결과를 정량/정성적으로 비교\n",
    "\n",
    "✅ koChatGPT_SFT 파일 참고\n",
    "\n",
    " - KoGTP가 SFT보다 ROUGE 점수는 더 좋게 나왔으나, SFT가 더 자연스러운 문장을 생성한다. "
   ]
  },
  {
   "cell_type": "markdown",
   "id": "0b9a5e0d",
   "metadata": {},
   "source": [
    "### 루브릭 2. SFT 모델의 결과와 PPO 모델 결과를 정량/정성적으로 비교\n",
    "- SFT만 한 모델의 genereate와  SFT+RM 한 PPO 모델의 generate \n",
    "\n",
    "✅ ROUGE 점수\n",
    "\n",
    "| Metric  | PPO F1 Score | SFT F1 Score |\n",
    "| ------- | ------------ |------------- |\n",
    "| ROUGE-1 | 0.1626       |  0.2017      |\n",
    "| ROUGE-2 | 0.0644       |  0.0869      |\n",
    "| ROUGE-L | 0.1606       |  0.1994      |\n",
    "\n",
    "✅ Response 생성 능력 \n",
    " \n",
    "- SFT, PPO 둘다 자연스럽고 필요한 문장으로 출력되는데, SFT가 좀 더 필요한 내용으로만 출력된다. \n",
    "- PPO는 문장이 반복되는 느낌이 있다. (이는 reward에서 높은 점수를 주는 패턴을 반복학습해서 생기는 현상일 수 있다. ) \n",
    "\n",
    "\n",
    "✅ ROUGE 점수가 낮은 이유\n",
    " - ROUTE는 단순히 n-gram 중첩률을 보므로, 문장이 그럴듯하게 생성되어도, reference에 있는 단어들과 중첩이 적으면 점수가 낮게 나온다. \n",
    " - ROUGE는 특히 reference에 있는 핵심 키워드가 생성 결과에 엄라나 포함되었는지를 측정한다. \n",
    " - PPO 학습은 사람의 피드백으로 학습된 것이라서, 의미 일치보다는 자연스러움에 더 강하다. \n",
    " \n",
    "✅ 생각해 볼것 \n",
    " - 자연스럼움 + 정확성 필요함. \"정확성\"을 높이려면 학습 데이타가 더 많아야 할까?\n"
   ]
  },
  {
   "cell_type": "markdown",
   "id": "8682ea9a",
   "metadata": {},
   "source": [
    "### 루브릭 3. 정량적 성능 향상\n",
    "1. 기존 데이터셋을 추가로 정제하고, beam-search, top-k sampling등 generation 성능을 올리기 위한 기법을 적용하여 시험해 모델 성능을 향상시켰다. \n",
    "\n",
    "✅ 데이터셋 정제 : KoChatGPT_eda 파일 참고 \n",
    "  - 데이터 정제 및 불필요한 데이터 삭제\n",
    "  - ranking이 맞지 않는 RM 데이타 존재\n",
    "\n",
    "\n"
   ]
  }
 ],
 "metadata": {
  "kernelspec": {
   "display_name": "Python 3 (ipykernel)",
   "language": "python",
   "name": "python3"
  },
  "language_info": {
   "codemirror_mode": {
    "name": "ipython",
    "version": 3
   },
   "file_extension": ".py",
   "mimetype": "text/x-python",
   "name": "python",
   "nbconvert_exporter": "python",
   "pygments_lexer": "ipython3",
   "version": "3.9.7"
  }
 },
 "nbformat": 4,
 "nbformat_minor": 5
}
