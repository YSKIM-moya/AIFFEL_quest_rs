{
 "cells": [
  {
   "cell_type": "code",
   "execution_count": 1,
   "id": "7d10910b",
   "metadata": {},
   "outputs": [],
   "source": [
    "import os\n",
    "import sys\n",
    "sys.path.append('/aiffel')\n",
    "\n",
    "from copy import deepcopy\n",
    "\n",
    "import torch\n",
    "from torch.optim import Adam\n",
    "from chatgpt.models.base import RewardModel\n",
    "from chatgpt.models.gpt import GPTActor, GPTCritic\n",
    "from chatgpt.trainer import PPOTrainer\n",
    "from chatgpt.trainer.strategies import NaiveStrategy\n",
    "from transformers import AutoTokenizer, AutoModelForCausalLM, pipeline\n",
    "import json"
   ]
  },
  {
   "cell_type": "markdown",
   "id": "211acbe8",
   "metadata": {},
   "source": [
    "class RewardModel(LoRAModule):\n",
    "    \"\"\"\n",
    "    Reward model base class.\n",
    "\n",
    "    Args:\n",
    "        model (nn.Module): Reward model.\n",
    "        value_head (nn.Module): Value head to get reward score.\n",
    "        lora_rank (int): LoRA rank.\n",
    "        lora_train_bias (str): LoRA bias training mode.\n",
    "    \"\"\"\n",
    "\n",
    "    def __init__(self,\n",
    "                 model: nn.Module,\n",
    "                 value_head: Optional[nn.Module] = None,\n",
    "                 lora_rank: int = 0,\n",
    "                 lora_train_bias: str = 'none') -> None:\n",
    "        super().__init__(lora_rank=lora_rank, lora_train_bias=lora_train_bias)\n",
    "        self.model = model\n",
    "        self.convert_to_lora()\n",
    "\n",
    "        if value_head is not None:\n",
    "            if value_head.out_features != 1:\n",
    "                raise ValueError(\"The value head of reward model's output dim should be 1!\")\n",
    "            self.value_head = value_head\n",
    "        else:\n",
    "            self.value_head = nn.Linear(model.config.n_embd, 1)\n",
    "\n",
    "    def forward(self, sequences: torch.LongTensor, attention_mask: Optional[torch.Tensor] = None) -> torch.Tensor:\n",
    "        outputs = self.model(sequences, attention_mask=attention_mask)\n",
    "        last_hidden_states = outputs['last_hidden_state']\n",
    "        values = self.value_head(last_hidden_states)[:, :-1]\n",
    "        value = values.mean(dim=1).squeeze(1)    # ensure shape is (B)\n",
    "        return value"
   ]
  },
  {
   "cell_type": "code",
   "execution_count": 11,
   "id": "2142b837",
   "metadata": {},
   "outputs": [],
   "source": [
    "model = AutoModelForCausalLM.from_pretrained('skt/kogpt2-base-v2')\n",
    "tokenizer = AutoTokenizer.from_pretrained(\n",
    "    'skt/kogpt2-base-v2', bos_token='</s>', eos_token='</s>', unk_token='</s>', pad_token='</s>',\n",
    "    padding_side=\"right\",\n",
    "    model_max_length=512,\n",
    ")\n",
    "\n",
    "with NaiveStrategy().model_init_context():\n",
    "    actor = GPTActor(pretrained='./modles/output_1_SFT', lora_rank=0).to(torch.cuda.current_device())\n",
    "    critic = GPTCritic(pretrained='./models/output_2_RM', lora_rank=0).to(torch.cuda.current_device())\n",
    "\n",
    "    tokenizer = AutoTokenizer.from_pretrained(\n",
    "        'skt/kogpt2-base-v2', bos_token='</s>', eos_token='</s>', unk_token='</s>', pad_token='</s>',\n",
    "        padding_side=\"right\", \n",
    "        model_max_length=512\n",
    "    )\n",
    "\n",
    "    initial_model = deepcopy(actor)\n",
    "    reward_model = RewardModel(deepcopy(critic.model), deepcopy(critic.value_head)).to(torch.cuda.current_device())\n",
    "    \n",
    "    # critic.value_head : 마지막에 붙은 보상 예측기 \n",
    "    # critic : PPO 학습 중 value function을 학습 \n",
    "    # reward_model : 보상 예측을 위해 따로 고정해 놓는다. \n",
    "    \n",
    "    # initial model은 SFT 모델을 그대로 freezing하여 사용한다. \n",
    "\n",
    "    \n",
    "actor_optim = Adam(actor.parameters(), lr=5e-6)\n",
    "critic_optim = Adam(critic.parameters(), lr=5e-6)\n"
   ]
  },
  {
   "cell_type": "code",
   "execution_count": 12,
   "id": "8d874e1a",
   "metadata": {},
   "outputs": [],
   "source": [
    "(actor, actor_optim), (critic, critic_optim), reward_model, initial_model = NaiveStrategy().prepare(\n",
    "    (actor, actor_optim), (critic, critic_optim), reward_model, initial_model)"
   ]
  },
  {
   "cell_type": "code",
   "execution_count": 13,
   "id": "b8adee66",
   "metadata": {},
   "outputs": [
    {
     "name": "stdout",
     "output_type": "stream",
     "text": [
      "11992\n"
     ]
    }
   ],
   "source": [
    "with open('./data/clean_kochatgpt_1_PPO.jsonl', \"r\", encoding='utf-8-sig') as json_file:\n",
    "    list_data_dict = json.load(json_file)\n",
    "    list_prompt = [tmp['prompt'] for tmp in list_data_dict]\n",
    "\n",
    "print(len(list_prompt))\n",
    "\n",
    "def tokenize_fn(texts):\n",
    "    batch = tokenizer(texts, return_tensors='pt', max_length=96, padding=True, truncation=True)\n",
    "    return {k: v.cuda() for k, v in batch.items()}"
   ]
  },
  {
   "cell_type": "code",
   "execution_count": 17,
   "id": "5f9cec63",
   "metadata": {},
   "outputs": [
    {
     "name": "stdout",
     "output_type": "stream",
     "text": [
      "번디는 자신이 탐정잡지, 범죄소설 그리고 성범죄 관련 실제 범죄 다큐멘터리들을 탐독했다고 누구에게 말했나?\n"
     ]
    }
   ],
   "source": [
    "print(list_prompt[0])"
   ]
  },
  {
   "cell_type": "markdown",
   "id": "7dab9b2d",
   "metadata": {},
   "source": [
    "import torch.nn as nn \n",
    "# Actor : 정책을 업데이트 \n",
    "class PolicyLoss(nn.Module):\n",
    "    \"\"\"\n",
    "    Policy Loss for PPO\n",
    "    \"\"\"\n",
    "\n",
    "    def __init__(self, clip_eps: float = 0.2) -> None:\n",
    "        super().__init__()\n",
    "        self.clip_eps = clip_eps\n",
    "\n",
    "    def forward(self,\n",
    "                log_probs: torch.Tensor,\n",
    "                old_log_probs: torch.Tensor,\n",
    "                advantages: torch.Tensor,\n",
    "                action_mask: Optional[torch.Tensor] = None) -> torch.Tensor:\n",
    "        ratio = (log_probs - old_log_probs).exp()\n",
    "        surr1 = ratio * advantages\n",
    "        surr2 = ratio.clamp(1 - self.clip_eps, 1 + self.clip_eps) * advantages  \n",
    "        # clamp(input, min, max) : 텐서의 각 요소를 min~max 사이값으로 유지 \n",
    "        # clip_eps가 0.2이면, 0.8 ~ 1.2로 강제 제한\n",
    "                   \n",
    "        loss = -torch.min(surr1, surr2)   # 손실함수에 -를 붙여서, loss를 최소화하고 보상을 최대화한다. \n",
    "        if action_mask is not None:\n",
    "            loss = masked_mean(loss, action_mask)\n",
    "        loss = loss.mean()\n",
    "        return loss\n",
    "\n",
    "# Critic: 보상을 예측\n",
    "class ValueLoss(nn.Module):\n",
    "    \"\"\"\n",
    "    Value Loss for PPO\n",
    "    \"\"\"\n",
    "\n",
    "    def __init__(self, clip_eps: float = 0.4) -> None:\n",
    "        super().__init__()\n",
    "        self.clip_eps = clip_eps\n",
    "\n",
    "    def forward(self,\n",
    "                values: torch.Tensor,\n",
    "                old_values: torch.Tensor,\n",
    "                reward: torch.Tensor,\n",
    "                action_mask: Optional[torch.Tensor] = None) -> torch.Tensor:\n",
    "       \n",
    "        # values : 현재 critic이 예측한 value\n",
    "        # old_values : 지난 step에서 critic이 예측\n",
    "        # loss : critic이 예측한 value가 reward에 얼마나 가까운지 MSE 방식으로 학습 \n",
    "        \n",
    "        values_clipped = old_values + (values - old_values).clamp(-self.clip_eps, self.clip_eps)\n",
    "        surr1 = (values_clipped - reward)**2\n",
    "        surr2 = (values - reward)**2\n",
    "        loss = torch.max(surr1, surr2)\n",
    "        loss = loss.mean()\n",
    "        return loss"
   ]
  },
  {
   "cell_type": "code",
   "execution_count": 16,
   "id": "653e947f",
   "metadata": {},
   "outputs": [],
   "source": [
    "trainer = PPOTrainer(NaiveStrategy(),\n",
    "                     actor,\n",
    "                     critic,\n",
    "                     reward_model,\n",
    "                     initial_model,\n",
    "                     actor_optim,\n",
    "                     critic_optim,\n",
    "                     max_epochs=3,  \n",
    "                     train_batch_size=8, \n",
    "                     tokenizer=tokenize_fn,\n",
    "                     max_length=128,\n",
    "                     do_sample=True,\n",
    "                     temperature=1.0,\n",
    "                     top_k=50,\n",
    "                     pad_token_id=tokenizer.pad_token_id,\n",
    "                     eos_token_id=tokenizer.eos_token_id)"
   ]
  },
  {
   "cell_type": "code",
   "execution_count": 17,
   "id": "6b769913",
   "metadata": {},
   "outputs": [
    {
     "name": "stderr",
     "output_type": "stream",
     "text": [
      "Episode [1/10]:  67%|██████▋   | 2/3 [00:26<00:11, 11.91s/it]\n",
      "Train epoch [1/3]:   0%|          | 0/3 [00:00<?, ?it/s]\u001b[A\n",
      "Train epoch [1/3]:   0%|          | 0/3 [00:00<?, ?it/s, actor_loss=0, critic_loss=0.000261]\u001b[A\n",
      "Train epoch [1/3]:  33%|███▎      | 1/3 [00:00<00:01,  1.04it/s, actor_loss=0, critic_loss=0.000261]\u001b[A\n",
      "Train epoch [1/3]:  33%|███▎      | 1/3 [00:01<00:01,  1.04it/s, actor_loss=0, critic_loss=0.0217]  \u001b[A\n",
      "Train epoch [1/3]:  67%|██████▋   | 2/3 [00:01<00:00,  1.36it/s, actor_loss=0, critic_loss=0.0217]\u001b[A\n",
      "Train epoch [1/3]:  67%|██████▋   | 2/3 [00:02<00:00,  1.36it/s, actor_loss=0, critic_loss=0.000969]\u001b[A\n",
      "Train epoch [1/3]: 100%|██████████| 3/3 [00:02<00:00,  1.41it/s, actor_loss=0, critic_loss=0.000969]\u001b[A\n",
      "\n",
      "Train epoch [2/3]:   0%|          | 0/3 [00:00<?, ?it/s]\u001b[A\n",
      "Train epoch [2/3]:   0%|          | 0/3 [00:00<?, ?it/s, actor_loss=0, critic_loss=0.0145]\u001b[A\n",
      "Train epoch [2/3]:  33%|███▎      | 1/3 [00:00<00:01,  1.73it/s, actor_loss=0, critic_loss=0.0145]\u001b[A\n",
      "Train epoch [2/3]:  33%|███▎      | 1/3 [00:01<00:01,  1.73it/s, actor_loss=0, critic_loss=0.00961]\u001b[A\n",
      "Train epoch [2/3]:  67%|██████▋   | 2/3 [00:01<00:00,  1.73it/s, actor_loss=0, critic_loss=0.00961]\u001b[A\n",
      "Train epoch [2/3]:  67%|██████▋   | 2/3 [00:01<00:00,  1.73it/s, actor_loss=0, critic_loss=0.0043] \u001b[A\n",
      "Train epoch [2/3]: 100%|██████████| 3/3 [00:01<00:00,  1.72it/s, actor_loss=0, critic_loss=0.0043]\u001b[A\n",
      "\n",
      "Train epoch [3/3]:   0%|          | 0/3 [00:00<?, ?it/s]\u001b[A\n",
      "Train epoch [3/3]:   0%|          | 0/3 [00:00<?, ?it/s, actor_loss=0, critic_loss=0.00058]\u001b[A\n",
      "Train epoch [3/3]:  33%|███▎      | 1/3 [00:00<00:01,  1.72it/s, actor_loss=0, critic_loss=0.00058]\u001b[A\n",
      "Train epoch [3/3]:  33%|███▎      | 1/3 [00:01<00:01,  1.72it/s, actor_loss=0, critic_loss=0.0028] \u001b[A\n",
      "Train epoch [3/3]:  67%|██████▋   | 2/3 [00:01<00:00,  1.72it/s, actor_loss=0, critic_loss=0.0028]\u001b[A\n",
      "Train epoch [3/3]:  67%|██████▋   | 2/3 [00:01<00:00,  1.72it/s, actor_loss=0, critic_loss=0.00565]\u001b[A\n",
      "Train epoch [3/3]: 100%|██████████| 3/3 [00:01<00:00,  1.71it/s, actor_loss=0, critic_loss=0.00565]\u001b[A\n",
      "Episode [1/10]: 100%|██████████| 3/3 [00:38<00:00, 12.87s/it]\n",
      "Episode [2/10]:  67%|██████▋   | 2/3 [00:14<00:07,  7.21s/it]\n",
      "Train epoch [1/3]:   0%|          | 0/3 [00:00<?, ?it/s]\u001b[A\n",
      "Train epoch [1/3]:   0%|          | 0/3 [00:00<?, ?it/s, actor_loss=-.0718, critic_loss=0.00491]\u001b[A\n",
      "Train epoch [1/3]:  33%|███▎      | 1/3 [00:00<00:01,  1.65it/s, actor_loss=-.0718, critic_loss=0.00491]\u001b[A\n",
      "Train epoch [1/3]:  33%|███▎      | 1/3 [00:01<00:01,  1.65it/s, actor_loss=-.0679, critic_loss=0.00204]\u001b[A\n",
      "Train epoch [1/3]:  67%|██████▋   | 2/3 [00:01<00:00,  1.67it/s, actor_loss=-.0679, critic_loss=0.00204]\u001b[A\n",
      "Train epoch [1/3]:  67%|██████▋   | 2/3 [00:01<00:00,  1.67it/s, actor_loss=-.0671, critic_loss=0.000347]\u001b[A\n",
      "Train epoch [1/3]: 100%|██████████| 3/3 [00:01<00:00,  1.66it/s, actor_loss=-.0671, critic_loss=0.000347]\u001b[A\n",
      "\n",
      "Train epoch [2/3]:   0%|          | 0/3 [00:00<?, ?it/s]\u001b[A\n",
      "Train epoch [2/3]:   0%|          | 0/3 [00:00<?, ?it/s, actor_loss=-.0763, critic_loss=0.00129]\u001b[A\n",
      "Train epoch [2/3]:  33%|███▎      | 1/3 [00:00<00:01,  1.70it/s, actor_loss=-.0763, critic_loss=0.00129]\u001b[A\n",
      "Train epoch [2/3]:  33%|███▎      | 1/3 [00:01<00:01,  1.70it/s, actor_loss=-.0711, critic_loss=0.00281]\u001b[A\n",
      "Train epoch [2/3]:  67%|██████▋   | 2/3 [00:01<00:00,  1.68it/s, actor_loss=-.0711, critic_loss=0.00281]\u001b[A\n",
      "Train epoch [2/3]:  67%|██████▋   | 2/3 [00:01<00:00,  1.68it/s, actor_loss=-.0769, critic_loss=0.00586]\u001b[A\n",
      "Train epoch [2/3]: 100%|██████████| 3/3 [00:01<00:00,  1.68it/s, actor_loss=-.0769, critic_loss=0.00586]\u001b[A\n",
      "\n",
      "Train epoch [3/3]:   0%|          | 0/3 [00:00<?, ?it/s]\u001b[A\n",
      "Train epoch [3/3]:   0%|          | 0/3 [00:00<?, ?it/s, actor_loss=-.079, critic_loss=0.000713]\u001b[A\n",
      "Train epoch [3/3]:  33%|███▎      | 1/3 [00:00<00:01,  1.68it/s, actor_loss=-.079, critic_loss=0.000713]\u001b[A\n",
      "Train epoch [3/3]:  33%|███▎      | 1/3 [00:01<00:01,  1.68it/s, actor_loss=-.0749, critic_loss=0.000496]\u001b[A\n",
      "Train epoch [3/3]:  67%|██████▋   | 2/3 [00:01<00:00,  1.69it/s, actor_loss=-.0749, critic_loss=0.000496]\u001b[A\n",
      "Train epoch [3/3]:  67%|██████▋   | 2/3 [00:01<00:00,  1.69it/s, actor_loss=-.0821, critic_loss=0.00159] \u001b[A\n",
      "Train epoch [3/3]: 100%|██████████| 3/3 [00:01<00:00,  1.69it/s, actor_loss=-.0821, critic_loss=0.00159]\u001b[A\n",
      "Episode [2/10]: 100%|██████████| 3/3 [00:26<00:00,  8.99s/it]\n",
      "Episode [3/10]:  67%|██████▋   | 2/3 [00:11<00:05,  5.92s/it]\n",
      "Train epoch [1/3]:   0%|          | 0/3 [00:00<?, ?it/s]\u001b[A\n",
      "Train epoch [1/3]:   0%|          | 0/3 [00:00<?, ?it/s, actor_loss=-.033, critic_loss=0.00247]\u001b[A\n",
      "Train epoch [1/3]:  33%|███▎      | 1/3 [00:00<00:01,  1.71it/s, actor_loss=-.033, critic_loss=0.00247]\u001b[A\n",
      "Train epoch [1/3]:  33%|███▎      | 1/3 [00:01<00:01,  1.71it/s, actor_loss=0.0502, critic_loss=0.00172]\u001b[A\n",
      "Train epoch [1/3]:  67%|██████▋   | 2/3 [00:01<00:00,  1.73it/s, actor_loss=0.0502, critic_loss=0.00172]\u001b[A\n",
      "Train epoch [1/3]:  67%|██████▋   | 2/3 [00:01<00:00,  1.73it/s, actor_loss=-.000165, critic_loss=0.00764]\u001b[A\n",
      "Train epoch [1/3]: 100%|██████████| 3/3 [00:01<00:00,  1.73it/s, actor_loss=-.000165, critic_loss=0.00764]\u001b[A\n",
      "\n",
      "Train epoch [2/3]:   0%|          | 0/3 [00:00<?, ?it/s]\u001b[A\n",
      "Train epoch [2/3]:   0%|          | 0/3 [00:00<?, ?it/s, actor_loss=-.0295, critic_loss=0.00032]\u001b[A\n",
      "Train epoch [2/3]:  33%|███▎      | 1/3 [00:00<00:01,  1.75it/s, actor_loss=-.0295, critic_loss=0.00032]\u001b[A\n",
      "Train epoch [2/3]:  33%|███▎      | 1/3 [00:01<00:01,  1.75it/s, actor_loss=-.0268, critic_loss=0.000427]\u001b[A\n",
      "Train epoch [2/3]:  67%|██████▋   | 2/3 [00:01<00:00,  1.74it/s, actor_loss=-.0268, critic_loss=0.000427]\u001b[A\n",
      "Train epoch [2/3]:  67%|██████▋   | 2/3 [00:01<00:00,  1.74it/s, actor_loss=0.00737, critic_loss=0.0069] \u001b[A\n",
      "Train epoch [2/3]: 100%|██████████| 3/3 [00:01<00:00,  1.74it/s, actor_loss=0.00737, critic_loss=0.0069]\u001b[A\n",
      "\n",
      "Train epoch [3/3]:   0%|          | 0/3 [00:00<?, ?it/s]\u001b[A\n",
      "Train epoch [3/3]:   0%|          | 0/3 [00:00<?, ?it/s, actor_loss=-.017, critic_loss=0.00099]\u001b[A\n",
      "Train epoch [3/3]:  33%|███▎      | 1/3 [00:00<00:01,  1.74it/s, actor_loss=-.017, critic_loss=0.00099]\u001b[A\n",
      "Train epoch [3/3]:  33%|███▎      | 1/3 [00:01<00:01,  1.74it/s, actor_loss=-.00388, critic_loss=0.004]\u001b[A\n",
      "Train epoch [3/3]:  67%|██████▋   | 2/3 [00:01<00:00,  1.75it/s, actor_loss=-.00388, critic_loss=0.004]\u001b[A\n",
      "Train epoch [3/3]:  67%|██████▋   | 2/3 [00:01<00:00,  1.75it/s, actor_loss=-.0263, critic_loss=0.00241]\u001b[A\n",
      "Train epoch [3/3]: 100%|██████████| 3/3 [00:01<00:00,  1.74it/s, actor_loss=-.0263, critic_loss=0.00241]\u001b[A\n",
      "Episode [3/10]: 100%|██████████| 3/3 [00:23<00:00,  7.75s/it]\n",
      "Episode [4/10]:  67%|██████▋   | 2/3 [00:12<00:06,  6.44s/it]\n",
      "Train epoch [1/3]:   0%|          | 0/3 [00:00<?, ?it/s]\u001b[A\n",
      "Train epoch [1/3]:   0%|          | 0/3 [00:00<?, ?it/s, actor_loss=-.0358, critic_loss=0.00305]\u001b[A\n",
      "Train epoch [1/3]:  33%|███▎      | 1/3 [00:00<00:01,  1.70it/s, actor_loss=-.0358, critic_loss=0.00305]\u001b[A\n",
      "Train epoch [1/3]:  33%|███▎      | 1/3 [00:01<00:01,  1.70it/s, actor_loss=-.0322, critic_loss=0.00107]\u001b[A\n",
      "Train epoch [1/3]:  67%|██████▋   | 2/3 [00:01<00:00,  1.71it/s, actor_loss=-.0322, critic_loss=0.00107]\u001b[A\n",
      "Train epoch [1/3]:  67%|██████▋   | 2/3 [00:01<00:00,  1.71it/s, actor_loss=0.329, critic_loss=0.259]   \u001b[A\n",
      "Train epoch [1/3]: 100%|██████████| 3/3 [00:01<00:00,  1.71it/s, actor_loss=0.329, critic_loss=0.259]\u001b[A\n",
      "\n",
      "Train epoch [2/3]:   0%|          | 0/3 [00:00<?, ?it/s]\u001b[A\n",
      "Train epoch [2/3]:   0%|          | 0/3 [00:00<?, ?it/s, actor_loss=-.0233, critic_loss=0.00236]\u001b[A\n",
      "Train epoch [2/3]:  33%|███▎      | 1/3 [00:00<00:01,  1.70it/s, actor_loss=-.0233, critic_loss=0.00236]\u001b[A\n",
      "Train epoch [2/3]:  33%|███▎      | 1/3 [00:01<00:01,  1.70it/s, actor_loss=-.0213, critic_loss=0.00698]\u001b[A\n",
      "Train epoch [2/3]:  67%|██████▋   | 2/3 [00:01<00:00,  1.71it/s, actor_loss=-.0213, critic_loss=0.00698]\u001b[A\n",
      "Train epoch [2/3]:  67%|██████▋   | 2/3 [00:01<00:00,  1.71it/s, actor_loss=0.119, critic_loss=0.21]    \u001b[A\n",
      "Train epoch [2/3]: 100%|██████████| 3/3 [00:01<00:00,  1.71it/s, actor_loss=0.119, critic_loss=0.21]\u001b[A\n",
      "\n",
      "Train epoch [3/3]:   0%|          | 0/3 [00:00<?, ?it/s]\u001b[A\n"
     ]
    },
    {
     "name": "stderr",
     "output_type": "stream",
     "text": [
      "Train epoch [3/3]:   0%|          | 0/3 [00:00<?, ?it/s, actor_loss=-.0201, critic_loss=0.0115]\u001b[A\n",
      "Train epoch [3/3]:  33%|███▎      | 1/3 [00:00<00:01,  1.70it/s, actor_loss=-.0201, critic_loss=0.0115]\u001b[A\n",
      "Train epoch [3/3]:  33%|███▎      | 1/3 [00:01<00:01,  1.70it/s, actor_loss=0.128, critic_loss=0.197]  \u001b[A\n",
      "Train epoch [3/3]:  67%|██████▋   | 2/3 [00:01<00:00,  1.72it/s, actor_loss=0.128, critic_loss=0.197]\u001b[A\n",
      "Train epoch [3/3]:  67%|██████▋   | 2/3 [00:01<00:00,  1.72it/s, actor_loss=-.0394, critic_loss=0.0197]\u001b[A\n",
      "Train epoch [3/3]: 100%|██████████| 3/3 [00:01<00:00,  1.71it/s, actor_loss=-.0394, critic_loss=0.0197]\u001b[A\n",
      "Episode [4/10]: 100%|██████████| 3/3 [00:24<00:00,  8.16s/it]\n",
      "Episode [5/10]:  67%|██████▋   | 2/3 [00:14<00:07,  7.01s/it]\n",
      "Train epoch [1/3]:   0%|          | 0/3 [00:00<?, ?it/s]\u001b[A\n",
      "Train epoch [1/3]:   0%|          | 0/3 [00:00<?, ?it/s, actor_loss=-.0759, critic_loss=0.00681]\u001b[A\n",
      "Train epoch [1/3]:  33%|███▎      | 1/3 [00:00<00:01,  1.67it/s, actor_loss=-.0759, critic_loss=0.00681]\u001b[A\n",
      "Train epoch [1/3]:  33%|███▎      | 1/3 [00:01<00:01,  1.67it/s, actor_loss=-.0779, critic_loss=0.00423]\u001b[A\n",
      "Train epoch [1/3]:  67%|██████▋   | 2/3 [00:01<00:00,  1.68it/s, actor_loss=-.0779, critic_loss=0.00423]\u001b[A\n",
      "Train epoch [1/3]:  67%|██████▋   | 2/3 [00:01<00:00,  1.68it/s, actor_loss=-.0636, critic_loss=0.00449]\u001b[A\n",
      "Train epoch [1/3]: 100%|██████████| 3/3 [00:01<00:00,  1.68it/s, actor_loss=-.0636, critic_loss=0.00449]\u001b[A\n",
      "\n",
      "Train epoch [2/3]:   0%|          | 0/3 [00:00<?, ?it/s]\u001b[A\n",
      "Train epoch [2/3]:   0%|          | 0/3 [00:00<?, ?it/s, actor_loss=-.0778, critic_loss=0.00619]\u001b[A\n",
      "Train epoch [2/3]:  33%|███▎      | 1/3 [00:00<00:01,  1.69it/s, actor_loss=-.0778, critic_loss=0.00619]\u001b[A\n",
      "Train epoch [2/3]:  33%|███▎      | 1/3 [00:01<00:01,  1.69it/s, actor_loss=-.0662, critic_loss=0.00868]\u001b[A\n",
      "Train epoch [2/3]:  67%|██████▋   | 2/3 [00:01<00:00,  1.70it/s, actor_loss=-.0662, critic_loss=0.00868]\u001b[A\n",
      "Train epoch [2/3]:  67%|██████▋   | 2/3 [00:01<00:00,  1.70it/s, actor_loss=-.0781, critic_loss=0.00664]\u001b[A\n",
      "Train epoch [2/3]: 100%|██████████| 3/3 [00:01<00:00,  1.69it/s, actor_loss=-.0781, critic_loss=0.00664]\u001b[A\n",
      "\n",
      "Train epoch [3/3]:   0%|          | 0/3 [00:00<?, ?it/s]\u001b[A\n",
      "Train epoch [3/3]:   0%|          | 0/3 [00:00<?, ?it/s, actor_loss=-.078, critic_loss=0.00313]\u001b[A\n",
      "Train epoch [3/3]:  33%|███▎      | 1/3 [00:00<00:01,  1.71it/s, actor_loss=-.078, critic_loss=0.00313]\u001b[A\n",
      "Train epoch [3/3]:  33%|███▎      | 1/3 [00:01<00:01,  1.71it/s, actor_loss=-.0742, critic_loss=0.00103]\u001b[A\n",
      "Train epoch [3/3]:  67%|██████▋   | 2/3 [00:01<00:00,  1.70it/s, actor_loss=-.0742, critic_loss=0.00103]\u001b[A\n",
      "Train epoch [3/3]:  67%|██████▋   | 2/3 [00:01<00:00,  1.70it/s, actor_loss=-.0683, critic_loss=0.00198]\u001b[A\n",
      "Train epoch [3/3]: 100%|██████████| 3/3 [00:01<00:00,  1.70it/s, actor_loss=-.0683, critic_loss=0.00198]\u001b[A\n",
      "Episode [5/10]: 100%|██████████| 3/3 [00:26<00:00,  8.78s/it]\n",
      "Episode [6/10]:  67%|██████▋   | 2/3 [00:13<00:06,  6.91s/it]\n",
      "Train epoch [1/3]:   0%|          | 0/3 [00:00<?, ?it/s]\u001b[A\n",
      "Train epoch [1/3]:   0%|          | 0/3 [00:00<?, ?it/s, actor_loss=-.00492, critic_loss=0.0075]\u001b[A\n",
      "Train epoch [1/3]:  33%|███▎      | 1/3 [00:00<00:01,  1.70it/s, actor_loss=-.00492, critic_loss=0.0075]\u001b[A\n",
      "Train epoch [1/3]:  33%|███▎      | 1/3 [00:01<00:01,  1.70it/s, actor_loss=-.0643, critic_loss=0.00793]\u001b[A\n",
      "Train epoch [1/3]:  67%|██████▋   | 2/3 [00:01<00:00,  1.71it/s, actor_loss=-.0643, critic_loss=0.00793]\u001b[A\n",
      "Train epoch [1/3]:  67%|██████▋   | 2/3 [00:01<00:00,  1.71it/s, actor_loss=-.0698, critic_loss=0.00835]\u001b[A\n",
      "Train epoch [1/3]: 100%|██████████| 3/3 [00:01<00:00,  1.71it/s, actor_loss=-.0698, critic_loss=0.00835]\u001b[A\n",
      "\n",
      "Train epoch [2/3]:   0%|          | 0/3 [00:00<?, ?it/s]\u001b[A\n",
      "Train epoch [2/3]:   0%|          | 0/3 [00:00<?, ?it/s, actor_loss=-.0109, critic_loss=0.00541]\u001b[A\n",
      "Train epoch [2/3]:  33%|███▎      | 1/3 [00:00<00:01,  1.73it/s, actor_loss=-.0109, critic_loss=0.00541]\u001b[A\n",
      "Train epoch [2/3]:  33%|███▎      | 1/3 [00:01<00:01,  1.73it/s, actor_loss=-.049, critic_loss=0.000932]\u001b[A\n",
      "Train epoch [2/3]:  67%|██████▋   | 2/3 [00:01<00:00,  1.72it/s, actor_loss=-.049, critic_loss=0.000932]\u001b[A\n",
      "Train epoch [2/3]:  67%|██████▋   | 2/3 [00:01<00:00,  1.72it/s, actor_loss=-.0891, critic_loss=0.00209]\u001b[A\n",
      "Train epoch [2/3]: 100%|██████████| 3/3 [00:01<00:00,  1.72it/s, actor_loss=-.0891, critic_loss=0.00209]\u001b[A\n",
      "\n",
      "Train epoch [3/3]:   0%|          | 0/3 [00:00<?, ?it/s]\u001b[A\n",
      "Train epoch [3/3]:   0%|          | 0/3 [00:00<?, ?it/s, actor_loss=-.058, critic_loss=0.00382]\u001b[A\n",
      "Train epoch [3/3]:  33%|███▎      | 1/3 [00:00<00:01,  1.73it/s, actor_loss=-.058, critic_loss=0.00382]\u001b[A\n",
      "Train epoch [3/3]:  33%|███▎      | 1/3 [00:01<00:01,  1.73it/s, actor_loss=-.0376, critic_loss=0.0146]\u001b[A\n",
      "Train epoch [3/3]:  67%|██████▋   | 2/3 [00:01<00:00,  1.72it/s, actor_loss=-.0376, critic_loss=0.0146]\u001b[A\n",
      "Train epoch [3/3]:  67%|██████▋   | 2/3 [00:01<00:00,  1.72it/s, actor_loss=-.0572, critic_loss=0.0047]\u001b[A\n",
      "Train epoch [3/3]: 100%|██████████| 3/3 [00:01<00:00,  1.71it/s, actor_loss=-.0572, critic_loss=0.0047]\u001b[A\n",
      "Episode [6/10]: 100%|██████████| 3/3 [00:26<00:00,  8.67s/it]\n",
      "Episode [7/10]:  67%|██████▋   | 2/3 [00:13<00:06,  6.89s/it]\n",
      "Train epoch [1/3]:   0%|          | 0/3 [00:00<?, ?it/s]\u001b[A\n",
      "Train epoch [1/3]:   0%|          | 0/3 [00:00<?, ?it/s, actor_loss=0.0372, critic_loss=0.00985]\u001b[A\n",
      "Train epoch [1/3]:  33%|███▎      | 1/3 [00:00<00:01,  1.72it/s, actor_loss=0.0372, critic_loss=0.00985]\u001b[A\n",
      "Train epoch [1/3]:  33%|███▎      | 1/3 [00:01<00:01,  1.72it/s, actor_loss=0.0427, critic_loss=0.00316]\u001b[A\n",
      "Train epoch [1/3]:  67%|██████▋   | 2/3 [00:01<00:00,  1.72it/s, actor_loss=0.0427, critic_loss=0.00316]\u001b[A\n",
      "Train epoch [1/3]:  67%|██████▋   | 2/3 [00:01<00:00,  1.72it/s, actor_loss=0.106, critic_loss=0.0045]  \u001b[A\n",
      "Train epoch [1/3]: 100%|██████████| 3/3 [00:01<00:00,  1.72it/s, actor_loss=0.106, critic_loss=0.0045]\u001b[A\n",
      "\n",
      "Train epoch [2/3]:   0%|          | 0/3 [00:00<?, ?it/s]\u001b[A\n",
      "Train epoch [2/3]:   0%|          | 0/3 [00:00<?, ?it/s, actor_loss=0.0597, critic_loss=0.00757]\u001b[A\n",
      "Train epoch [2/3]:  33%|███▎      | 1/3 [00:00<00:01,  1.72it/s, actor_loss=0.0597, critic_loss=0.00757]\u001b[A\n",
      "Train epoch [2/3]:  33%|███▎      | 1/3 [00:01<00:01,  1.72it/s, actor_loss=0.0092, critic_loss=0.0118] \u001b[A\n",
      "Train epoch [2/3]:  67%|██████▋   | 2/3 [00:01<00:00,  1.72it/s, actor_loss=0.0092, critic_loss=0.0118]\u001b[A\n",
      "Train epoch [2/3]:  67%|██████▋   | 2/3 [00:01<00:00,  1.72it/s, actor_loss=0.0905, critic_loss=0.00492]\u001b[A\n",
      "Train epoch [2/3]: 100%|██████████| 3/3 [00:01<00:00,  1.72it/s, actor_loss=0.0905, critic_loss=0.00492]\u001b[A\n",
      "\n",
      "Train epoch [3/3]:   0%|          | 0/3 [00:00<?, ?it/s]\u001b[A\n",
      "Train epoch [3/3]:   0%|          | 0/3 [00:00<?, ?it/s, actor_loss=0.0508, critic_loss=0.00721]\u001b[A\n",
      "Train epoch [3/3]:  33%|███▎      | 1/3 [00:00<00:01,  1.72it/s, actor_loss=0.0508, critic_loss=0.00721]\u001b[A\n",
      "Train epoch [3/3]:  33%|███▎      | 1/3 [00:01<00:01,  1.72it/s, actor_loss=0.0447, critic_loss=0.00322]\u001b[A\n",
      "Train epoch [3/3]:  67%|██████▋   | 2/3 [00:01<00:00,  1.72it/s, actor_loss=0.0447, critic_loss=0.00322]\u001b[A\n",
      "Train epoch [3/3]:  67%|██████▋   | 2/3 [00:01<00:00,  1.72it/s, actor_loss=0.0321, critic_loss=0.0012] \u001b[A\n",
      "Train epoch [3/3]: 100%|██████████| 3/3 [00:01<00:00,  1.72it/s, actor_loss=0.0321, critic_loss=0.0012]\u001b[A\n",
      "Episode [7/10]: 100%|██████████| 3/3 [00:25<00:00,  8.36s/it]\n",
      "Episode [8/10]:  67%|██████▋   | 2/3 [00:13<00:06,  6.93s/it]\n",
      "Train epoch [1/3]:   0%|          | 0/3 [00:00<?, ?it/s]\u001b[A\n",
      "Train epoch [1/3]:   0%|          | 0/3 [00:00<?, ?it/s, actor_loss=0.00725, critic_loss=0.00192]\u001b[A\n",
      "Train epoch [1/3]:  33%|███▎      | 1/3 [00:00<00:01,  1.70it/s, actor_loss=0.00725, critic_loss=0.00192]\u001b[A\n",
      "Train epoch [1/3]:  33%|███▎      | 1/3 [00:01<00:01,  1.70it/s, actor_loss=0.0375, critic_loss=0.00506] \u001b[A\n",
      "Train epoch [1/3]:  67%|██████▋   | 2/3 [00:01<00:00,  1.71it/s, actor_loss=0.0375, critic_loss=0.00506]\u001b[A\n",
      "Train epoch [1/3]:  67%|██████▋   | 2/3 [00:01<00:00,  1.71it/s, actor_loss=0.229, critic_loss=0.344]   \u001b[A\n",
      "Train epoch [1/3]: 100%|██████████| 3/3 [00:01<00:00,  1.71it/s, actor_loss=0.229, critic_loss=0.344]\u001b[A\n",
      "\n",
      "Train epoch [2/3]:   0%|          | 0/3 [00:00<?, ?it/s]\u001b[A\n"
     ]
    },
    {
     "name": "stderr",
     "output_type": "stream",
     "text": [
      "Train epoch [2/3]:   0%|          | 0/3 [00:00<?, ?it/s, actor_loss=0.0235, critic_loss=0.00399]\u001b[A\n",
      "Train epoch [2/3]:  33%|███▎      | 1/3 [00:00<00:01,  1.74it/s, actor_loss=0.0235, critic_loss=0.00399]\u001b[A\n",
      "Train epoch [2/3]:  33%|███▎      | 1/3 [00:01<00:01,  1.74it/s, actor_loss=0.179, critic_loss=0.292]   \u001b[A\n",
      "Train epoch [2/3]:  67%|██████▋   | 2/3 [00:01<00:00,  1.73it/s, actor_loss=0.179, critic_loss=0.292]\u001b[A\n",
      "Train epoch [2/3]:  67%|██████▋   | 2/3 [00:01<00:00,  1.73it/s, actor_loss=0.0161, critic_loss=0.0271]\u001b[A\n",
      "Train epoch [2/3]: 100%|██████████| 3/3 [00:01<00:00,  1.72it/s, actor_loss=0.0161, critic_loss=0.0271]\u001b[A\n",
      "\n",
      "Train epoch [3/3]:   0%|          | 0/3 [00:00<?, ?it/s]\u001b[A\n",
      "Train epoch [3/3]:   0%|          | 0/3 [00:00<?, ?it/s, actor_loss=0.024, critic_loss=0.0373]\u001b[A\n",
      "Train epoch [3/3]:  33%|███▎      | 1/3 [00:00<00:01,  1.74it/s, actor_loss=0.024, critic_loss=0.0373]\u001b[A\n",
      "Train epoch [3/3]:  33%|███▎      | 1/3 [00:01<00:01,  1.74it/s, actor_loss=0.029, critic_loss=0.0266]\u001b[A\n",
      "Train epoch [3/3]:  67%|██████▋   | 2/3 [00:01<00:00,  1.72it/s, actor_loss=0.029, critic_loss=0.0266]\u001b[A\n",
      "Train epoch [3/3]:  67%|██████▋   | 2/3 [00:01<00:00,  1.72it/s, actor_loss=0.183, critic_loss=0.27]  \u001b[A\n",
      "Train epoch [3/3]: 100%|██████████| 3/3 [00:01<00:00,  1.72it/s, actor_loss=0.183, critic_loss=0.27]\u001b[A\n",
      "Episode [8/10]: 100%|██████████| 3/3 [00:26<00:00,  8.69s/it]\n",
      "Episode [9/10]:  67%|██████▋   | 2/3 [00:13<00:06,  6.75s/it]\n",
      "Train epoch [1/3]:   0%|          | 0/3 [00:00<?, ?it/s]\u001b[A\n",
      "Train epoch [1/3]:   0%|          | 0/3 [00:00<?, ?it/s, actor_loss=-.0233, critic_loss=0.00405]\u001b[A\n",
      "Train epoch [1/3]:  33%|███▎      | 1/3 [00:00<00:01,  1.70it/s, actor_loss=-.0233, critic_loss=0.00405]\u001b[A\n",
      "Train epoch [1/3]:  33%|███▎      | 1/3 [00:01<00:01,  1.70it/s, actor_loss=0.00711, critic_loss=0.0392]\u001b[A\n",
      "Train epoch [1/3]:  67%|██████▋   | 2/3 [00:01<00:00,  1.71it/s, actor_loss=0.00711, critic_loss=0.0392]\u001b[A\n",
      "Train epoch [1/3]:  67%|██████▋   | 2/3 [00:01<00:00,  1.71it/s, actor_loss=0.472, critic_loss=2.74]    \u001b[A\n",
      "Train epoch [1/3]: 100%|██████████| 3/3 [00:01<00:00,  1.70it/s, actor_loss=0.472, critic_loss=2.74]\u001b[A\n",
      "\n",
      "Train epoch [2/3]:   0%|          | 0/3 [00:00<?, ?it/s]\u001b[A\n",
      "Train epoch [2/3]:   0%|          | 0/3 [00:00<?, ?it/s, actor_loss=0.716, critic_loss=2.62]\u001b[A\n",
      "Train epoch [2/3]:  33%|███▎      | 1/3 [00:00<00:01,  1.72it/s, actor_loss=0.716, critic_loss=2.62]\u001b[A\n",
      "Train epoch [2/3]:  33%|███▎      | 1/3 [00:01<00:01,  1.72it/s, actor_loss=-.0528, critic_loss=0.0506]\u001b[A\n",
      "Train epoch [2/3]:  67%|██████▋   | 2/3 [00:01<00:00,  1.71it/s, actor_loss=-.0528, critic_loss=0.0506]\u001b[A\n",
      "Train epoch [2/3]:  67%|██████▋   | 2/3 [00:01<00:00,  1.71it/s, actor_loss=0.576, critic_loss=0.052]  \u001b[A\n",
      "Train epoch [2/3]: 100%|██████████| 3/3 [00:01<00:00,  1.71it/s, actor_loss=0.576, critic_loss=0.052]\u001b[A\n",
      "\n",
      "Train epoch [3/3]:   0%|          | 0/3 [00:00<?, ?it/s]\u001b[A\n",
      "Train epoch [3/3]:   0%|          | 0/3 [00:00<?, ?it/s, actor_loss=-.0427, critic_loss=0.087]\u001b[A\n",
      "Train epoch [3/3]:  33%|███▎      | 1/3 [00:00<00:01,  1.71it/s, actor_loss=-.0427, critic_loss=0.087]\u001b[A\n",
      "Train epoch [3/3]:  33%|███▎      | 1/3 [00:01<00:01,  1.71it/s, actor_loss=0.44, critic_loss=2.32]   \u001b[A\n",
      "Train epoch [3/3]:  67%|██████▋   | 2/3 [00:01<00:00,  1.72it/s, actor_loss=0.44, critic_loss=2.32]\u001b[A\n",
      "Train epoch [3/3]:  67%|██████▋   | 2/3 [00:01<00:00,  1.72it/s, actor_loss=0.0427, critic_loss=0.0656]\u001b[A\n",
      "Train epoch [3/3]: 100%|██████████| 3/3 [00:01<00:00,  1.70it/s, actor_loss=0.0427, critic_loss=0.0656]\u001b[A\n",
      "Episode [9/10]: 100%|██████████| 3/3 [00:25<00:00,  8.54s/it]\n",
      "Episode [10/10]:  67%|██████▋   | 2/3 [00:13<00:06,  6.90s/it]\n",
      "Train epoch [1/3]:   0%|          | 0/3 [00:00<?, ?it/s]\u001b[A\n",
      "Train epoch [1/3]:   0%|          | 0/3 [00:00<?, ?it/s, actor_loss=-.0925, critic_loss=0.0525]\u001b[A\n",
      "Train epoch [1/3]:  33%|███▎      | 1/3 [00:00<00:01,  1.68it/s, actor_loss=-.0925, critic_loss=0.0525]\u001b[A\n",
      "Train epoch [1/3]:  33%|███▎      | 1/3 [00:01<00:01,  1.68it/s, actor_loss=-.163, critic_loss=0.0722] \u001b[A\n",
      "Train epoch [1/3]:  67%|██████▋   | 2/3 [00:01<00:00,  1.68it/s, actor_loss=-.163, critic_loss=0.0722]\u001b[A\n",
      "Train epoch [1/3]:  67%|██████▋   | 2/3 [00:01<00:00,  1.68it/s, actor_loss=-.11, critic_loss=0.0295] \u001b[A\n",
      "Train epoch [1/3]: 100%|██████████| 3/3 [00:01<00:00,  1.68it/s, actor_loss=-.11, critic_loss=0.0295]\u001b[A\n",
      "\n",
      "Train epoch [2/3]:   0%|          | 0/3 [00:00<?, ?it/s]\u001b[A\n",
      "Train epoch [2/3]:   0%|          | 0/3 [00:00<?, ?it/s, actor_loss=-.124, critic_loss=0.0582]\u001b[A\n",
      "Train epoch [2/3]:  33%|███▎      | 1/3 [00:00<00:01,  1.70it/s, actor_loss=-.124, critic_loss=0.0582]\u001b[A\n",
      "Train epoch [2/3]:  33%|███▎      | 1/3 [00:01<00:01,  1.70it/s, actor_loss=-.126, critic_loss=0.0602]\u001b[A\n",
      "Train epoch [2/3]:  67%|██████▋   | 2/3 [00:01<00:00,  1.68it/s, actor_loss=-.126, critic_loss=0.0602]\u001b[A\n",
      "Train epoch [2/3]:  67%|██████▋   | 2/3 [00:01<00:00,  1.68it/s, actor_loss=-.0854, critic_loss=0.0742]\u001b[A\n",
      "Train epoch [2/3]: 100%|██████████| 3/3 [00:01<00:00,  1.69it/s, actor_loss=-.0854, critic_loss=0.0742]\u001b[A\n",
      "\n",
      "Train epoch [3/3]:   0%|          | 0/3 [00:00<?, ?it/s]\u001b[A\n",
      "Train epoch [3/3]:   0%|          | 0/3 [00:00<?, ?it/s, actor_loss=-.211, critic_loss=0.0351]\u001b[A\n",
      "Train epoch [3/3]:  33%|███▎      | 1/3 [00:00<00:01,  1.70it/s, actor_loss=-.211, critic_loss=0.0351]\u001b[A\n",
      "Train epoch [3/3]:  33%|███▎      | 1/3 [00:01<00:01,  1.70it/s, actor_loss=-.0594, critic_loss=0.0648]\u001b[A\n",
      "Train epoch [3/3]:  67%|██████▋   | 2/3 [00:01<00:00,  1.69it/s, actor_loss=-.0594, critic_loss=0.0648]\u001b[A\n",
      "Train epoch [3/3]:  67%|██████▋   | 2/3 [00:01<00:00,  1.69it/s, actor_loss=-.0931, critic_loss=0.0283]\u001b[A\n",
      "Train epoch [3/3]: 100%|██████████| 3/3 [00:01<00:00,  1.68it/s, actor_loss=-.0931, critic_loss=0.0283]\u001b[A\n",
      "Episode [10/10]: 100%|██████████| 3/3 [00:26<00:00,  8.74s/it]\n"
     ]
    }
   ],
   "source": [
    "trainer.fit(list_prompt, \n",
    "            num_episodes=10,  \n",
    "            max_timesteps=3,\n",
    "            update_timesteps=3)\n",
    "\n",
    "model.save_pretrained('./models/output_3_PPO')"
   ]
  },
  {
   "cell_type": "markdown",
   "id": "95bf4db1",
   "metadata": {},
   "source": [
    "### Generator 시험 "
   ]
  },
  {
   "cell_type": "markdown",
   "id": "400bc221",
   "metadata": {},
   "source": [
    "**Rouge 점수**"
   ]
  },
  {
   "cell_type": "code",
   "execution_count": 18,
   "id": "1faaf574",
   "metadata": {},
   "outputs": [],
   "source": [
    "from rouge import Rouge\n",
    "import seaborn as sns\n",
    "import numpy as np\n",
    "import pandas as pd\n",
    "import matplotlib.pyplot as plt\n",
    "\n",
    "def compute_rouge(refs, preds): \n",
    "    rouge = Rouge()\n",
    "    all_scores = []\n",
    "    results = []\n",
    "    \n",
    "    for ref, pred in zip(refs, preds):\n",
    "        if ref.strip() == \"\" or pred.strip() == \"\":\n",
    "            continue\n",
    "        \n",
    "        score = rouge.get_scores(pred, ref)[0]\n",
    "        all_scores.append(score)\n",
    "        \n",
    "        results.append({\n",
    "            'ROUGE-1': score['rouge-1']['f'],\n",
    "            'ROUGE-2': score['rouge-2']['f'],\n",
    "            'ROUGE-L': score['rouge-l']['f']\n",
    "        })\n",
    "    \n",
    "    # 평균값\n",
    "    rouge_1 = np.mean([s['rouge-1']['f'] for s in all_scores])\n",
    "    rouge_2 = np.mean([s['rouge-2']['f'] for s in all_scores])\n",
    "    rouge_l = np.mean([s['rouge-l']['f'] for s in all_scores])\n",
    "    \n",
    "    print(\"📊 평균 ROUGE 점수\")\n",
    "    print(f\"ROUGE-1 F1: {rouge_1:.4f}\")\n",
    "    print(f\"ROUGE-2 F1: {rouge_2:.4f}\")\n",
    "    print(f\"ROUGE-L F1: {rouge_l:.4f}\") \n",
    "    \n",
    "    # 그래프\n",
    "    df = pd.DataFrame(results)\n",
    " \n",
    "    plt.figure(figsize=(12, 6))\n",
    "    sns.boxplot(data=df[['ROUGE-1', 'ROUGE-2', 'ROUGE-L']])\n",
    "    plt.title(\"ROUGE Score Distribution\")\n",
    "    plt.show()\n"
   ]
  },
  {
   "cell_type": "markdown",
   "id": "4e47b75f",
   "metadata": {},
   "source": [
    "**SFT용 file에서 prompt와 label을 읽어온다.**"
   ]
  },
  {
   "cell_type": "code",
   "execution_count": 4,
   "id": "927dca0e",
   "metadata": {},
   "outputs": [
    {
     "name": "stdout",
     "output_type": "stream",
     "text": [
      "11992\n"
     ]
    }
   ],
   "source": [
    "data_path_SFT = './data/clean_kochatgpt_1_SFT.jsonl'\n",
    "with open(data_path_SFT, \"r\", encoding='utf-8-sig') as json_file:\n",
    "    sft_data_list = json.load(json_file)\n",
    "\n",
    "print(len(sft_data_list))"
   ]
  },
  {
   "cell_type": "code",
   "execution_count": 41,
   "id": "b9736cad",
   "metadata": {
    "scrolled": false
   },
   "outputs": [
    {
     "data": {
      "text/plain": [
       "{'prompt': '불고기용 고기 한우에요 ?',\n",
       " 'completion': '저는 인공지능 챗봇이며 , 직접적으로 식품에 관한 정보를 가지고 있지 않습니다 . 하지만 일반적으로 불고기용 고기는 한우 , 쇠고기 , 돼지고기 등 다양한 종류의 고기를 사용합니다 . 하지만 한우는 대표적인 고급 육류로 알려져 있기 때문에 , 한우를 사용하는 경우도 많습니다 . 알러지나 개별 건강 상태에 따라 다를 수 있으니 충분한 정보 수집 후에 선택해 주시기 바랍니다 .',\n",
       " 'tokens': 193}"
      ]
     },
     "execution_count": 41,
     "metadata": {},
     "output_type": "execute_result"
    }
   ],
   "source": [
    "sft_data_list[0]"
   ]
  },
  {
   "cell_type": "code",
   "execution_count": 42,
   "id": "79ca662c",
   "metadata": {
    "scrolled": false
   },
   "outputs": [
    {
     "data": {
      "text/plain": [
       "'저는 인공지능 챗봇이며 , 직접적으로 식품에 관한 정보를 가지고 있지 않습니다 . 하지만 일반적으로 불고기용 고기는 한우 , 쇠고기 , 돼지고기 등 다양한 종류의 고기를 사용합니다 . 하지만 한우는 대표적인 고급 육류로 알려져 있기 때문에 , 한우를 사용하는 경우도 많습니다 . 알러지나 개별 건강 상태에 따라 다를 수 있으니 충분한 정보 수집 후에 선택해 주시기 바랍니다 .'"
      ]
     },
     "execution_count": 42,
     "metadata": {},
     "output_type": "execute_result"
    }
   ],
   "source": [
    "label = sft_data_list[0]['completion']\n",
    "label"
   ]
  },
  {
   "cell_type": "code",
   "execution_count": 6,
   "id": "c308799c",
   "metadata": {},
   "outputs": [
    {
     "name": "stdout",
     "output_type": "stream",
     "text": [
      "1000\n",
      "1000\n"
     ]
    }
   ],
   "source": [
    "PROMPT_DICT = {\n",
    "    \"prompt_input\": (\n",
    "        \"### Instruction(명령어):\\n{prompt}\\n\\n### Response(응답):\"\n",
    "    )\n",
    "}\n",
    "\n",
    "test_count = 1000 # 개수를 줄여보자\n",
    "selected_data = sft_data_list[-test_count:]\n",
    "\n",
    "# inputs = [PROMPT_DICT['prompt_input'].format_map({'prompt': tmp}) for tmp in list_prompt]\n",
    "inputs = []\n",
    "ref_labels = []\n",
    "\n",
    "for tmp in selected_data: \n",
    "    prompt = tmp['prompt']\n",
    "    completion = tmp['completion']\n",
    "    \n",
    "    input_text = PROMPT_DICT['prompt_input'].format_map({'prompt': prompt})\n",
    "    \n",
    "    inputs.append(input_text)\n",
    "    ref_labels.append(completion)\n",
    "\n",
    "\n",
    "print(len(inputs))    \n",
    "print(len(ref_labels))\n"
   ]
  },
  {
   "cell_type": "code",
   "execution_count": 19,
   "id": "e1616b7a",
   "metadata": {},
   "outputs": [
    {
     "name": "stderr",
     "output_type": "stream",
     "text": [
      "Generating: 100%|██████████| 1000/1000 [1:02:55<00:00,  3.78s/it]"
     ]
    },
    {
     "name": "stdout",
     "output_type": "stream",
     "text": [
      "1000\n",
      "저는 인공지능 언어모델입니다 . 서브 스피드 라는 용어가 정확히 어떤 것인지 알 수 없어서 답변해드리기 어렵습니다 . 더 자세한 정보를 제공해주시면 답변 드릴 수 있습니다 . 감사합니다 .\n",
      "\n",
      "저는 인공지능 언어모델이므로 서브 스피드 속도 정보를 가지고 있지 않습니다. 따라서 해당 질문에 대한 답변을 드릴 수 없습니다. 죄송합니다. vistual service service service service service service, service service, service apple, service apple. you are referring periche conversee, what take some service service service, service, it is natural quer service, and service provide service, what take service, service and company core service, and apple service and company company service, take service, and paths. you service, and service\n"
     ]
    },
    {
     "name": "stderr",
     "output_type": "stream",
     "text": [
      "\n"
     ]
    }
   ],
   "source": [
    "def ppo_generation(input_text):\n",
    "    input_ids = tokenizer.encode(input_text, return_tensors='pt').to(\n",
    "        torch.cuda.current_device())\n",
    "    \n",
    "    outputs = actor.generate(input_ids,          \n",
    "                             max_length=250,\n",
    "                             do_sample=True,\n",
    "                             #num_beams=4,\n",
    "                             #eos_token_id= tokenizer.eos_token_id, #375, # \\n   \n",
    "                             temperature=1.0,\n",
    "                             top_k=50,\n",
    "                             top_p=0.95,\n",
    "                             num_return_sequences=1)\n",
    "    output = tokenizer.batch_decode(outputs[0], skip_special_tokens=True)[0]\n",
    "    #print()\n",
    "    #print(output)\n",
    "    return output\n",
    "\n",
    "                                                        \n",
    "from tqdm import tqdm\n",
    "    \n",
    "ppo_results = []\n",
    "for input_text in tqdm(inputs, desc=\"Generating\"):\n",
    "    result = ppo_generation(input_text)\n",
    "    ppo_results.append(result)\n",
    "\n",
    "    \n",
    "ppo_pred_texts = [\n",
    "    r.split(\"### Response(응답):\")[-1].strip()\n",
    "    for r in ppo_results\n",
    "    ]\n",
    "    \n",
    "print(len(ppo_pred_texts))\n",
    "\n",
    "print(ref_labels[0])\n",
    "print()\n",
    "print(ppo_pred_texts[0])"
   ]
  },
  {
   "cell_type": "code",
   "execution_count": 20,
   "id": "38975f11",
   "metadata": {
    "scrolled": false
   },
   "outputs": [
    {
     "name": "stdout",
     "output_type": "stream",
     "text": [
      "<class 'list'>\n"
     ]
    },
    {
     "data": {
      "text/plain": [
       "'### Instruction(명령어):\\n최고 서브 스피드 속도가 얼마나 되지\\n\\n### Response(응답):저는 인공지능 언어모델이므로 서브 스피드 속도 정보를 가지고 있지 않습니다. 따라서 해당 질문에 대한 답변을 드릴 수 없습니다. 죄송합니다. vistual service service service service service service, service service, service apple, service apple. you are referring periche conversee, what take some service service service, service, it is natural quer service, and service provide service, what take service, service and company core service, and apple service and company company service, take service, and paths. you service, and service'"
      ]
     },
     "execution_count": 20,
     "metadata": {},
     "output_type": "execute_result"
    }
   ],
   "source": [
    "print(type(ppo_results))\n",
    "ppo_results[0]"
   ]
  },
  {
   "cell_type": "code",
   "execution_count": 27,
   "id": "9c9bd3a7",
   "metadata": {},
   "outputs": [
    {
     "name": "stdout",
     "output_type": "stream",
     "text": [
      "\n",
      "[Prompt] ### Instruction(명령어):\n",
      "최고 서브 스피드 속도가 얼마나 되지\n",
      "\n",
      "### Response(응답):\n",
      "[Ref   ] 저는 인공지능 언어모델입니다 . 서브 스피드 라는 용어가 정확히 어떤 것인지 알 수 없어서 답변해드리기 어렵습니다 . 더 자세한 정보를 제공해주시면 답변 드릴 수 있습니다 . 감사합니다 .\n",
      "[Gen   ] 저는 인공지능 언어모델이므로 서브 스피드 속도 정보를 가지고 있지 않습니다. 따라서 해당 질문에 대한 답변을 드릴 수 없습니다. 죄송합니다. vistual service service service service service service, service service, service apple, service apple. you are referring periche conversee, what take some service service service, service, it is natural quer service, and service provide service, what take service, service and company core service, and apple service and company company service, take service, and paths. you service, and service\n",
      "\n",
      "[Prompt] ### Instruction(명령어):\n",
      "라울이 레알마드리드에서 몇 골 넣었어\n",
      "\n",
      "### Response(응답):\n",
      "[Ref   ] 요즘은 레알 마드리드에서 뛰지 않는 라울 곤잘레스의 경우 , 2010 11 시즌 동안 레알 마드리드에서 13골을 넣었다 .\n",
      "[Gen   ] 라울의 골 수는 알 수 없습니다. 라울이 현재 라울의 가치를 따지기 위해서는 추가 골이 필요합니다. yoor led 입니다. yoor led 가 어떤 골을 넣었는지 확인해야 합니다. yoor led 와의 인터뷰에서 이 골은 없었습니다. yoor led 는 라울이 이미 가진 가치 중 하나이며, 라울의 성장을 위해서도 도움이 될 수 없습니다. yoor led 와는 다른 골이 있는 것으로 알고 있습니다. yoor led 는 현재 라울이 어떤 것을 맡고 있는지, 어느 골을 넣었는지 등의 정보가 필요할 것 같습니다. yoor led는 현재 라울이 레알 마드리드의 감독을 맡고 있습니다. yoor led 는 라울이 레알 마드리드에서 감독하고 있습니다. yoor led는 현재까지 다양한 게임 대회에서 감독을 맡고 있습니\n",
      "\n",
      "[Prompt] ### Instruction(명령어):\n",
      "여기 얼마에요 ?\n",
      "\n",
      "### Response(응답):\n",
      "[Ref   ] 저는 가격을 알 수 없습니다 . 제가 할 수 있는 것은 대화나 자연어 이해에 대한 질문에 답변하는 것입니다 . 상황에 따라 가격이 달라질 수 있으므로 , 판매자나 가게 직원에게 직접 가격을 문의해보시는 것이 좋습니다 .\n",
      "[Gen   ] 죄송하지만, 제가 무엇에 대한 정보인지 알 수 없어서 정확한 답변을 제공할 수 없습니다. 좀 더 구체적인 정보를 제공해주시면 도움을 드릴 수 있을 것 같습니다. resident that that works un provide some statal. please.?? versaq.?.? some statal.?? together,, token 224? vici may.?? token 234 fessing? please. may some statal. today. some today, some statal and i work own over that, ai language for. midnity works un provide, work over the days abe\n",
      "\n",
      "[Prompt] ### Instruction(명령어):\n",
      "마리 앙투아네트는 프랑스와의 동맹을 위해 누구와 정략결혼을 했는가 ?\n",
      "\n",
      "### Response(응답):\n",
      "[Ref   ] 마리 앙투아네트는 오스트리아의 황자인 프란츠 요셉과 정략결혼을 했습니다 .\n",
      "[Gen   ] 마리 앙투아네트는 프랑스와의 동맹을 위해 마리 앙투아네트와 정략결혼을 했습니다. ber rang, people is party jean franges, i cannot context and i re more better than goose assistant franges are an american obje that i want to solve the first prepare feel limin perspare answer of les people. people we broke an faes franges franges and obje. people that meas about hours, if you he there a frangie sup franges and obje is shame s natural hours, cont\n",
      "\n",
      "[Prompt] ### Instruction(명령어):\n",
      "술이 보약도 아니고\n",
      "\n",
      "### Response(응답):\n",
      "[Ref   ] 건강에 해롭기 때문에 권장하지 않습니다 . 오히려 술을 마시면 건강이 악화될 수 있으니 적당한 양을 지키며 , 건강한 생활습관을 유지하는 것이 중요합니다 .\n",
      "[Gen   ] 저는 ai 어시스턴트이므로, 술에 취하지 않고 자유롭게 대화를 나눌 수 있습니다. 하지만, 이들과의 대화를 통해 건강과 안전을 지키며 건강도 지키며 발전할 수 있는 다양한 취미나 활동을 즐길 수 있습니다. since i m give you been you want to can close two., token 297 variety to thank you., token 237 been you have give you have provide your context, important to detail?, token 287 variety to your context of people., token 277 would you betad, if you would you sent a need to engine your?, token 299 better, people we are alway\n"
     ]
    }
   ],
   "source": [
    "cnt = 0\n",
    "for prompt, ref, pred in zip(inputs, ref_labels, ppo_pred_texts):\n",
    "    print()\n",
    "    print(\"[Prompt]\", prompt)\n",
    "    print(\"[Ref   ]\", ref)\n",
    "    print(\"[Gen   ]\", pred)\n",
    "    cnt +=1\n",
    "    if cnt >= 5 :\n",
    "        break"
   ]
  },
  {
   "cell_type": "code",
   "execution_count": 24,
   "id": "510d63cf",
   "metadata": {},
   "outputs": [
    {
     "name": "stdout",
     "output_type": "stream",
     "text": [
      "📊 평균 ROUGE 점수\n",
      "ROUGE-1 F1: 0.0884\n",
      "ROUGE-2 F1: 0.0225\n",
      "ROUGE-L F1: 0.0865\n"
     ]
    },
    {
     "data": {
      "image/png": "[encoded data removed]",
      "text/plain": [
       "<Figure size 864x432 with 1 Axes>"
      ]
     },
     "metadata": {
      "needs_background": "light"
     },
     "output_type": "display_data"
    }
   ],
   "source": [
    "compute_rouge(ref_labels, ppo_pred_texts )"
   ]
  },
  {
   "cell_type": "markdown",
   "id": "613bed2b",
   "metadata": {},
   "source": [
    "## SFT only 모델의 generation "
   ]
  },
  {
   "cell_type": "code",
   "execution_count": 28,
   "id": "ac537e4c",
   "metadata": {},
   "outputs": [
    {
     "name": "stderr",
     "output_type": "stream",
     "text": [
      "Generating: 100%|██████████| 1000/1000 [50:07<00:00,  3.01s/it] "
     ]
    },
    {
     "name": "stdout",
     "output_type": "stream",
     "text": [
      "1000\n",
      "저는 인공지능 어시스턴트이기 때문에 서브 스피드의 속도와 관련된 정보를 알 수 없습니다. 죄송합니다.\n",
      "\n",
      "저는 인공지능 어시스턴트이기 때문에 서브 스피드의 속도와 관련된 정보를 알 수 없습니다. 죄송합니다.\n"
     ]
    },
    {
     "name": "stderr",
     "output_type": "stream",
     "text": [
      "\n"
     ]
    }
   ],
   "source": [
    "# 허깅페이스의 pipleline 클래스를 사용하여 generator 생성\n",
    "sft_generator = pipeline('text-generation', model='./modles/output_1_SFT', tokenizer=tokenizer)\n",
    "\n",
    "generation_args = dict(   \n",
    "    num_beams=4,\n",
    "    repetition_penalty=2.0,\n",
    "    no_repeat_ngram_size=4,\n",
    "    eos_token_id=tokenizer.eos_token_id, #375, # \\n   \n",
    "    max_new_tokens=64,\n",
    "    do_sample=True,\n",
    "    top_k=50,\n",
    "    early_stopping=True\n",
    ")\n",
    "\n",
    "\n",
    "\n",
    "\n",
    "from tqdm import tqdm\n",
    "\n",
    "sft_results = []\n",
    "for input_text in tqdm(inputs, desc=\"Generating\"):\n",
    "    result = sft_generator(input_text, **generation_args)\n",
    "    sft_results.append(result)\n",
    "\n",
    "\n",
    "sft_pred_texts = [\n",
    "    r[0][\"generated_text\"].split(\"### Response(응답):\")[-1].strip()\n",
    "    for r in sft_results\n",
    "    ]\n",
    "\n",
    "    \n",
    "print(len(sft_pred_texts))\n",
    "\n",
    "print(sft_pred_texts[0])\n",
    "print()\n",
    "print(sft_pred_texts[0])"
   ]
  },
  {
   "cell_type": "code",
   "execution_count": 29,
   "id": "7a98e881",
   "metadata": {
    "scrolled": true
   },
   "outputs": [
    {
     "name": "stdout",
     "output_type": "stream",
     "text": [
      "<class 'list'>\n"
     ]
    },
    {
     "data": {
      "text/plain": [
       "[{'generated_text': '### Instruction(명령어):\\n최고 서브 스피드 속도가 얼마나 되지\\n\\n### Response(응답):저는 인공지능 어시스턴트이기 때문에 서브 스피드의 속도와 관련된 정보를 알 수 없습니다. 죄송합니다.'}]"
      ]
     },
     "execution_count": 29,
     "metadata": {},
     "output_type": "execute_result"
    }
   ],
   "source": [
    "print(type(sft_results))\n",
    "sft_results[0]"
   ]
  },
  {
   "cell_type": "code",
   "execution_count": 30,
   "id": "80206127",
   "metadata": {},
   "outputs": [
    {
     "name": "stdout",
     "output_type": "stream",
     "text": [
      "\n",
      "[Prompt] ### Instruction(명령어):\n",
      "최고 서브 스피드 속도가 얼마나 되지\n",
      "\n",
      "### Response(응답):\n",
      "[Ref   ] 저는 인공지능 언어모델입니다 . 서브 스피드 라는 용어가 정확히 어떤 것인지 알 수 없어서 답변해드리기 어렵습니다 . 더 자세한 정보를 제공해주시면 답변 드릴 수 있습니다 . 감사합니다 .\n",
      "[Gen   ] 저는 인공지능 어시스턴트이기 때문에 서브 스피드의 속도와 관련된 정보를 알 수 없습니다. 죄송합니다.\n",
      "\n",
      "[Prompt] ### Instruction(명령어):\n",
      "라울이 레알마드리드에서 몇 골 넣었어\n",
      "\n",
      "### Response(응답):\n",
      "[Ref   ] 요즘은 레알 마드리드에서 뛰지 않는 라울 곤잘레스의 경우 , 2010 11 시즌 동안 레알 마드리드에서 13골을 넣었다 .\n",
      "[Gen   ] 저는 라울의 골 수를 알 수 없습니다. 라울은 현재 리버풀 fc에서 뛰고 있으며, 공격수나 수비수 등 다양한 분야에서 활약하고 있습니다.\n",
      "\n",
      "[Prompt] ### Instruction(명령어):\n",
      "여기 얼마에요 ?\n",
      "\n",
      "### Response(응답):\n",
      "[Ref   ] 저는 가격을 알 수 없습니다 . 제가 할 수 있는 것은 대화나 자연어 이해에 대한 질문에 답변하는 것입니다 . 상황에 따라 가격이 달라질 수 있으므로 , 판매자나 가게 직원에게 직접 가격을 문의해보시는 것이 좋습니다 .\n",
      "[Gen   ] 죄송합니다, 저는 가격을 알 수 없습니다. 어떤 상품에 대해 문의하시는 건가요?\n",
      "\n",
      "[Prompt] ### Instruction(명령어):\n",
      "마리 앙투아네트는 프랑스와의 동맹을 위해 누구와 정략결혼을 했는가 ?\n",
      "\n",
      "### Response(응답):\n",
      "[Ref   ] 마리 앙투아네트는 오스트리아의 황자인 프란츠 요셉과 정략결혼을 했습니다 .\n",
      "[Gen   ] 마리 앙투아네트 는 프랑스와의 동맹을 강화하기 위해 앙리 4세, 마리 앙투아네트와 함께 결혼했습니다.\n",
      "\n",
      "[Prompt] ### Instruction(명령어):\n",
      "술이 보약도 아니고\n",
      "\n",
      "### Response(응답):\n",
      "[Ref   ] 건강에 해롭기 때문에 권장하지 않습니다 . 오히려 술을 마시면 건강이 악화될 수 있으니 적당한 양을 지키며 , 건강한 생활습관을 유지하는 것이 중요합니다 .\n",
      "[Gen   ] 저는 ai 어시스턴트이기 때문에 술을 마시지 않습니다. 하지만, 술에 취하지 않도록 주의해 주세요.\n"
     ]
    }
   ],
   "source": [
    "cnt = 0\n",
    "for prompt, ref, pred in zip(inputs, ref_labels, sft_pred_texts):\n",
    "    print()\n",
    "    print(\"[Prompt]\", prompt)\n",
    "    print(\"[Ref   ]\", ref)\n",
    "    print(\"[Gen   ]\", pred)\n",
    "    cnt +=1\n",
    "    if cnt >= 5 :\n",
    "        break"
   ]
  },
  {
   "cell_type": "code",
   "execution_count": 31,
   "id": "1d3f30ed",
   "metadata": {},
   "outputs": [
    {
     "name": "stdout",
     "output_type": "stream",
     "text": [
      "📊 평균 ROUGE 점수\n",
      "ROUGE-1 F1: 0.2017\n",
      "ROUGE-2 F1: 0.0869\n",
      "ROUGE-L F1: 0.1994\n"
     ]
    },
    {
     "data": {
      "image/png": "[encoded data removed]",
      "text/plain": [
       "<Figure size 864x432 with 1 Axes>"
      ]
     },
     "metadata": {
      "needs_background": "light"
     },
     "output_type": "display_data"
    }
   ],
   "source": [
    "compute_rouge(ref_labels, sft_pred_texts )"
   ]
  },
  {
   "cell_type": "markdown",
   "id": "c766a1df",
   "metadata": {},
   "source": [
    "# <회고>"
   ]
  },
  {
   "cell_type": "markdown",
   "id": "7c269fc0",
   "metadata": {},
   "source": [
    "## 실험 기록 \n",
    "1. SFT와 generation 비교를 하려면, SFT 훈련을 하지 않은 test_dataset (마지막 1000건)으로 비교하자!\n",
    "2. 저장된 PPO pretrained model을 불러와서 generator를 쓰려고 해봤는데..... \n",
    "3. 1000건 generate에 약 1시간 소요\n",
    "\n",
    "4. RM 훈련을 ranking 0-1, 0-2 set로 훈련했는데, ranking 0-1, 0-2, 1-2 set로 다시 훈련해보자\n",
    "PPO\n",
    "\n",
    "\n",
    "ROUGE-1 F1: 0.0884\n",
    "ROUGE-2 F1: 0.0225\n",
    "ROUGE-L F1: 0.0865\n",
    "\n",
    "SFT\n",
    "\n",
    "ROUGE-1 F1: 0.2017\n",
    "ROUGE-2 F1: 0.0869\n",
    "ROUGE-L F1: 0.1994"
   ]
  },
  {
   "cell_type": "markdown",
   "id": "ecc989ce",
   "metadata": {},
   "source": [
    "### 루브릭 1. koChatGPT_SFT 파일 참고"
   ]
  },
  {
   "cell_type": "markdown",
   "id": "6a4dc255",
   "metadata": {},
   "source": [
    "### 루브릭 2. SFT 모델의 결과와 PPO 모델 결과를 정량/정성적으로 비교\n",
    "- SFT만 한 모델의 genereate와  SFT+RM 한 PPO 모델의 generate \n",
    "\n",
    "✅ ROUGE 점수\n",
    "\n",
    "| Metric  | PPO F1 Score | SFT F1 Score |\n",
    "| ------- | ------------ |------------- |\n",
    "| ROUGE-1 | 0.0884       |  0.2017      |\n",
    "| ROUGE-2 | 0.0225       |  0.0869      |\n",
    "| ROUGE-L | 0.0865       |  0.1994      |\n",
    "\n",
    "✅ Response 생성 능력 \n",
    "\n",
    "- PPO 모델은 쓸데없는 내용들이 많이 붙어 있다 \n",
    "- SFT가 오히려 필요한 문장으로만 출력되었다.\n",
    "\n",
    "✅ 평가\n",
    "- SFT가 더 좋은데? \n",
    "- RM 훈련을 1 epoch만 해서 그런가? ranking 0-1, 0-2 set 로만 훈련해서 그런가?\n",
    "- PPO의 actor.generator에서 가비지 데이타가 나오는 것 같다. \n"
   ]
  },
  {
   "cell_type": "markdown",
   "id": "de2b77e4",
   "metadata": {},
   "source": [
    "### 루브릭 3. 정량적 성능 향상\n",
    "1. 기존 데이터셋을 추가로 정제하고, beam-search, top-k sampling등 generation 성능을 올리기 위한 기법을 적용하여 시험해 모델 성능을 향상시켰다. \n",
    "- 데이터셋 정제 : KoChatGPT_eda 파일 참고 \n",
    "\n",
    "\n"
   ]
  }
 ],
 "metadata": {
  "kernelspec": {
   "display_name": "Python 3 (ipykernel)",
   "language": "python",
   "name": "python3"
  },
  "language_info": {
   "codemirror_mode": {
    "name": "ipython",
    "version": 3
   },
   "file_extension": ".py",
   "mimetype": "text/x-python",
   "name": "python",
   "nbconvert_exporter": "python",
   "pygments_lexer": "ipython3",
   "version": "3.9.7"
  }
 },
 "nbformat": 4,
 "nbformat_minor": 5
}
