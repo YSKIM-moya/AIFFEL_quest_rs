{
 "cells": [
  {
   "cell_type": "code",
   "execution_count": 3,
   "id": "990bb7b6",
   "metadata": {},
   "outputs": [
    {
     "name": "stdout",
     "output_type": "stream",
     "text": [
      "2.6.0\n",
      "1.21.4\n",
      "0.5.2\n"
     ]
    }
   ],
   "source": [
    "import tensorflow as tf\n",
    "import numpy as np\n",
    "import matplotlib.pyplot as plt\n",
    "import konlpy\n",
    "import sentencepiece as spm\n",
    "import os\n",
    "import pandas as pd\n",
    "\n",
    "%matplotlib inline\n",
    "\n",
    "print(tf.__version__)\n",
    "print(np.__version__)\n",
    "print(konlpy.__version__)"
   ]
  },
  {
   "cell_type": "markdown",
   "id": "2f575796",
   "metadata": {},
   "source": [
    "## 전처리된 데이터 로딩"
   ]
  },
  {
   "cell_type": "code",
   "execution_count": 4,
   "id": "354f87a4",
   "metadata": {
    "scrolled": true
   },
   "outputs": [
    {
     "data": {
      "text/html": [
       "<div>\n",
       "<style scoped>\n",
       "    .dataframe tbody tr th:only-of-type {\n",
       "        vertical-align: middle;\n",
       "    }\n",
       "\n",
       "    .dataframe tbody tr th {\n",
       "        vertical-align: top;\n",
       "    }\n",
       "\n",
       "    .dataframe thead th {\n",
       "        text-align: right;\n",
       "    }\n",
       "</style>\n",
       "<table border=\"1\" class=\"dataframe\">\n",
       "  <thead>\n",
       "    <tr style=\"text-align: right;\">\n",
       "      <th></th>\n",
       "      <th>id</th>\n",
       "      <th>document</th>\n",
       "      <th>label</th>\n",
       "    </tr>\n",
       "  </thead>\n",
       "  <tbody>\n",
       "    <tr>\n",
       "      <th>0</th>\n",
       "      <td>9976970</td>\n",
       "      <td>아 더빙 진짜 짜증나네요 목소리</td>\n",
       "      <td>0</td>\n",
       "    </tr>\n",
       "    <tr>\n",
       "      <th>1</th>\n",
       "      <td>3819312</td>\n",
       "      <td>흠 포스터보고 초딩영화줄 오버연기조차 가볍지 않구나</td>\n",
       "      <td>1</td>\n",
       "    </tr>\n",
       "    <tr>\n",
       "      <th>2</th>\n",
       "      <td>10265843</td>\n",
       "      <td>너무재밓었다그래서보는것을추천한다</td>\n",
       "      <td>0</td>\n",
       "    </tr>\n",
       "    <tr>\n",
       "      <th>3</th>\n",
       "      <td>9045019</td>\n",
       "      <td>교도소 이야기구먼 솔직히 재미는 없다 평점 조정</td>\n",
       "      <td>0</td>\n",
       "    </tr>\n",
       "    <tr>\n",
       "      <th>4</th>\n",
       "      <td>6483659</td>\n",
       "      <td>사이몬페그의 익살스런 연기가 돋보였던 영화 스파이더맨에서 늙어보이기만 했던 커스틴 ...</td>\n",
       "      <td>1</td>\n",
       "    </tr>\n",
       "  </tbody>\n",
       "</table>\n",
       "</div>"
      ],
      "text/plain": [
       "         id                                           document  label\n",
       "0   9976970                                  아 더빙 진짜 짜증나네요 목소리      0\n",
       "1   3819312                       흠 포스터보고 초딩영화줄 오버연기조차 가볍지 않구나      1\n",
       "2  10265843                                  너무재밓었다그래서보는것을추천한다      0\n",
       "3   9045019                         교도소 이야기구먼 솔직히 재미는 없다 평점 조정      0\n",
       "4   6483659  사이몬페그의 익살스런 연기가 돋보였던 영화 스파이더맨에서 늙어보이기만 했던 커스틴 ...      1"
      ]
     },
     "execution_count": 4,
     "metadata": {},
     "output_type": "execute_result"
    }
   ],
   "source": [
    "# file open\n",
    "train_data = pd.read_csv('ratings_train_clean.txt')\n",
    "test_data = pd.read_csv('ratings_test_clean.txt')\n",
    "\n",
    "train_data.head()\n"
   ]
  },
  {
   "cell_type": "code",
   "execution_count": 5,
   "id": "6ee7941c",
   "metadata": {
    "scrolled": true
   },
   "outputs": [
    {
     "data": {
      "text/html": [
       "<div>\n",
       "<style scoped>\n",
       "    .dataframe tbody tr th:only-of-type {\n",
       "        vertical-align: middle;\n",
       "    }\n",
       "\n",
       "    .dataframe tbody tr th {\n",
       "        vertical-align: top;\n",
       "    }\n",
       "\n",
       "    .dataframe thead th {\n",
       "        text-align: right;\n",
       "    }\n",
       "</style>\n",
       "<table border=\"1\" class=\"dataframe\">\n",
       "  <thead>\n",
       "    <tr style=\"text-align: right;\">\n",
       "      <th></th>\n",
       "      <th>id</th>\n",
       "      <th>document</th>\n",
       "      <th>label</th>\n",
       "    </tr>\n",
       "  </thead>\n",
       "  <tbody>\n",
       "    <tr>\n",
       "      <th>0</th>\n",
       "      <td>6270596</td>\n",
       "      <td>굳</td>\n",
       "      <td>1</td>\n",
       "    </tr>\n",
       "    <tr>\n",
       "      <th>1</th>\n",
       "      <td>9274899</td>\n",
       "      <td>gdntopclassintheclub</td>\n",
       "      <td>0</td>\n",
       "    </tr>\n",
       "    <tr>\n",
       "      <th>2</th>\n",
       "      <td>8544678</td>\n",
       "      <td>뭐야 이 평점들은 나쁘진 않지만 점 짜리는 더더욱 아니잖아</td>\n",
       "      <td>0</td>\n",
       "    </tr>\n",
       "    <tr>\n",
       "      <th>3</th>\n",
       "      <td>6825595</td>\n",
       "      <td>지루하지는 않은데 완전 막장임 돈주고 보기에는</td>\n",
       "      <td>0</td>\n",
       "    </tr>\n",
       "    <tr>\n",
       "      <th>4</th>\n",
       "      <td>6723715</td>\n",
       "      <td>d만 아니었어도 별 다섯 개 줬을텐데 왜 d로 나와서 제 심기를 불편하게 하죠</td>\n",
       "      <td>0</td>\n",
       "    </tr>\n",
       "  </tbody>\n",
       "</table>\n",
       "</div>"
      ],
      "text/plain": [
       "        id                                     document  label\n",
       "0  6270596                                            굳      1\n",
       "1  9274899                         gdntopclassintheclub      0\n",
       "2  8544678             뭐야 이 평점들은 나쁘진 않지만 점 짜리는 더더욱 아니잖아      0\n",
       "3  6825595                    지루하지는 않은데 완전 막장임 돈주고 보기에는      0\n",
       "4  6723715  d만 아니었어도 별 다섯 개 줬을텐데 왜 d로 나와서 제 심기를 불편하게 하죠      0"
      ]
     },
     "execution_count": 5,
     "metadata": {},
     "output_type": "execute_result"
    }
   ],
   "source": [
    "test_data.head()"
   ]
  },
  {
   "cell_type": "code",
   "execution_count": 6,
   "id": "d59d8487",
   "metadata": {},
   "outputs": [
    {
     "name": "stdout",
     "output_type": "stream",
     "text": [
      "Train Data Size: (146182, 3)\n",
      "Test Data Size: (49157, 3)\n"
     ]
    }
   ],
   "source": [
    "print(\"Train Data Size:\", train_data.shape)\n",
    "print(\"Test Data Size:\", test_data.shape)"
   ]
  },
  {
   "cell_type": "code",
   "execution_count": 20,
   "id": "81e2af8e",
   "metadata": {},
   "outputs": [
    {
     "data": {
      "text/plain": [
       "0                                    아 더빙 진짜 짜증나네요 목소리\n",
       "1                         흠 포스터보고 초딩영화줄 오버연기조차 가볍지 않구나\n",
       "2                                    너무재밓었다그래서보는것을추천한다\n",
       "3                           교도소 이야기구먼 솔직히 재미는 없다 평점 조정\n",
       "4    사이몬페그의 익살스런 연기가 돋보였던 영화 스파이더맨에서 늙어보이기만 했던 커스틴 ...\n",
       "Name: document, dtype: object"
      ]
     },
     "execution_count": 20,
     "metadata": {},
     "output_type": "execute_result"
    }
   ],
   "source": [
    "all_texts = pd.concat([train_data['document'], test_data['document']], ignore_index=True)\n",
    "len(all_texts)\n",
    "all_texts.head()"
   ]
  },
  {
   "cell_type": "markdown",
   "id": "6a71919f",
   "metadata": {},
   "source": [
    "## 토큰화"
   ]
  },
  {
   "cell_type": "markdown",
   "id": "821b9226",
   "metadata": {},
   "source": [
    "**Vocab Size**\n",
    "1. 말뭉치 크기\n",
    "- 작은 말뭉치 (~수십만 문장) : 어휘 크기를 너무 크게 하면 과적합(overfitting)되기 쉽고, 희소한 토큰이 많아지므로, 2.000 ~ 8,000 권장 \n",
    "- 중간규모 말뭉치 (수백만 문장 ) : 16,000 ~ 32,000\n",
    "- 대규모 말뭉치 (수천만~수억)  : 32,000 ~ 64,000+\n",
    "\n",
    "2. 한국어 \n",
    "- 큰 어휘 집합이 더 효율적 \n",
    "\n",
    "3. 텍스트 분류/감성 분석: 표현력보다는 특징의 일관성이 중요하므로 어휘 크기 작아도 무방"
   ]
  },
  {
   "cell_type": "code",
   "execution_count": 6,
   "id": "8d1195eb",
   "metadata": {
    "scrolled": true
   },
   "outputs": [
    {
     "name": "stderr",
     "output_type": "stream",
     "text": [
      "sentencepiece_trainer.cc(77) LOG(INFO) Starts training with : \n",
      "trainer_spec {\n",
      "  input: ratings_clean.txt\n",
      "  input_format: \n",
      "  model_prefix: nsmc_spm_8000\n",
      "  model_type: BPE\n",
      "  vocab_size: 10000\n",
      "  self_test_sample_size: 0\n",
      "  character_coverage: 1\n",
      "  input_sentence_size: 0\n",
      "  shuffle_input_sentence: 1\n",
      "  seed_sentencepiece_size: 1000000\n",
      "  shrinking_factor: 0.75\n",
      "  max_sentence_length: 4192\n",
      "  num_threads: 16\n",
      "  num_sub_iterations: 2\n",
      "  max_sentencepiece_length: 16\n",
      "  split_by_unicode_script: 1\n",
      "  split_by_number: 1\n",
      "  split_by_whitespace: 1\n",
      "  split_digits: 0\n",
      "  treat_whitespace_as_suffix: 0\n",
      "  allow_whitespace_only_pieces: 0\n",
      "  required_chars: \n",
      "  byte_fallback: 0\n",
      "  vocabulary_output_piece_score: 1\n",
      "  train_extremely_large_corpus: 0\n",
      "  hard_vocab_limit: 1\n",
      "  use_all_vocab: 0\n",
      "  unk_id: 1\n",
      "  bos_id: 2\n",
      "  eos_id: 3\n",
      "  pad_id: 0\n",
      "  unk_piece: <unk>\n",
      "  bos_piece: <s>\n",
      "  eos_piece: </s>\n",
      "  pad_piece: <pad>\n",
      "  unk_surface:  ⁇ \n",
      "}\n",
      "normalizer_spec {\n",
      "  name: nmt_nfkc\n",
      "  add_dummy_prefix: 1\n",
      "  remove_extra_whitespaces: 1\n",
      "  escape_whitespaces: 1\n",
      "  normalization_rule_tsv: \n",
      "}\n",
      "denormalizer_spec {}\n",
      "trainer_interface.cc(329) LOG(INFO) SentenceIterator is not specified. Using MultiFileSentenceIterator.\n",
      "trainer_interface.cc(178) LOG(INFO) Loading corpus: ratings_clean.txt\n",
      "trainer_interface.cc(385) LOG(INFO) Loaded all 195340 sentences\n",
      "trainer_interface.cc(400) LOG(INFO) Adding meta_piece: <pad>\n",
      "trainer_interface.cc(400) LOG(INFO) Adding meta_piece: <unk>\n",
      "trainer_interface.cc(400) LOG(INFO) Adding meta_piece: <s>\n",
      "trainer_interface.cc(400) LOG(INFO) Adding meta_piece: </s>\n",
      "trainer_interface.cc(405) LOG(INFO) Normalizing sentences...\n",
      "trainer_interface.cc(466) LOG(INFO) all chars count=6622855\n",
      "trainer_interface.cc(487) LOG(INFO) Alphabet size=2679\n",
      "trainer_interface.cc(488) LOG(INFO) Final character coverage=1\n",
      "trainer_interface.cc(520) LOG(INFO) Done! preprocessed 195340 sentences.\n",
      "trainer_interface.cc(526) LOG(INFO) Tokenizing input sentences with whitespace: 195340\n",
      "trainer_interface.cc(537) LOG(INFO) Done! 351178\n",
      "bpe_model_trainer.cc(167) LOG(INFO) Updating active symbols. max_freq=78927 min_freq=98\n",
      "bpe_model_trainer.cc(258) LOG(INFO) Added: freq=14993 size=20 all=121935 active=11409 piece=▁내\n",
      "bpe_model_trainer.cc(258) LOG(INFO) Added: freq=10994 size=40 all=127163 active=16637 piece=▁대\n",
      "bpe_model_trainer.cc(258) LOG(INFO) Added: freq=7919 size=60 all=131571 active=21045 piece=▁더\n",
      "bpe_model_trainer.cc(258) LOG(INFO) Added: freq=6418 size=80 all=136039 active=25513 piece=▁같\n",
      "bpe_model_trainer.cc(258) LOG(INFO) Added: freq=5443 size=100 all=140000 active=29474 piece=▁것\n",
      "bpe_model_trainer.cc(167) LOG(INFO) Updating active symbols. max_freq=5340 min_freq=82\n",
      "bpe_model_trainer.cc(258) LOG(INFO) Added: freq=4817 size=120 all=143125 active=10084 piece=▁감독\n",
      "bpe_model_trainer.cc(258) LOG(INFO) Added: freq=4174 size=140 all=146395 active=13354 piece=▁해\n",
      "bpe_model_trainer.cc(258) LOG(INFO) Added: freq=3738 size=160 all=148590 active=15549 piece=▁눈\n",
      "bpe_model_trainer.cc(258) LOG(INFO) Added: freq=3450 size=180 all=151796 active=18755 piece=▁영화가\n",
      "bpe_model_trainer.cc(258) LOG(INFO) Added: freq=3168 size=200 all=154757 active=21716 piece=▁좋았\n",
      "bpe_model_trainer.cc(167) LOG(INFO) Updating active symbols. max_freq=3136 min_freq=73\n",
      "bpe_model_trainer.cc(258) LOG(INFO) Added: freq=2863 size=220 all=156895 active=9835 piece=없는\n",
      "bpe_model_trainer.cc(258) LOG(INFO) Added: freq=2692 size=240 all=160148 active=13088 piece=▁허\n",
      "bpe_model_trainer.cc(258) LOG(INFO) Added: freq=2532 size=260 all=162892 active=15832 piece=▁그리고\n",
      "bpe_model_trainer.cc(258) LOG(INFO) Added: freq=2373 size=280 all=165562 active=18502 piece=▁기억\n",
      "bpe_model_trainer.cc(258) LOG(INFO) Added: freq=2180 size=300 all=167953 active=20893 piece=▁특\n",
      "bpe_model_trainer.cc(167) LOG(INFO) Updating active symbols. max_freq=2179 min_freq=65\n",
      "bpe_model_trainer.cc(258) LOG(INFO) Added: freq=1986 size=320 all=169975 active=10390 piece=▁아닌\n",
      "bpe_model_trainer.cc(258) LOG(INFO) Added: freq=1871 size=340 all=171880 active=12295 piece=배우\n",
      "bpe_model_trainer.cc(258) LOG(INFO) Added: freq=1795 size=360 all=174323 active=14738 piece=▁흥\n",
      "bpe_model_trainer.cc(258) LOG(INFO) Added: freq=1715 size=380 all=176610 active=17025 piece=▁매력\n",
      "bpe_model_trainer.cc(258) LOG(INFO) Added: freq=1641 size=400 all=178363 active=18778 piece=▁충\n",
      "bpe_model_trainer.cc(167) LOG(INFO) Updating active symbols. max_freq=1629 min_freq=61\n",
      "bpe_model_trainer.cc(258) LOG(INFO) Added: freq=1547 size=420 all=180557 active=11086 piece=▁만들어\n",
      "bpe_model_trainer.cc(258) LOG(INFO) Added: freq=1487 size=440 all=182765 active=13294 piece=▁c\n",
      "bpe_model_trainer.cc(258) LOG(INFO) Added: freq=1429 size=460 all=184943 active=15472 piece=▁프\n",
      "bpe_model_trainer.cc(258) LOG(INFO) Added: freq=1352 size=480 all=186865 active=17394 piece=▁행\n",
      "bpe_model_trainer.cc(258) LOG(INFO) Added: freq=1302 size=500 all=188756 active=19285 piece=▁아주\n",
      "bpe_model_trainer.cc(167) LOG(INFO) Updating active symbols. max_freq=1299 min_freq=56\n",
      "bpe_model_trainer.cc(258) LOG(INFO) Added: freq=1241 size=520 all=190478 active=11104 piece=했던\n",
      "bpe_model_trainer.cc(258) LOG(INFO) Added: freq=1201 size=540 all=192573 active=13199 piece=▁놀\n",
      "bpe_model_trainer.cc(258) LOG(INFO) Added: freq=1166 size=560 all=195147 active=15773 piece=스트\n",
      "bpe_model_trainer.cc(258) LOG(INFO) Added: freq=1133 size=580 all=196687 active=17313 piece=만들\n",
      "bpe_model_trainer.cc(258) LOG(INFO) Added: freq=1082 size=600 all=198981 active=19607 piece=이라는\n",
      "bpe_model_trainer.cc(167) LOG(INFO) Updating active symbols. max_freq=1081 min_freq=52\n",
      "bpe_model_trainer.cc(258) LOG(INFO) Added: freq=1053 size=620 all=201051 active=11661 piece=라리\n",
      "bpe_model_trainer.cc(258) LOG(INFO) Added: freq=1029 size=640 all=202873 active=13483 piece=한테\n",
      "bpe_model_trainer.cc(258) LOG(INFO) Added: freq=996 size=660 all=204736 active=15346 piece=▁감독이\n",
      "bpe_model_trainer.cc(258) LOG(INFO) Added: freq=969 size=680 all=206890 active=17500 piece=oo\n",
      "bpe_model_trainer.cc(258) LOG(INFO) Added: freq=939 size=700 all=208890 active=19500 piece=이란\n",
      "bpe_model_trainer.cc(167) LOG(INFO) Updating active symbols. max_freq=937 min_freq=48\n",
      "bpe_model_trainer.cc(258) LOG(INFO) Added: freq=914 size=720 all=210833 active=12067 piece=▁보고싶\n",
      "bpe_model_trainer.cc(258) LOG(INFO) Added: freq=893 size=740 all=212164 active=13398 piece=▁의미\n",
      "bpe_model_trainer.cc(258) LOG(INFO) Added: freq=873 size=760 all=213724 active=14958 piece=나고\n",
      "bpe_model_trainer.cc(258) LOG(INFO) Added: freq=852 size=780 all=215647 active=16881 piece=▁니\n",
      "bpe_model_trainer.cc(258) LOG(INFO) Added: freq=827 size=800 all=217064 active=18298 piece=▁얼마\n",
      "bpe_model_trainer.cc(167) LOG(INFO) Updating active symbols. max_freq=827 min_freq=46\n",
      "bpe_model_trainer.cc(258) LOG(INFO) Added: freq=814 size=820 all=218456 active=12216 piece=▁갑\n",
      "bpe_model_trainer.cc(258) LOG(INFO) Added: freq=791 size=840 all=219802 active=13562 piece=▁확\n",
      "bpe_model_trainer.cc(258) LO"
     ]
    }
   ],
   "source": [
    "# SentencePiece 학습\n",
    "input_file = 'ratings_clean.txt'\n",
    "VOCAB_SIZE = 10000\n",
    "seq_max_len =  60\n",
    "\n",
    "# 모델 이름 prefix\n",
    "model_prefix = 'nsmc_spm'\n",
    "model_type = 'bpe'\n",
    "# --model_type = unigram이 디폴트, bpe 옵션  (일반적을 bep가 감성 분석에 잘 맞음)\n",
    "\n",
    "# 어휘 수, 문자 커버리지, 토크나이저 타입 등 설정\n",
    "spm.SentencePieceTrainer.train(\n",
    "    input=input_file,\n",
    "    model_prefix=model_prefix,\n",
    "    vocab_size=VOCAB_SIZE,\n",
    "    model_type=model_type,             # bpe, unigram, char, word 중 선택 가능\n",
    "    character_coverage=1.0,            # 한글: 1.0, 일본어: 0.9995, 영어: 1.0\n",
    "    pad_id=0,                          # [PAD]\n",
    "    unk_id=1,                          # [UNK]\n",
    "    bos_id=2,                          # [BOS]\n",
    "    eos_id=3,                          # [EOS]\n",
    "    user_defined_symbols=[],           # 필요한 경우 특수토큰 직접 추가\n",
    "    train_extremely_large_corpus=False  # (말뭉치가 10GB 이상일 때만 True)\n",
    ")\n"
   ]
  },
  {
   "cell_type": "code",
   "execution_count": 7,
   "id": "c8011158",
   "metadata": {},
   "outputs": [
    {
     "name": "stdout",
     "output_type": "stream",
     "text": [
      "['▁이', '▁영화', '▁진짜', '▁재미', '▁있어요', '!']\n"
     ]
    },
    {
     "name": "stderr",
     "output_type": "stream",
     "text": [
      "G(INFO) Added: freq=773 size=860 all=221150 active=14910 piece=▁추억\n",
      "bpe_model_trainer.cc(258) LOG(INFO) Added: freq=762 size=880 all=222690 active=16450 piece=▁개인적으로\n",
      "bpe_model_trainer.cc(258) LOG(INFO) Added: freq=744 size=900 all=223829 active=17589 piece=것이\n",
      "bpe_model_trainer.cc(167) LOG(INFO) Updating active symbols. max_freq=743 min_freq=44\n",
      "bpe_model_trainer.cc(258) LOG(INFO) Added: freq=726 size=920 all=225507 active=12719 piece=▁당시\n",
      "bpe_model_trainer.cc(258) LOG(INFO) Added: freq=713 size=940 all=226996 active=14208 piece=놓고\n",
      "bpe_model_trainer.cc(258) LOG(INFO) Added: freq=697 size=960 all=228316 active=15528 piece=을듯\n",
      "bpe_model_trainer.cc(258) LOG(INFO) Added: freq=680 size=980 all=229628 active=16840 piece=▁점은\n",
      "bpe_model_trainer.cc(258) LOG(INFO) Added: freq=660 size=1000 all=230808 active=18020 piece=는게\n",
      "bpe_model_trainer.cc(167) LOG(INFO) Updating active symbols. max_freq=660 min_freq=42\n",
      "bpe_model_trainer.cc(258) LOG(INFO) Added: freq=640 size=1020 all=232429 active=12992 piece=있고\n",
      "bpe_model_trainer.cc(258) LOG(INFO) Added: freq=624 size=1040 all=234011 active=14574 piece=당히\n",
      "bpe_model_trainer.cc(258) LOG(INFO) Added: freq=613 size=1060 all=235339 active=15902 piece=주의\n",
      "bpe_model_trainer.cc(258) LOG(INFO) Added: freq=595 size=1080 all=237096 active=17659 piece=정말\n",
      "bpe_model_trainer.cc(258) LOG(INFO) Added: freq=586 size=1100 all=238552 active=19115 piece=▁히\n",
      "bpe_model_trainer.cc(167) LOG(INFO) Updating active symbols. max_freq=585 min_freq=40\n",
      "bpe_model_trainer.cc(258) LOG(INFO) Added: freq=573 size=1120 all=239784 active=13106 piece=력이\n",
      "bpe_model_trainer.cc(258) LOG(INFO) Added: freq=559 size=1140 all=241160 active=14482 piece=▁가슴이\n",
      "bpe_model_trainer.cc(258) LOG(INFO) Added: freq=545 size=1160 all=242289 active=15611 piece=▁읽\n",
      "bpe_model_trainer.cc(258) LOG(INFO) Added: freq=533 size=1180 all=244000 active=17322 piece=▁초딩\n",
      "bpe_model_trainer.cc(258) LOG(INFO) Added: freq=519 size=1200 all=245648 active=18970 piece=▁기억이\n",
      "bpe_model_trainer.cc(167) LOG(INFO) Updating active symbols. max_freq=518 min_freq=38\n",
      "bpe_model_trainer.cc(258) LOG(INFO) Added: freq=509 size=1220 all=247064 active=13689 piece=▁결말이\n",
      "bpe_model_trainer.cc(258) LOG(INFO) Added: freq=498 size=1240 all=248025 active=14650 piece=▁애들\n",
      "bpe_model_trainer.cc(258) LOG(INFO) Added: freq=487 size=1260 all=249081 active=15706 piece=머니\n",
      "bpe_model_trainer.cc(258) LOG(INFO) Added: freq=478 size=1280 all=250275 active=16900 piece=▁그리\n",
      "bpe_model_trainer.cc(258) LOG(INFO) Added: freq=473 size=1300 all=251760 active=18385 piece=▁상당히\n",
      "bpe_model_trainer.cc(167) LOG(INFO) Updating active symbols. max_freq=472 min_freq=37\n",
      "bpe_model_trainer.cc(258) LOG(INFO) Added: freq=465 size=1320 all=252913 active=13734 piece=▁\"\"\n",
      "bpe_model_trainer.cc(258) LOG(INFO) Added: freq=460 size=1340 all=254544 active=15365 piece=▁실제\n",
      "bpe_model_trainer.cc(258) LOG(INFO) Added: freq=451 size=1360 all=256112 active=16933 piece=▁이번\n",
      "bpe_model_trainer.cc(258) LOG(INFO) Added: freq=442 size=1380 all=256936 active=17757 piece=▁개그\n",
      "bpe_model_trainer.cc(258) LOG(INFO) Added: freq=434 size=1400 all=258212 active=19033 piece=▁에로\n",
      "bpe_model_trainer.cc(167) LOG(INFO) Updating active symbols. max_freq=434 min_freq=35\n",
      "bpe_model_trainer.cc(258) LOG(INFO) Added: freq=427 size=1420 all=259440 active=14089 piece=영화의\n",
      "bpe_model_trainer.cc(258) LOG(INFO) Added: freq=419 size=1440 all=261075 active=15724 piece=▁프랑\n",
      "bpe_model_trainer.cc(258) LOG(INFO) Added: freq=411 size=1460 all=262129 active=16778 piece=▁그때\n",
      "bpe_model_trainer.cc(258) LOG(INFO) Added: freq=405 size=1480 all=262968 active=17617 piece=▁멋지\n",
      "bpe_model_trainer.cc(258) LOG(INFO) Added: freq=400 size=1500 all=263888 active=18537 piece=▁빈\n",
      "bpe_model_trainer.cc(167) LOG(INFO) Updating active symbols. max_freq=400 min_freq=34\n",
      "bpe_model_trainer.cc(258) LOG(INFO) Added: freq=393 size=1520 all=264903 active=14172 piece=▁재미있어요\n",
      "bpe_model_trainer.cc(258) LOG(INFO) Added: freq=385 size=1540 all=265771 active=15040 piece=▁있었다\n",
      "bpe_model_trainer.cc(258) LOG(INFO) Added: freq=378 size=1560 all=266556 active=15825 piece=▁향\n",
      "bpe_model_trainer.cc(258) LOG(INFO) Added: freq=374 size=1580 all=267901 active=17170 piece=속에\n",
      "bpe_model_trainer.cc(258) LOG(INFO) Added: freq=370 size=1600 all=269099 active=18368 piece=▁이영화는\n",
      "bpe_model_trainer.cc(167) LOG(INFO) Updating active symbols. max_freq=369 min_freq=33\n",
      "bpe_model_trainer.cc(258) LOG(INFO) Added: freq=363 size=1620 all=270164 active=14503 piece=▁순간\n",
      "bpe_model_trainer.cc(258) LOG(INFO) Added: freq=359 size=1640 all=271030 active=15369 piece=자의\n",
      "bpe_model_trainer.cc(258) LOG(INFO) Added: freq=354 size=1660 all=272081 active=16420 piece=▁편은\n",
      "bpe_model_trainer.cc(258) LOG(INFO) Added: freq=350 size=1680 all=273188 active=17527 piece=▁더럽게\n",
      "bpe_model_trainer.cc(258) LOG(INFO) Added: freq=344 size=1700 all=274261 "
     ]
    }
   ],
   "source": [
    "sp = spm.SentencePieceProcessor()\n",
    "#sp.load(\"nsmc_spm.model\")\n",
    "sp.load(f'{model_prefix}.model') \n",
    "\n",
    "text = \"이 영화 진짜 재미 있어요!\"\n",
    "tokens = sp.encode(text, out_type=str)\n",
    "print(tokens) \n"
   ]
  },
  {
   "cell_type": "code",
   "execution_count": 8,
   "id": "82ecd548",
   "metadata": {},
   "outputs": [],
   "source": [
    "\n",
    "def sp_vocabulary(model_prefix): \n",
    "\n",
    "    with open(f'{model_prefix}.vocab', 'r') as f:  #with open(\"./nsmc_spm.vocab\", 'r') as f:\n",
    "        vocab = f.readlines()\n",
    "\n",
    "    word_index = {}\n",
    "    index_word = {}\n",
    "\n",
    "    for idx, line in enumerate(vocab):\n",
    "        word = line.split(\"\\t\")[0]\n",
    "\n",
    "        word_index.update({word:idx})\n",
    "        index_word.update({idx:word})\n",
    "        \n",
    "    return word_index, index_word"
   ]
  },
  {
   "cell_type": "code",
   "execution_count": 13,
   "id": "1999863f",
   "metadata": {},
   "outputs": [],
   "source": [
    "def sp_tokenize(s, corpus): \n",
    "\n",
    "    tensor = []\n",
    "\n",
    "    for sen in corpus:\n",
    "        try:\n",
    "            text = str(sen).strip()  # 문자열 강제 변환 및 공백 제거\n",
    "            if text:  # 빈 문자열 제외\n",
    "                tensor.append(s.EncodeAsIds(text))\n",
    "        except Exception as e:\n",
    "            print(f\"오류 문장: {sen} / {e}\")\n",
    "            continue     \n",
    "        \n",
    "    tensor = tf.keras.preprocessing.sequence.pad_sequences(tensor, maxlen=seq_max_len, padding='post')\n",
    "\n",
    "    return tensor"
   ]
  },
  {
   "cell_type": "code",
   "execution_count": 10,
   "id": "0799faaa",
   "metadata": {
    "scrolled": false
   },
   "outputs": [
    {
     "name": "stdout",
     "output_type": "stream",
     "text": [
      "Vocab Size: 10000\n",
      "x_train shape: (146182, 60)\n",
      "x_test shape: (49157, 60)\n"
     ]
    }
   ],
   "source": [
    "from tensorflow.keras.preprocessing.sequence import pad_sequences\n",
    "\n",
    "# 어휘 사전 (index <-> word)\n",
    "word_to_index, index_to_word = sp_vocabulary( model_prefix)\n",
    "\n",
    "print(\"Vocab Size:\", len(index_to_word))\n",
    "\n",
    "# 문장을 ID 리스트로 변환\n",
    "x_train = sp_tokenize( sp, train_data['document'] )\n",
    "x_test = sp_tokenize( sp, test_data['document'] )\n",
    "\n",
    "# 텐서로 변환 완료\n",
    "print(\"x_train shape:\", x_train.shape)\n",
    "print(\"x_test shape:\", x_test.shape)\n",
    "\n"
   ]
  },
  {
   "cell_type": "code",
   "execution_count": 11,
   "id": "d7d78ec7",
   "metadata": {},
   "outputs": [
    {
     "name": "stdout",
     "output_type": "stream",
     "text": [
      "X_train shape: (146182, 60)\n",
      "X_val shape: (146182,)\n",
      "y_train shape: (49157, 60)\n",
      "y_val shape: (49157,)\n"
     ]
    }
   ],
   "source": [
    "from sklearn.model_selection import train_test_split\n",
    "\n",
    "\n",
    "#x_label = train_data['label'].astype('float32').values\n",
    "#X_train, X_val, y_train, y_val = train_test_split(x_train_padded, x_label, test_size=0.2, random_state=42)\n",
    "\n",
    "X_train = x_train\n",
    "y_train = x_test\n",
    "\n",
    "X_val = train_data['label'].astype('float32').values\n",
    "y_val = test_data['label'].astype('float32').values\n",
    "\n",
    "print(\"X_train shape:\", X_train.shape)\n",
    "print(\"X_val shape:\", X_val.shape)\n",
    "\n",
    "print(\"y_train shape:\", y_train.shape)\n",
    "print(\"y_val shape:\", y_val.shape)"
   ]
  },
  {
   "cell_type": "markdown",
   "id": "a96fd71d",
   "metadata": {},
   "source": [
    "## 모델 구성 "
   ]
  },
  {
   "cell_type": "code",
   "execution_count": 12,
   "id": "f01efb6b",
   "metadata": {},
   "outputs": [
    {
     "name": "stdout",
     "output_type": "stream",
     "text": [
      "Model: \"sequential\"\n",
      "_________________________________________________________________\n",
      "Layer (type)                 Output Shape              Param #   \n",
      "=================================================================\n",
      "embedding (Embedding)        (None, 60, 128)           1280000   \n",
      "_________________________________________________________________\n",
      "bidirectional (Bidirectional (None, 256)               263168    \n",
      "_________________________________________________________________\n",
      "dense (Dense)                (None, 8)                 2056      \n",
      "_________________________________________________________________\n",
      "dense_1 (Dense)              (None, 1)                 9         \n",
      "=================================================================\n",
      "Total params: 1,545,233\n",
      "Trainable params: 1,545,233\n",
      "Non-trainable params: 0\n",
      "_________________________________________________________________\n"
     ]
    }
   ],
   "source": [
    "word_vector_dim = 128  # 워드 벡터의 차원 수 (변경 가능한 하이퍼파라미터)\n",
    "\n",
    "# model 설계 - 딥러닝 모델 코드를 직접 작성해 주세요.\n",
    "model_lstm = tf.keras.Sequential()\n",
    "model_lstm.add(tf.keras.layers.Embedding(VOCAB_SIZE, word_vector_dim, input_length=seq_max_len))\n",
    "model_lstm.add(tf.keras.layers.Bidirectional( tf.keras.layers.LSTM(word_vector_dim) ))   \n",
    "model_lstm.add(tf.keras.layers.Dense(8, activation='relu'))\n",
    "model_lstm.add(tf.keras.layers.Dense(1, activation='sigmoid'))  # 최종 출력은 긍정/부정을 나타내는 1dim 입니다.\n",
    "\n",
    "model_lstm.summary()"
   ]
  },
  {
   "cell_type": "code",
   "execution_count": 13,
   "id": "beffec1c",
   "metadata": {},
   "outputs": [
    {
     "name": "stdout",
     "output_type": "stream",
     "text": [
      "Epoch 1/20\n",
      "572/572 [==============================] - 15s 18ms/step - loss: 0.4015 - accuracy: 0.8134 - val_loss: 0.3476 - val_accuracy: 0.8456\n",
      "Epoch 2/20\n",
      "572/572 [==============================] - 10s 17ms/step - loss: 0.3118 - accuracy: 0.8643 - val_loss: 0.3334 - val_accuracy: 0.8528\n",
      "Epoch 3/20\n",
      "572/572 [==============================] - 10s 17ms/step - loss: 0.2760 - accuracy: 0.8810 - val_loss: 0.3336 - val_accuracy: 0.8524\n",
      "Epoch 4/20\n",
      "572/572 [==============================] - 10s 17ms/step - loss: 0.2455 - accuracy: 0.8948 - val_loss: 0.3539 - val_accuracy: 0.8509\n",
      "Epoch 5/20\n",
      "572/572 [==============================] - 10s 17ms/step - loss: 0.2173 - accuracy: 0.9101 - val_loss: 0.3697 - val_accuracy: 0.8491\n",
      "Epoch 00005: early stopping\n",
      "1537/1537 [==============================] - 6s 4ms/step - loss: 0.3697 - accuracy: 0.8491\n",
      " 최종 검증 정확도: 0.8491\n",
      " 최종 검증 loss: 0.3697\n"
     ]
    }
   ],
   "source": [
    "from tensorflow.keras.callbacks import EarlyStopping\n",
    "\n",
    "model_lstm.compile(optimizer='adam',\n",
    "              loss='binary_crossentropy',\n",
    "              metrics=['accuracy'])\n",
    "              \n",
    "epochs=20   \n",
    "callbacks = EarlyStopping(monitor='val_loss', patience=3, verbose=1)\n",
    "\n",
    "history_lstm = model_lstm.fit(\n",
    "                    X_train, X_val,\n",
    "                    validation_data=(y_train, y_val),\n",
    "                    epochs=epochs,\n",
    "                    batch_size=256,\n",
    "                    verbose=1, \n",
    "                    callbacks = callbacks)\n",
    "\n",
    "loss, acc = model_lstm.evaluate(y_train, y_val)\n",
    "print(f\" 최종 검증 정확도: {acc:.4f}\")\n",
    "print(f\" 최종 검증 loss: {loss:.4f}\")"
   ]
  },
  {
   "cell_type": "code",
   "execution_count": 14,
   "id": "d90fc04e",
   "metadata": {
    "scrolled": false
   },
   "outputs": [
    {
     "data": {
      "image/png": "[encoded data removed]",
      "text/plain": [
       "<Figure size 1008x360 with 2 Axes>"
      ]
     },
     "metadata": {
      "needs_background": "light"
     },
     "output_type": "display_data"
    }
   ],
   "source": [
    "# 시각화\n",
    "\n",
    "import matplotlib.pyplot as plt\n",
    "\n",
    "history_dict = history_lstm.history\n",
    "\n",
    "acc = history_dict['accuracy']\n",
    "val_acc = history_dict['val_accuracy']\n",
    "loss = history_dict['loss']\n",
    "val_loss = history_dict['val_loss']\n",
    "\n",
    "epochs = range(1, len(acc) + 1)\n",
    "\n",
    "plt.figure(figsize=(14, 5))\n",
    "\n",
    "\n",
    "plt.subplot(1, 2, 1)\n",
    "plt.plot(epochs, acc, 'bo', label='Training accuracy')\n",
    "plt.plot(epochs, val_acc, 'b', label='Validation accuracy ')\n",
    "plt.title('Training and validation accuracy')\n",
    "plt.xlabel('Epochs')\n",
    "plt.ylabel('Accuracy')\n",
    "plt.legend()\n",
    "\n",
    "plt.subplot(1, 2, 2)\n",
    "plt.plot(epochs, loss, 'ro', label='Training loss ')\n",
    "plt.plot(epochs, val_loss, 'r', label='Validation loss ')\n",
    "plt.title('Training and validation loss ')\n",
    "plt.xlabel('Epochs')\n",
    "plt.ylabel('Loss')\n",
    "\n",
    "plt.legend()\n",
    "plt.show()"
   ]
  },
  {
   "cell_type": "markdown",
   "id": "2a9028d3",
   "metadata": {},
   "source": [
    "## VOCAB_SIZE별 시험"
   ]
  },
  {
   "cell_type": "code",
   "execution_count": 10,
   "id": "e30c264c",
   "metadata": {},
   "outputs": [],
   "source": [
    "seq_max_len =  60\n",
    "input_file = 'ratings_clean.txt'\n",
    "\n",
    "results = []"
   ]
  },
  {
   "cell_type": "code",
   "execution_count": 18,
   "id": "b11b2e78",
   "metadata": {},
   "outputs": [],
   "source": [
    "from tensorflow.keras.callbacks import EarlyStopping\n",
    "\n",
    "def sentencepiece_vocab_test(vocab_size, model_type = 'unigram') : \n",
    "\n",
    "    print(f\"\\n============================\")\n",
    "    print(f\"✅ vocab_size = {vocab_size}\")\n",
    "    print(f\"============================\")\n",
    "    \n",
    "    # SentencePiece 학습\n",
    "    # 모델 이름 prefix\n",
    "    model_prefix = f'nsmc_spm_{vocab_size}'\n",
    "    #model_type = 'bpe'\n",
    "    # --model_type = unigram이 디폴트, bpe 옵션  (일반적을 bep가 감성 분석에 잘 맞음)\n",
    "\n",
    "    # 어휘 수, 문자 커버리지, 토크나이저 타입 등 설정\n",
    "    spm.SentencePieceTrainer.train(\n",
    "        input=input_file,\n",
    "        model_prefix=model_prefix,\n",
    "        vocab_size=vocab_size,\n",
    "        model_type=model_type,             # bpe, unigram, char, word 중 선택 가능\n",
    "        character_coverage=1.0,            # 한글: 1.0, 일본어: 0.9995, 영어: 1.0\n",
    "        pad_id=0,                          # [PAD]\n",
    "        unk_id=1,                          # [UNK]\n",
    "        bos_id=2,                          # [BOS]\n",
    "        eos_id=3,                          # [EOS]\n",
    "        user_defined_symbols=[],           # 필요한 경우 특수토큰 직접 추가\n",
    "        train_extremely_large_corpus=False  # (말뭉치가 10GB 이상일 때만 True)\n",
    "    )\n",
    "    \n",
    "    # SentencePiece 로딩\n",
    "    sp = spm.SentencePieceProcessor()\n",
    "    sp.load(f'{model_prefix}.model') \n",
    "  \n",
    "    # 어휘 사전 (index <-> word)\n",
    "    word_to_index, index_to_word = sp_vocabulary(model_prefix)\n",
    "    print(\"Vocab Size:\", len(index_to_word))\n",
    "\n",
    "    # 문장을 ID 리스트로 변환\n",
    "    X_train = sp_tokenize( sp, train_data['document'] )\n",
    "    y_train = sp_tokenize( sp, test_data['document'] )\n",
    "    \n",
    "    X_val = train_data['label'].astype('float32').values\n",
    "    y_val = test_data['label'].astype('float32').values\n",
    "    \n",
    "    # 모델 구성    \n",
    "    word_vector_dim = 128  # 워드 벡터의 차원 수 (변경 가능한 하이퍼파라미터)\n",
    "\n",
    "    # model 설계 - 딥러닝 모델 코드를 직접 작성해 주세요.\n",
    "    model = tf.keras.Sequential()\n",
    "    model.add(tf.keras.layers.Embedding(vocab_size, word_vector_dim, input_length=seq_max_len))\n",
    "    model.add(tf.keras.layers.Bidirectional( tf.keras.layers.LSTM(word_vector_dim) ))   \n",
    "    model.add(tf.keras.layers.Dense(8, activation='relu'))\n",
    "    model.add(tf.keras.layers.Dense(1, activation='sigmoid'))  # 최종 출력은 긍정/부정을 나타내는 1dim 입니다.    \n",
    "    \n",
    "    model.compile(optimizer='adam', loss='binary_crossentropy', metrics=['accuracy'])\n",
    "    \n",
    "    # 훈련\n",
    "    epochs=20   \n",
    "    callbacks = EarlyStopping(monitor='val_loss', patience=3, verbose=1)\n",
    "\n",
    "    history = model.fit(\n",
    "                    X_train, X_val,\n",
    "                    validation_data=(y_train, y_val),\n",
    "                    epochs=epochs,\n",
    "                    batch_size=256,\n",
    "                    verbose=1, \n",
    "                    callbacks = callbacks)\n",
    "\n",
    "    loss, acc = model.evaluate(y_train, y_val)\n",
    "    print(f\" 최종 검증 정확도: {acc:.4f}\")\n",
    "    print(f\" 최종 검증 loss: {loss:.4f}\")\n",
    "    \n",
    "    # 결과 저장\n",
    "    best_epoch = len(history.history['val_loss'])\n",
    "    results.append({\n",
    "        'vocab_size': vocab_size, \n",
    "        'best_epoch': best_epoch, \n",
    "        'val_accuracy': acc\n",
    "        })    \n",
    "    \n",
    "\n"
   ]
  },
  {
   "cell_type": "code",
   "execution_count": 16,
   "id": "b0dbee01",
   "metadata": {},
   "outputs": [
    {
     "name": "stdout",
     "output_type": "stream",
     "text": [
      "\n",
      "============================\n",
      "✅ vocab_size = 6000\n",
      "============================\n",
      "Vocab Size: 6000\n",
      "Epoch 1/20\n",
      "572/572 [==============================] - 14s 17ms/step - loss: 0.4144 - accuracy: 0.8051 - val_loss: 0.3623 - val_accuracy: 0.8399\n",
      "Epoch 2/20\n",
      "572/572 [==============================] - 9s 16ms/step - loss: 0.3360 - accuracy: 0.8519 - val_loss: 0.3549 - val_accuracy: 0.8438\n",
      "Epoch 3/20\n",
      "572/572 [==============================] - 9s 16ms/step - loss: 0.3086 - accuracy: 0.8644 - val_loss: 0.3482 - val_accuracy: 0.8466\n",
      "Epoch 4/20\n",
      "572/572 [==============================] - 9s 16ms/step - loss: 0.2863 - accuracy: 0.8753 - val_loss: 0.3613 - val_accuracy: 0.8483\n",
      "Epoch 5/20\n",
      "572/572 [==============================] - 10s 17ms/step - loss: 0.2656 - accuracy: 0.8859 - val_loss: 0.3446 - val_accuracy: 0.8494\n",
      "Epoch 6/20\n",
      "572/572 [==============================] - 10s 17ms/step - loss: 0.2448 - accuracy: 0.8967 - val_loss: 0.3600 - val_accuracy: 0.8463\n",
      "Epoch 7/20\n",
      "572/572 [==============================] - 10s 17ms/step - loss: 0.2213 - accuracy: 0.9086 - val_loss: 0.3721 - val_accuracy: 0.8484\n",
      "Epoch 8/20\n",
      "572/572 [==============================] - 10s 17ms/step - loss: 0.1983 - accuracy: 0.9196 - val_loss: 0.4144 - val_accuracy: 0.8389\n",
      "Epoch 00008: early stopping\n",
      "1537/1537 [==============================] - 6s 4ms/step - loss: 0.4144 - accuracy: 0.8389\n",
      " 최종 검증 정확도: 0.8389\n",
      " 최종 검증 loss: 0.4144\n"
     ]
    }
   ],
   "source": [
    "# for vocab_size in [4000, 6000, 8000, 10000]:\n",
    "sentencepiece_vocab_test( 6000, model_type = 'bpe')"
   ]
  },
  {
   "cell_type": "code",
   "execution_count": 19,
   "id": "a483d14a",
   "metadata": {
    "scrolled": true
   },
   "outputs": [
    {
     "name": "stdout",
     "output_type": "stream",
     "text": [
      "\n",
      "============================\n",
      "✅ vocab_size = 4000\n",
      "============================\n",
      "Vocab Size: 4000\n",
      "Epoch 1/20\n",
      "572/572 [==============================] - 12s 17ms/step - loss: 0.4287 - accuracy: 0.7947 - val_loss: 0.3820 - val_accuracy: 0.8241\n",
      "Epoch 2/20\n",
      "572/572 [==============================] - 9s 17ms/step - loss: 0.3548 - accuracy: 0.8391 - val_loss: 0.3658 - val_accuracy: 0.8332\n",
      "Epoch 3/20\n",
      "572/572 [==============================] - 10s 17ms/step - loss: 0.3281 - accuracy: 0.8528 - val_loss: 0.3495 - val_accuracy: 0.8411\n",
      "Epoch 4/20\n",
      "572/572 [==============================] - 10s 17ms/step - loss: 0.3081 - accuracy: 0.8642 - val_loss: 0.3510 - val_accuracy: 0.8414\n",
      "Epoch 5/20\n",
      "572/572 [==============================] - 10s 17ms/step - loss: 0.2904 - accuracy: 0.8738 - val_loss: 0.3467 - val_accuracy: 0.8466\n",
      "Epoch 6/20\n",
      "572/572 [==============================] - 10s 17ms/step - loss: 0.2738 - accuracy: 0.8821 - val_loss: 0.3499 - val_accuracy: 0.8479\n",
      "Epoch 7/20\n",
      "572/572 [==============================] - 9s 17ms/step - loss: 0.2572 - accuracy: 0.8905 - val_loss: 0.3724 - val_accuracy: 0.8470\n",
      "Epoch 8/20\n",
      "572/572 [==============================] - 10s 17ms/step - loss: 0.2402 - accuracy: 0.9001 - val_loss: 0.3694 - val_accuracy: 0.8421\n",
      "Epoch 00008: early stopping\n",
      "1537/1537 [==============================] - 6s 4ms/step - loss: 0.3694 - accuracy: 0.8421\n",
      " 최종 검증 정확도: 0.8421\n",
      " 최종 검증 loss: 0.3694\n"
     ]
    }
   ],
   "source": [
    "sentencepiece_vocab_test( 4000, model_type = 'bpe')"
   ]
  },
  {
   "cell_type": "code",
   "execution_count": 20,
   "id": "1bb8cdf4",
   "metadata": {
    "scrolled": false
   },
   "outputs": [
    {
     "name": "stdout",
     "output_type": "stream",
     "text": [
      "\n",
      "============================\n",
      "✅ vocab_size = 8000\n",
      "============================\n",
      "Vocab Size: 8000\n",
      "Epoch 1/20\n",
      "572/572 [==============================] - 12s 18ms/step - loss: 0.4160 - accuracy: 0.8054 - val_loss: 0.3561 - val_accuracy: 0.8424\n",
      "Epoch 2/20\n",
      "572/572 [==============================] - 10s 17ms/step - loss: 0.3275 - accuracy: 0.8563 - val_loss: 0.3532 - val_accuracy: 0.8478\n",
      "Epoch 3/20\n",
      "572/572 [==============================] - 10s 17ms/step - loss: 0.2999 - accuracy: 0.8691 - val_loss: 0.3390 - val_accuracy: 0.8491\n",
      "Epoch 4/20\n",
      "572/572 [==============================] - 10s 17ms/step - loss: 0.2751 - accuracy: 0.8814 - val_loss: 0.3506 - val_accuracy: 0.8481\n",
      "Epoch 5/20\n",
      "572/572 [==============================] - 10s 17ms/step - loss: 0.2509 - accuracy: 0.8928 - val_loss: 0.3554 - val_accuracy: 0.8497\n",
      "Epoch 6/20\n",
      "572/572 [==============================] - 10s 17ms/step - loss: 0.2230 - accuracy: 0.9058 - val_loss: 0.3975 - val_accuracy: 0.8479\n",
      "Epoch 00006: early stopping\n",
      "1537/1537 [==============================] - 6s 4ms/step - loss: 0.3975 - accuracy: 0.8479\n",
      " 최종 검증 정확도: 0.8479\n",
      " 최종 검증 loss: 0.3975\n"
     ]
    }
   ],
   "source": [
    "sentencepiece_vocab_test( 8000, model_type = 'bpe')"
   ]
  },
  {
   "cell_type": "code",
   "execution_count": 21,
   "id": "1519f6af",
   "metadata": {},
   "outputs": [
    {
     "name": "stdout",
     "output_type": "stream",
     "text": [
      "\n",
      "============================\n",
      "✅ vocab_size = 4000\n",
      "============================\n",
      "Vocab Size: 2683\n",
      "Epoch 1/20\n",
      "572/572 [==============================] - 12s 18ms/step - loss: 0.4854 - accuracy: 0.7603 - val_loss: 0.4357 - val_accuracy: 0.7970\n",
      "Epoch 2/20\n",
      "572/572 [==============================] - 9s 16ms/step - loss: 0.4079 - accuracy: 0.8106 - val_loss: 0.4071 - val_accuracy: 0.8123\n",
      "Epoch 3/20\n",
      "572/572 [==============================] - 10s 17ms/step - loss: 0.3789 - accuracy: 0.8262 - val_loss: 0.3918 - val_accuracy: 0.8187\n",
      "Epoch 4/20\n",
      "572/572 [==============================] - 10s 17ms/step - loss: 0.3596 - accuracy: 0.8376 - val_loss: 0.3780 - val_accuracy: 0.8272\n",
      "Epoch 5/20\n",
      "572/572 [==============================] - 10s 17ms/step - loss: 0.3435 - accuracy: 0.8464 - val_loss: 0.3821 - val_accuracy: 0.8203\n",
      "Epoch 6/20\n",
      "572/572 [==============================] - 10s 17ms/step - loss: 0.3299 - accuracy: 0.8545 - val_loss: 0.3745 - val_accuracy: 0.8305\n",
      "Epoch 7/20\n",
      "572/572 [==============================] - 10s 17ms/step - loss: 0.3178 - accuracy: 0.8609 - val_loss: 0.3675 - val_accuracy: 0.8331\n",
      "Epoch 8/20\n",
      "572/572 [==============================] - 9s 17ms/step - loss: 0.3044 - accuracy: 0.8682 - val_loss: 0.3657 - val_accuracy: 0.8367\n",
      "Epoch 9/20\n",
      "572/572 [==============================] - 9s 16ms/step - loss: 0.2929 - accuracy: 0.8745 - val_loss: 0.3649 - val_accuracy: 0.8375\n",
      "Epoch 10/20\n",
      "572/572 [==============================] - 9s 17ms/step - loss: 0.2798 - accuracy: 0.8808 - val_loss: 0.3680 - val_accuracy: 0.8359\n",
      "Epoch 11/20\n",
      "572/572 [==============================] - 10s 17ms/step - loss: 0.2686 - accuracy: 0.8870 - val_loss: 0.3781 - val_accuracy: 0.8366\n",
      "Epoch 12/20\n",
      "572/572 [==============================] - 10s 17ms/step - loss: 0.2565 - accuracy: 0.8927 - val_loss: 0.3811 - val_accuracy: 0.8415\n",
      "Epoch 00012: early stopping\n",
      "1537/1537 [==============================] - 5s 4ms/step - loss: 0.3811 - accuracy: 0.8415\n",
      " 최종 검증 정확도: 0.8415\n",
      " 최종 검증 loss: 0.3811\n"
     ]
    }
   ],
   "source": [
    "sentencepiece_vocab_test( 4000, model_type = 'char')"
   ]
  },
  {
   "cell_type": "code",
   "execution_count": 22,
   "id": "60e48d4e",
   "metadata": {},
   "outputs": [
    {
     "name": "stdout",
     "output_type": "stream",
     "text": [
      "   vocab_size  best_epoch  val_accuracy\n",
      "0        6000           8      0.838924\n",
      "1        4000           8      0.842077\n",
      "2        8000           6      0.847936\n",
      "3        4000          12      0.841467\n"
     ]
    }
   ],
   "source": [
    "# 결과 정리\n",
    "results_df = pd.DataFrame(results)\n",
    "print(results_df)"
   ]
  },
  {
   "cell_type": "markdown",
   "id": "2b5de30a",
   "metadata": {},
   "source": [
    "## 회고"
   ]
  },
  {
   "cell_type": "markdown",
   "id": "7188fa4a",
   "metadata": {},
   "source": [
    " **vocab_size별 Test 결과** \n",
    " - VOCAB = 10000, seq_max_len = 60, type = bpe\n",
    "     -  최종 검증 정확도: 0.8491\n",
    "     - 최종 검증 loss: 0.3697\n",
    "     \n",
    " - VOCAB = 8000, seq_max_len = 60, type = bpe\n",
    "     - 최종 검증 정확도: 0.8497\n",
    "     - 최종 검증 loss: 0.3854\n",
    " \n",
    " - VOCAB = 6000, seq_max_len = 60, type = bpe\n",
    "     - 최종 검증 정확도: 0.8479\n",
    "     - 최종 검증 loss: 0.3868\n",
    "     \n",
    " - VOCAB = 4000, seq_max_len = 60, type = bpe\n",
    "     - 최종 검증 정확도: 0.8468\n",
    "     - 최종 검증 loss: 0.3666"
   ]
  },
  {
   "cell_type": "code",
   "execution_count": null,
   "id": "a890e2e0",
   "metadata": {},
   "outputs": [],
   "source": [
    "**model_type**\n",
    " - type = char인 경우 vocab size가 줄어든다"
   ]
  }
 ],
 "metadata": {
  "kernelspec": {
   "display_name": "Python 3 (ipykernel)",
   "language": "python",
   "name": "python3"
  },
  "language_info": {
   "codemirror_mode": {
    "name": "ipython",
    "version": 3
   },
   "file_extension": ".py",
   "mimetype": "text/x-python",
   "name": "python",
   "nbconvert_exporter": "python",
   "pygments_lexer": "ipython3",
   "version": "3.9.7"
  }
 },
 "nbformat": 4,
 "nbformat_minor": 5
}
