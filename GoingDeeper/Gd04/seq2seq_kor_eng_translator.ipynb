{
 "cells": [
  {
   "cell_type": "code",
   "execution_count": 282,
   "id": "8f57bbff",
   "metadata": {},
   "outputs": [],
   "source": [
    "import tensorflow as tf\n",
    "import numpy as np\n",
    "\n",
    "from sklearn.model_selection import train_test_split\n",
    "\n",
    "import matplotlib.ticker as ticker\n",
    "import matplotlib.pyplot as plt\n",
    "\n",
    "import time\n",
    "import re\n",
    "import os\n",
    "import io"
   ]
  },
  {
   "cell_type": "code",
   "execution_count": 283,
   "id": "026d0bf5",
   "metadata": {},
   "outputs": [
    {
     "name": "stdout",
     "output_type": "stream",
     "text": [
      "Kor Train Data Size: 94123\n",
      "Eng Train Data Size: 94123\n",
      "Kor Test Data Size: 2000\n",
      "Eng Test Data Size: 2000\n"
     ]
    }
   ],
   "source": [
    "kor_train_path = os.path.join('./korean-english-park.train.ko')\n",
    "eng_train_path = os.path.join('./korean-english-park.train.en')\n",
    "kor_test_path = os.path.join('./korean-english-park.test.ko')\n",
    "eng_test_path = os.path.join('./korean-english-park.test.en')\n",
    "\n",
    "# 1. kor-train\n",
    "with open(kor_train_path, \"r\") as f:\n",
    "    kor_train_raw = f.read().splitlines()\n",
    "\n",
    "# 2. eng-train\n",
    "with open(eng_train_path, \"r\") as f:\n",
    "    eng_train_raw = f.read().splitlines()\n",
    "\n",
    "# 3. kor-test\n",
    "with open(kor_test_path, \"r\") as f:\n",
    "    kor_test_raw = f.read().splitlines()\n",
    "\n",
    "# 4. eng-test\n",
    "with open(eng_test_path, \"r\") as f:\n",
    "    eng_test_raw = f.read().splitlines()\n",
    "    \n",
    "print(\"Kor Train Data Size:\", len(kor_train_raw))\n",
    "print(\"Eng Train Data Size:\", len(eng_train_raw))\n",
    "print(\"Kor Test Data Size:\", len(kor_test_raw))\n",
    "print(\"Eng Test Data Size:\", len(eng_test_raw))"
   ]
  },
  {
   "cell_type": "code",
   "execution_count": 284,
   "id": "b577ea5e",
   "metadata": {},
   "outputs": [
    {
     "name": "stdout",
     "output_type": "stream",
     "text": [
      "Kor Train Example:\n",
      ">> 개인용 컴퓨터 사용의 상당 부분은 \"이것보다 뛰어날 수 있느냐?\"\n",
      ">> 북한의 핵무기 계획을 포기하도록 하려는 압력이 거세지고 있는 가운데, 일본과 북한의 외교관들이 외교 관계를 정상화하려는 회담을 재개했다.\n",
      ">> \"경호 로보트가 침입자나 화재를 탐지하기 위해서 개인적으로, 그리고 전문적으로 사용되고 있습니다.\"\n",
      ">> 수자원부 당국은 논란이 되고 있고, 막대한 비용이 드는 이 사업에 대해 내년에 건설을 시작할 계획이다.\n",
      ">> 또한 근력 운동은 활발하게 걷는 것이나 최소한 20분 동안 뛰는 것과 같은 유산소 활동에서 얻는 운동 효과를 심장과 폐에 주지 않기 때문에, 연구학자들은 근력 운동이 심장에 큰 영향을 미치는지 여부에 대해 논쟁을 해왔다.\n",
      "Eng Train Example:\n",
      ">> Much of personal computing is about \"can you top this?\"\n",
      ">> Amid mounting pressure on North Korea to abandon its nuclear weapons program Japanese and North Korean diplomats have resumed talks on normalizing diplomatic relations.\n",
      ">> “Guard robots are used privately and professionally to detect intruders or fire,” Karlsson said.\n",
      ">> Authorities from the Water Resources Ministry plan to begin construction next year on the controversial and hugely expensive project.\n",
      ">> Researchers also have debated whether weight-training has a big impact on the heart, since it does not give the heart and lungs the kind of workout they get from aerobic activities such as brisk walking or running for at least 20 minutes.\n",
      "Kor Test Example:\n",
      ">> 토론에 참여한 사람들은 법 집행과 국가 안전보장에 대한 우려를 표명해야 할 필요성을 진지하게 받아 들이고 있습니다.\n",
      ">> 비록 그 위협(의 가능성)은 적지만, 그 잠재적인 영향력은 가히 파괴적인 것이다.\n",
      ">> 한국은 세계 에서 네번째로 원유를 많이 수입하는 나라이며, 전적으로 원유 수입에 의존하고 있다.\n",
      ">> 불과 1,379년 전이다.\n",
      ">> 대신, 그들은 \"안정\"이라는 면에서 서방 세계와 똑같은 이해 관계를 갖고 있는 각 지역의 소수 엘리트를 대표하고 있다.\n",
      "Eng Test Example:\n",
      ">> Those involved in the discussions do take seriously the need to address concerns of law enforcement and national security.\n",
      ">> Even though the threat is small, the potential effects are devastating.\n",
      ">> South Korea is the world's fourth largest oil importer and wholly depends on imports of crude.\n",
      ">> That is only 1,379 years ago.\n",
      ">> Instead, they represent a small elite in each place that has a common interest with the West in “stability.”\n"
     ]
    }
   ],
   "source": [
    "print(\"Kor Train Example:\")\n",
    "for sen in kor_train_raw[0:100][::20]: print(\">>\", sen)\n",
    "\n",
    "print(\"Eng Train Example:\")\n",
    "for sen in eng_train_raw[0:100][::20]: print(\">>\", sen)\n",
    "\n",
    "print(\"Kor Test Example:\")\n",
    "for sen in kor_test_raw[0:100][::20]: print(\">>\", sen)\n",
    "\n",
    "print(\"Eng Test Example:\")\n",
    "for sen in eng_test_raw[0:100][::20]: print(\">>\", sen)"
   ]
  },
  {
   "cell_type": "code",
   "execution_count": 285,
   "id": "39ec7d4f",
   "metadata": {},
   "outputs": [],
   "source": [
    "def check_sentence_length(raw, str): \n",
    "    min_len = 999\n",
    "    max_len = 0\n",
    "    sum_len = 0\n",
    "\n",
    "    for sen in raw:\n",
    "        length = len(sen)\n",
    "        if min_len > length: min_len = length\n",
    "        if max_len < length: max_len = length\n",
    "        sum_len += length\n",
    "\n",
    "    print(\"문장의 최단 길이:\", min_len)\n",
    "    print(\"문장의 최장 길이:\", max_len)\n",
    "    print(\"문장의 평균 길이:\", sum_len // len(raw))\n",
    "\n",
    "    sentence_length = np.zeros((max_len), dtype=int)\n",
    "\n",
    "    for sen in raw:\n",
    "        sentence_length[len(sen)-1] += 1\n",
    "\n",
    "    plt.bar(range(max_len), sentence_length, width=1.0)\n",
    "    plt.title(f'{str} Sentence Length Distribution')\n",
    "    plt.show()\n",
    "    \n",
    "    return sentence_length"
   ]
  },
  {
   "cell_type": "code",
   "execution_count": 286,
   "id": "d8f17376",
   "metadata": {
    "scrolled": true
   },
   "outputs": [
    {
     "name": "stdout",
     "output_type": "stream",
     "text": [
      "문장의 최단 길이: 1\n",
      "문장의 최장 길이: 377\n",
      "문장의 평균 길이: 60\n"
     ]
    },
    {
     "data": {
      "image/png": "[encoded data removed]",
      "text/plain": [
       "<Figure size 432x288 with 1 Axes>"
      ]
     },
     "metadata": {
      "needs_background": "light"
     },
     "output_type": "display_data"
    }
   ],
   "source": [
    "kotrain_sen_length = check_sentence_length( kor_train_raw, \"Korean Train\")"
   ]
  },
  {
   "cell_type": "code",
   "execution_count": 287,
   "id": "6398c294",
   "metadata": {
    "scrolled": true
   },
   "outputs": [
    {
     "name": "stdout",
     "output_type": "stream",
     "text": [
      "문장의 최단 길이: 1\n",
      "문장의 최장 길이: 605\n",
      "문장의 평균 길이: 126\n"
     ]
    },
    {
     "data": {
      "image/png": "[encoded data removed]",
      "text/plain": [
       "<Figure size 432x288 with 1 Axes>"
      ]
     },
     "metadata": {
      "needs_background": "light"
     },
     "output_type": "display_data"
    }
   ],
   "source": [
    "entrain_sen_length = check_sentence_length( eng_train_raw, \"English Train\")"
   ]
  },
  {
   "cell_type": "code",
   "execution_count": 288,
   "id": "9085a4c4",
   "metadata": {},
   "outputs": [],
   "source": [
    "def check_sentence_with_length(raw, length):\n",
    "    count = 0\n",
    "    \n",
    "    for idx, sen in enumerate(raw):\n",
    "        if len(sen) == length:\n",
    "            print(f\"[{idx}] <{sen}>\")\n",
    "            count += 1\n",
    "            if count > 100:\n",
    "                return"
   ]
  },
  {
   "cell_type": "code",
   "execution_count": 289,
   "id": "26be0f40",
   "metadata": {},
   "outputs": [
    {
     "name": "stdout",
     "output_type": "stream",
     "text": [
      "[11724] <’>\n"
     ]
    }
   ],
   "source": [
    "check_sentence_with_length(kor_train_raw, 1)"
   ]
  },
  {
   "cell_type": "code",
   "execution_count": 290,
   "id": "a51320a7",
   "metadata": {
    "scrolled": true
   },
   "outputs": [
    {
     "name": "stdout",
     "output_type": "stream",
     "text": [
      "[11724] <\">\n",
      "[33709] <.>\n",
      "[49537] <·>\n",
      "[49633] <·>\n",
      "[49894] <·>\n",
      "[50155] <·>\n",
      "[50416] <·>\n",
      "[50677] <·>\n",
      "[50938] <·>\n",
      "[51199] <·>\n",
      "[51460] <·>\n"
     ]
    }
   ],
   "source": [
    "check_sentence_with_length(eng_train_raw, 1)"
   ]
  },
  {
   "cell_type": "code",
   "execution_count": 291,
   "id": "1024b5e7",
   "metadata": {
    "scrolled": false
   },
   "outputs": [
    {
     "name": "stdout",
     "output_type": "stream",
     "text": [
      "[6262] <1.>\n",
      "[6267] <2.>\n",
      "[6271] <3.>\n",
      "[6274] <4.>\n",
      "[8293] <면접>\n",
      "[8933] <음식>\n",
      "[8939] <햇빛>\n",
      "[10066] <과일>\n",
      "[10076] <양파>\n",
      "[11849] <Q:>\n",
      "[13337] <4.>\n",
      "[13346] <6.>\n",
      "[33709] <..>\n"
     ]
    }
   ],
   "source": [
    "check_sentence_with_length(kor_train_raw, 2)"
   ]
  },
  {
   "cell_type": "code",
   "execution_count": 292,
   "id": "42f66232",
   "metadata": {},
   "outputs": [
    {
     "data": {
      "text/plain": [
       "'The interview'"
      ]
     },
     "execution_count": 292,
     "metadata": {},
     "output_type": "execute_result"
    }
   ],
   "source": [
    "eng_train_raw[8293]"
   ]
  },
  {
   "cell_type": "code",
   "execution_count": 293,
   "id": "91ef3a39",
   "metadata": {
    "scrolled": true
   },
   "outputs": [
    {
     "name": "stdout",
     "output_type": "stream",
     "text": [
      "[9491] <5.>\n",
      "[32797] <3.>\n",
      "[32817] <7.>\n"
     ]
    }
   ],
   "source": [
    "check_sentence_with_length(eng_train_raw, 2)"
   ]
  },
  {
   "cell_type": "code",
   "execution_count": 294,
   "id": "f21fc51b",
   "metadata": {
    "scrolled": true
   },
   "outputs": [
    {
     "name": "stdout",
     "output_type": "stream",
     "text": [
      "[10134] <코브:>\n",
      "[10147] <코브:>\n",
      "[10494] <MMR>\n",
      "[21064] <버뮤다>\n",
      "[22515] <▲쇼핑>\n",
      "[26703] <첫째날>\n",
      "[26710] <둘째날>\n",
      "[32795] <교훈:>\n",
      "[32802] <교훈:>\n",
      "[49537] <ST.>\n",
      "[49633] <ST.>\n",
      "[49894] <ST.>\n",
      "[50155] <ST.>\n",
      "[50416] <ST.>\n",
      "[50677] <ST.>\n",
      "[50938] <ST.>\n",
      "[51199] <ST.>\n",
      "[51460] <ST.>\n",
      "[64692] <이벤트>\n",
      "[67263] <프린트>\n",
      "[70858] <이벤트>\n",
      "[80006] <통계청>\n",
      "[88443] <감사원>\n",
      "[90203] <철도청>\n",
      "[92551] <단어장>\n"
     ]
    }
   ],
   "source": [
    "check_sentence_with_length(kor_train_raw, 3)"
   ]
  },
  {
   "cell_type": "code",
   "execution_count": 295,
   "id": "42020c3e",
   "metadata": {},
   "outputs": [
    {
     "name": "stdout",
     "output_type": "stream",
     "text": [
      "[8388] <Men>\n",
      "[64692] <...>\n",
      "[67263] <...>\n",
      "[70858] <...>\n"
     ]
    }
   ],
   "source": [
    "check_sentence_with_length(eng_train_raw, 3)"
   ]
  },
  {
   "cell_type": "code",
   "execution_count": 296,
   "id": "81fec7e0",
   "metadata": {},
   "outputs": [
    {
     "name": "stdout",
     "output_type": "stream",
     "text": [
      "Kor Outlier Index: 11\n",
      "Kor Outlier Index: 19\n",
      "Kor Outlier Index: 21\n"
     ]
    }
   ],
   "source": [
    "for idx, _sum in enumerate(kotrain_sen_length):\n",
    "    # 문장의 수가 1500을 초과하는 문장 길이를 추출합니다.\n",
    "    if _sum > 1500:\n",
    "        print(\"Kor Outlier Index:\", idx+1)"
   ]
  },
  {
   "cell_type": "code",
   "execution_count": 297,
   "id": "b1adf84c",
   "metadata": {
    "scrolled": true
   },
   "outputs": [
    {
     "name": "stdout",
     "output_type": "stream",
     "text": [
      "Eng Outlier Index: 34\n"
     ]
    }
   ],
   "source": [
    "for idx, _sum in enumerate(entrain_sen_length):\n",
    "    # 문장의 수가 1000을 초과하는 문장 길이를 추출합니다.\n",
    "    if _sum > 1000:\n",
    "        print(\"Eng Outlier Index:\", idx+1)"
   ]
  },
  {
   "cell_type": "markdown",
   "id": "4eb75953",
   "metadata": {},
   "source": [
    "### 전처리 "
   ]
  },
  {
   "cell_type": "code",
   "execution_count": 298,
   "id": "74c098e6",
   "metadata": {},
   "outputs": [
    {
     "name": "stdout",
     "output_type": "stream",
     "text": [
      "정규화 사전의 수:  120\n"
     ]
    }
   ],
   "source": [
    "contractions = {\"ain't\": \"is not\", \"aren't\": \"are not\",\"can't\": \"cannot\", \"'cause\": \"because\", \"could've\": \"could have\", \"couldn't\": \"could not\",\n",
    "                           \"didn't\": \"did not\",  \"doesn't\": \"does not\", \"don't\": \"do not\", \"hadn't\": \"had not\", \"hasn't\": \"has not\", \"haven't\": \"have not\",\n",
    "                           \"he'd\": \"he would\",\"he'll\": \"he will\", \"he's\": \"he is\", \"how'd\": \"how did\", \"how'd'y\": \"how do you\", \"how'll\": \"how will\", \"how's\": \"how is\",\n",
    "                           \"I'd\": \"I would\", \"I'd've\": \"I would have\", \"I'll\": \"I will\", \"I'll've\": \"I will have\",\"I'm\": \"I am\", \"I've\": \"I have\", \"i'd\": \"i would\",\n",
    "                           \"i'd've\": \"i would have\", \"i'll\": \"i will\",  \"i'll've\": \"i will have\",\"i'm\": \"i am\", \"i've\": \"i have\", \"isn't\": \"is not\", \"it'd\": \"it would\",\n",
    "                           \"it'd've\": \"it would have\", \"it'll\": \"it will\", \"it'll've\": \"it will have\",\"it's\": \"it is\", \"let's\": \"let us\", \"ma'am\": \"madam\",\n",
    "                           \"mayn't\": \"may not\", \"might've\": \"might have\",\"mightn't\": \"might not\",\"mightn't've\": \"might not have\", \"must've\": \"must have\",\n",
    "                           \"mustn't\": \"must not\", \"mustn't've\": \"must not have\", \"needn't\": \"need not\", \"needn't've\": \"need not have\",\"o'clock\": \"of the clock\",\n",
    "                           \"oughtn't\": \"ought not\", \"oughtn't've\": \"ought not have\", \"shan't\": \"shall not\", \"sha'n't\": \"shall not\", \"shan't've\": \"shall not have\",\n",
    "                           \"she'd\": \"she would\", \"she'd've\": \"she would have\", \"she'll\": \"she will\", \"she'll've\": \"she will have\", \"she's\": \"she is\",\n",
    "                           \"should've\": \"should have\", \"shouldn't\": \"should not\", \"shouldn't've\": \"should not have\", \"so've\": \"so have\",\"so's\": \"so as\",\n",
    "                           \"this's\": \"this is\",\"that'd\": \"that would\", \"that'd've\": \"that would have\", \"that's\": \"that is\", \"there'd\": \"there would\",\n",
    "                           \"there'd've\": \"there would have\", \"there's\": \"there is\", \"here's\": \"here is\",\"they'd\": \"they would\", \"they'd've\": \"they would have\",\n",
    "                           \"they'll\": \"they will\", \"they'll've\": \"they will have\", \"they're\": \"they are\", \"they've\": \"they have\", \"to've\": \"to have\",\n",
    "                           \"wasn't\": \"was not\", \"we'd\": \"we would\", \"we'd've\": \"we would have\", \"we'll\": \"we will\", \"we'll've\": \"we will have\", \"we're\": \"we are\",\n",
    "                           \"we've\": \"we have\", \"weren't\": \"were not\", \"what'll\": \"what will\", \"what'll've\": \"what will have\", \"what're\": \"what are\",\n",
    "                           \"what's\": \"what is\", \"what've\": \"what have\", \"when's\": \"when is\", \"when've\": \"when have\", \"where'd\": \"where did\", \"where's\": \"where is\",\n",
    "                           \"where've\": \"where have\", \"who'll\": \"who will\", \"who'll've\": \"who will have\", \"who's\": \"who is\", \"who've\": \"who have\",\n",
    "                           \"why's\": \"why is\", \"why've\": \"why have\", \"will've\": \"will have\", \"won't\": \"will not\", \"won't've\": \"will not have\",\n",
    "                           \"would've\": \"would have\", \"wouldn't\": \"would not\", \"wouldn't've\": \"would not have\", \"y'all\": \"you all\",\n",
    "                           \"y'all'd\": \"you all would\",\"y'all'd've\": \"you all would have\",\"y'all're\": \"you all are\",\"y'all've\": \"you all have\",\n",
    "                           \"you'd\": \"you would\", \"you'd've\": \"you would have\", \"you'll\": \"you will\", \"you'll've\": \"you will have\",\n",
    "                           \"you're\": \"you are\", \"you've\": \"you have\"}\n",
    "\n",
    "print(\"정규화 사전의 수: \", len(contractions))"
   ]
  },
  {
   "cell_type": "code",
   "execution_count": 299,
   "id": "80e2cde4",
   "metadata": {},
   "outputs": [],
   "source": [
    "import re\n",
    "\n",
    "# 전처리 함수\n",
    "def preprocess_kor_sentence(sentence):\n",
    "\n",
    "    # 소문자화 & 공백 제거 (한국어는 대소문자 의미 없음, 하지만 영어 혼합 대비)\n",
    "    sentence = sentence.lower().strip()\n",
    "\n",
    "    sentence = re.sub('\"','', sentence)                  # 쌍따옴표 \" 제거\n",
    "    sentence = re.sub(r\"([?.!,])\", r\" \\1 \", sentence)    #?.!, 기준으로 공백을 앞뒤로 추가\n",
    "    sentence = re.sub(r'[\" \"]+', \" \", sentence)          # 중복된 공백 제거\n",
    "    sentence = re.sub(r\"[^가-힣0-9?!]+\", \" \", sentence)  # 한글,?.!, 이외는 공백으로 치환\n",
    "  \n",
    "    # 다중 공백 정리\n",
    "    sentence = re.sub(r'[\" \"]+', \" \", sentence)          # 여러개의 공백을 하나로\n",
    "      \n",
    "    return sentence"
   ]
  },
  {
   "cell_type": "code",
   "execution_count": 300,
   "id": "918a1f32",
   "metadata": {},
   "outputs": [],
   "source": [
    "import re\n",
    "\n",
    "def preprocess_eng_sentence(sentence):\n",
    "    sentence = sentence.lower().strip()\n",
    "\n",
    "    sentence = re.sub('\"','', sentence)                   # 쌍따옴표 \" 제거\n",
    "    sentence = re.sub(r\"([?.!,])\", r\" \\1 \", sentence)     #?.!, 기준으로 공백을 앞뒤로 추가\n",
    "    sentence = re.sub(r'[\" \"]+', \" \", sentence)           # 중복된 공백 제거\n",
    "    sentence = re.sub(r\"[^a-zA-Z0-9?!]+\", \" \", sentence)  # 알파벳,?.!, 이외는 공백으로 치환\n",
    "    \n",
    "    sentence = ' '.join([contractions[t] if t in contractions else t for t in sentence.split(\" \")]) # 약어 정규화\n",
    "    sentence = re.sub(r\"'s\\b\",\"\", sentence)               # 소유격 제거. Ex) roland's -> roland\n",
    "\n",
    "    sentence = sentence.strip()                           # 불필요한 공백 제거\n",
    "    \n",
    "    return sentence"
   ]
  },
  {
   "cell_type": "code",
   "execution_count": 301,
   "id": "5a663af5",
   "metadata": {},
   "outputs": [],
   "source": [
    "kor_clean_train = [preprocess_kor_sentence(s) for s in kor_train_raw]\n",
    "eng_clean_train = [preprocess_eng_sentence(s) for s in eng_train_raw]\n",
    "kor_clean_test = [preprocess_kor_sentence(s) for s in kor_test_raw]\n",
    "eng_clean_test = [preprocess_eng_sentence(s) for s in eng_test_raw]"
   ]
  },
  {
   "cell_type": "code",
   "execution_count": 302,
   "id": "8543780f",
   "metadata": {
    "scrolled": true
   },
   "outputs": [
    {
     "name": "stdout",
     "output_type": "stream",
     "text": [
      "문장의 최단 길이: 1\n",
      "문장의 최장 길이: 244\n",
      "문장의 평균 길이: 57\n"
     ]
    },
    {
     "data": {
      "image/png": "[encoded data removed]",
      "text/plain": [
       "<Figure size 432x288 with 1 Axes>"
      ]
     },
     "metadata": {
      "needs_background": "light"
     },
     "output_type": "display_data"
    }
   ],
   "source": [
    "kotrain_sen_length = check_sentence_length( kor_clean_train, \"Korean Train\")"
   ]
  },
  {
   "cell_type": "code",
   "execution_count": 303,
   "id": "88217134",
   "metadata": {
    "scrolled": true
   },
   "outputs": [
    {
     "name": "stdout",
     "output_type": "stream",
     "text": [
      "문장의 최단 길이: 0\n",
      "문장의 최장 길이: 600\n",
      "문장의 평균 길이: 123\n"
     ]
    },
    {
     "data": {
      "image/png": "[encoded data removed]",
      "text/plain": [
       "<Figure size 432x288 with 1 Axes>"
      ]
     },
     "metadata": {
      "needs_background": "light"
     },
     "output_type": "display_data"
    }
   ],
   "source": [
    "entrain_sen_length = check_sentence_length( eng_clean_train, \"English Train\")"
   ]
  },
  {
   "cell_type": "code",
   "execution_count": 304,
   "id": "f400c1dc",
   "metadata": {
    "scrolled": true
   },
   "outputs": [
    {
     "name": "stdout",
     "output_type": "stream",
     "text": [
      "[10494] < >\n",
      "[11724] < >\n",
      "[11849] < >\n",
      "[13115] < >\n",
      "[13759] < >\n",
      "[13854] < >\n",
      "[14077] < >\n",
      "[21057] < >\n",
      "[21073] < >\n",
      "[28075] < >\n",
      "[33709] < >\n",
      "[37950] < >\n",
      "[38393] < >\n",
      "[49537] < >\n",
      "[49633] < >\n",
      "[49894] < >\n",
      "[50155] < >\n",
      "[50416] < >\n",
      "[50677] < >\n",
      "[50938] < >\n",
      "[51199] < >\n",
      "[51460] < >\n"
     ]
    }
   ],
   "source": [
    "check_sentence_with_length(kor_clean_train, 1)"
   ]
  },
  {
   "cell_type": "code",
   "execution_count": 305,
   "id": "5d6bc596",
   "metadata": {},
   "outputs": [
    {
     "name": "stdout",
     "output_type": "stream",
     "text": [
      "mmr booster\n",
      "\n",
      "cnn q\n"
     ]
    }
   ],
   "source": [
    "print(eng_clean_train[10494])\n",
    "print(eng_clean_train[11724])\n",
    "print(eng_clean_train[11849])"
   ]
  },
  {
   "cell_type": "code",
   "execution_count": 306,
   "id": "991b19dc",
   "metadata": {},
   "outputs": [
    {
     "name": "stdout",
     "output_type": "stream",
     "text": [
      "[9491] <5>\n",
      "[32797] <3>\n",
      "[32817] <7>\n"
     ]
    }
   ],
   "source": [
    "check_sentence_with_length(eng_clean_train, 1)"
   ]
  },
  {
   "cell_type": "code",
   "execution_count": 307,
   "id": "03cd553c",
   "metadata": {
    "scrolled": true
   },
   "outputs": [
    {
     "name": "stdout",
     "output_type": "stream",
     "text": [
      "5 어미니의 실수 \n",
      "3 그곳의 잔디는 생각했던 것보다 그렇게 푸르지 않았다 \n",
      "7 날씨는 언제나 번명의 수단이 될 수 있다 \n"
     ]
    }
   ],
   "source": [
    "print(kor_clean_train[9491])\n",
    "print(kor_clean_train[32797])\n",
    "print(kor_clean_train[32817])"
   ]
  },
  {
   "cell_type": "code",
   "execution_count": 308,
   "id": "47fd1073",
   "metadata": {
    "scrolled": false
   },
   "outputs": [
    {
     "name": "stdout",
     "output_type": "stream",
     "text": [
      "[6262] <1 >\n",
      "[6267] <2 >\n",
      "[6271] <3 >\n",
      "[6274] <4 >\n",
      "[8293] <면접>\n",
      "[8933] <음식>\n",
      "[8939] <햇빛>\n",
      "[10066] <과일>\n",
      "[10076] <양파>\n",
      "[13337] <4 >\n",
      "[13346] <6 >\n",
      "[77712] < 투>\n"
     ]
    }
   ],
   "source": [
    "check_sentence_with_length(kor_clean_train, 2)"
   ]
  },
  {
   "cell_type": "code",
   "execution_count": 309,
   "id": "ceb1f10d",
   "metadata": {},
   "outputs": [
    {
     "name": "stdout",
     "output_type": "stream",
     "text": [
      "1 i hated my last boss\n",
      "2 i don t know anything about the company\n",
      "3 no i don t have any questions for you\n",
      "it will come back and you ll make more money than in the bank\n"
     ]
    }
   ],
   "source": [
    "print(eng_clean_train[6262])\n",
    "print(eng_clean_train[6267])\n",
    "print(eng_clean_train[6271])\n",
    "print(eng_clean_train[77712])"
   ]
  },
  {
   "cell_type": "code",
   "execution_count": 310,
   "id": "7fae2c1f",
   "metadata": {},
   "outputs": [],
   "source": [
    "check_sentence_with_length(eng_clean_train, 2 )"
   ]
  },
  {
   "cell_type": "code",
   "execution_count": 311,
   "id": "5a9b8aba",
   "metadata": {
    "scrolled": true
   },
   "outputs": [
    {
     "name": "stdout",
     "output_type": "stream",
     "text": [
      "[27] <어휘 >\n",
      "[30] <어휘 >\n",
      "[282] <어휘 >\n",
      "[1456] <어휘 >\n",
      "[2226] <어휘 >\n",
      "[3003] <어휘 >\n",
      "[3100] <어휘 >\n",
      "[3104] <번역 >\n",
      "[3172] <어휘 >\n",
      "[3288] <번역 >\n",
      "[3289] <어휘 >\n",
      "[3291] <번역 >\n",
      "[3295] <번역 >\n",
      "[3329] <어휘 >\n",
      "[3366] <번역 >\n",
      "[3374] <어휘 >\n",
      "[3486] <번역 >\n",
      "[3557] <어휘 >\n",
      "[4393] <단장 >\n",
      "[4519] <인기 >\n",
      "[4758] <어휘 >\n",
      "[4833] <번역 >\n",
      "[5034] <번역 >\n",
      "[5065] <번역 >\n",
      "[5155] <사기 >\n",
      "[5218] <어휘 >\n",
      "[5220] <번역 >\n",
      "[5278] <어휘 >\n",
      "[5346] <어휘 >\n",
      "[5375] <번역 >\n",
      "[5494] <어휘 >\n",
      "[5495] <번역 >\n",
      "[5514] <어휘 >\n",
      "[5596] <번역 >\n",
      "[5742] <어휘 >\n",
      "[5778] <번역 >\n",
      "[5782] <어휘 >\n",
      "[5791] <번역 >\n",
      "[5800] <번역 >\n",
      "[9912] < 장소>\n",
      "[10134] <코브 >\n",
      "[10147] <코브 >\n",
      "[21064] <버뮤다>\n",
      "[22515] < 쇼핑>\n",
      "[26703] <첫째날>\n",
      "[26710] <둘째날>\n",
      "[32795] <교훈 >\n",
      "[32802] <교훈 >\n",
      "[64692] <이벤트>\n",
      "[67263] <프린트>\n",
      "[70858] <이벤트>\n",
      "[72748] < 독해>\n",
      "[73136] < 흡입>\n",
      "[73677] < 독해>\n",
      "[73825] < 임명>\n",
      "[73872] < 주가>\n",
      "[74049] < 결의>\n",
      "[74182] < 사전>\n",
      "[74663] < 시청>\n",
      "[74910] < 독해>\n",
      "[75189] < 사전>\n",
      "[75214] < 우파>\n",
      "[75973] < 참패>\n",
      "[75984] < 및 >\n",
      "[76096] < 독해>\n",
      "[76171] < 매춘>\n",
      "[76185] < 위기>\n",
      "[76756] < 주주>\n",
      "[77188] < 양보>\n",
      "[77258] < 사전>\n",
      "[77726] < 독해>\n",
      "[78030] < 표준>\n",
      "[78979] < 독해>\n",
      "[79596] < 중령>\n",
      "[79637] < 의회>\n",
      "[80006] <통계청>\n",
      "[80338] < 독해>\n",
      "[80396] < 독해>\n",
      "[80421] < 방화>\n",
      "[80722] < 업계>\n",
      "[80779] < 양보>\n",
      "[80808] < 독해>\n",
      "[81311] < 독해>\n",
      "[81434] < 독설>\n",
      "[82455] < 독해>\n",
      "[82563] < 실직>\n",
      "[82829] < 사전>\n",
      "[83995] < 독해>\n",
      "[85167] < 법정>\n",
      "[85477] < 한편>\n",
      "[87064] < 사전>\n",
      "[87674] < 인권>\n",
      "[88385] < 사전>\n",
      "[88443] <감사원>\n",
      "[89761] < 상선>\n",
      "[90203] <철도청>\n",
      "[90823] < 사전>\n",
      "[91619] < 인질>\n",
      "[92551] <단어장>\n",
      "[92784] < 독해>\n",
      "[93500] < 사전>\n"
     ]
    }
   ],
   "source": [
    "check_sentence_with_length(kor_clean_train, 3)"
   ]
  },
  {
   "cell_type": "code",
   "execution_count": 312,
   "id": "02a1aacd",
   "metadata": {},
   "outputs": [
    {
     "name": "stdout",
     "output_type": "stream",
     "text": [
      "the geneva based commission in its annual study of the industry titled world robotics 2001 said a record 100 000 robots were installed last year up 25 percent on 1999\n",
      "postal service whose postmaster told a senate panel that the financial impact of the anthrax crisis could be several billion dollars uses robots to sort parcels but other automated equipment sorts letters\n",
      "the united states will take every measure against what is perhaps greatest danger of all that may result from hostile states or terrorist groups armed with weapons of mass destruction bush said in a written statement\n"
     ]
    }
   ],
   "source": [
    "print(eng_clean_train[27])\n",
    "print(eng_clean_train[30])\n",
    "print(eng_clean_train[282])"
   ]
  },
  {
   "cell_type": "markdown",
   "id": "d235ce0a",
   "metadata": {},
   "source": [
    "** kor-eng set으로 null이거나 의미없는 문장은 삭제한다 **"
   ]
  },
  {
   "cell_type": "code",
   "execution_count": 313,
   "id": "27efae8d",
   "metadata": {},
   "outputs": [
    {
     "data": {
      "text/plain": [
       "(94123, 2)"
      ]
     },
     "execution_count": 313,
     "metadata": {},
     "output_type": "execute_result"
    }
   ],
   "source": [
    "import pandas as pd\n",
    "\n",
    "df_train = pd.DataFrame({\n",
    "    'kor': kor_clean_train,\n",
    "    'eng': eng_clean_train\n",
    "})\n",
    "df_train.shape"
   ]
  },
  {
   "cell_type": "code",
   "execution_count": 314,
   "id": "9da36fc1",
   "metadata": {},
   "outputs": [
    {
     "data": {
      "text/plain": [
       "<bound method NDFrame.head of                                                      kor  \\\n",
       "0                   개인용 컴퓨터 사용의 상당 부분은 이것보다 뛰어날 수 있느냐 ?    \n",
       "1      모든 광마우스와 마찬가지 로 이 광마우스도 책상 위에 놓는 마우스 패드를 필요로 하...   \n",
       "2                             그러나 이것은 또한 책상도 필요로 하지 않는다    \n",
       "3      79 95달러하는 이 최첨단 무선 광마우스는 허공에서 팔목 팔 그외에 어떤 부분이든...   \n",
       "4      정보 관리들은 동남 아시아에서의 선박들에 대한 많은 테러 계획들이 실패로 돌아갔음을...   \n",
       "...                                                  ...   \n",
       "94118   우리는 3월 8일 김승연 회장과 그의 아들이 보복폭행에 가담한 혐의를 찾기 위해 ...   \n",
       "94119   월요일 술집 종업원 6명은 김회장과 아들에게 폭행을 당했음을 진술했다고 경찰은 말했다    \n",
       "94120                       그러나 불충분한 증거 확보로 수사에 어려움이 있다    \n",
       "94121                  김회장과 그의 아들은 보복폭행 혐의를 강력히 부인하고 있다    \n",
       "94122  경찰은 김회장의 집무실에서 추가 증거를 찾은 이후 가능한 한 오늘 김회장과 아들을 ...   \n",
       "\n",
       "                                                     eng  \n",
       "0      much of personal computing is about can you to...  \n",
       "1      so a mention a few weeks ago about a rechargea...  \n",
       "2      like all optical mice but it also doesn t need...  \n",
       "3      uses gyroscopic sensors to control the cursor ...  \n",
       "4      intelligence officials have revealed a spate o...  \n",
       "...                                                  ...  \n",
       "94118  we are hoping to seize material evidence to pr...  \n",
       "94119  on monday police secured statements from six v...  \n",
       "94120  but the lack of material evidence is making it...  \n",
       "94121          kim and his son both deny the allegations  \n",
       "94122  police are planning to seek arrest warrants fo...  \n",
       "\n",
       "[94123 rows x 2 columns]>"
      ]
     },
     "execution_count": 314,
     "metadata": {},
     "output_type": "execute_result"
    }
   ],
   "source": [
    "df_train.head"
   ]
  },
  {
   "cell_type": "code",
   "execution_count": 315,
   "id": "930b4bee",
   "metadata": {},
   "outputs": [
    {
     "data": {
      "text/plain": [
       "(2000, 2)"
      ]
     },
     "execution_count": 315,
     "metadata": {},
     "output_type": "execute_result"
    }
   ],
   "source": [
    "import pandas as pd\n",
    "\n",
    "df_test = pd.DataFrame({\n",
    "    'kor': kor_clean_test,\n",
    "    'eng': eng_clean_test\n",
    "})\n",
    "df_test.shape"
   ]
  },
  {
   "cell_type": "markdown",
   "id": "b314445b",
   "metadata": {},
   "source": [
    "**중복제거**"
   ]
  },
  {
   "cell_type": "code",
   "execution_count": 316,
   "id": "e1e0ef27",
   "metadata": {},
   "outputs": [
    {
     "name": "stdout",
     "output_type": "stream",
     "text": [
      "kor 열에서 중복을 배제한 유일한 샘플의 수 : 77382\n",
      "eng 열에서 중복을 배제한 유일한 샘플의 수 : 75550\n"
     ]
    }
   ],
   "source": [
    "print('kor 열에서 중복을 배제한 유일한 샘플의 수 :', df_train['kor'].nunique())\n",
    "print('eng 열에서 중복을 배제한 유일한 샘플의 수 :', df_train['eng'].nunique())"
   ]
  },
  {
   "cell_type": "code",
   "execution_count": 317,
   "id": "51151469",
   "metadata": {},
   "outputs": [],
   "source": [
    "def drop_garbage_text(df) : \n",
    "    \n",
    "\n",
    "    # 조건 1: 문자열 길이가 0인 경우 제거\n",
    "    df = df[ (df['kor'].str.len() > 0) & (df['eng'].str.len() > 0) ]\n",
    "\n",
    "    # 조건 2: 길이가 1이고, 공백인 경우 제거\n",
    "    df = df[ ~((df['kor'].str.len() == 1) & (df['kor'].str.strip() == '')) ]\n",
    "    df = df[ ~((df['eng'].str.len() == 1) & (df['eng'].str.strip() == '')) ]\n",
    "\n",
    "    # 조건 3: 길이가 2이하이고 , 숫자로 시작하는 경우 제거\n",
    "    df = df[~((df['kor'].str.len() <= 2) & (df['kor'].str.match(r'^\\d')))]\n",
    "    df = df[~((df['eng'].str.len() <= 2) & (df['eng'].str.match(r'^\\d')))]\n",
    "   \n",
    "    df = df[~df['kor'].str.fullmatch(r'\\s?\\d\\s?')]\n",
    "    df = df[~df['eng'].str.fullmatch(r'\\s?\\d\\s?')]\n",
    "    \n",
    "     \n",
    "    # 조건 4: 문장이 단일 구두점 (예: \"?\", \"!\") 만 있는 경우 제거\n",
    "    remove_tokens = ['?', '!', '.', ',', '?!', '!?']\n",
    "    df = df[~df['kor'].str.strip().isin(remove_tokens)]\n",
    "    df = df[~df['eng'].str.strip().isin(remove_tokens)]\n",
    "    \n",
    "    # 조건 5: 'kor' , 'eng' 기준 중복 제거\n",
    "    df = df.drop_duplicates(subset='kor', keep='first')\n",
    "    df = df.drop_duplicates(subset='eng', keep='first')\n",
    "    \n",
    "    df.reset_index(drop=True)\n",
    "    \n",
    "    return df"
   ]
  },
  {
   "cell_type": "code",
   "execution_count": 318,
   "id": "3c3a0369",
   "metadata": {},
   "outputs": [
    {
     "data": {
      "text/plain": [
       "(74697, 2)"
      ]
     },
     "execution_count": 318,
     "metadata": {},
     "output_type": "execute_result"
    }
   ],
   "source": [
    "df_train = drop_garbage_text( df_train )\n",
    "df_train.shape"
   ]
  },
  {
   "cell_type": "code",
   "execution_count": 319,
   "id": "6c949d75",
   "metadata": {
    "scrolled": true
   },
   "outputs": [
    {
     "data": {
      "text/plain": [
       "(1937, 2)"
      ]
     },
     "execution_count": 319,
     "metadata": {},
     "output_type": "execute_result"
    }
   ],
   "source": [
    "df_test = drop_garbage_text( df_test )\n",
    "df_test.shape"
   ]
  },
  {
   "cell_type": "markdown",
   "id": "1cf86a66",
   "metadata": {},
   "source": [
    "**Null값 확인**"
   ]
  },
  {
   "cell_type": "code",
   "execution_count": 320,
   "id": "28ec12fa",
   "metadata": {},
   "outputs": [
    {
     "name": "stdout",
     "output_type": "stream",
     "text": [
      "kor    0\n",
      "eng    0\n",
      "dtype: int64\n",
      "전체 샘플수 : 74697\n"
     ]
    }
   ],
   "source": [
    "# 빈 값을 Null 값으로 변환\n",
    "print(df_train.isnull().sum())\n",
    "\n",
    "df_train.dropna(axis=0, inplace=True)\n",
    "print('전체 샘플수 :', (len(df_train)))"
   ]
  },
  {
   "cell_type": "code",
   "execution_count": 321,
   "id": "1b60f198",
   "metadata": {},
   "outputs": [
    {
     "name": "stdout",
     "output_type": "stream",
     "text": [
      "kor    0\n",
      "eng    0\n",
      "dtype: int64\n",
      "전체 샘플수 : 1937\n"
     ]
    }
   ],
   "source": [
    "print(df_test.isnull().sum())\n",
    "\n",
    "df_test.dropna(axis=0, inplace=True)\n",
    "print('전체 샘플수 :', (len(df_test)))"
   ]
  },
  {
   "cell_type": "code",
   "execution_count": 322,
   "id": "c2b483a7",
   "metadata": {},
   "outputs": [],
   "source": [
    "check_sentence_with_length( df_train['kor'], 0)"
   ]
  },
  {
   "cell_type": "code",
   "execution_count": 323,
   "id": "b1149a91",
   "metadata": {},
   "outputs": [],
   "source": [
    "check_sentence_with_length( df_train['kor'], 1)"
   ]
  },
  {
   "cell_type": "code",
   "execution_count": 324,
   "id": "cba887fe",
   "metadata": {
    "scrolled": false
   },
   "outputs": [
    {
     "name": "stdout",
     "output_type": "stream",
     "text": [
      "[8248] <면접>\n",
      "[8885] <음식>\n",
      "[8891] <햇빛>\n",
      "[10009] <과일>\n",
      "[10017] <양파>\n"
     ]
    }
   ],
   "source": [
    "check_sentence_with_length( df_train['kor'], 2)"
   ]
  },
  {
   "cell_type": "code",
   "execution_count": 325,
   "id": "bcb0d272",
   "metadata": {
    "scrolled": true
   },
   "outputs": [
    {
     "name": "stdout",
     "output_type": "stream",
     "text": [
      "[27] <어휘 >\n",
      "[3098] <번역 >\n",
      "[4377] <단장 >\n",
      "[4503] <인기 >\n",
      "[5135] <사기 >\n",
      "[9856] < 장소>\n",
      "[10073] <코브 >\n",
      "[20922] <버뮤다>\n",
      "[22368] < 쇼핑>\n",
      "[26510] <첫째날>\n",
      "[26517] <둘째날>\n",
      "[32573] <교훈 >\n",
      "[56375] < 독해>\n",
      "[56721] < 흡입>\n",
      "[57628] < 사전>\n",
      "[59213] < 및 >\n",
      "[59879] < 주주>\n",
      "[62321] < 중령>\n",
      "[62670] <통계청>\n",
      "[69907] <감사원>\n",
      "[71390] <철도청>\n"
     ]
    }
   ],
   "source": [
    "check_sentence_with_length( df_train['kor'], 3)"
   ]
  },
  {
   "cell_type": "code",
   "execution_count": 326,
   "id": "8a144199",
   "metadata": {},
   "outputs": [
    {
     "name": "stdout",
     "output_type": "stream",
     "text": [
      "[8343] <men>\n"
     ]
    }
   ],
   "source": [
    "check_sentence_with_length( df_train['eng'], 3)"
   ]
  },
  {
   "cell_type": "markdown",
   "id": "0b554799",
   "metadata": {},
   "source": [
    "**정제후 길이분포 확인**"
   ]
  },
  {
   "cell_type": "code",
   "execution_count": 327,
   "id": "8b87ff57",
   "metadata": {
    "scrolled": true
   },
   "outputs": [
    {
     "name": "stdout",
     "output_type": "stream",
     "text": [
      "한국어의 최소 길이 : 2\n",
      "한국어의 최대 길이 : 244\n",
      "한국어의 평균 길이 : 61.87706333587694\n",
      "영어의 최소 길이   : 3\n",
      "영어의 최대 길이   : 600\n",
      "영여의 평균 길이   : 132.304403121946\n"
     ]
    },
    {
     "data": {
      "image/png": "[encoded data removed]",
      "text/plain": [
       "<Figure size 432x288 with 2 Axes>"
      ]
     },
     "metadata": {
      "needs_background": "light"
     },
     "output_type": "display_data"
    },
    {
     "data": {
      "image/png": "[encoded data removed]",
      "text/plain": [
       "<Figure size 432x288 with 1 Axes>"
      ]
     },
     "metadata": {
      "needs_background": "light"
     },
     "output_type": "display_data"
    },
    {
     "data": {
      "image/png": "[encoded data removed]",
      "text/plain": [
       "<Figure size 432x288 with 1 Axes>"
      ]
     },
     "metadata": {
      "needs_background": "light"
     },
     "output_type": "display_data"
    }
   ],
   "source": [
    "# 길이 분포 출력\n",
    "import matplotlib.pyplot as plt\n",
    "\n",
    "kor_len = [len(str) for str in df_train['kor']]\n",
    "eng_len = [len(str) for str in df_train['eng']]\n",
    "\n",
    "print('한국어의 최소 길이 : {}'.format(np.min(kor_len)))\n",
    "print('한국어의 최대 길이 : {}'.format(np.max(kor_len)))\n",
    "print('한국어의 평균 길이 : {}'.format(np.mean(kor_len)))\n",
    "print('영어의 최소 길이   : {}'.format(np.min(eng_len)))\n",
    "print('영어의 최대 길이   : {}'.format(np.max(eng_len)))\n",
    "print('영여의 평균 길이   : {}'.format(np.mean(eng_len)))\n",
    "\n",
    "plt.subplot(1,2,1)\n",
    "plt.boxplot(kor_len)\n",
    "plt.title('kor')\n",
    "plt.subplot(1,2,2)\n",
    "plt.boxplot(eng_len)\n",
    "plt.title('eng')\n",
    "plt.tight_layout()\n",
    "plt.show()\n",
    "\n",
    "plt.title('kor')\n",
    "plt.hist(kor_len, bins = 40)\n",
    "plt.xlabel('length of samples')\n",
    "plt.ylabel('number of samples')\n",
    "plt.show()\n",
    "\n",
    "plt.title('eng')\n",
    "plt.hist(eng_len, bins = 40)\n",
    "plt.xlabel('length of samples')\n",
    "plt.ylabel('number of samples')\n",
    "plt.show()"
   ]
  },
  {
   "cell_type": "code",
   "execution_count": 328,
   "id": "fd0a0509",
   "metadata": {},
   "outputs": [
    {
     "name": "stdout",
     "output_type": "stream",
     "text": [
      "전체 샘플 중 길이가 50 이하인 샘플의 비율: 0.349 (총 26090개)\n",
      "전체 샘플 중 길이가 100 이하인 샘플의 비율: 0.327 (총 24399개)\n"
     ]
    }
   ],
   "source": [
    "kor_max_len = 50\n",
    "eng_max_len = 100\n",
    "\n",
    "def below_threshold_len(max_len, nested_list):\n",
    "    cnt = 0\n",
    "    for s in nested_list:\n",
    "        if(len(s) <= max_len):\n",
    "            cnt = cnt + 1\n",
    "\n",
    "    ratio = cnt / len(nested_list)\n",
    "    print(\"전체 샘플 중 길이가 {} 이하인 샘플의 비율: {:.3f} (총 {}개)\".format(max_len, ratio, int(len(nested_list) * ratio)))\n",
    "\n",
    "\n",
    "below_threshold_len(kor_max_len, df_train['kor'])\n",
    "below_threshold_len(eng_max_len,  df_train['eng'])\n"
   ]
  },
  {
   "cell_type": "markdown",
   "id": "33755657",
   "metadata": {},
   "source": [
    "### 토큰화"
   ]
  },
  {
   "cell_type": "code",
   "execution_count": 329,
   "id": "e77da01e",
   "metadata": {},
   "outputs": [],
   "source": [
    "# 한글 토큰화는 KoNLPy의 mecab 클래스\n",
    "from konlpy.tag import Mecab\n",
    "\n",
    "mecab = Mecab()\n",
    "\n",
    "def mecab_split(sentence):  \n",
    "    return mecab.morphs(sentence)"
   ]
  },
  {
   "cell_type": "code",
   "execution_count": 330,
   "id": "25653926",
   "metadata": {},
   "outputs": [
    {
     "name": "stdout",
     "output_type": "stream",
     "text": [
      "조건을 만족하는 행의 개수: 62165\n"
     ]
    }
   ],
   "source": [
    "kor_max_token = 40\n",
    "eng_max_token = 40\n",
    "\n",
    "count = 0\n",
    "\n",
    "for _, row in df_train.iterrows():\n",
    "    kor = row['kor']\n",
    "    eng = row['eng']\n",
    "    \n",
    "    kor_len = len(mecab.morphs(kor))\n",
    "    eng_len = len(eng.strip().split())\n",
    "       \n",
    "    if kor_len <= kor_max_token and eng_len <= eng_max_token:\n",
    "        count += 1\n",
    "\n",
    "print(f\"조건을 만족하는 행의 개수: {count}\")"
   ]
  },
  {
   "cell_type": "code",
   "execution_count": 331,
   "id": "7dbd7ca0",
   "metadata": {},
   "outputs": [
    {
     "name": "stdout",
     "output_type": "stream",
     "text": [
      "enc_corpus 길이: 62160\n",
      "dec_corpus 길이: 62160\n",
      "Korean: ['만일', '우리', '가', '그렇게', '하', '면', '우리', '다음', '세대', '는', '더욱', '게을러', '질', '것', '입니다', '라고', '말', '했', '다']\n",
      "English: ['<start>', 'if', 'we', 'do', 'the', 'next', 'generation', 'will', 'become', 'even', 'lazier', '<end>']\n"
     ]
    }
   ],
   "source": [
    "# 모든 데이터를 사용할 경우 학습에 굉장히 오랜 시간이 걸립니다. \n",
    "# cleaned_corpus로부터 토큰의 길이가 40 이하인 데이터를 선별하여 eng_corpus와 kor_corpus를 각각 구축하세요.\n",
    "enc_corpus = []\n",
    "dec_corpus = []\n",
    "\n",
    "kor_max_token = 40\n",
    "eng_max_token = 40\n",
    "\n",
    "for _, row in df_train.iterrows():\n",
    "    kor = row['kor']\n",
    "    eng = row['eng']\n",
    "\n",
    "    if len(kor) <= 2 or len(eng) <= 2:\n",
    "        continue\n",
    "    \n",
    "    kor_len = len(mecab.morphs(kor))\n",
    "    eng_len = len(eng.strip().split())\n",
    "    \n",
    "    if kor_len <= kor_max_token and eng_len <= eng_max_token:\n",
    "        # 한글은 mecab 토큰화\n",
    "        enc_corpus.append(mecab_split(kor))\n",
    "    \n",
    "        # 영어는 공백 기반 토큰화 + 시작 토근과 종료 토큰 추가\n",
    "        eng = \"<start> \" + eng + \" <end>\"   \n",
    "        dec_corpus.append( eng.split())\n",
    "\n",
    "print(\"enc_corpus 길이:\", len(enc_corpus))\n",
    "print(\"dec_corpus 길이:\", len(dec_corpus))\n",
    "\n",
    "print(\"Korean:\", enc_corpus[100]) \n",
    "print(\"English:\", dec_corpus[100])   \n"
   ]
  },
  {
   "cell_type": "code",
   "execution_count": 332,
   "id": "1483904b",
   "metadata": {},
   "outputs": [],
   "source": [
    "\n",
    "def tokenize(corpus, max_seq_len):\n",
    "    tokenizer = tf.keras.preprocessing.text.Tokenizer(filters='')\n",
    "    tokenizer.fit_on_texts(corpus)\n",
    "\n",
    "    tensor = tokenizer.texts_to_sequences(corpus)\n",
    "\n",
    "    tensor = tf.keras.preprocessing.sequence.pad_sequences(tensor, maxlen=max_seq_len, padding='post') \n",
    "    # max token으로 짤랐으므로 max_len은 안해도 됨\n",
    "\n",
    "    return tensor, tokenizer"
   ]
  },
  {
   "cell_type": "code",
   "execution_count": 333,
   "id": "f8e4289d",
   "metadata": {
    "scrolled": true
   },
   "outputs": [
    {
     "name": "stdout",
     "output_type": "stream",
     "text": [
      "훈련 데이터 개수: 49728\n",
      "검증 데이터 개수: 12432\n"
     ]
    }
   ],
   "source": [
    "# 토큰화하기\n",
    "# train_test_split을 활용해서 훈련 데이터와 검증 데이터로 분리하기\n",
    "# 1. 토큰화\n",
    "input_tensor, enc_tokenizer = tokenize(enc_corpus, kor_max_token)      # 한글 문장\n",
    "target_tensor, dec_tokenizer = tokenize(dec_corpus, eng_max_token+2)    # 영어 문장\n",
    "\n",
    "# 2. 훈련/검증 데이터 분할\n",
    "input_train, input_val, target_train, target_val = train_test_split(\n",
    "    input_tensor, target_tensor, test_size=0.2, random_state=42\n",
    ")\n",
    "\n",
    "# 3. 확인\n",
    "print(f\"훈련 데이터 개수: {len(input_train)}\")\n",
    "print(f\"검증 데이터 개수: {len(input_val)}\")"
   ]
  },
  {
   "cell_type": "code",
   "execution_count": 334,
   "id": "15578d08",
   "metadata": {},
   "outputs": [
    {
     "name": "stdout",
     "output_type": "stream",
     "text": [
      "enc_tokenizer.word_index : 39231\n",
      "dec_tokenizer.word_index : 41220\n"
     ]
    }
   ],
   "source": [
    "print('enc_tokenizer.word_index :', len(enc_tokenizer.word_index))\n",
    "print('dec_tokenizer.word_index :', len(dec_tokenizer.word_index))\n",
    "SRC_VOCAB_SIZE = len(enc_tokenizer.index_word) + 1\n",
    "TGT_VOCAB_SIZE = len(dec_tokenizer.index_word) + 1"
   ]
  },
  {
   "cell_type": "markdown",
   "id": "e3a85e3b",
   "metadata": {},
   "source": [
    "**학습샘플줄이기**"
   ]
  },
  {
   "cell_type": "code",
   "execution_count": 335,
   "id": "d7aa4d5f",
   "metadata": {},
   "outputs": [],
   "source": [
    "#train_input = train_input[:10000]\n",
    "#train_target = train_target[:10000]"
   ]
  },
  {
   "cell_type": "markdown",
   "id": "2928128d",
   "metadata": {},
   "source": [
    "**Vocab 단어 크기**\n",
    "- 한국어 : 3만9천\n",
    "- 영어 : 4만1천 \n",
    "\n",
    "* 단어장 크기 제한은 없는 걸로??"
   ]
  },
  {
   "cell_type": "markdown",
   "id": "16e19aa5",
   "metadata": {},
   "source": [
    "## Attention 기반 Seq2seq 모델을 설계\n",
    "\n",
    "- Dropout 모듈을 추가하면 성능이 더 좋아집니다! \n",
    "- Embedding Size와 Hidden Size는 실험을 통해 적당한 값을 맞춰 주도록 합니다!"
   ]
  },
  {
   "cell_type": "code",
   "execution_count": 336,
   "id": "19080db0",
   "metadata": {},
   "outputs": [],
   "source": [
    "class BahdanauAttention(tf.keras.layers.Layer):\n",
    "    def __init__(self, units):\n",
    "        super(BahdanauAttention, self).__init__()\n",
    "        self.w_dec = tf.keras.layers.Dense(units)\n",
    "        self.w_enc = tf.keras.layers.Dense(units)\n",
    "        self.w_com = tf.keras.layers.Dense(1)\n",
    "    \n",
    "    def call(self, h_enc, h_dec):\n",
    "        # h_enc shape: [batch x length x units]\n",
    "        # h_dec shape: [batch x units]\n",
    "\n",
    "        h_enc = self.w_enc(h_enc)\n",
    "        h_dec = tf.expand_dims(h_dec, 1)\n",
    "        h_dec = self.w_dec(h_dec)\n",
    "\n",
    "        score = self.w_com(tf.nn.tanh(h_dec + h_enc))\n",
    "        \n",
    "        attn = tf.nn.softmax(score, axis=1)\n",
    "\n",
    "        context_vec = attn * h_enc\n",
    "        context_vec = tf.reduce_sum(context_vec, axis=1)\n",
    "\n",
    "        return context_vec, attn\n",
    "\n"
   ]
  },
  {
   "cell_type": "code",
   "execution_count": 337,
   "id": "04d09a17",
   "metadata": {},
   "outputs": [],
   "source": [
    "class Encoder(tf.keras.Model):\n",
    "    def __init__(self, vocab_size, embedding_dim, enc_units, dropout):\n",
    "        super(Encoder, self).__init__()\n",
    "        self.enc_units = enc_units\n",
    "        \n",
    "        # 임베딩 \n",
    "        self.embedding = tf.keras.layers.Embedding(vocab_size, embedding_dim)\n",
    "       \n",
    "        # GRU 층\n",
    "        self.gru = tf.keras.layers.GRU(\n",
    "            enc_units,\n",
    "            return_sequences=True,   # 전체 시퀀스 hidden state 반환 (Attention용)\n",
    "            return_state=True,       # 마지막 hidden state 반환\n",
    "            recurrent_initializer='glorot_uniform'\n",
    "        )\n",
    "        \n",
    "        self.dropout = tf.keras.layers.Dropout(dropout)\n",
    "        \n",
    "    def call(self, x, hidden_state=None):     \n",
    "        emb = self.embedding(x)  # [batch, seq_len, embedding_dim]\n",
    "\n",
    "        # 초기 상태가 없다면 0으로 초기화\n",
    "        if hidden_state is None:\n",
    "            hidden_state = self.initialize_hidden_state(batch_size=tf.shape(emb)[0])\n",
    "                    \n",
    "        enc_output,state = self.gru(emb, initial_state=hidden_state) # state: [batch, enc_units]\n",
    "        \n",
    "        enc_output = self.dropout(enc_output)\n",
    "       \n",
    "        # 인코더의 모든 time step의 hidden states [batch, seq_len, units]\n",
    "        return enc_output  # ← 단일 텐서만 반환!  \n",
    "        \n",
    "    \n",
    "    def initialize_hidden_state(self, batch_size):\n",
    "        return [tf.zeros((batch_size, self.enc_units))]"
   ]
  },
  {
   "cell_type": "code",
   "execution_count": 338,
   "id": "ef12931b",
   "metadata": {},
   "outputs": [],
   "source": [
    "class Decoder(tf.keras.Model):\n",
    "    def __init__(self, vocab_size, embedding_dim, dec_units, dropout):\n",
    "        super(Decoder, self).__init__()\n",
    "        \n",
    "        self.dec_units = dec_units\n",
    "        \n",
    "        # 임베딩 \n",
    "        self.embedding = tf.keras.layers.Embedding(vocab_size, embedding_dim)\n",
    "        \n",
    "        # TODO: Awesome Decoder Modules\n",
    "        self.attention = BahdanauAttention( dec_units)   # Attention 필수 사용!\n",
    "                   \n",
    "        # GRU 층\n",
    "        self.gru = tf.keras.layers.GRU(\n",
    "            dec_units,\n",
    "            return_sequences=True,   # 전체 시퀀스 hidden state 반환 (Attention용)\n",
    "            return_state=True,       # 마지막 hidden state 반환\n",
    "            recurrent_initializer='glorot_uniform'\n",
    "        )\n",
    "        \n",
    "        self.dropout = tf.keras.layers.Dropout(dropout)\n",
    "        \n",
    "        self.fc = tf.keras.layers.Dense(vocab_size)  # 출력 단어 예측용\n",
    "\n",
    "    def call(self, x, h_dec, enc_out):      \n",
    "        # 1. 디코더 입력 임베딩\n",
    "        x = self.embedding(x)  # [batch, 1, embedding_dim]\n",
    "        \n",
    "        # 2. Attention 계산 (self, h_enc, h_dec):\n",
    "        context_vector, attention_weights = self.attention(enc_out, h_dec)  # context: [batch, enc_units]\n",
    "\n",
    "        # 3. context_vector와 임베딩 결합\n",
    "        x = tf.concat([tf.expand_dims(context_vector, 1), x], axis=-1)  # [batch, 1, embedding_dim + enc_units]\n",
    "\n",
    "        # 4. GRU 통과\n",
    "        output, state = self.gru(x)  # output: [batch, 1, dec_units]\n",
    "\n",
    "        # 5. Dropout\n",
    "        output = self.dropout(output)\n",
    "        \n",
    "        # 6. 출력 단어 예측\n",
    "        output = tf.reshape(output, (-1, output.shape[2]))  # [batch, dec_units]\n",
    "        x = self.fc(output)  # [batch, vocab_size]\n",
    "        \n",
    "        return x, state, attention_weights"
   ]
  },
  {
   "cell_type": "code",
   "execution_count": 339,
   "id": "ece03b4a",
   "metadata": {},
   "outputs": [],
   "source": [
    "optimizer = tf.keras.optimizers.Adam()\n",
    "loss_object = tf.keras.losses.SparseCategoricalCrossentropy(\n",
    "    from_logits=True, reduction='none')\n",
    "    # from_logits=True: y_pred가 softmax 되기 전 값 (logits : softmax를 거치기 직전값)이기 때문\n",
    "    # → 손실 함수 내부에서 softmax를 자동으로 처리\n",
    "    # reduction='none': 손실을 일괄 평균하지 않고, 토큰마다 개별 손실 계산\n",
    "    # → 나중에 마스크를 씌워서 패딩 위치 손실은 제거할 수 있게 함\n",
    "\n",
    "def loss_function(real, pred):\n",
    "    mask = tf.math.logical_not(tf.math.equal(real, 0)) # 패딩(0) 위치는 False\n",
    "    loss = loss_object(real, pred)\n",
    "    \n",
    "    mask = tf.cast(mask, dtype=loss.dtype)             # Boolean mask → float32\n",
    "    loss *= mask                                       # 패딩 위치는 손실 0으로 만듦\n",
    "    \n",
    "    return tf.reduce_mean(loss)"
   ]
  },
  {
   "cell_type": "code",
   "execution_count": 340,
   "id": "cd098b1d",
   "metadata": {},
   "outputs": [],
   "source": [
    "# 모델 정의\n",
    "\n",
    "BATCH_SIZE    = 32\n",
    "units         = 512  #attention dense unit\n",
    "embedding_dim = 512\n",
    "dropout       = 0.3\n",
    "\n",
    "encoder = Encoder(SRC_VOCAB_SIZE, embedding_dim, units, dropout)\n",
    "decoder = Decoder(TGT_VOCAB_SIZE, embedding_dim, units, dropout)"
   ]
  },
  {
   "cell_type": "markdown",
   "id": "c6fd0bfd",
   "metadata": {},
   "source": [
    "**Test이타**"
   ]
  },
  {
   "cell_type": "markdown",
   "id": "91a437b3",
   "metadata": {},
   "source": [
    "**훈련 Step**"
   ]
  },
  {
   "cell_type": "code",
   "execution_count": 342,
   "id": "e7e2926a",
   "metadata": {},
   "outputs": [],
   "source": [
    "@tf.function\n",
    "def train_step(src, tgt, encoder, decoder, optimizer, dec_tok):\n",
    "    batch_size = src.shape[0]\n",
    "    loss = 0\n",
    "\n",
    "    with tf.GradientTape() as tape:\n",
    "        enc_out = encoder(src)\n",
    "        h_dec = enc_out[:, -1]   # 마지막 time step의 hidden state를 디코더 초기값으로 사용\n",
    "        \n",
    "        # 디코더 입력 초기값: <start> 토큰\n",
    "        dec_src = tf.expand_dims([dec_tok.word_index['<start>']] * batch_size, 1)\n",
    "\n",
    "        for t in range(1, tgt.shape[1]):\n",
    "            pred, h_dec, _ = decoder(dec_src, h_dec, enc_out)\n",
    "\n",
    "            # 손실 누적 (teacher forcing)\n",
    "            loss += loss_function(tgt[:, t], pred)\n",
    "            # 다음 디코더 입력은 정답 (teacher forcing)\n",
    "            dec_src = tf.expand_dims(tgt[:, t], 1)\n",
    "        \n",
    "    batch_loss = (loss / int(tgt.shape[1]))\n",
    "\n",
    "    # 역전파 및 최적화\n",
    "    variables = encoder.trainable_variables + decoder.trainable_variables\n",
    "    gradients = tape.gradient(loss, variables)\n",
    "    optimizer.apply_gradients(zip(gradients, variables))\n",
    "    \n",
    "    return batch_loss"
   ]
  },
  {
   "cell_type": "markdown",
   "id": "0ef40bc0",
   "metadata": {},
   "source": [
    "**검증 Step**"
   ]
  },
  {
   "cell_type": "code",
   "execution_count": 343,
   "id": "135da352",
   "metadata": {},
   "outputs": [],
   "source": [
    "@tf.function\n",
    "def eval_step(src, tgt, encoder, decoder, dec_tok):\n",
    "    batch_size = src.shape[0]\n",
    "    loss = 0\n",
    "\n",
    "    enc_out = encoder(src)\n",
    "    h_dec = enc_out[:, -1]   # 마지막 time step의 hidden state를 디코더 초기값으로 사용\n",
    "        \n",
    "    # 디코더 입력 초기값: <start> 토큰\n",
    "    dec_src = tf.expand_dims([dec_tok.word_index['<start>']] * batch_size, 1)\n",
    "\n",
    "    for t in range(1, tgt.shape[1]):\n",
    "        pred, h_dec, _ = decoder(dec_src, h_dec, enc_out)\n",
    "\n",
    "        # 손실 누적 (teacher forcing)\n",
    "        loss += loss_function(tgt[:, t], pred)\n",
    "        # 다음 디코더 입력은 정답 (teacher forcing)\n",
    "        dec_src = tf.expand_dims(tgt[:, t], 1)\n",
    "        \n",
    "    batch_loss = (loss / int(tgt.shape[1]))\n",
    "  \n",
    "    return batch_loss\n",
    "\n"
   ]
  },
  {
   "cell_type": "code",
   "execution_count": 344,
   "id": "e655f8b4",
   "metadata": {},
   "outputs": [
    {
     "name": "stderr",
     "output_type": "stream",
     "text": [
      "Epoch  1: 100%|██████████| 1554/1554 [06:55<00:00,  3.74it/s, Loss 3.6894]\n",
      "Val Epoch  1: 100%|██████████| 389/389 [00:55<00:00,  6.97it/s, Val Loss 3.2815]"
     ]
    },
    {
     "name": "stdout",
     "output_type": "stream",
     "text": [
      "Epoch: 0 loss=3.6894 val_loss=3.2815\n"
     ]
    },
    {
     "name": "stderr",
     "output_type": "stream",
     "text": [
      "\n"
     ]
    }
   ],
   "source": [
    "from tqdm import tqdm    # tqdm은 훈련의 진행 과정을 한눈에 볼 수 있게 해주는 라이브러리\n",
    "import random\n",
    "\n",
    "\n",
    "EPOCHS = 1\n",
    "\n",
    "all_train_loss = []\n",
    "\n",
    "for epoch in range(EPOCHS):\n",
    "    \n",
    "    # train set\n",
    "    train_loss = 0\n",
    "    num_batches = 0\n",
    "    \n",
    "    idx_list = list(range(0, input_train.shape[0], BATCH_SIZE))\n",
    "    random.shuffle(idx_list)\n",
    "    t = tqdm(idx_list)    # tqdm\n",
    "\n",
    "    for (batch, idx) in enumerate(t):\n",
    "        batch_loss = train_step(input_train[idx:idx+BATCH_SIZE],\n",
    "                                target_train[idx:idx+BATCH_SIZE],\n",
    "                                encoder,\n",
    "                                decoder,\n",
    "                                optimizer,\n",
    "                                dec_tokenizer)\n",
    "    \n",
    "        train_loss += batch_loss\n",
    "        num_batches += 1\n",
    "  \n",
    "            \n",
    "        t.set_description_str('Train Epoch %2d' % (epoch + 1))    # tqdm\n",
    "        t.set_postfix_str('Loss %.4f' % (train_loss.numpy() / (batch + 1)))    # tqdm\n",
    "    \n",
    "    \n",
    "    \n",
    "    # validation set\n",
    "    val_loss = 0\n",
    "    val_batches = 0\n",
    "    \n",
    "    idx_list = list(range(0, input_val.shape[0], BATCH_SIZE))\n",
    "    random.shuffle(idx_list)\n",
    "    t = tqdm(idx_list)\n",
    "\n",
    "    for (test_batch, idx) in enumerate(t):\n",
    "        test_batch_loss = eval_step(input_val[idx:idx+BATCH_SIZE],\n",
    "                                    target_val[idx:idx+BATCH_SIZE],\n",
    "                                    encoder,\n",
    "                                    decoder,\n",
    "                                    dec_tokenizer)\n",
    "    \n",
    "        val_loss += test_batch_loss\n",
    "        val_batches += 1\n",
    "\n",
    "        t.set_description_str('Val   Epoch %2d' % (epoch + 1))\n",
    "        t.set_postfix_str('Val Loss %.4f' % (val_loss.numpy() / (test_batch + 1)))\n",
    "    \n",
    "    \n",
    "\n",
    "    all_train_loss.append ( {\n",
    "        'epochs' : epoch+1,\n",
    "        'loss' : train_loss.numpy()/num_batches,\n",
    "         'val_loss' : val_loss.numpy()/val_batches \n",
    "        })\n",
    "    \n",
    "    print(f\"Epoch: {epoch+1} loss={train_loss / num_batches:.4f} val_loss={val_loss / val_batches:.4f}\")"
   ]
  },
  {
   "cell_type": "code",
   "execution_count": 345,
   "id": "9192a2bf",
   "metadata": {},
   "outputs": [
    {
     "data": {
      "image/png": "[encoded data removed]",
      "text/plain": [
       "<Figure size 576x360 with 1 Axes>"
      ]
     },
     "metadata": {
      "needs_background": "light"
     },
     "output_type": "display_data"
    }
   ],
   "source": [
    "import matplotlib.pyplot as plt\n",
    "\n",
    "# 에폭과 손실 리스트 분리\n",
    "epochs = [entry['epochs'] for entry in all_train_loss]\n",
    "losses = [entry['loss'] for entry in all_train_loss]\n",
    "val_losses = [entry['val_loss'] for entry in all_train_loss]\n",
    "\n",
    "# 시각화\n",
    "plt.figure(figsize=(8, 5))\n",
    "plt.plot(epochs, losses, marker='o', color='blue', label='Train Loss')\n",
    "plt.plot(epochs, val_losses, marker='o', color='red', label='Validation Loss')\n",
    "plt.title('Training and Validation Loss Over Epochs')\n",
    "plt.xlabel('Epoch')\n",
    "plt.ylabel('Loss')\n",
    "plt.grid(True)\n",
    "plt.legend()\n",
    "plt.tight_layout()\n",
    "plt.show()"
   ]
  },
  {
   "cell_type": "markdown",
   "id": "83a40b3e",
   "metadata": {},
   "source": [
    "## Test"
   ]
  },
  {
   "cell_type": "code",
   "execution_count": 347,
   "id": "adce3413",
   "metadata": {},
   "outputs": [
    {
     "name": "stdout",
     "output_type": "stream",
     "text": [
      "enc_max_token 길이: 98\n",
      "dec_max_token 길이: 70\n",
      "enc_sequences 길이: 1937\n",
      "dec_sequences 길이: 1937\n",
      "Korean: ['인도네시아', '역사', '상', '최악', '의', '테러', '행위', '로', '묘사', '된', '강력', '한', '차량', '폭탄', '이', '발리', '의', '한', '나이트', '클럽', '을', '산산조각', '낸', '폭발', '의', '원인', '으로', '여겨', '지', '고', '있', '는데', '이', '폭발', '로', '200', '명', '가까운', '사람', '들', '이', '사망', '했으며', '그', '들', '대부분', '은', '호주인', '관광객', '들', '로', '여겨', '지', '고', '있', '다']\n",
      "English: ['<start>', 'described', 'as', 'the', 'worst', 'act', 'of', 'terrorism', 'in', 'indonesia', 's', 'history', 'a', 'massive', 'car', 'bomb', 'is', 'believed', 'responsible', 'for', 'a', 'blast', 'that', 'tore', 'through', 'a', 'nightclub', 'in', 'bali', 'killing', 'nearly', '200', 'people', 'most', 'of', 'them', 'thought', 'to', 'be', 'australian', 'tourists', '<end>']\n"
     ]
    }
   ],
   "source": [
    "# 1. 토큰화\n",
    "\n",
    "enc_sequences = []\n",
    "dec_sequences = []\n",
    "\n",
    "\n",
    "\n",
    "max_kor_len = 0\n",
    "max_eng_len = 0\n",
    "\n",
    "for _, row in df_test.iterrows():\n",
    "    kor = row['kor']\n",
    "    eng = row['eng']\n",
    "  \n",
    "    kor_len = len(mecab.morphs(kor))\n",
    "    if max_kor_len < kor_len : \n",
    "        max_kor_len = kor_len\n",
    "        \n",
    "    eng_len = len(eng.strip().split())\n",
    "    if max_eng_len < eng_len : \n",
    "        max_eng_len = eng_len\n",
    "    \n",
    "    # 한글은 mecab 토큰화\n",
    "    enc_sequences.append(mecab.morphs(kor))\n",
    "    \n",
    "    # 영어는 공백 기반 토큰화 + 시작 토근과 종료 토큰 추가\n",
    "    eng = \"<start> \" + eng + \" <end>\"   \n",
    "    dec_sequences.append( eng.split())\n",
    "    \n",
    "print(\"enc_max_token 길이:\", max_kor_len)\n",
    "print(\"dec_max_token 길이:\", max_eng_len)\n",
    "    \n",
    "print(\"enc_sequences 길이:\", len(enc_sequences))\n",
    "print(\"dec_sequences 길이:\", len(dec_sequences))\n",
    "\n",
    "print(\"Korean:\", enc_sequences[100]) \n",
    "print(\"English:\", dec_sequences[100])   \n",
    "\n",
    "# 2. 토큰 벡터\n",
    "#input_test, enc_test_tokenizer = tokenize(enc_sequences, max_kor_len)      # 한글 문장\n",
    "#target_test, dec_test_tokenizer = tokenize(dec_sequences, max_eng_len+2)    # 영어 문장\n",
    "\n",
    "#SRC_TEST_VOCAB_SIZE = len(enc_test_tokenizer.index_word) + 1\n",
    "#TGT_TEST_VOCAB_SIZE = len(dec_test_tokenizer.index_word) + 1\n",
    "\n",
    "#print('SRC_TEST_VOCAB_SIZE :', SRC_TEST_VOCAB_SIZE)\n",
    "#print('TGT_TEST_VOCAB_SIZE :', TGT_TEST_VOCAB_SIZE)\n",
    "\n",
    "# 3. \n",
    "#encoder_t = Encoder(SRC_TEST_VOCAB_SIZE, embedding_dim, units, dropout)\n",
    "#decoder_t = Decoder(TGT_TEST_VOCAB_SIZE, embedding_dim, units, dropout)\n",
    "\n",
    "input_test = enc_tokenizer.texts_to_sequences(enc_sequences)\n",
    "input_test = tf.keras.preprocessing.sequence.pad_sequences(input_test, maxlen=max_kor_len, padding='post')\n",
    "target_test = dec_tokenizer.texts_to_sequences(dec_sequences)\n",
    "target_test = tf.keras.preprocessing.sequence.pad_sequences(target_test, maxlen=max_kor_len, padding='post')"
   ]
  },
  {
   "cell_type": "code",
   "execution_count": 348,
   "id": "b07c62a0",
   "metadata": {
    "scrolled": true
   },
   "outputs": [
    {
     "name": "stderr",
     "output_type": "stream",
     "text": [
      "Val Epoch  1: 100%|██████████| 61/61 [01:19<00:00,  1.31s/it, Val Loss 1.5504]"
     ]
    },
    {
     "name": "stdout",
     "output_type": "stream",
     "text": [
      "Epoch: 0  lloss=1.5504\n"
     ]
    },
    {
     "name": "stderr",
     "output_type": "stream",
     "text": [
      "\n"
     ]
    }
   ],
   "source": [
    "EPOCHS = 1\n",
    "\n",
    "all_test_loss = []\n",
    "\n",
    "for epoch in range(EPOCHS):\n",
    "    # test set\n",
    "    test_loss = 0\n",
    "    test_batches = 0\n",
    "    \n",
    "    idx_list = list(range(0, input_test.shape[0], BATCH_SIZE))\n",
    "    random.shuffle(idx_list)\n",
    "    t = tqdm(idx_list)\n",
    "\n",
    "    for (test_batch, idx) in enumerate(t):\n",
    "        test_batch_loss = eval_step(input_test[idx:idx+BATCH_SIZE],\n",
    "                                    target_test[idx:idx+BATCH_SIZE],\n",
    "                                    encoder,\n",
    "                                    decoder,\n",
    "                                    dec_tokenizer)\n",
    "    \n",
    "        test_loss += test_batch_loss\n",
    "        test_batches += 1\n",
    "\n",
    "        t.set_description_str('Test Epoch %2d' % (epoch + 1))\n",
    "        t.set_postfix_str('Test Loss %.4f' % (test_loss.numpy() / (test_batch + 1)))\n",
    "    \n",
    "    \n",
    "\n",
    "    all_test_loss.append ( {\n",
    "        'epochs' : epoch+1,\n",
    "         'loss' : test_loss.numpy()/test_batches \n",
    "        })\n",
    "    \n",
    "    print(f\"Epoch: {epoch+1}  loss={test_loss / test_batches:.4f}\")"
   ]
  },
  {
   "cell_type": "code",
   "execution_count": 349,
   "id": "ad6ca1c2",
   "metadata": {},
   "outputs": [
    {
     "data": {
      "image/png": "[encoded data removed]",
      "text/plain": [
       "<Figure size 576x360 with 1 Axes>"
      ]
     },
     "metadata": {
      "needs_background": "light"
     },
     "output_type": "display_data"
    }
   ],
   "source": [
    "import matplotlib.pyplot as plt\n",
    "\n",
    "# 에폭과 손실 리스트 분리\n",
    "epochs = [entry['epochs'] for entry in all_test_loss]\n",
    "losses = [entry['loss'] for entry in all_test_loss]\n",
    "\n",
    "\n",
    "# 시각화\n",
    "plt.figure(figsize=(8, 5))\n",
    "plt.plot(epochs, losses, marker='o', color='blue', label='Train Loss')\n",
    "plt.title('Test Loss Over Epochs')\n",
    "plt.xlabel('Epoch')\n",
    "plt.ylabel('Loss')\n",
    "plt.grid(True)\n",
    "plt.legend()\n",
    "plt.tight_layout()\n",
    "plt.show()"
   ]
  },
  {
   "cell_type": "markdown",
   "id": "b19185ad",
   "metadata": {},
   "source": [
    "## 추론"
   ]
  },
  {
   "cell_type": "code",
   "execution_count": 360,
   "id": "6218e714",
   "metadata": {},
   "outputs": [],
   "source": [
    "def evaluate(sentence, encoder, decoder, enc_train, dec_train):\n",
    "    \n",
    "    attention = np.zeros((dec_train.shape[-1], enc_train.shape[-1]))\n",
    "    \n",
    "    sentence = preprocess_kor_sentence(sentence)\n",
    "    tokens = mecab.morphs(sentence) \n",
    "    inputs = enc_tokenizer.texts_to_sequences([tokens])\n",
    "    inputs = tf.keras.preprocessing.sequence.pad_sequences(inputs,\n",
    "                                                           maxlen=enc_train.shape[-1],\n",
    "                                                           padding='post')\n",
    "\n",
    "    result = ''\n",
    "\n",
    "    enc_out = encoder(inputs)\n",
    "\n",
    "    dec_hidden = enc_out[:, -1]\n",
    "    dec_input = tf.expand_dims([dec_tokenizer.word_index['<start>']], 0)\n",
    "\n",
    "    for t in range(dec_train.shape[-1]):\n",
    "        predictions, dec_hidden, attention_weights = decoder(dec_input,\n",
    "                                                             dec_hidden,\n",
    "                                                             enc_out)\n",
    "\n",
    "        attention_weights = tf.reshape(attention_weights, (-1, ))\n",
    "        attention[t] = attention_weights.numpy()\n",
    "\n",
    "        predicted_id = \\\n",
    "        tf.argmax(tf.math.softmax(predictions, axis=-1)[0]).numpy()\n",
    "\n",
    "        result += dec_tokenizer.index_word[predicted_id] + ' '\n",
    "        \n",
    "        if dec_tokenizer.index_word[predicted_id] == '<end>':\n",
    "            return result, sentence, attention      \n",
    "        \n",
    "        dec_input = tf.expand_dims([predicted_id], 0)\n",
    "\n",
    "    return result, sentence, attention\n",
    "\n",
    "\n",
    "def plot_attention(attention, sentence, predicted_sentence):\n",
    "    fig = plt.figure(figsize=(10,10))\n",
    "    ax = fig.add_subplot(1, 1, 1)\n",
    "    ax.matshow(attention, cmap='viridis')\n",
    "\n",
    "    fontdict = {'fontsize': 14}\n",
    "\n",
    "    ax.set_xticklabels([''] + sentence, fontdict=fontdict, rotation=90)\n",
    "    ax.set_yticklabels([''] + predicted_sentence, fontdict=fontdict)\n",
    "\n",
    "    ax.xaxis.set_major_locator(ticker.MultipleLocator(1))\n",
    "    ax.yaxis.set_major_locator(ticker.MultipleLocator(1))\n",
    "\n",
    "    plt.show()\n",
    "\n",
    "    \n",
    "def translate(sentence, encoder, decoder, dispaly_map=False):\n",
    "    result, sentence, attention = evaluate(sentence, encoder, decoder, input_train, target_train)\n",
    "\n",
    "    print('Input: %s' % (sentence))\n",
    "    print('Predicted translation: {}'.format(result))\n",
    "    \n",
    "    if dispaly_map == True :\n",
    "        attention = attention[:len(result.split()), :len(sentence.split())]\n",
    "        plot_attention(attention, sentence.split(), result.split(' '))"
   ]
  },
  {
   "cell_type": "code",
   "execution_count": 361,
   "id": "b9913aaf",
   "metadata": {
    "scrolled": true
   },
   "outputs": [
    {
     "name": "stdout",
     "output_type": "stream",
     "text": [
      "Input: 오바마는 대통령이다 \n",
      "Predicted translation: the u s government <end> \n"
     ]
    }
   ],
   "source": [
    "translate(\"오바마는 대통령이다.\", encoder, decoder)"
   ]
  },
  {
   "cell_type": "code",
   "execution_count": 362,
   "id": "4b08ca72",
   "metadata": {
    "scrolled": true
   },
   "outputs": [
    {
     "name": "stdout",
     "output_type": "stream",
     "text": [
      "Input: 시민들은 도시 속에 산다 \n",
      "Predicted translation: the world s own <end> \n"
     ]
    }
   ],
   "source": [
    "translate(\"시민들은 도시 속에 산다.\", encoder, decoder)"
   ]
  },
  {
   "cell_type": "code",
   "execution_count": 363,
   "id": "eb393ea1",
   "metadata": {
    "scrolled": true
   },
   "outputs": [
    {
     "name": "stdout",
     "output_type": "stream",
     "text": [
      "Input: 커피는 필요 없다 \n",
      "Predicted translation: the world s own <end> \n"
     ]
    }
   ],
   "source": [
    "translate(\"커피는 필요 없다.\", encoder, decoder)"
   ]
  },
  {
   "cell_type": "code",
   "execution_count": 364,
   "id": "d471127f",
   "metadata": {},
   "outputs": [
    {
     "name": "stdout",
     "output_type": "stream",
     "text": [
      "Input: 일곱 명의 사망자가 발생했다 \n",
      "Predicted translation: the u s government <end> \n"
     ]
    }
   ],
   "source": [
    "translate(\"일곱 명의 사망자가 발생했다.\", encoder, decoder)"
   ]
  },
  {
   "cell_type": "code",
   "execution_count": 365,
   "id": "49801169",
   "metadata": {},
   "outputs": [
    {
     "name": "stdout",
     "output_type": "stream",
     "text": [
      "Input: 오늘은 월요일이다 \n",
      "Predicted translation: the world s government <end> \n"
     ]
    },
    {
     "name": "stderr",
     "output_type": "stream",
     "text": [
      "/tmp/ipykernel_46/2811690140.py:47: UserWarning: FixedFormatter should only be used together with FixedLocator\n",
      "  ax.set_xticklabels([''] + sentence, fontdict=fontdict, rotation=90)\n",
      "/tmp/ipykernel_46/2811690140.py:48: UserWarning: FixedFormatter should only be used together with FixedLocator\n",
      "  ax.set_yticklabels([''] + predicted_sentence, fontdict=fontdict)\n",
      "/opt/conda/lib/python3.9/site-packages/matplotlib/backends/backend_agg.py:240: RuntimeWarning: Glyph 50724 missing from current font.\n",
      "  font.set_text(s, 0.0, flags=flags)\n",
      "/opt/conda/lib/python3.9/site-packages/matplotlib/backends/backend_agg.py:240: RuntimeWarning: Glyph 45720 missing from current font.\n",
      "  font.set_text(s, 0.0, flags=flags)\n",
      "/opt/conda/lib/python3.9/site-packages/matplotlib/backends/backend_agg.py:240: RuntimeWarning: Glyph 51008 missing from current font.\n",
      "  font.set_text(s, 0.0, flags=flags)\n",
      "/opt/conda/lib/python3.9/site-packages/matplotlib/backends/backend_agg.py:240: RuntimeWarning: Glyph 50900 missing from current font.\n",
      "  font.set_text(s, 0.0, flags=flags)\n",
      "/opt/conda/lib/python3.9/site-packages/matplotlib/backends/backend_agg.py:240: RuntimeWarning: Glyph 50836 missing from current font.\n",
      "  font.set_text(s, 0.0, flags=flags)\n",
      "/opt/conda/lib/python3.9/site-packages/matplotlib/backends/backend_agg.py:240: RuntimeWarning: Glyph 51068 missing from current font.\n",
      "  font.set_text(s, 0.0, flags=flags)\n",
      "/opt/conda/lib/python3.9/site-packages/matplotlib/backends/backend_agg.py:240: RuntimeWarning: Glyph 51060 missing from current font.\n",
      "  font.set_text(s, 0.0, flags=flags)\n",
      "/opt/conda/lib/python3.9/site-packages/matplotlib/backends/backend_agg.py:240: RuntimeWarning: Glyph 45796 missing from current font.\n",
      "  font.set_text(s, 0.0, flags=flags)\n",
      "/opt/conda/lib/python3.9/site-packages/matplotlib/backends/backend_agg.py:203: RuntimeWarning: Glyph 50724 missing from current font.\n",
      "  font.set_text(s, 0, flags=flags)\n",
      "/opt/conda/lib/python3.9/site-packages/matplotlib/backends/backend_agg.py:203: RuntimeWarning: Glyph 45720 missing from current font.\n",
      "  font.set_text(s, 0, flags=flags)\n",
      "/opt/conda/lib/python3.9/site-packages/matplotlib/backends/backend_agg.py:203: RuntimeWarning: Glyph 51008 missing from current font.\n",
      "  font.set_text(s, 0, flags=flags)\n",
      "/opt/conda/lib/python3.9/site-packages/matplotlib/backends/backend_agg.py:203: RuntimeWarning: Glyph 50900 missing from current font.\n",
      "  font.set_text(s, 0, flags=flags)\n",
      "/opt/conda/lib/python3.9/site-packages/matplotlib/backends/backend_agg.py:203: RuntimeWarning: Glyph 50836 missing from current font.\n",
      "  font.set_text(s, 0, flags=flags)\n",
      "/opt/conda/lib/python3.9/site-packages/matplotlib/backends/backend_agg.py:203: RuntimeWarning: Glyph 51068 missing from current font.\n",
      "  font.set_text(s, 0, flags=flags)\n",
      "/opt/conda/lib/python3.9/site-packages/matplotlib/backends/backend_agg.py:203: RuntimeWarning: Glyph 51060 missing from current font.\n",
      "  font.set_text(s, 0, flags=flags)\n",
      "/opt/conda/lib/python3.9/site-packages/matplotlib/backends/backend_agg.py:203: RuntimeWarning: Glyph 45796 missing from current font.\n",
      "  font.set_text(s, 0, flags=flags)\n"
     ]
    },
    {
     "data": {
      "image/png": "[encoded data removed]",
      "text/plain": [
       "<Figure size 720x720 with 1 Axes>"
      ]
     },
     "metadata": {
      "needs_background": "light"
     },
     "output_type": "display_data"
    }
   ],
   "source": [
    "translate(\"오늘은 월요일이다.\", encoder, decoder, True)"
   ]
  }
 ],
 "metadata": {
  "kernelspec": {
   "display_name": "Python 3 (ipykernel)",
   "language": "python",
   "name": "python3"
  },
  "language_info": {
   "codemirror_mode": {
    "name": "ipython",
    "version": 3
   },
   "file_extension": ".py",
   "mimetype": "text/x-python",
   "name": "python",
   "nbconvert_exporter": "python",
   "pygments_lexer": "ipython3",
   "version": "3.9.7"
  }
 },
 "nbformat": 4,
 "nbformat_minor": 5
}
