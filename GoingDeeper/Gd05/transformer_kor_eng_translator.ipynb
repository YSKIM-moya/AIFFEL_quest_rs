{
 "cells": [
  {
   "cell_type": "code",
   "execution_count": 112,
   "id": "5f2b1121",
   "metadata": {},
   "outputs": [
    {
     "data": {
      "text/plain": [
       "'/usr/share/fonts/truetype/nanum/NanumBarunGothic.ttf'"
      ]
     },
     "execution_count": 112,
     "metadata": {},
     "output_type": "execute_result"
    }
   ],
   "source": [
    "import matplotlib as mpl\n",
    "import matplotlib.pyplot as plt\n",
    "import matplotlib.font_manager as fm\n",
    "\n",
    "%config InlineBackend.figure_format = 'retina'\n",
    " \n",
    "fontpath = '/usr/share/fonts/truetype/nanum/NanumBarunGothic.ttf'\n",
    "font = fm.FontProperties(fname=fontpath, size=9)\n",
    "plt.rc('font', family='NanumBarunGothic') \n",
    "mpl.font_manager.findfont(font)"
   ]
  },
  {
   "cell_type": "code",
   "execution_count": 113,
   "id": "7a6cb60d",
   "metadata": {},
   "outputs": [],
   "source": [
    "import numpy as np\n",
    "import pandas as pd\n",
    "import tensorflow as tf\n",
    "import sentencepiece as spm\n",
    "from nltk.translate.bleu_score import sentence_bleu\n",
    "from nltk.translate.bleu_score import SmoothingFunction\n",
    "from tqdm.notebook import tqdm\n",
    "\n",
    "import re\n",
    "import os\n",
    "import io\n",
    "import time\n",
    "import random\n",
    "\n",
    "import seaborn # Attention 시각화를 위해 필요!"
   ]
  },
  {
   "cell_type": "markdown",
   "id": "13e86d5f",
   "metadata": {},
   "source": [
    "# Transformer"
   ]
  },
  {
   "cell_type": "markdown",
   "id": "c8b18054",
   "metadata": {},
   "source": [
    "**Positional Encoding**"
   ]
  },
  {
   "cell_type": "code",
   "execution_count": 114,
   "id": "b2e20a3a",
   "metadata": {},
   "outputs": [],
   "source": [
    "def positional_encoding(pos, d_model):\n",
    "    def cal_angle(position, i):\n",
    "        return position / np.power(10000, (2*(i//2)) / np.float32(d_model))\n",
    "\n",
    "    def get_posi_angle_vec(position):\n",
    "        return [cal_angle(position, i) for i in range(d_model)]\n",
    "\n",
    "    sinusoid_table = np.array([get_posi_angle_vec(pos_i) for pos_i in range(pos)])\n",
    "    sinusoid_table[:, 0::2] = np.sin(sinusoid_table[:, 0::2])\n",
    "    sinusoid_table[:, 1::2] = np.cos(sinusoid_table[:, 1::2])\n",
    "    return sinusoid_table\n",
    "\n"
   ]
  },
  {
   "cell_type": "markdown",
   "id": "606ada74",
   "metadata": {},
   "source": [
    "**Mask**"
   ]
  },
  {
   "cell_type": "code",
   "execution_count": 115,
   "id": "1ad5c5b5",
   "metadata": {},
   "outputs": [],
   "source": [
    "def generate_padding_mask(seq):\n",
    "    seq = tf.cast(tf.math.equal(seq, 0), tf.float32) # seq가 0이면 1.0\n",
    "    return seq[:, tf.newaxis, tf.newaxis, :] # 차원을 확장해서, 어덴션 스코어와 잘 계산되게 맞추어줌\n",
    "\n",
    "def generate_lookahead_mask(size):\n",
    "    # mask = 1 - 하삼각 행렬  (자신보다 뒤에 있는 토큰에 1을 설정하는 마스크 )\n",
    "    mask = 1 - tf.linalg.band_part(tf.ones((size, size)), -1, 0)\n",
    "    return mask# (seq_len, seq_len)\n",
    "\n",
    "def generate_masks(src, tgt):\n",
    "    enc_mask = generate_padding_mask(src)\n",
    "    dec_enc_mask = generate_padding_mask(src)\n",
    "\n",
    "    dec_lookahead_mask = generate_lookahead_mask(tgt.shape[1])\n",
    "    dec_tgt_padding_mask = generate_padding_mask(tgt)\n",
    "    dec_mask = tf.maximum(dec_tgt_padding_mask, dec_lookahead_mask)\n",
    "\n",
    "    return enc_mask, dec_enc_mask, dec_mask"
   ]
  },
  {
   "cell_type": "markdown",
   "id": "e6f0c9a3",
   "metadata": {},
   "source": [
    "**Multi-head Attention**"
   ]
  },
  {
   "cell_type": "code",
   "execution_count": 116,
   "id": "c93e3236",
   "metadata": {},
   "outputs": [],
   "source": [
    "class MultiHeadAttention(tf.keras.layers.Layer):\n",
    "    def __init__(self, d_model, num_heads):\n",
    "        super(MultiHeadAttention, self).__init__()\n",
    "        self.num_heads = num_heads\n",
    "        self.d_model = d_model\n",
    "        \n",
    "        self.depth = d_model // self.num_heads\n",
    "        \n",
    "        self.W_q = tf.keras.layers.Dense(d_model) # Linear Layer\n",
    "        self.W_k = tf.keras.layers.Dense(d_model)\n",
    "        self.W_v = tf.keras.layers.Dense(d_model)\n",
    "        \n",
    "        self.linear = tf.keras.layers.Dense(d_model)\n",
    "\n",
    "    def scaled_dot_product_attention(self, Q, K, V, mask):\n",
    "        \"\"\"\n",
    "        Q: (batch_size, num_heads, seq_len_q, depth)\n",
    "        K: (batch_size, num_heads, seq_len_k, depth)\n",
    "        \"\"\"\n",
    "       \n",
    "        d_k = tf.cast(K.shape[-1], tf.float32) # depth : key의 마지막 차원 크기\n",
    "        \n",
    "        \"\"\"\n",
    "        Scaled QK 값 구하기\n",
    "        QK^T → shape: (batch_size, num_heads, seq_len_q, seq_len_k)\n",
    "        \"\"\"\n",
    "        QKt = tf.matmul( Q, K, transpose_b=True) # 행렬 곱셈(matrix multiplication), key를 transpose함\n",
    "        scaled_qk = QKt / tf.math.sqrt(d_k)         # 차원수로 scaling하는 작업\n",
    "\n",
    "        if mask is not None: scaled_qk += (mask * -1e9) \n",
    "\n",
    "        \"\"\"\n",
    "        1. Attention Weights 값 구하기 -> attentions\n",
    "        2. Attention 값을 V에 곱하기 -> out\n",
    "        \"\"\" \n",
    "        attentions = tf.nn.softmax(scaled_qk, axis=-1)\n",
    "        out = tf.matmul(attentions, V)\n",
    "        # out : (batch_size, num_heads, seq_len_q, depth)\n",
    "\n",
    "        return out, attentions\n",
    "        \n",
    "\n",
    "    def split_heads(self, x):\n",
    "        \"\"\"\n",
    "        Embedding을 Head의 수로 분할하는 함수\n",
    "\n",
    "        x: [ batch x length x emb ]\n",
    "        return: [ batch x heads x length x self.depth ]\n",
    "        \"\"\"\n",
    "        batch_size = x.shape[0]\n",
    "        split_x = tf.reshape( x, shape = (batch_size, -1, self.num_heads, self.depth)) # emb -> num_head * depth\n",
    "        split_x = tf.transpose( split_x, perm=[0, 2, 1,3])\n",
    "\n",
    "        return split_x\n",
    "\n",
    "    def combine_heads(self, x):\n",
    "        \"\"\"\n",
    "        분할된 Embedding을 하나로 결합하는 함수\n",
    "\n",
    "        x: [ batch x heads x length x self.depth ]\n",
    "        return: [ batch x length x emb ]\n",
    "        \"\"\"\n",
    "        batch_size = x.shape[0]\n",
    "        combined_x = tf.transpose( x, perm=[0, 2, 1,3])\n",
    "        combined_x = tf.reshape(x, shape = (batch_size, -1, self.d_model)) # num_head *depth -> emb\n",
    "\n",
    "        return combined_x\n",
    "    \n",
    "\n",
    "    def call(self, Q, K, V, mask):\n",
    "        \"\"\"\n",
    "        아래 순서에 따라 소스를 작성하세요.\n",
    "\n",
    "        Step 1: Linear_in(Q, K, V) -> WQ, WK, WV\n",
    "        Step 2: Split Heads(WQ, WK, WV) -> WQ_split, WK_split, WV_split\n",
    "        Step 3: Scaled Dot Product Attention(WQ_split, WK_split, WV_split)\n",
    "                 -> out, attention_weights\n",
    "        Step 4: Combine Heads(out) -> out\n",
    "        Step 5: Linear_out(out) -> out\n",
    "\n",
    "        \"\"\"\n",
    "        batch_size = Q.shape[0]\n",
    "        \n",
    "        # Q, K, V에 각각 Dense를 적용합니다\n",
    "        WQ = self.W_q(Q)\n",
    "        WK = self.W_k(K)\n",
    "        WV = self.W_v(V)\n",
    "        \n",
    "        # 병렬 연산을 위한 머리를 여러 개 만듭니다\n",
    "        WQ_split = self.split_heads(WQ)\n",
    "        WK_split = self.split_heads(WK)\n",
    "        WV_split = self.split_heads(WV)\n",
    "        \n",
    "        # 스케일드 닷 프로덕트 어텐션 함수\n",
    "        out, attention_weights = self.scaled_dot_product_attention(WQ_split, WK_split, WV_split, mask)\n",
    "        \n",
    "        # 어텐션 연산 후에 각 결과를 다시 연결(concatenate)합니다\n",
    "        out = self.combine_heads(out)\n",
    "        \n",
    "        # 최종 결과에도 Dense를 한 번 더 적용합니다\n",
    "        out = self.linear(out)\n",
    "        \n",
    "        return out, attention_weights\n",
    "\n"
   ]
  },
  {
   "cell_type": "markdown",
   "id": "048d5177",
   "metadata": {},
   "source": [
    "**Position-wise Feed-Forward Network**"
   ]
  },
  {
   "cell_type": "code",
   "execution_count": 117,
   "id": "fc3c81c4",
   "metadata": {},
   "outputs": [],
   "source": [
    "class PoswiseFeedForwardNet(tf.keras.layers.Layer):\n",
    "    def __init__(self, d_model, d_ff):\n",
    "        super(PoswiseFeedForwardNet, self).__init__()\n",
    "        self.d_model = d_model\n",
    "        self.d_ff = d_ff\n",
    "        \n",
    "        self.fc1 = tf.keras.layers.Dense(d_ff, activation='relu')  # d_ff : 2048\n",
    "        self.fc2 = tf.keras.layers.Dense(d_model)                  # \n",
    "\n",
    "    def call(self, x):\n",
    "        # [ batch x length x d_model ]\n",
    "        out = self.fc1(x)\n",
    "        # 2048\n",
    "        out = self.fc2(out)\n",
    "        #[ batch x length x d_model ]\n",
    "            \n",
    "        return out\n",
    "\n"
   ]
  },
  {
   "cell_type": "markdown",
   "id": "a3b71d76",
   "metadata": {},
   "source": [
    "**Encoder Layer**"
   ]
  },
  {
   "cell_type": "code",
   "execution_count": 118,
   "id": "9cd56d15",
   "metadata": {},
   "outputs": [],
   "source": [
    "class EncoderLayer(tf.keras.layers.Layer):\n",
    "    def __init__(self, d_model, n_heads, d_ff, dropout):\n",
    "        super(EncoderLayer, self).__init__()\n",
    "\n",
    "        self.enc_self_attn = MultiHeadAttention(d_model, n_heads)\n",
    "        self.ffn = PoswiseFeedForwardNet(d_model, d_ff)\n",
    "\n",
    "        self.norm_1 = tf.keras.layers.LayerNormalization(epsilon=1e-6)\n",
    "        self.norm_2 = tf.keras.layers.LayerNormalization(epsilon=1e-6)\n",
    "\n",
    "        self.dropout = tf.keras.layers.Dropout(dropout)\n",
    "        \n",
    "    def call(self, x, mask):\n",
    "\n",
    "        \"\"\"\n",
    "        Multi-Head Attention\n",
    "        \"\"\"\n",
    "        residual = x\n",
    "        out = self.norm_1(x)\n",
    "        out, enc_attn = self.enc_self_attn(out, out, out, mask)\n",
    "        out = self.dropout(out)\n",
    "        out += residual\n",
    "        \n",
    "        \"\"\"\n",
    "        Position-Wise Feed Forward Network\n",
    "        \"\"\"\n",
    "        residual = out\n",
    "        out = self.norm_2(out)\n",
    "        out = self.ffn(out)\n",
    "        out = self.dropout(out)\n",
    "        out += residual\n",
    "        \n",
    "        return out, enc_attn\n",
    "\n"
   ]
  },
  {
   "cell_type": "markdown",
   "id": "6a49767a",
   "metadata": {},
   "source": [
    "**Decoder Layer**"
   ]
  },
  {
   "cell_type": "code",
   "execution_count": 119,
   "id": "f426f571",
   "metadata": {},
   "outputs": [],
   "source": [
    "class DecoderLayer(tf.keras.layers.Layer):\n",
    "    def __init__(self, d_model, n_heads, d_ff, dropout):\n",
    "        super(DecoderLayer, self).__init__()\n",
    "\n",
    "        self.dec_self_attn = MultiHeadAttention(d_model, n_heads)\n",
    "        self.enc_dec_attn = MultiHeadAttention(d_model, n_heads)\n",
    "        \n",
    "        self.ffn = PoswiseFeedForwardNet(d_model, d_ff)\n",
    "\n",
    "        self.norm_1 = tf.keras.layers.LayerNormalization(epsilon=1e-6)\n",
    "        self.norm_2 = tf.keras.layers.LayerNormalization(epsilon=1e-6)\n",
    "        self.norm_3 = tf.keras.layers.LayerNormalization(epsilon=1e-6)\n",
    "\n",
    "        self.dropout = tf.keras.layers.Dropout(dropout)\n",
    "        \n",
    "    def call(self, x, enc_out, dec_enc_mask, padding_mask):\n",
    "\n",
    "        \"\"\"\n",
    "        Masked Multi-Head Attention\n",
    "        \"\"\"\n",
    "        residual = x\n",
    "        out = self.norm_1(x)\n",
    "        out, dec_attn = self.dec_self_attn(out, out, out, padding_mask)\n",
    "        out = self.dropout(out)\n",
    "        out += residual\n",
    "        \n",
    "        \"\"\"\n",
    "        Encoder-Decoder Multi-Head Attention\n",
    "        \"\"\"\n",
    "        residual = out\n",
    "        out = self.norm_2(x)\n",
    "        out, enc_dec_attn = self.enc_dec_attn(out, enc_out, enc_out, dec_enc_mask)\n",
    "        out = self.dropout(out)\n",
    "        out += residual\n",
    "        \n",
    "        \"\"\"\n",
    "        Position-Wise Feed Forward Network\n",
    "        \"\"\"\n",
    "        residual = out\n",
    "        out = self.norm_3(out)\n",
    "        out = self.ffn(out)\n",
    "        out = self.dropout(out)\n",
    "        out += residual\n",
    "        \n",
    "        return out, dec_attn, enc_dec_attn"
   ]
  },
  {
   "cell_type": "markdown",
   "id": "6376aef8",
   "metadata": {},
   "source": [
    "**Encoder**"
   ]
  },
  {
   "cell_type": "code",
   "execution_count": 120,
   "id": "864d3a0c",
   "metadata": {},
   "outputs": [],
   "source": [
    "class Encoder(tf.keras.Model):\n",
    "    def __init__(self,\n",
    "                 n_layers,\n",
    "                 d_model,\n",
    "                 n_heads,\n",
    "                 d_ff,\n",
    "                 dropout):\n",
    "        super(Encoder, self).__init__()\n",
    "        self.n_layers = n_layers\n",
    "        self.enc_layers = [EncoderLayer(d_model, n_heads, d_ff, dropout) \n",
    "                        for _ in range(n_layers)]\n",
    "        \n",
    "        self.dropout = tf.keras.layers.Dropout(dropout)\n",
    "        \n",
    "    def call(self, x, mask):\n",
    "        out = x\n",
    "    \n",
    "        enc_attns = list()\n",
    "        for i in range(self.n_layers):\n",
    "            out, enc_attn = self.enc_layers[i](out, mask)\n",
    "            enc_attns.append(enc_attn)\n",
    "        \n",
    "        return out, enc_attns\n"
   ]
  },
  {
   "cell_type": "markdown",
   "id": "9d00717f",
   "metadata": {},
   "source": [
    "**Decoder**"
   ]
  },
  {
   "cell_type": "code",
   "execution_count": 121,
   "id": "5f329b81",
   "metadata": {},
   "outputs": [],
   "source": [
    "class Decoder(tf.keras.Model):\n",
    "    def __init__(self,\n",
    "                 n_layers,\n",
    "                 d_model,\n",
    "                 n_heads,\n",
    "                 d_ff,\n",
    "                 dropout):\n",
    "        super(Decoder, self).__init__()\n",
    "        self.n_layers = n_layers\n",
    "        self.dec_layers = [DecoderLayer(d_model, n_heads, d_ff, dropout) \n",
    "                            for _ in range(n_layers)]\n",
    "                            \n",
    "                            \n",
    "    def call(self, x, enc_out, dec_enc_mask, padding_mask):\n",
    "        out = x\n",
    "    \n",
    "        dec_attns = list()\n",
    "        dec_enc_attns = list()\n",
    "        for i in range(self.n_layers):\n",
    "            out, dec_attn, dec_enc_attn = \\\n",
    "            self.dec_layers[i](out, enc_out, dec_enc_mask, padding_mask)\n",
    "\n",
    "            dec_attns.append(dec_attn)\n",
    "            dec_enc_attns.append(dec_enc_attn)\n",
    "\n",
    "        return out, dec_attns, dec_enc_attns\n",
    "\n"
   ]
  },
  {
   "cell_type": "markdown",
   "id": "fb015dee",
   "metadata": {},
   "source": [
    "**Transformer**"
   ]
  },
  {
   "cell_type": "code",
   "execution_count": 122,
   "id": "05f12486",
   "metadata": {},
   "outputs": [],
   "source": [
    "class Transformer(tf.keras.Model):\n",
    "    def __init__(self,\n",
    "                 n_layers,\n",
    "                 d_model,\n",
    "                 n_heads,\n",
    "                 d_ff,\n",
    "                 src_vocab_size,\n",
    "                 tgt_vocab_size,\n",
    "                 pos_len,\n",
    "                 dropout=0.2,\n",
    "                 shared_fc=True,\n",
    "                shared_emb=False):\n",
    "        super(Transformer, self).__init__()\n",
    "        \n",
    "        self.d_model = tf.cast(d_model, tf.float32)\n",
    "        \n",
    "\n",
    "        \"\"\"\n",
    "        1. Embedding Layer 정의\n",
    "        2. Positional Encoding 정의\n",
    "        3. Encoder / Decoder 정의\n",
    "        4. Output Linear 정의\n",
    "        5. Shared Weights\n",
    "        6. Dropout 정의\n",
    "        \"\"\"\n",
    "        if shared_emb:\n",
    "            self.enc_embedding = self.dec_embedding = \\\n",
    "            tf.keras.layers.Embedding(src_vocab_size, d_model)\n",
    "        else:\n",
    "            self.enc_embedding = tf.keras.layers.Embedding(src_vocab_size, d_model)\n",
    "            self.dec_embedding = tf.keras.layers.Embedding(tgt_vocab_size, d_model)\n",
    "        \n",
    "        self.pos_encoding = positional_encoding( pos_len, d_model)\n",
    "        \n",
    "        self.encoder = Encoder(n_layers,\n",
    "                 d_model,\n",
    "                 n_heads,\n",
    "                 d_ff,\n",
    "                 dropout)\n",
    "        self.decoder = Decoder(n_layers,\n",
    "                 d_model,\n",
    "                 n_heads,\n",
    "                 d_ff,\n",
    "                 dropout)\n",
    "            \n",
    "        self.fc = tf.keras.layers.Dense(tgt_vocab_size)\n",
    "        self.dropout = tf.keras.layers.Dropout(dropout)\n",
    "        \n",
    "        self.shared_fc = shared_fc\n",
    "\n",
    "        if shared_fc: \n",
    "            self.fc.set_weights(tf.transpose(self.dec_embedding.weights)) # why?\n",
    "\n",
    "    def embedding(self, emb, x):\n",
    "        \"\"\"\n",
    "        입력된 정수 배열을 Embedding + Pos Encoding\n",
    "        + Shared일 경우 Scaling 작업 포함\n",
    "\n",
    "        x: [ batch x length ]\n",
    "        return: [ batch x length x emb ]\n",
    "        \"\"\"\n",
    "        seq_len = x.shape[1]\n",
    "        \n",
    "        out = emb(x)\n",
    "        if self.shared_fc : out *= tf.math.sqrt(self.d_model) \n",
    "         \n",
    "        # pos_encoding은 [pos_len, d_model]\n",
    "        # np.newaxis를 통해 [1, seq_len, d_model]로 shape 맞춰서 broadcast\n",
    "        out += self.pos_encoding[np.newaxis, ...][:, :seq_len, :] \n",
    "        out = self.dropout(out)\n",
    "        \n",
    "        \n",
    "        return out\n",
    "\n",
    "        \n",
    "    def call(self, enc_in, dec_in, enc_mask, dec_enc_mask, dec_mask):\n",
    "        \"\"\"\n",
    "        아래 순서에 따라 소스를 작성하세요.\n",
    "\n",
    "        Step 1: Embedding(enc_in, dec_in) -> enc_in, dec_in\n",
    "        Step 2: Encoder(enc_in, enc_mask) -> enc_out, enc_attns\n",
    "        Step 3: Decoder(dec_in, enc_out, mask)\n",
    "                -> dec_out, dec_attns, dec_enc_attns\n",
    "        Step 4: Out Linear(dec_out) -> logits\n",
    "        \"\"\"\n",
    "        \n",
    "        enc_in = self.embedding( self.enc_embedding, enc_in)\n",
    "        dec_in = self.embedding( self.dec_embedding, dec_in)\n",
    "        \n",
    "        enc_out, enc_attns = self.encoder( enc_in, enc_mask)\n",
    "        \n",
    "        dec_out, dec_attns, dec_enc_attns = self.decoder( dec_in, enc_out, dec_enc_mask, dec_mask)\n",
    "        \n",
    "        logits = self.fc(dec_out)\n",
    "        \n",
    "        return logits, enc_attns, dec_attns, dec_enc_attns\n",
    "\n"
   ]
  },
  {
   "cell_type": "markdown",
   "id": "0f273bf0",
   "metadata": {},
   "source": [
    "## Loss function"
   ]
  },
  {
   "cell_type": "code",
   "execution_count": 150,
   "id": "1d024ec0",
   "metadata": {},
   "outputs": [],
   "source": [
    "WARMUP_STEPS = 4000\n",
    "\n",
    "class LearningRateScheduler(tf.keras.optimizers.schedules.LearningRateSchedule):\n",
    "    def __init__(self, d_model, warmup_steps=WARMUP_STEPS):\n",
    "        super(LearningRateScheduler, self).__init__()\n",
    "        \n",
    "        self.d_model = d_model\n",
    "        self.warmup_steps = warmup_steps\n",
    "    \n",
    "    def __call__(self, step):\n",
    "        arg1 = step ** -0.5\n",
    "        arg2 = step * (self.warmup_steps ** -1.5)\n",
    "        \n",
    "        return (self.d_model ** -0.5) * tf.math.minimum(arg1, arg2)\n",
    "\n",
    "\n",
    "#learning_rate = LearningRateScheduler(d_model)\n",
    "learning_rate = LearningRateScheduler(512)\n",
    "\n",
    "optimizer = tf.keras.optimizers.Adam(learning_rate,\n",
    "                                     beta_1=0.9,\n",
    "                                     beta_2=0.98, \n",
    "                                     epsilon=1e-9)\n"
   ]
  },
  {
   "cell_type": "code",
   "execution_count": 124,
   "id": "4a366d2d",
   "metadata": {},
   "outputs": [],
   "source": [
    "loss_object = tf.keras.losses.SparseCategoricalCrossentropy(\n",
    "    from_logits=True, reduction='none')\n",
    "    # from_logits=True: y_pred가 softmax 되기 전 값 (logits : softmax를 거치기 직전값)이기 때문\n",
    "    # → 손실 함수 내부에서 softmax를 자동으로 처리\n",
    "    # reduction='none': 손실을 일괄 평균하지 않고, 토큰마다 개별 손실 계산\n",
    "    # → 나중에 마스크를 씌워서 패딩 위치 손실은 제거할 수 있게 함\n",
    "\n",
    "def loss_function(real, pred):\n",
    "    mask = tf.math.logical_not(tf.math.equal(real, 0)) # 패딩(0) 위치는 False\n",
    "    loss = loss_object(real, pred)\n",
    "    \n",
    "    # Masking 되지 않은 입력의 개수로 Scaling하는 과정\n",
    "    mask = tf.cast(mask, dtype=loss.dtype)             # Boolean mask → float32\n",
    "    loss *= mask                                       # 패딩 위치는 손실 0으로 만듦\n",
    "    \n",
    "    #return tf.reduce_mean(loss)\n",
    "    return tf.reduce_sum(loss)/tf.reduce_sum(mask)     # 실제 단어들에 대해서만 평균 손실을 계산"
   ]
  },
  {
   "cell_type": "markdown",
   "id": "c520a0b9",
   "metadata": {},
   "source": [
    "## 훈련 및 Translate"
   ]
  },
  {
   "cell_type": "markdown",
   "id": "ba5de5f6",
   "metadata": {},
   "source": [
    "### Attention 시각화 함수"
   ]
  },
  {
   "cell_type": "code",
   "execution_count": 125,
   "id": "c84f0386",
   "metadata": {},
   "outputs": [],
   "source": [
    "# Attention 시각화 함수\n",
    "\n",
    "def visualize_attention(src, tgt, enc_attns, dec_attns, dec_enc_attns):\n",
    "    def draw(data, ax, x=\"auto\", y=\"auto\"):\n",
    "        import seaborn\n",
    "        seaborn.heatmap(data, \n",
    "                        square=True,\n",
    "                        vmin=0.0, vmax=1.0, \n",
    "                        cbar=False, ax=ax,\n",
    "                        xticklabels=x,\n",
    "                        yticklabels=y)\n",
    "        \n",
    "    for layer in range(0, 2, 1):\n",
    "        fig, axs = plt.subplots(1, 4, figsize=(20, 10))\n",
    "        print(\"Encoder Layer\", layer + 1)\n",
    "        for h in range(4):\n",
    "            draw(enc_attns[layer][0, h, :len(src), :len(src)], axs[h], src, src)\n",
    "        plt.show()\n",
    "        \n",
    "    for layer in range(0, 2, 1):\n",
    "        fig, axs = plt.subplots(1, 4, figsize=(20, 10))\n",
    "        print(\"Decoder Self Layer\", layer+1)\n",
    "        for h in range(4):\n",
    "            draw(dec_attns[layer][0, h, :len(tgt), :len(tgt)], axs[h], tgt, tgt)\n",
    "        plt.show()\n",
    "\n",
    "        print(\"Decoder Src Layer\", layer+1)\n",
    "        fig, axs = plt.subplots(1, 4, figsize=(20, 10))\n",
    "        for h in range(4):\n",
    "            draw(dec_enc_attns[layer][0, h, :len(tgt), :len(src)], axs[h], src, tgt)\n",
    "        plt.show()"
   ]
  },
  {
   "cell_type": "code",
   "execution_count": 163,
   "id": "adf4338c",
   "metadata": {},
   "outputs": [],
   "source": [
    "#@tf.function()\n",
    "def train_step(src, tgt, model, optimizer):\n",
    "    tgt_in = tgt[:, :-1]  # Decoder의 input\n",
    "    gold = tgt[:, 1:]     # Decoder의 output과 비교하기 위해 right shift를 통해 생성한 최종 타겟\n",
    "\n",
    "    enc_mask, dec_enc_mask, dec_mask = generate_masks(src, tgt_in)\n",
    "\n",
    "    with tf.GradientTape() as tape:\n",
    "        predictions, enc_attns, dec_attns, dec_enc_attns = \\\n",
    "        model(src, tgt_in, enc_mask, dec_enc_mask, dec_mask)\n",
    "        loss = loss_function(gold, predictions)\n",
    "\n",
    "    gradients = tape.gradient(loss, model.trainable_variables)    \n",
    "    optimizer.apply_gradients(zip(gradients, model.trainable_variables))\n",
    "\n",
    "    return loss, enc_attns, dec_attns, dec_enc_attns"
   ]
  },
  {
   "cell_type": "code",
   "execution_count": 166,
   "id": "73f4a3f1",
   "metadata": {},
   "outputs": [],
   "source": [
    "MAX_LEN = 50\n",
    "\n",
    "def evaluate(sentence, model, src_tokenizer, tgt_tokenizer, maxlen=MAX_LEN):\n",
    "    \n",
    "    sentence = preprocess_sentence(sentence)\n",
    "    pieces = src_tokenizer.encode_as_pieces(sentence)\n",
    "    tokens = src_tokenizer.encode_as_ids(sentence)\n",
    "    \n",
    "    padded_tokens = tf.keras.preprocessing.sequence.pad_sequences([tokens],\n",
    "                                                           maxlen=maxlen,\n",
    "                                                           padding='post')\n",
    "    ids = []\n",
    "    output = tf.expand_dims([tgt_tokenizer.bos_id()], 0)   \n",
    "    for i in range(maxlen):\n",
    "        enc_padding_mask, combined_mask, dec_padding_mask = \\\n",
    "        generate_masks(padded_tokens, output)\n",
    "\n",
    "        predictions, enc_attns, dec_attns, dec_enc_attns = \\\n",
    "                                model(padded_tokens, \n",
    "                                      output,\n",
    "                                      enc_padding_mask,\n",
    "                                      combined_mask,\n",
    "                                      dec_padding_mask)\n",
    "\n",
    "        predicted_id = \\\n",
    "        tf.argmax(tf.math.softmax(predictions, axis=-1)[0, -1]).numpy().item()\n",
    "        #print(f\"{i} : {predicted_id}    bos={tgt_tokenizer.bos_id()}, eos={tgt_tokenizer.eos_id()}\")\n",
    "        \n",
    "        if tgt_tokenizer.eos_id() == predicted_id:\n",
    "            result = tgt_tokenizer.decode_ids(ids)  \n",
    "            return pieces, result, enc_attns, dec_attns, dec_enc_attns\n",
    "\n",
    "        ids.append(predicted_id)\n",
    "        output = tf.concat([output, tf.expand_dims([predicted_id], 0)], axis=-1)\n",
    "\n",
    "    #print(ids)\n",
    "    result = tgt_tokenizer.decode_ids(ids)  \n",
    "    \n",
    "    return pieces, result, enc_attns, dec_attns, dec_enc_attns"
   ]
  },
  {
   "cell_type": "code",
   "execution_count": 167,
   "id": "aac6e69c",
   "metadata": {},
   "outputs": [],
   "source": [
    "# 번역 생성 및 Attention 시각화 결합\n",
    "\n",
    "def translate(sentence, model, src_tokenizer, tgt_tokenizer, plot_attention=False):\n",
    "    pieces, result, enc_attns, dec_attns, dec_enc_attns = \\\n",
    "    evaluate(sentence, model, src_tokenizer, tgt_tokenizer)\n",
    "    \n",
    "    print('Input: %s' % (sentence))\n",
    "    print('Predicted translation: {}'.format(result))\n",
    "\n",
    "    if plot_attention:\n",
    "        visualize_attention(pieces, result.split(), enc_attns, dec_attns, dec_enc_attns)"
   ]
  },
  {
   "cell_type": "markdown",
   "id": "73562497",
   "metadata": {},
   "source": [
    "## BLEU Score"
   ]
  },
  {
   "cell_type": "code",
   "execution_count": 129,
   "id": "0c1d8572",
   "metadata": {},
   "outputs": [],
   "source": [
    "def calculate_bleu(reference, candidate, weights=[0.25, 0.25, 0.25, 0.25]):\n",
    "    return sentence_bleu([reference],\n",
    "                         candidate,\n",
    "                         weights=weights,\n",
    "                         smoothing_function=SmoothingFunction().method1)  # smoothing_function 적용"
   ]
  },
  {
   "cell_type": "code",
   "execution_count": 186,
   "id": "72557a40",
   "metadata": {},
   "outputs": [],
   "source": [
    "def eval_bleu_single(model, src_sentence, tgt_sentence, src_tokenizer, tgt_tokenizer, max_len, verbose=False):\n",
    "    \n",
    "    #src_tokens = src_tokenizer.encode_as_ids(src_sentence)\n",
    "   # tgt_tokens = tgt_tokenizer.encode_as_ids(tgt_sentence)\n",
    "\n",
    "    #if (len(src_tokens) > max_len): return None\n",
    "    #if (len(tgt_tokens) > max_len): return None\n",
    "\n",
    "    reference = tgt_sentence.split()\n",
    "    pieces, result, enc_attns, dec_attns, dec_enc_attns = \\\n",
    "        evaluate(src_sentence, model, src_tokenizer, tgt_tokenizer)\n",
    "    \n",
    "    candidate = result.split()\n",
    "\n",
    "    score = sentence_bleu([reference], candidate,\n",
    "                          smoothing_function=SmoothingFunction().method1)\n",
    "\n",
    "    if verbose:\n",
    "        print(\"Source Sentence: \", src_sentence)\n",
    "        print(\"Model Prediction: \", candidate)\n",
    "        print(\"Real: \", reference)\n",
    "        print(\"Score: %lf\\n\" % score)\n",
    "        \n",
    "    return score"
   ]
  },
  {
   "cell_type": "code",
   "execution_count": 182,
   "id": "18a2d9a2",
   "metadata": {},
   "outputs": [],
   "source": [
    "def eval_bleu(model, src_sentences, tgt_sentence, src_tokenizer, tgt_tokenizer, max_len, verbose=False):\n",
    "    total_score = 0.0\n",
    "    sample_size = len(src_sentences)\n",
    "    \n",
    "    print(type(src_sentences[0]))\n",
    "    \n",
    "    \n",
    "    for idx in tqdm(range(sample_size)):\n",
    "        score = eval_bleu_single(model, src_sentences[idx], tgt_sentence[idx], src_tokenizer, tgt_tokenizer, max_len, verbose)\n",
    "        if not score: continue\n",
    "        \n",
    "        total_score += score\n",
    "    \n",
    "    print(\"Num of Sample:\", sample_size)\n",
    "    print(\"Total Score:\", total_score / sample_size)"
   ]
  },
  {
   "cell_type": "markdown",
   "id": "6bc16971",
   "metadata": {},
   "source": [
    "## 데이타 로드"
   ]
  },
  {
   "cell_type": "code",
   "execution_count": 132,
   "id": "662a4375",
   "metadata": {},
   "outputs": [],
   "source": [
    "data_dir = os.getenv('HOME')+'/aiffel/transformer/dat'\n",
    "kor_path = data_dir+\"/korean-english-park.train.ko\"\n",
    "eng_path = data_dir+\"/korean-english-park.train.en\""
   ]
  },
  {
   "cell_type": "code",
   "execution_count": 133,
   "id": "19a08456",
   "metadata": {},
   "outputs": [],
   "source": [
    "# 데이터 정제 및 토큰화\n",
    "import re\n",
    "\n",
    "def preprocess_sentence(sentence):\n",
    "    \n",
    "    # 1. 소문자로 변환\n",
    "    sentence = sentence.lower()\n",
    "\n",
    "    # 2. 알파벳, 문장부호([?.!,]), 한글만 남기고 모두 제거\n",
    "    sentence = re.sub(r\"[^a-z가-힣?.!,]+\", \" \", sentence)\n",
    "\n",
    "    # 3. 문장부호 양옆에 공백 추가\n",
    "    sentence = re.sub(r\"([?.!,])\", r\" \\1 \", sentence)\n",
    "\n",
    "    # 4. 여러 공백을 하나로 축소\n",
    "    sentence = re.sub(r\"\\s+\", \" \", sentence)\n",
    "\n",
    "    # 5. 문장 앞뒤 공백 제거\n",
    "    sentence = sentence.strip()\n",
    "    \n",
    "    return sentence\n",
    "\n",
    "\n",
    "def clean_corpus(kor_path, eng_path):\n",
    "    with open(kor_path, \"r\", encoding='utf-8') as f:\n",
    "        kor = f.read().splitlines()\n",
    "    with open(eng_path, \"r\", encoding='utf-8') as f:\n",
    "        eng = f.read().splitlines()\n",
    "    \n",
    "    assert len(kor) == len(eng)\n",
    "\n",
    "    corpus_set = set()  # 중복 제거용 set\n",
    "\n",
    "    for k, e in zip(kor, eng):\n",
    "        k_clean = preprocess_sentence(k)\n",
    "        e_clean = preprocess_sentence(e)\n",
    "\n",
    "        # 너무 짧거나 긴 문장은 제외 (공백 기준 토큰 수)\n",
    "        if 1 < len(k_clean.split()) <= 50 and 1 < len(e_clean.split()) <= 50:\n",
    "            corpus_set.add((k_clean, e_clean))  # set에 추가 (자동 중복 제거)\n",
    "\n",
    "    cleaned_corpus = list(corpus_set)  # 다시 리스트로 변환\n",
    "\n",
    "    return cleaned_corpus\n",
    "\n",
    "cleaned_corpus = clean_corpus(kor_path, eng_path)"
   ]
  },
  {
   "cell_type": "code",
   "execution_count": 134,
   "id": "3e2cb9c2",
   "metadata": {},
   "outputs": [
    {
     "name": "stdout",
     "output_type": "stream",
     "text": [
      "Total number of sentence pairs: 77082\n",
      "Korean: 인도네시아 기상센터는 지진 발생 몇 시간 후 쓰나미가 우려할 수준이 아니라고 판단 , 쓰나미 경보를 해제했으나 강한 여진이 오후 시 분 발생해 다시 쓰나미 경보를 발령했다 .\n",
      "English: indonesia s meteorological center said the small tsunami was not a concern and canceled its tsunami alert several hours after the quake struck , but it issued a new alert after a strong aftershock occurred at p . m . gmt .\n"
     ]
    }
   ],
   "source": [
    "print(f\"Total number of sentence pairs: {len(cleaned_corpus)}\")\n",
    "kor, eng= cleaned_corpus[10]\n",
    "print(\"Korean:\", kor)\n",
    "print(\"English:\", eng)"
   ]
  },
  {
   "cell_type": "code",
   "execution_count": 135,
   "id": "eef474a6",
   "metadata": {},
   "outputs": [],
   "source": [
    "def check_sentence_length(sentences, label=\"\"):\n",
    "    min_len = 999\n",
    "    max_len = 0\n",
    "    sum_len = 0\n",
    "\n",
    "    for sen in sentences:\n",
    "        length = len(sen.split())\n",
    "        if length < min_len:\n",
    "            min_len = length\n",
    "        if length > max_len:\n",
    "            max_len = length\n",
    "        sum_len += length\n",
    "\n",
    "    print(f\"[{label}] 문장의 최단 길이: {min_len}\")\n",
    "    print(f\"[{label}] 문장의 최장 길이: {max_len}\")\n",
    "    print(f\"[{label}] 문장의 평균 길이: {sum_len // len(sentences)}\")\n",
    "\n",
    "    sentence_length = np.zeros((max_len), dtype=int)\n",
    "    for sen in sentences:\n",
    "        length = len(sen.split())\n",
    "        sentence_length[length - 1] += 1\n",
    "\n",
    "    plt.figure(figsize=(10, 5))\n",
    "    plt.bar(range(1, max_len + 1), sentence_length, width=0.8)\n",
    "    plt.title(f'{label} Sentence Length Distribution')\n",
    "    plt.xlabel(\"Number of Words\")\n",
    "    plt.ylabel(\"Number of Sentences\")\n",
    "    plt.grid(True)\n",
    "    plt.show()\n",
    "\n",
    "    return sentence_length"
   ]
  },
  {
   "cell_type": "code",
   "execution_count": 136,
   "id": "0bc44e31",
   "metadata": {},
   "outputs": [
    {
     "name": "stdout",
     "output_type": "stream",
     "text": [
      "[Korean] 문장의 최단 길이: 2\n",
      "[Korean] 문장의 최장 길이: 50\n",
      "[Korean] 문장의 평균 길이: 16\n"
     ]
    },
    {
     "data": {
      "image/png": "[encoded data removed]",
      "text/plain": [
       "<Figure size 720x360 with 1 Axes>"
      ]
     },
     "metadata": {
      "image/png": {
       "height": 334,
       "width": 617
      },
      "needs_background": "light"
     },
     "output_type": "display_data"
    },
    {
     "name": "stdout",
     "output_type": "stream",
     "text": [
      "[English] 문장의 최단 길이: 2\n",
      "[English] 문장의 최장 길이: 50\n",
      "[English] 문장의 평균 길이: 24\n"
     ]
    },
    {
     "data": {
      "image/png": "[encoded data removed]",
      "text/plain": [
       "<Figure size 720x360 with 1 Axes>"
      ]
     },
     "metadata": {
      "image/png": {
       "height": 334,
       "width": 617
      },
      "needs_background": "light"
     },
     "output_type": "display_data"
    }
   ],
   "source": [
    "# 문장 리스트 분리\n",
    "korean_sentences = [pair[0] for pair in cleaned_corpus]\n",
    "english_sentences = [pair[1] for pair in cleaned_corpus]\n",
    "\n",
    "# 시각화 및 통계 출력\n",
    "korean_lengths = check_sentence_length(korean_sentences, \"Korean\")\n",
    "english_lengths = check_sentence_length(english_sentences, \"English\")"
   ]
  },
  {
   "cell_type": "markdown",
   "id": "f8139a17",
   "metadata": {},
   "source": [
    "- Sentencepiece를 활용하여 학습한 tokenizer를 생성합니다."
   ]
  },
  {
   "cell_type": "code",
   "execution_count": 137,
   "id": "9ee89a29",
   "metadata": {},
   "outputs": [],
   "source": [
    "def generate_tokenizer(corpus,\n",
    "                       vocab_size,\n",
    "                       lang=\"ko\",\n",
    "                       pad_id=0,   # pad token의 일련번호\n",
    "                       bos_id=1,  # 문장의 시작을 의미하는 bos token(<s>)의 일련번호\n",
    "                       eos_id=2,  # 문장의 끝을 의미하는 eos token(</s>)의 일련번호\n",
    "                       unk_id=3):   # unk token의 일련번호\n",
    "    file = \"./%s_corpus.txt\" % lang\n",
    "    model = \"%s_spm\" % lang\n",
    "\n",
    "    with open(file, 'w') as f:\n",
    "        for row in corpus: f.write(str(row) + '\\n')\n",
    "\n",
    "    import sentencepiece as spm\n",
    "    spm.SentencePieceTrainer.Train(\n",
    "        '--input=./%s --model_prefix=%s --vocab_size=%d'\\\n",
    "        % (file, model, vocab_size) + \\\n",
    "        '--pad_id==%d --bos_id=%d --eos_id=%d --unk_id=%d'\\\n",
    "        % (pad_id, bos_id, eos_id, unk_id)\n",
    "    )\n",
    "\n",
    "    tokenizer = spm.SentencePieceProcessor()\n",
    "    tokenizer.Load('%s.model' % model)\n",
    "\n",
    "    return tokenizer\n"
   ]
  },
  {
   "cell_type": "code",
   "execution_count": 138,
   "id": "253c4d76",
   "metadata": {},
   "outputs": [
    {
     "name": "stderr",
     "output_type": "stream",
     "text": [
      "sentencepiece_trainer.cc(177) LOG(INFO) Running command: --input=././ko_corpus.txt --model_prefix=ko_spm --vocab_size=20000--pad_id==0 --bos_id=1 --eos_id=2 --unk_id=3\n",
      "sentencepiece_trainer.cc(77) LOG(INFO) Starts training with : \n",
      "trainer_spec {\n",
      "  input: ././ko_corpus.txt\n",
      "  input_format: \n",
      "  model_prefix: ko_spm\n",
      "  model_type: UNIGRAM\n",
      "  vocab_size: 20000\n",
      "  self_test_sample_size: 0\n",
      "  character_coverage: 0.9995\n",
      "  input_sentence_size: 0\n",
      "  shuffle_input_sentence: 1\n",
      "  seed_sentencepiece_size: 1000000\n",
      "  shrinking_factor: 0.75\n",
      "  max_sentence_length: 4192\n",
      "  num_threads: 16\n",
      "  num_sub_iterations: 2\n",
      "  max_sentencepiece_length: 16\n",
      "  split_by_unicode_script: 1\n",
      "  split_by_number: 1\n",
      "  split_by_whitespace: 1\n",
      "  split_digits: 0\n",
      "  treat_whitespace_as_suffix: 0\n",
      "  allow_whitespace_only_pieces: 0\n",
      "  required_chars: \n",
      "  byte_fallback: 0\n",
      "  vocabulary_output_piece_score: 1\n",
      "  train_extremely_large_corpus: 0\n",
      "  hard_vocab_limit: 1\n",
      "  use_all_vocab: 0\n",
      "  unk_id: 3\n",
      "  bos_id: 1\n",
      "  eos_id: 2\n",
      "  pad_id: -1\n",
      "  unk_piece: <unk>\n",
      "  bos_piece: <s>\n",
      "  eos_piece: </s>\n",
      "  pad_piece: <pad>\n",
      "  unk_surface:  ⁇ \n",
      "}\n",
      "normalizer_spec {\n",
      "  name: nmt_nfkc\n",
      "  add_dummy_prefix: 1\n",
      "  remove_extra_whitespaces: 1\n",
      "  escape_whitespaces: 1\n",
      "  normalization_rule_tsv: \n",
      "}\n",
      "denormalizer_spec {}\n",
      "trainer_interface.cc(329) LOG(INFO) SentenceIterator is not specified. Using MultiFileSentenceIterator.\n",
      "trainer_interface.cc(178) LOG(INFO) Loading corpus: ././ko_corpus.txt\n",
      "trainer_interface.cc(385) LOG(INFO) Loaded all 77082 sentences\n",
      "trainer_interface.cc(400) LOG(INFO) Adding meta_piece: <s>\n",
      "trainer_interface.cc(400) LOG(INFO) Adding meta_piece: </s>\n",
      "trainer_interface.cc(400) LOG(INFO) Adding meta_piece: <unk>\n",
      "trainer_interface.cc(405) LOG(INFO) Normalizing sentences...\n",
      "trainer_interface.cc(466) LOG(INFO) all chars count=4877028\n",
      "trainer_interface.cc(477) LOG(INFO) Done: 99.9503% characters are covered.\n",
      "trainer_interface.cc(487) LOG(INFO) Alphabet size=1186\n",
      "trainer_interface.cc(488) LOG(INFO) Final character coverage=0.999503\n",
      "trainer_interface.cc(520) LOG(INFO) Done! preprocessed 77082 sentences.\n",
      "unigram_model_trainer.cc(139) LOG(INFO) Making suffix array...\n",
      "unigram_model_trainer.cc(143) LOG(INFO) Extracting frequent sub strings...\n",
      "unigram_model_trainer.cc(194) LOG(INFO) Initialized 156009 seed sentencepieces\n",
      "trainer_interface.cc(526) LOG(INFO) Tokenizing input sentences with whitespace: 77082\n",
      "trainer_interface.cc(537) LOG(INFO) Done! 191705\n",
      "unigram_model_trainer.cc(489) LOG(INFO) Using 191705 sentences for EM training\n",
      "unigram_model_trainer.cc(505) LOG(INFO) EM sub_iter=0 size=81678 obj=12.5982 num_tokens=370981 num_tokens/piece=4.54199\n",
      "unigram_model_trainer.cc(505) LOG(INFO) EM sub_iter=1 size=69130 obj=11.4486 num_tokens=372284 num_tokens/piece=5.38527\n",
      "unigram_model_trainer.cc(505) LOG(INFO) EM sub_iter=0 size=51842 obj=11.4558 num_tokens=388939 num_tokens/piece=7.50239\n",
      "unigram_model_trainer.cc(505) LOG(INFO) EM sub_iter=1 size=51828 obj=11.422 num_tokens=389279 num_tokens/piece=7.51098\n",
      "unigram_model_trainer.cc(505) LOG(INFO) EM sub_iter=0 size=38871 obj=11.5685 num_tokens=412403 num_tokens/piece=10.6095\n",
      "unigram_model_trainer.cc(505) LOG(INFO) EM sub_iter=1 size=38869 obj=11.5347 num_tokens=412412 num_tokens/piece=10.6103\n",
      "unigram_model_trainer.cc(505) LOG(INFO) EM sub_iter=0 size=29151 obj=11.7265 num_tokens=438126 num_tokens/piece=15.0295\n",
      "unigram_model_trainer.cc(505) LOG(INFO) EM sub_iter=1 size=29151 obj=11.6844 num_tokens=438122 num_tokens/piece=15.0294\n",
      "unigram_model_trainer.cc(505) LOG(INFO) EM sub_iter=0 size=22000 obj=11.922 num_tokens=463615 num_tokens/piece=21.0734\n",
      "unigram_model_trainer.cc(505) LOG(INFO) EM sub_iter=1 size=22000 obj=11.8768 num_tokens=463611 num_tokens/piece=21.0732\n",
      "trainer_interface.cc(615) LOG(INFO) Saving model: ko_spm.model\n",
      "trainer_interface.cc(626) LOG(INFO) Saving vocabs: ko_spm.vocab\n",
      "sentencepiece_trainer.cc(177) LOG(INFO) Running command: --input=././en_corpus.txt --model_prefix=en_spm --vocab_size=20000--pad_id==0 --bos_id=1 --eos_id=2 --unk_id=3\n",
      "sentencepiece_trainer.cc(77) LOG(INFO) Starts training with : \n",
      "trainer_spec {\n",
      "  input: ././en_corpus.txt\n",
      "  input_format: \n",
      "  model_prefix: en_spm\n",
      "  model_type: UNIGRAM\n",
      "  vocab_size: 20000\n",
      "  self_test_sample_size: 0\n",
      "  character_coverage: 0.9995\n",
      "  input_sentence_size: 0\n",
      "  shuffle_input_sentence: 1\n",
      "  seed_sentencepiece_size: 1000000\n",
      "  shrinking_factor: 0.75\n",
      "  max_sentence_length: 4192\n",
      "  num_threads: 16\n",
      "  num_sub_iterations: 2\n",
      "  max_sentencepiece_length: 16\n",
      "  split_by_unicode_script: 1\n",
      "  split_by_number: 1\n",
      "  split_by_whitespace: 1\n",
      "  split_digits: 0\n",
      "  treat_whitespace_as_suffix: 0\n",
      "  allow_whitespace_only_pieces: 0\n",
      "  required_chars: \n",
      "  byte_fallback: 0\n",
      "  vocabulary_output_piece_score: 1\n",
      "  train_extremely_large_corpus: 0\n",
      "  hard_vocab_limit: 1\n",
      "  use_all_vocab: 0\n",
      "  unk_id: 3\n",
      "  bos_id: 1\n",
      "  eos_id: 2\n",
      "  pad_id: -1\n",
      "  unk_piece: <unk>\n",
      "  bos_piece: <s>\n",
      "  eos_piece: </s>\n",
      "  pad_piece: <pad>\n",
      "  unk_surface:  ⁇ \n",
      "}\n",
      "normalizer_spec {\n",
      "  name: nmt_nfkc\n",
      "  add_dummy_prefix: 1\n",
      "  remove_extra_whitespaces: 1\n",
      "  escape_whitespaces: 1\n",
      "  normalization_rule_tsv: \n",
      "}\n",
      "denormalizer_spec {}\n",
      "trainer_interface.cc(329) LOG(INFO) SentenceIterator is not specified. Using MultiFileSentenceIterator.\n",
      "trainer_interface.cc(178) LOG(INFO) Loading corpus: ././en_corpus.txt\n",
      "trainer_interface.cc(385) LOG(INFO) Loaded all 77082 sentences\n",
      "trainer_interface.cc(400) LOG(INFO) Adding meta_piece: <s>\n",
      "trainer_interface.cc(400) LOG(INFO) Adding meta_piece: </s>\n",
      "trainer_interface.cc(400) LOG(INFO) Adding meta_piece: <unk>\n",
      "trainer_interface.cc(405) LOG(INFO) Normalizing sentences...\n",
      "trainer_interface.cc(466) LOG(INFO) all chars count=10192380\n",
      "trainer_interface.cc(477) LOG(INFO) Done: 99.9915% characters are covered.\n",
      "trainer_interface.cc(487) LOG(INFO) Alphabet size=29\n",
      "trainer_interface.cc(488) LOG(INFO) Final character coverage=0.999915\n",
      "trainer_interface.cc(520) LOG(INFO) Done! preprocessed 77082 sentences.\n",
      "unigram_model_trainer.cc(139) LOG(INFO) Making suffix array...\n",
      "unigram_model_trainer.cc(143) LOG(INFO) Extracting frequen"
     ]
    },
    {
     "data": {
      "text/plain": [
       "True"
      ]
     },
     "execution_count": 138,
     "metadata": {},
     "output_type": "execute_result"
    },
    {
     "name": "stderr",
     "output_type": "stream",
     "text": [
      "t sub strings...\n",
      "unigram_model_trainer.cc(194) LOG(INFO) Initialized 81730 seed sentencepieces\n",
      "trainer_interface.cc(526) LOG(INFO) Tokenizing input sentences with whitespace: 77082\n",
      "trainer_interface.cc(537) LOG(INFO) Done! 43876\n",
      "unigram_model_trainer.cc(489) LOG(INFO) Using 43876 sentences for EM training\n",
      "unigram_model_trainer.cc(505) LOG(INFO) EM sub_iter=0 size=34008 obj=9.87548 num_tokens=82044 num_tokens/piece=2.41249\n",
      "unigram_model_trainer.cc(505) LOG(INFO) EM sub_iter=1 size=25491 obj=8.02001 num_tokens=82507 num_tokens/piece=3.23671\n",
      "unigram_model_trainer.cc(505) LOG(INFO) EM sub_iter=0 size=21955 obj=7.93601 num_tokens=83014 num_tokens/piece=3.7811\n",
      "unigram_model_trainer.cc(505) LOG(INFO) EM sub_iter=1 size=21754 obj=7.91881 num_tokens=83460 num_tokens/piece=3.83654\n",
      "trainer_interface.cc(615) LOG(INFO) Saving model: en_spm.model\n",
      "trainer_interface.cc(626) LOG(INFO) Saving vocabs: en_spm.vocab\n"
     ]
    }
   ],
   "source": [
    "SRC_VOCAB_SIZE = TGT_VOCAB_SIZE = 20000\n",
    "\n",
    "eng_corpus = []\n",
    "kor_corpus = []\n",
    "\n",
    "for pair in cleaned_corpus:\n",
    "    k = pair[0]\n",
    "    e = pair[1]\n",
    "\n",
    "    kor_corpus.append(k)\n",
    "    eng_corpus.append(e)\n",
    "\n",
    "ko_tokenizer = generate_tokenizer(kor_corpus, SRC_VOCAB_SIZE, \"ko\")\n",
    "en_tokenizer = generate_tokenizer(eng_corpus, TGT_VOCAB_SIZE, \"en\")\n",
    "en_tokenizer.set_encode_extra_options(\"bos:eos\") # 문장 양 끝에 <s> , </s> 추가"
   ]
  },
  {
   "cell_type": "code",
   "execution_count": 139,
   "id": "c2051bb0",
   "metadata": {
    "scrolled": true
   },
   "outputs": [
    {
     "data": {
      "application/vnd.jupyter.widget-view+json": {
       "model_id": "e4a47dd919d840bea7ccd1ec56c1d3d6",
       "version_major": 2,
       "version_minor": 0
      },
      "text/plain": [
       "  0%|          | 0/77082 [00:00<?, ?it/s]"
      ]
     },
     "metadata": {},
     "output_type": "display_data"
    }
   ],
   "source": [
    "from tqdm.notebook import tqdm    # Process 과정을 보기 위해\n",
    "\n",
    "src_corpus = []\n",
    "tgt_corpus = []\n",
    "\n",
    "assert len(kor_corpus) == len(eng_corpus)\n",
    "\n",
    "# 토큰의 길이가 50 이하인 문장만 남깁니다. \n",
    "for idx in tqdm(range(len(kor_corpus))):\n",
    "    k_tokens = ko_tokenizer.encode_as_ids(kor_corpus[idx])  \n",
    "    e_tokens = en_tokenizer.encode_as_ids(eng_corpus[idx])\n",
    "    \n",
    "    src_corpus.append(k_tokens)\n",
    "    tgt_corpus.append(e_tokens)\n",
    "    \n",
    "    \n",
    "# 패딩처리를 완료하여 학습용 데이터를 완성합니다. \n",
    "enc_train = tf.keras.preprocessing.sequence.pad_sequences(src_corpus, maxlen=MAX_LEN, padding='post')\n",
    "dec_train = tf.keras.preprocessing.sequence.pad_sequences(tgt_corpus, maxlen=MAX_LEN, padding='post')"
   ]
  },
  {
   "cell_type": "markdown",
   "id": "8397315b",
   "metadata": {},
   "source": [
    "## Test Data"
   ]
  },
  {
   "cell_type": "code",
   "execution_count": 170,
   "id": "c1b38505",
   "metadata": {},
   "outputs": [
    {
     "name": "stdout",
     "output_type": "stream",
     "text": [
      "Total number of sentence pairs: 1945\n",
      "Korean: 교황 베네딕토 세는 이날 행사에 참석하기 전 마지막 휴식을 취하며 이날 참석한 천주교 신도의 휴대전화에 성령이 사도들을 세상에 보내셨고 여러분에게 예수님의 부활을 널리 전파할 능력을 주셨습니다 교황 베네딕토 세로부터 라는 문자 메시지를 보냈다 .\n",
      "English: pope benedict xvi , enjoying a final day of rest before joining the events , sent a daily text message to pilgrims cell phones the holy spirit gave the apostles and gives u the power boldly proclaim that christ is risen ! bxvi .\n",
      "[Korean] 문장의 최단 길이: 2\n",
      "[Korean] 문장의 최장 길이: 43\n",
      "[Korean] 문장의 평균 길이: 17\n"
     ]
    },
    {
     "data": {
      "image/png": "[encoded data removed]",
      "text/plain": [
       "<Figure size 720x360 with 1 Axes>"
      ]
     },
     "metadata": {
      "image/png": {
       "height": 334,
       "width": 611
      },
      "needs_background": "light"
     },
     "output_type": "display_data"
    },
    {
     "name": "stdout",
     "output_type": "stream",
     "text": [
      "[English] 문장의 최단 길이: 2\n",
      "[English] 문장의 최장 길이: 50\n",
      "[English] 문장의 평균 길이: 24\n"
     ]
    },
    {
     "data": {
      "image/png": "[encoded data removed]",
      "text/plain": [
       "<Figure size 720x360 with 1 Axes>"
      ]
     },
     "metadata": {
      "image/png": {
       "height": 334,
       "width": 606
      },
      "needs_background": "light"
     },
     "output_type": "display_data"
    }
   ],
   "source": [
    "data_dir = os.getenv('HOME')+'/aiffel/transformer/dat'\n",
    "kor_test_path = data_dir+\"/korean-english-park.test.ko\"\n",
    "eng_test_path = data_dir+\"/korean-english-park.test.en\"\n",
    "\n",
    "cleaned_test_corpus = clean_corpus(kor_test_path, eng_test_path)\n",
    "\n",
    "print(f\"Total number of sentence pairs: {len(cleaned_test_corpus)}\")\n",
    "kor, eng= cleaned_test_corpus[10]\n",
    "print(\"Korean:\", kor)\n",
    "print(\"English:\", eng)\n",
    "\n",
    "# 문장 리스트 분리\n",
    "korean_sentences = [pair[0] for pair in cleaned_test_corpus]\n",
    "english_sentences = [pair[1] for pair in cleaned_test_corpus]\n",
    "\n",
    "# 시각화 및 통계 출력\n",
    "korean_lengths = check_sentence_length(korean_sentences, \"Korean\")\n",
    "english_lengths = check_sentence_length(english_sentences, \"English\")\n",
    "\n",
    " "
   ]
  },
  {
   "cell_type": "code",
   "execution_count": 171,
   "id": "500cc074",
   "metadata": {},
   "outputs": [
    {
     "name": "stdout",
     "output_type": "stream",
     "text": [
      "Total number of sentence : 1945\n",
      "Korean: 교황 베네딕토 세는 이날 행사에 참석하기 전 마지막 휴식을 취하며 이날 참석한 천주교 신도의 휴대전화에 성령이 사도들을 세상에 보내셨고 여러분에게 예수님의 부활을 널리 전파할 능력을 주셨습니다 교황 베네딕토 세로부터 라는 문자 메시지를 보냈다 .\n",
      "English: pope benedict xvi , enjoying a final day of rest before joining the events , sent a daily text message to pilgrims cell phones the holy spirit gave the apostles and gives u the power boldly proclaim that christ is risen ! bxvi .\n"
     ]
    }
   ],
   "source": [
    "# kor, eng 분리\n",
    "kor_test_corpus = []\n",
    "eng_test_corpus = []\n",
    "\n",
    "for pair in cleaned_test_corpus:\n",
    "    k = pair[0]\n",
    "    e = pair[1]\n",
    "\n",
    "    kor_test_corpus.append(k)\n",
    "    eng_test_corpus.append(e)\n",
    "\n",
    "print(f\"Total number of sentence : {len(kor_test_corpus)}\")\n",
    "print(\"Korean:\", kor_test_corpus[10])\n",
    "print(\"English:\", eng_test_corpus[10])"
   ]
  },
  {
   "cell_type": "markdown",
   "id": "42f72b64",
   "metadata": {},
   "source": [
    "## 데이타 증강  --- TODO"
   ]
  },
  {
   "cell_type": "code",
   "execution_count": null,
   "id": "93a4aeb9",
   "metadata": {},
   "outputs": [],
   "source": [
    "\n",
    "for pair in cleaned_corpus:\n",
    "    k = pair[0]\n",
    "    e = pair[1]\n"
   ]
  },
  {
   "cell_type": "markdown",
   "id": "ec4fb50d",
   "metadata": {},
   "source": [
    "## 공통 함수"
   ]
  },
  {
   "cell_type": "code",
   "execution_count": 140,
   "id": "a98f839f",
   "metadata": {},
   "outputs": [],
   "source": [
    "test_sentence = [\n",
    "                '오바마는 대통령이다.', \n",
    "                '시민들은 도시 속에 산다.', \n",
    "                '커피는 필요 없다.',\n",
    "                '일곱 명의 사망자가 발생했다.'\n",
    "]"
   ]
  },
  {
   "cell_type": "code",
   "execution_count": 195,
   "id": "664b7441",
   "metadata": {},
   "outputs": [],
   "source": [
    "def test_evaluate(model, test_sentences):\n",
    "    for(idx, sentence) in enumerate(test_sentences): \n",
    "        pieces, result, enc_attns, dec_attns, dec_enc_attns = \\\n",
    "            evaluate(sentence, model, ko_tokenizer, en_tokenizer)\n",
    "        \n",
    "        print(f\"{idx}. {sentence}\")\n",
    "        print(f\">>  {result}\")"
   ]
  },
  {
   "cell_type": "code",
   "execution_count": 176,
   "id": "02ccba80",
   "metadata": {},
   "outputs": [],
   "source": [
    "def test_translate(model, test_sentences):\n",
    "    for(idx, sentence) in enumerate(test_sentences): \n",
    "        translate(sentence, model, ko_tokenizer, en_tokenizer, True)\n"
   ]
  },
  {
   "cell_type": "code",
   "execution_count": 147,
   "id": "aed5a984",
   "metadata": {},
   "outputs": [],
   "source": [
    "import matplotlib.pyplot as plt\n",
    "def display_loss_graph( ephoch_losses ): \n",
    "    # 에폭과 손실 리스트 분리\n",
    "    epochs = [entry['epochs'] for entry in ephoch_losses]\n",
    "    losses = [entry['loss'] for entry in ephoch_losses]\n",
    "\n",
    "\n",
    "    # 시각화\n",
    "    plt.figure(figsize=(8, 5))\n",
    "    plt.plot(epochs, losses, marker='o', color='blue', label='Train Loss')\n",
    "    plt.title('Train Loss Over Epochs')\n",
    "    plt.xlabel('Epoch')\n",
    "    plt.ylabel('Loss')\n",
    "    plt.grid(True)\n",
    "    plt.legend()\n",
    "    plt.tight_layout()\n",
    "    plt.show()"
   ]
  },
  {
   "cell_type": "code",
   "execution_count": 201,
   "id": "622da00f",
   "metadata": {
    "scrolled": true
   },
   "outputs": [],
   "source": [
    "# train 동작\n",
    "\n",
    "def train_transfomer(config, transformer, enc_train, dec_train, max_epochs, train_losses ) :\n",
    "    \n",
    "    print(\"Test Set Count (No augment) : \", len(enc_train))\n",
    "    print(\"\")\n",
    "    print(\"Hyperparameters\")\n",
    "    print(f\"> n_layers : {config.n_layers}\")\n",
    "    print(f\"> d_model : {config.d_model}\")\n",
    "    print(f\"> n_heads : {config.n_heads}\")\n",
    "    print(f\"> d_ff : {config.d_ff}\")\n",
    "    print(f\"> dropout : {config.dropout_rate}\")\n",
    "    \n",
    "    print(\"\")\n",
    "    print(\"Training Parameters\")\n",
    "    print(f\"> Warmup Steps : {WARMUP_STEPS}\")\n",
    "    print(f\"> Batch Size : {BATCH_SIZE}\")\n",
    "    print(f\"> Epoch : {EPOCHS}\")\n",
    "    batch_size = config.batch_size\n",
    "\n",
    "\n",
    "    train_dataset = tf.data.Dataset.from_tensor_slices((enc_train, dec_train)).batch(batch_size=batch_size)\n",
    "\n",
    "    for epoch in range(max_epochs):\n",
    "        total_loss = 0\n",
    "        test_batches = 0\n",
    "    \n",
    "        dataset_count = tf.data.experimental.cardinality(train_dataset).numpy()\n",
    "        # tqdm 안에 iterable을 넣는다\n",
    "        tqdm_bar = tqdm(enumerate(train_dataset), total=dataset_count)\n",
    "    \n",
    "        for batch, (enc_batch, dec_batch) in tqdm_bar: \n",
    "            batch_loss, enc_attns, dec_attns, dec_enc_attns = \\\n",
    "                train_step( enc_batch, \n",
    "                                dec_batch, \n",
    "                                transformer, \n",
    "                                optimizer\n",
    "                                )\n",
    "        \n",
    "            total_loss += batch_loss  \n",
    "            test_batches += 1\n",
    "\n",
    "        tqdm_bar.set_description_str('Epoch %2d' % (epoch + 1))    # tqdm\n",
    "        tqdm_bar.set_postfix_str('Loss %.4f' % (total_loss.numpy() / (test_batches  + 1)))    # tqdm\n",
    "    \n",
    "        train_losses.append ( {\n",
    "            'epochs' : epoch+1,\n",
    "             'loss' : total_loss.numpy()/test_batches \n",
    "            })\n",
    "    \n",
    "        print(f\"Epoch: {epoch+1}  loss={total_loss / test_batches:.4f}\")\n",
    "   \n",
    "        print(\"\")\n",
    "        print(\"Translations Epoch At :\", {epoch+1})\n",
    "        test_evaluate(transformer, test_sentence)\n",
    "    \n",
    "    return train_losses\n",
    "    \n"
   ]
  },
  {
   "cell_type": "markdown",
   "id": "b127864b",
   "metadata": {},
   "source": [
    "# Test Cas 1.  증강없음, 2 Layer"
   ]
  },
  {
   "cell_type": "code",
   "execution_count": 202,
   "id": "93ec48ef",
   "metadata": {},
   "outputs": [
    {
     "name": "stdout",
     "output_type": "stream",
     "text": [
      "Test Set Count (No augment) :  77082\n",
      "\n",
      "Hyperparameters\n",
      "> n_layers : 2\n",
      "> d_model : 512\n",
      "> n_heads : 8\n",
      "> d_ff : 2048\n",
      "> dropout : 0.3\n",
      "\n",
      "Training Parameters\n",
      "> Warmup Steps : 4000\n",
      "> Batch Size : 64\n",
      "> Epoch : 1\n"
     ]
    },
    {
     "data": {
      "application/vnd.jupyter.widget-view+json": {
       "model_id": "10b2593ca35746ba8731c5ab0596b162",
       "version_major": 2,
       "version_minor": 0
      },
      "text/plain": [
       "  0%|          | 0/1205 [00:00<?, ?it/s]"
      ]
     },
     "metadata": {},
     "output_type": "display_data"
    },
    {
     "name": "stdout",
     "output_type": "stream",
     "text": [
      "Epoch: 1  loss=2.2661\n",
      "\n",
      "Translations Epoch At : {1}\n",
      "0. 커피는 필요 없다.\n",
      ">>  whose time\n",
      "1. 시민들은 도시 속에 산다.\n",
      ">>  today\n",
      "2. 오바마는 대통령이다.\n",
      ">>  today .\n",
      "3. 일곱 명의 사망자가 발생했다.\n",
      ">>  today\n"
     ]
    }
   ],
   "source": [
    "# 2 Layer\n",
    "\n",
    "from dataclasses import dataclass\n",
    "\n",
    "class TransformerCase1Config:\n",
    "    n_layers: int = 2\n",
    "    d_model: int = 512\n",
    "    n_heads: int = 8\n",
    "    d_ff: int = 2048\n",
    "    dropout_rate: float = 0.3\n",
    "    batch_size: int = 64\n",
    "\n",
    "config = TransformerCase1Config()\n",
    "\n",
    "\n",
    "transformer_2layer = Transformer(\n",
    "    n_layers=config.n_layers,\n",
    "    d_model=config.d_model,\n",
    "    n_heads=config.n_heads,\n",
    "    d_ff=config.d_ff,\n",
    "    src_vocab_size=SRC_VOCAB_SIZE,\n",
    "    tgt_vocab_size=TGT_VOCAB_SIZE,\n",
    "    pos_len=200,\n",
    "    dropout=config.dropout_rate,\n",
    "    shared_fc=True)\n",
    "\n",
    "EPOCHS = 1\n",
    "\n",
    "model_1_loss = []\n",
    "model_1_loss = train_transfomer(config, transformer_2layer, enc_train, dec_train, EPOCHS, model_1_loss)"
   ]
  },
  {
   "cell_type": "code",
   "execution_count": 198,
   "id": "4815c644",
   "metadata": {},
   "outputs": [
    {
     "name": "stdout",
     "output_type": "stream",
     "text": [
      "Test Set Count (No augment) :  77082\n",
      "\n",
      "Hyperparameters\n",
      "> n_layers : 2\n",
      "> d_model : 512\n",
      "> n_heads : 8\n",
      "> d_ff : 2048\n",
      "> dropout : 0.3\n",
      "\n",
      "Training Parameters\n",
      "> Warmup Steps : 4000\n",
      "> Batch Size : 64\n",
      "> Epoch : 1\n"
     ]
    },
    {
     "data": {
      "application/vnd.jupyter.widget-view+json": {
       "model_id": "fa44acaec0e74047a1c20cffe57a6f58",
       "version_major": 2,
       "version_minor": 0
      },
      "text/plain": [
       "  0%|          | 0/1205 [00:00<?, ?it/s]"
      ]
     },
     "metadata": {},
     "output_type": "display_data"
    },
    {
     "name": "stdout",
     "output_type": "stream",
     "text": [
      "Epoch: 1  loss=0.0431\n",
      "\n",
      "Translations Epoch At : {1}\n",
      "0. 커피는 필요 없다.\n",
      ">>  \n",
      "1. 시민들은 도시 속에 산다.\n",
      ">>  .\n",
      "2. 오바마는 대통령이다.\n",
      ">>  .\n",
      "3. 일곱 명의 사망자가 발생했다.\n",
      ">>  .\n"
     ]
    }
   ],
   "source": [
    "# 모델1 훈련\n",
    "\n",
    "BATCH_SIZE = 64\n",
    "\n",
    "N_LAYERS = 2\n",
    "D_MODEL= 512\n",
    "N_HEADS = 8\n",
    "D_FF = 2048\n",
    "DROPOUT_RATE = 0.3\n",
    "\n",
    "    \n"
   ]
  },
  {
   "cell_type": "code",
   "execution_count": 168,
   "id": "159de7e0",
   "metadata": {
    "scrolled": true
   },
   "outputs": [
    {
     "data": {
      "image/png": "[encoded data removed]",
      "text/plain": [
       "<Figure size 576x360 with 1 Axes>"
      ]
     },
     "metadata": {
      "image/png": {
       "height": 355,
       "width": 569
      },
      "needs_background": "light"
     },
     "output_type": "display_data"
    }
   ],
   "source": [
    "display_loss_graph(model_1_loss)"
   ]
  },
  {
   "cell_type": "code",
   "execution_count": 178,
   "id": "69ee7597",
   "metadata": {
    "scrolled": true
   },
   "outputs": [
    {
     "name": "stdout",
     "output_type": "stream",
     "text": [
      "Translations and Attention Map\n",
      "Input: 일곱 명의 사망자가 발생했다.\n",
      "Predicted translation: .\n",
      "Encoder Layer 1\n"
     ]
    },
    {
     "data": {
      "image/png": "[encoded data removed]",
      "text/plain": [
       "<Figure size 1440x720 with 4 Axes>"
      ]
     },
     "metadata": {
      "image/png": {
       "height": 275,
       "width": 1148
      },
      "needs_background": "light"
     },
     "output_type": "display_data"
    },
    {
     "name": "stdout",
     "output_type": "stream",
     "text": [
      "Encoder Layer 2\n"
     ]
    },
    {
     "data": {
      "image/png": "[encoded data removed]",
      "text/plain": [
       "<Figure size 1440x720 with 4 Axes>"
      ]
     },
     "metadata": {
      "image/png": {
       "height": 275,
       "width": 1148
      },
      "needs_background": "light"
     },
     "output_type": "display_data"
    },
    {
     "name": "stdout",
     "output_type": "stream",
     "text": [
      "Decoder Self Layer 1\n"
     ]
    },
    {
     "data": {
      "image/png": "[encoded data removed]",
      "text/plain": [
       "<Figure size 1440x720 with 4 Axes>"
      ]
     },
     "metadata": {
      "image/png": {
       "height": 275,
       "width": 1148
      },
      "needs_background": "light"
     },
     "output_type": "display_data"
    },
    {
     "name": "stdout",
     "output_type": "stream",
     "text": [
      "Decoder Src Layer 1\n"
     ]
    },
    {
     "data": {
      "image/png": "[encoded data removed]",
      "text/plain": [
       "<Figure size 1440x720 with 4 Axes>"
      ]
     },
     "metadata": {
      "image/png": {
       "height": 67,
       "width": 1148
      },
      "needs_background": "light"
     },
     "output_type": "display_data"
    },
    {
     "name": "stdout",
     "output_type": "stream",
     "text": [
      "Decoder Self Layer 2\n"
     ]
    },
    {
     "data": {
      "image/png": "[encoded data removed]",
      "text/plain": [
       "<Figure size 1440x720 with 4 Axes>"
      ]
     },
     "metadata": {
      "image/png": {
       "height": 275,
       "width": 1148
      },
      "needs_background": "light"
     },
     "output_type": "display_data"
    },
    {
     "name": "stdout",
     "output_type": "stream",
     "text": [
      "Decoder Src Layer 2\n"
     ]
    },
    {
     "data": {
      "image/png": "[encoded data removed]",
      "text/plain": [
       "<Figure size 1440x720 with 4 Axes>"
      ]
     },
     "metadata": {
      "image/png": {
       "height": 67,
       "width": 1148
      },
      "needs_background": "light"
     },
     "output_type": "display_data"
    }
   ],
   "source": [
    "print(\"Translations and Attention Map\")\n",
    "sentence = [\n",
    "    '일곱 명의 사망자가 발생했다.'\n",
    "]\n",
    "test_translate(transformer, sentence)\n",
    "\n"
   ]
  },
  {
   "cell_type": "code",
   "execution_count": 189,
   "id": "e87e5a89",
   "metadata": {
    "scrolled": true
   },
   "outputs": [
    {
     "name": "stdout",
     "output_type": "stream",
     "text": [
      "<class 'str'>\n"
     ]
    },
    {
     "data": {
      "application/vnd.jupyter.widget-view+json": {
       "model_id": "61a3d6ac5ec64e63b08770804aee88fe",
       "version_major": 2,
       "version_minor": 0
      },
      "text/plain": [
       "  0%|          | 0/1945 [00:00<?, ?it/s]"
      ]
     },
     "metadata": {},
     "output_type": "display_data"
    },
    {
     "name": "stdout",
     "output_type": "stream",
     "text": [
      "Num of Sample: 1945\n",
      "Total Score: 0.00013028157817536012\n"
     ]
    }
   ],
   "source": [
    "# Bleu Score \n",
    "eval_bleu(transformer_2layer, kor_test_corpus, eng_test_corpus, ko_tokenizer, en_tokenizer, MAX_LEN, False)\n"
   ]
  },
  {
   "cell_type": "markdown",
   "id": "f1527ab3",
   "metadata": {},
   "source": [
    "# Test Cas 2.  증강없음, 6 Layer"
   ]
  },
  {
   "cell_type": "code",
   "execution_count": null,
   "id": "5c1b59ad",
   "metadata": {},
   "outputs": [
    {
     "name": "stdout",
     "output_type": "stream",
     "text": [
      "Test Set Count (No augment) :  77082\n",
      "\n",
      "Hyperparameters\n",
      "> n_layers : 6\n",
      "> d_model : 512\n",
      "> n_heads : 8\n",
      "> d_ff : 2048\n",
      "> dropout : 0.3\n",
      "\n",
      "Training Parameters\n",
      "> Warmup Steps : 4000\n",
      "> Batch Size : 64\n",
      "> Epoch : 10\n"
     ]
    },
    {
     "data": {
      "application/vnd.jupyter.widget-view+json": {
       "model_id": "9a4bc9efcd7d4ed0880dbc9e963da2bf",
       "version_major": 2,
       "version_minor": 0
      },
      "text/plain": [
       "  0%|          | 0/1205 [00:00<?, ?it/s]"
      ]
     },
     "metadata": {},
     "output_type": "display_data"
    }
   ],
   "source": [
    "# 6 Layer\n",
    "class TransformerCase2Config:\n",
    "    n_layers: int = 6\n",
    "    d_model: int = 512\n",
    "    n_heads: int = 8\n",
    "    d_ff: int = 2048\n",
    "    dropout_rate: float = 0.3\n",
    "    batch_size: int = 64\n",
    "\n",
    "config = TransformerCase2Config()\n",
    "\n",
    "\n",
    "transformer_6layer = Transformer(\n",
    "    n_layers=config.n_layers,\n",
    "    d_model=config.d_model,\n",
    "    n_heads=config.n_heads,\n",
    "    d_ff=config.d_ff,\n",
    "    src_vocab_size=SRC_VOCAB_SIZE,\n",
    "    tgt_vocab_size=TGT_VOCAB_SIZE,\n",
    "    pos_len=200,\n",
    "    dropout=config.dropout_rate,\n",
    "    shared_fc=True)\n",
    "\n",
    "\n",
    "EPOCHS = 10\n",
    "\n",
    "model_2_loss = []\n",
    "model_2_loss = train_transfomer(config, transformer_6layer, enc_train, dec_train, EPOCHS, model_2_loss)"
   ]
  },
  {
   "cell_type": "code",
   "execution_count": null,
   "id": "145f8fe9",
   "metadata": {},
   "outputs": [],
   "source": [
    "display_loss_graph(model_2_loss)"
   ]
  },
  {
   "cell_type": "code",
   "execution_count": null,
   "id": "3957a104",
   "metadata": {},
   "outputs": [],
   "source": [
    "print(\"Translations and Attention Map\")\n",
    "sentence = [\n",
    "    '일곱 명의 사망자가 발생했다.'\n",
    "]\n",
    "test_translate(transformer, sentence)"
   ]
  },
  {
   "cell_type": "code",
   "execution_count": null,
   "id": "05a5826f",
   "metadata": {},
   "outputs": [],
   "source": [
    "# Bleu Score \n",
    "eval_bleu(transformer_6layer, kor_test_corpus, eng_test_corpus, ko_tokenizer, en_tokenizer, MAX_LEN, False)"
   ]
  }
 ],
 "metadata": {
  "kernelspec": {
   "display_name": "Python 3 (ipykernel)",
   "language": "python",
   "name": "python3"
  },
  "language_info": {
   "codemirror_mode": {
    "name": "ipython",
    "version": 3
   },
   "file_extension": ".py",
   "mimetype": "text/x-python",
   "name": "python",
   "nbconvert_exporter": "python",
   "pygments_lexer": "ipython3",
   "version": "3.9.7"
  }
 },
 "nbformat": 4,
 "nbformat_minor": 5
}
