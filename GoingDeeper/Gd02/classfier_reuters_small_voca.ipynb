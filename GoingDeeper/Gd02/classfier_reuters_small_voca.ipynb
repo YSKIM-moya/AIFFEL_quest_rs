{
 "cells": [
  {
   "cell_type": "markdown",
   "id": "46b53503",
   "metadata": {},
   "source": [
    "## 데이타 확인"
   ]
  },
  {
   "cell_type": "code",
   "execution_count": 1,
   "id": "362dc0fb",
   "metadata": {},
   "outputs": [
    {
     "name": "stdout",
     "output_type": "stream",
     "text": [
      "훈련 샘플의 수: 8982\n",
      "테스트 샘플의 수: 2246\n",
      "클래스의 수 : 46\n",
      "훈련용 뉴스의 최대 길이 :2376\n",
      "훈련용 뉴스의 평균 길이 :145.5398574927633\n"
     ]
    },
    {
     "data": {
      "image/png": "[encoded data removed]",
      "text/plain": [
       "<Figure size 432x288 with 1 Axes>"
      ]
     },
     "metadata": {
      "needs_background": "light"
     },
     "output_type": "display_data"
    },
    {
     "data": {
      "image/png": "[encoded data removed]",
      "text/plain": [
       "<Figure size 792x360 with 1 Axes>"
      ]
     },
     "metadata": {
      "needs_background": "light"
     },
     "output_type": "display_data"
    },
    {
     "name": "stdout",
     "output_type": "stream",
     "text": [
      "각 클래스 빈도수:\n",
      "[[   0    1    2    3    4    5    6    7    8    9   10   11   12   13\n",
      "    14   15   16   17   18   19   20   21   22   23   24   25   26   27\n",
      "    28   29   30   31   32   33   34   35   36   37   38   39   40   41\n",
      "    42   43   44   45]\n",
      " [  55  432   74 3159 1949   17   48   16  139  101  124  390   49  172\n",
      "    26   20  444   39   66  549  269  100   15   41   62   92   24   15\n",
      "    48   19   45   39   32   11   50   10   49   19   19   24   36   30\n",
      "    13   21   12   18]]\n"
     ]
    }
   ],
   "source": [
    "from tensorflow.keras.datasets import reuters\n",
    "import matplotlib.pyplot as plt\n",
    "import seaborn as sns\n",
    "import numpy as np\n",
    "import pandas as pd\n",
    "\n",
    "(x_train, y_train), (x_test, y_test) = reuters.load_data(num_words=10000, test_split=0.2)\n",
    "\n",
    "print('훈련 샘플의 수: {}'.format(len(x_train)))\n",
    "print('테스트 샘플의 수: {}'.format(len(x_test)))\n",
    "\n",
    "num_classes = max(y_train) + 1\n",
    "print('클래스의 수 : {}'.format(num_classes))\n",
    "\n",
    "print('훈련용 뉴스의 최대 길이 :{}'.format(max(len(l) for l in x_train)))\n",
    "print('훈련용 뉴스의 평균 길이 :{}'.format(sum(map(len, x_train))/len(x_train)))\n",
    "\n",
    "plt.hist([len(s) for s in x_train], bins=50)\n",
    "plt.xlabel('length of samples')\n",
    "plt.ylabel('number of samples')\n",
    "plt.show()\n",
    "\n",
    "fig, axe = plt.subplots(ncols=1)\n",
    "fig.set_size_inches(11,5)\n",
    "sns.countplot(x=y_train)\n",
    "plt.show()\n",
    "\n",
    "unique_elements, counts_elements = np.unique(y_train, return_counts=True)\n",
    "print(\"각 클래스 빈도수:\")\n",
    "print(np.asarray((unique_elements, counts_elements)))"
   ]
  },
  {
   "cell_type": "markdown",
   "id": "1768b122",
   "metadata": {},
   "source": [
    "## Vocab Size별 데이타 로딩 및 단어장 구성"
   ]
  },
  {
   "cell_type": "code",
   "execution_count": 2,
   "id": "d19efcff",
   "metadata": {},
   "outputs": [
    {
     "name": "stdout",
     "output_type": "stream",
     "text": [
      "30979\n"
     ]
    }
   ],
   "source": [
    "# word index\n",
    "word_index = reuters.get_word_index(path=\"reuters_word_index.json\")\n",
    "\n",
    "#<pad>, <sos>, <unk>\n",
    "index_to_word = { index+3 : word for word, index in word_index.items() }\n",
    "# index_to_word에 숫자 0은 <pad>, 숫자 1은 <sos>, 숫자 2는 <unk>를 넣어줍니다.\n",
    "for index, token in enumerate((\"<pad>\", \"<sos>\", \"<unk>\")):\n",
    "    index_to_word[index]=token\n",
    "\n",
    "total_word_index = len(word_index)\n",
    "print(total_word_index)"
   ]
  },
  {
   "cell_type": "code",
   "execution_count": 3,
   "id": "a33888a8",
   "metadata": {},
   "outputs": [],
   "source": [
    "## word_num별로 train, test를 가져오고, 단어장을 생성하는 함수\n",
    "\n",
    "from sklearn.feature_extraction.text import CountVectorizer\n",
    "from sklearn.feature_extraction.text import TfidfTransformer\n",
    "\n",
    "\n",
    "\n",
    "def decode_to_text( text ) :\n",
    "    decoded_text = []\n",
    "    for i in range(len( text)):\n",
    "        t = ' '.join([index_to_word[index] for index in text[i]])\n",
    "        decoded_text.append(t)\n",
    "    \n",
    "    return decoded_text\n",
    "\n",
    "\n",
    "def load_reuters_by_vocab_sizes():\n",
    "    \n",
    "    data_by_vocab = {}\n",
    "    #DTM\n",
    "    dtmvector = CountVectorizer()\n",
    "    #TF-IDF\n",
    "    tfidf_transformer = TfidfTransformer()\n",
    "\n",
    "    for size in vocab_sizes:\n",
    "        (x_train, y_train), (x_test, y_test) = reuters.load_data(num_words=size, test_split=0.2)\n",
    "         \n",
    "        decoded_train = decode_to_text( x_train )\n",
    "        decoded_test = decode_to_text( x_test )\n",
    "        \n",
    "        # DTM으로 변환\n",
    "        dtm_train= dtmvector.fit_transform(decoded_train)\n",
    "        dtm_test = dtmvector.transform(decoded_test) \n",
    "        \n",
    "        #DTM을 TF-IDF 행렬로 변환\n",
    "        tfidfv_train = tfidf_transformer.fit_transform(dtm_train)\n",
    "        tfidfv_test = tfidf_transformer.transform(dtm_test) \n",
    "        \n",
    "        data_by_vocab[size] = {\n",
    "            'x_train': x_train,  #\n",
    "            'y_train': y_train,\n",
    "            'x_test': x_test, #\n",
    "            'y_test': y_test,\n",
    "            'decoded_train' : decoded_train, #\n",
    "            'decoded_test' : decoded_test,  #\n",
    "            'tfidfv_train' : tfidfv_train, \n",
    "            'tfidfv_test' : tfidfv_test\n",
    "        }\n",
    "\n",
    "    return data_by_vocab\n"
   ]
  },
  {
   "cell_type": "code",
   "execution_count": 4,
   "id": "3bdc7a2d",
   "metadata": {},
   "outputs": [],
   "source": [
    "vocab_sizes = [100, 1000, 10000]\n",
    "data_by_vocab = load_reuters_by_vocab_sizes()"
   ]
  },
  {
   "cell_type": "code",
   "execution_count": 5,
   "id": "1884e9b7",
   "metadata": {
    "scrolled": true
   },
   "outputs": [
    {
     "name": "stdout",
     "output_type": "stream",
     "text": [
      "dict_keys([100, 1000, 10000])\n",
      "Vocab Size: 100\n",
      "  - 훈련 데이터 크기 (행, 열): (8982, 85)\n",
      "  - 훈련 데이터 문서 수: 8982\n",
      "  - 테스트 데이터 크기 (행, 열): (2246, 85)\n",
      "  - 테스트 데이터 문서 수: 2246\n",
      "----------------------------------------\n",
      "Vocab Size: 1000\n",
      "  - 훈련 데이터 크기 (행, 열): (8982, 969)\n",
      "  - 훈련 데이터 문서 수: 8982\n",
      "  - 테스트 데이터 크기 (행, 열): (2246, 969)\n",
      "  - 테스트 데이터 문서 수: 2246\n",
      "----------------------------------------\n",
      "Vocab Size: 10000\n",
      "  - 훈련 데이터 크기 (행, 열): (8982, 9670)\n",
      "  - 훈련 데이터 문서 수: 8982\n",
      "  - 테스트 데이터 크기 (행, 열): (2246, 9670)\n",
      "  - 테스트 데이터 문서 수: 2246\n",
      "----------------------------------------\n"
     ]
    }
   ],
   "source": [
    "print(data_by_vocab.keys())\n",
    "\n",
    "def summarize_data_structure(data_by_vocab):\n",
    "    \"\"\"\n",
    "    data_by_vocab의 구조를 요약해서 자동으로 출력하는 함수.\n",
    "    각 vocab_size에 대해 훈련 데이터와 테스트 데이터의 크기 및 희소 행렬의 형태를 출력합니다.\n",
    "    \"\"\"\n",
    "    for vocab_size, data in data_by_vocab.items():\n",
    "        print(f\"Vocab Size: {vocab_size}\")\n",
    "        \n",
    "        # 훈련 데이터 크기\n",
    "        train_data = data.get('tfidfv_train', None)\n",
    "        if train_data is not None:\n",
    "            print(f\"  - 훈련 데이터 크기 (행, 열): {train_data.shape}\")\n",
    "            print(f\"  - 훈련 데이터 문서 수: {train_data.shape[0]}\")\n",
    "        \n",
    "        # 테스트 데이터 크기\n",
    "        test_data = data.get('tfidfv_test', None)\n",
    "        if test_data is not None:\n",
    "            print(f\"  - 테스트 데이터 크기 (행, 열): {test_data.shape}\")\n",
    "            print(f\"  - 테스트 데이터 문서 수: {test_data.shape[0]}\")\n",
    "        \n",
    "        print(\"-\" * 40)\n",
    "\n",
    "# \n",
    "summarize_data_structure(data_by_vocab)"
   ]
  },
  {
   "cell_type": "code",
   "execution_count": 6,
   "id": "eab2f24b",
   "metadata": {},
   "outputs": [],
   "source": [
    "from sklearn.naive_bayes import MultinomialNB #다항분포 나이브 베이즈 모델\n",
    "from sklearn.linear_model import LogisticRegression, SGDClassifier\n",
    "from sklearn.naive_bayes import ComplementNB\n",
    "from sklearn.tree import DecisionTreeClassifier\n",
    "from sklearn.ensemble import RandomForestClassifier\n",
    "from sklearn.ensemble import GradientBoostingClassifier\n",
    "from sklearn.ensemble import VotingClassifier\n",
    "from sklearn.svm import LinearSVC\n",
    "from sklearn.metrics import accuracy_score #정확도 계산\n",
    "\n",
    "from sklearn.metrics import classification_report\n",
    "from sklearn.metrics import confusion_matrix\n",
    "\n",
    "# 1. 나이브 베이즈 분류기\n",
    "mnb = MultinomialNB()\n",
    "\n",
    "# 2. ComplementNB\n",
    "cnb = ComplementNB()\n",
    "\n",
    "# 3. 로지스틱 회귀(Logistic Regression)\n",
    "lr = LogisticRegression(C=10000, penalty='l2', max_iter=3000)\n",
    "\n",
    "# 4. 선형 서포트 벡터 머신(Linear Support Vector Machine)\n",
    "lsvc = LinearSVC(C=1000, penalty='l1', max_iter=3000, dual=False)\n",
    "\n",
    "# 5. 결정 트리(Decision Tree)\n",
    "tree = DecisionTreeClassifier(max_depth=10, random_state=0)\n",
    "\n",
    "# 6. 랜덤 포레스트(Random Forest)\n",
    "forest = RandomForestClassifier(n_estimators=5, random_state=0)\n",
    "\n",
    "# 7. 그래디언트 부스팅 트리(GradientBoostingClassifier)\n",
    "grbt = GradientBoostingClassifier(random_state=0) # verbose=3\n",
    "\n",
    "# 8. Voting\n",
    "# 개별 모델 정의\n",
    "log_clf = LogisticRegression(penalty='l2', solver='liblinear')  # L2 기본값이지만 명시함\n",
    "nb_clf = ComplementNB()\n",
    "gb_clf = GradientBoostingClassifier()\n",
    "\n",
    "# VotingClassifier 정의 (soft voting)\n",
    "voting_classifier = VotingClassifier(\n",
    "    estimators=[('lr', log_clf), ('nb', nb_clf), ('gb', gb_clf)],\n",
    "    voting='soft'\n",
    ")\n"
   ]
  },
  {
   "cell_type": "code",
   "execution_count": 8,
   "id": "9c4b5e8d",
   "metadata": {},
   "outputs": [],
   "source": [
    "models_1 = [lsvc, voting_classifier]\n",
    "#models_2 = [grbt, voting_classifier]\n"
   ]
  },
  {
   "cell_type": "code",
   "execution_count": 12,
   "id": "6b8cccd3",
   "metadata": {},
   "outputs": [],
   "source": [
    "test_results = []\n",
    "\n",
    "import time\n",
    "\n",
    "def RunClassifier(models) :\n",
    "   for model in models: \n",
    "        # 모델 이름 획득\n",
    "        model_name = model.__class__.__name__\n",
    "        \n",
    "        for vocab_size, data in data_by_vocab.items():\n",
    "            \n",
    "            print(f\"== ModelName: {model_name}, Vocab Size: {vocab_size}\")\n",
    "        \n",
    "            tfidfv_train = data.get('tfidfv_train', None)\n",
    "            tfidfv_test = data.get('tfidfv_test', None)\n",
    "            y_train = data.get('y_train', None)\n",
    "            y_test = data.get('y_test', None)\n",
    "        \n",
    "            if tfidfv_train is not None and tfidfv_test is not None:\n",
    "                \n",
    "                # 훈련 시작 시간 기록\n",
    "                start_time = time.time()\n",
    "                \n",
    "                # 훈련\n",
    "                model.fit(tfidfv_train, y_train) \n",
    "                \n",
    "                             \n",
    "                #테스트 데이터에 대한 예측\n",
    "                predicted = model.predict(tfidfv_test) \n",
    "                \n",
    "                # 훈련 종료 시간 기록\n",
    "                end_time = time.time()\n",
    "                # 훈련 시간 계산\n",
    "                elapsed_time = end_time - start_time\n",
    "                \n",
    "                \n",
    "                #예측값과 실제값 비교\n",
    "                accuracy =  accuracy_score(y_test, predicted)\n",
    "                # 분류 성능 평가 (classification_report)\n",
    "                cr = classification_report(y_test, predicted, zero_division=0, output_dict=True)\n",
    "        \n",
    "                print(\"   정확도:\", round(accuracy, 5))\n",
    "                print(\"   F1-Score:\", round(cr['weighted avg']['f1-score'], 5))\n",
    "        \n",
    "        \n",
    "                test_results.append({\n",
    "                    'model': model_name, \n",
    "                    'vocab_size': vocab_size,\n",
    "                    'val_accuracy': round(accuracy, 4),\n",
    "                    'f1_score': round(cr['weighted avg']['f1-score'], 4), \n",
    "                    'elapsed_time' : round(elapsed_time, 2)\n",
    "                })\n",
    "     "
   ]
  },
  {
   "cell_type": "code",
   "execution_count": 13,
   "id": "18eba76d",
   "metadata": {
    "scrolled": true
   },
   "outputs": [
    {
     "name": "stdout",
     "output_type": "stream",
     "text": [
      "== ModelName: LinearSVC, Vocab Size: 100\n"
     ]
    },
    {
     "name": "stderr",
     "output_type": "stream",
     "text": [
      "/opt/conda/lib/python3.9/site-packages/sklearn/svm/_base.py:1199: ConvergenceWarning: Liblinear failed to converge, increase the number of iterations.\n",
      "  warnings.warn(\n"
     ]
    },
    {
     "name": "stdout",
     "output_type": "stream",
     "text": [
      "   정확도: 0.67053\n",
      "   F1-Score: 0.64508\n",
      "== ModelName: LinearSVC, Vocab Size: 1000\n"
     ]
    },
    {
     "name": "stderr",
     "output_type": "stream",
     "text": [
      "/opt/conda/lib/python3.9/site-packages/sklearn/svm/_base.py:1199: ConvergenceWarning: Liblinear failed to converge, increase the number of iterations.\n",
      "  warnings.warn(\n"
     ]
    },
    {
     "name": "stdout",
     "output_type": "stream",
     "text": [
      "   정확도: 0.71995\n",
      "   F1-Score: 0.71648\n",
      "== ModelName: LinearSVC, Vocab Size: 10000\n"
     ]
    },
    {
     "name": "stderr",
     "output_type": "stream",
     "text": [
      "/opt/conda/lib/python3.9/site-packages/sklearn/svm/_base.py:1199: ConvergenceWarning: Liblinear failed to converge, increase the number of iterations.\n",
      "  warnings.warn(\n"
     ]
    },
    {
     "name": "stdout",
     "output_type": "stream",
     "text": [
      "   정확도: 0.78362\n",
      "   F1-Score: 0.78058\n",
      "== ModelName: VotingClassifier, Vocab Size: 100\n",
      "   정확도: 0.65093\n",
      "   F1-Score: 0.64091\n",
      "== ModelName: VotingClassifier, Vocab Size: 1000\n",
      "   정확도: 0.76269\n",
      "   F1-Score: 0.75358\n",
      "== ModelName: VotingClassifier, Vocab Size: 10000\n",
      "   정확도: 0.79029\n",
      "   F1-Score: 0.78657\n"
     ]
    }
   ],
   "source": [
    "\n",
    "RunClassifier( models_1 )\n",
    "            \n"
   ]
  },
  {
   "cell_type": "code",
   "execution_count": 14,
   "id": "9de8788c",
   "metadata": {
    "scrolled": true
   },
   "outputs": [
    {
     "name": "stdout",
     "output_type": "stream",
     "text": [
      "{'model': 'LinearSVC', 'vocab_size': 100, 'val_accuracy': 0.6705, 'f1_score': 0.6451, 'elapsed_time': 170.21}\n",
      "{'model': 'LinearSVC', 'vocab_size': 1000, 'val_accuracy': 0.7199, 'f1_score': 0.7165, 'elapsed_time': 156.07}\n",
      "{'model': 'LinearSVC', 'vocab_size': 10000, 'val_accuracy': 0.7836, 'f1_score': 0.7806, 'elapsed_time': 112.21}\n",
      "{'model': 'VotingClassifier', 'vocab_size': 100, 'val_accuracy': 0.6509, 'f1_score': 0.6409, 'elapsed_time': 347.26}\n",
      "{'model': 'VotingClassifier', 'vocab_size': 1000, 'val_accuracy': 0.7627, 'f1_score': 0.7536, 'elapsed_time': 698.55}\n",
      "{'model': 'VotingClassifier', 'vocab_size': 10000, 'val_accuracy': 0.7903, 'f1_score': 0.7866, 'elapsed_time': 911.16}\n"
     ]
    }
   ],
   "source": [
    "# 결과 출력\n",
    "for result in test_results:\n",
    "    print(result)"
   ]
  },
  {
   "cell_type": "code",
   "execution_count": 16,
   "id": "a600833a",
   "metadata": {},
   "outputs": [
    {
     "data": {
      "image/png": "[encoded data removed]",
      "text/plain": [
       "<Figure size 1080x504 with 1 Axes>"
      ]
     },
     "metadata": {
      "needs_background": "light"
     },
     "output_type": "display_data"
    }
   ],
   "source": [
    "import pandas as pd\n",
    "import matplotlib.pyplot as plt\n",
    "\n",
    "# DataFrame 변환\n",
    "df = pd.DataFrame(test_results)\n",
    "\n",
    "# vocab_size가 None 또는 NaN인 경우 20000으로 치환\n",
    "df['vocab_size_for_plot'] = df['vocab_size'].apply(\n",
    "    lambda x: 20000 if pd.isna(x) else int(x)\n",
    ")\n",
    "\n",
    "# 그래프 그리기\n",
    "#plt.style.use('seaborn-darkgrid')\n",
    "fig, ax = plt.subplots(figsize=(15, 7))\n",
    "\n",
    "# 색상 지정 (모델 수만큼 색 준비)\n",
    "colors = ['blue', 'green', 'orange', 'red', 'purple', 'cyan']\n",
    "model_names = df['model'].unique()\n",
    "color_map = {model: colors[i % len(colors)] for i, model in enumerate(model_names)}\n",
    "\n",
    "# 모델별 plot\n",
    "for model_name in df['model'].unique():\n",
    "    model_df = df[df['model'] == model_name]\n",
    "    color = color_map[model_name]\n",
    "    \n",
    "    ax.plot(model_df['vocab_size_for_plot'], model_df['val_accuracy'], \n",
    "            marker='o', color=color, label=f'{model_name} - Accuracy')\n",
    "    ax.plot(model_df['vocab_size_for_plot'], model_df['f1_score'], \n",
    "            marker='x', color=color, linestyle='--', label=f'{model_name} - F1 Score')\n",
    "\n",
    "# 레이블, 타이틀 등 설정\n",
    "ax.set_title('Accuracy & F1 Score by Model and Vocab Size', fontsize=14)\n",
    "ax.set_xlabel('Vocab Size (None → 20000)')\n",
    "ax.set_ylabel('Score')\n",
    "ax.legend()\n",
    "# x축 눈금 강제 지정\n",
    "xticks = sorted(df['vocab_size_for_plot'].unique())\n",
    "ax.set_xticks(xticks)\n",
    "\n",
    "#plt.grid(True)\n",
    "plt.show()"
   ]
  }
 ],
 "metadata": {
  "kernelspec": {
   "display_name": "Python 3 (ipykernel)",
   "language": "python",
   "name": "python3"
  },
  "language_info": {
   "codemirror_mode": {
    "name": "ipython",
    "version": 3
   },
   "file_extension": ".py",
   "mimetype": "text/x-python",
   "name": "python",
   "nbconvert_exporter": "python",
   "pygments_lexer": "ipython3",
   "version": "3.9.7"
  }
 },
 "nbformat": 4,
 "nbformat_minor": 5
}
