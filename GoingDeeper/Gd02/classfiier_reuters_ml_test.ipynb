{
 "cells": [
  {
   "cell_type": "code",
   "execution_count": 1,
   "id": "3a7dcf7e",
   "metadata": {},
   "outputs": [
    {
     "name": "stdout",
     "output_type": "stream",
     "text": [
      "훈련 샘플의 수: 8982\n",
      "테스트 샘플의 수: 2246\n",
      "클래스의 수 : 46\n",
      "훈련용 뉴스의 최대 길이 :2376\n",
      "훈련용 뉴스의 평균 길이 :145.5398574927633\n"
     ]
    },
    {
     "data": {
      "image/png": "[encoded data removed]",
      "text/plain": [
       "<Figure size 432x288 with 1 Axes>"
      ]
     },
     "metadata": {
      "needs_background": "light"
     },
     "output_type": "display_data"
    },
    {
     "data": {
      "image/png": "[encoded data removed]",
      "text/plain": [
       "<Figure size 792x360 with 1 Axes>"
      ]
     },
     "metadata": {
      "needs_background": "light"
     },
     "output_type": "display_data"
    },
    {
     "name": "stdout",
     "output_type": "stream",
     "text": [
      "각 클래스 빈도수:\n",
      "[[   0    1    2    3    4    5    6    7    8    9   10   11   12   13\n",
      "    14   15   16   17   18   19   20   21   22   23   24   25   26   27\n",
      "    28   29   30   31   32   33   34   35   36   37   38   39   40   41\n",
      "    42   43   44   45]\n",
      " [  55  432   74 3159 1949   17   48   16  139  101  124  390   49  172\n",
      "    26   20  444   39   66  549  269  100   15   41   62   92   24   15\n",
      "    48   19   45   39   32   11   50   10   49   19   19   24   36   30\n",
      "    13   21   12   18]]\n"
     ]
    }
   ],
   "source": [
    "from tensorflow.keras.datasets import reuters\n",
    "import matplotlib.pyplot as plt\n",
    "import seaborn as sns\n",
    "import numpy as np\n",
    "import pandas as pd\n",
    "\n",
    "(x_train, y_train), (x_test, y_test) = reuters.load_data(num_words=10000, test_split=0.2)\n",
    "\n",
    "print('훈련 샘플의 수: {}'.format(len(x_train)))\n",
    "print('테스트 샘플의 수: {}'.format(len(x_test)))\n",
    "\n",
    "num_classes = max(y_train) + 1\n",
    "print('클래스의 수 : {}'.format(num_classes))\n",
    "\n",
    "print('훈련용 뉴스의 최대 길이 :{}'.format(max(len(l) for l in x_train)))\n",
    "print('훈련용 뉴스의 평균 길이 :{}'.format(sum(map(len, x_train))/len(x_train)))\n",
    "\n",
    "plt.hist([len(s) for s in x_train], bins=50)\n",
    "plt.xlabel('length of samples')\n",
    "plt.ylabel('number of samples')\n",
    "plt.show()\n",
    "\n",
    "fig, axe = plt.subplots(ncols=1)\n",
    "fig.set_size_inches(11,5)\n",
    "sns.countplot(x=y_train)\n",
    "plt.show()\n",
    "\n",
    "unique_elements, counts_elements = np.unique(y_train, return_counts=True)\n",
    "print(\"각 클래스 빈도수:\")\n",
    "print(np.asarray((unique_elements, counts_elements)))"
   ]
  },
  {
   "cell_type": "code",
   "execution_count": 6,
   "id": "bd0daed0",
   "metadata": {},
   "outputs": [],
   "source": [
    "from sklearn.naive_bayes import MultinomialNB #다항분포 나이브 베이즈 모델\n",
    "from sklearn.linear_model import LogisticRegression, SGDClassifier\n",
    "from sklearn.naive_bayes import ComplementNB\n",
    "from sklearn.tree import DecisionTreeClassifier\n",
    "from sklearn.ensemble import RandomForestClassifier\n",
    "from sklearn.ensemble import GradientBoostingClassifier\n",
    "from sklearn.ensemble import VotingClassifier\n",
    "from sklearn.svm import LinearSVC\n",
    "from sklearn.metrics import accuracy_score #정확도 계산\n",
    "from sklearn.feature_extraction.text import CountVectorizer\n",
    "from sklearn.feature_extraction.text import TfidfTransformer\n",
    "from sklearn.metrics import classification_report\n",
    "from sklearn.metrics import confusion_matrix"
   ]
  },
  {
   "cell_type": "code",
   "execution_count": 7,
   "id": "77140484",
   "metadata": {},
   "outputs": [],
   "source": [
    "#DTM\n",
    "dtmvector = CountVectorizer()\n",
    "#TF-IDF\n",
    "tfidf_transformer = TfidfTransformer()"
   ]
  },
  {
   "cell_type": "code",
   "execution_count": 2,
   "id": "95e26cdc",
   "metadata": {},
   "outputs": [],
   "source": [
    "# word index\n",
    "word_index = reuters.get_word_index(path=\"reuters_word_index.json\")\n",
    "\n",
    "#<pad>, <sos>, <unk>\n",
    "index_to_word = { index+3 : word for word, index in word_index.items() }\n",
    "# index_to_word에 숫자 0은 <pad>, 숫자 1은 <sos>, 숫자 2는 <unk>를 넣어줍니다.\n",
    "for index, token in enumerate((\"<pad>\", \"<sos>\", \"<unk>\")):\n",
    "    index_to_word[index]=token"
   ]
  },
  {
   "cell_type": "code",
   "execution_count": 19,
   "id": "27881c49",
   "metadata": {},
   "outputs": [],
   "source": [
    "## word_num별로 train, test를 가져오고, 단어장을 생성하는 함수\n",
    "\n",
    "vocab_sizes = [None, 5000, 10000, 15000]\n",
    "\n",
    "def decode_to_text( text ) :\n",
    "    decoded_text = []\n",
    "    for i in range(len( text)):\n",
    "        t = ' '.join([index_to_word[index] for index in text[i]])\n",
    "        decoded_text.append(t)\n",
    "    \n",
    "    return decoded_text\n",
    "\n",
    "\n",
    "def load_reuters_by_vocab_sizes():\n",
    "    \n",
    "    data_by_vocab = {}\n",
    "\n",
    "    for size in vocab_sizes:\n",
    "        (x_train, y_train), (x_test, y_test) = reuters.load_data(num_words=size, test_split=0.2)\n",
    "         \n",
    "        decoded_train = decode_to_text( x_train )\n",
    "        decoded_test = decode_to_text( x_test )\n",
    "        \n",
    "        # DTM으로 변환\n",
    "        dtm_train= dtmvector.fit_transform(decoded_train)\n",
    "        dtm_test = dtmvector.transform(decoded_test) \n",
    "        \n",
    "        #DTM을 TF-IDF 행렬로 변환\n",
    "        tfidfv_train = tfidf_transformer.fit_transform(dtm_train)\n",
    "        tfidfv_test = tfidf_transformer.transform(dtm_test) \n",
    "        \n",
    "        data_by_vocab[size] = {\n",
    "            'x_train': x_train,  #\n",
    "            'y_train': y_train,\n",
    "            'x_test': x_test, #\n",
    "            'y_test': y_test,\n",
    "            'decoded_train' : decoded_train, #\n",
    "            'decoded_test' : decoded_test,  #\n",
    "            'tfidfv_train' : tfidfv_train, \n",
    "            'tfidfv_test' : tfidfv_test\n",
    "        }\n",
    "\n",
    "    return data_by_vocab\n",
    "\n",
    "data_by_vocab = load_reuters_by_vocab_sizes()"
   ]
  },
  {
   "cell_type": "code",
   "execution_count": 20,
   "id": "109eaa0a",
   "metadata": {
    "scrolled": true
   },
   "outputs": [
    {
     "name": "stdout",
     "output_type": "stream",
     "text": [
      "dict_keys([None, 5000, 15000])\n",
      "Vocab Size: None\n",
      "  - 훈련 데이터 크기 (행, 열): (8982, 26506)\n",
      "  - 훈련 데이터 문서 수: 8982\n",
      "  - 테스트 데이터 크기 (행, 열): (2246, 26506)\n",
      "  - 테스트 데이터 문서 수: 2246\n",
      "----------------------------------------\n",
      "Vocab Size: 5000\n",
      "  - 훈련 데이터 크기 (행, 열): (8982, 4867)\n",
      "  - 훈련 데이터 문서 수: 8982\n",
      "  - 테스트 데이터 크기 (행, 열): (2246, 4867)\n",
      "  - 테스트 데이터 문서 수: 2246\n",
      "----------------------------------------\n",
      "Vocab Size: 15000\n",
      "  - 훈련 데이터 크기 (행, 열): (8982, 14227)\n",
      "  - 훈련 데이터 문서 수: 8982\n",
      "  - 테스트 데이터 크기 (행, 열): (2246, 14227)\n",
      "  - 테스트 데이터 문서 수: 2246\n",
      "----------------------------------------\n"
     ]
    }
   ],
   "source": [
    "print(data_by_vocab.keys())\n",
    "\n",
    "def summarize_data_structure(data_by_vocab):\n",
    "    \"\"\"\n",
    "    data_by_vocab의 구조를 요약해서 자동으로 출력하는 함수.\n",
    "    각 vocab_size에 대해 훈련 데이터와 테스트 데이터의 크기 및 희소 행렬의 형태를 출력합니다.\n",
    "    \"\"\"\n",
    "    for vocab_size, data in data_by_vocab.items():\n",
    "        print(f\"Vocab Size: {vocab_size}\")\n",
    "        \n",
    "        # 훈련 데이터 크기\n",
    "        train_data = data.get('tfidfv_train', None)\n",
    "        if train_data is not None:\n",
    "            print(f\"  - 훈련 데이터 크기 (행, 열): {train_data.shape}\")\n",
    "            print(f\"  - 훈련 데이터 문서 수: {train_data.shape[0]}\")\n",
    "        \n",
    "        # 테스트 데이터 크기\n",
    "        test_data = data.get('tfidfv_test', None)\n",
    "        if test_data is not None:\n",
    "            print(f\"  - 테스트 데이터 크기 (행, 열): {test_data.shape}\")\n",
    "            print(f\"  - 테스트 데이터 문서 수: {test_data.shape[0]}\")\n",
    "        \n",
    "        print(\"-\" * 40)\n",
    "\n",
    "# 예시 사용법\n",
    "summarize_data_structure(data_by_vocab)"
   ]
  },
  {
   "cell_type": "code",
   "execution_count": 27,
   "id": "9d2d571f",
   "metadata": {},
   "outputs": [
    {
     "name": "stdout",
     "output_type": "stream",
     "text": [
      "== ModelName: MultinomialNB, Vocab Size: None\n",
      "정확도: 0.5997328584149599\n",
      "F1-Score: 0.5045670886188423\n",
      "== ModelName: MultinomialNB, Vocab Size: 5000\n",
      "정확도: 0.6731967943009796\n",
      "F1-Score: 0.6012501291711391\n",
      "== ModelName: MultinomialNB, Vocab Size: 15000\n",
      "정확도: 0.6331255565449688\n",
      "F1-Score: 0.5498212868794679\n",
      "== ModelName: ComplementNB, Vocab Size: None\n",
      "정확도: 0.7649154051647373\n",
      "F1-Score: 0.7346534179503126\n",
      "== ModelName: ComplementNB, Vocab Size: 5000\n",
      "정확도: 0.7707034728406055\n",
      "F1-Score: 0.7458990404916549\n",
      "== ModelName: ComplementNB, Vocab Size: 15000\n",
      "정확도: 0.7720391807658059\n",
      "F1-Score: 0.7448186439256785\n",
      "{'model': 'MultinomialNB', 'vocab_size': None, 'val_accuracy': 0.5997, 'f1_score': 0.5046}\n",
      "{'model': 'MultinomialNB', 'vocab_size': 5000, 'val_accuracy': 0.6732, 'f1_score': 0.6013}\n",
      "{'model': 'MultinomialNB', 'vocab_size': 15000, 'val_accuracy': 0.6331, 'f1_score': 0.5498}\n",
      "{'model': 'ComplementNB', 'vocab_size': None, 'val_accuracy': 0.7649, 'f1_score': 0.7347}\n",
      "{'model': 'ComplementNB', 'vocab_size': 5000, 'val_accuracy': 0.7707, 'f1_score': 0.7459}\n",
      "{'model': 'ComplementNB', 'vocab_size': 15000, 'val_accuracy': 0.772, 'f1_score': 0.7448}\n"
     ]
    }
   ],
   "source": [
    "test_results = []\n",
    "\n",
    "ml_model_list = [\"MultinomialNB\", \n",
    "                 \"ComplementNB\"]\n",
    "\n",
    "def ML_ModelTest() :\n",
    "   for model_name in ml_model_list: \n",
    "       for vocab_size, data in data_by_vocab.items():\n",
    "            \n",
    "            print(f\"== ModelName: {model_name}, Vocab Size: {vocab_size}\")\n",
    "        \n",
    "            tfidfv_train = data.get('tfidfv_train', None)\n",
    "            tfidfv_test = data.get('tfidfv_test', None)\n",
    "            y_train = data.get('y_train', None)\n",
    "            y_test = data.get('y_test', None)\n",
    "        \n",
    "            if tfidfv_train is not None and tfidfv_test is not None:\n",
    "                # 1. 나이브 베이즈 분류기\n",
    "                # 모델 네임별 처리 \n",
    "                if model_name == \"MultinomialNB\":\n",
    "                    model = MultinomialNB()\n",
    "                elif model_name == \"ComplementNB\":\n",
    "                    model = ComplementNB()\n",
    "                else:\n",
    "                    raise ValueError(f\"Unknown model name: {model_name}\")\n",
    "            \n",
    "                #훈련\n",
    "                model.fit(tfidfv_train, y_train) \n",
    "                #테스트 데이터에 대한 예측\n",
    "                predicted = model.predict(tfidfv_test) \n",
    "                #예측값과 실제값 비교\n",
    "                accuracy =  accuracy_score(y_test, predicted)\n",
    "                # 분류 성능 평가 (classification_report)\n",
    "                cr = classification_report(y_test, predicted, zero_division=0, output_dict=True)\n",
    "        \n",
    "                print(\"정확도:\", accuracy)\n",
    "                print(\"F1-Score:\", cr['weighted avg']['f1-score'])\n",
    "        \n",
    "        \n",
    "                test_results.append({\n",
    "                    'model': model_name, \n",
    "                    'vocab_size': vocab_size,\n",
    "                    'val_accuracy': round(accuracy, 4),\n",
    "                    'f1_score': round(cr['weighted avg']['f1-score'], 4)\n",
    "                })\n",
    "\n",
    "ML_ModelTest()\n",
    "            \n",
    "# 결과 출력\n",
    "for result in test_results:\n",
    "    print(result)     "
   ]
  }
 ],
 "metadata": {
  "kernelspec": {
   "display_name": "Python 3 (ipykernel)",
   "language": "python",
   "name": "python3"
  },
  "language_info": {
   "codemirror_mode": {
    "name": "ipython",
    "version": 3
   },
   "file_extension": ".py",
   "mimetype": "text/x-python",
   "name": "python",
   "nbconvert_exporter": "python",
   "pygments_lexer": "ipython3",
   "version": "3.9.7"
  }
 },
 "nbformat": 4,
 "nbformat_minor": 5
}
